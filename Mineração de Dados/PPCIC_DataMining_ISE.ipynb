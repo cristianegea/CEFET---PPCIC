{
 "cells": [
  {
   "cell_type": "markdown",
   "metadata": {},
   "source": [
    "**Análise - Índice de Sustentabilidade Empresarial**"
   ]
  },
  {
   "cell_type": "markdown",
   "metadata": {},
   "source": [
    "**Variáveis Utilizadas**:\n",
    "\n",
    "* **close**: preço de fechamento da ação\n",
    "\n",
    "* **avg10**: média móvel de 10 dias (indicador de tendência do comportamento do preço da ação no período de 10 dias).\n",
    "\n",
    "* **avg20**: média móvel de 20 dias (indicador de tendência do comportamento do preço da ação no período de 20 dias).\n",
    "\n",
    "* **std10**: desvio padrão de 10 dias (indicador de volatilidade do comportamento do preço da ação no período de 10 dias).\n",
    "\n",
    "* **std20**: desvio padrão de 20 dias (indicador de volatilidade do comportamento do preço da ação no período de 20 dias).\n",
    "\n",
    "* **rsi14**: índice de força relativa de 14 dias (indicador de momento => sinaliza a velocidade com que os preços se alteram no período de 14 dias). Mostra o enfraquecimento e até reversão de uma tendência durante 14 dias. Funciona com uma linha entre 0 e 100. Quanto mais próximo de 100, mais força está perdendo a força compradora.\n",
    "\n",
    "* **rsi5**: índice de força relativa de 5 dias (indicador de momento => sinaliza a velocidade com que os preços se alteram no período de 5 dias).\n",
    "\n",
    "* **macd1226**: média móvel convergente divergente (indicador de tendências significativas a curto prazo). Corresponde à diferença entre média móvel de 12 dias (média de movimentações mais rápidas) e média móvel de 26 dias (média de movimentações mais lentas). Mostra o ganho entre a divergência entre as médias móveis.\n",
    "\n",
    "* **signal9**: média movel exponencial do macd1226 no período de 9 dias (ajuda a identificar reversões de tendência e marcar os pontos ideais de entrada e saída).\n",
    "\n",
    "* **histogram9**: diferença entre a linha de macd1226 e a linha de signal9 (representação gráfica da convergência e da divergência das linhas macd1226 e signal9).\n",
    "\n",
    "* **macd0720**: média móvel convergente divergente (indicador de tendências significativas a curto prazo). Corresponde à diferença entre média móvel de 7 dias (média de movimentações mais rápidas) e média móvel de 20 dias (média de movimentações mais lentas). Mostra o ganho entre a divergência entre as médias móveis.\n",
    "\n",
    "* **signal5**: média movel exponencial do macd0720 no período de 5 dias (ajuda a identificar reversões de tendência e marcar os pontos ideais de entrada e saída).\n",
    "\n",
    "* **histogram5**: diferença entre a linha de macd0720 e a linha de signal5 (representação gráfica da convergência e da divergência das linhas macd0720 e signal5).\n",
    "\n",
    "* **bbands**: Bandas de Bollinger (indicador de volatilidade). As bandas são derivadas das médias móveis e mostram que, independente de qualquer movimento que o preço faça, ele tende a voltar a um equilíbrio. \n",
    "\n",
    "Uma linha MACD de valor positivo indica que a MME menor está acima da MME maior. Quanto mais distante a MME menor estiver da maior, maior será o aumento no valor positivo da linha MACD. Isso é um sinal de um momentum de alta crescente. Por outro lado, um MACD negativo indica que a MME menor está abaixo da maior. Mais uma vez, os valores negativos aumentam à medida em que as duas linhas divergem ainda mais. Nesse caso, temos um momentum de baixa crescente."
   ]
  },
  {
   "cell_type": "markdown",
   "metadata": {},
   "source": [
    "# Etapa 1: Overview"
   ]
  },
  {
   "cell_type": "markdown",
   "metadata": {},
   "source": [
    "## 1. Importação dos dados"
   ]
  },
  {
   "cell_type": "code",
   "execution_count": 1,
   "metadata": {},
   "outputs": [],
   "source": [
    "# Biblioteca(s) Necessária(s)\n",
    "library(readxl)"
   ]
  },
  {
   "cell_type": "code",
   "execution_count": 2,
   "metadata": {},
   "outputs": [
    {
     "name": "stdout",
     "output_type": "stream",
     "text": [
      "# A tibble: 3,756 x 15\n",
      "   data                close avg10 avg20 std10 std20 rsi14  rsi5 macd1226\n",
      "   <dttm>              <dbl> <dbl> <dbl> <dbl> <dbl> <dbl> <dbl>    <dbl>\n",
      " 1 2005-12-02 00:00:00  1026   NA     NA  NA      NA    NA  NA         NA\n",
      " 2 2005-12-05 00:00:00  1033   NA     NA  NA      NA    NA  NA         NA\n",
      " 3 2005-12-06 00:00:00  1056   NA     NA  NA      NA    NA  NA         NA\n",
      " 4 2005-12-07 00:00:00  1037   NA     NA  NA      NA    NA  NA         NA\n",
      " 5 2005-12-08 00:00:00  1010   NA     NA  NA      NA    NA  NA         NA\n",
      " 6 2005-12-09 00:00:00  1012   NA     NA  NA      NA    NA  41.0       NA\n",
      " 7 2005-12-12 00:00:00  1019   NA     NA  NA      NA    NA  41.0       NA\n",
      " 8 2005-12-13 00:00:00  1024   NA     NA  NA      NA    NA  23.3       NA\n",
      " 9 2005-12-14 00:00:00  1026   NA     NA  NA      NA    NA  37.2       NA\n",
      "10 2005-12-15 00:00:00  1022 1026.    NA  13.3    NA    NA  80         NA\n",
      "# ... with 3,746 more rows, and 6 more variables: signal9 <dbl>,\n",
      "#   histogram9 <dbl>, macd0720 <dbl>, signal5 <dbl>, histogram5 <dbl>,\n",
      "#   bbands <dbl>\n"
     ]
    }
   ],
   "source": [
    "# Dados do Índice de Sustentabilidade Empresarial\n",
    "ise <- read_excel(\"ise.xlsx\",\n",
    "                   col_types = c(\"date\", \"numeric\", \"numeric\", \"numeric\", \"numeric\", \"numeric\",\n",
    "                                 \"numeric\", \"numeric\", \"numeric\", \"numeric\", \"numeric\", \"numeric\",\n",
    "                                 \"numeric\", \"numeric\", \"numeric\"))\n",
    "print(ise)"
   ]
  },
  {
   "cell_type": "code",
   "execution_count": 3,
   "metadata": {},
   "outputs": [],
   "source": [
    "# Fixação do conjunto de dados\n",
    "attach(ise)"
   ]
  },
  {
   "cell_type": "markdown",
   "metadata": {},
   "source": [
    "## 2. Análise inicial do dataframe"
   ]
  },
  {
   "cell_type": "markdown",
   "metadata": {},
   "source": [
    "**Análise do tipo dos dados do dataframe \"bvsp\"**"
   ]
  },
  {
   "cell_type": "code",
   "execution_count": 4,
   "metadata": {},
   "outputs": [
    {
     "name": "stdout",
     "output_type": "stream",
     "text": [
      "tibble [3,756 x 15] (S3: tbl_df/tbl/data.frame)\n",
      " $ data      : POSIXct[1:3756], format: \"2005-12-02\" \"2005-12-05\" ...\n",
      " $ close     : num [1:3756] 1026 1033 1056 1037 1010 ...\n",
      " $ avg10     : num [1:3756] NA NA NA NA NA ...\n",
      " $ avg20     : num [1:3756] NA NA NA NA NA NA NA NA NA NA ...\n",
      " $ std10     : num [1:3756] NA NA NA NA NA ...\n",
      " $ std20     : num [1:3756] NA NA NA NA NA NA NA NA NA NA ...\n",
      " $ rsi14     : num [1:3756] NA NA NA NA NA NA NA NA NA NA ...\n",
      " $ rsi5      : num [1:3756] NA NA NA NA NA ...\n",
      " $ macd1226  : num [1:3756] NA NA NA NA NA NA NA NA NA NA ...\n",
      " $ signal9   : num [1:3756] NA NA NA NA NA NA NA NA NA NA ...\n",
      " $ histogram9: num [1:3756] NA NA NA NA NA NA NA NA NA NA ...\n",
      " $ macd0720  : num [1:3756] NA NA NA NA NA NA NA NA NA NA ...\n",
      " $ signal5   : num [1:3756] NA NA NA NA NA NA NA NA NA NA ...\n",
      " $ histogram5: num [1:3756] NA NA NA NA NA NA NA NA NA NA ...\n",
      " $ bbands    : num [1:3756] NA NA NA NA NA NA NA NA NA NA ...\n"
     ]
    }
   ],
   "source": [
    "str(ise)"
   ]
  },
  {
   "cell_type": "markdown",
   "metadata": {},
   "source": [
    "Em todos os casos, o atributo \"Data\" é do tipo data e os demais atributos são do tipo numérico."
   ]
  },
  {
   "cell_type": "markdown",
   "metadata": {},
   "source": [
    "**Análise da dimensão dos dataframes**"
   ]
  },
  {
   "cell_type": "code",
   "execution_count": 5,
   "metadata": {},
   "outputs": [
    {
     "data": {
      "text/html": [
       "<ol class=list-inline>\n",
       "\t<li>3756</li>\n",
       "\t<li>15</li>\n",
       "</ol>\n"
      ],
      "text/latex": [
       "\\begin{enumerate*}\n",
       "\\item 3756\n",
       "\\item 15\n",
       "\\end{enumerate*}\n"
      ],
      "text/markdown": [
       "1. 3756\n",
       "2. 15\n",
       "\n",
       "\n"
      ],
      "text/plain": [
       "[1] 3756   15"
      ]
     },
     "metadata": {},
     "output_type": "display_data"
    }
   ],
   "source": [
    "dim(ise)\n",
    "\n",
    "# 3756 linhas e 15 colunas"
   ]
  },
  {
   "cell_type": "markdown",
   "metadata": {},
   "source": [
    "**Primeiras linhas dos dataframes**"
   ]
  },
  {
   "cell_type": "code",
   "execution_count": 6,
   "metadata": {},
   "outputs": [
    {
     "data": {
      "text/html": [
       "<table>\n",
       "<thead><tr><th scope=col>data</th><th scope=col>close</th><th scope=col>avg10</th><th scope=col>avg20</th><th scope=col>std10</th><th scope=col>std20</th><th scope=col>rsi14</th><th scope=col>rsi5</th><th scope=col>macd1226</th><th scope=col>signal9</th><th scope=col>histogram9</th><th scope=col>macd0720</th><th scope=col>signal5</th><th scope=col>histogram5</th><th scope=col>bbands</th></tr></thead>\n",
       "<tbody>\n",
       "\t<tr><td>2005-12-02</td><td>1026      </td><td>NA        </td><td>NA        </td><td>NA        </td><td>NA        </td><td>NA        </td><td>      NA  </td><td>NA        </td><td>NA        </td><td>NA        </td><td>NA        </td><td>NA        </td><td>NA        </td><td>NA        </td></tr>\n",
       "\t<tr><td>2005-12-05</td><td>1033      </td><td>NA        </td><td>NA        </td><td>NA        </td><td>NA        </td><td>NA        </td><td>      NA  </td><td>NA        </td><td>NA        </td><td>NA        </td><td>NA        </td><td>NA        </td><td>NA        </td><td>NA        </td></tr>\n",
       "\t<tr><td>2005-12-06</td><td>1056      </td><td>NA        </td><td>NA        </td><td>NA        </td><td>NA        </td><td>NA        </td><td>      NA  </td><td>NA        </td><td>NA        </td><td>NA        </td><td>NA        </td><td>NA        </td><td>NA        </td><td>NA        </td></tr>\n",
       "\t<tr><td>2005-12-07</td><td>1037      </td><td>NA        </td><td>NA        </td><td>NA        </td><td>NA        </td><td>NA        </td><td>      NA  </td><td>NA        </td><td>NA        </td><td>NA        </td><td>NA        </td><td>NA        </td><td>NA        </td><td>NA        </td></tr>\n",
       "\t<tr><td>2005-12-08</td><td>1010      </td><td>NA        </td><td>NA        </td><td>NA        </td><td>NA        </td><td>NA        </td><td>      NA  </td><td>NA        </td><td>NA        </td><td>NA        </td><td>NA        </td><td>NA        </td><td>NA        </td><td>NA        </td></tr>\n",
       "\t<tr><td>2005-12-09</td><td>1012      </td><td>NA        </td><td>NA        </td><td>NA        </td><td>NA        </td><td>NA        </td><td>41.02564  </td><td>NA        </td><td>NA        </td><td>NA        </td><td>NA        </td><td>NA        </td><td>NA        </td><td>NA        </td></tr>\n",
       "</tbody>\n",
       "</table>\n"
      ],
      "text/latex": [
       "\\begin{tabular}{r|lllllllllllllll}\n",
       " data & close & avg10 & avg20 & std10 & std20 & rsi14 & rsi5 & macd1226 & signal9 & histogram9 & macd0720 & signal5 & histogram5 & bbands\\\\\n",
       "\\hline\n",
       "\t 2005-12-02 & 1026       & NA         & NA         & NA         & NA         & NA         &       NA   & NA         & NA         & NA         & NA         & NA         & NA         & NA        \\\\\n",
       "\t 2005-12-05 & 1033       & NA         & NA         & NA         & NA         & NA         &       NA   & NA         & NA         & NA         & NA         & NA         & NA         & NA        \\\\\n",
       "\t 2005-12-06 & 1056       & NA         & NA         & NA         & NA         & NA         &       NA   & NA         & NA         & NA         & NA         & NA         & NA         & NA        \\\\\n",
       "\t 2005-12-07 & 1037       & NA         & NA         & NA         & NA         & NA         &       NA   & NA         & NA         & NA         & NA         & NA         & NA         & NA        \\\\\n",
       "\t 2005-12-08 & 1010       & NA         & NA         & NA         & NA         & NA         &       NA   & NA         & NA         & NA         & NA         & NA         & NA         & NA        \\\\\n",
       "\t 2005-12-09 & 1012       & NA         & NA         & NA         & NA         & NA         & 41.02564   & NA         & NA         & NA         & NA         & NA         & NA         & NA        \\\\\n",
       "\\end{tabular}\n"
      ],
      "text/markdown": [
       "\n",
       "| data | close | avg10 | avg20 | std10 | std20 | rsi14 | rsi5 | macd1226 | signal9 | histogram9 | macd0720 | signal5 | histogram5 | bbands |\n",
       "|---|---|---|---|---|---|---|---|---|---|---|---|---|---|---|\n",
       "| 2005-12-02 | 1026       | NA         | NA         | NA         | NA         | NA         |       NA   | NA         | NA         | NA         | NA         | NA         | NA         | NA         |\n",
       "| 2005-12-05 | 1033       | NA         | NA         | NA         | NA         | NA         |       NA   | NA         | NA         | NA         | NA         | NA         | NA         | NA         |\n",
       "| 2005-12-06 | 1056       | NA         | NA         | NA         | NA         | NA         |       NA   | NA         | NA         | NA         | NA         | NA         | NA         | NA         |\n",
       "| 2005-12-07 | 1037       | NA         | NA         | NA         | NA         | NA         |       NA   | NA         | NA         | NA         | NA         | NA         | NA         | NA         |\n",
       "| 2005-12-08 | 1010       | NA         | NA         | NA         | NA         | NA         |       NA   | NA         | NA         | NA         | NA         | NA         | NA         | NA         |\n",
       "| 2005-12-09 | 1012       | NA         | NA         | NA         | NA         | NA         | 41.02564   | NA         | NA         | NA         | NA         | NA         | NA         | NA         |\n",
       "\n"
      ],
      "text/plain": [
       "  data       close avg10 avg20 std10 std20 rsi14 rsi5     macd1226 signal9\n",
       "1 2005-12-02 1026  NA    NA    NA    NA    NA          NA NA       NA     \n",
       "2 2005-12-05 1033  NA    NA    NA    NA    NA          NA NA       NA     \n",
       "3 2005-12-06 1056  NA    NA    NA    NA    NA          NA NA       NA     \n",
       "4 2005-12-07 1037  NA    NA    NA    NA    NA          NA NA       NA     \n",
       "5 2005-12-08 1010  NA    NA    NA    NA    NA          NA NA       NA     \n",
       "6 2005-12-09 1012  NA    NA    NA    NA    NA    41.02564 NA       NA     \n",
       "  histogram9 macd0720 signal5 histogram5 bbands\n",
       "1 NA         NA       NA      NA         NA    \n",
       "2 NA         NA       NA      NA         NA    \n",
       "3 NA         NA       NA      NA         NA    \n",
       "4 NA         NA       NA      NA         NA    \n",
       "5 NA         NA       NA      NA         NA    \n",
       "6 NA         NA       NA      NA         NA    "
      ]
     },
     "metadata": {},
     "output_type": "display_data"
    }
   ],
   "source": [
    "head(ise)\n",
    "\n",
    "# início dos dados: 02/12/2005"
   ]
  },
  {
   "cell_type": "markdown",
   "metadata": {},
   "source": [
    "**Últimas linhas dos dataframes**"
   ]
  },
  {
   "cell_type": "code",
   "execution_count": 7,
   "metadata": {},
   "outputs": [
    {
     "data": {
      "text/html": [
       "<table>\n",
       "<thead><tr><th scope=col>data</th><th scope=col>close</th><th scope=col>avg10</th><th scope=col>avg20</th><th scope=col>std10</th><th scope=col>std20</th><th scope=col>rsi14</th><th scope=col>rsi5</th><th scope=col>macd1226</th><th scope=col>signal9</th><th scope=col>histogram9</th><th scope=col>macd0720</th><th scope=col>signal5</th><th scope=col>histogram5</th><th scope=col>bbands</th></tr></thead>\n",
       "<tbody>\n",
       "\t<tr><td>2020-12-21</td><td>4024.87   </td><td>4039.915  </td><td>3991.836  </td><td>58.91257  </td><td>66.20845  </td><td>61.48482  </td><td> 52.67093 </td><td>52.84626  </td><td>45.26021  </td><td>7.586056  </td><td>54.54811  </td><td>58.85150  </td><td> -4.303389</td><td>264.8338  </td></tr>\n",
       "\t<tr><td>2020-12-22</td><td>4042.14   </td><td>4045.399  </td><td>3997.152  </td><td>55.94848  </td><td>65.74032  </td><td>62.46381  </td><td> 44.24281 </td><td>49.50446  </td><td>46.92218  </td><td>2.582277  </td><td>46.97653  </td><td>59.00544  </td><td>-12.028916</td><td>262.9613  </td></tr>\n",
       "\t<tr><td>2020-12-23</td><td>4089.96   </td><td>4058.865  </td><td>4004.287  </td><td>47.40676  </td><td>67.75341  </td><td>64.61595  </td><td> 43.81350 </td><td>50.13678  </td><td>48.55040  </td><td>1.586381  </td><td>48.12089  </td><td>56.98877  </td><td> -8.867882</td><td>271.0136  </td></tr>\n",
       "\t<tr><td>2020-12-28</td><td>4151.07   </td><td>4074.688  </td><td>4014.712  </td><td>49.28984  </td><td>73.55006  </td><td>68.57166  </td><td> 54.56589 </td><td>54.93570  </td><td>50.44703  </td><td>4.488669  </td><td>57.20918  </td><td>54.91715  </td><td>  2.292030</td><td>294.2002  </td></tr>\n",
       "\t<tr><td>2020-12-29</td><td>4152.97   </td><td>4088.126  </td><td>4024.222  </td><td>50.59720  </td><td>78.60330  </td><td>70.17727  </td><td> 62.92367 </td><td>58.22106  </td><td>52.59865  </td><td>5.622411  </td><td>62.30816  </td><td>53.83257  </td><td>  8.475589</td><td>314.4132  </td></tr>\n",
       "\t<tr><td>2020-12-30</td><td>4153.31   </td><td>4102.156  </td><td>4037.827  </td><td>46.76040  </td><td>76.05524  </td><td>68.39120  </td><td>100.00000 </td><td>60.15869  </td><td>54.47799  </td><td>5.680697  </td><td>64.33728  </td><td>55.79041  </td><td>  8.546871</td><td>304.2210  </td></tr>\n",
       "</tbody>\n",
       "</table>\n"
      ],
      "text/latex": [
       "\\begin{tabular}{r|lllllllllllllll}\n",
       " data & close & avg10 & avg20 & std10 & std20 & rsi14 & rsi5 & macd1226 & signal9 & histogram9 & macd0720 & signal5 & histogram5 & bbands\\\\\n",
       "\\hline\n",
       "\t 2020-12-21 & 4024.87    & 4039.915   & 3991.836   & 58.91257   & 66.20845   & 61.48482   &  52.67093  & 52.84626   & 45.26021   & 7.586056   & 54.54811   & 58.85150   &  -4.303389 & 264.8338  \\\\\n",
       "\t 2020-12-22 & 4042.14    & 4045.399   & 3997.152   & 55.94848   & 65.74032   & 62.46381   &  44.24281  & 49.50446   & 46.92218   & 2.582277   & 46.97653   & 59.00544   & -12.028916 & 262.9613  \\\\\n",
       "\t 2020-12-23 & 4089.96    & 4058.865   & 4004.287   & 47.40676   & 67.75341   & 64.61595   &  43.81350  & 50.13678   & 48.55040   & 1.586381   & 48.12089   & 56.98877   &  -8.867882 & 271.0136  \\\\\n",
       "\t 2020-12-28 & 4151.07    & 4074.688   & 4014.712   & 49.28984   & 73.55006   & 68.57166   &  54.56589  & 54.93570   & 50.44703   & 4.488669   & 57.20918   & 54.91715   &   2.292030 & 294.2002  \\\\\n",
       "\t 2020-12-29 & 4152.97    & 4088.126   & 4024.222   & 50.59720   & 78.60330   & 70.17727   &  62.92367  & 58.22106   & 52.59865   & 5.622411   & 62.30816   & 53.83257   &   8.475589 & 314.4132  \\\\\n",
       "\t 2020-12-30 & 4153.31    & 4102.156   & 4037.827   & 46.76040   & 76.05524   & 68.39120   & 100.00000  & 60.15869   & 54.47799   & 5.680697   & 64.33728   & 55.79041   &   8.546871 & 304.2210  \\\\\n",
       "\\end{tabular}\n"
      ],
      "text/markdown": [
       "\n",
       "| data | close | avg10 | avg20 | std10 | std20 | rsi14 | rsi5 | macd1226 | signal9 | histogram9 | macd0720 | signal5 | histogram5 | bbands |\n",
       "|---|---|---|---|---|---|---|---|---|---|---|---|---|---|---|\n",
       "| 2020-12-21 | 4024.87    | 4039.915   | 3991.836   | 58.91257   | 66.20845   | 61.48482   |  52.67093  | 52.84626   | 45.26021   | 7.586056   | 54.54811   | 58.85150   |  -4.303389 | 264.8338   |\n",
       "| 2020-12-22 | 4042.14    | 4045.399   | 3997.152   | 55.94848   | 65.74032   | 62.46381   |  44.24281  | 49.50446   | 46.92218   | 2.582277   | 46.97653   | 59.00544   | -12.028916 | 262.9613   |\n",
       "| 2020-12-23 | 4089.96    | 4058.865   | 4004.287   | 47.40676   | 67.75341   | 64.61595   |  43.81350  | 50.13678   | 48.55040   | 1.586381   | 48.12089   | 56.98877   |  -8.867882 | 271.0136   |\n",
       "| 2020-12-28 | 4151.07    | 4074.688   | 4014.712   | 49.28984   | 73.55006   | 68.57166   |  54.56589  | 54.93570   | 50.44703   | 4.488669   | 57.20918   | 54.91715   |   2.292030 | 294.2002   |\n",
       "| 2020-12-29 | 4152.97    | 4088.126   | 4024.222   | 50.59720   | 78.60330   | 70.17727   |  62.92367  | 58.22106   | 52.59865   | 5.622411   | 62.30816   | 53.83257   |   8.475589 | 314.4132   |\n",
       "| 2020-12-30 | 4153.31    | 4102.156   | 4037.827   | 46.76040   | 76.05524   | 68.39120   | 100.00000  | 60.15869   | 54.47799   | 5.680697   | 64.33728   | 55.79041   |   8.546871 | 304.2210   |\n",
       "\n"
      ],
      "text/plain": [
       "  data       close   avg10    avg20    std10    std20    rsi14    rsi5     \n",
       "1 2020-12-21 4024.87 4039.915 3991.836 58.91257 66.20845 61.48482  52.67093\n",
       "2 2020-12-22 4042.14 4045.399 3997.152 55.94848 65.74032 62.46381  44.24281\n",
       "3 2020-12-23 4089.96 4058.865 4004.287 47.40676 67.75341 64.61595  43.81350\n",
       "4 2020-12-28 4151.07 4074.688 4014.712 49.28984 73.55006 68.57166  54.56589\n",
       "5 2020-12-29 4152.97 4088.126 4024.222 50.59720 78.60330 70.17727  62.92367\n",
       "6 2020-12-30 4153.31 4102.156 4037.827 46.76040 76.05524 68.39120 100.00000\n",
       "  macd1226 signal9  histogram9 macd0720 signal5  histogram5 bbands  \n",
       "1 52.84626 45.26021 7.586056   54.54811 58.85150  -4.303389 264.8338\n",
       "2 49.50446 46.92218 2.582277   46.97653 59.00544 -12.028916 262.9613\n",
       "3 50.13678 48.55040 1.586381   48.12089 56.98877  -8.867882 271.0136\n",
       "4 54.93570 50.44703 4.488669   57.20918 54.91715   2.292030 294.2002\n",
       "5 58.22106 52.59865 5.622411   62.30816 53.83257   8.475589 314.4132\n",
       "6 60.15869 54.47799 5.680697   64.33728 55.79041   8.546871 304.2210"
      ]
     },
     "metadata": {},
     "output_type": "display_data"
    }
   ],
   "source": [
    "tail(ise)\n",
    "\n",
    "# término dos dados: 30/12/2020"
   ]
  },
  {
   "cell_type": "markdown",
   "metadata": {},
   "source": [
    "**Identificação de *missing values***"
   ]
  },
  {
   "cell_type": "code",
   "execution_count": 8,
   "metadata": {},
   "outputs": [
    {
     "data": {
      "text/plain": [
       "\n",
       "FALSE  TRUE \n",
       "56072   268 "
      ]
     },
     "metadata": {},
     "output_type": "display_data"
    }
   ],
   "source": [
    "table(is.na(ise))\n",
    "\n",
    "# 268 missing values"
   ]
  },
  {
   "cell_type": "markdown",
   "metadata": {},
   "source": [
    "## 3. Conhecendo melhor as variáveis de interesse"
   ]
  },
  {
   "cell_type": "code",
   "execution_count": 9,
   "metadata": {},
   "outputs": [
    {
     "name": "stderr",
     "output_type": "stream",
     "text": [
      "Warning message:\n",
      "\"package 'dplyr' was built under R version 3.6.3\"\n",
      "Attaching package: 'dplyr'\n",
      "\n",
      "The following objects are masked from 'package:stats':\n",
      "\n",
      "    filter, lag\n",
      "\n",
      "The following objects are masked from 'package:base':\n",
      "\n",
      "    intersect, setdiff, setequal, union\n",
      "\n",
      "Registered S3 methods overwritten by 'ggplot2':\n",
      "  method         from \n",
      "  [.quosures     rlang\n",
      "  c.quosures     rlang\n",
      "  print.quosures rlang\n"
     ]
    }
   ],
   "source": [
    "# Biblioteca(s) Necessária(s)\n",
    "library(dplyr)\n",
    "library(ggplot2)"
   ]
  },
  {
   "cell_type": "code",
   "execution_count": 10,
   "metadata": {},
   "outputs": [
    {
     "data": {
      "image/png": "[encoded data removed]",
      "text/plain": [
       "plot without title"
      ]
     },
     "metadata": {},
     "output_type": "display_data"
    }
   ],
   "source": [
    "Data <- ise$data\n",
    "Close <- ise$close\n",
    "\n",
    "ise %>%\n",
    "    ggplot() + \n",
    "    geom_line(aes(x = Data, y = Close)) +\n",
    "    ggtitle(\"Gráfico dos preços de fechamento - Índice de Sustentabilidade Empresarial\")"
   ]
  },
  {
   "cell_type": "markdown",
   "metadata": {},
   "source": [
    "# Etapa 2: Construção da série de direção do atributo \"close\""
   ]
  },
  {
   "cell_type": "code",
   "execution_count": 11,
   "metadata": {},
   "outputs": [
    {
     "name": "stderr",
     "output_type": "stream",
     "text": [
      "Loading required package: xts\n",
      "Loading required package: zoo\n",
      "\n",
      "Attaching package: 'zoo'\n",
      "\n",
      "The following objects are masked from 'package:base':\n",
      "\n",
      "    as.Date, as.Date.numeric\n",
      "\n",
      "Registered S3 method overwritten by 'xts':\n",
      "  method     from\n",
      "  as.zoo.xts zoo \n",
      "\n",
      "Attaching package: 'xts'\n",
      "\n",
      "The following objects are masked from 'package:dplyr':\n",
      "\n",
      "    first, last\n",
      "\n",
      "Loading required package: TTR\n",
      "Registered S3 method overwritten by 'quantmod':\n",
      "  method            from\n",
      "  as.zoo.data.frame zoo \n",
      "Version 0.4-0 included new data defaults. See ?getSymbols.\n"
     ]
    }
   ],
   "source": [
    "# Biblioteca(s) Necessária(s)\n",
    "library(quantmod)"
   ]
  },
  {
   "cell_type": "markdown",
   "metadata": {},
   "source": [
    "**Direção da Variável Preço:**\n",
    "\n",
    "* 1 = up (aumento do preço da ação)\n",
    "\n",
    "* 0 = down (redução do preço da ação)"
   ]
  },
  {
   "cell_type": "code",
   "execution_count": 12,
   "metadata": {},
   "outputs": [],
   "source": [
    "direction <- NULL\n",
    "\n",
    "# Direção = Up quando preço atual > preço anterior de 20 dias\n",
    "direction[ise$close > lag(ise$close, 20)] <- 1\n",
    "\n",
    "# Direção = Up quando preço atual < preço anterior de 20 dias\n",
    "direction[ise$close < lag(ise$close, 20)] <- 0\n",
    "\n",
    "ise$direction <- direction"
   ]
  },
  {
   "cell_type": "code",
   "execution_count": 13,
   "metadata": {},
   "outputs": [
    {
     "data": {
      "text/html": [
       "<ol class=list-inline>\n",
       "\t<li>'data'</li>\n",
       "\t<li>'close'</li>\n",
       "\t<li>'avg10'</li>\n",
       "\t<li>'avg20'</li>\n",
       "\t<li>'std10'</li>\n",
       "\t<li>'std20'</li>\n",
       "\t<li>'rsi14'</li>\n",
       "\t<li>'rsi5'</li>\n",
       "\t<li>'macd1226'</li>\n",
       "\t<li>'signal9'</li>\n",
       "\t<li>'histogram9'</li>\n",
       "\t<li>'macd0720'</li>\n",
       "\t<li>'signal5'</li>\n",
       "\t<li>'histogram5'</li>\n",
       "\t<li>'bbands'</li>\n",
       "\t<li>'direction'</li>\n",
       "</ol>\n"
      ],
      "text/latex": [
       "\\begin{enumerate*}\n",
       "\\item 'data'\n",
       "\\item 'close'\n",
       "\\item 'avg10'\n",
       "\\item 'avg20'\n",
       "\\item 'std10'\n",
       "\\item 'std20'\n",
       "\\item 'rsi14'\n",
       "\\item 'rsi5'\n",
       "\\item 'macd1226'\n",
       "\\item 'signal9'\n",
       "\\item 'histogram9'\n",
       "\\item 'macd0720'\n",
       "\\item 'signal5'\n",
       "\\item 'histogram5'\n",
       "\\item 'bbands'\n",
       "\\item 'direction'\n",
       "\\end{enumerate*}\n"
      ],
      "text/markdown": [
       "1. 'data'\n",
       "2. 'close'\n",
       "3. 'avg10'\n",
       "4. 'avg20'\n",
       "5. 'std10'\n",
       "6. 'std20'\n",
       "7. 'rsi14'\n",
       "8. 'rsi5'\n",
       "9. 'macd1226'\n",
       "10. 'signal9'\n",
       "11. 'histogram9'\n",
       "12. 'macd0720'\n",
       "13. 'signal5'\n",
       "14. 'histogram5'\n",
       "15. 'bbands'\n",
       "16. 'direction'\n",
       "\n",
       "\n"
      ],
      "text/plain": [
       " [1] \"data\"       \"close\"      \"avg10\"      \"avg20\"      \"std10\"     \n",
       " [6] \"std20\"      \"rsi14\"      \"rsi5\"       \"macd1226\"   \"signal9\"   \n",
       "[11] \"histogram9\" \"macd0720\"   \"signal5\"    \"histogram5\" \"bbands\"    \n",
       "[16] \"direction\" "
      ]
     },
     "metadata": {},
     "output_type": "display_data"
    }
   ],
   "source": [
    "colnames(ise)"
   ]
  },
  {
   "cell_type": "markdown",
   "metadata": {},
   "source": [
    "**Direção do Retorno da Ação**:\n",
    "\n",
    "* \"up\" = aumento do retorno\n",
    "\n",
    "* \"down\" = redução do retorno\n",
    "\n",
    "* \"nowhere\" = nenhum dos casos anteriores"
   ]
  },
  {
   "cell_type": "code",
   "execution_count": 14,
   "metadata": {},
   "outputs": [],
   "source": [
    "lagret <- (ise$close - lag(ise$close, 20)) / lag(ise$close, 20)\n",
    "\n",
    "dirret <- NULL\n",
    "\n",
    "dirret[lagret < 0.02] <- \"down\"\n",
    "dirret[lagret > 0.02] <- \"up\"\n",
    "dirret[lagret < 0.02 & lagret > -0.02] <- \"nowhere\"\n",
    "\n",
    "ise$dirret <- dirret"
   ]
  },
  {
   "cell_type": "code",
   "execution_count": 15,
   "metadata": {},
   "outputs": [
    {
     "data": {
      "text/html": [
       "<ol class=list-inline>\n",
       "\t<li>'data'</li>\n",
       "\t<li>'close'</li>\n",
       "\t<li>'avg10'</li>\n",
       "\t<li>'avg20'</li>\n",
       "\t<li>'std10'</li>\n",
       "\t<li>'std20'</li>\n",
       "\t<li>'rsi14'</li>\n",
       "\t<li>'rsi5'</li>\n",
       "\t<li>'macd1226'</li>\n",
       "\t<li>'signal9'</li>\n",
       "\t<li>'histogram9'</li>\n",
       "\t<li>'macd0720'</li>\n",
       "\t<li>'signal5'</li>\n",
       "\t<li>'histogram5'</li>\n",
       "\t<li>'bbands'</li>\n",
       "\t<li>'direction'</li>\n",
       "\t<li>'dirret'</li>\n",
       "</ol>\n"
      ],
      "text/latex": [
       "\\begin{enumerate*}\n",
       "\\item 'data'\n",
       "\\item 'close'\n",
       "\\item 'avg10'\n",
       "\\item 'avg20'\n",
       "\\item 'std10'\n",
       "\\item 'std20'\n",
       "\\item 'rsi14'\n",
       "\\item 'rsi5'\n",
       "\\item 'macd1226'\n",
       "\\item 'signal9'\n",
       "\\item 'histogram9'\n",
       "\\item 'macd0720'\n",
       "\\item 'signal5'\n",
       "\\item 'histogram5'\n",
       "\\item 'bbands'\n",
       "\\item 'direction'\n",
       "\\item 'dirret'\n",
       "\\end{enumerate*}\n"
      ],
      "text/markdown": [
       "1. 'data'\n",
       "2. 'close'\n",
       "3. 'avg10'\n",
       "4. 'avg20'\n",
       "5. 'std10'\n",
       "6. 'std20'\n",
       "7. 'rsi14'\n",
       "8. 'rsi5'\n",
       "9. 'macd1226'\n",
       "10. 'signal9'\n",
       "11. 'histogram9'\n",
       "12. 'macd0720'\n",
       "13. 'signal5'\n",
       "14. 'histogram5'\n",
       "15. 'bbands'\n",
       "16. 'direction'\n",
       "17. 'dirret'\n",
       "\n",
       "\n"
      ],
      "text/plain": [
       " [1] \"data\"       \"close\"      \"avg10\"      \"avg20\"      \"std10\"     \n",
       " [6] \"std20\"      \"rsi14\"      \"rsi5\"       \"macd1226\"   \"signal9\"   \n",
       "[11] \"histogram9\" \"macd0720\"   \"signal5\"    \"histogram5\" \"bbands\"    \n",
       "[16] \"direction\"  \"dirret\"    "
      ]
     },
     "metadata": {},
     "output_type": "display_data"
    }
   ],
   "source": [
    "colnames(ise)"
   ]
  },
  {
   "cell_type": "markdown",
   "metadata": {},
   "source": [
    "# Etapa 3: Identificação e tratamento de *missing values*"
   ]
  },
  {
   "cell_type": "markdown",
   "metadata": {},
   "source": [
    "## 1. Contabilização de *missing values*"
   ]
  },
  {
   "cell_type": "code",
   "execution_count": 16,
   "metadata": {},
   "outputs": [
    {
     "data": {
      "text/plain": [
       "\n",
       "FALSE  TRUE \n",
       "99.52  0.48 "
      ]
     },
     "metadata": {},
     "output_type": "display_data"
    }
   ],
   "source": [
    "round(prop.table(table(is.na(ise)))*100, digits = 2)\n",
    "\n",
    "# 0.48% do dataframe corresponde a missing values"
   ]
  },
  {
   "cell_type": "markdown",
   "metadata": {},
   "source": [
    "## 2. Remoção dos *missing values*"
   ]
  },
  {
   "cell_type": "code",
   "execution_count": 17,
   "metadata": {},
   "outputs": [
    {
     "data": {
      "text/plain": [
       "\n",
       "FALSE \n",
       "  100 "
      ]
     },
     "metadata": {},
     "output_type": "display_data"
    }
   ],
   "source": [
    "isen <- na.omit(ise)\n",
    "\n",
    "round(prop.table(table(is.na(isen)))*100, digits = 2)\n",
    "\n",
    "# O dataframe não possui missing values"
   ]
  },
  {
   "cell_type": "code",
   "execution_count": 18,
   "metadata": {},
   "outputs": [
    {
     "data": {
      "text/html": [
       "<table>\n",
       "<thead><tr><th scope=col>data</th><th scope=col>close</th><th scope=col>avg10</th><th scope=col>avg20</th><th scope=col>std10</th><th scope=col>std20</th><th scope=col>rsi14</th><th scope=col>rsi5</th><th scope=col>macd1226</th><th scope=col>signal9</th><th scope=col>histogram9</th><th scope=col>macd0720</th><th scope=col>signal5</th><th scope=col>histogram5</th><th scope=col>bbands</th><th scope=col>direction</th><th scope=col>dirret</th></tr></thead>\n",
       "<tbody>\n",
       "\t<tr><td>2006-01-19</td><td>1169      </td><td>1125.5    </td><td>1090.75   </td><td>20.99339  </td><td>41.35962  </td><td>80.00000  </td><td>79.78723  </td><td>532.1223  </td><td>704.8302  </td><td>-172.7080 </td><td>264.5633  </td><td>315.4604  </td><td>-50.89717 </td><td>165.4385  </td><td>1         </td><td>up        </td></tr>\n",
       "\t<tr><td>2006-01-20</td><td>1159      </td><td>1130.3    </td><td>1096.10   </td><td>22.72566  </td><td>42.97233  </td><td>76.44444  </td><td>68.13187  </td><td>497.6415  </td><td>659.4553  </td><td>-161.8138 </td><td>243.1772  </td><td>289.7030  </td><td>-46.52582 </td><td>171.8893  </td><td>1         </td><td>up        </td></tr>\n",
       "\t<tr><td>2006-01-23</td><td>1151      </td><td>1134.7    </td><td>1101.20   </td><td>21.95981  </td><td>43.14065  </td><td>69.65174  </td><td>53.16456  </td><td>464.3173  </td><td>616.8597  </td><td>-152.5424 </td><td>221.6372  </td><td>265.4819  </td><td>-43.84465 </td><td>172.5626  </td><td>1         </td><td>up        </td></tr>\n",
       "\t<tr><td>2006-01-24</td><td>1183      </td><td>1143.2    </td><td>1108.45   </td><td>22.61661  </td><td>44.13314  </td><td>70.95238  </td><td>71.84466  </td><td>435.4700  </td><td>577.0157  </td><td>-141.5458 </td><td>206.6961  </td><td>244.1180  </td><td>-37.42183 </td><td>176.5326  </td><td>1         </td><td>up        </td></tr>\n",
       "\t<tr><td>2006-01-26</td><td>1210      </td><td>1152.2    </td><td>1116.60   </td><td>29.28329  </td><td>47.13631  </td><td>75.53648  </td><td>84.87395  </td><td>410.0600  </td><td>540.0830  </td><td>-130.0230 </td><td>195.8147  </td><td>226.3777  </td><td>-30.56298 </td><td>188.5452  </td><td>1         </td><td>up        </td></tr>\n",
       "\t<tr><td>2006-01-27</td><td>1206      </td><td>1161.5    </td><td>1125.10   </td><td>30.20394  </td><td>47.16477  </td><td>71.88940  </td><td>72.83951  </td><td>385.1598  </td><td>505.7015  </td><td>-120.5417 </td><td>183.1496  </td><td>210.0950  </td><td>-26.94535 </td><td>188.6591  </td><td>1         </td><td>up        </td></tr>\n",
       "</tbody>\n",
       "</table>\n"
      ],
      "text/latex": [
       "\\begin{tabular}{r|lllllllllllllllll}\n",
       " data & close & avg10 & avg20 & std10 & std20 & rsi14 & rsi5 & macd1226 & signal9 & histogram9 & macd0720 & signal5 & histogram5 & bbands & direction & dirret\\\\\n",
       "\\hline\n",
       "\t 2006-01-19 & 1169       & 1125.5     & 1090.75    & 20.99339   & 41.35962   & 80.00000   & 79.78723   & 532.1223   & 704.8302   & -172.7080  & 264.5633   & 315.4604   & -50.89717  & 165.4385   & 1          & up        \\\\\n",
       "\t 2006-01-20 & 1159       & 1130.3     & 1096.10    & 22.72566   & 42.97233   & 76.44444   & 68.13187   & 497.6415   & 659.4553   & -161.8138  & 243.1772   & 289.7030   & -46.52582  & 171.8893   & 1          & up        \\\\\n",
       "\t 2006-01-23 & 1151       & 1134.7     & 1101.20    & 21.95981   & 43.14065   & 69.65174   & 53.16456   & 464.3173   & 616.8597   & -152.5424  & 221.6372   & 265.4819   & -43.84465  & 172.5626   & 1          & up        \\\\\n",
       "\t 2006-01-24 & 1183       & 1143.2     & 1108.45    & 22.61661   & 44.13314   & 70.95238   & 71.84466   & 435.4700   & 577.0157   & -141.5458  & 206.6961   & 244.1180   & -37.42183  & 176.5326   & 1          & up        \\\\\n",
       "\t 2006-01-26 & 1210       & 1152.2     & 1116.60    & 29.28329   & 47.13631   & 75.53648   & 84.87395   & 410.0600   & 540.0830   & -130.0230  & 195.8147   & 226.3777   & -30.56298  & 188.5452   & 1          & up        \\\\\n",
       "\t 2006-01-27 & 1206       & 1161.5     & 1125.10    & 30.20394   & 47.16477   & 71.88940   & 72.83951   & 385.1598   & 505.7015   & -120.5417  & 183.1496   & 210.0950   & -26.94535  & 188.6591   & 1          & up        \\\\\n",
       "\\end{tabular}\n"
      ],
      "text/markdown": [
       "\n",
       "| data | close | avg10 | avg20 | std10 | std20 | rsi14 | rsi5 | macd1226 | signal9 | histogram9 | macd0720 | signal5 | histogram5 | bbands | direction | dirret |\n",
       "|---|---|---|---|---|---|---|---|---|---|---|---|---|---|---|---|---|\n",
       "| 2006-01-19 | 1169       | 1125.5     | 1090.75    | 20.99339   | 41.35962   | 80.00000   | 79.78723   | 532.1223   | 704.8302   | -172.7080  | 264.5633   | 315.4604   | -50.89717  | 165.4385   | 1          | up         |\n",
       "| 2006-01-20 | 1159       | 1130.3     | 1096.10    | 22.72566   | 42.97233   | 76.44444   | 68.13187   | 497.6415   | 659.4553   | -161.8138  | 243.1772   | 289.7030   | -46.52582  | 171.8893   | 1          | up         |\n",
       "| 2006-01-23 | 1151       | 1134.7     | 1101.20    | 21.95981   | 43.14065   | 69.65174   | 53.16456   | 464.3173   | 616.8597   | -152.5424  | 221.6372   | 265.4819   | -43.84465  | 172.5626   | 1          | up         |\n",
       "| 2006-01-24 | 1183       | 1143.2     | 1108.45    | 22.61661   | 44.13314   | 70.95238   | 71.84466   | 435.4700   | 577.0157   | -141.5458  | 206.6961   | 244.1180   | -37.42183  | 176.5326   | 1          | up         |\n",
       "| 2006-01-26 | 1210       | 1152.2     | 1116.60    | 29.28329   | 47.13631   | 75.53648   | 84.87395   | 410.0600   | 540.0830   | -130.0230  | 195.8147   | 226.3777   | -30.56298  | 188.5452   | 1          | up         |\n",
       "| 2006-01-27 | 1206       | 1161.5     | 1125.10    | 30.20394   | 47.16477   | 71.88940   | 72.83951   | 385.1598   | 505.7015   | -120.5417  | 183.1496   | 210.0950   | -26.94535  | 188.6591   | 1          | up         |\n",
       "\n"
      ],
      "text/plain": [
       "  data       close avg10  avg20   std10    std20    rsi14    rsi5     macd1226\n",
       "1 2006-01-19 1169  1125.5 1090.75 20.99339 41.35962 80.00000 79.78723 532.1223\n",
       "2 2006-01-20 1159  1130.3 1096.10 22.72566 42.97233 76.44444 68.13187 497.6415\n",
       "3 2006-01-23 1151  1134.7 1101.20 21.95981 43.14065 69.65174 53.16456 464.3173\n",
       "4 2006-01-24 1183  1143.2 1108.45 22.61661 44.13314 70.95238 71.84466 435.4700\n",
       "5 2006-01-26 1210  1152.2 1116.60 29.28329 47.13631 75.53648 84.87395 410.0600\n",
       "6 2006-01-27 1206  1161.5 1125.10 30.20394 47.16477 71.88940 72.83951 385.1598\n",
       "  signal9  histogram9 macd0720 signal5  histogram5 bbands   direction dirret\n",
       "1 704.8302 -172.7080  264.5633 315.4604 -50.89717  165.4385 1         up    \n",
       "2 659.4553 -161.8138  243.1772 289.7030 -46.52582  171.8893 1         up    \n",
       "3 616.8597 -152.5424  221.6372 265.4819 -43.84465  172.5626 1         up    \n",
       "4 577.0157 -141.5458  206.6961 244.1180 -37.42183  176.5326 1         up    \n",
       "5 540.0830 -130.0230  195.8147 226.3777 -30.56298  188.5452 1         up    \n",
       "6 505.7015 -120.5417  183.1496 210.0950 -26.94535  188.6591 1         up    "
      ]
     },
     "metadata": {},
     "output_type": "display_data"
    }
   ],
   "source": [
    "head(isen)\n",
    "\n",
    "# o novo dataframe tem início em 19/01/2006"
   ]
  },
  {
   "cell_type": "markdown",
   "metadata": {},
   "source": [
    "# Etapa 4: Análise Exploratória de Dados"
   ]
  },
  {
   "cell_type": "markdown",
   "metadata": {},
   "source": [
    "## 1. Estatística Descritiva"
   ]
  },
  {
   "cell_type": "code",
   "execution_count": 19,
   "metadata": {},
   "outputs": [
    {
     "data": {
      "text/plain": [
       "     close            avg10          avg20          std10        \n",
       " Min.   : 974.4   Min.   :1042   Min.   :1069   Min.   :  5.984  \n",
       " 1st Qu.:1893.3   1st Qu.:1894   1st Qu.:1895   1st Qu.: 22.825  \n",
       " Median :2290.3   Median :2287   Median :2293   Median : 31.199  \n",
       " Mean   :2304.3   Mean   :2301   Mean   :2297   Mean   : 37.408  \n",
       " 3rd Qu.:2584.6   3rd Qu.:2577   3rd Qu.:2573   3rd Qu.: 44.662  \n",
       " Max.   :4399.7   Max.   :4319   Max.   :4273   Max.   :463.502  \n",
       "     std20            rsi14             rsi5           macd1226       \n",
       " Min.   : 10.98   Min.   : 8.495   Min.   :  0.00   Min.   :-413.727  \n",
       " 1st Qu.: 31.99   1st Qu.:41.842   1st Qu.: 32.79   1st Qu.: -12.456  \n",
       " Median : 43.52   Median :53.143   Median : 53.69   Median :   8.160  \n",
       " Mean   : 51.19   Mean   :53.293   Mean   : 53.17   Mean   :   7.349  \n",
       " 3rd Qu.: 58.57   3rd Qu.:64.921   3rd Qu.: 74.59   3rd Qu.:  27.491  \n",
       " Max.   :607.73   Max.   :94.812   Max.   :100.00   Max.   : 532.122  \n",
       "    signal9           histogram9            macd0720           signal5        \n",
       " Min.   :-373.736   Min.   :-172.70798   Min.   :-505.780   Min.   :-488.791  \n",
       " 1st Qu.: -12.561   1st Qu.:  -7.38462   1st Qu.: -15.701   1st Qu.: -14.965  \n",
       " Median :   8.418   Median :  -0.04064   Median :   7.384   Median :   7.535  \n",
       " Mean   :   8.010   Mean   :  -0.66048   Mean   :   5.785   Mean   :   5.921  \n",
       " 3rd Qu.:  26.729   3rd Qu.:   7.04914   3rd Qu.:  29.759   3rd Qu.:  29.332  \n",
       " Max.   : 704.830   Max.   : 102.56004   Max.   : 264.563   Max.   : 315.460  \n",
       "   histogram5             bbands       \n",
       " Min.   :-122.52001   Min.   :  43.93  \n",
       " 1st Qu.:  -6.13916   1st Qu.: 127.95  \n",
       " Median :   0.05347   Median : 174.07  \n",
       " Mean   :  -0.13587   Mean   : 204.78  \n",
       " 3rd Qu.:   6.28675   3rd Qu.: 234.28  \n",
       " Max.   : 102.74827   Max.   :2430.91  "
      ]
     },
     "metadata": {},
     "output_type": "display_data"
    }
   ],
   "source": [
    "summary(isen[,-c(1, 16, 17)])"
   ]
  },
  {
   "cell_type": "markdown",
   "metadata": {},
   "source": [
    "A função \"summary\" não fornece todas as estatísticas descritivas (ex.: desvio padrão, assimetria, curtose...).\n",
    "\n",
    "Para uma análise mais completa criaremos uma tabela com mais medidas de estatística descritiva."
   ]
  },
  {
   "cell_type": "code",
   "execution_count": 20,
   "metadata": {},
   "outputs": [],
   "source": [
    "# Biblioteca(s) Necessária(s)\n",
    "library(moments)"
   ]
  },
  {
   "cell_type": "code",
   "execution_count": 21,
   "metadata": {},
   "outputs": [],
   "source": [
    "# Remoção das colunas \"data\", \"direction\" e \"dirret\"\n",
    "mise <- as.matrix(isen[,-c(1, 16, 17)])    "
   ]
  },
  {
   "cell_type": "code",
   "execution_count": 22,
   "metadata": {},
   "outputs": [],
   "source": [
    "# Cálculo das medidas de estatística descritiva\n",
    "n <- ncol(mise)\n",
    "\n",
    "# Média\n",
    "mean_ise <- numeric(n)\n",
    "names(mean_ise) <- colnames(mise)\n",
    "for (i in 1:n) {\n",
    "    mean_ise[i] <- mean(mise[,i])\n",
    "}\n",
    "mean_ise <- round(mean_ise, digits = 2)\n",
    "\n",
    "# Desvio Padrão\n",
    "sd_ise <- numeric(n)\n",
    "names(sd_ise) <- colnames(mise)\n",
    "for (i in 1:n) {\n",
    "    sd_ise[i] <- sd(mise[,i])\n",
    "}\n",
    "sd_ise <- round(sd_ise, digits = 2)\n",
    "\n",
    "# Mínimo\n",
    "min_ise <- numeric(n)\n",
    "names(min_ise) <- colnames(mise)\n",
    "for (i in 1:n) {\n",
    "    min_ise[i] <- min(mise[,i])\n",
    "}\n",
    "min_ise <- round(min_ise, digits = 2)\n",
    "\n",
    "# 1º Qurtil\n",
    "q1_ise <- numeric(n)\n",
    "names(q1_ise) <- colnames(mise)\n",
    "for (i in 1:n) {\n",
    "    q1_ise[i] <- quantile(mise[,i], probs = 0.25)\n",
    "}\n",
    "q1_ise <- round(q1_ise, digits = 2)\n",
    "\n",
    "# Mediana\n",
    "median_ise <- numeric(n)\n",
    "names(median_ise) <- colnames(mise)\n",
    "for (i in 1:n) {\n",
    "    median_ise[i] <- median(mise[,i])\n",
    "}\n",
    "median_ise <- round(median_ise, digits = 2)\n",
    "\n",
    "# 3º Qurtil\n",
    "q3_ise <- numeric(n)\n",
    "names(q3_ise) <- colnames(mise)\n",
    "for (i in 1:n) {\n",
    "    q3_ise[i] <- quantile(mise[,i], probs = 0.75)\n",
    "}\n",
    "q3_ise <- round(q3_ise, digits = 2)\n",
    "\n",
    "# Máximo\n",
    "max_ise <- numeric(n)\n",
    "names(max_ise) <- colnames(mise)\n",
    "for (i in 1:n) {\n",
    "    max_ise[i] <- max(mise[,i])\n",
    "}\n",
    "max_ise <- round(max_ise, digits = 2)\n",
    "\n",
    "# Coeficiente de Variação\n",
    "cv_ise <- numeric(n)\n",
    "names(cv_ise) <- colnames(mise)\n",
    "for (i in 1:n) {\n",
    "    cv_ise[i] <- sd(mise[,i])/mean(mise[,i])\n",
    "}\n",
    "cv_ise <- round(cv_ise, digits = 2)\n",
    "\n",
    "# Assimetria\n",
    "skew_ise <- numeric(n)\n",
    "names(skew_ise) <- colnames(mise)\n",
    "for (i in 1:n) {\n",
    "    skew_ise[i] <- skewness(mise[,i])\n",
    "}\n",
    "skew_ise <- round(skew_ise, digits = 2)\n",
    "\n",
    "# Curtose\n",
    "kurt_ise <- numeric(n)\n",
    "names(kurt_ise) <- colnames(mise)\n",
    "for (i in 1:n) {\n",
    "    kurt_ise[i] <- kurtosis(mise[,i])\n",
    "}\n",
    "kurt_ise <- round(kurt_ise, digits = 2)"
   ]
  },
  {
   "cell_type": "code",
   "execution_count": 23,
   "metadata": {},
   "outputs": [
    {
     "data": {
      "text/html": [
       "<table>\n",
       "<thead><tr><th></th><th scope=col>media</th><th scope=col>sd</th><th scope=col>min</th><th scope=col>q1</th><th scope=col>median</th><th scope=col>q3</th><th scope=col>max</th><th scope=col>cv</th><th scope=col>skew</th><th scope=col>kurt</th></tr></thead>\n",
       "<tbody>\n",
       "\t<tr><th scope=row>close</th><td>2304.34</td><td>683.94 </td><td> 974.44</td><td>1893.34</td><td>2290.35</td><td>2584.59</td><td>4399.74</td><td>  0.30 </td><td> 0.52  </td><td> 3.27  </td></tr>\n",
       "\t<tr><th scope=row>avg10</th><td>2300.73</td><td>680.79 </td><td>1042.11</td><td>1893.68</td><td>2286.57</td><td>2577.15</td><td>4318.57</td><td>  0.30 </td><td> 0.51  </td><td> 3.25  </td></tr>\n",
       "\t<tr><th scope=row>avg20</th><td>2296.75</td><td>677.70 </td><td>1069.48</td><td>1894.77</td><td>2292.82</td><td>2573.35</td><td>4273.13</td><td>  0.30 </td><td> 0.49  </td><td> 3.22  </td></tr>\n",
       "\t<tr><th scope=row>std10</th><td>  37.41</td><td> 28.46 </td><td>   5.98</td><td>  22.83</td><td>  31.20</td><td>  44.66</td><td> 463.50</td><td>  0.76 </td><td> 6.64  </td><td>78.68  </td></tr>\n",
       "\t<tr><th scope=row>std20</th><td>  51.19</td><td> 40.76 </td><td>  10.98</td><td>  31.99</td><td>  43.52</td><td>  58.57</td><td> 607.73</td><td>  0.80 </td><td> 7.44  </td><td>84.74  </td></tr>\n",
       "\t<tr><th scope=row>rsi14</th><td>  53.29</td><td> 15.67 </td><td>   8.49</td><td>  41.84</td><td>  53.14</td><td>  64.92</td><td>  94.81</td><td>  0.29 </td><td> 0.00  </td><td> 2.48  </td></tr>\n",
       "\t<tr><th scope=row>rsi5</th><td>  53.17</td><td> 27.03 </td><td>   0.00</td><td>  32.79</td><td>  53.69</td><td>  74.59</td><td> 100.00</td><td>  0.51 </td><td>-0.11  </td><td> 2.14  </td></tr>\n",
       "\t<tr><th scope=row>macd1226</th><td>   7.35</td><td> 47.37 </td><td>-413.73</td><td> -12.46</td><td>   8.16</td><td>  27.49</td><td> 532.12</td><td>  6.45 </td><td> 0.06  </td><td>32.88  </td></tr>\n",
       "\t<tr><th scope=row>signal9</th><td>   8.01</td><td> 51.01 </td><td>-373.74</td><td> -12.56</td><td>   8.42</td><td>  26.73</td><td> 704.83</td><td>  6.37 </td><td> 2.32  </td><td>49.72  </td></tr>\n",
       "\t<tr><th scope=row>histogram9</th><td>  -0.66</td><td> 15.98 </td><td>-172.71</td><td>  -7.38</td><td>  -0.04</td><td>   7.05</td><td> 102.56</td><td>-24.19 </td><td>-2.40  </td><td>28.30  </td></tr>\n",
       "\t<tr><th scope=row>macd7205</th><td>   5.79</td><td> 46.15 </td><td>-505.78</td><td> -15.70</td><td>   7.38</td><td>  29.76</td><td> 264.56</td><td>  7.98 </td><td>-2.86  </td><td>31.90  </td></tr>\n",
       "\t<tr><th scope=row>signal5</th><td>   5.92</td><td> 45.83 </td><td>-488.79</td><td> -14.97</td><td>   7.54</td><td>  29.33</td><td> 315.46</td><td>  7.74 </td><td>-2.60  </td><td>31.17  </td></tr>\n",
       "\t<tr><th scope=row>histogram5</th><td>  -0.14</td><td> 11.99 </td><td>-122.52</td><td>  -6.14</td><td>   0.05</td><td>   6.29</td><td> 102.75</td><td>-88.26 </td><td>-0.29  </td><td>16.49  </td></tr>\n",
       "\t<tr><th scope=row>bbands</th><td> 204.78</td><td>163.05 </td><td>  43.93</td><td> 127.95</td><td> 174.07</td><td> 234.28</td><td>2430.91</td><td>  0.80 </td><td> 7.44  </td><td>84.74  </td></tr>\n",
       "</tbody>\n",
       "</table>\n"
      ],
      "text/latex": [
       "\\begin{tabular}{r|llllllllll}\n",
       "  & media & sd & min & q1 & median & q3 & max & cv & skew & kurt\\\\\n",
       "\\hline\n",
       "\tclose & 2304.34 & 683.94  &  974.44 & 1893.34 & 2290.35 & 2584.59 & 4399.74 &   0.30  &  0.52   &  3.27  \\\\\n",
       "\tavg10 & 2300.73 & 680.79  & 1042.11 & 1893.68 & 2286.57 & 2577.15 & 4318.57 &   0.30  &  0.51   &  3.25  \\\\\n",
       "\tavg20 & 2296.75 & 677.70  & 1069.48 & 1894.77 & 2292.82 & 2573.35 & 4273.13 &   0.30  &  0.49   &  3.22  \\\\\n",
       "\tstd10 &   37.41 &  28.46  &    5.98 &   22.83 &   31.20 &   44.66 &  463.50 &   0.76  &  6.64   & 78.68  \\\\\n",
       "\tstd20 &   51.19 &  40.76  &   10.98 &   31.99 &   43.52 &   58.57 &  607.73 &   0.80  &  7.44   & 84.74  \\\\\n",
       "\trsi14 &   53.29 &  15.67  &    8.49 &   41.84 &   53.14 &   64.92 &   94.81 &   0.29  &  0.00   &  2.48  \\\\\n",
       "\trsi5 &   53.17 &  27.03  &    0.00 &   32.79 &   53.69 &   74.59 &  100.00 &   0.51  & -0.11   &  2.14  \\\\\n",
       "\tmacd1226 &    7.35 &  47.37  & -413.73 &  -12.46 &    8.16 &   27.49 &  532.12 &   6.45  &  0.06   & 32.88  \\\\\n",
       "\tsignal9 &    8.01 &  51.01  & -373.74 &  -12.56 &    8.42 &   26.73 &  704.83 &   6.37  &  2.32   & 49.72  \\\\\n",
       "\thistogram9 &   -0.66 &  15.98  & -172.71 &   -7.38 &   -0.04 &    7.05 &  102.56 & -24.19  & -2.40   & 28.30  \\\\\n",
       "\tmacd7205 &    5.79 &  46.15  & -505.78 &  -15.70 &    7.38 &   29.76 &  264.56 &   7.98  & -2.86   & 31.90  \\\\\n",
       "\tsignal5 &    5.92 &  45.83  & -488.79 &  -14.97 &    7.54 &   29.33 &  315.46 &   7.74  & -2.60   & 31.17  \\\\\n",
       "\thistogram5 &   -0.14 &  11.99  & -122.52 &   -6.14 &    0.05 &    6.29 &  102.75 & -88.26  & -0.29   & 16.49  \\\\\n",
       "\tbbands &  204.78 & 163.05  &   43.93 &  127.95 &  174.07 &  234.28 & 2430.91 &   0.80  &  7.44   & 84.74  \\\\\n",
       "\\end{tabular}\n"
      ],
      "text/markdown": [
       "\n",
       "| <!--/--> | media | sd | min | q1 | median | q3 | max | cv | skew | kurt |\n",
       "|---|---|---|---|---|---|---|---|---|---|---|\n",
       "| close | 2304.34 | 683.94  |  974.44 | 1893.34 | 2290.35 | 2584.59 | 4399.74 |   0.30  |  0.52   |  3.27   |\n",
       "| avg10 | 2300.73 | 680.79  | 1042.11 | 1893.68 | 2286.57 | 2577.15 | 4318.57 |   0.30  |  0.51   |  3.25   |\n",
       "| avg20 | 2296.75 | 677.70  | 1069.48 | 1894.77 | 2292.82 | 2573.35 | 4273.13 |   0.30  |  0.49   |  3.22   |\n",
       "| std10 |   37.41 |  28.46  |    5.98 |   22.83 |   31.20 |   44.66 |  463.50 |   0.76  |  6.64   | 78.68   |\n",
       "| std20 |   51.19 |  40.76  |   10.98 |   31.99 |   43.52 |   58.57 |  607.73 |   0.80  |  7.44   | 84.74   |\n",
       "| rsi14 |   53.29 |  15.67  |    8.49 |   41.84 |   53.14 |   64.92 |   94.81 |   0.29  |  0.00   |  2.48   |\n",
       "| rsi5 |   53.17 |  27.03  |    0.00 |   32.79 |   53.69 |   74.59 |  100.00 |   0.51  | -0.11   |  2.14   |\n",
       "| macd1226 |    7.35 |  47.37  | -413.73 |  -12.46 |    8.16 |   27.49 |  532.12 |   6.45  |  0.06   | 32.88   |\n",
       "| signal9 |    8.01 |  51.01  | -373.74 |  -12.56 |    8.42 |   26.73 |  704.83 |   6.37  |  2.32   | 49.72   |\n",
       "| histogram9 |   -0.66 |  15.98  | -172.71 |   -7.38 |   -0.04 |    7.05 |  102.56 | -24.19  | -2.40   | 28.30   |\n",
       "| macd7205 |    5.79 |  46.15  | -505.78 |  -15.70 |    7.38 |   29.76 |  264.56 |   7.98  | -2.86   | 31.90   |\n",
       "| signal5 |    5.92 |  45.83  | -488.79 |  -14.97 |    7.54 |   29.33 |  315.46 |   7.74  | -2.60   | 31.17   |\n",
       "| histogram5 |   -0.14 |  11.99  | -122.52 |   -6.14 |    0.05 |    6.29 |  102.75 | -88.26  | -0.29   | 16.49   |\n",
       "| bbands |  204.78 | 163.05  |   43.93 |  127.95 |  174.07 |  234.28 | 2430.91 |   0.80  |  7.44   | 84.74   |\n",
       "\n"
      ],
      "text/plain": [
       "           media   sd     min     q1      median  q3      max     cv     skew \n",
       "close      2304.34 683.94  974.44 1893.34 2290.35 2584.59 4399.74   0.30  0.52\n",
       "avg10      2300.73 680.79 1042.11 1893.68 2286.57 2577.15 4318.57   0.30  0.51\n",
       "avg20      2296.75 677.70 1069.48 1894.77 2292.82 2573.35 4273.13   0.30  0.49\n",
       "std10        37.41  28.46    5.98   22.83   31.20   44.66  463.50   0.76  6.64\n",
       "std20        51.19  40.76   10.98   31.99   43.52   58.57  607.73   0.80  7.44\n",
       "rsi14        53.29  15.67    8.49   41.84   53.14   64.92   94.81   0.29  0.00\n",
       "rsi5         53.17  27.03    0.00   32.79   53.69   74.59  100.00   0.51 -0.11\n",
       "macd1226      7.35  47.37 -413.73  -12.46    8.16   27.49  532.12   6.45  0.06\n",
       "signal9       8.01  51.01 -373.74  -12.56    8.42   26.73  704.83   6.37  2.32\n",
       "histogram9   -0.66  15.98 -172.71   -7.38   -0.04    7.05  102.56 -24.19 -2.40\n",
       "macd7205      5.79  46.15 -505.78  -15.70    7.38   29.76  264.56   7.98 -2.86\n",
       "signal5       5.92  45.83 -488.79  -14.97    7.54   29.33  315.46   7.74 -2.60\n",
       "histogram5   -0.14  11.99 -122.52   -6.14    0.05    6.29  102.75 -88.26 -0.29\n",
       "bbands      204.78 163.05   43.93  127.95  174.07  234.28 2430.91   0.80  7.44\n",
       "           kurt \n",
       "close       3.27\n",
       "avg10       3.25\n",
       "avg20       3.22\n",
       "std10      78.68\n",
       "std20      84.74\n",
       "rsi14       2.48\n",
       "rsi5        2.14\n",
       "macd1226   32.88\n",
       "signal9    49.72\n",
       "histogram9 28.30\n",
       "macd7205   31.90\n",
       "signal5    31.17\n",
       "histogram5 16.49\n",
       "bbands     84.74"
      ]
     },
     "metadata": {},
     "output_type": "display_data"
    }
   ],
   "source": [
    "# Montagem da matriz com as medidas de estatística descritiva\n",
    "stat_data1 <- c(mean_ise, sd_ise, min_ise, q1_ise, median_ise, q3_ise, max_ise, cv_ise, skew_ise, kurt_ise)\n",
    "stat_ise <- matrix(stat_data1, nrow = 14, ncol = 10)\n",
    "colnames(stat_ise) <- c(\"media\", \"sd\", \"min\", \"q1\", \"median\", \"q3\", \"max\", \"cv\", \"skew\", \"kurt\")\n",
    "rownames(stat_ise) <- c(\"close\", \"avg10\", \"avg20\", \"std10\", \"std20\", \"rsi14\", \"rsi5\", \"macd1226\", \"signal9\", \"histogram9\",\n",
    "                         \"macd7205\", \"signal5\", \"histogram5\", \"bbands\")\n",
    "stat_ise"
   ]
  },
  {
   "cell_type": "markdown",
   "metadata": {},
   "source": [
    "## 2. Identificação e tratamento de *outliers*"
   ]
  },
  {
   "cell_type": "markdown",
   "metadata": {},
   "source": [
    "### 2.1. Identificação de *outliers*"
   ]
  },
  {
   "cell_type": "code",
   "execution_count": 24,
   "metadata": {},
   "outputs": [
    {
     "data": {
      "image/png": "[encoded data removed]",
      "text/plain": [
       "Plot with title \"std20\""
      ]
     },
     "metadata": {},
     "output_type": "display_data"
    }
   ],
   "source": [
    "par(mfrow=c(2,3))\n",
    "\n",
    "boxplot(isen$close, col=\"light gray\",  main=\"close\", border=\"black\", horizontal=FALSE)\n",
    "\n",
    "boxplot(isen$avg10, col=\"light gray\", main=\"avg10\", border=\"black\", horizontal=FALSE)\n",
    "\n",
    "boxplot(isen$avg20, col=\"light gray\", main=\"avg20\", border=\"black\", horizontal=FALSE)\n",
    "\n",
    "boxplot(isen$std10, col=\"light gray\", main=\"std10\", border=\"black\", horizontal=FALSE)\n",
    "\n",
    "boxplot(isen$std20, col=\"light gray\", main=\"std20\", border=\"black\", horizontal=FALSE)"
   ]
  },
  {
   "cell_type": "code",
   "execution_count": 25,
   "metadata": {},
   "outputs": [
    {
     "data": {
      "image/png": "[encoded data removed]",
      "text/plain": [
       "Plot with title \"histogram9\""
      ]
     },
     "metadata": {},
     "output_type": "display_data"
    }
   ],
   "source": [
    "par(mfrow=c(2,3))\n",
    "\n",
    "boxplot(isen$rsi14, col=\"light gray\", main=\"rsi14\", border=\"black\", horizontal=FALSE)\n",
    "\n",
    "boxplot(isen$rsi5, col=\"light gray\", main=\"rsi5\", border=\"black\", horizontal=FALSE)\n",
    "\n",
    "boxplot(isen$macd1226, col=\"light gray\", main=\"macd1226\", border=\"black\", horizontal=FALSE)\n",
    "\n",
    "boxplot(isen$signal9, col=\"light gray\",  main=\"signal9\", border=\"black\", horizontal=FALSE)\n",
    "\n",
    "boxplot(isen$histogram9, col=\"light gray\", main=\"histogram9\", border=\"black\", horizontal=FALSE)"
   ]
  },
  {
   "cell_type": "code",
   "execution_count": 26,
   "metadata": {},
   "outputs": [
    {
     "data": {
      "image/png": "[encoded data removed]",
      "text/plain": [
       "Plot with title \"bbands\""
      ]
     },
     "metadata": {},
     "output_type": "display_data"
    }
   ],
   "source": [
    "par(mfrow=c(2,3))\n",
    "\n",
    "boxplot(isen$macd0720, col=\"light gray\", main=\"macd7205\", border=\"black\", horizontal=FALSE)\n",
    "\n",
    "boxplot(isen$signal5, col=\"light gray\", main=\"signal5\", border=\"black\", horizontal=FALSE)\n",
    "\n",
    "boxplot(isen$histogram5, col=\"light gray\", main=\"histogram5\", border=\"black\", horizontal=FALSE)\n",
    "\n",
    "boxplot(isen$bbands, col=\"light gray\", main=\"bbands\", border=\"black\", horizontal=FALSE)"
   ]
  },
  {
   "cell_type": "markdown",
   "metadata": {},
   "source": [
    "### 2.2. Tratamento de *outliers*"
   ]
  },
  {
   "cell_type": "code",
   "execution_count": 27,
   "metadata": {},
   "outputs": [],
   "source": [
    "# Biblioteca(s) Necessária(s)\n",
    "library(outliers)"
   ]
  },
  {
   "cell_type": "code",
   "execution_count": 28,
   "metadata": {},
   "outputs": [],
   "source": [
    "# Substituição dos outliers pelas medianas dos dados\n",
    "iseout <- rm.outlier(isen[,-c(1, 16, 17)], fill = TRUE, median = TRUE, opposite = FALSE)"
   ]
  },
  {
   "cell_type": "code",
   "execution_count": 29,
   "metadata": {},
   "outputs": [
    {
     "data": {
      "text/html": [
       "<table>\n",
       "<thead><tr><th scope=col>close</th><th scope=col>avg10</th><th scope=col>avg20</th><th scope=col>std10</th><th scope=col>std20</th><th scope=col>rsi14</th><th scope=col>rsi5</th><th scope=col>macd1226</th><th scope=col>signal9</th><th scope=col>histogram9</th><th scope=col>macd0720</th><th scope=col>signal5</th><th scope=col>histogram5</th><th scope=col>bbands</th></tr></thead>\n",
       "<tbody>\n",
       "\t<tr><td>1169         </td><td>1125.5       </td><td>1090.75      </td><td>20.99339     </td><td>41.35962     </td><td>80.00000     </td><td>79.78723     </td><td>  8.139799   </td><td>  8.410823   </td><td>  -0.03708359</td><td>264.5633     </td><td>315.4604     </td><td>-50.89717    </td><td>165.4385     </td></tr>\n",
       "\t<tr><td>1159         </td><td>1130.3       </td><td>1096.10      </td><td>22.72566     </td><td>42.97233     </td><td>76.44444     </td><td>68.13187     </td><td>497.641465   </td><td>659.455256   </td><td>-161.81379100</td><td>243.1772     </td><td>289.7030     </td><td>-46.52582    </td><td>171.8893     </td></tr>\n",
       "\t<tr><td>1151         </td><td>1134.7       </td><td>1101.20      </td><td>21.95981     </td><td>43.14065     </td><td>69.65174     </td><td>53.16456     </td><td>464.317299   </td><td>616.859668   </td><td>-152.54236958</td><td>221.6372     </td><td>265.4819     </td><td>-43.84465    </td><td>172.5626     </td></tr>\n",
       "\t<tr><td>1183         </td><td>1143.2       </td><td>1108.45      </td><td>22.61661     </td><td>44.13314     </td><td>70.95238     </td><td>71.84466     </td><td>435.469963   </td><td>577.015721   </td><td>-141.54575885</td><td>206.6961     </td><td>244.1180     </td><td>-37.42183    </td><td>176.5326     </td></tr>\n",
       "\t<tr><td>1210         </td><td>1152.2       </td><td>1116.60      </td><td>29.28329     </td><td>47.13631     </td><td>75.53648     </td><td>84.87395     </td><td>410.059999   </td><td>540.083042   </td><td>-130.02304315</td><td>195.8147     </td><td>226.3777     </td><td>-30.56298    </td><td>188.5452     </td></tr>\n",
       "\t<tr><td>1206         </td><td>1161.5       </td><td>1125.10      </td><td>30.20394     </td><td>47.16477     </td><td>71.88940     </td><td>72.83951     </td><td>385.159771   </td><td>505.701474   </td><td>-120.54170384</td><td>183.1496     </td><td>210.0950     </td><td>-26.94535    </td><td>188.6591     </td></tr>\n",
       "</tbody>\n",
       "</table>\n"
      ],
      "text/latex": [
       "\\begin{tabular}{r|llllllllllllll}\n",
       " close & avg10 & avg20 & std10 & std20 & rsi14 & rsi5 & macd1226 & signal9 & histogram9 & macd0720 & signal5 & histogram5 & bbands\\\\\n",
       "\\hline\n",
       "\t 1169          & 1125.5        & 1090.75       & 20.99339      & 41.35962      & 80.00000      & 79.78723      &   8.139799    &   8.410823    &   -0.03708359 & 264.5633      & 315.4604      & -50.89717     & 165.4385     \\\\\n",
       "\t 1159          & 1130.3        & 1096.10       & 22.72566      & 42.97233      & 76.44444      & 68.13187      & 497.641465    & 659.455256    & -161.81379100 & 243.1772      & 289.7030      & -46.52582     & 171.8893     \\\\\n",
       "\t 1151          & 1134.7        & 1101.20       & 21.95981      & 43.14065      & 69.65174      & 53.16456      & 464.317299    & 616.859668    & -152.54236958 & 221.6372      & 265.4819      & -43.84465     & 172.5626     \\\\\n",
       "\t 1183          & 1143.2        & 1108.45       & 22.61661      & 44.13314      & 70.95238      & 71.84466      & 435.469963    & 577.015721    & -141.54575885 & 206.6961      & 244.1180      & -37.42183     & 176.5326     \\\\\n",
       "\t 1210          & 1152.2        & 1116.60       & 29.28329      & 47.13631      & 75.53648      & 84.87395      & 410.059999    & 540.083042    & -130.02304315 & 195.8147      & 226.3777      & -30.56298     & 188.5452     \\\\\n",
       "\t 1206          & 1161.5        & 1125.10       & 30.20394      & 47.16477      & 71.88940      & 72.83951      & 385.159771    & 505.701474    & -120.54170384 & 183.1496      & 210.0950      & -26.94535     & 188.6591     \\\\\n",
       "\\end{tabular}\n"
      ],
      "text/markdown": [
       "\n",
       "| close | avg10 | avg20 | std10 | std20 | rsi14 | rsi5 | macd1226 | signal9 | histogram9 | macd0720 | signal5 | histogram5 | bbands |\n",
       "|---|---|---|---|---|---|---|---|---|---|---|---|---|---|\n",
       "| 1169          | 1125.5        | 1090.75       | 20.99339      | 41.35962      | 80.00000      | 79.78723      |   8.139799    |   8.410823    |   -0.03708359 | 264.5633      | 315.4604      | -50.89717     | 165.4385      |\n",
       "| 1159          | 1130.3        | 1096.10       | 22.72566      | 42.97233      | 76.44444      | 68.13187      | 497.641465    | 659.455256    | -161.81379100 | 243.1772      | 289.7030      | -46.52582     | 171.8893      |\n",
       "| 1151          | 1134.7        | 1101.20       | 21.95981      | 43.14065      | 69.65174      | 53.16456      | 464.317299    | 616.859668    | -152.54236958 | 221.6372      | 265.4819      | -43.84465     | 172.5626      |\n",
       "| 1183          | 1143.2        | 1108.45       | 22.61661      | 44.13314      | 70.95238      | 71.84466      | 435.469963    | 577.015721    | -141.54575885 | 206.6961      | 244.1180      | -37.42183     | 176.5326      |\n",
       "| 1210          | 1152.2        | 1116.60       | 29.28329      | 47.13631      | 75.53648      | 84.87395      | 410.059999    | 540.083042    | -130.02304315 | 195.8147      | 226.3777      | -30.56298     | 188.5452      |\n",
       "| 1206          | 1161.5        | 1125.10       | 30.20394      | 47.16477      | 71.88940      | 72.83951      | 385.159771    | 505.701474    | -120.54170384 | 183.1496      | 210.0950      | -26.94535     | 188.6591      |\n",
       "\n"
      ],
      "text/plain": [
       "  close avg10  avg20   std10    std20    rsi14    rsi5     macd1226  \n",
       "1 1169  1125.5 1090.75 20.99339 41.35962 80.00000 79.78723   8.139799\n",
       "2 1159  1130.3 1096.10 22.72566 42.97233 76.44444 68.13187 497.641465\n",
       "3 1151  1134.7 1101.20 21.95981 43.14065 69.65174 53.16456 464.317299\n",
       "4 1183  1143.2 1108.45 22.61661 44.13314 70.95238 71.84466 435.469963\n",
       "5 1210  1152.2 1116.60 29.28329 47.13631 75.53648 84.87395 410.059999\n",
       "6 1206  1161.5 1125.10 30.20394 47.16477 71.88940 72.83951 385.159771\n",
       "  signal9    histogram9    macd0720 signal5  histogram5 bbands  \n",
       "1   8.410823   -0.03708359 264.5633 315.4604 -50.89717  165.4385\n",
       "2 659.455256 -161.81379100 243.1772 289.7030 -46.52582  171.8893\n",
       "3 616.859668 -152.54236958 221.6372 265.4819 -43.84465  172.5626\n",
       "4 577.015721 -141.54575885 206.6961 244.1180 -37.42183  176.5326\n",
       "5 540.083042 -130.02304315 195.8147 226.3777 -30.56298  188.5452\n",
       "6 505.701474 -120.54170384 183.1496 210.0950 -26.94535  188.6591"
      ]
     },
     "metadata": {},
     "output_type": "display_data"
    }
   ],
   "source": [
    "head(iseout)"
   ]
  },
  {
   "cell_type": "code",
   "execution_count": 30,
   "metadata": {},
   "outputs": [],
   "source": [
    "iseout <- cbind(isen[,1], iseout, isen[,16:17])"
   ]
  },
  {
   "cell_type": "code",
   "execution_count": 31,
   "metadata": {},
   "outputs": [
    {
     "data": {
      "text/html": [
       "<table>\n",
       "<thead><tr><th scope=col>data</th><th scope=col>close</th><th scope=col>avg10</th><th scope=col>avg20</th><th scope=col>std10</th><th scope=col>std20</th><th scope=col>rsi14</th><th scope=col>rsi5</th><th scope=col>macd1226</th><th scope=col>signal9</th><th scope=col>histogram9</th><th scope=col>macd0720</th><th scope=col>signal5</th><th scope=col>histogram5</th><th scope=col>bbands</th><th scope=col>direction</th><th scope=col>dirret</th></tr></thead>\n",
       "<tbody>\n",
       "\t<tr><td>2006-01-19   </td><td>1169         </td><td>1125.5       </td><td>1090.75      </td><td>20.99339     </td><td>41.35962     </td><td>80.00000     </td><td>79.78723     </td><td>  8.139799   </td><td>  8.410823   </td><td>  -0.03708359</td><td>264.5633     </td><td>315.4604     </td><td>-50.89717    </td><td>165.4385     </td><td>1            </td><td>up           </td></tr>\n",
       "\t<tr><td>2006-01-20   </td><td>1159         </td><td>1130.3       </td><td>1096.10      </td><td>22.72566     </td><td>42.97233     </td><td>76.44444     </td><td>68.13187     </td><td>497.641465   </td><td>659.455256   </td><td>-161.81379100</td><td>243.1772     </td><td>289.7030     </td><td>-46.52582    </td><td>171.8893     </td><td>1            </td><td>up           </td></tr>\n",
       "\t<tr><td>2006-01-23   </td><td>1151         </td><td>1134.7       </td><td>1101.20      </td><td>21.95981     </td><td>43.14065     </td><td>69.65174     </td><td>53.16456     </td><td>464.317299   </td><td>616.859668   </td><td>-152.54236958</td><td>221.6372     </td><td>265.4819     </td><td>-43.84465    </td><td>172.5626     </td><td>1            </td><td>up           </td></tr>\n",
       "\t<tr><td>2006-01-24   </td><td>1183         </td><td>1143.2       </td><td>1108.45      </td><td>22.61661     </td><td>44.13314     </td><td>70.95238     </td><td>71.84466     </td><td>435.469963   </td><td>577.015721   </td><td>-141.54575885</td><td>206.6961     </td><td>244.1180     </td><td>-37.42183    </td><td>176.5326     </td><td>1            </td><td>up           </td></tr>\n",
       "\t<tr><td>2006-01-26   </td><td>1210         </td><td>1152.2       </td><td>1116.60      </td><td>29.28329     </td><td>47.13631     </td><td>75.53648     </td><td>84.87395     </td><td>410.059999   </td><td>540.083042   </td><td>-130.02304315</td><td>195.8147     </td><td>226.3777     </td><td>-30.56298    </td><td>188.5452     </td><td>1            </td><td>up           </td></tr>\n",
       "\t<tr><td>2006-01-27   </td><td>1206         </td><td>1161.5       </td><td>1125.10      </td><td>30.20394     </td><td>47.16477     </td><td>71.88940     </td><td>72.83951     </td><td>385.159771   </td><td>505.701474   </td><td>-120.54170384</td><td>183.1496     </td><td>210.0950     </td><td>-26.94535    </td><td>188.6591     </td><td>1            </td><td>up           </td></tr>\n",
       "</tbody>\n",
       "</table>\n"
      ],
      "text/latex": [
       "\\begin{tabular}{r|lllllllllllllllll}\n",
       " data & close & avg10 & avg20 & std10 & std20 & rsi14 & rsi5 & macd1226 & signal9 & histogram9 & macd0720 & signal5 & histogram5 & bbands & direction & dirret\\\\\n",
       "\\hline\n",
       "\t 2006-01-19    & 1169          & 1125.5        & 1090.75       & 20.99339      & 41.35962      & 80.00000      & 79.78723      &   8.139799    &   8.410823    &   -0.03708359 & 264.5633      & 315.4604      & -50.89717     & 165.4385      & 1             & up           \\\\\n",
       "\t 2006-01-20    & 1159          & 1130.3        & 1096.10       & 22.72566      & 42.97233      & 76.44444      & 68.13187      & 497.641465    & 659.455256    & -161.81379100 & 243.1772      & 289.7030      & -46.52582     & 171.8893      & 1             & up           \\\\\n",
       "\t 2006-01-23    & 1151          & 1134.7        & 1101.20       & 21.95981      & 43.14065      & 69.65174      & 53.16456      & 464.317299    & 616.859668    & -152.54236958 & 221.6372      & 265.4819      & -43.84465     & 172.5626      & 1             & up           \\\\\n",
       "\t 2006-01-24    & 1183          & 1143.2        & 1108.45       & 22.61661      & 44.13314      & 70.95238      & 71.84466      & 435.469963    & 577.015721    & -141.54575885 & 206.6961      & 244.1180      & -37.42183     & 176.5326      & 1             & up           \\\\\n",
       "\t 2006-01-26    & 1210          & 1152.2        & 1116.60       & 29.28329      & 47.13631      & 75.53648      & 84.87395      & 410.059999    & 540.083042    & -130.02304315 & 195.8147      & 226.3777      & -30.56298     & 188.5452      & 1             & up           \\\\\n",
       "\t 2006-01-27    & 1206          & 1161.5        & 1125.10       & 30.20394      & 47.16477      & 71.88940      & 72.83951      & 385.159771    & 505.701474    & -120.54170384 & 183.1496      & 210.0950      & -26.94535     & 188.6591      & 1             & up           \\\\\n",
       "\\end{tabular}\n"
      ],
      "text/markdown": [
       "\n",
       "| data | close | avg10 | avg20 | std10 | std20 | rsi14 | rsi5 | macd1226 | signal9 | histogram9 | macd0720 | signal5 | histogram5 | bbands | direction | dirret |\n",
       "|---|---|---|---|---|---|---|---|---|---|---|---|---|---|---|---|---|\n",
       "| 2006-01-19    | 1169          | 1125.5        | 1090.75       | 20.99339      | 41.35962      | 80.00000      | 79.78723      |   8.139799    |   8.410823    |   -0.03708359 | 264.5633      | 315.4604      | -50.89717     | 165.4385      | 1             | up            |\n",
       "| 2006-01-20    | 1159          | 1130.3        | 1096.10       | 22.72566      | 42.97233      | 76.44444      | 68.13187      | 497.641465    | 659.455256    | -161.81379100 | 243.1772      | 289.7030      | -46.52582     | 171.8893      | 1             | up            |\n",
       "| 2006-01-23    | 1151          | 1134.7        | 1101.20       | 21.95981      | 43.14065      | 69.65174      | 53.16456      | 464.317299    | 616.859668    | -152.54236958 | 221.6372      | 265.4819      | -43.84465     | 172.5626      | 1             | up            |\n",
       "| 2006-01-24    | 1183          | 1143.2        | 1108.45       | 22.61661      | 44.13314      | 70.95238      | 71.84466      | 435.469963    | 577.015721    | -141.54575885 | 206.6961      | 244.1180      | -37.42183     | 176.5326      | 1             | up            |\n",
       "| 2006-01-26    | 1210          | 1152.2        | 1116.60       | 29.28329      | 47.13631      | 75.53648      | 84.87395      | 410.059999    | 540.083042    | -130.02304315 | 195.8147      | 226.3777      | -30.56298     | 188.5452      | 1             | up            |\n",
       "| 2006-01-27    | 1206          | 1161.5        | 1125.10       | 30.20394      | 47.16477      | 71.88940      | 72.83951      | 385.159771    | 505.701474    | -120.54170384 | 183.1496      | 210.0950      | -26.94535     | 188.6591      | 1             | up            |\n",
       "\n"
      ],
      "text/plain": [
       "  data       close avg10  avg20   std10    std20    rsi14    rsi5    \n",
       "1 2006-01-19 1169  1125.5 1090.75 20.99339 41.35962 80.00000 79.78723\n",
       "2 2006-01-20 1159  1130.3 1096.10 22.72566 42.97233 76.44444 68.13187\n",
       "3 2006-01-23 1151  1134.7 1101.20 21.95981 43.14065 69.65174 53.16456\n",
       "4 2006-01-24 1183  1143.2 1108.45 22.61661 44.13314 70.95238 71.84466\n",
       "5 2006-01-26 1210  1152.2 1116.60 29.28329 47.13631 75.53648 84.87395\n",
       "6 2006-01-27 1206  1161.5 1125.10 30.20394 47.16477 71.88940 72.83951\n",
       "  macd1226   signal9    histogram9    macd0720 signal5  histogram5 bbands  \n",
       "1   8.139799   8.410823   -0.03708359 264.5633 315.4604 -50.89717  165.4385\n",
       "2 497.641465 659.455256 -161.81379100 243.1772 289.7030 -46.52582  171.8893\n",
       "3 464.317299 616.859668 -152.54236958 221.6372 265.4819 -43.84465  172.5626\n",
       "4 435.469963 577.015721 -141.54575885 206.6961 244.1180 -37.42183  176.5326\n",
       "5 410.059999 540.083042 -130.02304315 195.8147 226.3777 -30.56298  188.5452\n",
       "6 385.159771 505.701474 -120.54170384 183.1496 210.0950 -26.94535  188.6591\n",
       "  direction dirret\n",
       "1 1         up    \n",
       "2 1         up    \n",
       "3 1         up    \n",
       "4 1         up    \n",
       "5 1         up    \n",
       "6 1         up    "
      ]
     },
     "metadata": {},
     "output_type": "display_data"
    }
   ],
   "source": [
    "head(iseout)"
   ]
  },
  {
   "cell_type": "markdown",
   "metadata": {},
   "source": [
    "## 3. Histogramas"
   ]
  },
  {
   "cell_type": "code",
   "execution_count": 32,
   "metadata": {},
   "outputs": [
    {
     "data": {
      "image/png": "[encoded data removed]",
      "text/plain": [
       "Plot with title \"std20\""
      ]
     },
     "metadata": {},
     "output_type": "display_data"
    }
   ],
   "source": [
    "par(mfrow=c(2,3))\n",
    "\n",
    "hist(iseout$close, col=\"light gray\",  main=\"close\", border=\"black\")\n",
    "\n",
    "hist(iseout$avg10, col=\"light gray\", main=\"avg10\", border=\"black\")\n",
    "\n",
    "hist(iseout$avg20, col=\"light gray\", main=\"avg20\", border=\"black\")\n",
    "\n",
    "hist(iseout$std10, col=\"light gray\", main=\"std10\", border=\"black\")\n",
    "\n",
    "hist(iseout$std20, col=\"light gray\", main=\"std20\", border=\"black\")"
   ]
  },
  {
   "cell_type": "code",
   "execution_count": 33,
   "metadata": {},
   "outputs": [
    {
     "data": {
      "image/png": "[encoded data removed]",
      "text/plain": [
       "Plot with title \"histogram9\""
      ]
     },
     "metadata": {},
     "output_type": "display_data"
    }
   ],
   "source": [
    "par(mfrow=c(2,3))\n",
    "\n",
    "hist(iseout$rsi14, col=\"light gray\", main=\"rsi14\", border=\"black\")\n",
    "\n",
    "hist(iseout$rsi5, col=\"light gray\", main=\"rsi5\", border=\"black\")\n",
    "\n",
    "hist(iseout$macd1226, col=\"light gray\", main=\"macd1226\", border=\"black\")\n",
    "\n",
    "hist(iseout$signal9, col=\"light gray\",  main=\"signal9\", border=\"black\")\n",
    "\n",
    "hist(iseout$histogram9, col=\"light gray\", main=\"histogram9\", border=\"black\")"
   ]
  },
  {
   "cell_type": "code",
   "execution_count": 34,
   "metadata": {},
   "outputs": [
    {
     "data": {
      "image/png": "[encoded data removed]",
      "text/plain": [
       "Plot with title \"bbands\""
      ]
     },
     "metadata": {},
     "output_type": "display_data"
    }
   ],
   "source": [
    "par(mfrow=c(2,3))\n",
    "\n",
    "hist(iseout$macd0720, col=\"light gray\", main=\"macd0720\", border=\"black\")\n",
    "\n",
    "hist(iseout$signal5, col=\"light gray\", main=\"signal5\", border=\"black\")\n",
    "\n",
    "hist(iseout$histogram5, col=\"light gray\", main=\"histogram5\", border=\"black\")\n",
    "\n",
    "hist(iseout$bbands, col=\"light gray\", main=\"bbands\", border=\"black\")"
   ]
  },
  {
   "cell_type": "markdown",
   "metadata": {},
   "source": [
    "## 4. Densidades"
   ]
  },
  {
   "cell_type": "code",
   "execution_count": 35,
   "metadata": {},
   "outputs": [
    {
     "data": {
      "image/png": "[encoded data removed]",
      "text/plain": [
       "Plot with title \"std20\""
      ]
     },
     "metadata": {},
     "output_type": "display_data"
    }
   ],
   "source": [
    "par(mfrow=c(2,3))\n",
    "\n",
    "den1 <- density(iseout$close)\n",
    "plot(den1, main = \"close\")\n",
    "\n",
    "den2 <- density(iseout$avg10)\n",
    "plot(den2, main = \"avg10\")\n",
    "\n",
    "den3 <- density(iseout$avg20)\n",
    "plot(den3, main = \"avg20\")\n",
    "\n",
    "den4 <- density(iseout$std10)\n",
    "plot(den4, main = \"std10\")\n",
    "\n",
    "den5 <- density(iseout$std20)\n",
    "plot(den5, main = \"std20\")"
   ]
  },
  {
   "cell_type": "code",
   "execution_count": 36,
   "metadata": {},
   "outputs": [
    {
     "data": {
      "image/png": "[encoded data removed]",
      "text/plain": [
       "Plot with title \"histogram9\""
      ]
     },
     "metadata": {},
     "output_type": "display_data"
    }
   ],
   "source": [
    "par(mfrow=c(2,3))\n",
    "\n",
    "den6 <- density(iseout$rsi14)\n",
    "plot(den6, main = \"rsi14\")\n",
    "\n",
    "den7 <- density(iseout$rsi5)\n",
    "plot(den7, main = \"rsi5\")\n",
    "\n",
    "den8 <- density(iseout$macd1226)\n",
    "plot(den8, main = \"macd1226\")\n",
    "\n",
    "den9 <- density(iseout$signal9)\n",
    "plot(den9, main = \"signal9\")\n",
    "\n",
    "den10 <- density(iseout$histogram9)\n",
    "plot(den10, main = \"histogram9\")"
   ]
  },
  {
   "cell_type": "code",
   "execution_count": 37,
   "metadata": {},
   "outputs": [
    {
     "data": {
      "image/png": "[encoded data removed]",
      "text/plain": [
       "Plot with title \"bbands\""
      ]
     },
     "metadata": {},
     "output_type": "display_data"
    }
   ],
   "source": [
    "par(mfrow=c(2,3))\n",
    "\n",
    "den11 <- density(iseout$macd0720)\n",
    "plot(den11, main = \"macd0720\")\n",
    "\n",
    "den12 <- density(iseout$signal5)\n",
    "plot(den12, main = \"signal5\")\n",
    "\n",
    "den13 <- density(iseout$histogram5)\n",
    "plot(den13, main = \"histogram5\")\n",
    "\n",
    "den14 <- density(iseout$bbands)\n",
    "plot(den14, main = \"bbands\")"
   ]
  },
  {
   "cell_type": "markdown",
   "metadata": {},
   "source": [
    "## 5. Correlação"
   ]
  },
  {
   "cell_type": "code",
   "execution_count": 38,
   "metadata": {},
   "outputs": [
    {
     "name": "stderr",
     "output_type": "stream",
     "text": [
      "Warning message:\n",
      "\"package 'corrplot' was built under R version 3.6.3\"corrplot 0.84 loaded\n"
     ]
    }
   ],
   "source": [
    "# Biblioteca(s) Necessária(s)\n",
    "library(corrplot)"
   ]
  },
  {
   "cell_type": "code",
   "execution_count": 39,
   "metadata": {},
   "outputs": [
    {
     "data": {
      "text/html": [
       "<table>\n",
       "<thead><tr><th></th><th scope=col>close</th><th scope=col>avg10</th><th scope=col>avg20</th><th scope=col>std10</th><th scope=col>std20</th><th scope=col>rsi14</th><th scope=col>rsi5</th><th scope=col>macd1226</th><th scope=col>signal9</th><th scope=col>histogram9</th><th scope=col>macd0720</th><th scope=col>signal5</th><th scope=col>histogram5</th><th scope=col>bbands</th></tr></thead>\n",
       "<tbody>\n",
       "\t<tr><th scope=row>close</th><td>1.00 </td><td> 0.99</td><td> 0.99</td><td> 0.24</td><td> 0.25</td><td> 0.11</td><td> 0.05</td><td> 0.12</td><td> 0.09</td><td> 0.07</td><td> 0.15</td><td> 0.15</td><td> 0.02</td><td> 0.25</td></tr>\n",
       "\t<tr><th scope=row>avg10</th><td>0.99 </td><td> 1.00</td><td> 1.00</td><td> 0.27</td><td> 0.26</td><td> 0.06</td><td>-0.01</td><td> 0.09</td><td> 0.08</td><td> 0.01</td><td> 0.10</td><td> 0.11</td><td>-0.04</td><td> 0.26</td></tr>\n",
       "\t<tr><th scope=row>avg20</th><td>0.99 </td><td> 1.00</td><td> 1.00</td><td> 0.29</td><td> 0.29</td><td> 0.01</td><td>-0.02</td><td> 0.04</td><td> 0.04</td><td>-0.01</td><td> 0.04</td><td> 0.06</td><td>-0.04</td><td> 0.29</td></tr>\n",
       "\t<tr><th scope=row>std10</th><td>0.24 </td><td> 0.27</td><td> 0.29</td><td> 1.00</td><td> 0.77</td><td>-0.10</td><td> 0.00</td><td>-0.38</td><td>-0.31</td><td>-0.15</td><td>-0.38</td><td>-0.38</td><td>-0.02</td><td> 0.77</td></tr>\n",
       "\t<tr><th scope=row>std20</th><td>0.25 </td><td> 0.26</td><td> 0.29</td><td> 0.77</td><td> 1.00</td><td>-0.01</td><td> 0.00</td><td>-0.38</td><td>-0.34</td><td>-0.06</td><td>-0.40</td><td>-0.36</td><td> 0.05</td><td> 1.00</td></tr>\n",
       "\t<tr><th scope=row>rsi14</th><td>0.11 </td><td> 0.06</td><td> 0.01</td><td>-0.10</td><td>-0.01</td><td> 1.00</td><td> 0.54</td><td> 0.55</td><td> 0.37</td><td> 0.45</td><td> 0.69</td><td> 0.62</td><td> 0.31</td><td>-0.01</td></tr>\n",
       "\t<tr><th scope=row>rsi5</th><td>0.05 </td><td>-0.01</td><td>-0.02</td><td> 0.00</td><td> 0.00</td><td> 0.54</td><td> 1.00</td><td> 0.23</td><td> 0.08</td><td> 0.43</td><td> 0.37</td><td> 0.20</td><td> 0.65</td><td> 0.00</td></tr>\n",
       "\t<tr><th scope=row>macd1226</th><td>0.12 </td><td> 0.09</td><td> 0.04</td><td>-0.38</td><td>-0.38</td><td> 0.55</td><td> 0.23</td><td> 1.00</td><td> 0.95</td><td>-0.04</td><td> 0.90</td><td> 0.94</td><td>-0.11</td><td>-0.38</td></tr>\n",
       "\t<tr><th scope=row>signal9</th><td>0.09 </td><td> 0.08</td><td> 0.04</td><td>-0.31</td><td>-0.34</td><td> 0.37</td><td> 0.08</td><td> 0.95</td><td> 1.00</td><td>-0.35</td><td> 0.74</td><td> 0.83</td><td>-0.33</td><td>-0.34</td></tr>\n",
       "\t<tr><th scope=row>histogram9</th><td>0.07 </td><td> 0.01</td><td>-0.01</td><td>-0.15</td><td>-0.06</td><td> 0.45</td><td> 0.43</td><td>-0.04</td><td>-0.35</td><td> 1.00</td><td> 0.33</td><td> 0.14</td><td> 0.72</td><td>-0.06</td></tr>\n",
       "\t<tr><th scope=row>macd0720</th><td>0.15 </td><td> 0.10</td><td> 0.04</td><td>-0.38</td><td>-0.40</td><td> 0.69</td><td> 0.37</td><td> 0.90</td><td> 0.74</td><td> 0.33</td><td> 1.00</td><td> 0.93</td><td> 0.13</td><td>-0.40</td></tr>\n",
       "\t<tr><th scope=row>signal5</th><td>0.15 </td><td> 0.11</td><td> 0.06</td><td>-0.38</td><td>-0.36</td><td> 0.62</td><td> 0.20</td><td> 0.94</td><td> 0.83</td><td> 0.14</td><td> 0.93</td><td> 1.00</td><td>-0.12</td><td>-0.36</td></tr>\n",
       "\t<tr><th scope=row>histogram5</th><td>0.02 </td><td>-0.04</td><td>-0.04</td><td>-0.02</td><td> 0.05</td><td> 0.31</td><td> 0.65</td><td>-0.11</td><td>-0.33</td><td> 0.72</td><td> 0.13</td><td>-0.12</td><td> 1.00</td><td> 0.05</td></tr>\n",
       "\t<tr><th scope=row>bbands</th><td>0.25 </td><td> 0.26</td><td> 0.29</td><td> 0.77</td><td> 1.00</td><td>-0.01</td><td> 0.00</td><td>-0.38</td><td>-0.34</td><td>-0.06</td><td>-0.40</td><td>-0.36</td><td> 0.05</td><td> 1.00</td></tr>\n",
       "</tbody>\n",
       "</table>\n"
      ],
      "text/latex": [
       "\\begin{tabular}{r|llllllllllllll}\n",
       "  & close & avg10 & avg20 & std10 & std20 & rsi14 & rsi5 & macd1226 & signal9 & histogram9 & macd0720 & signal5 & histogram5 & bbands\\\\\n",
       "\\hline\n",
       "\tclose & 1.00  &  0.99 &  0.99 &  0.24 &  0.25 &  0.11 &  0.05 &  0.12 &  0.09 &  0.07 &  0.15 &  0.15 &  0.02 &  0.25\\\\\n",
       "\tavg10 & 0.99  &  1.00 &  1.00 &  0.27 &  0.26 &  0.06 & -0.01 &  0.09 &  0.08 &  0.01 &  0.10 &  0.11 & -0.04 &  0.26\\\\\n",
       "\tavg20 & 0.99  &  1.00 &  1.00 &  0.29 &  0.29 &  0.01 & -0.02 &  0.04 &  0.04 & -0.01 &  0.04 &  0.06 & -0.04 &  0.29\\\\\n",
       "\tstd10 & 0.24  &  0.27 &  0.29 &  1.00 &  0.77 & -0.10 &  0.00 & -0.38 & -0.31 & -0.15 & -0.38 & -0.38 & -0.02 &  0.77\\\\\n",
       "\tstd20 & 0.25  &  0.26 &  0.29 &  0.77 &  1.00 & -0.01 &  0.00 & -0.38 & -0.34 & -0.06 & -0.40 & -0.36 &  0.05 &  1.00\\\\\n",
       "\trsi14 & 0.11  &  0.06 &  0.01 & -0.10 & -0.01 &  1.00 &  0.54 &  0.55 &  0.37 &  0.45 &  0.69 &  0.62 &  0.31 & -0.01\\\\\n",
       "\trsi5 & 0.05  & -0.01 & -0.02 &  0.00 &  0.00 &  0.54 &  1.00 &  0.23 &  0.08 &  0.43 &  0.37 &  0.20 &  0.65 &  0.00\\\\\n",
       "\tmacd1226 & 0.12  &  0.09 &  0.04 & -0.38 & -0.38 &  0.55 &  0.23 &  1.00 &  0.95 & -0.04 &  0.90 &  0.94 & -0.11 & -0.38\\\\\n",
       "\tsignal9 & 0.09  &  0.08 &  0.04 & -0.31 & -0.34 &  0.37 &  0.08 &  0.95 &  1.00 & -0.35 &  0.74 &  0.83 & -0.33 & -0.34\\\\\n",
       "\thistogram9 & 0.07  &  0.01 & -0.01 & -0.15 & -0.06 &  0.45 &  0.43 & -0.04 & -0.35 &  1.00 &  0.33 &  0.14 &  0.72 & -0.06\\\\\n",
       "\tmacd0720 & 0.15  &  0.10 &  0.04 & -0.38 & -0.40 &  0.69 &  0.37 &  0.90 &  0.74 &  0.33 &  1.00 &  0.93 &  0.13 & -0.40\\\\\n",
       "\tsignal5 & 0.15  &  0.11 &  0.06 & -0.38 & -0.36 &  0.62 &  0.20 &  0.94 &  0.83 &  0.14 &  0.93 &  1.00 & -0.12 & -0.36\\\\\n",
       "\thistogram5 & 0.02  & -0.04 & -0.04 & -0.02 &  0.05 &  0.31 &  0.65 & -0.11 & -0.33 &  0.72 &  0.13 & -0.12 &  1.00 &  0.05\\\\\n",
       "\tbbands & 0.25  &  0.26 &  0.29 &  0.77 &  1.00 & -0.01 &  0.00 & -0.38 & -0.34 & -0.06 & -0.40 & -0.36 &  0.05 &  1.00\\\\\n",
       "\\end{tabular}\n"
      ],
      "text/markdown": [
       "\n",
       "| <!--/--> | close | avg10 | avg20 | std10 | std20 | rsi14 | rsi5 | macd1226 | signal9 | histogram9 | macd0720 | signal5 | histogram5 | bbands |\n",
       "|---|---|---|---|---|---|---|---|---|---|---|---|---|---|---|\n",
       "| close | 1.00  |  0.99 |  0.99 |  0.24 |  0.25 |  0.11 |  0.05 |  0.12 |  0.09 |  0.07 |  0.15 |  0.15 |  0.02 |  0.25 |\n",
       "| avg10 | 0.99  |  1.00 |  1.00 |  0.27 |  0.26 |  0.06 | -0.01 |  0.09 |  0.08 |  0.01 |  0.10 |  0.11 | -0.04 |  0.26 |\n",
       "| avg20 | 0.99  |  1.00 |  1.00 |  0.29 |  0.29 |  0.01 | -0.02 |  0.04 |  0.04 | -0.01 |  0.04 |  0.06 | -0.04 |  0.29 |\n",
       "| std10 | 0.24  |  0.27 |  0.29 |  1.00 |  0.77 | -0.10 |  0.00 | -0.38 | -0.31 | -0.15 | -0.38 | -0.38 | -0.02 |  0.77 |\n",
       "| std20 | 0.25  |  0.26 |  0.29 |  0.77 |  1.00 | -0.01 |  0.00 | -0.38 | -0.34 | -0.06 | -0.40 | -0.36 |  0.05 |  1.00 |\n",
       "| rsi14 | 0.11  |  0.06 |  0.01 | -0.10 | -0.01 |  1.00 |  0.54 |  0.55 |  0.37 |  0.45 |  0.69 |  0.62 |  0.31 | -0.01 |\n",
       "| rsi5 | 0.05  | -0.01 | -0.02 |  0.00 |  0.00 |  0.54 |  1.00 |  0.23 |  0.08 |  0.43 |  0.37 |  0.20 |  0.65 |  0.00 |\n",
       "| macd1226 | 0.12  |  0.09 |  0.04 | -0.38 | -0.38 |  0.55 |  0.23 |  1.00 |  0.95 | -0.04 |  0.90 |  0.94 | -0.11 | -0.38 |\n",
       "| signal9 | 0.09  |  0.08 |  0.04 | -0.31 | -0.34 |  0.37 |  0.08 |  0.95 |  1.00 | -0.35 |  0.74 |  0.83 | -0.33 | -0.34 |\n",
       "| histogram9 | 0.07  |  0.01 | -0.01 | -0.15 | -0.06 |  0.45 |  0.43 | -0.04 | -0.35 |  1.00 |  0.33 |  0.14 |  0.72 | -0.06 |\n",
       "| macd0720 | 0.15  |  0.10 |  0.04 | -0.38 | -0.40 |  0.69 |  0.37 |  0.90 |  0.74 |  0.33 |  1.00 |  0.93 |  0.13 | -0.40 |\n",
       "| signal5 | 0.15  |  0.11 |  0.06 | -0.38 | -0.36 |  0.62 |  0.20 |  0.94 |  0.83 |  0.14 |  0.93 |  1.00 | -0.12 | -0.36 |\n",
       "| histogram5 | 0.02  | -0.04 | -0.04 | -0.02 |  0.05 |  0.31 |  0.65 | -0.11 | -0.33 |  0.72 |  0.13 | -0.12 |  1.00 |  0.05 |\n",
       "| bbands | 0.25  |  0.26 |  0.29 |  0.77 |  1.00 | -0.01 |  0.00 | -0.38 | -0.34 | -0.06 | -0.40 | -0.36 |  0.05 |  1.00 |\n",
       "\n"
      ],
      "text/plain": [
       "           close avg10 avg20 std10 std20 rsi14 rsi5  macd1226 signal9\n",
       "close      1.00   0.99  0.99  0.24  0.25  0.11  0.05  0.12     0.09  \n",
       "avg10      0.99   1.00  1.00  0.27  0.26  0.06 -0.01  0.09     0.08  \n",
       "avg20      0.99   1.00  1.00  0.29  0.29  0.01 -0.02  0.04     0.04  \n",
       "std10      0.24   0.27  0.29  1.00  0.77 -0.10  0.00 -0.38    -0.31  \n",
       "std20      0.25   0.26  0.29  0.77  1.00 -0.01  0.00 -0.38    -0.34  \n",
       "rsi14      0.11   0.06  0.01 -0.10 -0.01  1.00  0.54  0.55     0.37  \n",
       "rsi5       0.05  -0.01 -0.02  0.00  0.00  0.54  1.00  0.23     0.08  \n",
       "macd1226   0.12   0.09  0.04 -0.38 -0.38  0.55  0.23  1.00     0.95  \n",
       "signal9    0.09   0.08  0.04 -0.31 -0.34  0.37  0.08  0.95     1.00  \n",
       "histogram9 0.07   0.01 -0.01 -0.15 -0.06  0.45  0.43 -0.04    -0.35  \n",
       "macd0720   0.15   0.10  0.04 -0.38 -0.40  0.69  0.37  0.90     0.74  \n",
       "signal5    0.15   0.11  0.06 -0.38 -0.36  0.62  0.20  0.94     0.83  \n",
       "histogram5 0.02  -0.04 -0.04 -0.02  0.05  0.31  0.65 -0.11    -0.33  \n",
       "bbands     0.25   0.26  0.29  0.77  1.00 -0.01  0.00 -0.38    -0.34  \n",
       "           histogram9 macd0720 signal5 histogram5 bbands\n",
       "close       0.07       0.15     0.15    0.02       0.25 \n",
       "avg10       0.01       0.10     0.11   -0.04       0.26 \n",
       "avg20      -0.01       0.04     0.06   -0.04       0.29 \n",
       "std10      -0.15      -0.38    -0.38   -0.02       0.77 \n",
       "std20      -0.06      -0.40    -0.36    0.05       1.00 \n",
       "rsi14       0.45       0.69     0.62    0.31      -0.01 \n",
       "rsi5        0.43       0.37     0.20    0.65       0.00 \n",
       "macd1226   -0.04       0.90     0.94   -0.11      -0.38 \n",
       "signal9    -0.35       0.74     0.83   -0.33      -0.34 \n",
       "histogram9  1.00       0.33     0.14    0.72      -0.06 \n",
       "macd0720    0.33       1.00     0.93    0.13      -0.40 \n",
       "signal5     0.14       0.93     1.00   -0.12      -0.36 \n",
       "histogram5  0.72       0.13    -0.12    1.00       0.05 \n",
       "bbands     -0.06      -0.40    -0.36    0.05       1.00 "
      ]
     },
     "metadata": {},
     "output_type": "display_data"
    }
   ],
   "source": [
    "# Cálculo das correlações entre os atributos numéricos\n",
    "df <- iseout[,c(2:15)]\n",
    "\n",
    "round(cor(df), digits = 2)"
   ]
  },
  {
   "cell_type": "code",
   "execution_count": 40,
   "metadata": {},
   "outputs": [
    {
     "data": {
      "image/png": "[encoded data removed]",
      "text/plain": [
       "Plot with title \"\""
      ]
     },
     "metadata": {},
     "output_type": "display_data"
    }
   ],
   "source": [
    "# Matriz de correlação\n",
    "corrplot(cor(df), method = \"circle\", tl.col=\"black\", tl.cex=0.8, tl.srt=90)"
   ]
  },
  {
   "cell_type": "code",
   "execution_count": 41,
   "metadata": {},
   "outputs": [
    {
     "data": {
      "image/png": "[encoded data removed]",
      "text/plain": [
       "Plot with title \"\""
      ]
     },
     "metadata": {},
     "output_type": "display_data"
    }
   ],
   "source": [
    "corrplot(cor(df), method = \"color\", tl.col=\"black\", tl.cex=0.8, tl.srt=90)"
   ]
  },
  {
   "cell_type": "markdown",
   "metadata": {},
   "source": [
    "## 6. QQ Plot"
   ]
  },
  {
   "cell_type": "code",
   "execution_count": 42,
   "metadata": {},
   "outputs": [
    {
     "data": {
      "image/png": "[encoded data removed]",
      "text/plain": [
       "Plot with title \"std20\""
      ]
     },
     "metadata": {},
     "output_type": "display_data"
    }
   ],
   "source": [
    "par(mfrow=c(2,3))\n",
    "\n",
    "qqnorm(iseout$close, main = \"close\", xlab = \"Quantis teóricos N(0,1)\", pch = 20)\n",
    "qqline(iseout$close, lty = 1, col = \"red\")\n",
    "\n",
    "qqnorm(iseout$avg10, main = \"avg10\", xlab = \"Quantis teóricos N(0,1)\", pch = 20)\n",
    "qqline(iseout$avg10, lty = 1, col = \"red\")\n",
    "\n",
    "qqnorm(iseout$avg20, main = \"avg20\", xlab = \"Quantis teóricos N(0,1)\", pch = 20)\n",
    "qqline(iseout$avg20, lty = 1, col = \"red\")\n",
    "\n",
    "qqnorm(iseout$std10, main = \"std10\", xlab = \"Quantis teóricos N(0,1)\", pch = 20)\n",
    "qqline(iseout$std10, lty = 1, col = \"red\")\n",
    "\n",
    "qqnorm(iseout$std20, main = \"std20\", xlab = \"Quantis teóricos N(0,1)\", pch = 20)\n",
    "qqline(iseout$std20, lty = 1, col = \"red\")"
   ]
  },
  {
   "cell_type": "code",
   "execution_count": 43,
   "metadata": {},
   "outputs": [
    {
     "data": {
      "image/png": "[encoded data removed]",
      "text/plain": [
       "Plot with title \"histogram9\""
      ]
     },
     "metadata": {},
     "output_type": "display_data"
    }
   ],
   "source": [
    "par(mfrow=c(2,3))\n",
    "\n",
    "qqnorm(iseout$rsi14, main = \"rsi14\", xlab = \"Quantis teóricos N(0,1)\", pch = 20)\n",
    "qqline(iseout$rsi14, lty = 1, col = \"red\")\n",
    "\n",
    "qqnorm(iseout$rsi5, main = \"rsi5\", xlab = \"Quantis teóricos N(0,1)\", pch = 20)\n",
    "qqline(iseout$rsi5, lty = 1, col = \"red\")\n",
    "\n",
    "qqnorm(iseout$macd1226, main = \"macd1226\", xlab = \"Quantis teóricos N(0,1)\", pch = 20)\n",
    "qqline(iseout$macd1226, lty = 1, col = \"red\")\n",
    "\n",
    "qqnorm(iseout$signal9, main = \"signal9\", xlab = \"Quantis teóricos N(0,1)\", pch = 20)\n",
    "qqline(iseout$signal9, lty = 1, col = \"red\")\n",
    "\n",
    "qqnorm(iseout$histogram9, main = \"histogram9\", xlab = \"Quantis teóricos N(0,1)\", pch = 20)\n",
    "qqline(iseout$histogram9, lty = 1, col = \"red\")"
   ]
  },
  {
   "cell_type": "code",
   "execution_count": 44,
   "metadata": {},
   "outputs": [
    {
     "data": {
      "image/png": "[encoded data removed]",
      "text/plain": [
       "Plot with title \"bbands\""
      ]
     },
     "metadata": {},
     "output_type": "display_data"
    }
   ],
   "source": [
    "par(mfrow=c(2,3))\n",
    "\n",
    "qqnorm(iseout$macd0720, main = \"macd0720\", xlab = \"Quantis teóricos N(0,1)\", pch = 20)\n",
    "qqline(iseout$macd0720, lty = 1, col = \"red\")\n",
    "\n",
    "qqnorm(iseout$signal5, main = \"signal5\", xlab = \"Quantis teóricos N(0,1)\", pch = 20)\n",
    "qqline(iseout$signal5, lty = 1, col = \"red\")\n",
    "\n",
    "qqnorm(iseout$histogram5, main = \"histogram5\", xlab = \"Quantis teóricos N(0,1)\", pch = 20)\n",
    "qqline(iseout$histogram5, lty = 1, col = \"red\")\n",
    "\n",
    "qqnorm(iseout$bbands, main = \"bbands\", xlab = \"Quantis teóricos N(0,1)\", pch = 20)\n",
    "qqline(iseout$bbands, lty = 1, col = \"red\")"
   ]
  },
  {
   "cell_type": "markdown",
   "metadata": {},
   "source": [
    "# Etapa 6: Preprocessamento dos Dados"
   ]
  },
  {
   "cell_type": "markdown",
   "metadata": {},
   "source": [
    "## 1. Normalização - Método Min-Max"
   ]
  },
  {
   "cell_type": "code",
   "execution_count": 45,
   "metadata": {},
   "outputs": [],
   "source": [
    "# Função para normalização dos dados\n",
    "normalize_minmax = function(x) {\n",
    "    return ((x - min(x)) / (max(x) - min(x)))\n",
    "}"
   ]
  },
  {
   "cell_type": "code",
   "execution_count": 46,
   "metadata": {},
   "outputs": [
    {
     "data": {
      "text/html": [
       "<table>\n",
       "<thead><tr><th scope=col>close</th><th scope=col>avg10</th><th scope=col>avg20</th><th scope=col>std10</th><th scope=col>std20</th><th scope=col>rsi14</th><th scope=col>rsi5</th><th scope=col>macd1226</th><th scope=col>signal9</th><th scope=col>histogram9</th><th scope=col>macd0720</th><th scope=col>signal5</th><th scope=col>histogram5</th><th scope=col>bbands</th></tr></thead>\n",
       "<tbody>\n",
       "\t<tr><td>0.3411508 </td><td>0.3322137 </td><td>0.3250743 </td><td>0.1052922 </td><td>0.1094764 </td><td>0.1174151 </td><td>0.1173714 </td><td>0.1026514 </td><td>0.1027071 </td><td>0.10097144</td><td>0.1553337 </td><td>0.1657906 </td><td>0.09052221</td><td>0.1349685 </td></tr>\n",
       "\t<tr><td>0.3390963 </td><td>0.3331999 </td><td>0.3261734 </td><td>0.1056481 </td><td>0.1098077 </td><td>0.1166846 </td><td>0.1149768 </td><td>0.2032198 </td><td>0.2364645 </td><td>0.06773432</td><td>0.1509400 </td><td>0.1604987 </td><td>0.09142030</td><td>0.1362938 </td></tr>\n",
       "\t<tr><td>0.3374527 </td><td>0.3341038 </td><td>0.3272212 </td><td>0.1054907 </td><td>0.1098423 </td><td>0.1152890 </td><td>0.1119017 </td><td>0.1963733 </td><td>0.2277132 </td><td>0.06963914</td><td>0.1465146 </td><td>0.1555225 </td><td>0.09197115</td><td>0.1364321 </td></tr>\n",
       "\t<tr><td>0.3440271 </td><td>0.3358502 </td><td>0.3287108 </td><td>0.1056257 </td><td>0.1100462 </td><td>0.1155563 </td><td>0.1157396 </td><td>0.1904466 </td><td>0.2195273 </td><td>0.07189840</td><td>0.1434449 </td><td>0.1511332 </td><td>0.09329072</td><td>0.1372478 </td></tr>\n",
       "\t<tr><td>0.3495743 </td><td>0.3376992 </td><td>0.3303852 </td><td>0.1069953 </td><td>0.1106632 </td><td>0.1164981 </td><td>0.1184165 </td><td>0.1852261 </td><td>0.2119394 </td><td>0.07426575</td><td>0.1412093 </td><td>0.1474885 </td><td>0.09469988</td><td>0.1397158 </td></tr>\n",
       "\t<tr><td>0.3487525 </td><td>0.3396099 </td><td>0.3321315 </td><td>0.1071845 </td><td>0.1106691 </td><td>0.1157488 </td><td>0.1159440 </td><td>0.1801104 </td><td>0.2048757 </td><td>0.07621370</td><td>0.1386073 </td><td>0.1441432 </td><td>0.09544312</td><td>0.1397392 </td></tr>\n",
       "</tbody>\n",
       "</table>\n"
      ],
      "text/latex": [
       "\\begin{tabular}{r|llllllllllllll}\n",
       " close & avg10 & avg20 & std10 & std20 & rsi14 & rsi5 & macd1226 & signal9 & histogram9 & macd0720 & signal5 & histogram5 & bbands\\\\\n",
       "\\hline\n",
       "\t 0.3411508  & 0.3322137  & 0.3250743  & 0.1052922  & 0.1094764  & 0.1174151  & 0.1173714  & 0.1026514  & 0.1027071  & 0.10097144 & 0.1553337  & 0.1657906  & 0.09052221 & 0.1349685 \\\\\n",
       "\t 0.3390963  & 0.3331999  & 0.3261734  & 0.1056481  & 0.1098077  & 0.1166846  & 0.1149768  & 0.2032198  & 0.2364645  & 0.06773432 & 0.1509400  & 0.1604987  & 0.09142030 & 0.1362938 \\\\\n",
       "\t 0.3374527  & 0.3341038  & 0.3272212  & 0.1054907  & 0.1098423  & 0.1152890  & 0.1119017  & 0.1963733  & 0.2277132  & 0.06963914 & 0.1465146  & 0.1555225  & 0.09197115 & 0.1364321 \\\\\n",
       "\t 0.3440271  & 0.3358502  & 0.3287108  & 0.1056257  & 0.1100462  & 0.1155563  & 0.1157396  & 0.1904466  & 0.2195273  & 0.07189840 & 0.1434449  & 0.1511332  & 0.09329072 & 0.1372478 \\\\\n",
       "\t 0.3495743  & 0.3376992  & 0.3303852  & 0.1069953  & 0.1106632  & 0.1164981  & 0.1184165  & 0.1852261  & 0.2119394  & 0.07426575 & 0.1412093  & 0.1474885  & 0.09469988 & 0.1397158 \\\\\n",
       "\t 0.3487525  & 0.3396099  & 0.3321315  & 0.1071845  & 0.1106691  & 0.1157488  & 0.1159440  & 0.1801104  & 0.2048757  & 0.07621370 & 0.1386073  & 0.1441432  & 0.09544312 & 0.1397392 \\\\\n",
       "\\end{tabular}\n"
      ],
      "text/markdown": [
       "\n",
       "| close | avg10 | avg20 | std10 | std20 | rsi14 | rsi5 | macd1226 | signal9 | histogram9 | macd0720 | signal5 | histogram5 | bbands |\n",
       "|---|---|---|---|---|---|---|---|---|---|---|---|---|---|\n",
       "| 0.3411508  | 0.3322137  | 0.3250743  | 0.1052922  | 0.1094764  | 0.1174151  | 0.1173714  | 0.1026514  | 0.1027071  | 0.10097144 | 0.1553337  | 0.1657906  | 0.09052221 | 0.1349685  |\n",
       "| 0.3390963  | 0.3331999  | 0.3261734  | 0.1056481  | 0.1098077  | 0.1166846  | 0.1149768  | 0.2032198  | 0.2364645  | 0.06773432 | 0.1509400  | 0.1604987  | 0.09142030 | 0.1362938  |\n",
       "| 0.3374527  | 0.3341038  | 0.3272212  | 0.1054907  | 0.1098423  | 0.1152890  | 0.1119017  | 0.1963733  | 0.2277132  | 0.06963914 | 0.1465146  | 0.1555225  | 0.09197115 | 0.1364321  |\n",
       "| 0.3440271  | 0.3358502  | 0.3287108  | 0.1056257  | 0.1100462  | 0.1155563  | 0.1157396  | 0.1904466  | 0.2195273  | 0.07189840 | 0.1434449  | 0.1511332  | 0.09329072 | 0.1372478  |\n",
       "| 0.3495743  | 0.3376992  | 0.3303852  | 0.1069953  | 0.1106632  | 0.1164981  | 0.1184165  | 0.1852261  | 0.2119394  | 0.07426575 | 0.1412093  | 0.1474885  | 0.09469988 | 0.1397158  |\n",
       "| 0.3487525  | 0.3396099  | 0.3321315  | 0.1071845  | 0.1106691  | 0.1157488  | 0.1159440  | 0.1801104  | 0.2048757  | 0.07621370 | 0.1386073  | 0.1441432  | 0.09544312 | 0.1397392  |\n",
       "\n"
      ],
      "text/plain": [
       "  close     avg10     avg20     std10     std20     rsi14     rsi5     \n",
       "1 0.3411508 0.3322137 0.3250743 0.1052922 0.1094764 0.1174151 0.1173714\n",
       "2 0.3390963 0.3331999 0.3261734 0.1056481 0.1098077 0.1166846 0.1149768\n",
       "3 0.3374527 0.3341038 0.3272212 0.1054907 0.1098423 0.1152890 0.1119017\n",
       "4 0.3440271 0.3358502 0.3287108 0.1056257 0.1100462 0.1155563 0.1157396\n",
       "5 0.3495743 0.3376992 0.3303852 0.1069953 0.1106632 0.1164981 0.1184165\n",
       "6 0.3487525 0.3396099 0.3321315 0.1071845 0.1106691 0.1157488 0.1159440\n",
       "  macd1226  signal9   histogram9 macd0720  signal5   histogram5 bbands   \n",
       "1 0.1026514 0.1027071 0.10097144 0.1553337 0.1657906 0.09052221 0.1349685\n",
       "2 0.2032198 0.2364645 0.06773432 0.1509400 0.1604987 0.09142030 0.1362938\n",
       "3 0.1963733 0.2277132 0.06963914 0.1465146 0.1555225 0.09197115 0.1364321\n",
       "4 0.1904466 0.2195273 0.07189840 0.1434449 0.1511332 0.09329072 0.1372478\n",
       "5 0.1852261 0.2119394 0.07426575 0.1412093 0.1474885 0.09469988 0.1397158\n",
       "6 0.1801104 0.2048757 0.07621370 0.1386073 0.1441432 0.09544312 0.1397392"
      ]
     },
     "metadata": {},
     "output_type": "display_data"
    }
   ],
   "source": [
    "isemm <- normalize_minmax(iseout[,-c(1, 16, 17)])\n",
    "head(isemm)"
   ]
  },
  {
   "cell_type": "code",
   "execution_count": 47,
   "metadata": {},
   "outputs": [
    {
     "data": {
      "text/html": [
       "<table>\n",
       "<thead><tr><th scope=col>data</th><th scope=col>close</th><th scope=col>avg10</th><th scope=col>avg20</th><th scope=col>std10</th><th scope=col>std20</th><th scope=col>rsi14</th><th scope=col>rsi5</th><th scope=col>macd1226</th><th scope=col>signal9</th><th scope=col>histogram9</th><th scope=col>macd0720</th><th scope=col>signal5</th><th scope=col>histogram5</th><th scope=col>bbands</th><th scope=col>direction</th><th scope=col>dirret</th></tr></thead>\n",
       "<tbody>\n",
       "\t<tr><td>2006-01-19</td><td>0.3411508 </td><td>0.3322137 </td><td>0.3250743 </td><td>0.1052922 </td><td>0.1094764 </td><td>0.1174151 </td><td>0.1173714 </td><td>0.1026514 </td><td>0.1027071 </td><td>0.10097144</td><td>0.1553337 </td><td>0.1657906 </td><td>0.09052221</td><td>0.1349685 </td><td>1         </td><td>up        </td></tr>\n",
       "\t<tr><td>2006-01-20</td><td>0.3390963 </td><td>0.3331999 </td><td>0.3261734 </td><td>0.1056481 </td><td>0.1098077 </td><td>0.1166846 </td><td>0.1149768 </td><td>0.2032198 </td><td>0.2364645 </td><td>0.06773432</td><td>0.1509400 </td><td>0.1604987 </td><td>0.09142030</td><td>0.1362938 </td><td>1         </td><td>up        </td></tr>\n",
       "\t<tr><td>2006-01-23</td><td>0.3374527 </td><td>0.3341038 </td><td>0.3272212 </td><td>0.1054907 </td><td>0.1098423 </td><td>0.1152890 </td><td>0.1119017 </td><td>0.1963733 </td><td>0.2277132 </td><td>0.06963914</td><td>0.1465146 </td><td>0.1555225 </td><td>0.09197115</td><td>0.1364321 </td><td>1         </td><td>up        </td></tr>\n",
       "\t<tr><td>2006-01-24</td><td>0.3440271 </td><td>0.3358502 </td><td>0.3287108 </td><td>0.1056257 </td><td>0.1100462 </td><td>0.1155563 </td><td>0.1157396 </td><td>0.1904466 </td><td>0.2195273 </td><td>0.07189840</td><td>0.1434449 </td><td>0.1511332 </td><td>0.09329072</td><td>0.1372478 </td><td>1         </td><td>up        </td></tr>\n",
       "\t<tr><td>2006-01-26</td><td>0.3495743 </td><td>0.3376992 </td><td>0.3303852 </td><td>0.1069953 </td><td>0.1106632 </td><td>0.1164981 </td><td>0.1184165 </td><td>0.1852261 </td><td>0.2119394 </td><td>0.07426575</td><td>0.1412093 </td><td>0.1474885 </td><td>0.09469988</td><td>0.1397158 </td><td>1         </td><td>up        </td></tr>\n",
       "\t<tr><td>2006-01-27</td><td>0.3487525 </td><td>0.3396099 </td><td>0.3321315 </td><td>0.1071845 </td><td>0.1106691 </td><td>0.1157488 </td><td>0.1159440 </td><td>0.1801104 </td><td>0.2048757 </td><td>0.07621370</td><td>0.1386073 </td><td>0.1441432 </td><td>0.09544312</td><td>0.1397392 </td><td>1         </td><td>up        </td></tr>\n",
       "</tbody>\n",
       "</table>\n"
      ],
      "text/latex": [
       "\\begin{tabular}{r|lllllllllllllllll}\n",
       " data & close & avg10 & avg20 & std10 & std20 & rsi14 & rsi5 & macd1226 & signal9 & histogram9 & macd0720 & signal5 & histogram5 & bbands & direction & dirret\\\\\n",
       "\\hline\n",
       "\t 2006-01-19 & 0.3411508  & 0.3322137  & 0.3250743  & 0.1052922  & 0.1094764  & 0.1174151  & 0.1173714  & 0.1026514  & 0.1027071  & 0.10097144 & 0.1553337  & 0.1657906  & 0.09052221 & 0.1349685  & 1          & up        \\\\\n",
       "\t 2006-01-20 & 0.3390963  & 0.3331999  & 0.3261734  & 0.1056481  & 0.1098077  & 0.1166846  & 0.1149768  & 0.2032198  & 0.2364645  & 0.06773432 & 0.1509400  & 0.1604987  & 0.09142030 & 0.1362938  & 1          & up        \\\\\n",
       "\t 2006-01-23 & 0.3374527  & 0.3341038  & 0.3272212  & 0.1054907  & 0.1098423  & 0.1152890  & 0.1119017  & 0.1963733  & 0.2277132  & 0.06963914 & 0.1465146  & 0.1555225  & 0.09197115 & 0.1364321  & 1          & up        \\\\\n",
       "\t 2006-01-24 & 0.3440271  & 0.3358502  & 0.3287108  & 0.1056257  & 0.1100462  & 0.1155563  & 0.1157396  & 0.1904466  & 0.2195273  & 0.07189840 & 0.1434449  & 0.1511332  & 0.09329072 & 0.1372478  & 1          & up        \\\\\n",
       "\t 2006-01-26 & 0.3495743  & 0.3376992  & 0.3303852  & 0.1069953  & 0.1106632  & 0.1164981  & 0.1184165  & 0.1852261  & 0.2119394  & 0.07426575 & 0.1412093  & 0.1474885  & 0.09469988 & 0.1397158  & 1          & up        \\\\\n",
       "\t 2006-01-27 & 0.3487525  & 0.3396099  & 0.3321315  & 0.1071845  & 0.1106691  & 0.1157488  & 0.1159440  & 0.1801104  & 0.2048757  & 0.07621370 & 0.1386073  & 0.1441432  & 0.09544312 & 0.1397392  & 1          & up        \\\\\n",
       "\\end{tabular}\n"
      ],
      "text/markdown": [
       "\n",
       "| data | close | avg10 | avg20 | std10 | std20 | rsi14 | rsi5 | macd1226 | signal9 | histogram9 | macd0720 | signal5 | histogram5 | bbands | direction | dirret |\n",
       "|---|---|---|---|---|---|---|---|---|---|---|---|---|---|---|---|---|\n",
       "| 2006-01-19 | 0.3411508  | 0.3322137  | 0.3250743  | 0.1052922  | 0.1094764  | 0.1174151  | 0.1173714  | 0.1026514  | 0.1027071  | 0.10097144 | 0.1553337  | 0.1657906  | 0.09052221 | 0.1349685  | 1          | up         |\n",
       "| 2006-01-20 | 0.3390963  | 0.3331999  | 0.3261734  | 0.1056481  | 0.1098077  | 0.1166846  | 0.1149768  | 0.2032198  | 0.2364645  | 0.06773432 | 0.1509400  | 0.1604987  | 0.09142030 | 0.1362938  | 1          | up         |\n",
       "| 2006-01-23 | 0.3374527  | 0.3341038  | 0.3272212  | 0.1054907  | 0.1098423  | 0.1152890  | 0.1119017  | 0.1963733  | 0.2277132  | 0.06963914 | 0.1465146  | 0.1555225  | 0.09197115 | 0.1364321  | 1          | up         |\n",
       "| 2006-01-24 | 0.3440271  | 0.3358502  | 0.3287108  | 0.1056257  | 0.1100462  | 0.1155563  | 0.1157396  | 0.1904466  | 0.2195273  | 0.07189840 | 0.1434449  | 0.1511332  | 0.09329072 | 0.1372478  | 1          | up         |\n",
       "| 2006-01-26 | 0.3495743  | 0.3376992  | 0.3303852  | 0.1069953  | 0.1106632  | 0.1164981  | 0.1184165  | 0.1852261  | 0.2119394  | 0.07426575 | 0.1412093  | 0.1474885  | 0.09469988 | 0.1397158  | 1          | up         |\n",
       "| 2006-01-27 | 0.3487525  | 0.3396099  | 0.3321315  | 0.1071845  | 0.1106691  | 0.1157488  | 0.1159440  | 0.1801104  | 0.2048757  | 0.07621370 | 0.1386073  | 0.1441432  | 0.09544312 | 0.1397392  | 1          | up         |\n",
       "\n"
      ],
      "text/plain": [
       "  data       close     avg10     avg20     std10     std20     rsi14    \n",
       "1 2006-01-19 0.3411508 0.3322137 0.3250743 0.1052922 0.1094764 0.1174151\n",
       "2 2006-01-20 0.3390963 0.3331999 0.3261734 0.1056481 0.1098077 0.1166846\n",
       "3 2006-01-23 0.3374527 0.3341038 0.3272212 0.1054907 0.1098423 0.1152890\n",
       "4 2006-01-24 0.3440271 0.3358502 0.3287108 0.1056257 0.1100462 0.1155563\n",
       "5 2006-01-26 0.3495743 0.3376992 0.3303852 0.1069953 0.1106632 0.1164981\n",
       "6 2006-01-27 0.3487525 0.3396099 0.3321315 0.1071845 0.1106691 0.1157488\n",
       "  rsi5      macd1226  signal9   histogram9 macd0720  signal5   histogram5\n",
       "1 0.1173714 0.1026514 0.1027071 0.10097144 0.1553337 0.1657906 0.09052221\n",
       "2 0.1149768 0.2032198 0.2364645 0.06773432 0.1509400 0.1604987 0.09142030\n",
       "3 0.1119017 0.1963733 0.2277132 0.06963914 0.1465146 0.1555225 0.09197115\n",
       "4 0.1157396 0.1904466 0.2195273 0.07189840 0.1434449 0.1511332 0.09329072\n",
       "5 0.1184165 0.1852261 0.2119394 0.07426575 0.1412093 0.1474885 0.09469988\n",
       "6 0.1159440 0.1801104 0.2048757 0.07621370 0.1386073 0.1441432 0.09544312\n",
       "  bbands    direction dirret\n",
       "1 0.1349685 1         up    \n",
       "2 0.1362938 1         up    \n",
       "3 0.1364321 1         up    \n",
       "4 0.1372478 1         up    \n",
       "5 0.1397158 1         up    \n",
       "6 0.1397392 1         up    "
      ]
     },
     "metadata": {},
     "output_type": "display_data"
    }
   ],
   "source": [
    "data <- iseout$data\n",
    "direction <- iseout$direction\n",
    "dirret <- iseout$dirret\n",
    "\n",
    "isemm <- cbind(data, isemm, direction, dirret)\n",
    "head(isemm)"
   ]
  },
  {
   "cell_type": "markdown",
   "metadata": {},
   "source": [
    "## 2. Normalização - Método Z-Score"
   ]
  },
  {
   "cell_type": "code",
   "execution_count": 48,
   "metadata": {},
   "outputs": [],
   "source": [
    "# Função para normalização dos dados\n",
    "normalize_zscore = function(x) {\n",
    "    return ((x - mean(x)) / sd(x))\n",
    "}"
   ]
  },
  {
   "cell_type": "code",
   "execution_count": 49,
   "metadata": {},
   "outputs": [
    {
     "data": {
      "text/html": [
       "<table>\n",
       "<thead><tr><th scope=col>close</th><th scope=col>avg10</th><th scope=col>avg20</th><th scope=col>std10</th><th scope=col>std20</th><th scope=col>rsi14</th><th scope=col>rsi5</th><th scope=col>macd1226</th><th scope=col>signal9</th><th scope=col>histogram9</th><th scope=col>macd0720</th><th scope=col>signal5</th><th scope=col>histogram5</th><th scope=col>bbands</th></tr></thead>\n",
       "<tbody>\n",
       "\t<tr><td>0.6571943  </td><td>0.6129170  </td><td>0.5775461  </td><td>-0.5113247 </td><td>-0.4905946 </td><td>-0.4512638 </td><td>-0.4514804 </td><td>-0.52440799</td><td>-0.52413213</td><td>-0.5327310 </td><td>-0.2634028 </td><td>-0.2115962 </td><td>-0.5844998 </td><td>-0.3642987 </td></tr>\n",
       "\t<tr><td>0.6470156  </td><td>0.6178028  </td><td>0.5829917  </td><td>-0.5095615 </td><td>-0.4889531 </td><td>-0.4548829 </td><td>-0.4633440 </td><td>-0.02615998</td><td> 0.13854508</td><td>-0.6973983 </td><td>-0.2851710 </td><td>-0.2378138 </td><td>-0.5800504 </td><td>-0.3577326 </td></tr>\n",
       "\t<tr><td>0.6388727  </td><td>0.6222814  </td><td>0.5881829  </td><td>-0.5103410 </td><td>-0.4887818 </td><td>-0.4617970 </td><td>-0.4785787 </td><td>-0.06007958</td><td> 0.09518840</td><td>-0.6879612 </td><td>-0.3070958 </td><td>-0.2624678 </td><td>-0.5773213 </td><td>-0.3570473 </td></tr>\n",
       "\t<tr><td>0.6714444  </td><td>0.6309333  </td><td>0.5955624  </td><td>-0.5096725 </td><td>-0.4877715 </td><td>-0.4604731 </td><td>-0.4595649 </td><td>-0.08944236</td><td> 0.05463252</td><td>-0.6767681 </td><td>-0.3223039 </td><td>-0.2842134 </td><td>-0.5707837 </td><td>-0.3530064 </td></tr>\n",
       "\t<tr><td>0.6989269  </td><td>0.6400941  </td><td>0.6038580  </td><td>-0.5028867 </td><td>-0.4847147 </td><td>-0.4558071 </td><td>-0.4463028 </td><td>-0.11530634</td><td> 0.01703994</td><td>-0.6650395 </td><td>-0.3333797 </td><td>-0.3022706 </td><td>-0.5638023 </td><td>-0.3407791 </td></tr>\n",
       "\t<tr><td>0.6948554  </td><td>0.6495603  </td><td>0.6125099  </td><td>-0.5019496 </td><td>-0.4846857 </td><td>-0.4595193 </td><td>-0.4585522 </td><td>-0.14065148</td><td>-0.01795596</td><td>-0.6553888 </td><td>-0.3462711 </td><td>-0.3188443 </td><td>-0.5601200 </td><td>-0.3406632 </td></tr>\n",
       "</tbody>\n",
       "</table>\n"
      ],
      "text/latex": [
       "\\begin{tabular}{llllllllllllll}\n",
       " close & avg10 & avg20 & std10 & std20 & rsi14 & rsi5 & macd1226 & signal9 & histogram9 & macd0720 & signal5 & histogram5 & bbands\\\\\n",
       "\\hline\n",
       "\t 0.6571943   & 0.6129170   & 0.5775461   & -0.5113247  & -0.4905946  & -0.4512638  & -0.4514804  & -0.52440799 & -0.52413213 & -0.5327310  & -0.2634028  & -0.2115962  & -0.5844998  & -0.3642987 \\\\\n",
       "\t 0.6470156   & 0.6178028   & 0.5829917   & -0.5095615  & -0.4889531  & -0.4548829  & -0.4633440  & -0.02615998 &  0.13854508 & -0.6973983  & -0.2851710  & -0.2378138  & -0.5800504  & -0.3577326 \\\\\n",
       "\t 0.6388727   & 0.6222814   & 0.5881829   & -0.5103410  & -0.4887818  & -0.4617970  & -0.4785787  & -0.06007958 &  0.09518840 & -0.6879612  & -0.3070958  & -0.2624678  & -0.5773213  & -0.3570473 \\\\\n",
       "\t 0.6714444   & 0.6309333   & 0.5955624   & -0.5096725  & -0.4877715  & -0.4604731  & -0.4595649  & -0.08944236 &  0.05463252 & -0.6767681  & -0.3223039  & -0.2842134  & -0.5707837  & -0.3530064 \\\\\n",
       "\t 0.6989269   & 0.6400941   & 0.6038580   & -0.5028867  & -0.4847147  & -0.4558071  & -0.4463028  & -0.11530634 &  0.01703994 & -0.6650395  & -0.3333797  & -0.3022706  & -0.5638023  & -0.3407791 \\\\\n",
       "\t 0.6948554   & 0.6495603   & 0.6125099   & -0.5019496  & -0.4846857  & -0.4595193  & -0.4585522  & -0.14065148 & -0.01795596 & -0.6553888  & -0.3462711  & -0.3188443  & -0.5601200  & -0.3406632 \\\\\n",
       "\\end{tabular}\n"
      ],
      "text/markdown": [
       "\n",
       "| close | avg10 | avg20 | std10 | std20 | rsi14 | rsi5 | macd1226 | signal9 | histogram9 | macd0720 | signal5 | histogram5 | bbands |\n",
       "|---|---|---|---|---|---|---|---|---|---|---|---|---|---|\n",
       "| 0.6571943   | 0.6129170   | 0.5775461   | -0.5113247  | -0.4905946  | -0.4512638  | -0.4514804  | -0.52440799 | -0.52413213 | -0.5327310  | -0.2634028  | -0.2115962  | -0.5844998  | -0.3642987  |\n",
       "| 0.6470156   | 0.6178028   | 0.5829917   | -0.5095615  | -0.4889531  | -0.4548829  | -0.4633440  | -0.02615998 |  0.13854508 | -0.6973983  | -0.2851710  | -0.2378138  | -0.5800504  | -0.3577326  |\n",
       "| 0.6388727   | 0.6222814   | 0.5881829   | -0.5103410  | -0.4887818  | -0.4617970  | -0.4785787  | -0.06007958 |  0.09518840 | -0.6879612  | -0.3070958  | -0.2624678  | -0.5773213  | -0.3570473  |\n",
       "| 0.6714444   | 0.6309333   | 0.5955624   | -0.5096725  | -0.4877715  | -0.4604731  | -0.4595649  | -0.08944236 |  0.05463252 | -0.6767681  | -0.3223039  | -0.2842134  | -0.5707837  | -0.3530064  |\n",
       "| 0.6989269   | 0.6400941   | 0.6038580   | -0.5028867  | -0.4847147  | -0.4558071  | -0.4463028  | -0.11530634 |  0.01703994 | -0.6650395  | -0.3333797  | -0.3022706  | -0.5638023  | -0.3407791  |\n",
       "| 0.6948554   | 0.6495603   | 0.6125099   | -0.5019496  | -0.4846857  | -0.4595193  | -0.4585522  | -0.14065148 | -0.01795596 | -0.6553888  | -0.3462711  | -0.3188443  | -0.5601200  | -0.3406632  |\n",
       "\n"
      ],
      "text/plain": [
       "     close     avg10     avg20     std10      std20      rsi14      rsi5      \n",
       "[1,] 0.6571943 0.6129170 0.5775461 -0.5113247 -0.4905946 -0.4512638 -0.4514804\n",
       "[2,] 0.6470156 0.6178028 0.5829917 -0.5095615 -0.4889531 -0.4548829 -0.4633440\n",
       "[3,] 0.6388727 0.6222814 0.5881829 -0.5103410 -0.4887818 -0.4617970 -0.4785787\n",
       "[4,] 0.6714444 0.6309333 0.5955624 -0.5096725 -0.4877715 -0.4604731 -0.4595649\n",
       "[5,] 0.6989269 0.6400941 0.6038580 -0.5028867 -0.4847147 -0.4558071 -0.4463028\n",
       "[6,] 0.6948554 0.6495603 0.6125099 -0.5019496 -0.4846857 -0.4595193 -0.4585522\n",
       "     macd1226    signal9     histogram9 macd0720   signal5    histogram5\n",
       "[1,] -0.52440799 -0.52413213 -0.5327310 -0.2634028 -0.2115962 -0.5844998\n",
       "[2,] -0.02615998  0.13854508 -0.6973983 -0.2851710 -0.2378138 -0.5800504\n",
       "[3,] -0.06007958  0.09518840 -0.6879612 -0.3070958 -0.2624678 -0.5773213\n",
       "[4,] -0.08944236  0.05463252 -0.6767681 -0.3223039 -0.2842134 -0.5707837\n",
       "[5,] -0.11530634  0.01703994 -0.6650395 -0.3333797 -0.3022706 -0.5638023\n",
       "[6,] -0.14065148 -0.01795596 -0.6553888 -0.3462711 -0.3188443 -0.5601200\n",
       "     bbands    \n",
       "[1,] -0.3642987\n",
       "[2,] -0.3577326\n",
       "[3,] -0.3570473\n",
       "[4,] -0.3530064\n",
       "[5,] -0.3407791\n",
       "[6,] -0.3406632"
      ]
     },
     "metadata": {},
     "output_type": "display_data"
    }
   ],
   "source": [
    "m <- as.matrix(iseout[,-c(1, 16, 17)]) \n",
    "\n",
    "isez <- normalize_zscore(m)\n",
    "\n",
    "head(isez)"
   ]
  },
  {
   "cell_type": "code",
   "execution_count": 50,
   "metadata": {},
   "outputs": [
    {
     "data": {
      "text/html": [
       "<table>\n",
       "<thead><tr><th scope=col>data</th><th scope=col>close</th><th scope=col>avg10</th><th scope=col>avg20</th><th scope=col>std10</th><th scope=col>std20</th><th scope=col>rsi14</th><th scope=col>rsi5</th><th scope=col>macd1226</th><th scope=col>signal9</th><th scope=col>histogram9</th><th scope=col>macd0720</th><th scope=col>signal5</th><th scope=col>histogram5</th><th scope=col>bbands</th><th scope=col>direction</th><th scope=col>dirret</th></tr></thead>\n",
       "<tbody>\n",
       "\t<tr><td>2006-01-19 </td><td>0.6571943  </td><td>0.6129170  </td><td>0.5775461  </td><td>-0.5113247 </td><td>-0.4905946 </td><td>-0.4512638 </td><td>-0.4514804 </td><td>-0.52440799</td><td>-0.52413213</td><td>-0.5327310 </td><td>-0.2634028 </td><td>-0.2115962 </td><td>-0.5844998 </td><td>-0.3642987 </td><td>1          </td><td>up         </td></tr>\n",
       "\t<tr><td>2006-01-20 </td><td>0.6470156  </td><td>0.6178028  </td><td>0.5829917  </td><td>-0.5095615 </td><td>-0.4889531 </td><td>-0.4548829 </td><td>-0.4633440 </td><td>-0.02615998</td><td> 0.13854508</td><td>-0.6973983 </td><td>-0.2851710 </td><td>-0.2378138 </td><td>-0.5800504 </td><td>-0.3577326 </td><td>1          </td><td>up         </td></tr>\n",
       "\t<tr><td>2006-01-23 </td><td>0.6388727  </td><td>0.6222814  </td><td>0.5881829  </td><td>-0.5103410 </td><td>-0.4887818 </td><td>-0.4617970 </td><td>-0.4785787 </td><td>-0.06007958</td><td> 0.09518840</td><td>-0.6879612 </td><td>-0.3070958 </td><td>-0.2624678 </td><td>-0.5773213 </td><td>-0.3570473 </td><td>1          </td><td>up         </td></tr>\n",
       "\t<tr><td>2006-01-24 </td><td>0.6714444  </td><td>0.6309333  </td><td>0.5955624  </td><td>-0.5096725 </td><td>-0.4877715 </td><td>-0.4604731 </td><td>-0.4595649 </td><td>-0.08944236</td><td> 0.05463252</td><td>-0.6767681 </td><td>-0.3223039 </td><td>-0.2842134 </td><td>-0.5707837 </td><td>-0.3530064 </td><td>1          </td><td>up         </td></tr>\n",
       "\t<tr><td>2006-01-26 </td><td>0.6989269  </td><td>0.6400941  </td><td>0.6038580  </td><td>-0.5028867 </td><td>-0.4847147 </td><td>-0.4558071 </td><td>-0.4463028 </td><td>-0.11530634</td><td> 0.01703994</td><td>-0.6650395 </td><td>-0.3333797 </td><td>-0.3022706 </td><td>-0.5638023 </td><td>-0.3407791 </td><td>1          </td><td>up         </td></tr>\n",
       "\t<tr><td>2006-01-27 </td><td>0.6948554  </td><td>0.6495603  </td><td>0.6125099  </td><td>-0.5019496 </td><td>-0.4846857 </td><td>-0.4595193 </td><td>-0.4585522 </td><td>-0.14065148</td><td>-0.01795596</td><td>-0.6553888 </td><td>-0.3462711 </td><td>-0.3188443 </td><td>-0.5601200 </td><td>-0.3406632 </td><td>1          </td><td>up         </td></tr>\n",
       "</tbody>\n",
       "</table>\n"
      ],
      "text/latex": [
       "\\begin{tabular}{r|lllllllllllllllll}\n",
       " data & close & avg10 & avg20 & std10 & std20 & rsi14 & rsi5 & macd1226 & signal9 & histogram9 & macd0720 & signal5 & histogram5 & bbands & direction & dirret\\\\\n",
       "\\hline\n",
       "\t 2006-01-19  & 0.6571943   & 0.6129170   & 0.5775461   & -0.5113247  & -0.4905946  & -0.4512638  & -0.4514804  & -0.52440799 & -0.52413213 & -0.5327310  & -0.2634028  & -0.2115962  & -0.5844998  & -0.3642987  & 1           & up         \\\\\n",
       "\t 2006-01-20  & 0.6470156   & 0.6178028   & 0.5829917   & -0.5095615  & -0.4889531  & -0.4548829  & -0.4633440  & -0.02615998 &  0.13854508 & -0.6973983  & -0.2851710  & -0.2378138  & -0.5800504  & -0.3577326  & 1           & up         \\\\\n",
       "\t 2006-01-23  & 0.6388727   & 0.6222814   & 0.5881829   & -0.5103410  & -0.4887818  & -0.4617970  & -0.4785787  & -0.06007958 &  0.09518840 & -0.6879612  & -0.3070958  & -0.2624678  & -0.5773213  & -0.3570473  & 1           & up         \\\\\n",
       "\t 2006-01-24  & 0.6714444   & 0.6309333   & 0.5955624   & -0.5096725  & -0.4877715  & -0.4604731  & -0.4595649  & -0.08944236 &  0.05463252 & -0.6767681  & -0.3223039  & -0.2842134  & -0.5707837  & -0.3530064  & 1           & up         \\\\\n",
       "\t 2006-01-26  & 0.6989269   & 0.6400941   & 0.6038580   & -0.5028867  & -0.4847147  & -0.4558071  & -0.4463028  & -0.11530634 &  0.01703994 & -0.6650395  & -0.3333797  & -0.3022706  & -0.5638023  & -0.3407791  & 1           & up         \\\\\n",
       "\t 2006-01-27  & 0.6948554   & 0.6495603   & 0.6125099   & -0.5019496  & -0.4846857  & -0.4595193  & -0.4585522  & -0.14065148 & -0.01795596 & -0.6553888  & -0.3462711  & -0.3188443  & -0.5601200  & -0.3406632  & 1           & up         \\\\\n",
       "\\end{tabular}\n"
      ],
      "text/markdown": [
       "\n",
       "| data | close | avg10 | avg20 | std10 | std20 | rsi14 | rsi5 | macd1226 | signal9 | histogram9 | macd0720 | signal5 | histogram5 | bbands | direction | dirret |\n",
       "|---|---|---|---|---|---|---|---|---|---|---|---|---|---|---|---|---|\n",
       "| 2006-01-19  | 0.6571943   | 0.6129170   | 0.5775461   | -0.5113247  | -0.4905946  | -0.4512638  | -0.4514804  | -0.52440799 | -0.52413213 | -0.5327310  | -0.2634028  | -0.2115962  | -0.5844998  | -0.3642987  | 1           | up          |\n",
       "| 2006-01-20  | 0.6470156   | 0.6178028   | 0.5829917   | -0.5095615  | -0.4889531  | -0.4548829  | -0.4633440  | -0.02615998 |  0.13854508 | -0.6973983  | -0.2851710  | -0.2378138  | -0.5800504  | -0.3577326  | 1           | up          |\n",
       "| 2006-01-23  | 0.6388727   | 0.6222814   | 0.5881829   | -0.5103410  | -0.4887818  | -0.4617970  | -0.4785787  | -0.06007958 |  0.09518840 | -0.6879612  | -0.3070958  | -0.2624678  | -0.5773213  | -0.3570473  | 1           | up          |\n",
       "| 2006-01-24  | 0.6714444   | 0.6309333   | 0.5955624   | -0.5096725  | -0.4877715  | -0.4604731  | -0.4595649  | -0.08944236 |  0.05463252 | -0.6767681  | -0.3223039  | -0.2842134  | -0.5707837  | -0.3530064  | 1           | up          |\n",
       "| 2006-01-26  | 0.6989269   | 0.6400941   | 0.6038580   | -0.5028867  | -0.4847147  | -0.4558071  | -0.4463028  | -0.11530634 |  0.01703994 | -0.6650395  | -0.3333797  | -0.3022706  | -0.5638023  | -0.3407791  | 1           | up          |\n",
       "| 2006-01-27  | 0.6948554   | 0.6495603   | 0.6125099   | -0.5019496  | -0.4846857  | -0.4595193  | -0.4585522  | -0.14065148 | -0.01795596 | -0.6553888  | -0.3462711  | -0.3188443  | -0.5601200  | -0.3406632  | 1           | up          |\n",
       "\n"
      ],
      "text/plain": [
       "  data       close     avg10     avg20     std10      std20      rsi14     \n",
       "1 2006-01-19 0.6571943 0.6129170 0.5775461 -0.5113247 -0.4905946 -0.4512638\n",
       "2 2006-01-20 0.6470156 0.6178028 0.5829917 -0.5095615 -0.4889531 -0.4548829\n",
       "3 2006-01-23 0.6388727 0.6222814 0.5881829 -0.5103410 -0.4887818 -0.4617970\n",
       "4 2006-01-24 0.6714444 0.6309333 0.5955624 -0.5096725 -0.4877715 -0.4604731\n",
       "5 2006-01-26 0.6989269 0.6400941 0.6038580 -0.5028867 -0.4847147 -0.4558071\n",
       "6 2006-01-27 0.6948554 0.6495603 0.6125099 -0.5019496 -0.4846857 -0.4595193\n",
       "  rsi5       macd1226    signal9     histogram9 macd0720   signal5   \n",
       "1 -0.4514804 -0.52440799 -0.52413213 -0.5327310 -0.2634028 -0.2115962\n",
       "2 -0.4633440 -0.02615998  0.13854508 -0.6973983 -0.2851710 -0.2378138\n",
       "3 -0.4785787 -0.06007958  0.09518840 -0.6879612 -0.3070958 -0.2624678\n",
       "4 -0.4595649 -0.08944236  0.05463252 -0.6767681 -0.3223039 -0.2842134\n",
       "5 -0.4463028 -0.11530634  0.01703994 -0.6650395 -0.3333797 -0.3022706\n",
       "6 -0.4585522 -0.14065148 -0.01795596 -0.6553888 -0.3462711 -0.3188443\n",
       "  histogram5 bbands     direction dirret\n",
       "1 -0.5844998 -0.3642987 1         up    \n",
       "2 -0.5800504 -0.3577326 1         up    \n",
       "3 -0.5773213 -0.3570473 1         up    \n",
       "4 -0.5707837 -0.3530064 1         up    \n",
       "5 -0.5638023 -0.3407791 1         up    \n",
       "6 -0.5601200 -0.3406632 1         up    "
      ]
     },
     "metadata": {},
     "output_type": "display_data"
    }
   ],
   "source": [
    "data <- iseout$data\n",
    "direction <- iseout$direction\n",
    "dirret <- iseout$dirret\n",
    "\n",
    "isez <- data.frame(isez)\n",
    "\n",
    "isez <- cbind(data, isez, direction, dirret)\n",
    "head(isez)"
   ]
  },
  {
   "cell_type": "markdown",
   "metadata": {},
   "source": [
    "# Etapa 7: Seleção de atributos"
   ]
  },
  {
   "cell_type": "code",
   "execution_count": 51,
   "metadata": {},
   "outputs": [
    {
     "name": "stderr",
     "output_type": "stream",
     "text": [
      "Warning message:\n",
      "\"package 'caret' was built under R version 3.6.3\"Loading required package: lattice\n"
     ]
    }
   ],
   "source": [
    "# Biblioteca(s) Necessária(s)\n",
    "library(caret)"
   ]
  },
  {
   "cell_type": "markdown",
   "metadata": {},
   "source": [
    "## 1. Seleção dos atributos com maiores correlações "
   ]
  },
  {
   "cell_type": "code",
   "execution_count": 52,
   "metadata": {},
   "outputs": [
    {
     "name": "stdout",
     "output_type": "stream",
     "text": [
      "[1] 11 12  8  5  4  1  2 10  7\n"
     ]
    }
   ],
   "source": [
    "# Matriz de correlação\n",
    "y <- iseout[,-c(1, 16, 17)]\n",
    "\n",
    "corrise <- cor(y)\n",
    "\n",
    "# Seleção dos atributos que são altamente correlacionados (isealmente > 0.75)\n",
    "highcorrise <- findCorrelation(corrise, cutoff = 0.5)\n",
    "\n",
    "# Exibição dos índices que possuem correlação elevada \n",
    "print(highcorrise)"
   ]
  },
  {
   "cell_type": "markdown",
   "metadata": {},
   "source": [
    "* índice 11: macd0720\n",
    "\n",
    "* índice 12: signal5\n",
    "\n",
    "* índice 8: macd1226\n",
    "\n",
    "* índice 5: std20\n",
    "\n",
    "* índice 4: std10\n",
    "\n",
    "* índice 1: close\n",
    "\n",
    "* índice 2: avg10\n",
    "\n",
    "* índice 10: histogram9\n",
    "\n",
    "* índice 7: rsi5"
   ]
  },
  {
   "cell_type": "markdown",
   "metadata": {},
   "source": [
    "## 2. Seleção automática de atributos"
   ]
  },
  {
   "cell_type": "markdown",
   "metadata": {},
   "source": [
    "Método utilizado para seleção automática dos atributos: *Recursive Feature Elimination* (RFE)."
   ]
  },
  {
   "cell_type": "code",
   "execution_count": 53,
   "metadata": {},
   "outputs": [],
   "source": [
    "# Definição do controle por meio de uma função de seleção random forest\n",
    "control <- rfeControl(functions=rfFuncs, method=\"cv\", number=10)"
   ]
  },
  {
   "cell_type": "code",
   "execution_count": 54,
   "metadata": {},
   "outputs": [
    {
     "name": "stderr",
     "output_type": "stream",
     "text": [
      "Warning message in randomForest.default(x, y, importance = TRUE, ...):\n",
      "\"The response has five or fewer unique values.  Are you sure you want to do regression?\"Warning message in randomForest.default(x, y, importance = TRUE, ...):\n",
      "\"The response has five or fewer unique values.  Are you sure you want to do regression?\"Warning message in randomForest.default(x, y, importance = TRUE, ...):\n",
      "\"The response has five or fewer unique values.  Are you sure you want to do regression?\"Warning message in randomForest.default(x, y, importance = TRUE, ...):\n",
      "\"The response has five or fewer unique values.  Are you sure you want to do regression?\"Warning message in randomForest.default(x, y, importance = TRUE, ...):\n",
      "\"The response has five or fewer unique values.  Are you sure you want to do regression?\"Warning message in randomForest.default(x, y, importance = TRUE, ...):\n",
      "\"The response has five or fewer unique values.  Are you sure you want to do regression?\"Warning message in randomForest.default(x, y, importance = TRUE, ...):\n",
      "\"The response has five or fewer unique values.  Are you sure you want to do regression?\"Warning message in randomForest.default(x, y, importance = TRUE, ...):\n",
      "\"The response has five or fewer unique values.  Are you sure you want to do regression?\"Warning message in randomForest.default(x, y, importance = TRUE, ...):\n",
      "\"The response has five or fewer unique values.  Are you sure you want to do regression?\"Warning message in randomForest.default(x, y, importance = TRUE, ...):\n",
      "\"The response has five or fewer unique values.  Are you sure you want to do regression?\"Warning message in randomForest.default(x, y, importance = TRUE, ...):\n",
      "\"The response has five or fewer unique values.  Are you sure you want to do regression?\"Warning message in randomForest.default(x, y, importance = TRUE, ...):\n",
      "\"The response has five or fewer unique values.  Are you sure you want to do regression?\"Warning message in randomForest.default(x, y, importance = TRUE, ...):\n",
      "\"The response has five or fewer unique values.  Are you sure you want to do regression?\"Warning message in randomForest.default(x, y, importance = TRUE, ...):\n",
      "\"The response has five or fewer unique values.  Are you sure you want to do regression?\"Warning message in randomForest.default(x, y, importance = TRUE, ...):\n",
      "\"The response has five or fewer unique values.  Are you sure you want to do regression?\"Warning message in randomForest.default(x, y, importance = TRUE, ...):\n",
      "\"The response has five or fewer unique values.  Are you sure you want to do regression?\"Warning message in randomForest.default(x, y, importance = TRUE, ...):\n",
      "\"The response has five or fewer unique values.  Are you sure you want to do regression?\"Warning message in randomForest.default(x, y, importance = TRUE, ...):\n",
      "\"The response has five or fewer unique values.  Are you sure you want to do regression?\"Warning message in randomForest.default(x, y, importance = TRUE, ...):\n",
      "\"The response has five or fewer unique values.  Are you sure you want to do regression?\"Warning message in randomForest.default(x, y, importance = TRUE, ...):\n",
      "\"The response has five or fewer unique values.  Are you sure you want to do regression?\"Warning message in randomForest.default(x, y, importance = TRUE, ...):\n",
      "\"The response has five or fewer unique values.  Are you sure you want to do regression?\"Warning message in randomForest.default(x, y, importance = TRUE, ...):\n",
      "\"The response has five or fewer unique values.  Are you sure you want to do regression?\"Warning message in randomForest.default(x, y, importance = TRUE, ...):\n",
      "\"The response has five or fewer unique values.  Are you sure you want to do regression?\"Warning message in randomForest.default(x, y, importance = TRUE, ...):\n",
      "\"The response has five or fewer unique values.  Are you sure you want to do regression?\"Warning message in randomForest.default(x, y, importance = TRUE, ...):\n",
      "\"The response has five or fewer unique values.  Are you sure you want to do regression?\"Warning message in randomForest.default(x, y, importance = TRUE, ...):\n",
      "\"The response has five or fewer unique values.  Are you sure you want to do regression?\"Warning message in randomForest.default(x, y, importance = TRUE, ...):\n",
      "\"The response has five or fewer unique values.  Are you sure you want to do regression?\"Warning message in randomForest.default(x, y, importance = TRUE, ...):\n",
      "\"The response has five or fewer unique values.  Are you sure you want to do regression?\"Warning message in randomForest.default(x, y, importance = TRUE, ...):\n",
      "\"The response has five or fewer unique values.  Are you sure you want to do regression?\"Warning message in randomForest.default(x, y, importance = TRUE, ...):\n",
      "\"The response has five or fewer unique values.  Are you sure you want to do regression?\"Warning message in randomForest.default(x, y, importance = TRUE, ...):\n",
      "\"The response has five or fewer unique values.  Are you sure you want to do regression?\""
     ]
    }
   ],
   "source": [
    "z <- iseout[,-c(1, 17)]\n",
    "\n",
    "resultise <- rfe(direction~., z, rfeControl=control)"
   ]
  },
  {
   "cell_type": "code",
   "execution_count": 55,
   "metadata": {},
   "outputs": [
    {
     "name": "stdout",
     "output_type": "stream",
     "text": [
      "\n",
      "Recursive feature selection\n",
      "\n",
      "Outer resampling method: Cross-Validated (10 fold) \n",
      "\n",
      "Resampling performance over subset size:\n",
      "\n",
      " Variables   RMSE Rsquared    MAE  RMSESD RsquaredSD   MAESD Selected\n",
      "         4 0.2876   0.6610 0.1616 0.01744    0.04308 0.00988         \n",
      "         8 0.2767   0.6857 0.1555 0.01819    0.04530 0.01021         \n",
      "        14 0.2634   0.7156 0.1472 0.01746    0.04186 0.01065        *\n",
      "\n",
      "The top 5 variables (out of 14):\n",
      "   macd0720, signal5, rsi14, macd1226, std10\n",
      "\n"
     ]
    }
   ],
   "source": [
    "# Resultado da seleção\n",
    "print(resultise)"
   ]
  },
  {
   "cell_type": "code",
   "execution_count": 56,
   "metadata": {},
   "outputs": [
    {
     "data": {
      "text/html": [
       "<ol class=list-inline>\n",
       "\t<li>'macd0720'</li>\n",
       "\t<li>'signal5'</li>\n",
       "\t<li>'rsi14'</li>\n",
       "\t<li>'macd1226'</li>\n",
       "\t<li>'std10'</li>\n",
       "\t<li>'signal9'</li>\n",
       "\t<li>'histogram5'</li>\n",
       "\t<li>'histogram9'</li>\n",
       "\t<li>'rsi5'</li>\n",
       "\t<li>'avg10'</li>\n",
       "\t<li>'avg20'</li>\n",
       "\t<li>'close'</li>\n",
       "\t<li>'bbands'</li>\n",
       "\t<li>'std20'</li>\n",
       "</ol>\n"
      ],
      "text/latex": [
       "\\begin{enumerate*}\n",
       "\\item 'macd0720'\n",
       "\\item 'signal5'\n",
       "\\item 'rsi14'\n",
       "\\item 'macd1226'\n",
       "\\item 'std10'\n",
       "\\item 'signal9'\n",
       "\\item 'histogram5'\n",
       "\\item 'histogram9'\n",
       "\\item 'rsi5'\n",
       "\\item 'avg10'\n",
       "\\item 'avg20'\n",
       "\\item 'close'\n",
       "\\item 'bbands'\n",
       "\\item 'std20'\n",
       "\\end{enumerate*}\n"
      ],
      "text/markdown": [
       "1. 'macd0720'\n",
       "2. 'signal5'\n",
       "3. 'rsi14'\n",
       "4. 'macd1226'\n",
       "5. 'std10'\n",
       "6. 'signal9'\n",
       "7. 'histogram5'\n",
       "8. 'histogram9'\n",
       "9. 'rsi5'\n",
       "10. 'avg10'\n",
       "11. 'avg20'\n",
       "12. 'close'\n",
       "13. 'bbands'\n",
       "14. 'std20'\n",
       "\n",
       "\n"
      ],
      "text/plain": [
       " [1] \"macd0720\"   \"signal5\"    \"rsi14\"      \"macd1226\"   \"std10\"     \n",
       " [6] \"signal9\"    \"histogram5\" \"histogram9\" \"rsi5\"       \"avg10\"     \n",
       "[11] \"avg20\"      \"close\"      \"bbands\"     \"std20\"     "
      ]
     },
     "metadata": {},
     "output_type": "display_data"
    }
   ],
   "source": [
    "# Lista dos atributos escolhidos (de acordo com a variável de interesse)\n",
    "predictors(resultise)"
   ]
  },
  {
   "cell_type": "code",
   "execution_count": 57,
   "metadata": {},
   "outputs": [
    {
     "data": {
      "image/png": "[encoded data removed]",
      "text/plain": [
       "plot without title"
      ]
     },
     "metadata": {},
     "output_type": "display_data"
    }
   ],
   "source": [
    "plot(resultise, type=c(\"g\", \"o\"))"
   ]
  },
  {
   "cell_type": "markdown",
   "metadata": {},
   "source": [
    "## 3. Classificação e seleção de atributos com base no algoritmo de random forest"
   ]
  },
  {
   "cell_type": "code",
   "execution_count": 58,
   "metadata": {},
   "outputs": [
    {
     "name": "stderr",
     "output_type": "stream",
     "text": [
      "Warning message:\n",
      "\"package 'Boruta' was built under R version 3.6.3\""
     ]
    }
   ],
   "source": [
    "# Biblioteca(s) Necessária(s)\n",
    "library(Boruta)"
   ]
  },
  {
   "cell_type": "code",
   "execution_count": 59,
   "metadata": {},
   "outputs": [
    {
     "data": {
      "text/html": [
       "<ol class=list-inline>\n",
       "\t<li>'finalDecision'</li>\n",
       "\t<li>'ImpHistory'</li>\n",
       "\t<li>'pValue'</li>\n",
       "\t<li>'maxRuns'</li>\n",
       "\t<li>'light'</li>\n",
       "\t<li>'mcAdj'</li>\n",
       "\t<li>'timeTaken'</li>\n",
       "\t<li>'roughfixed'</li>\n",
       "\t<li>'call'</li>\n",
       "\t<li>'impSource'</li>\n",
       "</ol>\n"
      ],
      "text/latex": [
       "\\begin{enumerate*}\n",
       "\\item 'finalDecision'\n",
       "\\item 'ImpHistory'\n",
       "\\item 'pValue'\n",
       "\\item 'maxRuns'\n",
       "\\item 'light'\n",
       "\\item 'mcAdj'\n",
       "\\item 'timeTaken'\n",
       "\\item 'roughfixed'\n",
       "\\item 'call'\n",
       "\\item 'impSource'\n",
       "\\end{enumerate*}\n"
      ],
      "text/markdown": [
       "1. 'finalDecision'\n",
       "2. 'ImpHistory'\n",
       "3. 'pValue'\n",
       "4. 'maxRuns'\n",
       "5. 'light'\n",
       "6. 'mcAdj'\n",
       "7. 'timeTaken'\n",
       "8. 'roughfixed'\n",
       "9. 'call'\n",
       "10. 'impSource'\n",
       "\n",
       "\n"
      ],
      "text/plain": [
       " [1] \"finalDecision\" \"ImpHistory\"    \"pValue\"        \"maxRuns\"      \n",
       " [5] \"light\"         \"mcAdj\"         \"timeTaken\"     \"roughfixed\"   \n",
       " [9] \"call\"          \"impSource\"    "
      ]
     },
     "metadata": {},
     "output_type": "display_data"
    }
   ],
   "source": [
    "# Objeto de armazenamento dos resultados\n",
    "iseboruta_output <- Boruta(direction ~., data = z, doTrace = 0)\n",
    "names(iseboruta_output)"
   ]
  },
  {
   "cell_type": "code",
   "execution_count": 60,
   "metadata": {},
   "outputs": [
    {
     "name": "stdout",
     "output_type": "stream",
     "text": [
      " [1] \"close\"      \"avg10\"      \"avg20\"      \"std10\"      \"std20\"     \n",
      " [6] \"rsi14\"      \"rsi5\"       \"macd1226\"   \"signal9\"    \"histogram9\"\n",
      "[11] \"macd0720\"   \"signal5\"    \"histogram5\" \"bbands\"    \n"
     ]
    }
   ],
   "source": [
    "# Obtenção das variáveis de significância\n",
    "iseboruta_signif <- getSelectedAttributes(iseboruta_output, withTentative = TRUE)\n",
    "print(iseboruta_signif)"
   ]
  },
  {
   "cell_type": "code",
   "execution_count": 61,
   "metadata": {},
   "outputs": [
    {
     "name": "stderr",
     "output_type": "stream",
     "text": [
      "Warning message in TentativeRoughFix(iseboruta_output):\n",
      "\"There are no Tentative attributes! Returning original object.\""
     ]
    },
    {
     "name": "stdout",
     "output_type": "stream",
     "text": [
      " [1] \"close\"      \"avg10\"      \"avg20\"      \"std10\"      \"std20\"     \n",
      " [6] \"rsi14\"      \"rsi5\"       \"macd1226\"   \"signal9\"    \"histogram9\"\n",
      "[11] \"macd0720\"   \"signal5\"    \"histogram5\" \"bbands\"    \n"
     ]
    }
   ],
   "source": [
    "# Correção preliminar\n",
    "iseroughfixmod <- TentativeRoughFix(iseboruta_output)\n",
    "iseboruta_signif2 <- getSelectedAttributes(iseroughfixmod)\n",
    "print(iseboruta_signif2)"
   ]
  },
  {
   "cell_type": "code",
   "execution_count": 62,
   "metadata": {},
   "outputs": [
    {
     "name": "stderr",
     "output_type": "stream",
     "text": [
      "Warning message in Ops.factor(left):\n",
      "\"'-' not meaningful for factors\""
     ]
    },
    {
     "data": {
      "text/html": [
       "<table>\n",
       "<thead><tr><th></th><th scope=col>meanImp</th><th scope=col>decision</th></tr></thead>\n",
       "<tbody>\n",
       "\t<tr><th scope=row>macd0720</th><td>46.75348 </td><td>Confirmed</td></tr>\n",
       "\t<tr><th scope=row>signal5</th><td>35.56201 </td><td>Confirmed</td></tr>\n",
       "\t<tr><th scope=row>rsi14</th><td>29.85940 </td><td>Confirmed</td></tr>\n",
       "\t<tr><th scope=row>macd1226</th><td>28.79501 </td><td>Confirmed</td></tr>\n",
       "\t<tr><th scope=row>signal9</th><td>24.94583 </td><td>Confirmed</td></tr>\n",
       "\t<tr><th scope=row>rsi5</th><td>22.18892 </td><td>Confirmed</td></tr>\n",
       "</tbody>\n",
       "</table>\n"
      ],
      "text/latex": [
       "\\begin{tabular}{r|ll}\n",
       "  & meanImp & decision\\\\\n",
       "\\hline\n",
       "\tmacd0720 & 46.75348  & Confirmed\\\\\n",
       "\tsignal5 & 35.56201  & Confirmed\\\\\n",
       "\trsi14 & 29.85940  & Confirmed\\\\\n",
       "\tmacd1226 & 28.79501  & Confirmed\\\\\n",
       "\tsignal9 & 24.94583  & Confirmed\\\\\n",
       "\trsi5 & 22.18892  & Confirmed\\\\\n",
       "\\end{tabular}\n"
      ],
      "text/markdown": [
       "\n",
       "| <!--/--> | meanImp | decision |\n",
       "|---|---|---|\n",
       "| macd0720 | 46.75348  | Confirmed |\n",
       "| signal5 | 35.56201  | Confirmed |\n",
       "| rsi14 | 29.85940  | Confirmed |\n",
       "| macd1226 | 28.79501  | Confirmed |\n",
       "| signal9 | 24.94583  | Confirmed |\n",
       "| rsi5 | 22.18892  | Confirmed |\n",
       "\n"
      ],
      "text/plain": [
       "         meanImp  decision \n",
       "macd0720 46.75348 Confirmed\n",
       "signal5  35.56201 Confirmed\n",
       "rsi14    29.85940 Confirmed\n",
       "macd1226 28.79501 Confirmed\n",
       "signal9  24.94583 Confirmed\n",
       "rsi5     22.18892 Confirmed"
      ]
     },
     "metadata": {},
     "output_type": "display_data"
    }
   ],
   "source": [
    "# Score de importância das variáveis\n",
    "iseboruta_imp <- attStats(iseroughfixmod)\n",
    "iseboruta_imp2 <- iseboruta_imp[iseboruta_imp$decision != 'Rejected', c('meanImp', 'decision')]\n",
    "\n",
    "# Exibição por ordem decrescente de importância\n",
    "head(iseboruta_imp2[order(-iseboruta_imp2),])"
   ]
  },
  {
   "cell_type": "code",
   "execution_count": 63,
   "metadata": {},
   "outputs": [
    {
     "data": {
      "image/png": "[encoded data removed]",
      "text/plain": [
       "Plot with title \"Variable Importance\""
      ]
     },
     "metadata": {},
     "output_type": "display_data"
    }
   ],
   "source": [
    "# Análise Gráfica\n",
    "plot(iseboruta_output, cex.axis=.7, las=2, xlab=\"\", main=\"Variable Importance\")  "
   ]
  },
  {
   "cell_type": "markdown",
   "metadata": {},
   "source": [
    "Colunas em verde são as variáveis \"confirmadas\" e as barras em azul representam (ShadowMax e ShadowMin => utilizados no algoritmo para decidir se uma variável é importante ou não)."
   ]
  },
  {
   "cell_type": "markdown",
   "metadata": {},
   "source": [
    "# Etapa 8: Predição"
   ]
  },
  {
   "cell_type": "markdown",
   "metadata": {},
   "source": [
    "## 1. Separação dos dados de treino e teste"
   ]
  },
  {
   "cell_type": "code",
   "execution_count": 64,
   "metadata": {},
   "outputs": [
    {
     "name": "stderr",
     "output_type": "stream",
     "text": [
      "Warning message:\n",
      "\"package 'keras' was built under R version 3.6.3\""
     ]
    }
   ],
   "source": [
    "# Biblioteca(s) Necessária(s)\n",
    "library(keras)"
   ]
  },
  {
   "cell_type": "markdown",
   "metadata": {},
   "source": [
    "**Dataframe \"BVSP\"**"
   ]
  },
  {
   "cell_type": "code",
   "execution_count": 65,
   "metadata": {},
   "outputs": [],
   "source": [
    "# Determinação do tamanho da amostra\n",
    "isesplit <- sample(2, nrow(isez), replace=TRUE, prob=c(0.70, 0.30))\n",
    "\n",
    "# 0.70 de probabilidade dos dados como de treino e com 0.30 de probabilidade dos dados como de teste"
   ]
  },
  {
   "cell_type": "code",
   "execution_count": 66,
   "metadata": {
    "scrolled": true
   },
   "outputs": [],
   "source": [
    "# Separação das amostras (índice 1 = treino e indice 2 = teste)\n",
    "isetrain <- isez[isesplit == 1,]\n",
    "isetest <- isez[isesplit == 2,]"
   ]
  },
  {
   "cell_type": "code",
   "execution_count": 67,
   "metadata": {},
   "outputs": [
    {
     "data": {
      "text/html": [
       "<ol class=list-inline>\n",
       "\t<li>3723</li>\n",
       "\t<li>17</li>\n",
       "</ol>\n"
      ],
      "text/latex": [
       "\\begin{enumerate*}\n",
       "\\item 3723\n",
       "\\item 17\n",
       "\\end{enumerate*}\n"
      ],
      "text/markdown": [
       "1. 3723\n",
       "2. 17\n",
       "\n",
       "\n"
      ],
      "text/plain": [
       "[1] 3723   17"
      ]
     },
     "metadata": {},
     "output_type": "display_data"
    },
    {
     "data": {
      "text/html": [
       "<ol class=list-inline>\n",
       "\t<li>2587</li>\n",
       "\t<li>17</li>\n",
       "</ol>\n"
      ],
      "text/latex": [
       "\\begin{enumerate*}\n",
       "\\item 2587\n",
       "\\item 17\n",
       "\\end{enumerate*}\n"
      ],
      "text/markdown": [
       "1. 2587\n",
       "2. 17\n",
       "\n",
       "\n"
      ],
      "text/plain": [
       "[1] 2587   17"
      ]
     },
     "metadata": {},
     "output_type": "display_data"
    },
    {
     "data": {
      "text/html": [
       "<ol class=list-inline>\n",
       "\t<li>1136</li>\n",
       "\t<li>17</li>\n",
       "</ol>\n"
      ],
      "text/latex": [
       "\\begin{enumerate*}\n",
       "\\item 1136\n",
       "\\item 17\n",
       "\\end{enumerate*}\n"
      ],
      "text/markdown": [
       "1. 1136\n",
       "2. 17\n",
       "\n",
       "\n"
      ],
      "text/plain": [
       "[1] 1136   17"
      ]
     },
     "metadata": {},
     "output_type": "display_data"
    }
   ],
   "source": [
    "dim(isez)\n",
    "dim(isetrain)\n",
    "dim(isetest)"
   ]
  },
  {
   "cell_type": "markdown",
   "metadata": {},
   "source": [
    "## 2. Regressão Logística"
   ]
  },
  {
   "cell_type": "code",
   "execution_count": 68,
   "metadata": {},
   "outputs": [],
   "source": [
    "# Criação de uma fórmula que tem \"Direction\" como variável dependente e todas as demais como variáveis independentes\n",
    "formula <- paste(\"direction ~.\", sep = \"\")"
   ]
  },
  {
   "cell_type": "markdown",
   "metadata": {},
   "source": [
    "**Construção do modelo**"
   ]
  },
  {
   "cell_type": "code",
   "execution_count": 69,
   "metadata": {},
   "outputs": [
    {
     "name": "stderr",
     "output_type": "stream",
     "text": [
      "Warning message:\n",
      "\"glm.fit: fitted probabilities numerically 0 or 1 occurred\""
     ]
    },
    {
     "data": {
      "text/plain": [
       "\n",
       "Call:\n",
       "glm(formula = formula, family = binomial, data = isetrain[, -17])\n",
       "\n",
       "Deviance Residuals: \n",
       "    Min       1Q   Median       3Q      Max  \n",
       "-3.2012  -0.1861   0.0161   0.2339   4.1929  \n",
       "\n",
       "Coefficients: (1 not defined because of singularities)\n",
       "              Estimate Std. Error z value Pr(>|z|)    \n",
       "(Intercept) -1.735e+05  1.198e+06  -0.145  0.88482    \n",
       "data         4.573e-09  1.593e-09   2.871  0.00409 ** \n",
       "close        7.713e+00  1.028e+00   7.502 6.28e-14 ***\n",
       "avg10        7.172e+01  7.785e+00   9.212  < 2e-16 ***\n",
       "avg20       -8.041e+01  7.895e+00 -10.186  < 2e-16 ***\n",
       "std10        1.616e+01  8.427e+00   1.917  0.05519 .  \n",
       "std20       -1.872e+01  8.924e+00  -2.097  0.03597 *  \n",
       "rsi14       -7.213e+01  1.304e+01  -5.530 3.20e-08 ***\n",
       "rsi5         3.448e+00  5.427e+00   0.635  0.52515    \n",
       "macd1226     3.256e+05  2.249e+06   0.145  0.88488    \n",
       "signal9     -3.258e+05  2.249e+06  -0.145  0.88480    \n",
       "histogram9  -3.262e+05  2.249e+06  -0.145  0.88466    \n",
       "macd0720     1.803e+02  1.226e+01  14.705  < 2e-16 ***\n",
       "signal5      1.976e+02  1.378e+01  14.342  < 2e-16 ***\n",
       "histogram5   3.809e+02  3.269e+01  11.651  < 2e-16 ***\n",
       "bbands              NA         NA      NA       NA    \n",
       "---\n",
       "Signif. codes:  0 '***' 0.001 '**' 0.01 '*' 0.05 '.' 0.1 ' ' 1\n",
       "\n",
       "(Dispersion parameter for binomial family taken to be 1)\n",
       "\n",
       "    Null deviance: 3528.8  on 2586  degrees of freedom\n",
       "Residual deviance: 1113.4  on 2572  degrees of freedom\n",
       "AIC: 1143.4\n",
       "\n",
       "Number of Fisher Scoring iterations: 12\n"
      ]
     },
     "metadata": {},
     "output_type": "display_data"
    }
   ],
   "source": [
    "# Utilização de um modelo linear generalizado para ajustar o modelo\n",
    "isemodel <- glm(formula, isetrain[,-17], family = binomial)\n",
    "\n",
    "summary(isemodel) "
   ]
  },
  {
   "cell_type": "code",
   "execution_count": 70,
   "metadata": {},
   "outputs": [
    {
     "name": "stderr",
     "output_type": "stream",
     "text": [
      "Warning message in predict.lm(object, newdata, se.fit, scale = 1, type = if (type == :\n",
      "\"prediction from a rank-deficient fit may be misleading\""
     ]
    }
   ],
   "source": [
    "# Ajustamento dos valores no mesmo conjunto de dados utilizados para estimar o valor melhor ajustado.\n",
    "isepred <- predict(isemodel, isetrain[,-17])"
   ]
  },
  {
   "cell_type": "markdown",
   "metadata": {},
   "source": [
    "**Conversão dos valores ajustados em probabilidade**"
   ]
  },
  {
   "cell_type": "code",
   "execution_count": 71,
   "metadata": {},
   "outputs": [
    {
     "data": {
      "text/html": [
       "<dl class=dl-horizontal>\n",
       "\t<dt>1</dt>\n",
       "\t\t<dd>0.999998716693092</dd>\n",
       "\t<dt>2</dt>\n",
       "\t\t<dd>0.99999999999997</dd>\n",
       "\t<dt>4</dt>\n",
       "\t\t<dd>0.999999999995494</dd>\n",
       "\t<dt>5</dt>\n",
       "\t\t<dd>0.999999999980361</dd>\n",
       "\t<dt>6</dt>\n",
       "\t\t<dd>0.999999999877299</dd>\n",
       "\t<dt>7</dt>\n",
       "\t\t<dd>0.999999999307193</dd>\n",
       "</dl>\n"
      ],
      "text/latex": [
       "\\begin{description*}\n",
       "\\item[1] 0.999998716693092\n",
       "\\item[2] 0.99999999999997\n",
       "\\item[4] 0.999999999995494\n",
       "\\item[5] 0.999999999980361\n",
       "\\item[6] 0.999999999877299\n",
       "\\item[7] 0.999999999307193\n",
       "\\end{description*}\n"
      ],
      "text/markdown": [
       "1\n",
       ":   0.9999987166930922\n",
       ":   0.999999999999974\n",
       ":   0.9999999999954945\n",
       ":   0.9999999999803616\n",
       ":   0.9999999998772997\n",
       ":   0.999999999307193\n",
       "\n"
      ],
      "text/plain": [
       "        1         2         4         5         6         7 \n",
       "0.9999987 1.0000000 1.0000000 1.0000000 1.0000000 1.0000000 "
      ]
     },
     "metadata": {},
     "output_type": "display_data"
    }
   ],
   "source": [
    "# Conversão do output em uma forma probabilistica, que estará no intervalo [0,1]\n",
    "iseprob <- 1 / (1+exp(-(isepred)))\n",
    "\n",
    "head(iseprob)   "
   ]
  },
  {
   "cell_type": "code",
   "execution_count": 72,
   "metadata": {},
   "outputs": [
    {
     "data": {
      "image/png": "[encoded data removed]",
      "text/plain": [
       "plot without title"
      ]
     },
     "metadata": {},
     "output_type": "display_data"
    }
   ],
   "source": [
    "# Análise gráfica\n",
    "par(mfrow = c(2,1))              \n",
    "\n",
    "# Figura 1: previsão do modelo\n",
    "plot(isepred, type = \"l\")           \n",
    "\n",
    "# Figura 2: probabilidade do modelo\n",
    "plot(iseprob, type = \"l\")"
   ]
  },
  {
   "cell_type": "markdown",
   "metadata": {},
   "source": [
    "**Classificação das probabilidades em 2 classes (1 = direção \"Up\" e 0 = direção \"Down\")**"
   ]
  },
  {
   "cell_type": "code",
   "execution_count": 73,
   "metadata": {},
   "outputs": [],
   "source": [
    "isepred_directionin <- NULL\n",
    "\n",
    "# Direção para cima (Up)\n",
    "isepred_directionin[iseprob > 0.5] <- 1    \n",
    "\n",
    "# Direção para baixo (Down)\n",
    "isepred_directionin[iseprob <= 0.5] <- 0"
   ]
  },
  {
   "cell_type": "markdown",
   "metadata": {},
   "source": [
    "**Verificação da acurácia do modelo**"
   ]
  },
  {
   "cell_type": "code",
   "execution_count": 74,
   "metadata": {},
   "outputs": [
    {
     "name": "stderr",
     "output_type": "stream",
     "text": [
      "Warning message:\n",
      "\"package 'e1071' was built under R version 3.6.3\"\n",
      "Attaching package: 'e1071'\n",
      "\n",
      "The following objects are masked from 'package:moments':\n",
      "\n",
      "    kurtosis, moment, skewness\n",
      "\n"
     ]
    }
   ],
   "source": [
    "# Biblioteca(s) Necessária(s)\n",
    "library(caret)\n",
    "library(e1071)"
   ]
  },
  {
   "cell_type": "code",
   "execution_count": 75,
   "metadata": {},
   "outputs": [
    {
     "data": {
      "text/plain": [
       "Confusion Matrix and Statistics\n",
       "\n",
       "                   \n",
       "isepred_directionin    0    1\n",
       "                  0  980  102\n",
       "                  1  121 1384\n",
       "                                          \n",
       "               Accuracy : 0.9138          \n",
       "                 95% CI : (0.9023, 0.9243)\n",
       "    No Information Rate : 0.5744          \n",
       "    P-Value [Acc > NIR] : <2e-16          \n",
       "                                          \n",
       "                  Kappa : 0.8233          \n",
       "                                          \n",
       " Mcnemar's Test P-Value : 0.2281          \n",
       "                                          \n",
       "            Sensitivity : 0.8901          \n",
       "            Specificity : 0.9314          \n",
       "         Pos Pred Value : 0.9057          \n",
       "         Neg Pred Value : 0.9196          \n",
       "             Prevalence : 0.4256          \n",
       "         Detection Rate : 0.3788          \n",
       "   Detection Prevalence : 0.4182          \n",
       "      Balanced Accuracy : 0.9107          \n",
       "                                          \n",
       "       'Positive' Class : 0               \n",
       "                                          "
      ]
     },
     "metadata": {},
     "output_type": "display_data"
    }
   ],
   "source": [
    "# Matriz de Confusão\n",
    "confusionMatrix(table(isepred_directionin, isetrain$direction))"
   ]
  },
  {
   "cell_type": "markdown",
   "metadata": {},
   "source": [
    "**Curva ROC 1**"
   ]
  },
  {
   "cell_type": "code",
   "execution_count": 76,
   "metadata": {},
   "outputs": [
    {
     "name": "stderr",
     "output_type": "stream",
     "text": [
      "Warning message:\n",
      "\"package 'PRROC' was built under R version 3.6.3\""
     ]
    }
   ],
   "source": [
    "# Biblioteca(s) Necessária(s)\n",
    "library(PRROC)"
   ]
  },
  {
   "cell_type": "code",
   "execution_count": 77,
   "metadata": {},
   "outputs": [
    {
     "data": {
      "image/png": "[encoded data removed]",
      "text/plain": [
       "Plot with title \"ROC curve\n",
       "AUC = 0.9107296\""
      ]
     },
     "metadata": {},
     "output_type": "display_data"
    }
   ],
   "source": [
    "plot(roc.curve(scores.class0 = isepred_directionin, weights.class0=isetrain$direction, curve=TRUE))"
   ]
  },
  {
   "cell_type": "markdown",
   "metadata": {},
   "source": [
    "**Curva ROC 2**"
   ]
  },
  {
   "cell_type": "code",
   "execution_count": 78,
   "metadata": {},
   "outputs": [
    {
     "name": "stderr",
     "output_type": "stream",
     "text": [
      "Warning message:\n",
      "\"package 'precrec' was built under R version 3.6.3\""
     ]
    }
   ],
   "source": [
    "# Biblioteca(s) Necessária(s)\n",
    "library(precrec)"
   ]
  },
  {
   "cell_type": "code",
   "execution_count": 79,
   "metadata": {},
   "outputs": [
    {
     "data": {
      "image/png": "[encoded data removed]",
      "text/plain": [
       "plot without title"
      ]
     },
     "metadata": {},
     "output_type": "display_data"
    }
   ],
   "source": [
    "iseprecrecin <- evalmod(scores = isepred_directionin, labels = isetrain$direction)\n",
    "autoplot(iseprecrecin)"
   ]
  },
  {
   "cell_type": "code",
   "execution_count": 80,
   "metadata": {},
   "outputs": [
    {
     "data": {
      "image/png": "[encoded data removed]",
      "text/plain": [
       "plot without title"
      ]
     },
     "metadata": {},
     "output_type": "display_data"
    }
   ],
   "source": [
    "iseprecrecin2 <- evalmod(scores = isepred_directionin, labels = isetrain$direction, mode=\"basic\")\n",
    "autoplot(iseprecrecin2)"
   ]
  },
  {
   "cell_type": "markdown",
   "metadata": {},
   "source": [
    "**Análise para os dados de teste**"
   ]
  },
  {
   "cell_type": "code",
   "execution_count": 81,
   "metadata": {},
   "outputs": [
    {
     "name": "stderr",
     "output_type": "stream",
     "text": [
      "Warning message in predict.lm(object, newdata, se.fit, scale = 1, type = if (type == :\n",
      "\"prediction from a rank-deficient fit may be misleading\""
     ]
    }
   ],
   "source": [
    "# Ajustamento do modelo\n",
    "isepredout <- predict(isemodel, isetest[,-17])"
   ]
  },
  {
   "cell_type": "code",
   "execution_count": 82,
   "metadata": {},
   "outputs": [
    {
     "data": {
      "text/html": [
       "<dl class=dl-horizontal>\n",
       "\t<dt>3</dt>\n",
       "\t\t<dd>0.999999999999253</dd>\n",
       "\t<dt>8</dt>\n",
       "\t\t<dd>0.999999994316292</dd>\n",
       "\t<dt>10</dt>\n",
       "\t\t<dd>0.999999683169658</dd>\n",
       "\t<dt>11</dt>\n",
       "\t\t<dd>0.999996327069301</dd>\n",
       "\t<dt>17</dt>\n",
       "\t\t<dd>0.998943764055814</dd>\n",
       "\t<dt>20</dt>\n",
       "\t\t<dd>0.996336244824644</dd>\n",
       "</dl>\n"
      ],
      "text/latex": [
       "\\begin{description*}\n",
       "\\item[3] 0.999999999999253\n",
       "\\item[8] 0.999999994316292\n",
       "\\item[10] 0.999999683169658\n",
       "\\item[11] 0.999996327069301\n",
       "\\item[17] 0.998943764055814\n",
       "\\item[20] 0.996336244824644\n",
       "\\end{description*}\n"
      ],
      "text/markdown": [
       "3\n",
       ":   0.9999999999992538\n",
       ":   0.99999999431629210\n",
       ":   0.99999968316965811\n",
       ":   0.99999632706930117\n",
       ":   0.99894376405581420\n",
       ":   0.996336244824644\n",
       "\n"
      ],
      "text/plain": [
       "        3         8        10        11        17        20 \n",
       "1.0000000 1.0000000 0.9999997 0.9999963 0.9989438 0.9963362 "
      ]
     },
     "metadata": {},
     "output_type": "display_data"
    }
   ],
   "source": [
    "# Conversão do output em uma forma probabilistica\n",
    "iseprobout <- 1 / (1+exp(-(isepredout)))\n",
    "\n",
    "head(iseprobout)  "
   ]
  },
  {
   "cell_type": "code",
   "execution_count": 83,
   "metadata": {},
   "outputs": [],
   "source": [
    "# Classificação das probabilidades\n",
    "isepred_directionout <- NULL\n",
    "\n",
    "# Direção para cima (Up)\n",
    "isepred_directionout[iseprobout > 0.5] <- 1    \n",
    "\n",
    "# Direção para baixo (Down)\n",
    "isepred_directionout[iseprobout <= 0.5] <- 0"
   ]
  },
  {
   "cell_type": "code",
   "execution_count": 84,
   "metadata": {},
   "outputs": [
    {
     "data": {
      "text/plain": [
       "Confusion Matrix and Statistics\n",
       "\n",
       "                    \n",
       "isepred_directionout   0   1\n",
       "                   0 434  44\n",
       "                   1  45 613\n",
       "                                          \n",
       "               Accuracy : 0.9217          \n",
       "                 95% CI : (0.9045, 0.9366)\n",
       "    No Information Rate : 0.5783          \n",
       "    P-Value [Acc > NIR] : <2e-16          \n",
       "                                          \n",
       "                  Kappa : 0.8393          \n",
       "                                          \n",
       " Mcnemar's Test P-Value : 1               \n",
       "                                          \n",
       "            Sensitivity : 0.9061          \n",
       "            Specificity : 0.9330          \n",
       "         Pos Pred Value : 0.9079          \n",
       "         Neg Pred Value : 0.9316          \n",
       "             Prevalence : 0.4217          \n",
       "         Detection Rate : 0.3820          \n",
       "   Detection Prevalence : 0.4208          \n",
       "      Balanced Accuracy : 0.9195          \n",
       "                                          \n",
       "       'Positive' Class : 0               \n",
       "                                          "
      ]
     },
     "metadata": {},
     "output_type": "display_data"
    }
   ],
   "source": [
    "# Matriz de Confusão\n",
    "confusionMatrix(table(isepred_directionout, isetest$direction))"
   ]
  },
  {
   "cell_type": "markdown",
   "metadata": {},
   "source": [
    "**Curva ROC 1**"
   ]
  },
  {
   "cell_type": "code",
   "execution_count": 85,
   "metadata": {},
   "outputs": [
    {
     "data": {
      "image/png": "[encoded data removed]",
      "text/plain": [
       "Plot with title \"ROC curve\n",
       "AUC = 0.9195416\""
      ]
     },
     "metadata": {},
     "output_type": "display_data"
    }
   ],
   "source": [
    "plot(roc.curve(scores.class0 = isepred_directionout, weights.class0=isetest$direction, curve=TRUE))"
   ]
  },
  {
   "cell_type": "markdown",
   "metadata": {},
   "source": [
    "**Curva ROC 2**"
   ]
  },
  {
   "cell_type": "code",
   "execution_count": 86,
   "metadata": {},
   "outputs": [
    {
     "data": {
      "image/png": "[encoded data removed]",
      "text/plain": [
       "plot without title"
      ]
     },
     "metadata": {},
     "output_type": "display_data"
    }
   ],
   "source": [
    "iseprecrecout <- evalmod(scores = isepred_directionout, labels = isetest$direction)\n",
    "autoplot(iseprecrecout)"
   ]
  },
  {
   "cell_type": "code",
   "execution_count": 87,
   "metadata": {},
   "outputs": [
    {
     "data": {
      "image/png": "[encoded data removed]",
      "text/plain": [
       "plot without title"
      ]
     },
     "metadata": {},
     "output_type": "display_data"
    }
   ],
   "source": [
    "iseprecrecout <- evalmod(scores = isepred_directionout, labels = isetest$direction, mode=\"basic\")\n",
    "autoplot(iseprecrecout)"
   ]
  },
  {
   "cell_type": "markdown",
   "metadata": {},
   "source": [
    "## 3. Algoritmo K-means"
   ]
  },
  {
   "cell_type": "code",
   "execution_count": 88,
   "metadata": {},
   "outputs": [],
   "source": [
    "# Definição do número de clusters\n",
    "cluster <- 2\n",
    "set.seed(1)\n",
    "\n",
    "# O número de clusters corresponde ao número de direções (up = 1, down = 0)"
   ]
  },
  {
   "cell_type": "markdown",
   "metadata": {},
   "source": [
    "**Remoção das colunas de rótulo**"
   ]
  },
  {
   "cell_type": "markdown",
   "metadata": {},
   "source": [
    "K-means é um algoritmo do tipo não supervisionado (não trabalha com dados rotulados) e os atributos \"direction\" e \"dirret\" funcionam como rótulos.\n",
    "\n",
    "Rótulos não são desejáveis para algorítmos não supervisionados."
   ]
  },
  {
   "cell_type": "code",
   "execution_count": 89,
   "metadata": {},
   "outputs": [],
   "source": [
    "isetrain2 <- isetrain[,-c(16,17)]\n",
    "isetest2 <- isetest[,-c(16,17)]"
   ]
  },
  {
   "cell_type": "markdown",
   "metadata": {},
   "source": [
    "**Execução do algoritmo**"
   ]
  },
  {
   "cell_type": "code",
   "execution_count": 90,
   "metadata": {},
   "outputs": [
    {
     "data": {
      "text/html": [
       "<dl class=dl-horizontal>\n",
       "\t<dt>1</dt>\n",
       "\t\t<dd>2</dd>\n",
       "\t<dt>2</dt>\n",
       "\t\t<dd>2</dd>\n",
       "\t<dt>4</dt>\n",
       "\t\t<dd>2</dd>\n",
       "\t<dt>5</dt>\n",
       "\t\t<dd>2</dd>\n",
       "\t<dt>6</dt>\n",
       "\t\t<dd>2</dd>\n",
       "\t<dt>7</dt>\n",
       "\t\t<dd>2</dd>\n",
       "</dl>\n"
      ],
      "text/latex": [
       "\\begin{description*}\n",
       "\\item[1] 2\n",
       "\\item[2] 2\n",
       "\\item[4] 2\n",
       "\\item[5] 2\n",
       "\\item[6] 2\n",
       "\\item[7] 2\n",
       "\\end{description*}\n"
      ],
      "text/markdown": [
       "1\n",
       ":   22\n",
       ":   24\n",
       ":   25\n",
       ":   26\n",
       ":   27\n",
       ":   2\n",
       "\n"
      ],
      "text/plain": [
       "1 2 4 5 6 7 \n",
       "2 2 2 2 2 2 "
      ]
     },
     "metadata": {},
     "output_type": "display_data"
    }
   ],
   "source": [
    "isemodel2 <- kmeans(isetrain2[,-1], cluster)\n",
    "\n",
    "head(isemodel2$cluster)"
   ]
  },
  {
   "cell_type": "code",
   "execution_count": 91,
   "metadata": {},
   "outputs": [
    {
     "data": {
      "text/html": [
       "<table>\n",
       "<thead><tr><th scope=col>close</th><th scope=col>avg10</th><th scope=col>avg20</th><th scope=col>std10</th><th scope=col>std20</th><th scope=col>rsi14</th><th scope=col>rsi5</th><th scope=col>macd1226</th><th scope=col>signal9</th><th scope=col>histogram9</th><th scope=col>macd0720</th><th scope=col>signal5</th><th scope=col>histogram5</th><th scope=col>bbands</th></tr></thead>\n",
       "<tbody>\n",
       "\t<tr><td>2.407970  </td><td>2.404664  </td><td>2.398695  </td><td>-0.4887530</td><td>-0.4731325</td><td>-0.4778437</td><td>-0.4773248</td><td>-0.5231665</td><td>-0.5227855</td><td>-0.5330743</td><td>-0.5238133</td><td>-0.5236817</td><td>-0.5327323</td><td>-0.2944503</td></tr>\n",
       "\t<tr><td>1.336266  </td><td>1.332824  </td><td>1.331227  </td><td>-0.4990206</td><td>-0.4870340</td><td>-0.4791072</td><td>-0.4766107</td><td>-0.5273632</td><td>-0.5265166</td><td>-0.5335396</td><td>-0.5291131</td><td>-0.5292834</td><td>-0.5325228</td><td>-0.3500562</td></tr>\n",
       "</tbody>\n",
       "</table>\n"
      ],
      "text/latex": [
       "\\begin{tabular}{r|llllllllllllll}\n",
       " close & avg10 & avg20 & std10 & std20 & rsi14 & rsi5 & macd1226 & signal9 & histogram9 & macd0720 & signal5 & histogram5 & bbands\\\\\n",
       "\\hline\n",
       "\t 2.407970   & 2.404664   & 2.398695   & -0.4887530 & -0.4731325 & -0.4778437 & -0.4773248 & -0.5231665 & -0.5227855 & -0.5330743 & -0.5238133 & -0.5236817 & -0.5327323 & -0.2944503\\\\\n",
       "\t 1.336266   & 1.332824   & 1.331227   & -0.4990206 & -0.4870340 & -0.4791072 & -0.4766107 & -0.5273632 & -0.5265166 & -0.5335396 & -0.5291131 & -0.5292834 & -0.5325228 & -0.3500562\\\\\n",
       "\\end{tabular}\n"
      ],
      "text/markdown": [
       "\n",
       "| close | avg10 | avg20 | std10 | std20 | rsi14 | rsi5 | macd1226 | signal9 | histogram9 | macd0720 | signal5 | histogram5 | bbands |\n",
       "|---|---|---|---|---|---|---|---|---|---|---|---|---|---|\n",
       "| 2.407970   | 2.404664   | 2.398695   | -0.4887530 | -0.4731325 | -0.4778437 | -0.4773248 | -0.5231665 | -0.5227855 | -0.5330743 | -0.5238133 | -0.5236817 | -0.5327323 | -0.2944503 |\n",
       "| 1.336266   | 1.332824   | 1.331227   | -0.4990206 | -0.4870340 | -0.4791072 | -0.4766107 | -0.5273632 | -0.5265166 | -0.5335396 | -0.5291131 | -0.5292834 | -0.5325228 | -0.3500562 |\n",
       "\n"
      ],
      "text/plain": [
       "  close    avg10    avg20    std10      std20      rsi14      rsi5      \n",
       "1 2.407970 2.404664 2.398695 -0.4887530 -0.4731325 -0.4778437 -0.4773248\n",
       "2 1.336266 1.332824 1.331227 -0.4990206 -0.4870340 -0.4791072 -0.4766107\n",
       "  macd1226   signal9    histogram9 macd0720   signal5    histogram5 bbands    \n",
       "1 -0.5231665 -0.5227855 -0.5330743 -0.5238133 -0.5236817 -0.5327323 -0.2944503\n",
       "2 -0.5273632 -0.5265166 -0.5335396 -0.5291131 -0.5292834 -0.5325228 -0.3500562"
      ]
     },
     "metadata": {},
     "output_type": "display_data"
    }
   ],
   "source": [
    "# Extração do centróides finais dos cluesters (Centros finais do cluster)\n",
    "isemodel2$center"
   ]
  },
  {
   "cell_type": "code",
   "execution_count": 92,
   "metadata": {},
   "outputs": [
    {
     "data": {
      "text/html": [
       "<ol class=list-inline>\n",
       "\t<li>1163</li>\n",
       "\t<li>1424</li>\n",
       "</ol>\n"
      ],
      "text/latex": [
       "\\begin{enumerate*}\n",
       "\\item 1163\n",
       "\\item 1424\n",
       "\\end{enumerate*}\n"
      ],
      "text/markdown": [
       "1. 1163\n",
       "2. 1424\n",
       "\n",
       "\n"
      ],
      "text/plain": [
       "[1] 1163 1424"
      ]
     },
     "metadata": {},
     "output_type": "display_data"
    }
   ],
   "source": [
    "# Extração do número de pontos de dados de cada cluster    \n",
    "isemodel2$size"
   ]
  },
  {
   "cell_type": "markdown",
   "metadata": {},
   "source": [
    "**Verificação da acurácia do modelo**"
   ]
  },
  {
   "cell_type": "code",
   "execution_count": 93,
   "metadata": {},
   "outputs": [
    {
     "data": {
      "text/html": [
       "1685.7"
      ],
      "text/latex": [
       "1685.7"
      ],
      "text/markdown": [
       "1685.7"
      ],
      "text/plain": [
       "[1] 1685.7"
      ]
     },
     "metadata": {},
     "output_type": "display_data"
    }
   ],
   "source": [
    "# Cálculo da soma dos quadrados entre clusters\n",
    "round(isemodel2$tot.withinss, digits = 2)"
   ]
  },
  {
   "cell_type": "code",
   "execution_count": 94,
   "metadata": {},
   "outputs": [
    {
     "data": {
      "text/html": [
       "3888.11"
      ],
      "text/latex": [
       "3888.11"
      ],
      "text/markdown": [
       "3888.11"
      ],
      "text/plain": [
       "[1] 3888.11"
      ]
     },
     "metadata": {},
     "output_type": "display_data"
    }
   ],
   "source": [
    "# Cálculo da soma total dos quadrados\n",
    "round(isemodel2$totss, digits = 2)"
   ]
  },
  {
   "cell_type": "code",
   "execution_count": 95,
   "metadata": {},
   "outputs": [
    {
     "data": {
      "text/html": [
       "0.43"
      ],
      "text/latex": [
       "0.43"
      ],
      "text/markdown": [
       "0.43"
      ],
      "text/plain": [
       "[1] 0.43"
      ]
     },
     "metadata": {},
     "output_type": "display_data"
    }
   ],
   "source": [
    "# Acurácia = Soma dos quadrados entre os Clusters / Soma Total dos quadrados \n",
    "round(isemodel2$tot.withinss/isemodel2$totss, digits = 2)"
   ]
  },
  {
   "cell_type": "markdown",
   "metadata": {},
   "source": [
    "A acurácia do modelo não é satisfatória."
   ]
  },
  {
   "cell_type": "markdown",
   "metadata": {},
   "source": [
    "**Previsão**"
   ]
  },
  {
   "cell_type": "code",
   "execution_count": 96,
   "metadata": {},
   "outputs": [
    {
     "name": "stderr",
     "output_type": "stream",
     "text": [
      "Warning message:\n",
      "\"package 'clue' was built under R version 3.6.3\""
     ]
    }
   ],
   "source": [
    "# Biblioteca(s) Necessária(s)\n",
    "library(clue)"
   ]
  },
  {
   "cell_type": "code",
   "execution_count": 97,
   "metadata": {},
   "outputs": [
    {
     "data": {
      "text/html": [
       "<ol class=list-inline>\n",
       "\t<li>2</li>\n",
       "\t<li>2</li>\n",
       "\t<li>2</li>\n",
       "\t<li>2</li>\n",
       "\t<li>2</li>\n",
       "\t<li>2</li>\n",
       "</ol>\n"
      ],
      "text/latex": [
       "\\begin{enumerate*}\n",
       "\\item 2\n",
       "\\item 2\n",
       "\\item 2\n",
       "\\item 2\n",
       "\\item 2\n",
       "\\item 2\n",
       "\\end{enumerate*}\n"
      ],
      "text/markdown": [
       "1. 2\n",
       "2. 2\n",
       "3. 2\n",
       "4. 2\n",
       "5. 2\n",
       "6. 2\n",
       "\n",
       "\n"
      ],
      "text/plain": [
       "[1] 2 2 2 2 2 2"
      ]
     },
     "metadata": {},
     "output_type": "display_data"
    }
   ],
   "source": [
    "isepredkm <- cl_predict(isemodel2, isetest2[,-1])\n",
    "head(isepredkm)"
   ]
  },
  {
   "cell_type": "markdown",
   "metadata": {},
   "source": [
    "# 4. Árvore de decisão"
   ]
  },
  {
   "cell_type": "code",
   "execution_count": 98,
   "metadata": {},
   "outputs": [
    {
     "name": "stderr",
     "output_type": "stream",
     "text": [
      "Warning message:\n",
      "\"package 'rpart.plot' was built under R version 3.6.3\""
     ]
    }
   ],
   "source": [
    "# Biblioteca(s) Necessária(s)\n",
    "library(rpart) \n",
    "library(rpart.plot)"
   ]
  },
  {
   "cell_type": "code",
   "execution_count": 99,
   "metadata": {},
   "outputs": [],
   "source": [
    "# Criação da árvore de decisão\n",
    "isemodel3 <- rpart(formula, isetrain, method = \"class\")"
   ]
  },
  {
   "cell_type": "code",
   "execution_count": 100,
   "metadata": {},
   "outputs": [
    {
     "data": {
      "image/png": "[encoded data removed]",
      "text/plain": [
       "plot without title"
      ]
     },
     "metadata": {},
     "output_type": "display_data"
    }
   ],
   "source": [
    "# Criação da árvore gráfica\n",
    "rpart.plot(isemodel3, type = 0, extra = 106, tweak = 1) "
   ]
  },
  {
   "cell_type": "code",
   "execution_count": 101,
   "metadata": {},
   "outputs": [
    {
     "data": {
      "text/html": [
       "<table>\n",
       "<thead><tr><th></th><th scope=col>Overall</th></tr></thead>\n",
       "<tbody>\n",
       "\t<tr><th scope=row>avg10</th><td>  9.216755</td></tr>\n",
       "\t<tr><th scope=row>bbands</th><td> 11.768007</td></tr>\n",
       "\t<tr><th scope=row>close</th><td>  5.572497</td></tr>\n",
       "\t<tr><th scope=row>dirret</th><td>931.781173</td></tr>\n",
       "\t<tr><th scope=row>macd0720</th><td>865.914632</td></tr>\n",
       "\t<tr><th scope=row>macd1226</th><td>708.196508</td></tr>\n",
       "\t<tr><th scope=row>rsi14</th><td>526.608646</td></tr>\n",
       "\t<tr><th scope=row>signal5</th><td>710.855745</td></tr>\n",
       "\t<tr><th scope=row>signal9</th><td> 38.792721</td></tr>\n",
       "\t<tr><th scope=row>std20</th><td> 11.768007</td></tr>\n",
       "\t<tr><th scope=row>data</th><td>  0.000000</td></tr>\n",
       "\t<tr><th scope=row>avg20</th><td>  0.000000</td></tr>\n",
       "\t<tr><th scope=row>std10</th><td>  0.000000</td></tr>\n",
       "\t<tr><th scope=row>rsi5</th><td>  0.000000</td></tr>\n",
       "\t<tr><th scope=row>histogram9</th><td>  0.000000</td></tr>\n",
       "\t<tr><th scope=row>histogram5</th><td>  0.000000</td></tr>\n",
       "</tbody>\n",
       "</table>\n"
      ],
      "text/latex": [
       "\\begin{tabular}{r|l}\n",
       "  & Overall\\\\\n",
       "\\hline\n",
       "\tavg10 &   9.216755\\\\\n",
       "\tbbands &  11.768007\\\\\n",
       "\tclose &   5.572497\\\\\n",
       "\tdirret & 931.781173\\\\\n",
       "\tmacd0720 & 865.914632\\\\\n",
       "\tmacd1226 & 708.196508\\\\\n",
       "\trsi14 & 526.608646\\\\\n",
       "\tsignal5 & 710.855745\\\\\n",
       "\tsignal9 &  38.792721\\\\\n",
       "\tstd20 &  11.768007\\\\\n",
       "\tdata &   0.000000\\\\\n",
       "\tavg20 &   0.000000\\\\\n",
       "\tstd10 &   0.000000\\\\\n",
       "\trsi5 &   0.000000\\\\\n",
       "\thistogram9 &   0.000000\\\\\n",
       "\thistogram5 &   0.000000\\\\\n",
       "\\end{tabular}\n"
      ],
      "text/markdown": [
       "\n",
       "| <!--/--> | Overall |\n",
       "|---|---|\n",
       "| avg10 |   9.216755 |\n",
       "| bbands |  11.768007 |\n",
       "| close |   5.572497 |\n",
       "| dirret | 931.781173 |\n",
       "| macd0720 | 865.914632 |\n",
       "| macd1226 | 708.196508 |\n",
       "| rsi14 | 526.608646 |\n",
       "| signal5 | 710.855745 |\n",
       "| signal9 |  38.792721 |\n",
       "| std20 |  11.768007 |\n",
       "| data |   0.000000 |\n",
       "| avg20 |   0.000000 |\n",
       "| std10 |   0.000000 |\n",
       "| rsi5 |   0.000000 |\n",
       "| histogram9 |   0.000000 |\n",
       "| histogram5 |   0.000000 |\n",
       "\n"
      ],
      "text/plain": [
       "           Overall   \n",
       "avg10        9.216755\n",
       "bbands      11.768007\n",
       "close        5.572497\n",
       "dirret     931.781173\n",
       "macd0720   865.914632\n",
       "macd1226   708.196508\n",
       "rsi14      526.608646\n",
       "signal5    710.855745\n",
       "signal9     38.792721\n",
       "std20       11.768007\n",
       "data         0.000000\n",
       "avg20        0.000000\n",
       "std10        0.000000\n",
       "rsi5         0.000000\n",
       "histogram9   0.000000\n",
       "histogram5   0.000000"
      ]
     },
     "metadata": {},
     "output_type": "display_data"
    }
   ],
   "source": [
    "# Importância dos atributos\n",
    "iseimp <- varImp(isemodel3, scale = F)\n",
    "iseimp"
   ]
  },
  {
   "cell_type": "code",
   "execution_count": 102,
   "metadata": {},
   "outputs": [],
   "source": [
    "# Previsão\n",
    "isepred <- predict(isemodel3, isetest, type = \"class\")"
   ]
  },
  {
   "cell_type": "code",
   "execution_count": 103,
   "metadata": {},
   "outputs": [
    {
     "data": {
      "text/plain": [
       "Confusion Matrix and Statistics\n",
       "\n",
       "       \n",
       "isepred   0   1\n",
       "      0 432  63\n",
       "      1  47 594\n",
       "                                          \n",
       "               Accuracy : 0.9032          \n",
       "                 95% CI : (0.8845, 0.9197)\n",
       "    No Information Rate : 0.5783          \n",
       "    P-Value [Acc > NIR] : <2e-16          \n",
       "                                          \n",
       "                  Kappa : 0.8024          \n",
       "                                          \n",
       " Mcnemar's Test P-Value : 0.1527          \n",
       "                                          \n",
       "            Sensitivity : 0.9019          \n",
       "            Specificity : 0.9041          \n",
       "         Pos Pred Value : 0.8727          \n",
       "         Neg Pred Value : 0.9267          \n",
       "             Prevalence : 0.4217          \n",
       "         Detection Rate : 0.3803          \n",
       "   Detection Prevalence : 0.4357          \n",
       "      Balanced Accuracy : 0.9030          \n",
       "                                          \n",
       "       'Positive' Class : 0               \n",
       "                                          "
      ]
     },
     "metadata": {},
     "output_type": "display_data"
    }
   ],
   "source": [
    "# Matriz de Confusão\n",
    "confusionMatrix(table(isepred, isetest$direction)) "
   ]
  },
  {
   "cell_type": "markdown",
   "metadata": {},
   "source": [
    "## 5. K Nearest Neighborhood"
   ]
  },
  {
   "cell_type": "code",
   "execution_count": 104,
   "metadata": {},
   "outputs": [],
   "source": [
    "# Biblioteca(s) Necessária(s)\n",
    "library(class)"
   ]
  },
  {
   "cell_type": "code",
   "execution_count": 105,
   "metadata": {},
   "outputs": [],
   "source": [
    "# Definição do número de Neighborhoods    \n",
    "neighborhood <- 3\n",
    "\n",
    "# O número de neighborhoods corresponde ao número de direções (Up, Down, NoWhere)\n",
    "\n",
    "set.seed(1)\n",
    "\n",
    "isdir <- isetrain$dirret"
   ]
  },
  {
   "cell_type": "code",
   "execution_count": 106,
   "metadata": {},
   "outputs": [
    {
     "data": {
      "text/html": [
       "<ol class=list-inline>\n",
       "\t<li>up</li>\n",
       "\t<li>up</li>\n",
       "\t<li>up</li>\n",
       "\t<li>up</li>\n",
       "\t<li>up</li>\n",
       "\t<li>up</li>\n",
       "</ol>\n",
       "\n",
       "<details>\n",
       "\t<summary style=display:list-item;cursor:pointer>\n",
       "\t\t<strong>Levels</strong>:\n",
       "\t</summary>\n",
       "\t<ol class=list-inline>\n",
       "\t\t<li>'down'</li>\n",
       "\t\t<li>'nowhere'</li>\n",
       "\t\t<li>'up'</li>\n",
       "\t</ol>\n",
       "</details>"
      ],
      "text/latex": [
       "\\begin{enumerate*}\n",
       "\\item up\n",
       "\\item up\n",
       "\\item up\n",
       "\\item up\n",
       "\\item up\n",
       "\\item up\n",
       "\\end{enumerate*}\n",
       "\n",
       "\\emph{Levels}: \\begin{enumerate*}\n",
       "\\item 'down'\n",
       "\\item 'nowhere'\n",
       "\\item 'up'\n",
       "\\end{enumerate*}\n"
      ],
      "text/markdown": [
       "1. up\n",
       "2. up\n",
       "3. up\n",
       "4. up\n",
       "5. up\n",
       "6. up\n",
       "\n",
       "\n",
       "\n",
       "**Levels**: 1. 'down'\n",
       "2. 'nowhere'\n",
       "3. 'up'\n",
       "\n",
       "\n"
      ],
      "text/plain": [
       "[1] up up up up up up\n",
       "Levels: down nowhere up"
      ]
     },
     "metadata": {},
     "output_type": "display_data"
    }
   ],
   "source": [
    "isemodel4 <- knn(isetrain2[,-1], isetest2[,-1], isdir, neighborhood)\n",
    "head(isemodel4)"
   ]
  },
  {
   "cell_type": "code",
   "execution_count": 107,
   "metadata": {},
   "outputs": [
    {
     "data": {
      "text/html": [
       "<dl class=dl-horizontal>\n",
       "\t<dt>down</dt>\n",
       "\t\t<dd>313</dd>\n",
       "\t<dt>nowhere</dt>\n",
       "\t\t<dd>330</dd>\n",
       "\t<dt>up</dt>\n",
       "\t\t<dd>493</dd>\n",
       "</dl>\n"
      ],
      "text/latex": [
       "\\begin{description*}\n",
       "\\item[down] 313\n",
       "\\item[nowhere] 330\n",
       "\\item[up] 493\n",
       "\\end{description*}\n"
      ],
      "text/markdown": [
       "down\n",
       ":   313nowhere\n",
       ":   330up\n",
       ":   493\n",
       "\n"
      ],
      "text/plain": [
       "   down nowhere      up \n",
       "    313     330     493 "
      ]
     },
     "metadata": {},
     "output_type": "display_data"
    }
   ],
   "source": [
    "summary(isemodel4)"
   ]
  },
  {
   "cell_type": "code",
   "execution_count": 108,
   "metadata": {},
   "outputs": [
    {
     "data": {
      "text/plain": [
       "Confusion Matrix and Statistics\n",
       "\n",
       "         \n",
       "isemodel4 down nowhere  up\n",
       "  down     262      47   4\n",
       "  nowhere   57     209  64\n",
       "  up         3      54 436\n",
       "\n",
       "Overall Statistics\n",
       "                                          \n",
       "               Accuracy : 0.7984          \n",
       "                 95% CI : (0.7739, 0.8214)\n",
       "    No Information Rate : 0.4437          \n",
       "    P-Value [Acc > NIR] : <2e-16          \n",
       "                                          \n",
       "                  Kappa : 0.6899          \n",
       "                                          \n",
       " Mcnemar's Test P-Value : 0.5825          \n",
       "\n",
       "Statistics by Class:\n",
       "\n",
       "                     Class: down Class: nowhere Class: up\n",
       "Sensitivity               0.8137         0.6742    0.8651\n",
       "Specificity               0.9373         0.8535    0.9098\n",
       "Pos Pred Value            0.8371         0.6333    0.8844\n",
       "Neg Pred Value            0.9271         0.8747    0.8942\n",
       "Prevalence                0.2835         0.2729    0.4437\n",
       "Detection Rate            0.2306         0.1840    0.3838\n",
       "Detection Prevalence      0.2755         0.2905    0.4340\n",
       "Balanced Accuracy         0.8755         0.7639    0.8874"
      ]
     },
     "metadata": {},
     "output_type": "display_data"
    }
   ],
   "source": [
    "# Matriz de Confusão\n",
    "confusionMatrix(table(isemodel4, isetest$dirret)) "
   ]
  },
  {
   "cell_type": "markdown",
   "metadata": {},
   "source": [
    "## 6. Support Vector Machine"
   ]
  },
  {
   "cell_type": "code",
   "execution_count": 109,
   "metadata": {},
   "outputs": [
    {
     "data": {
      "text/plain": [
       "$call\n",
       "svm.default(x = isetrain2[, -1], y = as.factor(isdir))\n",
       "\n",
       "$type\n",
       "[1] 0\n",
       "\n",
       "$kernel\n",
       "[1] 2\n",
       "\n",
       "$cost\n",
       "[1] 1\n",
       "\n",
       "$degree\n",
       "[1] 3\n",
       "\n",
       "$gamma\n",
       "[1] 0.07142857\n"
      ]
     },
     "metadata": {},
     "output_type": "display_data"
    }
   ],
   "source": [
    "isemodel5 <- svm(isetrain2[,-1], as.factor(isdir))\n",
    "head(isemodel5)"
   ]
  },
  {
   "cell_type": "code",
   "execution_count": 110,
   "metadata": {},
   "outputs": [
    {
     "data": {
      "text/html": [
       "<dl class=dl-horizontal>\n",
       "\t<dt>3</dt>\n",
       "\t\t<dd>up</dd>\n",
       "\t<dt>8</dt>\n",
       "\t\t<dd>up</dd>\n",
       "\t<dt>10</dt>\n",
       "\t\t<dd>up</dd>\n",
       "\t<dt>11</dt>\n",
       "\t\t<dd>up</dd>\n",
       "\t<dt>17</dt>\n",
       "\t\t<dd>up</dd>\n",
       "\t<dt>20</dt>\n",
       "\t\t<dd>up</dd>\n",
       "</dl>\n",
       "\n",
       "<details>\n",
       "\t<summary style=display:list-item;cursor:pointer>\n",
       "\t\t<strong>Levels</strong>:\n",
       "\t</summary>\n",
       "\t<ol class=list-inline>\n",
       "\t\t<li>'down'</li>\n",
       "\t\t<li>'nowhere'</li>\n",
       "\t\t<li>'up'</li>\n",
       "\t</ol>\n",
       "</details>"
      ],
      "text/latex": [
       "\\begin{description*}\n",
       "\\item[3] up\n",
       "\\item[8] up\n",
       "\\item[10] up\n",
       "\\item[11] up\n",
       "\\item[17] up\n",
       "\\item[20] up\n",
       "\\end{description*}\n",
       "\n",
       "\\emph{Levels}: \\begin{enumerate*}\n",
       "\\item 'down'\n",
       "\\item 'nowhere'\n",
       "\\item 'up'\n",
       "\\end{enumerate*}\n"
      ],
      "text/markdown": [
       "3\n",
       ":   up8\n",
       ":   up10\n",
       ":   up11\n",
       ":   up17\n",
       ":   up20\n",
       ":   up\n",
       "\n",
       "\n",
       "**Levels**: 1. 'down'\n",
       "2. 'nowhere'\n",
       "3. 'up'\n",
       "\n",
       "\n"
      ],
      "text/plain": [
       " 3  8 10 11 17 20 \n",
       "up up up up up up \n",
       "Levels: down nowhere up"
      ]
     },
     "metadata": {},
     "output_type": "display_data"
    }
   ],
   "source": [
    "isepredsvm <- predict(isemodel5, isetest2[,-1])\n",
    "head(isepredsvm)"
   ]
  },
  {
   "cell_type": "code",
   "execution_count": 111,
   "metadata": {},
   "outputs": [
    {
     "data": {
      "text/plain": [
       "Confusion Matrix and Statistics\n",
       "\n",
       "          \n",
       "isepredsvm down nowhere  up\n",
       "   down     263      42   2\n",
       "   nowhere   56     210  53\n",
       "   up         3      58 449\n",
       "\n",
       "Overall Statistics\n",
       "                                         \n",
       "               Accuracy : 0.8116         \n",
       "                 95% CI : (0.7876, 0.834)\n",
       "    No Information Rate : 0.4437         \n",
       "    P-Value [Acc > NIR] : <2e-16         \n",
       "                                         \n",
       "                  Kappa : 0.7091         \n",
       "                                         \n",
       " Mcnemar's Test P-Value : 0.489          \n",
       "\n",
       "Statistics by Class:\n",
       "\n",
       "                     Class: down Class: nowhere Class: up\n",
       "Sensitivity               0.8168         0.6774    0.8909\n",
       "Specificity               0.9459         0.8680    0.9035\n",
       "Pos Pred Value            0.8567         0.6583    0.8804\n",
       "Neg Pred Value            0.9288         0.8776    0.9121\n",
       "Prevalence                0.2835         0.2729    0.4437\n",
       "Detection Rate            0.2315         0.1849    0.3952\n",
       "Detection Prevalence      0.2702         0.2808    0.4489\n",
       "Balanced Accuracy         0.8814         0.7727    0.8972"
      ]
     },
     "metadata": {},
     "output_type": "display_data"
    }
   ],
   "source": [
    "# Matriz de Confusão\n",
    "confusionMatrix(table(isepredsvm, isetest$dirret)) "
   ]
  },
  {
   "cell_type": "markdown",
   "metadata": {},
   "source": [
    "## 7. Regressão Linear"
   ]
  },
  {
   "cell_type": "code",
   "execution_count": 112,
   "metadata": {},
   "outputs": [
    {
     "data": {
      "text/plain": [
       "\n",
       "Call:\n",
       "lm(formula = close ~ avg10 + avg20 + std10 + std20 + rsi14 + \n",
       "    rsi5 + macd1226 + signal9 + histogram9 + macd0720 + signal5 + \n",
       "    histogram5 + bbands, data = isez)\n",
       "\n",
       "Residuals:\n",
       "     Min       1Q   Median       3Q      Max \n",
       "-2.12422 -0.00866 -0.00071  0.00796  1.06138 \n",
       "\n",
       "Coefficients: (1 not defined because of singularities)\n",
       "              Estimate Std. Error t value Pr(>|t|)    \n",
       "(Intercept)  240.44392  123.03622   1.954 0.050746 .  \n",
       "avg10          0.51554    0.01525  33.795  < 2e-16 ***\n",
       "avg20          0.48459    0.01527  31.741  < 2e-16 ***\n",
       "std10         -0.10716    0.04641  -2.309 0.020995 *  \n",
       "std20         -0.02241    0.03391  -0.661 0.508797    \n",
       "rsi14          0.31891    0.08368   3.811 0.000141 ***\n",
       "rsi5           0.03323    0.04682   0.710 0.477932    \n",
       "macd1226    -445.72187  230.88279  -1.931 0.053620 .  \n",
       "signal9      446.34903  230.93592   1.933 0.053339 .  \n",
       "histogram9   447.62379  230.99516   1.938 0.052723 .  \n",
       "macd0720       0.12406    0.09041   1.372 0.170100    \n",
       "signal5        0.13381    0.08493   1.576 0.115206    \n",
       "histogram5     2.66834    0.15543  17.167  < 2e-16 ***\n",
       "bbands              NA         NA      NA       NA    \n",
       "---\n",
       "Signif. codes:  0 '***' 0.001 '**' 0.01 '*' 0.05 '.' 0.1 ' ' 1\n",
       "\n",
       "Residual standard error: 0.04595 on 3710 degrees of freedom\n",
       "Multiple R-squared:  0.9956,\tAdjusted R-squared:  0.9956 \n",
       "F-statistic: 7.071e+04 on 12 and 3710 DF,  p-value: < 2.2e-16\n"
      ]
     },
     "metadata": {},
     "output_type": "display_data"
    }
   ],
   "source": [
    "# Construção do modelo\n",
    "iselm.fit = lm(close ~ avg10 + avg20 + std10 + std20 + rsi14 + rsi5 + macd1226 + signal9 +\n",
    "                  histogram9 + macd0720 + signal5 + histogram5 + bbands, data = isez)\n",
    "\n",
    "summary(iselm.fit)"
   ]
  },
  {
   "cell_type": "code",
   "execution_count": 113,
   "metadata": {
    "scrolled": false
   },
   "outputs": [
    {
     "name": "stderr",
     "output_type": "stream",
     "text": [
      "Warning message:\n",
      "\"not plotting observations with leverage one:\n",
      "  1\"Warning message:\n",
      "\"not plotting observations with leverage one:\n",
      "  1\""
     ]
    },
    {
     "data": {
      "image/png": "[encoded data removed]",
      "text/plain": [
       "Plot with title \"\""
      ]
     },
     "metadata": {},
     "output_type": "display_data"
    }
   ],
   "source": [
    "# Análise Gráfica\n",
    "par(mfrow=c(2,2))\n",
    "plot(iselm.fit)"
   ]
  },
  {
   "cell_type": "code",
   "execution_count": 114,
   "metadata": {},
   "outputs": [
    {
     "name": "stderr",
     "output_type": "stream",
     "text": [
      "Warning message in predict.lm(iselm.fit, isetest):\n",
      "\"prediction from a rank-deficient fit may be misleading\""
     ]
    }
   ],
   "source": [
    "# Previsão\n",
    "iserlm <- predict(iselm.fit, isetest)"
   ]
  },
  {
   "cell_type": "code",
   "execution_count": 115,
   "metadata": {
    "scrolled": false
   },
   "outputs": [
    {
     "data": {
      "text/html": [
       "<table>\n",
       "<thead><tr><th></th><th scope=col>Df</th><th scope=col>Sum Sq</th><th scope=col>Mean Sq</th><th scope=col>F value</th><th scope=col>Pr(&gt;F)</th></tr></thead>\n",
       "<tbody>\n",
       "\t<tr><th scope=row>avg10</th><td>   1         </td><td>1.778108e+03 </td><td>1.778108e+03 </td><td>8.422393e+05 </td><td> 0.000000e+00</td></tr>\n",
       "\t<tr><th scope=row>avg20</th><td>   1         </td><td>1.529929e-03 </td><td>1.529929e-03 </td><td>7.246839e-01 </td><td> 3.946667e-01</td></tr>\n",
       "\t<tr><th scope=row>std10</th><td>   1         </td><td>9.621493e-01 </td><td>9.621493e-01 </td><td>4.557427e+02 </td><td> 1.802514e-95</td></tr>\n",
       "\t<tr><th scope=row>std20</th><td>   1         </td><td>6.557662e-03 </td><td>6.557662e-03 </td><td>3.106178e+00 </td><td> 7.807812e-02</td></tr>\n",
       "\t<tr><th scope=row>rsi14</th><td>   1         </td><td>5.662869e+00 </td><td>5.662869e+00 </td><td>2.682340e+03 </td><td> 0.000000e+00</td></tr>\n",
       "\t<tr><th scope=row>rsi5</th><td>   1         </td><td>1.890946e+00 </td><td>1.890946e+00 </td><td>8.956875e+02 </td><td>1.776960e-176</td></tr>\n",
       "\t<tr><th scope=row>macd1226</th><td>   1         </td><td>2.691488e-01 </td><td>2.691488e-01 </td><td>1.274881e+02 </td><td> 4.310299e-29</td></tr>\n",
       "\t<tr><th scope=row>signal9</th><td>   1         </td><td>3.661806e+00 </td><td>3.661806e+00 </td><td>1.734493e+03 </td><td>2.253671e-311</td></tr>\n",
       "\t<tr><th scope=row>histogram9</th><td>   1         </td><td>1.286411e-03 </td><td>1.286411e-03 </td><td>6.093361e-01 </td><td> 4.350877e-01</td></tr>\n",
       "\t<tr><th scope=row>macd0720</th><td>   1         </td><td>1.534576e-03 </td><td>1.534576e-03 </td><td>7.268848e-01 </td><td> 3.939499e-01</td></tr>\n",
       "\t<tr><th scope=row>signal5</th><td>   1         </td><td>2.483091e-01 </td><td>2.483091e-01 </td><td>1.176170e+02 </td><td> 5.322628e-27</td></tr>\n",
       "\t<tr><th scope=row>histogram5</th><td>   1         </td><td>6.222044e-01 </td><td>6.222044e-01 </td><td>2.947205e+02 </td><td> 1.257469e-63</td></tr>\n",
       "\t<tr><th scope=row>Residuals</th><td>3710         </td><td>7.832432e+00 </td><td>2.111168e-03 </td><td>          NA </td><td>           NA</td></tr>\n",
       "</tbody>\n",
       "</table>\n"
      ],
      "text/latex": [
       "\\begin{tabular}{r|lllll}\n",
       "  & Df & Sum Sq & Mean Sq & F value & Pr(>F)\\\\\n",
       "\\hline\n",
       "\tavg10 &    1          & 1.778108e+03  & 1.778108e+03  & 8.422393e+05  &  0.000000e+00\\\\\n",
       "\tavg20 &    1          & 1.529929e-03  & 1.529929e-03  & 7.246839e-01  &  3.946667e-01\\\\\n",
       "\tstd10 &    1          & 9.621493e-01  & 9.621493e-01  & 4.557427e+02  &  1.802514e-95\\\\\n",
       "\tstd20 &    1          & 6.557662e-03  & 6.557662e-03  & 3.106178e+00  &  7.807812e-02\\\\\n",
       "\trsi14 &    1          & 5.662869e+00  & 5.662869e+00  & 2.682340e+03  &  0.000000e+00\\\\\n",
       "\trsi5 &    1          & 1.890946e+00  & 1.890946e+00  & 8.956875e+02  & 1.776960e-176\\\\\n",
       "\tmacd1226 &    1          & 2.691488e-01  & 2.691488e-01  & 1.274881e+02  &  4.310299e-29\\\\\n",
       "\tsignal9 &    1          & 3.661806e+00  & 3.661806e+00  & 1.734493e+03  & 2.253671e-311\\\\\n",
       "\thistogram9 &    1          & 1.286411e-03  & 1.286411e-03  & 6.093361e-01  &  4.350877e-01\\\\\n",
       "\tmacd0720 &    1          & 1.534576e-03  & 1.534576e-03  & 7.268848e-01  &  3.939499e-01\\\\\n",
       "\tsignal5 &    1          & 2.483091e-01  & 2.483091e-01  & 1.176170e+02  &  5.322628e-27\\\\\n",
       "\thistogram5 &    1          & 6.222044e-01  & 6.222044e-01  & 2.947205e+02  &  1.257469e-63\\\\\n",
       "\tResiduals & 3710          & 7.832432e+00  & 2.111168e-03  &           NA  &            NA\\\\\n",
       "\\end{tabular}\n"
      ],
      "text/markdown": [
       "\n",
       "| <!--/--> | Df | Sum Sq | Mean Sq | F value | Pr(>F) |\n",
       "|---|---|---|---|---|---|\n",
       "| avg10 |    1          | 1.778108e+03  | 1.778108e+03  | 8.422393e+05  |  0.000000e+00 |\n",
       "| avg20 |    1          | 1.529929e-03  | 1.529929e-03  | 7.246839e-01  |  3.946667e-01 |\n",
       "| std10 |    1          | 9.621493e-01  | 9.621493e-01  | 4.557427e+02  |  1.802514e-95 |\n",
       "| std20 |    1          | 6.557662e-03  | 6.557662e-03  | 3.106178e+00  |  7.807812e-02 |\n",
       "| rsi14 |    1          | 5.662869e+00  | 5.662869e+00  | 2.682340e+03  |  0.000000e+00 |\n",
       "| rsi5 |    1          | 1.890946e+00  | 1.890946e+00  | 8.956875e+02  | 1.776960e-176 |\n",
       "| macd1226 |    1          | 2.691488e-01  | 2.691488e-01  | 1.274881e+02  |  4.310299e-29 |\n",
       "| signal9 |    1          | 3.661806e+00  | 3.661806e+00  | 1.734493e+03  | 2.253671e-311 |\n",
       "| histogram9 |    1          | 1.286411e-03  | 1.286411e-03  | 6.093361e-01  |  4.350877e-01 |\n",
       "| macd0720 |    1          | 1.534576e-03  | 1.534576e-03  | 7.268848e-01  |  3.939499e-01 |\n",
       "| signal5 |    1          | 2.483091e-01  | 2.483091e-01  | 1.176170e+02  |  5.322628e-27 |\n",
       "| histogram5 |    1          | 6.222044e-01  | 6.222044e-01  | 2.947205e+02  |  1.257469e-63 |\n",
       "| Residuals | 3710          | 7.832432e+00  | 2.111168e-03  |           NA  |            NA |\n",
       "\n"
      ],
      "text/plain": [
       "           Df   Sum Sq       Mean Sq      F value      Pr(>F)       \n",
       "avg10         1 1.778108e+03 1.778108e+03 8.422393e+05  0.000000e+00\n",
       "avg20         1 1.529929e-03 1.529929e-03 7.246839e-01  3.946667e-01\n",
       "std10         1 9.621493e-01 9.621493e-01 4.557427e+02  1.802514e-95\n",
       "std20         1 6.557662e-03 6.557662e-03 3.106178e+00  7.807812e-02\n",
       "rsi14         1 5.662869e+00 5.662869e+00 2.682340e+03  0.000000e+00\n",
       "rsi5          1 1.890946e+00 1.890946e+00 8.956875e+02 1.776960e-176\n",
       "macd1226      1 2.691488e-01 2.691488e-01 1.274881e+02  4.310299e-29\n",
       "signal9       1 3.661806e+00 3.661806e+00 1.734493e+03 2.253671e-311\n",
       "histogram9    1 1.286411e-03 1.286411e-03 6.093361e-01  4.350877e-01\n",
       "macd0720      1 1.534576e-03 1.534576e-03 7.268848e-01  3.939499e-01\n",
       "signal5       1 2.483091e-01 2.483091e-01 1.176170e+02  5.322628e-27\n",
       "histogram5    1 6.222044e-01 6.222044e-01 2.947205e+02  1.257469e-63\n",
       "Residuals  3710 7.832432e+00 2.111168e-03           NA            NA"
      ]
     },
     "metadata": {},
     "output_type": "display_data"
    }
   ],
   "source": [
    "# Significância do modelo\n",
    "anova(iselm.fit)"
   ]
  },
  {
   "cell_type": "code",
   "execution_count": 116,
   "metadata": {},
   "outputs": [
    {
     "data": {
      "text/html": [
       "<table>\n",
       "<thead><tr><th></th><th scope=col>Overall</th></tr></thead>\n",
       "<tbody>\n",
       "\t<tr><th scope=row>avg10</th><td>33.80</td></tr>\n",
       "\t<tr><th scope=row>avg20</th><td>31.74</td></tr>\n",
       "\t<tr><th scope=row>std10</th><td> 2.31</td></tr>\n",
       "\t<tr><th scope=row>std20</th><td> 0.66</td></tr>\n",
       "\t<tr><th scope=row>rsi14</th><td> 3.81</td></tr>\n",
       "\t<tr><th scope=row>rsi5</th><td> 0.71</td></tr>\n",
       "\t<tr><th scope=row>macd1226</th><td> 1.93</td></tr>\n",
       "\t<tr><th scope=row>signal9</th><td> 1.93</td></tr>\n",
       "\t<tr><th scope=row>histogram9</th><td> 1.94</td></tr>\n",
       "\t<tr><th scope=row>macd0720</th><td> 1.37</td></tr>\n",
       "\t<tr><th scope=row>signal5</th><td> 1.58</td></tr>\n",
       "\t<tr><th scope=row>histogram5</th><td>17.17</td></tr>\n",
       "</tbody>\n",
       "</table>\n"
      ],
      "text/latex": [
       "\\begin{tabular}{r|l}\n",
       "  & Overall\\\\\n",
       "\\hline\n",
       "\tavg10 & 33.80\\\\\n",
       "\tavg20 & 31.74\\\\\n",
       "\tstd10 &  2.31\\\\\n",
       "\tstd20 &  0.66\\\\\n",
       "\trsi14 &  3.81\\\\\n",
       "\trsi5 &  0.71\\\\\n",
       "\tmacd1226 &  1.93\\\\\n",
       "\tsignal9 &  1.93\\\\\n",
       "\thistogram9 &  1.94\\\\\n",
       "\tmacd0720 &  1.37\\\\\n",
       "\tsignal5 &  1.58\\\\\n",
       "\thistogram5 & 17.17\\\\\n",
       "\\end{tabular}\n"
      ],
      "text/markdown": [
       "\n",
       "| <!--/--> | Overall |\n",
       "|---|---|\n",
       "| avg10 | 33.80 |\n",
       "| avg20 | 31.74 |\n",
       "| std10 |  2.31 |\n",
       "| std20 |  0.66 |\n",
       "| rsi14 |  3.81 |\n",
       "| rsi5 |  0.71 |\n",
       "| macd1226 |  1.93 |\n",
       "| signal9 |  1.93 |\n",
       "| histogram9 |  1.94 |\n",
       "| macd0720 |  1.37 |\n",
       "| signal5 |  1.58 |\n",
       "| histogram5 | 17.17 |\n",
       "\n"
      ],
      "text/plain": [
       "           Overall\n",
       "avg10      33.80  \n",
       "avg20      31.74  \n",
       "std10       2.31  \n",
       "std20       0.66  \n",
       "rsi14       3.81  \n",
       "rsi5        0.71  \n",
       "macd1226    1.93  \n",
       "signal9     1.93  \n",
       "histogram9  1.94  \n",
       "macd0720    1.37  \n",
       "signal5     1.58  \n",
       "histogram5 17.17  "
      ]
     },
     "metadata": {},
     "output_type": "display_data"
    }
   ],
   "source": [
    "# Cálculo da importância das variáveis no modelo\n",
    "round(varImp(iselm.fit, scale = TRUE), digits = 2)"
   ]
  },
  {
   "cell_type": "markdown",
   "metadata": {},
   "source": [
    "**Métricas de Avaliação**"
   ]
  },
  {
   "cell_type": "code",
   "execution_count": 117,
   "metadata": {},
   "outputs": [
    {
     "name": "stderr",
     "output_type": "stream",
     "text": [
      "Warning message:\n",
      "\"package 'Metrics' was built under R version 3.6.3\"\n",
      "Attaching package: 'Metrics'\n",
      "\n",
      "The following object is masked from 'package:precrec':\n",
      "\n",
      "    auc\n",
      "\n",
      "The following objects are masked from 'package:caret':\n",
      "\n",
      "    precision, recall\n",
      "\n"
     ]
    }
   ],
   "source": [
    "# Biblioteca(s) Necessária(s)\n",
    "library(Metrics)"
   ]
  },
  {
   "cell_type": "code",
   "execution_count": 118,
   "metadata": {},
   "outputs": [
    {
     "data": {
      "text/html": [
       "0.05"
      ],
      "text/latex": [
       "0.05"
      ],
      "text/markdown": [
       "0.05"
      ],
      "text/plain": [
       "[1] 0.05"
      ]
     },
     "metadata": {},
     "output_type": "display_data"
    }
   ],
   "source": [
    "# Root Mean Squared Error\n",
    "round(rmse(isetest$close, iserlm), digits = 2)"
   ]
  },
  {
   "cell_type": "code",
   "execution_count": 119,
   "metadata": {},
   "outputs": [
    {
     "data": {
      "text/html": [
       "0.01"
      ],
      "text/latex": [
       "0.01"
      ],
      "text/markdown": [
       "0.01"
      ],
      "text/plain": [
       "[1] 0.01"
      ]
     },
     "metadata": {},
     "output_type": "display_data"
    }
   ],
   "source": [
    "# Mean Absolute Error\n",
    "round(mae(isetest$close, iserlm), digits = 2)"
   ]
  },
  {
   "cell_type": "code",
   "execution_count": 120,
   "metadata": {},
   "outputs": [
    {
     "data": {
      "text/html": [
       "0"
      ],
      "text/latex": [
       "0"
      ],
      "text/markdown": [
       "0"
      ],
      "text/plain": [
       "[1] 0"
      ]
     },
     "metadata": {},
     "output_type": "display_data"
    }
   ],
   "source": [
    "# Mean Squared Error\n",
    "round(mse(isetest$close, iserlm), digits = 2)"
   ]
  },
  {
   "cell_type": "code",
   "execution_count": 121,
   "metadata": {},
   "outputs": [
    {
     "data": {
      "text/html": [
       "0.01"
      ],
      "text/latex": [
       "0.01"
      ],
      "text/markdown": [
       "0.01"
      ],
      "text/plain": [
       "[1] 0.01"
      ]
     },
     "metadata": {},
     "output_type": "display_data"
    }
   ],
   "source": [
    "# Mean Absolute Percent Error\n",
    "round(mape(isetest$close, iserlm), digits = 2)"
   ]
  },
  {
   "cell_type": "code",
   "execution_count": 122,
   "metadata": {},
   "outputs": [
    {
     "data": {
      "text/html": [
       "<dl class=dl-horizontal>\n",
       "\t<dt>RMSE</dt>\n",
       "\t\t<dd>0.05</dd>\n",
       "\t<dt>Rsquared</dt>\n",
       "\t\t<dd>1</dd>\n",
       "\t<dt>MAE</dt>\n",
       "\t\t<dd>0.01</dd>\n",
       "</dl>\n"
      ],
      "text/latex": [
       "\\begin{description*}\n",
       "\\item[RMSE] 0.05\n",
       "\\item[Rsquared] 1\n",
       "\\item[MAE] 0.01\n",
       "\\end{description*}\n"
      ],
      "text/markdown": [
       "RMSE\n",
       ":   0.05Rsquared\n",
       ":   1MAE\n",
       ":   0.01\n",
       "\n"
      ],
      "text/plain": [
       "    RMSE Rsquared      MAE \n",
       "    0.05     1.00     0.01 "
      ]
     },
     "metadata": {},
     "output_type": "display_data"
    }
   ],
   "source": [
    "# Resumo das métricas de avaliação\n",
    "round(postResample(pred = iserlm, obs = isetest$close), digits = 2)"
   ]
  },
  {
   "cell_type": "markdown",
   "metadata": {},
   "source": [
    "**Seleção de modelo mais simples, mas com representatividade semelhante**"
   ]
  },
  {
   "cell_type": "code",
   "execution_count": 123,
   "metadata": {
    "scrolled": false
   },
   "outputs": [
    {
     "name": "stdout",
     "output_type": "stream",
     "text": [
      "Start:  AIC=-22922.62\n",
      "close ~ avg10 + avg20 + std10 + std20 + rsi14 + rsi5 + macd1226 + \n",
      "    signal9 + histogram9 + macd0720 + signal5 + histogram5 + \n",
      "    bbands\n",
      "\n",
      "\n",
      "Step:  AIC=-22922.62\n",
      "close ~ avg10 + avg20 + std10 + std20 + rsi14 + rsi5 + macd1226 + \n",
      "    signal9 + histogram9 + macd0720 + signal5 + histogram5\n",
      "\n",
      "             Df Sum of Sq     RSS    AIC\n",
      "- std20       1   0.00092  7.8334 -22924\n",
      "- rsi5        1   0.00106  7.8335 -22924\n",
      "- macd0720    1   0.00397  7.8364 -22923\n",
      "<none>                     7.8324 -22923\n",
      "- signal5     1   0.00524  7.8377 -22922\n",
      "- macd1226    1   0.00787  7.8403 -22921\n",
      "- signal9     1   0.00789  7.8403 -22921\n",
      "- histogram9  1   0.00793  7.8404 -22921\n",
      "- std10       1   0.01126  7.8437 -22919\n",
      "- rsi14       1   0.03066  7.8631 -22910\n",
      "- histogram5  1   0.62220  8.4546 -22640\n",
      "- avg20       1   2.12704  9.9595 -22030\n",
      "- avg10       1   2.41118 10.2436 -21925\n",
      "\n",
      "Step:  AIC=-22924.18\n",
      "close ~ avg10 + avg20 + std10 + rsi14 + rsi5 + macd1226 + signal9 + \n",
      "    histogram9 + macd0720 + signal5 + histogram5\n",
      "\n",
      "             Df Sum of Sq     RSS    AIC\n",
      "- rsi5        1   0.00139  7.8347 -22926\n",
      "<none>                     7.8334 -22924\n",
      "- signal5     1   0.00491  7.8383 -22924\n",
      "- macd0720    1   0.00629  7.8396 -22923\n",
      "- macd1226    1   0.00731  7.8407 -22923\n",
      "- signal9     1   0.00732  7.8407 -22923\n",
      "- histogram9  1   0.00736  7.8407 -22923\n",
      "+ std20       1   0.00092  7.8324 -22923\n",
      "+ bbands      1   0.00092  7.8324 -22923\n",
      "- rsi14       1   0.03065  7.8640 -22912\n",
      "- std10       1   0.03208  7.8654 -22911\n",
      "- histogram5  1   0.62535  8.4587 -22640\n",
      "- avg20       1   2.12738  9.9607 -22032\n",
      "- avg10       1   2.41622 10.2496 -21925\n",
      "\n",
      "Step:  AIC=-22925.52\n",
      "close ~ avg10 + avg20 + std10 + rsi14 + macd1226 + signal9 + \n",
      "    histogram9 + macd0720 + signal5 + histogram5\n",
      "\n",
      "             Df Sum of Sq     RSS    AIC\n",
      "<none>                     7.8347 -22926\n",
      "- signal5     1   0.00491  7.8397 -22925\n",
      "- macd0720    1   0.00669  7.8414 -22924\n",
      "+ rsi5        1   0.00139  7.8334 -22924\n",
      "+ std20       1   0.00125  7.8335 -22924\n",
      "+ bbands      1   0.00125  7.8335 -22924\n",
      "- macd1226    1   0.00769  7.8424 -22924\n",
      "- signal9     1   0.00771  7.8425 -22924\n",
      "- histogram9  1   0.00775  7.8425 -22924\n",
      "- std10       1   0.03109  7.8658 -22913\n",
      "- rsi14       1   0.04026  7.8750 -22908\n",
      "- histogram5  1   0.86684  8.7016 -22537\n",
      "- avg20       1   2.13170  9.9664 -22032\n",
      "- avg10       1   2.41490 10.2496 -21927\n"
     ]
    },
    {
     "data": {
      "text/plain": [
       "\n",
       "Call:\n",
       "lm(formula = close ~ avg10 + avg20 + std10 + rsi14 + macd1226 + \n",
       "    signal9 + histogram9 + macd0720 + signal5 + histogram5, data = isez)\n",
       "\n",
       "Coefficients:\n",
       "(Intercept)        avg10        avg20        std10        rsi14     macd1226  \n",
       "   235.3366       0.5155       0.4845      -0.1261       0.3227    -436.1389  \n",
       "    signal9   histogram9     macd0720      signal5   histogram5  \n",
       "   436.7553     437.9991       0.1499       0.1291       2.7181  \n"
      ]
     },
     "metadata": {},
     "output_type": "display_data"
    }
   ],
   "source": [
    "# Método Stepwise\n",
    "step(iselm.fit, direction = \"both\")"
   ]
  },
  {
   "cell_type": "code",
   "execution_count": 124,
   "metadata": {
    "scrolled": false
   },
   "outputs": [
    {
     "name": "stdout",
     "output_type": "stream",
     "text": [
      "Start:  AIC=-22922.62\n",
      "close ~ avg10 + avg20 + std10 + std20 + rsi14 + rsi5 + macd1226 + \n",
      "    signal9 + histogram9 + macd0720 + signal5 + histogram5 + \n",
      "    bbands\n",
      "\n",
      "\n",
      "Step:  AIC=-22922.62\n",
      "close ~ avg10 + avg20 + std10 + std20 + rsi14 + rsi5 + macd1226 + \n",
      "    signal9 + histogram9 + macd0720 + signal5 + histogram5\n",
      "\n",
      "             Df Sum of Sq     RSS    AIC\n",
      "- std20       1   0.00092  7.8334 -22924\n",
      "- rsi5        1   0.00106  7.8335 -22924\n",
      "- macd0720    1   0.00397  7.8364 -22923\n",
      "<none>                     7.8324 -22923\n",
      "- signal5     1   0.00524  7.8377 -22922\n",
      "- macd1226    1   0.00787  7.8403 -22921\n",
      "- signal9     1   0.00789  7.8403 -22921\n",
      "- histogram9  1   0.00793  7.8404 -22921\n",
      "- std10       1   0.01126  7.8437 -22919\n",
      "- rsi14       1   0.03066  7.8631 -22910\n",
      "- histogram5  1   0.62220  8.4546 -22640\n",
      "- avg20       1   2.12704  9.9595 -22030\n",
      "- avg10       1   2.41118 10.2436 -21925\n",
      "\n",
      "Step:  AIC=-22924.18\n",
      "close ~ avg10 + avg20 + std10 + rsi14 + rsi5 + macd1226 + signal9 + \n",
      "    histogram9 + macd0720 + signal5 + histogram5\n",
      "\n",
      "             Df Sum of Sq     RSS    AIC\n",
      "- rsi5        1   0.00139  7.8347 -22926\n",
      "<none>                     7.8334 -22924\n",
      "- signal5     1   0.00491  7.8383 -22924\n",
      "- macd0720    1   0.00629  7.8396 -22923\n",
      "- macd1226    1   0.00731  7.8407 -22923\n",
      "- signal9     1   0.00732  7.8407 -22923\n",
      "- histogram9  1   0.00736  7.8407 -22923\n",
      "- rsi14       1   0.03065  7.8640 -22912\n",
      "- std10       1   0.03208  7.8654 -22911\n",
      "- histogram5  1   0.62535  8.4587 -22640\n",
      "- avg20       1   2.12738  9.9607 -22032\n",
      "- avg10       1   2.41622 10.2496 -21925\n",
      "\n",
      "Step:  AIC=-22925.52\n",
      "close ~ avg10 + avg20 + std10 + rsi14 + macd1226 + signal9 + \n",
      "    histogram9 + macd0720 + signal5 + histogram5\n",
      "\n",
      "             Df Sum of Sq     RSS    AIC\n",
      "<none>                     7.8347 -22926\n",
      "- signal5     1   0.00491  7.8397 -22925\n",
      "- macd0720    1   0.00669  7.8414 -22924\n",
      "- macd1226    1   0.00769  7.8424 -22924\n",
      "- signal9     1   0.00771  7.8425 -22924\n",
      "- histogram9  1   0.00775  7.8425 -22924\n",
      "- std10       1   0.03109  7.8658 -22913\n",
      "- rsi14       1   0.04026  7.8750 -22908\n",
      "- histogram5  1   0.86684  8.7016 -22537\n",
      "- avg20       1   2.13170  9.9664 -22032\n",
      "- avg10       1   2.41490 10.2496 -21927\n"
     ]
    },
    {
     "data": {
      "text/plain": [
       "\n",
       "Call:\n",
       "lm(formula = close ~ avg10 + avg20 + std10 + rsi14 + macd1226 + \n",
       "    signal9 + histogram9 + macd0720 + signal5 + histogram5, data = isez)\n",
       "\n",
       "Coefficients:\n",
       "(Intercept)        avg10        avg20        std10        rsi14     macd1226  \n",
       "   235.3366       0.5155       0.4845      -0.1261       0.3227    -436.1389  \n",
       "    signal9   histogram9     macd0720      signal5   histogram5  \n",
       "   436.7553     437.9991       0.1499       0.1291       2.7181  \n"
      ]
     },
     "metadata": {},
     "output_type": "display_data"
    }
   ],
   "source": [
    "# Método backward\n",
    "step(iselm.fit, direction = \"backward\")"
   ]
  },
  {
   "cell_type": "code",
   "execution_count": 125,
   "metadata": {},
   "outputs": [
    {
     "name": "stdout",
     "output_type": "stream",
     "text": [
      "Start:  AIC=-22922.62\n",
      "close ~ avg10 + avg20 + std10 + std20 + rsi14 + rsi5 + macd1226 + \n",
      "    signal9 + histogram9 + macd0720 + signal5 + histogram5 + \n",
      "    bbands\n",
      "\n"
     ]
    },
    {
     "data": {
      "text/plain": [
       "\n",
       "Call:\n",
       "lm(formula = close ~ avg10 + avg20 + std10 + std20 + rsi14 + \n",
       "    rsi5 + macd1226 + signal9 + histogram9 + macd0720 + signal5 + \n",
       "    histogram5 + bbands, data = isez)\n",
       "\n",
       "Coefficients:\n",
       "(Intercept)        avg10        avg20        std10        std20        rsi14  \n",
       "  240.44392      0.51554      0.48459     -0.10716     -0.02241      0.31891  \n",
       "       rsi5     macd1226      signal9   histogram9     macd0720      signal5  \n",
       "    0.03323   -445.72187    446.34903    447.62379      0.12406      0.13381  \n",
       " histogram5       bbands  \n",
       "    2.66834           NA  \n"
      ]
     },
     "metadata": {},
     "output_type": "display_data"
    }
   ],
   "source": [
    "# Método Forward\n",
    "step(iselm.fit, direction = \"forward\")"
   ]
  }
 ],
 "metadata": {
  "kernelspec": {
   "display_name": "R",
   "language": "R",
   "name": "ir"
  },
  "language_info": {
   "codemirror_mode": "r",
   "file_extension": ".r",
   "mimetype": "text/x-r-source",
   "name": "R",
   "pygments_lexer": "r",
   "version": "3.6.1"
  }
 },
 "nbformat": 4,
 "nbformat_minor": 4
}