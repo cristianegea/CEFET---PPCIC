{
 "cells": [
  {
   "cell_type": "markdown",
   "metadata": {},
   "source": [
    "**Centro Federal de Educação Tecnológica Celso Suckow da Fonseca (CEFET-RJ)**\n",
    "\n",
    "**Programa de Pós Graduação em Ciência da Computação (PPCIC)**\n",
    "\n",
    "**Disciplina: Mineração de Dados**\n",
    "\n",
    "**Professor: Eduardo Ogasawara**\n",
    "\n",
    "**Alunos: Cristiane Gea, Davi Bortolotti e Tacito Braga**"
   ]
  },
  {
   "cell_type": "markdown",
   "metadata": {},
   "source": [
    "# Apresentação dos dados utilizados na análise\n",
    "\n",
    "Os dados utilizados nesta análise foram obtidos a partir da série do preço de fechamento do Índice Bovespa, extraída do *site*. https://br.investing.com/\n",
    "\n",
    "**Período de análise**: Janeiro/2000 - Outubro/2020\n",
    "\n",
    "**Variáveis Utilizadas**:\n",
    "\n",
    "* **close**: preço de fechamento da ação\n",
    "\n",
    "* **avg10**: média móvel de 10 dias (indicador de tendência do comportamento do preço da ação no período de 10 dias).\n",
    "\n",
    "* **avg20**: média móvel de 20 dias (indicador de tendência do comportamento do preço da ação no período de 20 dias).\n",
    "\n",
    "* **std10**: desvio padrão de 10 dias (indicador de volatilidade do comportamento do preço da ação no período de 10 dias).\n",
    "\n",
    "* **std20**: desvio padrão de 20 dias (indicador de volatilidade do comportamento do preço da ação no período de 20 dias).\n",
    "\n",
    "* **rsi14**: índice de força relativa de 14 dias (indicador de momento => sinaliza a velocidade com que os preços se alteram no período de 14 dias). Mostra o enfraquecimento e até reversão de uma tendência durante 14 dias. Funciona com uma linha entre 0 e 100. Quanto mais próximo de 100, mais força está perdendo a força compradora.\n",
    "\n",
    "* **rsi5**: índice de força relativa de 5 dias (indicador de momento => sinaliza a velocidade com que os preços se alteram no período de 5 dias).\n",
    "\n",
    "* **macd1226**: média móvel convergente divergente (indicador de tendências significativas a curto prazo). Corresponde à diferença entre média móvel de 12 dias (média de movimentações mais rápidas) e média móvel de 26 dias (média de movimentações mais lentas). Mostra o ganho entre a divergência entre as médias móveis.\n",
    "\n",
    "* **signal9**: média movel exponencial do macd1226 no período de 9 dias (ajuda a identificar reversões de tendência e marcar os pontos ideais de entrada e saída).\n",
    "\n",
    "* **histogram9**: diferença entre a linha de macd1226 e a linha de signal9 (representação gráfica da convergência e da divergência das linhas macd1226 e signal9).\n",
    "\n",
    "* **macd0720**: média móvel convergente divergente (indicador de tendências significativas a curto prazo). Corresponde à diferença entre média móvel de 7 dias (média de movimentações mais rápidas) e média móvel de 20 dias (média de movimentações mais lentas). Mostra o ganho entre a divergência entre as médias móveis.\n",
    "\n",
    "* **signal5**: média movel exponencial do macd0720 no período de 5 dias (ajuda a identificar reversões de tendência e marcar os pontos ideais de entrada e saída).\n",
    "\n",
    "* **histogram5**: diferença entre a linha de macd0720 e a linha de signal5 (representação gráfica da convergência e da divergência das linhas macd0720 e signal5).\n",
    "\n",
    "* **bbands**: Bandas de Bollinger (indicador de volatilidade). As bandas são derivadas das médias móveis e mostram que, independente de qualquer movimento que o preço faça, ele tende a voltar a um equilíbrio. \n",
    "\n",
    "Uma linha MACD de valor positivo indica que a MME menor está acima da MME maior. Quanto mais distante a MME menor estiver da maior, maior será o aumento no valor positivo da linha MACD. Isso é um sinal de um momentum de alta crescente. Por outro lado, um MACD negativo indica que a MME menor está abaixo da maior. Mais uma vez, os valores negativos aumentam à medida em que as duas linhas divergem ainda mais. Nesse caso, temos um momentum de baixa crescente."
   ]
  },
  {
   "cell_type": "markdown",
   "metadata": {},
   "source": [
    "# Etapa 1: Overview"
   ]
  },
  {
   "cell_type": "markdown",
   "metadata": {},
   "source": [
    "## 1. Importação dos dados"
   ]
  },
  {
   "cell_type": "code",
   "execution_count": 1,
   "metadata": {},
   "outputs": [],
   "source": [
    "# Biblioteca(s) Necessária\n",
    "library(readxl)"
   ]
  },
  {
   "cell_type": "code",
   "execution_count": 2,
   "metadata": {},
   "outputs": [
    {
     "name": "stdout",
     "output_type": "stream",
     "text": [
      "\u001b[90m# A tibble: 4,983 x 15\u001b[39m\n",
      "   data                 close  avg10 avg20 std10 std20 rsi14  rsi5 macd1226\n",
      "   \u001b[3m\u001b[90m<dttm>\u001b[39m\u001b[23m               \u001b[3m\u001b[90m<dbl>\u001b[39m\u001b[23m  \u001b[3m\u001b[90m<dbl>\u001b[39m\u001b[23m \u001b[3m\u001b[90m<dbl>\u001b[39m\u001b[23m \u001b[3m\u001b[90m<dbl>\u001b[39m\u001b[23m \u001b[3m\u001b[90m<dbl>\u001b[39m\u001b[23m \u001b[3m\u001b[90m<dbl>\u001b[39m\u001b[23m \u001b[3m\u001b[90m<dbl>\u001b[39m\u001b[23m    \u001b[3m\u001b[90m<dbl>\u001b[39m\u001b[23m\n",
      "\u001b[90m 1\u001b[39m 2000-12-27 \u001b[90m00:00:00\u001b[39m \u001b[4m1\u001b[24m\u001b[4m5\u001b[24m186.    \u001b[31mNA\u001b[39m     \u001b[31mNA\u001b[39m   \u001b[31mNA\u001b[39m     \u001b[31mNA\u001b[39m    \u001b[31mNA\u001b[39m  \u001b[31mNA\u001b[39m         \u001b[31mNA\u001b[39m\n",
      "\u001b[90m 2\u001b[39m 2000-12-28 \u001b[90m00:00:00\u001b[39m \u001b[4m1\u001b[24m\u001b[4m5\u001b[24m259.    \u001b[31mNA\u001b[39m     \u001b[31mNA\u001b[39m   \u001b[31mNA\u001b[39m     \u001b[31mNA\u001b[39m    \u001b[31mNA\u001b[39m  \u001b[31mNA\u001b[39m         \u001b[31mNA\u001b[39m\n",
      "\u001b[90m 3\u001b[39m 2001-01-02 \u001b[90m00:00:00\u001b[39m \u001b[4m1\u001b[24m\u001b[4m5\u001b[24m425.    \u001b[31mNA\u001b[39m     \u001b[31mNA\u001b[39m   \u001b[31mNA\u001b[39m     \u001b[31mNA\u001b[39m    \u001b[31mNA\u001b[39m  \u001b[31mNA\u001b[39m         \u001b[31mNA\u001b[39m\n",
      "\u001b[90m 4\u001b[39m 2001-01-03 \u001b[90m00:00:00\u001b[39m \u001b[4m1\u001b[24m\u001b[4m6\u001b[24m599.    \u001b[31mNA\u001b[39m     \u001b[31mNA\u001b[39m   \u001b[31mNA\u001b[39m     \u001b[31mNA\u001b[39m    \u001b[31mNA\u001b[39m  \u001b[31mNA\u001b[39m         \u001b[31mNA\u001b[39m\n",
      "\u001b[90m 5\u001b[39m 2001-01-04 \u001b[90m00:00:00\u001b[39m \u001b[4m1\u001b[24m\u001b[4m6\u001b[24m675.    \u001b[31mNA\u001b[39m     \u001b[31mNA\u001b[39m   \u001b[31mNA\u001b[39m     \u001b[31mNA\u001b[39m    \u001b[31mNA\u001b[39m  \u001b[31mNA\u001b[39m         \u001b[31mNA\u001b[39m\n",
      "\u001b[90m 6\u001b[39m 2001-01-05 \u001b[90m00:00:00\u001b[39m \u001b[4m1\u001b[24m\u001b[4m6\u001b[24m410.    \u001b[31mNA\u001b[39m     \u001b[31mNA\u001b[39m   \u001b[31mNA\u001b[39m     \u001b[31mNA\u001b[39m    \u001b[31mNA\u001b[39m  84.9       \u001b[31mNA\u001b[39m\n",
      "\u001b[90m 7\u001b[39m 2001-01-08 \u001b[90m00:00:00\u001b[39m \u001b[4m1\u001b[24m\u001b[4m6\u001b[24m562.    \u001b[31mNA\u001b[39m     \u001b[31mNA\u001b[39m   \u001b[31mNA\u001b[39m     \u001b[31mNA\u001b[39m    \u001b[31mNA\u001b[39m  85.5       \u001b[31mNA\u001b[39m\n",
      "\u001b[90m 8\u001b[39m 2001-01-09 \u001b[90m00:00:00\u001b[39m \u001b[4m1\u001b[24m\u001b[4m6\u001b[24m976.    \u001b[31mNA\u001b[39m     \u001b[31mNA\u001b[39m   \u001b[31mNA\u001b[39m     \u001b[31mNA\u001b[39m    \u001b[31mNA\u001b[39m  87.3       \u001b[31mNA\u001b[39m\n",
      "\u001b[90m 9\u001b[39m 2001-01-10 \u001b[90m00:00:00\u001b[39m \u001b[4m1\u001b[24m\u001b[4m6\u001b[24m919.    \u001b[31mNA\u001b[39m     \u001b[31mNA\u001b[39m   \u001b[31mNA\u001b[39m     \u001b[31mNA\u001b[39m    \u001b[31mNA\u001b[39m  66.6       \u001b[31mNA\u001b[39m\n",
      "\u001b[90m10\u001b[39m 2001-01-11 \u001b[90m00:00:00\u001b[39m \u001b[4m1\u001b[24m\u001b[4m7\u001b[24m024. \u001b[4m1\u001b[24m\u001b[4m6\u001b[24m304.    \u001b[31mNA\u001b[39m  727.    \u001b[31mNA\u001b[39m    \u001b[31mNA\u001b[39m  67.5       \u001b[31mNA\u001b[39m\n",
      "\u001b[90m# ... with 4,973 more rows, and 6 more variables: signal9 \u001b[3m\u001b[90m<dbl>\u001b[90m\u001b[23m,\u001b[39m\n",
      "\u001b[90m#   histogram9 \u001b[3m\u001b[90m<dbl>\u001b[90m\u001b[23m, macd0720 \u001b[3m\u001b[90m<dbl>\u001b[90m\u001b[23m, signal5 \u001b[3m\u001b[90m<dbl>\u001b[90m\u001b[23m, histogram5 \u001b[3m\u001b[90m<dbl>\u001b[90m\u001b[23m,\u001b[39m\n",
      "\u001b[90m#   bbands \u001b[3m\u001b[90m<dbl>\u001b[90m\u001b[23m\u001b[39m\n"
     ]
    }
   ],
   "source": [
    "# Dados do Índice Bovespa\n",
    "bvsp <- read_excel(\"bvsp.xlsx\",\n",
    "                   col_types = c(\"date\", \"numeric\", \"numeric\", \"numeric\", \"numeric\", \"numeric\",\n",
    "                                 \"numeric\", \"numeric\", \"numeric\", \"numeric\", \"numeric\", \"numeric\",\n",
    "                                 \"numeric\", \"numeric\", \"numeric\"))\n",
    "print(bvsp)"
   ]
  },
  {
   "cell_type": "code",
   "execution_count": 3,
   "metadata": {},
   "outputs": [],
   "source": [
    "# Fixação do conjunto de dados\n",
    "attach(bvsp)"
   ]
  },
  {
   "cell_type": "markdown",
   "metadata": {},
   "source": [
    "## 2. Análise inicial do dataframe"
   ]
  },
  {
   "cell_type": "markdown",
   "metadata": {},
   "source": [
    "**Análise do tipo dos dados do dataframe \"bvsp\"**"
   ]
  },
  {
   "cell_type": "code",
   "execution_count": 4,
   "metadata": {},
   "outputs": [
    {
     "name": "stdout",
     "output_type": "stream",
     "text": [
      "tibble [4,983 x 15] (S3: tbl_df/tbl/data.frame)\n",
      " $ data      : POSIXct[1:4983], format: \"2000-12-27\" \"2000-12-28\" ...\n",
      " $ close     : num [1:4983] 15186 15259 15425 16599 16675 ...\n",
      " $ avg10     : num [1:4983] NA NA NA NA NA ...\n",
      " $ avg20     : num [1:4983] NA NA NA NA NA NA NA NA NA NA ...\n",
      " $ std10     : num [1:4983] NA NA NA NA NA ...\n",
      " $ std20     : num [1:4983] NA NA NA NA NA NA NA NA NA NA ...\n",
      " $ rsi14     : num [1:4983] NA NA NA NA NA NA NA NA NA NA ...\n",
      " $ rsi5      : num [1:4983] NA NA NA NA NA ...\n",
      " $ macd1226  : num [1:4983] NA NA NA NA NA NA NA NA NA NA ...\n",
      " $ signal9   : num [1:4983] NA NA NA NA NA NA NA NA NA NA ...\n",
      " $ histogram9: num [1:4983] NA NA NA NA NA NA NA NA NA NA ...\n",
      " $ macd0720  : num [1:4983] NA NA NA NA NA NA NA NA NA NA ...\n",
      " $ signal5   : num [1:4983] NA NA NA NA NA NA NA NA NA NA ...\n",
      " $ histogram5: num [1:4983] NA NA NA NA NA NA NA NA NA NA ...\n",
      " $ bbands    : num [1:4983] NA NA NA NA NA NA NA NA NA NA ...\n"
     ]
    }
   ],
   "source": [
    "str(bvsp)"
   ]
  },
  {
   "cell_type": "markdown",
   "metadata": {},
   "source": [
    "Em todos os casos, o atributo \"data\" é do tipo data e os demais atributos são do tipo numérico."
   ]
  },
  {
   "cell_type": "markdown",
   "metadata": {},
   "source": [
    "**Análise da dimensão dos dataframes**"
   ]
  },
  {
   "cell_type": "code",
   "execution_count": 5,
   "metadata": {},
   "outputs": [
    {
     "data": {
      "text/html": [
       "<style>\n",
       ".list-inline {list-style: none; margin:0; padding: 0}\n",
       ".list-inline>li {display: inline-block}\n",
       ".list-inline>li:not(:last-child)::after {content: \"\\00b7\"; padding: 0 .5ex}\n",
       "</style>\n",
       "<ol class=list-inline><li>4983</li><li>15</li></ol>\n"
      ],
      "text/latex": [
       "\\begin{enumerate*}\n",
       "\\item 4983\n",
       "\\item 15\n",
       "\\end{enumerate*}\n"
      ],
      "text/markdown": [
       "1. 4983\n",
       "2. 15\n",
       "\n",
       "\n"
      ],
      "text/plain": [
       "[1] 4983   15"
      ]
     },
     "metadata": {},
     "output_type": "display_data"
    }
   ],
   "source": [
    "dim(bvsp)\n",
    "\n",
    "# 4983 linhas e 15 colunas"
   ]
  },
  {
   "cell_type": "markdown",
   "metadata": {},
   "source": [
    "**Primeiras linhas dos dataframes**"
   ]
  },
  {
   "cell_type": "code",
   "execution_count": 6,
   "metadata": {},
   "outputs": [
    {
     "data": {
      "text/html": [
       "<table>\n",
       "<caption>A tibble: 6 × 15</caption>\n",
       "<thead>\n",
       "\t<tr><th scope=col>data</th><th scope=col>close</th><th scope=col>avg10</th><th scope=col>avg20</th><th scope=col>std10</th><th scope=col>std20</th><th scope=col>rsi14</th><th scope=col>rsi5</th><th scope=col>macd1226</th><th scope=col>signal9</th><th scope=col>histogram9</th><th scope=col>macd0720</th><th scope=col>signal5</th><th scope=col>histogram5</th><th scope=col>bbands</th></tr>\n",
       "\t<tr><th scope=col>&lt;dttm&gt;</th><th scope=col>&lt;dbl&gt;</th><th scope=col>&lt;dbl&gt;</th><th scope=col>&lt;dbl&gt;</th><th scope=col>&lt;dbl&gt;</th><th scope=col>&lt;dbl&gt;</th><th scope=col>&lt;dbl&gt;</th><th scope=col>&lt;dbl&gt;</th><th scope=col>&lt;dbl&gt;</th><th scope=col>&lt;dbl&gt;</th><th scope=col>&lt;dbl&gt;</th><th scope=col>&lt;dbl&gt;</th><th scope=col>&lt;dbl&gt;</th><th scope=col>&lt;dbl&gt;</th><th scope=col>&lt;dbl&gt;</th></tr>\n",
       "</thead>\n",
       "<tbody>\n",
       "\t<tr><td>2000-12-27</td><td>15186.15</td><td>NA</td><td>NA</td><td>NA</td><td>NA</td><td>NA</td><td>     NA</td><td>NA</td><td>NA</td><td>NA</td><td>NA</td><td>NA</td><td>NA</td><td>NA</td></tr>\n",
       "\t<tr><td>2000-12-28</td><td>15259.29</td><td>NA</td><td>NA</td><td>NA</td><td>NA</td><td>NA</td><td>     NA</td><td>NA</td><td>NA</td><td>NA</td><td>NA</td><td>NA</td><td>NA</td><td>NA</td></tr>\n",
       "\t<tr><td>2001-01-02</td><td>15425.34</td><td>NA</td><td>NA</td><td>NA</td><td>NA</td><td>NA</td><td>     NA</td><td>NA</td><td>NA</td><td>NA</td><td>NA</td><td>NA</td><td>NA</td><td>NA</td></tr>\n",
       "\t<tr><td>2001-01-03</td><td>16599.42</td><td>NA</td><td>NA</td><td>NA</td><td>NA</td><td>NA</td><td>     NA</td><td>NA</td><td>NA</td><td>NA</td><td>NA</td><td>NA</td><td>NA</td><td>NA</td></tr>\n",
       "\t<tr><td>2001-01-04</td><td>16675.06</td><td>NA</td><td>NA</td><td>NA</td><td>NA</td><td>NA</td><td>     NA</td><td>NA</td><td>NA</td><td>NA</td><td>NA</td><td>NA</td><td>NA</td><td>NA</td></tr>\n",
       "\t<tr><td>2001-01-05</td><td>16409.81</td><td>NA</td><td>NA</td><td>NA</td><td>NA</td><td>NA</td><td>84.8788</td><td>NA</td><td>NA</td><td>NA</td><td>NA</td><td>NA</td><td>NA</td><td>NA</td></tr>\n",
       "</tbody>\n",
       "</table>\n"
      ],
      "text/latex": [
       "A tibble: 6 × 15\n",
       "\\begin{tabular}{lllllllllllllll}\n",
       " data & close & avg10 & avg20 & std10 & std20 & rsi14 & rsi5 & macd1226 & signal9 & histogram9 & macd0720 & signal5 & histogram5 & bbands\\\\\n",
       " <dttm> & <dbl> & <dbl> & <dbl> & <dbl> & <dbl> & <dbl> & <dbl> & <dbl> & <dbl> & <dbl> & <dbl> & <dbl> & <dbl> & <dbl>\\\\\n",
       "\\hline\n",
       "\t 2000-12-27 & 15186.15 & NA & NA & NA & NA & NA &      NA & NA & NA & NA & NA & NA & NA & NA\\\\\n",
       "\t 2000-12-28 & 15259.29 & NA & NA & NA & NA & NA &      NA & NA & NA & NA & NA & NA & NA & NA\\\\\n",
       "\t 2001-01-02 & 15425.34 & NA & NA & NA & NA & NA &      NA & NA & NA & NA & NA & NA & NA & NA\\\\\n",
       "\t 2001-01-03 & 16599.42 & NA & NA & NA & NA & NA &      NA & NA & NA & NA & NA & NA & NA & NA\\\\\n",
       "\t 2001-01-04 & 16675.06 & NA & NA & NA & NA & NA &      NA & NA & NA & NA & NA & NA & NA & NA\\\\\n",
       "\t 2001-01-05 & 16409.81 & NA & NA & NA & NA & NA & 84.8788 & NA & NA & NA & NA & NA & NA & NA\\\\\n",
       "\\end{tabular}\n"
      ],
      "text/markdown": [
       "\n",
       "A tibble: 6 × 15\n",
       "\n",
       "| data &lt;dttm&gt; | close &lt;dbl&gt; | avg10 &lt;dbl&gt; | avg20 &lt;dbl&gt; | std10 &lt;dbl&gt; | std20 &lt;dbl&gt; | rsi14 &lt;dbl&gt; | rsi5 &lt;dbl&gt; | macd1226 &lt;dbl&gt; | signal9 &lt;dbl&gt; | histogram9 &lt;dbl&gt; | macd0720 &lt;dbl&gt; | signal5 &lt;dbl&gt; | histogram5 &lt;dbl&gt; | bbands &lt;dbl&gt; |\n",
       "|---|---|---|---|---|---|---|---|---|---|---|---|---|---|---|\n",
       "| 2000-12-27 | 15186.15 | NA | NA | NA | NA | NA |      NA | NA | NA | NA | NA | NA | NA | NA |\n",
       "| 2000-12-28 | 15259.29 | NA | NA | NA | NA | NA |      NA | NA | NA | NA | NA | NA | NA | NA |\n",
       "| 2001-01-02 | 15425.34 | NA | NA | NA | NA | NA |      NA | NA | NA | NA | NA | NA | NA | NA |\n",
       "| 2001-01-03 | 16599.42 | NA | NA | NA | NA | NA |      NA | NA | NA | NA | NA | NA | NA | NA |\n",
       "| 2001-01-04 | 16675.06 | NA | NA | NA | NA | NA |      NA | NA | NA | NA | NA | NA | NA | NA |\n",
       "| 2001-01-05 | 16409.81 | NA | NA | NA | NA | NA | 84.8788 | NA | NA | NA | NA | NA | NA | NA |\n",
       "\n"
      ],
      "text/plain": [
       "  data       close    avg10 avg20 std10 std20 rsi14 rsi5    macd1226 signal9\n",
       "1 2000-12-27 15186.15 NA    NA    NA    NA    NA         NA NA       NA     \n",
       "2 2000-12-28 15259.29 NA    NA    NA    NA    NA         NA NA       NA     \n",
       "3 2001-01-02 15425.34 NA    NA    NA    NA    NA         NA NA       NA     \n",
       "4 2001-01-03 16599.42 NA    NA    NA    NA    NA         NA NA       NA     \n",
       "5 2001-01-04 16675.06 NA    NA    NA    NA    NA         NA NA       NA     \n",
       "6 2001-01-05 16409.81 NA    NA    NA    NA    NA    84.8788 NA       NA     \n",
       "  histogram9 macd0720 signal5 histogram5 bbands\n",
       "1 NA         NA       NA      NA         NA    \n",
       "2 NA         NA       NA      NA         NA    \n",
       "3 NA         NA       NA      NA         NA    \n",
       "4 NA         NA       NA      NA         NA    \n",
       "5 NA         NA       NA      NA         NA    \n",
       "6 NA         NA       NA      NA         NA    "
      ]
     },
     "metadata": {},
     "output_type": "display_data"
    }
   ],
   "source": [
    "head(bvsp)\n",
    "\n",
    "# início dos dados: 27/12/2000"
   ]
  },
  {
   "cell_type": "markdown",
   "metadata": {},
   "source": [
    "**Últimas linhas dos dataframes**"
   ]
  },
  {
   "cell_type": "code",
   "execution_count": 7,
   "metadata": {},
   "outputs": [
    {
     "data": {
      "text/html": [
       "<table>\n",
       "<caption>A tibble: 6 × 15</caption>\n",
       "<thead>\n",
       "\t<tr><th scope=col>data</th><th scope=col>close</th><th scope=col>avg10</th><th scope=col>avg20</th><th scope=col>std10</th><th scope=col>std20</th><th scope=col>rsi14</th><th scope=col>rsi5</th><th scope=col>macd1226</th><th scope=col>signal9</th><th scope=col>histogram9</th><th scope=col>macd0720</th><th scope=col>signal5</th><th scope=col>histogram5</th><th scope=col>bbands</th></tr>\n",
       "\t<tr><th scope=col>&lt;dttm&gt;</th><th scope=col>&lt;dbl&gt;</th><th scope=col>&lt;dbl&gt;</th><th scope=col>&lt;dbl&gt;</th><th scope=col>&lt;dbl&gt;</th><th scope=col>&lt;dbl&gt;</th><th scope=col>&lt;dbl&gt;</th><th scope=col>&lt;dbl&gt;</th><th scope=col>&lt;dbl&gt;</th><th scope=col>&lt;dbl&gt;</th><th scope=col>&lt;dbl&gt;</th><th scope=col>&lt;dbl&gt;</th><th scope=col>&lt;dbl&gt;</th><th scope=col>&lt;dbl&gt;</th><th scope=col>&lt;dbl&gt;</th></tr>\n",
       "</thead>\n",
       "<tbody>\n",
       "\t<tr><td>2020-12-21</td><td>115822.6</td><td>115791.5</td><td>113522.0</td><td>1832.993</td><td>2873.893</td><td>67.66467</td><td>59.51283</td><td>3218.693</td><td>3236.405</td><td> -17.71281</td><td>3000.938</td><td>3266.029</td><td>-265.09192</td><td>11495.57</td></tr>\n",
       "\t<tr><td>2020-12-22</td><td>116636.2</td><td>116075.8</td><td>113864.5</td><td>1704.578</td><td>2812.780</td><td>68.50740</td><td>54.31953</td><td>3088.065</td><td>3234.257</td><td>-146.19147</td><td>2753.718</td><td>3199.076</td><td>-445.35854</td><td>11251.12</td></tr>\n",
       "\t<tr><td>2020-12-23</td><td>117806.9</td><td>116556.4</td><td>114248.2</td><td>1389.806</td><td>2800.311</td><td>70.26033</td><td>49.50544</td><td>3043.917</td><td>3219.454</td><td>-175.53719</td><td>2701.572</td><td>3075.912</td><td>-374.34033</td><td>11201.25</td></tr>\n",
       "\t<tr><td>2020-12-28</td><td>119123.7</td><td>116955.9</td><td>114693.0</td><td>1503.361</td><td>2834.349</td><td>69.94729</td><td>56.14997</td><td>3079.687</td><td>3206.584</td><td>-126.89670</td><td>2805.662</td><td>2941.483</td><td>-135.82091</td><td>11337.39</td></tr>\n",
       "\t<tr><td>2020-12-29</td><td>119409.1</td><td>117384.0</td><td>115134.7</td><td>1534.259</td><td>2847.189</td><td>71.40391</td><td>61.96922</td><td>3095.387</td><td>3202.486</td><td>-107.09865</td><td>2853.670</td><td>2823.112</td><td>  30.55826</td><td>11388.75</td></tr>\n",
       "\t<tr><td>2020-12-30</td><td>119017.2</td><td>117824.6</td><td>115640.9</td><td>1257.111</td><td>2565.128</td><td>68.95178</td><td>90.14928</td><td>3041.149</td><td>3188.206</td><td>-147.05645</td><td>2757.650</td><td>2774.454</td><td> -16.80455</td><td>10260.51</td></tr>\n",
       "</tbody>\n",
       "</table>\n"
      ],
      "text/latex": [
       "A tibble: 6 × 15\n",
       "\\begin{tabular}{lllllllllllllll}\n",
       " data & close & avg10 & avg20 & std10 & std20 & rsi14 & rsi5 & macd1226 & signal9 & histogram9 & macd0720 & signal5 & histogram5 & bbands\\\\\n",
       " <dttm> & <dbl> & <dbl> & <dbl> & <dbl> & <dbl> & <dbl> & <dbl> & <dbl> & <dbl> & <dbl> & <dbl> & <dbl> & <dbl> & <dbl>\\\\\n",
       "\\hline\n",
       "\t 2020-12-21 & 115822.6 & 115791.5 & 113522.0 & 1832.993 & 2873.893 & 67.66467 & 59.51283 & 3218.693 & 3236.405 &  -17.71281 & 3000.938 & 3266.029 & -265.09192 & 11495.57\\\\\n",
       "\t 2020-12-22 & 116636.2 & 116075.8 & 113864.5 & 1704.578 & 2812.780 & 68.50740 & 54.31953 & 3088.065 & 3234.257 & -146.19147 & 2753.718 & 3199.076 & -445.35854 & 11251.12\\\\\n",
       "\t 2020-12-23 & 117806.9 & 116556.4 & 114248.2 & 1389.806 & 2800.311 & 70.26033 & 49.50544 & 3043.917 & 3219.454 & -175.53719 & 2701.572 & 3075.912 & -374.34033 & 11201.25\\\\\n",
       "\t 2020-12-28 & 119123.7 & 116955.9 & 114693.0 & 1503.361 & 2834.349 & 69.94729 & 56.14997 & 3079.687 & 3206.584 & -126.89670 & 2805.662 & 2941.483 & -135.82091 & 11337.39\\\\\n",
       "\t 2020-12-29 & 119409.1 & 117384.0 & 115134.7 & 1534.259 & 2847.189 & 71.40391 & 61.96922 & 3095.387 & 3202.486 & -107.09865 & 2853.670 & 2823.112 &   30.55826 & 11388.75\\\\\n",
       "\t 2020-12-30 & 119017.2 & 117824.6 & 115640.9 & 1257.111 & 2565.128 & 68.95178 & 90.14928 & 3041.149 & 3188.206 & -147.05645 & 2757.650 & 2774.454 &  -16.80455 & 10260.51\\\\\n",
       "\\end{tabular}\n"
      ],
      "text/markdown": [
       "\n",
       "A tibble: 6 × 15\n",
       "\n",
       "| data &lt;dttm&gt; | close &lt;dbl&gt; | avg10 &lt;dbl&gt; | avg20 &lt;dbl&gt; | std10 &lt;dbl&gt; | std20 &lt;dbl&gt; | rsi14 &lt;dbl&gt; | rsi5 &lt;dbl&gt; | macd1226 &lt;dbl&gt; | signal9 &lt;dbl&gt; | histogram9 &lt;dbl&gt; | macd0720 &lt;dbl&gt; | signal5 &lt;dbl&gt; | histogram5 &lt;dbl&gt; | bbands &lt;dbl&gt; |\n",
       "|---|---|---|---|---|---|---|---|---|---|---|---|---|---|---|\n",
       "| 2020-12-21 | 115822.6 | 115791.5 | 113522.0 | 1832.993 | 2873.893 | 67.66467 | 59.51283 | 3218.693 | 3236.405 |  -17.71281 | 3000.938 | 3266.029 | -265.09192 | 11495.57 |\n",
       "| 2020-12-22 | 116636.2 | 116075.8 | 113864.5 | 1704.578 | 2812.780 | 68.50740 | 54.31953 | 3088.065 | 3234.257 | -146.19147 | 2753.718 | 3199.076 | -445.35854 | 11251.12 |\n",
       "| 2020-12-23 | 117806.9 | 116556.4 | 114248.2 | 1389.806 | 2800.311 | 70.26033 | 49.50544 | 3043.917 | 3219.454 | -175.53719 | 2701.572 | 3075.912 | -374.34033 | 11201.25 |\n",
       "| 2020-12-28 | 119123.7 | 116955.9 | 114693.0 | 1503.361 | 2834.349 | 69.94729 | 56.14997 | 3079.687 | 3206.584 | -126.89670 | 2805.662 | 2941.483 | -135.82091 | 11337.39 |\n",
       "| 2020-12-29 | 119409.1 | 117384.0 | 115134.7 | 1534.259 | 2847.189 | 71.40391 | 61.96922 | 3095.387 | 3202.486 | -107.09865 | 2853.670 | 2823.112 |   30.55826 | 11388.75 |\n",
       "| 2020-12-30 | 119017.2 | 117824.6 | 115640.9 | 1257.111 | 2565.128 | 68.95178 | 90.14928 | 3041.149 | 3188.206 | -147.05645 | 2757.650 | 2774.454 |  -16.80455 | 10260.51 |\n",
       "\n"
      ],
      "text/plain": [
       "  data       close    avg10    avg20    std10    std20    rsi14    rsi5    \n",
       "1 2020-12-21 115822.6 115791.5 113522.0 1832.993 2873.893 67.66467 59.51283\n",
       "2 2020-12-22 116636.2 116075.8 113864.5 1704.578 2812.780 68.50740 54.31953\n",
       "3 2020-12-23 117806.9 116556.4 114248.2 1389.806 2800.311 70.26033 49.50544\n",
       "4 2020-12-28 119123.7 116955.9 114693.0 1503.361 2834.349 69.94729 56.14997\n",
       "5 2020-12-29 119409.1 117384.0 115134.7 1534.259 2847.189 71.40391 61.96922\n",
       "6 2020-12-30 119017.2 117824.6 115640.9 1257.111 2565.128 68.95178 90.14928\n",
       "  macd1226 signal9  histogram9 macd0720 signal5  histogram5 bbands  \n",
       "1 3218.693 3236.405  -17.71281 3000.938 3266.029 -265.09192 11495.57\n",
       "2 3088.065 3234.257 -146.19147 2753.718 3199.076 -445.35854 11251.12\n",
       "3 3043.917 3219.454 -175.53719 2701.572 3075.912 -374.34033 11201.25\n",
       "4 3079.687 3206.584 -126.89670 2805.662 2941.483 -135.82091 11337.39\n",
       "5 3095.387 3202.486 -107.09865 2853.670 2823.112   30.55826 11388.75\n",
       "6 3041.149 3188.206 -147.05645 2757.650 2774.454  -16.80455 10260.51"
      ]
     },
     "metadata": {},
     "output_type": "display_data"
    }
   ],
   "source": [
    "tail(bvsp)\n",
    "\n",
    "# término dos dados: 30/12/2020"
   ]
  },
  {
   "cell_type": "markdown",
   "metadata": {},
   "source": [
    "**Identificação de *missing values***"
   ]
  },
  {
   "cell_type": "code",
   "execution_count": 8,
   "metadata": {},
   "outputs": [
    {
     "data": {
      "text/plain": [
       "\n",
       "FALSE  TRUE \n",
       "74477   268 "
      ]
     },
     "metadata": {},
     "output_type": "display_data"
    }
   ],
   "source": [
    "table(is.na(bvsp))\n",
    "\n",
    "# 268 missing values"
   ]
  },
  {
   "cell_type": "markdown",
   "metadata": {},
   "source": [
    "## 3. Conhecendo melhor as variáveis de interesse"
   ]
  },
  {
   "cell_type": "code",
   "execution_count": 9,
   "metadata": {},
   "outputs": [
    {
     "name": "stderr",
     "output_type": "stream",
     "text": [
      "\n",
      "Attaching package: 'dplyr'\n",
      "\n",
      "\n",
      "The following objects are masked from 'package:stats':\n",
      "\n",
      "    filter, lag\n",
      "\n",
      "\n",
      "The following objects are masked from 'package:base':\n",
      "\n",
      "    intersect, setdiff, setequal, union\n",
      "\n",
      "\n"
     ]
    }
   ],
   "source": [
    "# Biblioteca(s) Necessária(s)\n",
    "library(dplyr)\n",
    "library(ggplot2)"
   ]
  },
  {
   "cell_type": "code",
   "execution_count": 10,
   "metadata": {},
   "outputs": [
    {
     "data": {
      "image/png": "[encoded data removed]",
      "text/plain": [
       "plot without title"
      ]
     },
     "metadata": {
      "image/png": {
       "height": 420,
       "width": 420
      }
     },
     "output_type": "display_data"
    }
   ],
   "source": [
    "Data <- bvsp$data\n",
    "Close <- bvsp$close\n",
    "\n",
    "bvsp %>%\n",
    "    ggplot() + \n",
    "    geom_line(aes(x = Data, y = Close)) +\n",
    "    ggtitle(\"Gráfico dos preços de fechamento - Índice Bovespa\")"
   ]
  },
  {
   "cell_type": "markdown",
   "metadata": {},
   "source": [
    "# Etapa 2: Construção da série de direção do atributo \"close\""
   ]
  },
  {
   "cell_type": "code",
   "execution_count": 11,
   "metadata": {},
   "outputs": [
    {
     "name": "stderr",
     "output_type": "stream",
     "text": [
      "Loading required package: xts\n",
      "\n",
      "Loading required package: zoo\n",
      "\n",
      "\n",
      "Attaching package: 'zoo'\n",
      "\n",
      "\n",
      "The following objects are masked from 'package:base':\n",
      "\n",
      "    as.Date, as.Date.numeric\n",
      "\n",
      "\n",
      "\n",
      "Attaching package: 'xts'\n",
      "\n",
      "\n",
      "The following objects are masked from 'package:dplyr':\n",
      "\n",
      "    first, last\n",
      "\n",
      "\n",
      "Loading required package: TTR\n",
      "\n",
      "Registered S3 method overwritten by 'quantmod':\n",
      "  method            from\n",
      "  as.zoo.data.frame zoo \n",
      "\n"
     ]
    }
   ],
   "source": [
    "# Biblioteca(s) Necessária(s)\n",
    "library(quantmod)"
   ]
  },
  {
   "cell_type": "markdown",
   "metadata": {},
   "source": [
    "**Direção da Variável Preço:**\n",
    "\n",
    "* 1 = up (aumento do preço da ação)\n",
    "\n",
    "* 0 = down (redução do preço da ação)"
   ]
  },
  {
   "cell_type": "code",
   "execution_count": 12,
   "metadata": {},
   "outputs": [],
   "source": [
    "direction <- NULL\n",
    "\n",
    "# Direção = Up quando preço atual > preço anterior de 20 dias\n",
    "direction[bvsp$close > lag(bvsp$close, 20)] <- 1\n",
    "\n",
    "# Direção = Up quando preço atual < preço anterior de 20 dias\n",
    "direction[bvsp$close < lag(bvsp$close, 20)] <- 0\n",
    "\n",
    "bvsp$direction <- direction"
   ]
  },
  {
   "cell_type": "code",
   "execution_count": 13,
   "metadata": {},
   "outputs": [
    {
     "data": {
      "text/html": [
       "<style>\n",
       ".list-inline {list-style: none; margin:0; padding: 0}\n",
       ".list-inline>li {display: inline-block}\n",
       ".list-inline>li:not(:last-child)::after {content: \"\\00b7\"; padding: 0 .5ex}\n",
       "</style>\n",
       "<ol class=list-inline><li>'data'</li><li>'close'</li><li>'avg10'</li><li>'avg20'</li><li>'std10'</li><li>'std20'</li><li>'rsi14'</li><li>'rsi5'</li><li>'macd1226'</li><li>'signal9'</li><li>'histogram9'</li><li>'macd0720'</li><li>'signal5'</li><li>'histogram5'</li><li>'bbands'</li><li>'direction'</li></ol>\n"
      ],
      "text/latex": [
       "\\begin{enumerate*}\n",
       "\\item 'data'\n",
       "\\item 'close'\n",
       "\\item 'avg10'\n",
       "\\item 'avg20'\n",
       "\\item 'std10'\n",
       "\\item 'std20'\n",
       "\\item 'rsi14'\n",
       "\\item 'rsi5'\n",
       "\\item 'macd1226'\n",
       "\\item 'signal9'\n",
       "\\item 'histogram9'\n",
       "\\item 'macd0720'\n",
       "\\item 'signal5'\n",
       "\\item 'histogram5'\n",
       "\\item 'bbands'\n",
       "\\item 'direction'\n",
       "\\end{enumerate*}\n"
      ],
      "text/markdown": [
       "1. 'data'\n",
       "2. 'close'\n",
       "3. 'avg10'\n",
       "4. 'avg20'\n",
       "5. 'std10'\n",
       "6. 'std20'\n",
       "7. 'rsi14'\n",
       "8. 'rsi5'\n",
       "9. 'macd1226'\n",
       "10. 'signal9'\n",
       "11. 'histogram9'\n",
       "12. 'macd0720'\n",
       "13. 'signal5'\n",
       "14. 'histogram5'\n",
       "15. 'bbands'\n",
       "16. 'direction'\n",
       "\n",
       "\n"
      ],
      "text/plain": [
       " [1] \"data\"       \"close\"      \"avg10\"      \"avg20\"      \"std10\"     \n",
       " [6] \"std20\"      \"rsi14\"      \"rsi5\"       \"macd1226\"   \"signal9\"   \n",
       "[11] \"histogram9\" \"macd0720\"   \"signal5\"    \"histogram5\" \"bbands\"    \n",
       "[16] \"direction\" "
      ]
     },
     "metadata": {},
     "output_type": "display_data"
    }
   ],
   "source": [
    "colnames(bvsp)"
   ]
  },
  {
   "cell_type": "markdown",
   "metadata": {},
   "source": [
    "**Direção do Retorno da Ação**:\n",
    "\n",
    "* \"up\" = aumento do retorno\n",
    "\n",
    "* \"down\" = redução do retorno\n",
    "\n",
    "* \"nowhere\" = nenhum dos casos anteriores"
   ]
  },
  {
   "cell_type": "code",
   "execution_count": 14,
   "metadata": {},
   "outputs": [],
   "source": [
    "# Cálculo do retorno da ação em relação ao preço da ação de 20 dias atrás\n",
    "lagret <- (bvsp$close - lag(bvsp$close, 20)) / lag(bvsp$close, 20)\n",
    "\n",
    "dirret <- NULL\n",
    "\n",
    "# Direção = down quando retorno da ação é inferior a -0.02\n",
    "dirret[lagret < -0.02] <- \"down\"\n",
    "\n",
    "# Direção = up quando retorno da ação é superior a 0.02\n",
    "dirret[lagret > 0.02] <- \"up\"\n",
    "\n",
    "# Direção = nowhere quando retorno da ação está entre -0.02 e 0.02\n",
    "dirret[lagret < 0.02 & lagret > -0.02] <- \"nowhere\"\n",
    "\n",
    "bvsp$dirret <- dirret"
   ]
  },
  {
   "cell_type": "code",
   "execution_count": 15,
   "metadata": {},
   "outputs": [
    {
     "data": {
      "text/html": [
       "<style>\n",
       ".list-inline {list-style: none; margin:0; padding: 0}\n",
       ".list-inline>li {display: inline-block}\n",
       ".list-inline>li:not(:last-child)::after {content: \"\\00b7\"; padding: 0 .5ex}\n",
       "</style>\n",
       "<ol class=list-inline><li>'data'</li><li>'close'</li><li>'avg10'</li><li>'avg20'</li><li>'std10'</li><li>'std20'</li><li>'rsi14'</li><li>'rsi5'</li><li>'macd1226'</li><li>'signal9'</li><li>'histogram9'</li><li>'macd0720'</li><li>'signal5'</li><li>'histogram5'</li><li>'bbands'</li><li>'direction'</li><li>'dirret'</li></ol>\n"
      ],
      "text/latex": [
       "\\begin{enumerate*}\n",
       "\\item 'data'\n",
       "\\item 'close'\n",
       "\\item 'avg10'\n",
       "\\item 'avg20'\n",
       "\\item 'std10'\n",
       "\\item 'std20'\n",
       "\\item 'rsi14'\n",
       "\\item 'rsi5'\n",
       "\\item 'macd1226'\n",
       "\\item 'signal9'\n",
       "\\item 'histogram9'\n",
       "\\item 'macd0720'\n",
       "\\item 'signal5'\n",
       "\\item 'histogram5'\n",
       "\\item 'bbands'\n",
       "\\item 'direction'\n",
       "\\item 'dirret'\n",
       "\\end{enumerate*}\n"
      ],
      "text/markdown": [
       "1. 'data'\n",
       "2. 'close'\n",
       "3. 'avg10'\n",
       "4. 'avg20'\n",
       "5. 'std10'\n",
       "6. 'std20'\n",
       "7. 'rsi14'\n",
       "8. 'rsi5'\n",
       "9. 'macd1226'\n",
       "10. 'signal9'\n",
       "11. 'histogram9'\n",
       "12. 'macd0720'\n",
       "13. 'signal5'\n",
       "14. 'histogram5'\n",
       "15. 'bbands'\n",
       "16. 'direction'\n",
       "17. 'dirret'\n",
       "\n",
       "\n"
      ],
      "text/plain": [
       " [1] \"data\"       \"close\"      \"avg10\"      \"avg20\"      \"std10\"     \n",
       " [6] \"std20\"      \"rsi14\"      \"rsi5\"       \"macd1226\"   \"signal9\"   \n",
       "[11] \"histogram9\" \"macd0720\"   \"signal5\"    \"histogram5\" \"bbands\"    \n",
       "[16] \"direction\"  \"dirret\"    "
      ]
     },
     "metadata": {},
     "output_type": "display_data"
    }
   ],
   "source": [
    "colnames(bvsp)"
   ]
  },
  {
   "cell_type": "markdown",
   "metadata": {},
   "source": [
    "# Etapa 3: Identificação e tratamento de *missing values*"
   ]
  },
  {
   "cell_type": "markdown",
   "metadata": {},
   "source": [
    "## 1. Contabilização de *missing values*"
   ]
  },
  {
   "cell_type": "code",
   "execution_count": 16,
   "metadata": {},
   "outputs": [
    {
     "data": {
      "text/plain": [
       "\n",
       "FALSE  TRUE \n",
       "99.64  0.36 "
      ]
     },
     "metadata": {},
     "output_type": "display_data"
    }
   ],
   "source": [
    "round(prop.table(table(is.na(bvsp)))*100, digits = 2)\n",
    "\n",
    "# 0.36% do dataframe corresponde a missing values"
   ]
  },
  {
   "cell_type": "markdown",
   "metadata": {},
   "source": [
    "## 2. Remoção dos *missing values*"
   ]
  },
  {
   "cell_type": "code",
   "execution_count": 17,
   "metadata": {},
   "outputs": [
    {
     "data": {
      "text/plain": [
       "\n",
       "FALSE \n",
       "  100 "
      ]
     },
     "metadata": {},
     "output_type": "display_data"
    }
   ],
   "source": [
    "bvspn <- na.omit(bvsp)\n",
    "\n",
    "round(prop.table(table(is.na(bvspn)))*100, digits = 2)\n",
    "\n",
    "# O dataframe não possui missing values"
   ]
  },
  {
   "cell_type": "code",
   "execution_count": 18,
   "metadata": {},
   "outputs": [
    {
     "data": {
      "text/html": [
       "<table>\n",
       "<caption>A tibble: 6 × 17</caption>\n",
       "<thead>\n",
       "\t<tr><th scope=col>data</th><th scope=col>close</th><th scope=col>avg10</th><th scope=col>avg20</th><th scope=col>std10</th><th scope=col>std20</th><th scope=col>rsi14</th><th scope=col>rsi5</th><th scope=col>macd1226</th><th scope=col>signal9</th><th scope=col>histogram9</th><th scope=col>macd0720</th><th scope=col>signal5</th><th scope=col>histogram5</th><th scope=col>bbands</th><th scope=col>direction</th><th scope=col>dirret</th></tr>\n",
       "\t<tr><th scope=col>&lt;dttm&gt;</th><th scope=col>&lt;dbl&gt;</th><th scope=col>&lt;dbl&gt;</th><th scope=col>&lt;dbl&gt;</th><th scope=col>&lt;dbl&gt;</th><th scope=col>&lt;dbl&gt;</th><th scope=col>&lt;dbl&gt;</th><th scope=col>&lt;dbl&gt;</th><th scope=col>&lt;dbl&gt;</th><th scope=col>&lt;dbl&gt;</th><th scope=col>&lt;dbl&gt;</th><th scope=col>&lt;dbl&gt;</th><th scope=col>&lt;dbl&gt;</th><th scope=col>&lt;dbl&gt;</th><th scope=col>&lt;dbl&gt;</th><th scope=col>&lt;dbl&gt;</th><th scope=col>&lt;chr&gt;</th></tr>\n",
       "</thead>\n",
       "<tbody>\n",
       "\t<tr><td>2001-02-15</td><td>16937.19</td><td>16991.71</td><td>17308.54</td><td>158.7431</td><td>388.3144</td><td>32.82337</td><td>28.506228</td><td>8236.488</td><td>11205.687</td><td>-2969.198</td><td>3740.946</td><td>4636.159</td><td>-895.2139</td><td>1553.258</td><td>0</td><td>nowhere</td></tr>\n",
       "\t<tr><td>2001-02-16</td><td>16259.05</td><td>16926.12</td><td>17245.42</td><td>281.7944</td><td>449.6417</td><td>26.41297</td><td>15.792831</td><td>7588.201</td><td>10419.429</td><td>-2831.227</td><td>3263.153</td><td>4163.006</td><td>-899.8522</td><td>1798.567</td><td>0</td><td>down   </td></tr>\n",
       "\t<tr><td>2001-02-19</td><td>16060.76</td><td>16859.07</td><td>17171.95</td><td>391.6612</td><td>515.8437</td><td>26.12849</td><td>16.081218</td><td>6977.991</td><td> 9676.290</td><td>-2698.299</td><td>2830.555</td><td>3716.313</td><td>-885.7578</td><td>2063.375</td><td>0</td><td>down   </td></tr>\n",
       "\t<tr><td>2001-02-20</td><td>15910.57</td><td>16749.45</td><td>17097.89</td><td>487.4264</td><td>584.3988</td><td>25.39610</td><td> 1.967173</td><td>6408.404</td><td> 8975.794</td><td>-2567.391</td><td>2446.369</td><td>3288.032</td><td>-841.6628</td><td>2337.595</td><td>0</td><td>down   </td></tr>\n",
       "\t<tr><td>2001-02-21</td><td>15593.86</td><td>16627.60</td><td>16985.98</td><td>607.4741</td><td>647.3201</td><td>27.86520</td><td> 0.000000</td><td>5863.851</td><td> 8310.065</td><td>-2446.214</td><td>2078.409</td><td>2871.887</td><td>-793.4771</td><td>2589.280</td><td>0</td><td>down   </td></tr>\n",
       "\t<tr><td>2001-02-22</td><td>15910.36</td><td>16494.31</td><td>16892.91</td><td>603.5913</td><td>662.0429</td><td>35.46813</td><td>19.068218</td><td>5395.631</td><td> 7682.896</td><td>-2287.265</td><td>1828.219</td><td>2489.341</td><td>-661.1224</td><td>2648.171</td><td>0</td><td>down   </td></tr>\n",
       "</tbody>\n",
       "</table>\n"
      ],
      "text/latex": [
       "A tibble: 6 × 17\n",
       "\\begin{tabular}{lllllllllllllllll}\n",
       " data & close & avg10 & avg20 & std10 & std20 & rsi14 & rsi5 & macd1226 & signal9 & histogram9 & macd0720 & signal5 & histogram5 & bbands & direction & dirret\\\\\n",
       " <dttm> & <dbl> & <dbl> & <dbl> & <dbl> & <dbl> & <dbl> & <dbl> & <dbl> & <dbl> & <dbl> & <dbl> & <dbl> & <dbl> & <dbl> & <dbl> & <chr>\\\\\n",
       "\\hline\n",
       "\t 2001-02-15 & 16937.19 & 16991.71 & 17308.54 & 158.7431 & 388.3144 & 32.82337 & 28.506228 & 8236.488 & 11205.687 & -2969.198 & 3740.946 & 4636.159 & -895.2139 & 1553.258 & 0 & nowhere\\\\\n",
       "\t 2001-02-16 & 16259.05 & 16926.12 & 17245.42 & 281.7944 & 449.6417 & 26.41297 & 15.792831 & 7588.201 & 10419.429 & -2831.227 & 3263.153 & 4163.006 & -899.8522 & 1798.567 & 0 & down   \\\\\n",
       "\t 2001-02-19 & 16060.76 & 16859.07 & 17171.95 & 391.6612 & 515.8437 & 26.12849 & 16.081218 & 6977.991 &  9676.290 & -2698.299 & 2830.555 & 3716.313 & -885.7578 & 2063.375 & 0 & down   \\\\\n",
       "\t 2001-02-20 & 15910.57 & 16749.45 & 17097.89 & 487.4264 & 584.3988 & 25.39610 &  1.967173 & 6408.404 &  8975.794 & -2567.391 & 2446.369 & 3288.032 & -841.6628 & 2337.595 & 0 & down   \\\\\n",
       "\t 2001-02-21 & 15593.86 & 16627.60 & 16985.98 & 607.4741 & 647.3201 & 27.86520 &  0.000000 & 5863.851 &  8310.065 & -2446.214 & 2078.409 & 2871.887 & -793.4771 & 2589.280 & 0 & down   \\\\\n",
       "\t 2001-02-22 & 15910.36 & 16494.31 & 16892.91 & 603.5913 & 662.0429 & 35.46813 & 19.068218 & 5395.631 &  7682.896 & -2287.265 & 1828.219 & 2489.341 & -661.1224 & 2648.171 & 0 & down   \\\\\n",
       "\\end{tabular}\n"
      ],
      "text/markdown": [
       "\n",
       "A tibble: 6 × 17\n",
       "\n",
       "| data &lt;dttm&gt; | close &lt;dbl&gt; | avg10 &lt;dbl&gt; | avg20 &lt;dbl&gt; | std10 &lt;dbl&gt; | std20 &lt;dbl&gt; | rsi14 &lt;dbl&gt; | rsi5 &lt;dbl&gt; | macd1226 &lt;dbl&gt; | signal9 &lt;dbl&gt; | histogram9 &lt;dbl&gt; | macd0720 &lt;dbl&gt; | signal5 &lt;dbl&gt; | histogram5 &lt;dbl&gt; | bbands &lt;dbl&gt; | direction &lt;dbl&gt; | dirret &lt;chr&gt; |\n",
       "|---|---|---|---|---|---|---|---|---|---|---|---|---|---|---|---|---|\n",
       "| 2001-02-15 | 16937.19 | 16991.71 | 17308.54 | 158.7431 | 388.3144 | 32.82337 | 28.506228 | 8236.488 | 11205.687 | -2969.198 | 3740.946 | 4636.159 | -895.2139 | 1553.258 | 0 | nowhere |\n",
       "| 2001-02-16 | 16259.05 | 16926.12 | 17245.42 | 281.7944 | 449.6417 | 26.41297 | 15.792831 | 7588.201 | 10419.429 | -2831.227 | 3263.153 | 4163.006 | -899.8522 | 1798.567 | 0 | down    |\n",
       "| 2001-02-19 | 16060.76 | 16859.07 | 17171.95 | 391.6612 | 515.8437 | 26.12849 | 16.081218 | 6977.991 |  9676.290 | -2698.299 | 2830.555 | 3716.313 | -885.7578 | 2063.375 | 0 | down    |\n",
       "| 2001-02-20 | 15910.57 | 16749.45 | 17097.89 | 487.4264 | 584.3988 | 25.39610 |  1.967173 | 6408.404 |  8975.794 | -2567.391 | 2446.369 | 3288.032 | -841.6628 | 2337.595 | 0 | down    |\n",
       "| 2001-02-21 | 15593.86 | 16627.60 | 16985.98 | 607.4741 | 647.3201 | 27.86520 |  0.000000 | 5863.851 |  8310.065 | -2446.214 | 2078.409 | 2871.887 | -793.4771 | 2589.280 | 0 | down    |\n",
       "| 2001-02-22 | 15910.36 | 16494.31 | 16892.91 | 603.5913 | 662.0429 | 35.46813 | 19.068218 | 5395.631 |  7682.896 | -2287.265 | 1828.219 | 2489.341 | -661.1224 | 2648.171 | 0 | down    |\n",
       "\n"
      ],
      "text/plain": [
       "  data       close    avg10    avg20    std10    std20    rsi14    rsi5     \n",
       "1 2001-02-15 16937.19 16991.71 17308.54 158.7431 388.3144 32.82337 28.506228\n",
       "2 2001-02-16 16259.05 16926.12 17245.42 281.7944 449.6417 26.41297 15.792831\n",
       "3 2001-02-19 16060.76 16859.07 17171.95 391.6612 515.8437 26.12849 16.081218\n",
       "4 2001-02-20 15910.57 16749.45 17097.89 487.4264 584.3988 25.39610  1.967173\n",
       "5 2001-02-21 15593.86 16627.60 16985.98 607.4741 647.3201 27.86520  0.000000\n",
       "6 2001-02-22 15910.36 16494.31 16892.91 603.5913 662.0429 35.46813 19.068218\n",
       "  macd1226 signal9   histogram9 macd0720 signal5  histogram5 bbands   direction\n",
       "1 8236.488 11205.687 -2969.198  3740.946 4636.159 -895.2139  1553.258 0        \n",
       "2 7588.201 10419.429 -2831.227  3263.153 4163.006 -899.8522  1798.567 0        \n",
       "3 6977.991  9676.290 -2698.299  2830.555 3716.313 -885.7578  2063.375 0        \n",
       "4 6408.404  8975.794 -2567.391  2446.369 3288.032 -841.6628  2337.595 0        \n",
       "5 5863.851  8310.065 -2446.214  2078.409 2871.887 -793.4771  2589.280 0        \n",
       "6 5395.631  7682.896 -2287.265  1828.219 2489.341 -661.1224  2648.171 0        \n",
       "  dirret \n",
       "1 nowhere\n",
       "2 down   \n",
       "3 down   \n",
       "4 down   \n",
       "5 down   \n",
       "6 down   "
      ]
     },
     "metadata": {},
     "output_type": "display_data"
    }
   ],
   "source": [
    "head(bvspn)\n",
    "\n",
    "# o novo dataframe tem início em 15/02/2001"
   ]
  },
  {
   "cell_type": "markdown",
   "metadata": {},
   "source": [
    "# Etapa 4: Análise Exploratória de Dados"
   ]
  },
  {
   "cell_type": "markdown",
   "metadata": {},
   "source": [
    "## 1. Estatística Descritiva"
   ]
  },
  {
   "cell_type": "code",
   "execution_count": 19,
   "metadata": {},
   "outputs": [
    {
     "data": {
      "text/plain": [
       "     close            avg10            avg20            std10         \n",
       " Min.   :  8371   Min.   :  8740   Min.   :  8883   Min.   :   85.14  \n",
       " 1st Qu.: 34817   1st Qu.: 34861   1st Qu.: 35104   1st Qu.:  520.78  \n",
       " Median : 53798   Median : 53714   Median : 53662   Median :  835.00  \n",
       " Mean   : 51946   Mean   : 51854   Mean   : 51754   Mean   :  976.29  \n",
       " 3rd Qu.: 65550   3rd Qu.: 65535   3rd Qu.: 65562   3rd Qu.: 1234.99  \n",
       " Max.   :119528   Max.   :117874   Max.   :117282   Max.   :12936.44  \n",
       "     std20             rsi14             rsi5           macd1226       \n",
       " Min.   :  119.8   Min.   : 7.646   Min.   :  0.00   Min.   :-12092.4  \n",
       " 1st Qu.:  742.3   1st Qu.:40.804   1st Qu.: 32.20   1st Qu.:  -330.8  \n",
       " Median : 1165.3   Median :53.198   Median : 54.35   Median :   161.2  \n",
       " Mean   : 1349.9   Mean   :53.121   Mean   : 53.29   Mean   :   156.8  \n",
       " 3rd Qu.: 1689.5   3rd Qu.:65.671   3rd Qu.: 74.65   3rd Qu.:   738.2  \n",
       " Max.   :16854.7   Max.   :97.156   Max.   :100.00   Max.   :  8236.5  \n",
       "    signal9           histogram9           macd0720           signal5        \n",
       " Min.   :-10920.8   Min.   :-3781.920   Min.   :-14106.1   Min.   :-13768.4  \n",
       " 1st Qu.:  -334.0   1st Qu.: -170.186   1st Qu.:  -387.6   1st Qu.:  -375.5  \n",
       " Median :   161.0   Median :    5.673   Median :   157.8   Median :   155.9  \n",
       " Mean   :   162.9   Mean   :   -6.064   Mean   :   135.4   Mean   :   136.2  \n",
       " 3rd Qu.:   719.0   3rd Qu.:  171.255   3rd Qu.:   790.8   3rd Qu.:   770.6  \n",
       " Max.   : 11205.7   Max.   : 2567.430   Max.   :  5362.6   Max.   :  4954.0  \n",
       "   histogram5            bbands       \n",
       " Min.   :-3442.093   Min.   :  479.3  \n",
       " 1st Qu.: -146.139   1st Qu.: 2969.1  \n",
       " Median :    4.528   Median : 4661.3  \n",
       " Mean   :   -0.737   Mean   : 5399.6  \n",
       " 3rd Qu.:  148.036   3rd Qu.: 6758.2  \n",
       " Max.   : 3172.238   Max.   :67418.6  "
      ]
     },
     "metadata": {},
     "output_type": "display_data"
    }
   ],
   "source": [
    "summary(bvspn[,-c(1, 16, 17)])"
   ]
  },
  {
   "cell_type": "markdown",
   "metadata": {},
   "source": [
    "A função \"summary\" não fornece todas as estatísticas descritivas (ex.: desvio padrão, assimetria, curtose...).\n",
    "\n",
    "Para uma análise mais completa criaremos uma tabela com mais medidas de estatística descritiva."
   ]
  },
  {
   "cell_type": "code",
   "execution_count": 20,
   "metadata": {},
   "outputs": [],
   "source": [
    "# Biblioteca(s) Necessária(s)\n",
    "library(moments)"
   ]
  },
  {
   "cell_type": "code",
   "execution_count": 21,
   "metadata": {},
   "outputs": [],
   "source": [
    "# Remoção das colunas \"data\", \"direction\" e \"dirret\"\n",
    "mbvsp <- as.matrix(bvspn[,-c(1, 16, 17)])    "
   ]
  },
  {
   "cell_type": "code",
   "execution_count": 22,
   "metadata": {},
   "outputs": [],
   "source": [
    "# Cálculo das medidas de estatística descritiva\n",
    "n <- ncol(mbvsp)\n",
    "\n",
    "# Média\n",
    "mean_bvsp <- numeric(n)\n",
    "names(mean_bvsp) <- colnames(mbvsp)\n",
    "for (i in 1:n) {\n",
    "    mean_bvsp[i] <- mean(mbvsp[,i])\n",
    "}\n",
    "mean_bvsp <- round(mean_bvsp, digits = 2)\n",
    "\n",
    "# Desvio Padrão\n",
    "sd_bvsp <- numeric(n)\n",
    "names(sd_bvsp) <- colnames(mbvsp)\n",
    "for (i in 1:n) {\n",
    "    sd_bvsp[i] <- sd(mbvsp[,i])\n",
    "}\n",
    "sd_bvsp <- round(sd_bvsp, digits = 2)\n",
    "\n",
    "# Mínimo\n",
    "min_bvsp <- numeric(n)\n",
    "names(min_bvsp) <- colnames(mbvsp)\n",
    "for (i in 1:n) {\n",
    "    min_bvsp[i] <- min(mbvsp[,i])\n",
    "}\n",
    "min_bvsp <- round(min_bvsp, digits = 2)\n",
    "\n",
    "# 1º Qurtil\n",
    "q1_bvsp <- numeric(n)\n",
    "names(q1_bvsp) <- colnames(mbvsp)\n",
    "for (i in 1:n) {\n",
    "    q1_bvsp[i] <- quantile(mbvsp[,i], probs = 0.25)\n",
    "}\n",
    "q1_bvsp <- round(q1_bvsp, digits = 2)\n",
    "\n",
    "# Mediana\n",
    "median_bvsp <- numeric(n)\n",
    "names(median_bvsp) <- colnames(mbvsp)\n",
    "for (i in 1:n) {\n",
    "    median_bvsp[i] <- median(mbvsp[,i])\n",
    "}\n",
    "median_bvsp <- round(median_bvsp, digits = 2)\n",
    "\n",
    "# 3º Qurtil\n",
    "q3_bvsp <- numeric(n)\n",
    "names(q3_bvsp) <- colnames(mbvsp)\n",
    "for (i in 1:n) {\n",
    "    q3_bvsp[i] <- quantile(mbvsp[,i], probs = 0.75)\n",
    "}\n",
    "q3_bvsp <- round(q3_bvsp, digits = 2)\n",
    "\n",
    "# Máximo\n",
    "max_bvsp <- numeric(n)\n",
    "names(max_bvsp) <- colnames(mbvsp)\n",
    "for (i in 1:n) {\n",
    "    max_bvsp[i] <- max(mbvsp[,i])\n",
    "}\n",
    "max_bvsp <- round(max_bvsp, digits = 2)\n",
    "\n",
    "# Coeficiente de Variação\n",
    "cv_bvsp <- numeric(n)\n",
    "names(cv_bvsp) <- colnames(mbvsp)\n",
    "for (i in 1:n) {\n",
    "    cv_bvsp[i] <- sd(mbvsp[,i])/mean(mbvsp[,i])\n",
    "}\n",
    "cv_bvsp <- round(cv_bvsp, digits = 2)\n",
    "\n",
    "# Assimetria\n",
    "skew_bvsp <- numeric(n)\n",
    "names(skew_bvsp) <- colnames(mbvsp)\n",
    "for (i in 1:n) {\n",
    "    skew_bvsp[i] <- skewness(mbvsp[,i])\n",
    "}\n",
    "skew_bvsp <- round(skew_bvsp, digits = 2)\n",
    "\n",
    "# Curtose\n",
    "kurt_bvsp <- numeric(n)\n",
    "names(kurt_bvsp) <- colnames(mbvsp)\n",
    "for (i in 1:n) {\n",
    "    kurt_bvsp[i] <- kurtosis(mbvsp[,i])\n",
    "}\n",
    "kurt_bvsp <- round(kurt_bvsp, digits = 2)"
   ]
  },
  {
   "cell_type": "code",
   "execution_count": 23,
   "metadata": {},
   "outputs": [
    {
     "data": {
      "text/html": [
       "<table>\n",
       "<caption>A matrix: 14 × 10 of type dbl</caption>\n",
       "<thead>\n",
       "\t<tr><th></th><th scope=col>media</th><th scope=col>sd</th><th scope=col>min</th><th scope=col>q1</th><th scope=col>median</th><th scope=col>q3</th><th scope=col>max</th><th scope=col>cv</th><th scope=col>skew</th><th scope=col>kurt</th></tr>\n",
       "</thead>\n",
       "<tbody>\n",
       "\t<tr><th scope=row>close</th><td>51945.53</td><td>25374.59</td><td>  8370.88</td><td>34817.16</td><td>53797.71</td><td>65549.88</td><td>119527.63</td><td>   0.49</td><td> 0.23</td><td> 2.70</td></tr>\n",
       "\t<tr><th scope=row>avg10</th><td>51853.50</td><td>25289.60</td><td>  8739.86</td><td>34861.46</td><td>53713.92</td><td>65535.45</td><td>117873.76</td><td>   0.49</td><td> 0.22</td><td> 2.68</td></tr>\n",
       "\t<tr><th scope=row>avg20</th><td>51753.85</td><td>25201.18</td><td>  8882.87</td><td>35103.55</td><td>53662.15</td><td>65562.40</td><td>117281.86</td><td>   0.49</td><td> 0.20</td><td> 2.66</td></tr>\n",
       "\t<tr><th scope=row>std10</th><td>  976.29</td><td>  778.42</td><td>    85.14</td><td>  520.78</td><td>  835.00</td><td> 1234.99</td><td> 12936.44</td><td>   0.80</td><td> 5.37</td><td>62.17</td></tr>\n",
       "\t<tr><th scope=row>std20</th><td> 1349.91</td><td> 1111.61</td><td>   119.83</td><td>  742.26</td><td> 1165.31</td><td> 1689.55</td><td> 16854.65</td><td>   0.82</td><td> 6.29</td><td>72.52</td></tr>\n",
       "\t<tr><th scope=row>rsi14</th><td>   53.12</td><td>   16.48</td><td>     7.65</td><td>   40.80</td><td>   53.20</td><td>   65.67</td><td>    97.16</td><td>   0.31</td><td>-0.01</td><td> 2.37</td></tr>\n",
       "\t<tr><th scope=row>rsi5</th><td>   53.29</td><td>   26.96</td><td>     0.00</td><td>   32.20</td><td>   54.35</td><td>   74.65</td><td>   100.00</td><td>   0.51</td><td>-0.10</td><td> 2.07</td></tr>\n",
       "\t<tr><th scope=row>macd1226</th><td>  156.80</td><td> 1159.17</td><td>-12092.44</td><td> -330.76</td><td>  161.17</td><td>  738.21</td><td>  8236.49</td><td>   7.39</td><td>-2.19</td><td>25.17</td></tr>\n",
       "\t<tr><th scope=row>signal9</th><td>  162.86</td><td> 1165.27</td><td>-10920.76</td><td> -334.01</td><td>  160.99</td><td>  718.99</td><td> 11205.69</td><td>   7.16</td><td>-1.43</td><td>26.01</td></tr>\n",
       "\t<tr><th scope=row>histogram9</th><td>   -6.06</td><td>  384.31</td><td> -3781.92</td><td> -170.19</td><td>    5.67</td><td>  171.25</td><td>  2567.43</td><td> -63.38</td><td>-1.13</td><td>18.51</td></tr>\n",
       "\t<tr><th scope=row>macd7205</th><td>  135.43</td><td> 1228.65</td><td>-14106.08</td><td> -387.64</td><td>  157.79</td><td>  790.80</td><td>  5362.62</td><td>   9.07</td><td>-2.92</td><td>31.60</td></tr>\n",
       "\t<tr><th scope=row>signal5</th><td>  136.17</td><td> 1208.70</td><td>-13768.40</td><td> -375.55</td><td>  155.89</td><td>  770.56</td><td>  4954.00</td><td>   8.88</td><td>-2.89</td><td>31.13</td></tr>\n",
       "\t<tr><th scope=row>histogram5</th><td>   -0.74</td><td>  313.00</td><td> -3442.09</td><td> -146.14</td><td>    4.53</td><td>  148.04</td><td>  3172.24</td><td>-424.43</td><td>-0.12</td><td>16.08</td></tr>\n",
       "\t<tr><th scope=row>bbands</th><td> 5399.63</td><td> 4446.43</td><td>   479.31</td><td> 2969.05</td><td> 4661.26</td><td> 6758.18</td><td> 67418.62</td><td>   0.82</td><td> 6.29</td><td>72.52</td></tr>\n",
       "</tbody>\n",
       "</table>\n"
      ],
      "text/latex": [
       "A matrix: 14 × 10 of type dbl\n",
       "\\begin{tabular}{r|llllllllll}\n",
       "  & media & sd & min & q1 & median & q3 & max & cv & skew & kurt\\\\\n",
       "\\hline\n",
       "\tclose & 51945.53 & 25374.59 &   8370.88 & 34817.16 & 53797.71 & 65549.88 & 119527.63 &    0.49 &  0.23 &  2.70\\\\\n",
       "\tavg10 & 51853.50 & 25289.60 &   8739.86 & 34861.46 & 53713.92 & 65535.45 & 117873.76 &    0.49 &  0.22 &  2.68\\\\\n",
       "\tavg20 & 51753.85 & 25201.18 &   8882.87 & 35103.55 & 53662.15 & 65562.40 & 117281.86 &    0.49 &  0.20 &  2.66\\\\\n",
       "\tstd10 &   976.29 &   778.42 &     85.14 &   520.78 &   835.00 &  1234.99 &  12936.44 &    0.80 &  5.37 & 62.17\\\\\n",
       "\tstd20 &  1349.91 &  1111.61 &    119.83 &   742.26 &  1165.31 &  1689.55 &  16854.65 &    0.82 &  6.29 & 72.52\\\\\n",
       "\trsi14 &    53.12 &    16.48 &      7.65 &    40.80 &    53.20 &    65.67 &     97.16 &    0.31 & -0.01 &  2.37\\\\\n",
       "\trsi5 &    53.29 &    26.96 &      0.00 &    32.20 &    54.35 &    74.65 &    100.00 &    0.51 & -0.10 &  2.07\\\\\n",
       "\tmacd1226 &   156.80 &  1159.17 & -12092.44 &  -330.76 &   161.17 &   738.21 &   8236.49 &    7.39 & -2.19 & 25.17\\\\\n",
       "\tsignal9 &   162.86 &  1165.27 & -10920.76 &  -334.01 &   160.99 &   718.99 &  11205.69 &    7.16 & -1.43 & 26.01\\\\\n",
       "\thistogram9 &    -6.06 &   384.31 &  -3781.92 &  -170.19 &     5.67 &   171.25 &   2567.43 &  -63.38 & -1.13 & 18.51\\\\\n",
       "\tmacd7205 &   135.43 &  1228.65 & -14106.08 &  -387.64 &   157.79 &   790.80 &   5362.62 &    9.07 & -2.92 & 31.60\\\\\n",
       "\tsignal5 &   136.17 &  1208.70 & -13768.40 &  -375.55 &   155.89 &   770.56 &   4954.00 &    8.88 & -2.89 & 31.13\\\\\n",
       "\thistogram5 &    -0.74 &   313.00 &  -3442.09 &  -146.14 &     4.53 &   148.04 &   3172.24 & -424.43 & -0.12 & 16.08\\\\\n",
       "\tbbands &  5399.63 &  4446.43 &    479.31 &  2969.05 &  4661.26 &  6758.18 &  67418.62 &    0.82 &  6.29 & 72.52\\\\\n",
       "\\end{tabular}\n"
      ],
      "text/markdown": [
       "\n",
       "A matrix: 14 × 10 of type dbl\n",
       "\n",
       "| <!--/--> | media | sd | min | q1 | median | q3 | max | cv | skew | kurt |\n",
       "|---|---|---|---|---|---|---|---|---|---|---|\n",
       "| close | 51945.53 | 25374.59 |   8370.88 | 34817.16 | 53797.71 | 65549.88 | 119527.63 |    0.49 |  0.23 |  2.70 |\n",
       "| avg10 | 51853.50 | 25289.60 |   8739.86 | 34861.46 | 53713.92 | 65535.45 | 117873.76 |    0.49 |  0.22 |  2.68 |\n",
       "| avg20 | 51753.85 | 25201.18 |   8882.87 | 35103.55 | 53662.15 | 65562.40 | 117281.86 |    0.49 |  0.20 |  2.66 |\n",
       "| std10 |   976.29 |   778.42 |     85.14 |   520.78 |   835.00 |  1234.99 |  12936.44 |    0.80 |  5.37 | 62.17 |\n",
       "| std20 |  1349.91 |  1111.61 |    119.83 |   742.26 |  1165.31 |  1689.55 |  16854.65 |    0.82 |  6.29 | 72.52 |\n",
       "| rsi14 |    53.12 |    16.48 |      7.65 |    40.80 |    53.20 |    65.67 |     97.16 |    0.31 | -0.01 |  2.37 |\n",
       "| rsi5 |    53.29 |    26.96 |      0.00 |    32.20 |    54.35 |    74.65 |    100.00 |    0.51 | -0.10 |  2.07 |\n",
       "| macd1226 |   156.80 |  1159.17 | -12092.44 |  -330.76 |   161.17 |   738.21 |   8236.49 |    7.39 | -2.19 | 25.17 |\n",
       "| signal9 |   162.86 |  1165.27 | -10920.76 |  -334.01 |   160.99 |   718.99 |  11205.69 |    7.16 | -1.43 | 26.01 |\n",
       "| histogram9 |    -6.06 |   384.31 |  -3781.92 |  -170.19 |     5.67 |   171.25 |   2567.43 |  -63.38 | -1.13 | 18.51 |\n",
       "| macd7205 |   135.43 |  1228.65 | -14106.08 |  -387.64 |   157.79 |   790.80 |   5362.62 |    9.07 | -2.92 | 31.60 |\n",
       "| signal5 |   136.17 |  1208.70 | -13768.40 |  -375.55 |   155.89 |   770.56 |   4954.00 |    8.88 | -2.89 | 31.13 |\n",
       "| histogram5 |    -0.74 |   313.00 |  -3442.09 |  -146.14 |     4.53 |   148.04 |   3172.24 | -424.43 | -0.12 | 16.08 |\n",
       "| bbands |  5399.63 |  4446.43 |    479.31 |  2969.05 |  4661.26 |  6758.18 |  67418.62 |    0.82 |  6.29 | 72.52 |\n",
       "\n"
      ],
      "text/plain": [
       "           media    sd       min       q1       median   q3       max      \n",
       "close      51945.53 25374.59   8370.88 34817.16 53797.71 65549.88 119527.63\n",
       "avg10      51853.50 25289.60   8739.86 34861.46 53713.92 65535.45 117873.76\n",
       "avg20      51753.85 25201.18   8882.87 35103.55 53662.15 65562.40 117281.86\n",
       "std10        976.29   778.42     85.14   520.78   835.00  1234.99  12936.44\n",
       "std20       1349.91  1111.61    119.83   742.26  1165.31  1689.55  16854.65\n",
       "rsi14         53.12    16.48      7.65    40.80    53.20    65.67     97.16\n",
       "rsi5          53.29    26.96      0.00    32.20    54.35    74.65    100.00\n",
       "macd1226     156.80  1159.17 -12092.44  -330.76   161.17   738.21   8236.49\n",
       "signal9      162.86  1165.27 -10920.76  -334.01   160.99   718.99  11205.69\n",
       "histogram9    -6.06   384.31  -3781.92  -170.19     5.67   171.25   2567.43\n",
       "macd7205     135.43  1228.65 -14106.08  -387.64   157.79   790.80   5362.62\n",
       "signal5      136.17  1208.70 -13768.40  -375.55   155.89   770.56   4954.00\n",
       "histogram5    -0.74   313.00  -3442.09  -146.14     4.53   148.04   3172.24\n",
       "bbands      5399.63  4446.43    479.31  2969.05  4661.26  6758.18  67418.62\n",
       "           cv      skew  kurt \n",
       "close         0.49  0.23  2.70\n",
       "avg10         0.49  0.22  2.68\n",
       "avg20         0.49  0.20  2.66\n",
       "std10         0.80  5.37 62.17\n",
       "std20         0.82  6.29 72.52\n",
       "rsi14         0.31 -0.01  2.37\n",
       "rsi5          0.51 -0.10  2.07\n",
       "macd1226      7.39 -2.19 25.17\n",
       "signal9       7.16 -1.43 26.01\n",
       "histogram9  -63.38 -1.13 18.51\n",
       "macd7205      9.07 -2.92 31.60\n",
       "signal5       8.88 -2.89 31.13\n",
       "histogram5 -424.43 -0.12 16.08\n",
       "bbands        0.82  6.29 72.52"
      ]
     },
     "metadata": {},
     "output_type": "display_data"
    }
   ],
   "source": [
    "# Montagem da matriz com as medidas de estatística descritiva\n",
    "stat_data1 <- c(mean_bvsp, sd_bvsp, min_bvsp, q1_bvsp, median_bvsp, q3_bvsp, max_bvsp, cv_bvsp, skew_bvsp, kurt_bvsp)\n",
    "stat_bvsp <- matrix(stat_data1, nrow = 14, ncol = 10)\n",
    "colnames(stat_bvsp) <- c(\"media\", \"sd\", \"min\", \"q1\", \"median\", \"q3\", \"max\", \"cv\", \"skew\", \"kurt\")\n",
    "rownames(stat_bvsp) <- c(\"close\", \"avg10\", \"avg20\", \"std10\", \"std20\", \"rsi14\", \"rsi5\", \"macd1226\", \"signal9\", \"histogram9\",\n",
    "                         \"macd7205\", \"signal5\", \"histogram5\", \"bbands\")\n",
    "stat_bvsp"
   ]
  },
  {
   "cell_type": "markdown",
   "metadata": {},
   "source": [
    "## 2. Identificação e tratamento de *outliers*"
   ]
  },
  {
   "cell_type": "markdown",
   "metadata": {},
   "source": [
    "### 2.1. Identificação de *outliers*"
   ]
  },
  {
   "cell_type": "code",
   "execution_count": 24,
   "metadata": {},
   "outputs": [
    {
     "data": {
      "image/png": "[encoded data removed]",
      "text/plain": [
       "Plot with title \"std20\""
      ]
     },
     "metadata": {
      "image/png": {
       "height": 420,
       "width": 420
      }
     },
     "output_type": "display_data"
    }
   ],
   "source": [
    "par(mfrow=c(2,3))\n",
    "\n",
    "boxplot(bvspn$close, col=\"light gray\",  main=\"close\", border=\"black\", horizontal=FALSE)\n",
    "\n",
    "boxplot(bvspn$avg10, col=\"light gray\", main=\"avg10\", border=\"black\", horizontal=FALSE)\n",
    "\n",
    "boxplot(bvspn$avg20, col=\"light gray\", main=\"avg20\", border=\"black\", horizontal=FALSE)\n",
    "\n",
    "boxplot(bvspn$std10, col=\"light gray\", main=\"std10\", border=\"black\", horizontal=FALSE)\n",
    "\n",
    "boxplot(bvspn$std20, col=\"light gray\", main=\"std20\", border=\"black\", horizontal=FALSE)"
   ]
  },
  {
   "cell_type": "code",
   "execution_count": 25,
   "metadata": {},
   "outputs": [
    {
     "data": {
      "image/png": "[encoded data removed]",
      "text/plain": [
       "Plot with title \"histogram9\""
      ]
     },
     "metadata": {
      "image/png": {
       "height": 420,
       "width": 420
      }
     },
     "output_type": "display_data"
    }
   ],
   "source": [
    "par(mfrow=c(2,3))\n",
    "\n",
    "boxplot(bvspn$rsi14, col=\"light gray\", main=\"rsi14\", border=\"black\", horizontal=FALSE)\n",
    "\n",
    "boxplot(bvspn$rsi5, col=\"light gray\", main=\"rsi5\", border=\"black\", horizontal=FALSE)\n",
    "\n",
    "boxplot(bvspn$macd1226, col=\"light gray\", main=\"macd1226\", border=\"black\", horizontal=FALSE)\n",
    "\n",
    "boxplot(bvspn$signal9, col=\"light gray\",  main=\"signal9\", border=\"black\", horizontal=FALSE)\n",
    "\n",
    "boxplot(bvspn$histogram9, col=\"light gray\", main=\"histogram9\", border=\"black\", horizontal=FALSE)"
   ]
  },
  {
   "cell_type": "code",
   "execution_count": 26,
   "metadata": {},
   "outputs": [
    {
     "data": {
      "image/png": "[encoded data removed]",
      "text/plain": [
       "Plot with title \"bbands\""
      ]
     },
     "metadata": {
      "image/png": {
       "height": 420,
       "width": 420
      }
     },
     "output_type": "display_data"
    }
   ],
   "source": [
    "par(mfrow=c(2,3))\n",
    "\n",
    "boxplot(bvspn$macd0720, col=\"light gray\", main=\"macd7205\", border=\"black\", horizontal=FALSE)\n",
    "\n",
    "boxplot(bvspn$signal5, col=\"light gray\", main=\"signal5\", border=\"black\", horizontal=FALSE)\n",
    "\n",
    "boxplot(bvspn$histogram5, col=\"light gray\", main=\"histogram5\", border=\"black\", horizontal=FALSE)\n",
    "\n",
    "boxplot(bvspn$bbands, col=\"light gray\", main=\"bbands\", border=\"black\", horizontal=FALSE)"
   ]
  },
  {
   "cell_type": "markdown",
   "metadata": {},
   "source": [
    "### 2.2. Tratamento de *outliers*"
   ]
  },
  {
   "cell_type": "code",
   "execution_count": 27,
   "metadata": {},
   "outputs": [],
   "source": [
    "# Biblioteca(s) Necessária(s)\n",
    "library(outliers)"
   ]
  },
  {
   "cell_type": "code",
   "execution_count": 28,
   "metadata": {},
   "outputs": [],
   "source": [
    "# Substituição dos outliers pelas medianas dos dados\n",
    "bvspout <- rm.outlier(bvspn[,-c(1, 16, 17)], fill = TRUE, median = TRUE, opposite = FALSE)"
   ]
  },
  {
   "cell_type": "code",
   "execution_count": 29,
   "metadata": {},
   "outputs": [
    {
     "data": {
      "text/html": [
       "<table>\n",
       "<caption>A data.frame: 6 × 14</caption>\n",
       "<thead>\n",
       "\t<tr><th></th><th scope=col>close</th><th scope=col>avg10</th><th scope=col>avg20</th><th scope=col>std10</th><th scope=col>std20</th><th scope=col>rsi14</th><th scope=col>rsi5</th><th scope=col>macd1226</th><th scope=col>signal9</th><th scope=col>histogram9</th><th scope=col>macd0720</th><th scope=col>signal5</th><th scope=col>histogram5</th><th scope=col>bbands</th></tr>\n",
       "\t<tr><th></th><th scope=col>&lt;dbl&gt;</th><th scope=col>&lt;dbl&gt;</th><th scope=col>&lt;dbl&gt;</th><th scope=col>&lt;dbl&gt;</th><th scope=col>&lt;dbl&gt;</th><th scope=col>&lt;dbl&gt;</th><th scope=col>&lt;dbl&gt;</th><th scope=col>&lt;dbl&gt;</th><th scope=col>&lt;dbl&gt;</th><th scope=col>&lt;dbl&gt;</th><th scope=col>&lt;dbl&gt;</th><th scope=col>&lt;dbl&gt;</th><th scope=col>&lt;dbl&gt;</th><th scope=col>&lt;dbl&gt;</th></tr>\n",
       "</thead>\n",
       "<tbody>\n",
       "\t<tr><th scope=row>1</th><td>16937.19</td><td>16991.71</td><td>17308.54</td><td>158.7431</td><td>388.3144</td><td>32.82337</td><td>28.506228</td><td>8236.488</td><td>11205.687</td><td>-2969.198</td><td>3740.946</td><td>4636.159</td><td>-895.2139</td><td>1553.258</td></tr>\n",
       "\t<tr><th scope=row>2</th><td>16259.05</td><td>16926.12</td><td>17245.42</td><td>281.7944</td><td>449.6417</td><td>26.41297</td><td>15.792831</td><td>7588.201</td><td>10419.429</td><td>-2831.227</td><td>3263.153</td><td>4163.006</td><td>-899.8522</td><td>1798.567</td></tr>\n",
       "\t<tr><th scope=row>3</th><td>16060.76</td><td>16859.07</td><td>17171.95</td><td>391.6612</td><td>515.8437</td><td>26.12849</td><td>16.081218</td><td>6977.991</td><td> 9676.290</td><td>-2698.299</td><td>2830.555</td><td>3716.313</td><td>-885.7578</td><td>2063.375</td></tr>\n",
       "\t<tr><th scope=row>4</th><td>15910.57</td><td>16749.45</td><td>17097.89</td><td>487.4264</td><td>584.3988</td><td>25.39610</td><td> 1.967173</td><td>6408.404</td><td> 8975.794</td><td>-2567.391</td><td>2446.369</td><td>3288.032</td><td>-841.6628</td><td>2337.595</td></tr>\n",
       "\t<tr><th scope=row>5</th><td>15593.86</td><td>16627.60</td><td>16985.98</td><td>607.4741</td><td>647.3201</td><td>27.86520</td><td>55.198115</td><td>5863.851</td><td> 8310.065</td><td>-2446.214</td><td>2078.409</td><td>2871.887</td><td>-793.4771</td><td>2589.280</td></tr>\n",
       "\t<tr><th scope=row>6</th><td>15910.36</td><td>16494.31</td><td>16892.91</td><td>603.5913</td><td>662.0429</td><td>35.46813</td><td>19.068218</td><td>5395.631</td><td> 7682.896</td><td>-2287.265</td><td>1828.219</td><td>2489.341</td><td>-661.1224</td><td>2648.171</td></tr>\n",
       "</tbody>\n",
       "</table>\n"
      ],
      "text/latex": [
       "A data.frame: 6 × 14\n",
       "\\begin{tabular}{r|llllllllllllll}\n",
       "  & close & avg10 & avg20 & std10 & std20 & rsi14 & rsi5 & macd1226 & signal9 & histogram9 & macd0720 & signal5 & histogram5 & bbands\\\\\n",
       "  & <dbl> & <dbl> & <dbl> & <dbl> & <dbl> & <dbl> & <dbl> & <dbl> & <dbl> & <dbl> & <dbl> & <dbl> & <dbl> & <dbl>\\\\\n",
       "\\hline\n",
       "\t1 & 16937.19 & 16991.71 & 17308.54 & 158.7431 & 388.3144 & 32.82337 & 28.506228 & 8236.488 & 11205.687 & -2969.198 & 3740.946 & 4636.159 & -895.2139 & 1553.258\\\\\n",
       "\t2 & 16259.05 & 16926.12 & 17245.42 & 281.7944 & 449.6417 & 26.41297 & 15.792831 & 7588.201 & 10419.429 & -2831.227 & 3263.153 & 4163.006 & -899.8522 & 1798.567\\\\\n",
       "\t3 & 16060.76 & 16859.07 & 17171.95 & 391.6612 & 515.8437 & 26.12849 & 16.081218 & 6977.991 &  9676.290 & -2698.299 & 2830.555 & 3716.313 & -885.7578 & 2063.375\\\\\n",
       "\t4 & 15910.57 & 16749.45 & 17097.89 & 487.4264 & 584.3988 & 25.39610 &  1.967173 & 6408.404 &  8975.794 & -2567.391 & 2446.369 & 3288.032 & -841.6628 & 2337.595\\\\\n",
       "\t5 & 15593.86 & 16627.60 & 16985.98 & 607.4741 & 647.3201 & 27.86520 & 55.198115 & 5863.851 &  8310.065 & -2446.214 & 2078.409 & 2871.887 & -793.4771 & 2589.280\\\\\n",
       "\t6 & 15910.36 & 16494.31 & 16892.91 & 603.5913 & 662.0429 & 35.46813 & 19.068218 & 5395.631 &  7682.896 & -2287.265 & 1828.219 & 2489.341 & -661.1224 & 2648.171\\\\\n",
       "\\end{tabular}\n"
      ],
      "text/markdown": [
       "\n",
       "A data.frame: 6 × 14\n",
       "\n",
       "| <!--/--> | close &lt;dbl&gt; | avg10 &lt;dbl&gt; | avg20 &lt;dbl&gt; | std10 &lt;dbl&gt; | std20 &lt;dbl&gt; | rsi14 &lt;dbl&gt; | rsi5 &lt;dbl&gt; | macd1226 &lt;dbl&gt; | signal9 &lt;dbl&gt; | histogram9 &lt;dbl&gt; | macd0720 &lt;dbl&gt; | signal5 &lt;dbl&gt; | histogram5 &lt;dbl&gt; | bbands &lt;dbl&gt; |\n",
       "|---|---|---|---|---|---|---|---|---|---|---|---|---|---|---|\n",
       "| 1 | 16937.19 | 16991.71 | 17308.54 | 158.7431 | 388.3144 | 32.82337 | 28.506228 | 8236.488 | 11205.687 | -2969.198 | 3740.946 | 4636.159 | -895.2139 | 1553.258 |\n",
       "| 2 | 16259.05 | 16926.12 | 17245.42 | 281.7944 | 449.6417 | 26.41297 | 15.792831 | 7588.201 | 10419.429 | -2831.227 | 3263.153 | 4163.006 | -899.8522 | 1798.567 |\n",
       "| 3 | 16060.76 | 16859.07 | 17171.95 | 391.6612 | 515.8437 | 26.12849 | 16.081218 | 6977.991 |  9676.290 | -2698.299 | 2830.555 | 3716.313 | -885.7578 | 2063.375 |\n",
       "| 4 | 15910.57 | 16749.45 | 17097.89 | 487.4264 | 584.3988 | 25.39610 |  1.967173 | 6408.404 |  8975.794 | -2567.391 | 2446.369 | 3288.032 | -841.6628 | 2337.595 |\n",
       "| 5 | 15593.86 | 16627.60 | 16985.98 | 607.4741 | 647.3201 | 27.86520 | 55.198115 | 5863.851 |  8310.065 | -2446.214 | 2078.409 | 2871.887 | -793.4771 | 2589.280 |\n",
       "| 6 | 15910.36 | 16494.31 | 16892.91 | 603.5913 | 662.0429 | 35.46813 | 19.068218 | 5395.631 |  7682.896 | -2287.265 | 1828.219 | 2489.341 | -661.1224 | 2648.171 |\n",
       "\n"
      ],
      "text/plain": [
       "  close    avg10    avg20    std10    std20    rsi14    rsi5      macd1226\n",
       "1 16937.19 16991.71 17308.54 158.7431 388.3144 32.82337 28.506228 8236.488\n",
       "2 16259.05 16926.12 17245.42 281.7944 449.6417 26.41297 15.792831 7588.201\n",
       "3 16060.76 16859.07 17171.95 391.6612 515.8437 26.12849 16.081218 6977.991\n",
       "4 15910.57 16749.45 17097.89 487.4264 584.3988 25.39610  1.967173 6408.404\n",
       "5 15593.86 16627.60 16985.98 607.4741 647.3201 27.86520 55.198115 5863.851\n",
       "6 15910.36 16494.31 16892.91 603.5913 662.0429 35.46813 19.068218 5395.631\n",
       "  signal9   histogram9 macd0720 signal5  histogram5 bbands  \n",
       "1 11205.687 -2969.198  3740.946 4636.159 -895.2139  1553.258\n",
       "2 10419.429 -2831.227  3263.153 4163.006 -899.8522  1798.567\n",
       "3  9676.290 -2698.299  2830.555 3716.313 -885.7578  2063.375\n",
       "4  8975.794 -2567.391  2446.369 3288.032 -841.6628  2337.595\n",
       "5  8310.065 -2446.214  2078.409 2871.887 -793.4771  2589.280\n",
       "6  7682.896 -2287.265  1828.219 2489.341 -661.1224  2648.171"
      ]
     },
     "metadata": {},
     "output_type": "display_data"
    }
   ],
   "source": [
    "head(bvspout)"
   ]
  },
  {
   "cell_type": "code",
   "execution_count": 30,
   "metadata": {},
   "outputs": [],
   "source": [
    "bvspout <- cbind(bvspn[,1], bvspout, bvspn[,16:17])"
   ]
  },
  {
   "cell_type": "code",
   "execution_count": 31,
   "metadata": {},
   "outputs": [
    {
     "data": {
      "text/html": [
       "<table>\n",
       "<caption>A data.frame: 6 × 17</caption>\n",
       "<thead>\n",
       "\t<tr><th></th><th scope=col>data</th><th scope=col>close</th><th scope=col>avg10</th><th scope=col>avg20</th><th scope=col>std10</th><th scope=col>std20</th><th scope=col>rsi14</th><th scope=col>rsi5</th><th scope=col>macd1226</th><th scope=col>signal9</th><th scope=col>histogram9</th><th scope=col>macd0720</th><th scope=col>signal5</th><th scope=col>histogram5</th><th scope=col>bbands</th><th scope=col>direction</th><th scope=col>dirret</th></tr>\n",
       "\t<tr><th></th><th scope=col>&lt;dttm&gt;</th><th scope=col>&lt;dbl&gt;</th><th scope=col>&lt;dbl&gt;</th><th scope=col>&lt;dbl&gt;</th><th scope=col>&lt;dbl&gt;</th><th scope=col>&lt;dbl&gt;</th><th scope=col>&lt;dbl&gt;</th><th scope=col>&lt;dbl&gt;</th><th scope=col>&lt;dbl&gt;</th><th scope=col>&lt;dbl&gt;</th><th scope=col>&lt;dbl&gt;</th><th scope=col>&lt;dbl&gt;</th><th scope=col>&lt;dbl&gt;</th><th scope=col>&lt;dbl&gt;</th><th scope=col>&lt;dbl&gt;</th><th scope=col>&lt;dbl&gt;</th><th scope=col>&lt;chr&gt;</th></tr>\n",
       "</thead>\n",
       "<tbody>\n",
       "\t<tr><th scope=row>1</th><td>2001-02-15</td><td>16937.19</td><td>16991.71</td><td>17308.54</td><td>158.7431</td><td>388.3144</td><td>32.82337</td><td>28.506228</td><td>8236.488</td><td>11205.687</td><td>-2969.198</td><td>3740.946</td><td>4636.159</td><td>-895.2139</td><td>1553.258</td><td>0</td><td>nowhere</td></tr>\n",
       "\t<tr><th scope=row>2</th><td>2001-02-16</td><td>16259.05</td><td>16926.12</td><td>17245.42</td><td>281.7944</td><td>449.6417</td><td>26.41297</td><td>15.792831</td><td>7588.201</td><td>10419.429</td><td>-2831.227</td><td>3263.153</td><td>4163.006</td><td>-899.8522</td><td>1798.567</td><td>0</td><td>down   </td></tr>\n",
       "\t<tr><th scope=row>3</th><td>2001-02-19</td><td>16060.76</td><td>16859.07</td><td>17171.95</td><td>391.6612</td><td>515.8437</td><td>26.12849</td><td>16.081218</td><td>6977.991</td><td> 9676.290</td><td>-2698.299</td><td>2830.555</td><td>3716.313</td><td>-885.7578</td><td>2063.375</td><td>0</td><td>down   </td></tr>\n",
       "\t<tr><th scope=row>4</th><td>2001-02-20</td><td>15910.57</td><td>16749.45</td><td>17097.89</td><td>487.4264</td><td>584.3988</td><td>25.39610</td><td> 1.967173</td><td>6408.404</td><td> 8975.794</td><td>-2567.391</td><td>2446.369</td><td>3288.032</td><td>-841.6628</td><td>2337.595</td><td>0</td><td>down   </td></tr>\n",
       "\t<tr><th scope=row>5</th><td>2001-02-21</td><td>15593.86</td><td>16627.60</td><td>16985.98</td><td>607.4741</td><td>647.3201</td><td>27.86520</td><td>55.198115</td><td>5863.851</td><td> 8310.065</td><td>-2446.214</td><td>2078.409</td><td>2871.887</td><td>-793.4771</td><td>2589.280</td><td>0</td><td>down   </td></tr>\n",
       "\t<tr><th scope=row>6</th><td>2001-02-22</td><td>15910.36</td><td>16494.31</td><td>16892.91</td><td>603.5913</td><td>662.0429</td><td>35.46813</td><td>19.068218</td><td>5395.631</td><td> 7682.896</td><td>-2287.265</td><td>1828.219</td><td>2489.341</td><td>-661.1224</td><td>2648.171</td><td>0</td><td>down   </td></tr>\n",
       "</tbody>\n",
       "</table>\n"
      ],
      "text/latex": [
       "A data.frame: 6 × 17\n",
       "\\begin{tabular}{r|lllllllllllllllll}\n",
       "  & data & close & avg10 & avg20 & std10 & std20 & rsi14 & rsi5 & macd1226 & signal9 & histogram9 & macd0720 & signal5 & histogram5 & bbands & direction & dirret\\\\\n",
       "  & <dttm> & <dbl> & <dbl> & <dbl> & <dbl> & <dbl> & <dbl> & <dbl> & <dbl> & <dbl> & <dbl> & <dbl> & <dbl> & <dbl> & <dbl> & <dbl> & <chr>\\\\\n",
       "\\hline\n",
       "\t1 & 2001-02-15 & 16937.19 & 16991.71 & 17308.54 & 158.7431 & 388.3144 & 32.82337 & 28.506228 & 8236.488 & 11205.687 & -2969.198 & 3740.946 & 4636.159 & -895.2139 & 1553.258 & 0 & nowhere\\\\\n",
       "\t2 & 2001-02-16 & 16259.05 & 16926.12 & 17245.42 & 281.7944 & 449.6417 & 26.41297 & 15.792831 & 7588.201 & 10419.429 & -2831.227 & 3263.153 & 4163.006 & -899.8522 & 1798.567 & 0 & down   \\\\\n",
       "\t3 & 2001-02-19 & 16060.76 & 16859.07 & 17171.95 & 391.6612 & 515.8437 & 26.12849 & 16.081218 & 6977.991 &  9676.290 & -2698.299 & 2830.555 & 3716.313 & -885.7578 & 2063.375 & 0 & down   \\\\\n",
       "\t4 & 2001-02-20 & 15910.57 & 16749.45 & 17097.89 & 487.4264 & 584.3988 & 25.39610 &  1.967173 & 6408.404 &  8975.794 & -2567.391 & 2446.369 & 3288.032 & -841.6628 & 2337.595 & 0 & down   \\\\\n",
       "\t5 & 2001-02-21 & 15593.86 & 16627.60 & 16985.98 & 607.4741 & 647.3201 & 27.86520 & 55.198115 & 5863.851 &  8310.065 & -2446.214 & 2078.409 & 2871.887 & -793.4771 & 2589.280 & 0 & down   \\\\\n",
       "\t6 & 2001-02-22 & 15910.36 & 16494.31 & 16892.91 & 603.5913 & 662.0429 & 35.46813 & 19.068218 & 5395.631 &  7682.896 & -2287.265 & 1828.219 & 2489.341 & -661.1224 & 2648.171 & 0 & down   \\\\\n",
       "\\end{tabular}\n"
      ],
      "text/markdown": [
       "\n",
       "A data.frame: 6 × 17\n",
       "\n",
       "| <!--/--> | data &lt;dttm&gt; | close &lt;dbl&gt; | avg10 &lt;dbl&gt; | avg20 &lt;dbl&gt; | std10 &lt;dbl&gt; | std20 &lt;dbl&gt; | rsi14 &lt;dbl&gt; | rsi5 &lt;dbl&gt; | macd1226 &lt;dbl&gt; | signal9 &lt;dbl&gt; | histogram9 &lt;dbl&gt; | macd0720 &lt;dbl&gt; | signal5 &lt;dbl&gt; | histogram5 &lt;dbl&gt; | bbands &lt;dbl&gt; | direction &lt;dbl&gt; | dirret &lt;chr&gt; |\n",
       "|---|---|---|---|---|---|---|---|---|---|---|---|---|---|---|---|---|---|\n",
       "| 1 | 2001-02-15 | 16937.19 | 16991.71 | 17308.54 | 158.7431 | 388.3144 | 32.82337 | 28.506228 | 8236.488 | 11205.687 | -2969.198 | 3740.946 | 4636.159 | -895.2139 | 1553.258 | 0 | nowhere |\n",
       "| 2 | 2001-02-16 | 16259.05 | 16926.12 | 17245.42 | 281.7944 | 449.6417 | 26.41297 | 15.792831 | 7588.201 | 10419.429 | -2831.227 | 3263.153 | 4163.006 | -899.8522 | 1798.567 | 0 | down    |\n",
       "| 3 | 2001-02-19 | 16060.76 | 16859.07 | 17171.95 | 391.6612 | 515.8437 | 26.12849 | 16.081218 | 6977.991 |  9676.290 | -2698.299 | 2830.555 | 3716.313 | -885.7578 | 2063.375 | 0 | down    |\n",
       "| 4 | 2001-02-20 | 15910.57 | 16749.45 | 17097.89 | 487.4264 | 584.3988 | 25.39610 |  1.967173 | 6408.404 |  8975.794 | -2567.391 | 2446.369 | 3288.032 | -841.6628 | 2337.595 | 0 | down    |\n",
       "| 5 | 2001-02-21 | 15593.86 | 16627.60 | 16985.98 | 607.4741 | 647.3201 | 27.86520 | 55.198115 | 5863.851 |  8310.065 | -2446.214 | 2078.409 | 2871.887 | -793.4771 | 2589.280 | 0 | down    |\n",
       "| 6 | 2001-02-22 | 15910.36 | 16494.31 | 16892.91 | 603.5913 | 662.0429 | 35.46813 | 19.068218 | 5395.631 |  7682.896 | -2287.265 | 1828.219 | 2489.341 | -661.1224 | 2648.171 | 0 | down    |\n",
       "\n"
      ],
      "text/plain": [
       "  data       close    avg10    avg20    std10    std20    rsi14    rsi5     \n",
       "1 2001-02-15 16937.19 16991.71 17308.54 158.7431 388.3144 32.82337 28.506228\n",
       "2 2001-02-16 16259.05 16926.12 17245.42 281.7944 449.6417 26.41297 15.792831\n",
       "3 2001-02-19 16060.76 16859.07 17171.95 391.6612 515.8437 26.12849 16.081218\n",
       "4 2001-02-20 15910.57 16749.45 17097.89 487.4264 584.3988 25.39610  1.967173\n",
       "5 2001-02-21 15593.86 16627.60 16985.98 607.4741 647.3201 27.86520 55.198115\n",
       "6 2001-02-22 15910.36 16494.31 16892.91 603.5913 662.0429 35.46813 19.068218\n",
       "  macd1226 signal9   histogram9 macd0720 signal5  histogram5 bbands   direction\n",
       "1 8236.488 11205.687 -2969.198  3740.946 4636.159 -895.2139  1553.258 0        \n",
       "2 7588.201 10419.429 -2831.227  3263.153 4163.006 -899.8522  1798.567 0        \n",
       "3 6977.991  9676.290 -2698.299  2830.555 3716.313 -885.7578  2063.375 0        \n",
       "4 6408.404  8975.794 -2567.391  2446.369 3288.032 -841.6628  2337.595 0        \n",
       "5 5863.851  8310.065 -2446.214  2078.409 2871.887 -793.4771  2589.280 0        \n",
       "6 5395.631  7682.896 -2287.265  1828.219 2489.341 -661.1224  2648.171 0        \n",
       "  dirret \n",
       "1 nowhere\n",
       "2 down   \n",
       "3 down   \n",
       "4 down   \n",
       "5 down   \n",
       "6 down   "
      ]
     },
     "metadata": {},
     "output_type": "display_data"
    }
   ],
   "source": [
    "head(bvspout)"
   ]
  },
  {
   "cell_type": "markdown",
   "metadata": {},
   "source": [
    "## 3. Histogramas"
   ]
  },
  {
   "cell_type": "code",
   "execution_count": 32,
   "metadata": {},
   "outputs": [
    {
     "data": {
      "image/png": "[encoded data removed]",
      "text/plain": [
       "Plot with title \"std20\""
      ]
     },
     "metadata": {
      "image/png": {
       "height": 420,
       "width": 420
      }
     },
     "output_type": "display_data"
    }
   ],
   "source": [
    "par(mfrow=c(2,3))\n",
    "\n",
    "hist(bvspout$close, col=\"light gray\",  main=\"close\", border=\"black\")\n",
    "\n",
    "hist(bvspout$avg10, col=\"light gray\", main=\"avg10\", border=\"black\")\n",
    "\n",
    "hist(bvspout$avg20, col=\"light gray\", main=\"avg20\", border=\"black\")\n",
    "\n",
    "hist(bvspout$std10, col=\"light gray\", main=\"std10\", border=\"black\")\n",
    "\n",
    "hist(bvspout$std20, col=\"light gray\", main=\"std20\", border=\"black\")"
   ]
  },
  {
   "cell_type": "code",
   "execution_count": 33,
   "metadata": {},
   "outputs": [
    {
     "data": {
      "image/png": "[encoded data removed]",
      "text/plain": [
       "Plot with title \"histogram9\""
      ]
     },
     "metadata": {
      "image/png": {
       "height": 420,
       "width": 420
      }
     },
     "output_type": "display_data"
    }
   ],
   "source": [
    "par(mfrow=c(2,3))\n",
    "\n",
    "hist(bvspout$rsi14, col=\"light gray\", main=\"rsi14\", border=\"black\")\n",
    "\n",
    "hist(bvspout$rsi5, col=\"light gray\", main=\"rsi5\", border=\"black\")\n",
    "\n",
    "hist(bvspout$macd1226, col=\"light gray\", main=\"macd1226\", border=\"black\")\n",
    "\n",
    "hist(bvspout$signal9, col=\"light gray\",  main=\"signal9\", border=\"black\")\n",
    "\n",
    "hist(bvspout$histogram9, col=\"light gray\", main=\"histogram9\", border=\"black\")"
   ]
  },
  {
   "cell_type": "code",
   "execution_count": 34,
   "metadata": {},
   "outputs": [
    {
     "data": {
      "image/png": "[encoded data removed]",
      "text/plain": [
       "Plot with title \"bbands\""
      ]
     },
     "metadata": {
      "image/png": {
       "height": 420,
       "width": 420
      }
     },
     "output_type": "display_data"
    }
   ],
   "source": [
    "par(mfrow=c(2,3))\n",
    "\n",
    "hist(bvspout$macd0720, col=\"light gray\", main=\"macd0720\", border=\"black\")\n",
    "\n",
    "hist(bvspout$signal5, col=\"light gray\", main=\"signal5\", border=\"black\")\n",
    "\n",
    "hist(bvspout$histogram5, col=\"light gray\", main=\"histogram5\", border=\"black\")\n",
    "\n",
    "hist(bvspout$bbands, col=\"light gray\", main=\"bbands\", border=\"black\")"
   ]
  },
  {
   "cell_type": "markdown",
   "metadata": {},
   "source": [
    "## 4. Densidades"
   ]
  },
  {
   "cell_type": "code",
   "execution_count": 35,
   "metadata": {},
   "outputs": [
    {
     "data": {
      "image/png": "[encoded data removed]",
      "text/plain": [
       "Plot with title \"std20\""
      ]
     },
     "metadata": {
      "image/png": {
       "height": 420,
       "width": 420
      }
     },
     "output_type": "display_data"
    }
   ],
   "source": [
    "par(mfrow=c(2,3))\n",
    "\n",
    "den1 <- density(bvspout$close)\n",
    "plot(den1, main = \"close\")\n",
    "\n",
    "den2 <- density(bvspout$avg10)\n",
    "plot(den2, main = \"avg10\")\n",
    "\n",
    "den3 <- density(bvspout$avg20)\n",
    "plot(den3, main = \"avg20\")\n",
    "\n",
    "den4 <- density(bvspout$std10)\n",
    "plot(den4, main = \"std10\")\n",
    "\n",
    "den5 <- density(bvspout$std20)\n",
    "plot(den5, main = \"std20\")"
   ]
  },
  {
   "cell_type": "code",
   "execution_count": 36,
   "metadata": {},
   "outputs": [
    {
     "data": {
      "image/png": "[encoded data removed]",
      "text/plain": [
       "Plot with title \"histogram9\""
      ]
     },
     "metadata": {
      "image/png": {
       "height": 420,
       "width": 420
      }
     },
     "output_type": "display_data"
    }
   ],
   "source": [
    "par(mfrow=c(2,3))\n",
    "\n",
    "den6 <- density(bvspout$rsi14)\n",
    "plot(den6, main = \"rsi14\")\n",
    "\n",
    "den7 <- density(bvspout$rsi5)\n",
    "plot(den7, main = \"rsi5\")\n",
    "\n",
    "den8 <- density(bvspout$macd1226)\n",
    "plot(den8, main = \"macd1226\")\n",
    "\n",
    "den9 <- density(bvspout$signal9)\n",
    "plot(den9, main = \"signal9\")\n",
    "\n",
    "den10 <- density(bvspout$histogram9)\n",
    "plot(den10, main = \"histogram9\")"
   ]
  },
  {
   "cell_type": "code",
   "execution_count": 37,
   "metadata": {},
   "outputs": [
    {
     "data": {
      "image/png": "[encoded data removed]",
      "text/plain": [
       "Plot with title \"bbands\""
      ]
     },
     "metadata": {
      "image/png": {
       "height": 420,
       "width": 420
      }
     },
     "output_type": "display_data"
    }
   ],
   "source": [
    "par(mfrow=c(2,3))\n",
    "\n",
    "den11 <- density(bvspout$macd0720)\n",
    "plot(den11, main = \"macd0720\")\n",
    "\n",
    "den12 <- density(bvspout$signal5)\n",
    "plot(den12, main = \"signal5\")\n",
    "\n",
    "den13 <- density(bvspout$histogram5)\n",
    "plot(den13, main = \"histogram5\")\n",
    "\n",
    "den14 <- density(bvspout$bbands)\n",
    "plot(den14, main = \"bbands\")"
   ]
  },
  {
   "cell_type": "markdown",
   "metadata": {},
   "source": [
    "## 5. Correlação"
   ]
  },
  {
   "cell_type": "code",
   "execution_count": 38,
   "metadata": {},
   "outputs": [
    {
     "name": "stderr",
     "output_type": "stream",
     "text": [
      "corrplot 0.84 loaded\n",
      "\n"
     ]
    }
   ],
   "source": [
    "# Biblioteca(s) Necessária(s)\n",
    "library(corrplot)"
   ]
  },
  {
   "cell_type": "code",
   "execution_count": 39,
   "metadata": {},
   "outputs": [
    {
     "data": {
      "text/html": [
       "<table>\n",
       "<caption>A matrix: 14 × 14 of type dbl</caption>\n",
       "<thead>\n",
       "\t<tr><th></th><th scope=col>close</th><th scope=col>avg10</th><th scope=col>avg20</th><th scope=col>std10</th><th scope=col>std20</th><th scope=col>rsi14</th><th scope=col>rsi5</th><th scope=col>macd1226</th><th scope=col>signal9</th><th scope=col>histogram9</th><th scope=col>macd0720</th><th scope=col>signal5</th><th scope=col>histogram5</th><th scope=col>bbands</th></tr>\n",
       "</thead>\n",
       "<tbody>\n",
       "\t<tr><th scope=row>close</th><td>1.00</td><td> 1.00</td><td> 0.99</td><td> 0.47</td><td> 0.46</td><td> 0.09</td><td>0.05</td><td> 0.15</td><td> 0.14</td><td> 0.04</td><td> 0.15</td><td> 0.15</td><td> 0.01</td><td> 0.46</td></tr>\n",
       "\t<tr><th scope=row>avg10</th><td>1.00</td><td> 1.00</td><td> 1.00</td><td> 0.48</td><td> 0.47</td><td> 0.06</td><td>0.01</td><td> 0.12</td><td> 0.12</td><td>-0.01</td><td> 0.11</td><td> 0.12</td><td>-0.04</td><td> 0.47</td></tr>\n",
       "\t<tr><th scope=row>avg20</th><td>0.99</td><td> 1.00</td><td> 1.00</td><td> 0.50</td><td> 0.49</td><td> 0.03</td><td>0.00</td><td> 0.08</td><td> 0.09</td><td>-0.03</td><td> 0.07</td><td> 0.08</td><td>-0.04</td><td> 0.49</td></tr>\n",
       "\t<tr><th scope=row>std10</th><td>0.47</td><td> 0.48</td><td> 0.50</td><td> 1.00</td><td> 0.81</td><td>-0.09</td><td>0.00</td><td>-0.33</td><td>-0.30</td><td>-0.13</td><td>-0.34</td><td>-0.34</td><td>-0.01</td><td> 0.81</td></tr>\n",
       "\t<tr><th scope=row>std20</th><td>0.46</td><td> 0.47</td><td> 0.49</td><td> 0.81</td><td> 1.00</td><td> 0.00</td><td>0.00</td><td>-0.36</td><td>-0.32</td><td>-0.02</td><td>-0.34</td><td>-0.32</td><td> 0.06</td><td> 1.00</td></tr>\n",
       "\t<tr><th scope=row>rsi14</th><td>0.09</td><td> 0.06</td><td> 0.03</td><td>-0.09</td><td> 0.00</td><td> 1.00</td><td>0.58</td><td> 0.55</td><td> 0.37</td><td> 0.54</td><td> 0.68</td><td> 0.61</td><td> 0.32</td><td> 0.00</td></tr>\n",
       "\t<tr><th scope=row>rsi5</th><td>0.05</td><td> 0.01</td><td> 0.00</td><td> 0.00</td><td> 0.00</td><td> 0.58</td><td>1.00</td><td> 0.24</td><td> 0.07</td><td> 0.51</td><td> 0.38</td><td> 0.21</td><td> 0.66</td><td> 0.00</td></tr>\n",
       "\t<tr><th scope=row>macd1226</th><td>0.15</td><td> 0.12</td><td> 0.08</td><td>-0.33</td><td>-0.36</td><td> 0.55</td><td>0.24</td><td> 1.00</td><td> 0.93</td><td> 0.12</td><td> 0.94</td><td> 0.95</td><td>-0.06</td><td>-0.36</td></tr>\n",
       "\t<tr><th scope=row>signal9</th><td>0.14</td><td> 0.12</td><td> 0.09</td><td>-0.30</td><td>-0.32</td><td> 0.37</td><td>0.07</td><td> 0.93</td><td> 1.00</td><td>-0.19</td><td> 0.77</td><td> 0.86</td><td>-0.29</td><td>-0.32</td></tr>\n",
       "\t<tr><th scope=row>histogram9</th><td>0.04</td><td>-0.01</td><td>-0.03</td><td>-0.13</td><td>-0.02</td><td> 0.54</td><td>0.51</td><td> 0.12</td><td>-0.19</td><td> 1.00</td><td> 0.44</td><td> 0.25</td><td> 0.73</td><td>-0.02</td></tr>\n",
       "\t<tr><th scope=row>macd0720</th><td>0.15</td><td> 0.11</td><td> 0.07</td><td>-0.34</td><td>-0.34</td><td> 0.68</td><td>0.38</td><td> 0.94</td><td> 0.77</td><td> 0.44</td><td> 1.00</td><td> 0.94</td><td> 0.17</td><td>-0.34</td></tr>\n",
       "\t<tr><th scope=row>signal5</th><td>0.15</td><td> 0.12</td><td> 0.08</td><td>-0.34</td><td>-0.32</td><td> 0.61</td><td>0.21</td><td> 0.95</td><td> 0.86</td><td> 0.25</td><td> 0.94</td><td> 1.00</td><td>-0.08</td><td>-0.32</td></tr>\n",
       "\t<tr><th scope=row>histogram5</th><td>0.01</td><td>-0.04</td><td>-0.04</td><td>-0.01</td><td> 0.06</td><td> 0.32</td><td>0.66</td><td>-0.06</td><td>-0.29</td><td> 0.73</td><td> 0.17</td><td>-0.08</td><td> 1.00</td><td> 0.06</td></tr>\n",
       "\t<tr><th scope=row>bbands</th><td>0.46</td><td> 0.47</td><td> 0.49</td><td> 0.81</td><td> 1.00</td><td> 0.00</td><td>0.00</td><td>-0.36</td><td>-0.32</td><td>-0.02</td><td>-0.34</td><td>-0.32</td><td> 0.06</td><td> 1.00</td></tr>\n",
       "</tbody>\n",
       "</table>\n"
      ],
      "text/latex": [
       "A matrix: 14 × 14 of type dbl\n",
       "\\begin{tabular}{r|llllllllllllll}\n",
       "  & close & avg10 & avg20 & std10 & std20 & rsi14 & rsi5 & macd1226 & signal9 & histogram9 & macd0720 & signal5 & histogram5 & bbands\\\\\n",
       "\\hline\n",
       "\tclose & 1.00 &  1.00 &  0.99 &  0.47 &  0.46 &  0.09 & 0.05 &  0.15 &  0.14 &  0.04 &  0.15 &  0.15 &  0.01 &  0.46\\\\\n",
       "\tavg10 & 1.00 &  1.00 &  1.00 &  0.48 &  0.47 &  0.06 & 0.01 &  0.12 &  0.12 & -0.01 &  0.11 &  0.12 & -0.04 &  0.47\\\\\n",
       "\tavg20 & 0.99 &  1.00 &  1.00 &  0.50 &  0.49 &  0.03 & 0.00 &  0.08 &  0.09 & -0.03 &  0.07 &  0.08 & -0.04 &  0.49\\\\\n",
       "\tstd10 & 0.47 &  0.48 &  0.50 &  1.00 &  0.81 & -0.09 & 0.00 & -0.33 & -0.30 & -0.13 & -0.34 & -0.34 & -0.01 &  0.81\\\\\n",
       "\tstd20 & 0.46 &  0.47 &  0.49 &  0.81 &  1.00 &  0.00 & 0.00 & -0.36 & -0.32 & -0.02 & -0.34 & -0.32 &  0.06 &  1.00\\\\\n",
       "\trsi14 & 0.09 &  0.06 &  0.03 & -0.09 &  0.00 &  1.00 & 0.58 &  0.55 &  0.37 &  0.54 &  0.68 &  0.61 &  0.32 &  0.00\\\\\n",
       "\trsi5 & 0.05 &  0.01 &  0.00 &  0.00 &  0.00 &  0.58 & 1.00 &  0.24 &  0.07 &  0.51 &  0.38 &  0.21 &  0.66 &  0.00\\\\\n",
       "\tmacd1226 & 0.15 &  0.12 &  0.08 & -0.33 & -0.36 &  0.55 & 0.24 &  1.00 &  0.93 &  0.12 &  0.94 &  0.95 & -0.06 & -0.36\\\\\n",
       "\tsignal9 & 0.14 &  0.12 &  0.09 & -0.30 & -0.32 &  0.37 & 0.07 &  0.93 &  1.00 & -0.19 &  0.77 &  0.86 & -0.29 & -0.32\\\\\n",
       "\thistogram9 & 0.04 & -0.01 & -0.03 & -0.13 & -0.02 &  0.54 & 0.51 &  0.12 & -0.19 &  1.00 &  0.44 &  0.25 &  0.73 & -0.02\\\\\n",
       "\tmacd0720 & 0.15 &  0.11 &  0.07 & -0.34 & -0.34 &  0.68 & 0.38 &  0.94 &  0.77 &  0.44 &  1.00 &  0.94 &  0.17 & -0.34\\\\\n",
       "\tsignal5 & 0.15 &  0.12 &  0.08 & -0.34 & -0.32 &  0.61 & 0.21 &  0.95 &  0.86 &  0.25 &  0.94 &  1.00 & -0.08 & -0.32\\\\\n",
       "\thistogram5 & 0.01 & -0.04 & -0.04 & -0.01 &  0.06 &  0.32 & 0.66 & -0.06 & -0.29 &  0.73 &  0.17 & -0.08 &  1.00 &  0.06\\\\\n",
       "\tbbands & 0.46 &  0.47 &  0.49 &  0.81 &  1.00 &  0.00 & 0.00 & -0.36 & -0.32 & -0.02 & -0.34 & -0.32 &  0.06 &  1.00\\\\\n",
       "\\end{tabular}\n"
      ],
      "text/markdown": [
       "\n",
       "A matrix: 14 × 14 of type dbl\n",
       "\n",
       "| <!--/--> | close | avg10 | avg20 | std10 | std20 | rsi14 | rsi5 | macd1226 | signal9 | histogram9 | macd0720 | signal5 | histogram5 | bbands |\n",
       "|---|---|---|---|---|---|---|---|---|---|---|---|---|---|---|\n",
       "| close | 1.00 |  1.00 |  0.99 |  0.47 |  0.46 |  0.09 | 0.05 |  0.15 |  0.14 |  0.04 |  0.15 |  0.15 |  0.01 |  0.46 |\n",
       "| avg10 | 1.00 |  1.00 |  1.00 |  0.48 |  0.47 |  0.06 | 0.01 |  0.12 |  0.12 | -0.01 |  0.11 |  0.12 | -0.04 |  0.47 |\n",
       "| avg20 | 0.99 |  1.00 |  1.00 |  0.50 |  0.49 |  0.03 | 0.00 |  0.08 |  0.09 | -0.03 |  0.07 |  0.08 | -0.04 |  0.49 |\n",
       "| std10 | 0.47 |  0.48 |  0.50 |  1.00 |  0.81 | -0.09 | 0.00 | -0.33 | -0.30 | -0.13 | -0.34 | -0.34 | -0.01 |  0.81 |\n",
       "| std20 | 0.46 |  0.47 |  0.49 |  0.81 |  1.00 |  0.00 | 0.00 | -0.36 | -0.32 | -0.02 | -0.34 | -0.32 |  0.06 |  1.00 |\n",
       "| rsi14 | 0.09 |  0.06 |  0.03 | -0.09 |  0.00 |  1.00 | 0.58 |  0.55 |  0.37 |  0.54 |  0.68 |  0.61 |  0.32 |  0.00 |\n",
       "| rsi5 | 0.05 |  0.01 |  0.00 |  0.00 |  0.00 |  0.58 | 1.00 |  0.24 |  0.07 |  0.51 |  0.38 |  0.21 |  0.66 |  0.00 |\n",
       "| macd1226 | 0.15 |  0.12 |  0.08 | -0.33 | -0.36 |  0.55 | 0.24 |  1.00 |  0.93 |  0.12 |  0.94 |  0.95 | -0.06 | -0.36 |\n",
       "| signal9 | 0.14 |  0.12 |  0.09 | -0.30 | -0.32 |  0.37 | 0.07 |  0.93 |  1.00 | -0.19 |  0.77 |  0.86 | -0.29 | -0.32 |\n",
       "| histogram9 | 0.04 | -0.01 | -0.03 | -0.13 | -0.02 |  0.54 | 0.51 |  0.12 | -0.19 |  1.00 |  0.44 |  0.25 |  0.73 | -0.02 |\n",
       "| macd0720 | 0.15 |  0.11 |  0.07 | -0.34 | -0.34 |  0.68 | 0.38 |  0.94 |  0.77 |  0.44 |  1.00 |  0.94 |  0.17 | -0.34 |\n",
       "| signal5 | 0.15 |  0.12 |  0.08 | -0.34 | -0.32 |  0.61 | 0.21 |  0.95 |  0.86 |  0.25 |  0.94 |  1.00 | -0.08 | -0.32 |\n",
       "| histogram5 | 0.01 | -0.04 | -0.04 | -0.01 |  0.06 |  0.32 | 0.66 | -0.06 | -0.29 |  0.73 |  0.17 | -0.08 |  1.00 |  0.06 |\n",
       "| bbands | 0.46 |  0.47 |  0.49 |  0.81 |  1.00 |  0.00 | 0.00 | -0.36 | -0.32 | -0.02 | -0.34 | -0.32 |  0.06 |  1.00 |\n",
       "\n"
      ],
      "text/plain": [
       "           close avg10 avg20 std10 std20 rsi14 rsi5 macd1226 signal9 histogram9\n",
       "close      1.00   1.00  0.99  0.47  0.46  0.09 0.05  0.15     0.14    0.04     \n",
       "avg10      1.00   1.00  1.00  0.48  0.47  0.06 0.01  0.12     0.12   -0.01     \n",
       "avg20      0.99   1.00  1.00  0.50  0.49  0.03 0.00  0.08     0.09   -0.03     \n",
       "std10      0.47   0.48  0.50  1.00  0.81 -0.09 0.00 -0.33    -0.30   -0.13     \n",
       "std20      0.46   0.47  0.49  0.81  1.00  0.00 0.00 -0.36    -0.32   -0.02     \n",
       "rsi14      0.09   0.06  0.03 -0.09  0.00  1.00 0.58  0.55     0.37    0.54     \n",
       "rsi5       0.05   0.01  0.00  0.00  0.00  0.58 1.00  0.24     0.07    0.51     \n",
       "macd1226   0.15   0.12  0.08 -0.33 -0.36  0.55 0.24  1.00     0.93    0.12     \n",
       "signal9    0.14   0.12  0.09 -0.30 -0.32  0.37 0.07  0.93     1.00   -0.19     \n",
       "histogram9 0.04  -0.01 -0.03 -0.13 -0.02  0.54 0.51  0.12    -0.19    1.00     \n",
       "macd0720   0.15   0.11  0.07 -0.34 -0.34  0.68 0.38  0.94     0.77    0.44     \n",
       "signal5    0.15   0.12  0.08 -0.34 -0.32  0.61 0.21  0.95     0.86    0.25     \n",
       "histogram5 0.01  -0.04 -0.04 -0.01  0.06  0.32 0.66 -0.06    -0.29    0.73     \n",
       "bbands     0.46   0.47  0.49  0.81  1.00  0.00 0.00 -0.36    -0.32   -0.02     \n",
       "           macd0720 signal5 histogram5 bbands\n",
       "close       0.15     0.15    0.01       0.46 \n",
       "avg10       0.11     0.12   -0.04       0.47 \n",
       "avg20       0.07     0.08   -0.04       0.49 \n",
       "std10      -0.34    -0.34   -0.01       0.81 \n",
       "std20      -0.34    -0.32    0.06       1.00 \n",
       "rsi14       0.68     0.61    0.32       0.00 \n",
       "rsi5        0.38     0.21    0.66       0.00 \n",
       "macd1226    0.94     0.95   -0.06      -0.36 \n",
       "signal9     0.77     0.86   -0.29      -0.32 \n",
       "histogram9  0.44     0.25    0.73      -0.02 \n",
       "macd0720    1.00     0.94    0.17      -0.34 \n",
       "signal5     0.94     1.00   -0.08      -0.32 \n",
       "histogram5  0.17    -0.08    1.00       0.06 \n",
       "bbands     -0.34    -0.32    0.06       1.00 "
      ]
     },
     "metadata": {},
     "output_type": "display_data"
    }
   ],
   "source": [
    "# Cálculo das correlações entre os atributos numéricos\n",
    "df <- bvspout[,c(2:15)]\n",
    "\n",
    "round(cor(df), digits = 2)"
   ]
  },
  {
   "cell_type": "code",
   "execution_count": 40,
   "metadata": {},
   "outputs": [
    {
     "data": {
      "image/png": "[encoded data removed]",
      "text/plain": [
       "Plot with title \"\""
      ]
     },
     "metadata": {
      "image/png": {
       "height": 420,
       "width": 420
      }
     },
     "output_type": "display_data"
    }
   ],
   "source": [
    "# Matriz de correlação\n",
    "corrplot(cor(df), method = \"circle\", tl.col=\"black\", tl.cex=0.8, tl.srt=90)"
   ]
  },
  {
   "cell_type": "code",
   "execution_count": 41,
   "metadata": {},
   "outputs": [
    {
     "data": {
      "image/png": "[encoded data removed]",
      "text/plain": [
       "Plot with title \"\""
      ]
     },
     "metadata": {
      "image/png": {
       "height": 420,
       "width": 420
      }
     },
     "output_type": "display_data"
    }
   ],
   "source": [
    "corrplot(cor(df), method = \"color\", tl.col=\"black\", tl.cex=0.8, tl.srt=90)"
   ]
  },
  {
   "cell_type": "markdown",
   "metadata": {},
   "source": [
    "## 6. QQ Plot"
   ]
  },
  {
   "cell_type": "code",
   "execution_count": 42,
   "metadata": {},
   "outputs": [
    {
     "data": {
      "image/png": "[encoded data removed]",
      "text/plain": [
       "Plot with title \"std20\""
      ]
     },
     "metadata": {
      "image/png": {
       "height": 420,
       "width": 420
      }
     },
     "output_type": "display_data"
    }
   ],
   "source": [
    "par(mfrow=c(2,3))\n",
    "\n",
    "qqnorm(bvspout$close, main = \"close\", xlab = \"Quantis teóricos N(0,1)\", pch = 20)\n",
    "qqline(bvspout$close, lty = 1, col = \"red\")\n",
    "\n",
    "qqnorm(bvspout$avg10, main = \"avg10\", xlab = \"Quantis teóricos N(0,1)\", pch = 20)\n",
    "qqline(bvspout$avg10, lty = 1, col = \"red\")\n",
    "\n",
    "qqnorm(bvspout$avg20, main = \"avg20\", xlab = \"Quantis teóricos N(0,1)\", pch = 20)\n",
    "qqline(bvspout$avg20, lty = 1, col = \"red\")\n",
    "\n",
    "qqnorm(bvspout$std10, main = \"std10\", xlab = \"Quantis teóricos N(0,1)\", pch = 20)\n",
    "qqline(bvspout$std10, lty = 1, col = \"red\")\n",
    "\n",
    "qqnorm(bvspout$std20, main = \"std20\", xlab = \"Quantis teóricos N(0,1)\", pch = 20)\n",
    "qqline(bvspout$std20, lty = 1, col = \"red\")"
   ]
  },
  {
   "cell_type": "code",
   "execution_count": 43,
   "metadata": {},
   "outputs": [
    {
     "data": {
      "image/png": "[encoded data removed]",
      "text/plain": [
       "Plot with title \"histogram9\""
      ]
     },
     "metadata": {
      "image/png": {
       "height": 420,
       "width": 420
      }
     },
     "output_type": "display_data"
    }
   ],
   "source": [
    "par(mfrow=c(2,3))\n",
    "\n",
    "qqnorm(bvspout$rsi14, main = \"rsi14\", xlab = \"Quantis teóricos N(0,1)\", pch = 20)\n",
    "qqline(bvspout$rsi14, lty = 1, col = \"red\")\n",
    "\n",
    "qqnorm(bvspout$rsi5, main = \"rsi5\", xlab = \"Quantis teóricos N(0,1)\", pch = 20)\n",
    "qqline(bvspout$rsi5, lty = 1, col = \"red\")\n",
    "\n",
    "qqnorm(bvspout$macd1226, main = \"macd1226\", xlab = \"Quantis teóricos N(0,1)\", pch = 20)\n",
    "qqline(bvspout$macd1226, lty = 1, col = \"red\")\n",
    "\n",
    "qqnorm(bvspout$signal9, main = \"signal9\", xlab = \"Quantis teóricos N(0,1)\", pch = 20)\n",
    "qqline(bvspout$signal9, lty = 1, col = \"red\")\n",
    "\n",
    "qqnorm(bvspout$histogram9, main = \"histogram9\", xlab = \"Quantis teóricos N(0,1)\", pch = 20)\n",
    "qqline(bvspout$histogram9, lty = 1, col = \"red\")"
   ]
  },
  {
   "cell_type": "code",
   "execution_count": 44,
   "metadata": {},
   "outputs": [
    {
     "data": {
      "image/png": "[encoded data removed]",
      "text/plain": [
       "Plot with title \"bbands\""
      ]
     },
     "metadata": {
      "image/png": {
       "height": 420,
       "width": 420
      }
     },
     "output_type": "display_data"
    }
   ],
   "source": [
    "par(mfrow=c(2,3))\n",
    "\n",
    "qqnorm(bvspout$macd0720, main = \"macd0720\", xlab = \"Quantis teóricos N(0,1)\", pch = 20)\n",
    "qqline(bvspout$macd0720, lty = 1, col = \"red\")\n",
    "\n",
    "qqnorm(bvspout$signal5, main = \"signal5\", xlab = \"Quantis teóricos N(0,1)\", pch = 20)\n",
    "qqline(bvspout$signal5, lty = 1, col = \"red\")\n",
    "\n",
    "qqnorm(bvspout$histogram5, main = \"histogram5\", xlab = \"Quantis teóricos N(0,1)\", pch = 20)\n",
    "qqline(bvspout$histogram5, lty = 1, col = \"red\")\n",
    "\n",
    "qqnorm(bvspout$bbands, main = \"bbands\", xlab = \"Quantis teóricos N(0,1)\", pch = 20)\n",
    "qqline(bvspout$bbands, lty = 1, col = \"red\")"
   ]
  },
  {
   "cell_type": "markdown",
   "metadata": {},
   "source": [
    "# Etapa 6: Preprocessamento dos Dados"
   ]
  },
  {
   "cell_type": "markdown",
   "metadata": {},
   "source": [
    "## 1. Normalização - Método Min-Max"
   ]
  },
  {
   "cell_type": "code",
   "execution_count": 45,
   "metadata": {},
   "outputs": [],
   "source": [
    "# Função para normalização dos dados\n",
    "normalize_minmax = function(x) {\n",
    "    return ((x - min(x)) / (max(x) - min(x)))\n",
    "}"
   ]
  },
  {
   "cell_type": "code",
   "execution_count": 46,
   "metadata": {},
   "outputs": [
    {
     "data": {
      "text/html": [
       "<table>\n",
       "<caption>A data.frame: 6 × 14</caption>\n",
       "<thead>\n",
       "\t<tr><th></th><th scope=col>close</th><th scope=col>avg10</th><th scope=col>avg20</th><th scope=col>std10</th><th scope=col>std20</th><th scope=col>rsi14</th><th scope=col>rsi5</th><th scope=col>macd1226</th><th scope=col>signal9</th><th scope=col>histogram9</th><th scope=col>macd0720</th><th scope=col>signal5</th><th scope=col>histogram5</th><th scope=col>bbands</th></tr>\n",
       "\t<tr><th></th><th scope=col>&lt;dbl&gt;</th><th scope=col>&lt;dbl&gt;</th><th scope=col>&lt;dbl&gt;</th><th scope=col>&lt;dbl&gt;</th><th scope=col>&lt;dbl&gt;</th><th scope=col>&lt;dbl&gt;</th><th scope=col>&lt;dbl&gt;</th><th scope=col>&lt;dbl&gt;</th><th scope=col>&lt;dbl&gt;</th><th scope=col>&lt;dbl&gt;</th><th scope=col>&lt;dbl&gt;</th><th scope=col>&lt;dbl&gt;</th><th scope=col>&lt;dbl&gt;</th><th scope=col>&lt;dbl&gt;</th></tr>\n",
       "</thead>\n",
       "<tbody>\n",
       "\t<tr><th scope=row>1</th><td>0.2318566</td><td>0.2322653</td><td>0.2346402</td><td>0.1060831</td><td>0.1078040</td><td>0.1051392</td><td>0.1051068</td><td>0.1666350</td><td>0.1888925</td><td>0.08263564</td><td>0.1329358</td><td>0.1396464</td><td>0.09818250</td><td>0.1165366</td></tr>\n",
       "\t<tr><th scope=row>2</th><td>0.2267731</td><td>0.2317736</td><td>0.2341671</td><td>0.1070055</td><td>0.1082637</td><td>0.1050911</td><td>0.1050115</td><td>0.1617753</td><td>0.1829986</td><td>0.08366988</td><td>0.1293542</td><td>0.1360996</td><td>0.09814773</td><td>0.1183754</td></tr>\n",
       "\t<tr><th scope=row>3</th><td>0.2252867</td><td>0.2312710</td><td>0.2336164</td><td>0.1078291</td><td>0.1087600</td><td>0.1050890</td><td>0.1050137</td><td>0.1572011</td><td>0.1774279</td><td>0.08466633</td><td>0.1261114</td><td>0.1327511</td><td>0.09825338</td><td>0.1203605</td></tr>\n",
       "\t<tr><th scope=row>4</th><td>0.2241609</td><td>0.2304493</td><td>0.2330612</td><td>0.1085470</td><td>0.1092739</td><td>0.1050835</td><td>0.1049079</td><td>0.1529314</td><td>0.1721769</td><td>0.08564764</td><td>0.1232314</td><td>0.1295407</td><td>0.09858392</td><td>0.1224161</td></tr>\n",
       "\t<tr><th scope=row>5</th><td>0.2217868</td><td>0.2295359</td><td>0.2322223</td><td>0.1094468</td><td>0.1097455</td><td>0.1051020</td><td>0.1053069</td><td>0.1488493</td><td>0.1671865</td><td>0.08655600</td><td>0.1204732</td><td>0.1264212</td><td>0.09894513</td><td>0.1243027</td></tr>\n",
       "\t<tr><th scope=row>6</th><td>0.2241593</td><td>0.2285367</td><td>0.2315246</td><td>0.1094177</td><td>0.1098559</td><td>0.1051590</td><td>0.1050361</td><td>0.1453395</td><td>0.1624851</td><td>0.08774750</td><td>0.1185977</td><td>0.1235536</td><td>0.09993728</td><td>0.1247442</td></tr>\n",
       "</tbody>\n",
       "</table>\n"
      ],
      "text/latex": [
       "A data.frame: 6 × 14\n",
       "\\begin{tabular}{r|llllllllllllll}\n",
       "  & close & avg10 & avg20 & std10 & std20 & rsi14 & rsi5 & macd1226 & signal9 & histogram9 & macd0720 & signal5 & histogram5 & bbands\\\\\n",
       "  & <dbl> & <dbl> & <dbl> & <dbl> & <dbl> & <dbl> & <dbl> & <dbl> & <dbl> & <dbl> & <dbl> & <dbl> & <dbl> & <dbl>\\\\\n",
       "\\hline\n",
       "\t1 & 0.2318566 & 0.2322653 & 0.2346402 & 0.1060831 & 0.1078040 & 0.1051392 & 0.1051068 & 0.1666350 & 0.1888925 & 0.08263564 & 0.1329358 & 0.1396464 & 0.09818250 & 0.1165366\\\\\n",
       "\t2 & 0.2267731 & 0.2317736 & 0.2341671 & 0.1070055 & 0.1082637 & 0.1050911 & 0.1050115 & 0.1617753 & 0.1829986 & 0.08366988 & 0.1293542 & 0.1360996 & 0.09814773 & 0.1183754\\\\\n",
       "\t3 & 0.2252867 & 0.2312710 & 0.2336164 & 0.1078291 & 0.1087600 & 0.1050890 & 0.1050137 & 0.1572011 & 0.1774279 & 0.08466633 & 0.1261114 & 0.1327511 & 0.09825338 & 0.1203605\\\\\n",
       "\t4 & 0.2241609 & 0.2304493 & 0.2330612 & 0.1085470 & 0.1092739 & 0.1050835 & 0.1049079 & 0.1529314 & 0.1721769 & 0.08564764 & 0.1232314 & 0.1295407 & 0.09858392 & 0.1224161\\\\\n",
       "\t5 & 0.2217868 & 0.2295359 & 0.2322223 & 0.1094468 & 0.1097455 & 0.1051020 & 0.1053069 & 0.1488493 & 0.1671865 & 0.08655600 & 0.1204732 & 0.1264212 & 0.09894513 & 0.1243027\\\\\n",
       "\t6 & 0.2241593 & 0.2285367 & 0.2315246 & 0.1094177 & 0.1098559 & 0.1051590 & 0.1050361 & 0.1453395 & 0.1624851 & 0.08774750 & 0.1185977 & 0.1235536 & 0.09993728 & 0.1247442\\\\\n",
       "\\end{tabular}\n"
      ],
      "text/markdown": [
       "\n",
       "A data.frame: 6 × 14\n",
       "\n",
       "| <!--/--> | close &lt;dbl&gt; | avg10 &lt;dbl&gt; | avg20 &lt;dbl&gt; | std10 &lt;dbl&gt; | std20 &lt;dbl&gt; | rsi14 &lt;dbl&gt; | rsi5 &lt;dbl&gt; | macd1226 &lt;dbl&gt; | signal9 &lt;dbl&gt; | histogram9 &lt;dbl&gt; | macd0720 &lt;dbl&gt; | signal5 &lt;dbl&gt; | histogram5 &lt;dbl&gt; | bbands &lt;dbl&gt; |\n",
       "|---|---|---|---|---|---|---|---|---|---|---|---|---|---|---|\n",
       "| 1 | 0.2318566 | 0.2322653 | 0.2346402 | 0.1060831 | 0.1078040 | 0.1051392 | 0.1051068 | 0.1666350 | 0.1888925 | 0.08263564 | 0.1329358 | 0.1396464 | 0.09818250 | 0.1165366 |\n",
       "| 2 | 0.2267731 | 0.2317736 | 0.2341671 | 0.1070055 | 0.1082637 | 0.1050911 | 0.1050115 | 0.1617753 | 0.1829986 | 0.08366988 | 0.1293542 | 0.1360996 | 0.09814773 | 0.1183754 |\n",
       "| 3 | 0.2252867 | 0.2312710 | 0.2336164 | 0.1078291 | 0.1087600 | 0.1050890 | 0.1050137 | 0.1572011 | 0.1774279 | 0.08466633 | 0.1261114 | 0.1327511 | 0.09825338 | 0.1203605 |\n",
       "| 4 | 0.2241609 | 0.2304493 | 0.2330612 | 0.1085470 | 0.1092739 | 0.1050835 | 0.1049079 | 0.1529314 | 0.1721769 | 0.08564764 | 0.1232314 | 0.1295407 | 0.09858392 | 0.1224161 |\n",
       "| 5 | 0.2217868 | 0.2295359 | 0.2322223 | 0.1094468 | 0.1097455 | 0.1051020 | 0.1053069 | 0.1488493 | 0.1671865 | 0.08655600 | 0.1204732 | 0.1264212 | 0.09894513 | 0.1243027 |\n",
       "| 6 | 0.2241593 | 0.2285367 | 0.2315246 | 0.1094177 | 0.1098559 | 0.1051590 | 0.1050361 | 0.1453395 | 0.1624851 | 0.08774750 | 0.1185977 | 0.1235536 | 0.09993728 | 0.1247442 |\n",
       "\n"
      ],
      "text/plain": [
       "  close     avg10     avg20     std10     std20     rsi14     rsi5     \n",
       "1 0.2318566 0.2322653 0.2346402 0.1060831 0.1078040 0.1051392 0.1051068\n",
       "2 0.2267731 0.2317736 0.2341671 0.1070055 0.1082637 0.1050911 0.1050115\n",
       "3 0.2252867 0.2312710 0.2336164 0.1078291 0.1087600 0.1050890 0.1050137\n",
       "4 0.2241609 0.2304493 0.2330612 0.1085470 0.1092739 0.1050835 0.1049079\n",
       "5 0.2217868 0.2295359 0.2322223 0.1094468 0.1097455 0.1051020 0.1053069\n",
       "6 0.2241593 0.2285367 0.2315246 0.1094177 0.1098559 0.1051590 0.1050361\n",
       "  macd1226  signal9   histogram9 macd0720  signal5   histogram5 bbands   \n",
       "1 0.1666350 0.1888925 0.08263564 0.1329358 0.1396464 0.09818250 0.1165366\n",
       "2 0.1617753 0.1829986 0.08366988 0.1293542 0.1360996 0.09814773 0.1183754\n",
       "3 0.1572011 0.1774279 0.08466633 0.1261114 0.1327511 0.09825338 0.1203605\n",
       "4 0.1529314 0.1721769 0.08564764 0.1232314 0.1295407 0.09858392 0.1224161\n",
       "5 0.1488493 0.1671865 0.08655600 0.1204732 0.1264212 0.09894513 0.1243027\n",
       "6 0.1453395 0.1624851 0.08774750 0.1185977 0.1235536 0.09993728 0.1247442"
      ]
     },
     "metadata": {},
     "output_type": "display_data"
    }
   ],
   "source": [
    "bvspmm <- normalize_minmax(bvspout[,-c(1, 16, 17)])\n",
    "head(bvspmm)"
   ]
  },
  {
   "cell_type": "code",
   "execution_count": 47,
   "metadata": {},
   "outputs": [
    {
     "data": {
      "text/html": [
       "<table>\n",
       "<caption>A data.frame: 6 × 17</caption>\n",
       "<thead>\n",
       "\t<tr><th></th><th scope=col>data</th><th scope=col>close</th><th scope=col>avg10</th><th scope=col>avg20</th><th scope=col>std10</th><th scope=col>std20</th><th scope=col>rsi14</th><th scope=col>rsi5</th><th scope=col>macd1226</th><th scope=col>signal9</th><th scope=col>histogram9</th><th scope=col>macd0720</th><th scope=col>signal5</th><th scope=col>histogram5</th><th scope=col>bbands</th><th scope=col>direction</th><th scope=col>dirret</th></tr>\n",
       "\t<tr><th></th><th scope=col>&lt;dttm&gt;</th><th scope=col>&lt;dbl&gt;</th><th scope=col>&lt;dbl&gt;</th><th scope=col>&lt;dbl&gt;</th><th scope=col>&lt;dbl&gt;</th><th scope=col>&lt;dbl&gt;</th><th scope=col>&lt;dbl&gt;</th><th scope=col>&lt;dbl&gt;</th><th scope=col>&lt;dbl&gt;</th><th scope=col>&lt;dbl&gt;</th><th scope=col>&lt;dbl&gt;</th><th scope=col>&lt;dbl&gt;</th><th scope=col>&lt;dbl&gt;</th><th scope=col>&lt;dbl&gt;</th><th scope=col>&lt;dbl&gt;</th><th scope=col>&lt;dbl&gt;</th><th scope=col>&lt;chr&gt;</th></tr>\n",
       "</thead>\n",
       "<tbody>\n",
       "\t<tr><th scope=row>1</th><td>2001-02-15</td><td>0.2318566</td><td>0.2322653</td><td>0.2346402</td><td>0.1060831</td><td>0.1078040</td><td>0.1051392</td><td>0.1051068</td><td>0.1666350</td><td>0.1888925</td><td>0.08263564</td><td>0.1329358</td><td>0.1396464</td><td>0.09818250</td><td>0.1165366</td><td>0</td><td>nowhere</td></tr>\n",
       "\t<tr><th scope=row>2</th><td>2001-02-16</td><td>0.2267731</td><td>0.2317736</td><td>0.2341671</td><td>0.1070055</td><td>0.1082637</td><td>0.1050911</td><td>0.1050115</td><td>0.1617753</td><td>0.1829986</td><td>0.08366988</td><td>0.1293542</td><td>0.1360996</td><td>0.09814773</td><td>0.1183754</td><td>0</td><td>down   </td></tr>\n",
       "\t<tr><th scope=row>3</th><td>2001-02-19</td><td>0.2252867</td><td>0.2312710</td><td>0.2336164</td><td>0.1078291</td><td>0.1087600</td><td>0.1050890</td><td>0.1050137</td><td>0.1572011</td><td>0.1774279</td><td>0.08466633</td><td>0.1261114</td><td>0.1327511</td><td>0.09825338</td><td>0.1203605</td><td>0</td><td>down   </td></tr>\n",
       "\t<tr><th scope=row>4</th><td>2001-02-20</td><td>0.2241609</td><td>0.2304493</td><td>0.2330612</td><td>0.1085470</td><td>0.1092739</td><td>0.1050835</td><td>0.1049079</td><td>0.1529314</td><td>0.1721769</td><td>0.08564764</td><td>0.1232314</td><td>0.1295407</td><td>0.09858392</td><td>0.1224161</td><td>0</td><td>down   </td></tr>\n",
       "\t<tr><th scope=row>5</th><td>2001-02-21</td><td>0.2217868</td><td>0.2295359</td><td>0.2322223</td><td>0.1094468</td><td>0.1097455</td><td>0.1051020</td><td>0.1053069</td><td>0.1488493</td><td>0.1671865</td><td>0.08655600</td><td>0.1204732</td><td>0.1264212</td><td>0.09894513</td><td>0.1243027</td><td>0</td><td>down   </td></tr>\n",
       "\t<tr><th scope=row>6</th><td>2001-02-22</td><td>0.2241593</td><td>0.2285367</td><td>0.2315246</td><td>0.1094177</td><td>0.1098559</td><td>0.1051590</td><td>0.1050361</td><td>0.1453395</td><td>0.1624851</td><td>0.08774750</td><td>0.1185977</td><td>0.1235536</td><td>0.09993728</td><td>0.1247442</td><td>0</td><td>down   </td></tr>\n",
       "</tbody>\n",
       "</table>\n"
      ],
      "text/latex": [
       "A data.frame: 6 × 17\n",
       "\\begin{tabular}{r|lllllllllllllllll}\n",
       "  & data & close & avg10 & avg20 & std10 & std20 & rsi14 & rsi5 & macd1226 & signal9 & histogram9 & macd0720 & signal5 & histogram5 & bbands & direction & dirret\\\\\n",
       "  & <dttm> & <dbl> & <dbl> & <dbl> & <dbl> & <dbl> & <dbl> & <dbl> & <dbl> & <dbl> & <dbl> & <dbl> & <dbl> & <dbl> & <dbl> & <dbl> & <chr>\\\\\n",
       "\\hline\n",
       "\t1 & 2001-02-15 & 0.2318566 & 0.2322653 & 0.2346402 & 0.1060831 & 0.1078040 & 0.1051392 & 0.1051068 & 0.1666350 & 0.1888925 & 0.08263564 & 0.1329358 & 0.1396464 & 0.09818250 & 0.1165366 & 0 & nowhere\\\\\n",
       "\t2 & 2001-02-16 & 0.2267731 & 0.2317736 & 0.2341671 & 0.1070055 & 0.1082637 & 0.1050911 & 0.1050115 & 0.1617753 & 0.1829986 & 0.08366988 & 0.1293542 & 0.1360996 & 0.09814773 & 0.1183754 & 0 & down   \\\\\n",
       "\t3 & 2001-02-19 & 0.2252867 & 0.2312710 & 0.2336164 & 0.1078291 & 0.1087600 & 0.1050890 & 0.1050137 & 0.1572011 & 0.1774279 & 0.08466633 & 0.1261114 & 0.1327511 & 0.09825338 & 0.1203605 & 0 & down   \\\\\n",
       "\t4 & 2001-02-20 & 0.2241609 & 0.2304493 & 0.2330612 & 0.1085470 & 0.1092739 & 0.1050835 & 0.1049079 & 0.1529314 & 0.1721769 & 0.08564764 & 0.1232314 & 0.1295407 & 0.09858392 & 0.1224161 & 0 & down   \\\\\n",
       "\t5 & 2001-02-21 & 0.2217868 & 0.2295359 & 0.2322223 & 0.1094468 & 0.1097455 & 0.1051020 & 0.1053069 & 0.1488493 & 0.1671865 & 0.08655600 & 0.1204732 & 0.1264212 & 0.09894513 & 0.1243027 & 0 & down   \\\\\n",
       "\t6 & 2001-02-22 & 0.2241593 & 0.2285367 & 0.2315246 & 0.1094177 & 0.1098559 & 0.1051590 & 0.1050361 & 0.1453395 & 0.1624851 & 0.08774750 & 0.1185977 & 0.1235536 & 0.09993728 & 0.1247442 & 0 & down   \\\\\n",
       "\\end{tabular}\n"
      ],
      "text/markdown": [
       "\n",
       "A data.frame: 6 × 17\n",
       "\n",
       "| <!--/--> | data &lt;dttm&gt; | close &lt;dbl&gt; | avg10 &lt;dbl&gt; | avg20 &lt;dbl&gt; | std10 &lt;dbl&gt; | std20 &lt;dbl&gt; | rsi14 &lt;dbl&gt; | rsi5 &lt;dbl&gt; | macd1226 &lt;dbl&gt; | signal9 &lt;dbl&gt; | histogram9 &lt;dbl&gt; | macd0720 &lt;dbl&gt; | signal5 &lt;dbl&gt; | histogram5 &lt;dbl&gt; | bbands &lt;dbl&gt; | direction &lt;dbl&gt; | dirret &lt;chr&gt; |\n",
       "|---|---|---|---|---|---|---|---|---|---|---|---|---|---|---|---|---|---|\n",
       "| 1 | 2001-02-15 | 0.2318566 | 0.2322653 | 0.2346402 | 0.1060831 | 0.1078040 | 0.1051392 | 0.1051068 | 0.1666350 | 0.1888925 | 0.08263564 | 0.1329358 | 0.1396464 | 0.09818250 | 0.1165366 | 0 | nowhere |\n",
       "| 2 | 2001-02-16 | 0.2267731 | 0.2317736 | 0.2341671 | 0.1070055 | 0.1082637 | 0.1050911 | 0.1050115 | 0.1617753 | 0.1829986 | 0.08366988 | 0.1293542 | 0.1360996 | 0.09814773 | 0.1183754 | 0 | down    |\n",
       "| 3 | 2001-02-19 | 0.2252867 | 0.2312710 | 0.2336164 | 0.1078291 | 0.1087600 | 0.1050890 | 0.1050137 | 0.1572011 | 0.1774279 | 0.08466633 | 0.1261114 | 0.1327511 | 0.09825338 | 0.1203605 | 0 | down    |\n",
       "| 4 | 2001-02-20 | 0.2241609 | 0.2304493 | 0.2330612 | 0.1085470 | 0.1092739 | 0.1050835 | 0.1049079 | 0.1529314 | 0.1721769 | 0.08564764 | 0.1232314 | 0.1295407 | 0.09858392 | 0.1224161 | 0 | down    |\n",
       "| 5 | 2001-02-21 | 0.2217868 | 0.2295359 | 0.2322223 | 0.1094468 | 0.1097455 | 0.1051020 | 0.1053069 | 0.1488493 | 0.1671865 | 0.08655600 | 0.1204732 | 0.1264212 | 0.09894513 | 0.1243027 | 0 | down    |\n",
       "| 6 | 2001-02-22 | 0.2241593 | 0.2285367 | 0.2315246 | 0.1094177 | 0.1098559 | 0.1051590 | 0.1050361 | 0.1453395 | 0.1624851 | 0.08774750 | 0.1185977 | 0.1235536 | 0.09993728 | 0.1247442 | 0 | down    |\n",
       "\n"
      ],
      "text/plain": [
       "  data       close     avg10     avg20     std10     std20     rsi14    \n",
       "1 2001-02-15 0.2318566 0.2322653 0.2346402 0.1060831 0.1078040 0.1051392\n",
       "2 2001-02-16 0.2267731 0.2317736 0.2341671 0.1070055 0.1082637 0.1050911\n",
       "3 2001-02-19 0.2252867 0.2312710 0.2336164 0.1078291 0.1087600 0.1050890\n",
       "4 2001-02-20 0.2241609 0.2304493 0.2330612 0.1085470 0.1092739 0.1050835\n",
       "5 2001-02-21 0.2217868 0.2295359 0.2322223 0.1094468 0.1097455 0.1051020\n",
       "6 2001-02-22 0.2241593 0.2285367 0.2315246 0.1094177 0.1098559 0.1051590\n",
       "  rsi5      macd1226  signal9   histogram9 macd0720  signal5   histogram5\n",
       "1 0.1051068 0.1666350 0.1888925 0.08263564 0.1329358 0.1396464 0.09818250\n",
       "2 0.1050115 0.1617753 0.1829986 0.08366988 0.1293542 0.1360996 0.09814773\n",
       "3 0.1050137 0.1572011 0.1774279 0.08466633 0.1261114 0.1327511 0.09825338\n",
       "4 0.1049079 0.1529314 0.1721769 0.08564764 0.1232314 0.1295407 0.09858392\n",
       "5 0.1053069 0.1488493 0.1671865 0.08655600 0.1204732 0.1264212 0.09894513\n",
       "6 0.1050361 0.1453395 0.1624851 0.08774750 0.1185977 0.1235536 0.09993728\n",
       "  bbands    direction dirret \n",
       "1 0.1165366 0         nowhere\n",
       "2 0.1183754 0         down   \n",
       "3 0.1203605 0         down   \n",
       "4 0.1224161 0         down   \n",
       "5 0.1243027 0         down   \n",
       "6 0.1247442 0         down   "
      ]
     },
     "metadata": {},
     "output_type": "display_data"
    }
   ],
   "source": [
    "data <- bvspout$data\n",
    "direction <- bvspout$direction\n",
    "dirret <- bvspout$dirret\n",
    "\n",
    "bvspmm <- cbind(data, bvspmm, direction, dirret)\n",
    "head(bvspmm)"
   ]
  },
  {
   "cell_type": "markdown",
   "metadata": {},
   "source": [
    "## 2. Normalização - Método Z-Score"
   ]
  },
  {
   "cell_type": "code",
   "execution_count": 48,
   "metadata": {},
   "outputs": [],
   "source": [
    "# Função para normalização dos dados\n",
    "normalize_zscore = function(x) {\n",
    "    return ((x - mean(x)) / sd(x))\n",
    "}"
   ]
  },
  {
   "cell_type": "code",
   "execution_count": 49,
   "metadata": {},
   "outputs": [
    {
     "data": {
      "text/html": [
       "<table>\n",
       "<caption>A matrix: 6 × 14 of type dbl</caption>\n",
       "<thead>\n",
       "\t<tr><th scope=col>close</th><th scope=col>avg10</th><th scope=col>avg20</th><th scope=col>std10</th><th scope=col>std20</th><th scope=col>rsi14</th><th scope=col>rsi5</th><th scope=col>macd1226</th><th scope=col>signal9</th><th scope=col>histogram9</th><th scope=col>macd0720</th><th scope=col>signal5</th><th scope=col>histogram5</th><th scope=col>bbands</th></tr>\n",
       "</thead>\n",
       "<tbody>\n",
       "\t<tr><td>0.2171430</td><td>0.2194074</td><td>0.2325660</td><td>-0.4797095</td><td>-0.4701748</td><td>-0.4849393</td><td>-0.4851186</td><td>-0.1442197</td><td>-0.02090122</td><td>-0.6096210</td><td>-0.3309313</td><td>-0.2937508</td><td>-0.5234831</td><td>-0.4217917</td></tr>\n",
       "\t<tr><td>0.1889781</td><td>0.2166832</td><td>0.2299444</td><td>-0.4745989</td><td>-0.4676277</td><td>-0.4852055</td><td>-0.4856466</td><td>-0.1711448</td><td>-0.05355655</td><td>-0.6038908</td><td>-0.3507753</td><td>-0.3134021</td><td>-0.5236757</td><td>-0.4116034</td></tr>\n",
       "\t<tr><td>0.1807426</td><td>0.2138985</td><td>0.2268932</td><td>-0.4700358</td><td>-0.4648782</td><td>-0.4852173</td><td>-0.4856346</td><td>-0.1964884</td><td>-0.08442104</td><td>-0.5983699</td><td>-0.3687422</td><td>-0.3319544</td><td>-0.5230903</td><td>-0.4006052</td></tr>\n",
       "\t<tr><td>0.1745048</td><td>0.2093457</td><td>0.2238175</td><td>-0.4660584</td><td>-0.4620309</td><td>-0.4852478</td><td>-0.4862208</td><td>-0.2201448</td><td>-0.11351444</td><td>-0.5929329</td><td>-0.3846985</td><td>-0.3497420</td><td>-0.5212590</td><td>-0.3892161</td></tr>\n",
       "\t<tr><td>0.1613510</td><td>0.2042850</td><td>0.2191694</td><td>-0.4610725</td><td>-0.4594176</td><td>-0.4851452</td><td>-0.4840100</td><td>-0.2427615</td><td>-0.14116391</td><td>-0.5879001</td><td>-0.3999808</td><td>-0.3670256</td><td>-0.5192577</td><td>-0.3787630</td></tr>\n",
       "\t<tr><td>0.1744961</td><td>0.1987490</td><td>0.2153040</td><td>-0.4612338</td><td>-0.4588062</td><td>-0.4848294</td><td>-0.4855106</td><td>-0.2622079</td><td>-0.16721188</td><td>-0.5812986</td><td>-0.4103718</td><td>-0.3829137</td><td>-0.5137606</td><td>-0.3763171</td></tr>\n",
       "</tbody>\n",
       "</table>\n"
      ],
      "text/latex": [
       "A matrix: 6 × 14 of type dbl\n",
       "\\begin{tabular}{llllllllllllll}\n",
       " close & avg10 & avg20 & std10 & std20 & rsi14 & rsi5 & macd1226 & signal9 & histogram9 & macd0720 & signal5 & histogram5 & bbands\\\\\n",
       "\\hline\n",
       "\t 0.2171430 & 0.2194074 & 0.2325660 & -0.4797095 & -0.4701748 & -0.4849393 & -0.4851186 & -0.1442197 & -0.02090122 & -0.6096210 & -0.3309313 & -0.2937508 & -0.5234831 & -0.4217917\\\\\n",
       "\t 0.1889781 & 0.2166832 & 0.2299444 & -0.4745989 & -0.4676277 & -0.4852055 & -0.4856466 & -0.1711448 & -0.05355655 & -0.6038908 & -0.3507753 & -0.3134021 & -0.5236757 & -0.4116034\\\\\n",
       "\t 0.1807426 & 0.2138985 & 0.2268932 & -0.4700358 & -0.4648782 & -0.4852173 & -0.4856346 & -0.1964884 & -0.08442104 & -0.5983699 & -0.3687422 & -0.3319544 & -0.5230903 & -0.4006052\\\\\n",
       "\t 0.1745048 & 0.2093457 & 0.2238175 & -0.4660584 & -0.4620309 & -0.4852478 & -0.4862208 & -0.2201448 & -0.11351444 & -0.5929329 & -0.3846985 & -0.3497420 & -0.5212590 & -0.3892161\\\\\n",
       "\t 0.1613510 & 0.2042850 & 0.2191694 & -0.4610725 & -0.4594176 & -0.4851452 & -0.4840100 & -0.2427615 & -0.14116391 & -0.5879001 & -0.3999808 & -0.3670256 & -0.5192577 & -0.3787630\\\\\n",
       "\t 0.1744961 & 0.1987490 & 0.2153040 & -0.4612338 & -0.4588062 & -0.4848294 & -0.4855106 & -0.2622079 & -0.16721188 & -0.5812986 & -0.4103718 & -0.3829137 & -0.5137606 & -0.3763171\\\\\n",
       "\\end{tabular}\n"
      ],
      "text/markdown": [
       "\n",
       "A matrix: 6 × 14 of type dbl\n",
       "\n",
       "| close | avg10 | avg20 | std10 | std20 | rsi14 | rsi5 | macd1226 | signal9 | histogram9 | macd0720 | signal5 | histogram5 | bbands |\n",
       "|---|---|---|---|---|---|---|---|---|---|---|---|---|---|\n",
       "| 0.2171430 | 0.2194074 | 0.2325660 | -0.4797095 | -0.4701748 | -0.4849393 | -0.4851186 | -0.1442197 | -0.02090122 | -0.6096210 | -0.3309313 | -0.2937508 | -0.5234831 | -0.4217917 |\n",
       "| 0.1889781 | 0.2166832 | 0.2299444 | -0.4745989 | -0.4676277 | -0.4852055 | -0.4856466 | -0.1711448 | -0.05355655 | -0.6038908 | -0.3507753 | -0.3134021 | -0.5236757 | -0.4116034 |\n",
       "| 0.1807426 | 0.2138985 | 0.2268932 | -0.4700358 | -0.4648782 | -0.4852173 | -0.4856346 | -0.1964884 | -0.08442104 | -0.5983699 | -0.3687422 | -0.3319544 | -0.5230903 | -0.4006052 |\n",
       "| 0.1745048 | 0.2093457 | 0.2238175 | -0.4660584 | -0.4620309 | -0.4852478 | -0.4862208 | -0.2201448 | -0.11351444 | -0.5929329 | -0.3846985 | -0.3497420 | -0.5212590 | -0.3892161 |\n",
       "| 0.1613510 | 0.2042850 | 0.2191694 | -0.4610725 | -0.4594176 | -0.4851452 | -0.4840100 | -0.2427615 | -0.14116391 | -0.5879001 | -0.3999808 | -0.3670256 | -0.5192577 | -0.3787630 |\n",
       "| 0.1744961 | 0.1987490 | 0.2153040 | -0.4612338 | -0.4588062 | -0.4848294 | -0.4855106 | -0.2622079 | -0.16721188 | -0.5812986 | -0.4103718 | -0.3829137 | -0.5137606 | -0.3763171 |\n",
       "\n"
      ],
      "text/plain": [
       "     close     avg10     avg20     std10      std20      rsi14      rsi5      \n",
       "[1,] 0.2171430 0.2194074 0.2325660 -0.4797095 -0.4701748 -0.4849393 -0.4851186\n",
       "[2,] 0.1889781 0.2166832 0.2299444 -0.4745989 -0.4676277 -0.4852055 -0.4856466\n",
       "[3,] 0.1807426 0.2138985 0.2268932 -0.4700358 -0.4648782 -0.4852173 -0.4856346\n",
       "[4,] 0.1745048 0.2093457 0.2238175 -0.4660584 -0.4620309 -0.4852478 -0.4862208\n",
       "[5,] 0.1613510 0.2042850 0.2191694 -0.4610725 -0.4594176 -0.4851452 -0.4840100\n",
       "[6,] 0.1744961 0.1987490 0.2153040 -0.4612338 -0.4588062 -0.4848294 -0.4855106\n",
       "     macd1226   signal9     histogram9 macd0720   signal5    histogram5\n",
       "[1,] -0.1442197 -0.02090122 -0.6096210 -0.3309313 -0.2937508 -0.5234831\n",
       "[2,] -0.1711448 -0.05355655 -0.6038908 -0.3507753 -0.3134021 -0.5236757\n",
       "[3,] -0.1964884 -0.08442104 -0.5983699 -0.3687422 -0.3319544 -0.5230903\n",
       "[4,] -0.2201448 -0.11351444 -0.5929329 -0.3846985 -0.3497420 -0.5212590\n",
       "[5,] -0.2427615 -0.14116391 -0.5879001 -0.3999808 -0.3670256 -0.5192577\n",
       "[6,] -0.2622079 -0.16721188 -0.5812986 -0.4103718 -0.3829137 -0.5137606\n",
       "     bbands    \n",
       "[1,] -0.4217917\n",
       "[2,] -0.4116034\n",
       "[3,] -0.4006052\n",
       "[4,] -0.3892161\n",
       "[5,] -0.3787630\n",
       "[6,] -0.3763171"
      ]
     },
     "metadata": {},
     "output_type": "display_data"
    }
   ],
   "source": [
    "m <- as.matrix(bvspout[,-c(1, 16, 17)]) \n",
    "\n",
    "bvspz <- normalize_zscore(m)\n",
    "\n",
    "head(bvspz)"
   ]
  },
  {
   "cell_type": "code",
   "execution_count": 50,
   "metadata": {},
   "outputs": [
    {
     "data": {
      "text/html": [
       "<table>\n",
       "<caption>A data.frame: 6 × 17</caption>\n",
       "<thead>\n",
       "\t<tr><th></th><th scope=col>data</th><th scope=col>close</th><th scope=col>avg10</th><th scope=col>avg20</th><th scope=col>std10</th><th scope=col>std20</th><th scope=col>rsi14</th><th scope=col>rsi5</th><th scope=col>macd1226</th><th scope=col>signal9</th><th scope=col>histogram9</th><th scope=col>macd0720</th><th scope=col>signal5</th><th scope=col>histogram5</th><th scope=col>bbands</th><th scope=col>direction</th><th scope=col>dirret</th></tr>\n",
       "\t<tr><th></th><th scope=col>&lt;dttm&gt;</th><th scope=col>&lt;dbl&gt;</th><th scope=col>&lt;dbl&gt;</th><th scope=col>&lt;dbl&gt;</th><th scope=col>&lt;dbl&gt;</th><th scope=col>&lt;dbl&gt;</th><th scope=col>&lt;dbl&gt;</th><th scope=col>&lt;dbl&gt;</th><th scope=col>&lt;dbl&gt;</th><th scope=col>&lt;dbl&gt;</th><th scope=col>&lt;dbl&gt;</th><th scope=col>&lt;dbl&gt;</th><th scope=col>&lt;dbl&gt;</th><th scope=col>&lt;dbl&gt;</th><th scope=col>&lt;dbl&gt;</th><th scope=col>&lt;dbl&gt;</th><th scope=col>&lt;chr&gt;</th></tr>\n",
       "</thead>\n",
       "<tbody>\n",
       "\t<tr><th scope=row>1</th><td>2001-02-15</td><td>0.2171430</td><td>0.2194074</td><td>0.2325660</td><td>-0.4797095</td><td>-0.4701748</td><td>-0.4849393</td><td>-0.4851186</td><td>-0.1442197</td><td>-0.02090122</td><td>-0.6096210</td><td>-0.3309313</td><td>-0.2937508</td><td>-0.5234831</td><td>-0.4217917</td><td>0</td><td>nowhere</td></tr>\n",
       "\t<tr><th scope=row>2</th><td>2001-02-16</td><td>0.1889781</td><td>0.2166832</td><td>0.2299444</td><td>-0.4745989</td><td>-0.4676277</td><td>-0.4852055</td><td>-0.4856466</td><td>-0.1711448</td><td>-0.05355655</td><td>-0.6038908</td><td>-0.3507753</td><td>-0.3134021</td><td>-0.5236757</td><td>-0.4116034</td><td>0</td><td>down   </td></tr>\n",
       "\t<tr><th scope=row>3</th><td>2001-02-19</td><td>0.1807426</td><td>0.2138985</td><td>0.2268932</td><td>-0.4700358</td><td>-0.4648782</td><td>-0.4852173</td><td>-0.4856346</td><td>-0.1964884</td><td>-0.08442104</td><td>-0.5983699</td><td>-0.3687422</td><td>-0.3319544</td><td>-0.5230903</td><td>-0.4006052</td><td>0</td><td>down   </td></tr>\n",
       "\t<tr><th scope=row>4</th><td>2001-02-20</td><td>0.1745048</td><td>0.2093457</td><td>0.2238175</td><td>-0.4660584</td><td>-0.4620309</td><td>-0.4852478</td><td>-0.4862208</td><td>-0.2201448</td><td>-0.11351444</td><td>-0.5929329</td><td>-0.3846985</td><td>-0.3497420</td><td>-0.5212590</td><td>-0.3892161</td><td>0</td><td>down   </td></tr>\n",
       "\t<tr><th scope=row>5</th><td>2001-02-21</td><td>0.1613510</td><td>0.2042850</td><td>0.2191694</td><td>-0.4610725</td><td>-0.4594176</td><td>-0.4851452</td><td>-0.4840100</td><td>-0.2427615</td><td>-0.14116391</td><td>-0.5879001</td><td>-0.3999808</td><td>-0.3670256</td><td>-0.5192577</td><td>-0.3787630</td><td>0</td><td>down   </td></tr>\n",
       "\t<tr><th scope=row>6</th><td>2001-02-22</td><td>0.1744961</td><td>0.1987490</td><td>0.2153040</td><td>-0.4612338</td><td>-0.4588062</td><td>-0.4848294</td><td>-0.4855106</td><td>-0.2622079</td><td>-0.16721188</td><td>-0.5812986</td><td>-0.4103718</td><td>-0.3829137</td><td>-0.5137606</td><td>-0.3763171</td><td>0</td><td>down   </td></tr>\n",
       "</tbody>\n",
       "</table>\n"
      ],
      "text/latex": [
       "A data.frame: 6 × 17\n",
       "\\begin{tabular}{r|lllllllllllllllll}\n",
       "  & data & close & avg10 & avg20 & std10 & std20 & rsi14 & rsi5 & macd1226 & signal9 & histogram9 & macd0720 & signal5 & histogram5 & bbands & direction & dirret\\\\\n",
       "  & <dttm> & <dbl> & <dbl> & <dbl> & <dbl> & <dbl> & <dbl> & <dbl> & <dbl> & <dbl> & <dbl> & <dbl> & <dbl> & <dbl> & <dbl> & <dbl> & <chr>\\\\\n",
       "\\hline\n",
       "\t1 & 2001-02-15 & 0.2171430 & 0.2194074 & 0.2325660 & -0.4797095 & -0.4701748 & -0.4849393 & -0.4851186 & -0.1442197 & -0.02090122 & -0.6096210 & -0.3309313 & -0.2937508 & -0.5234831 & -0.4217917 & 0 & nowhere\\\\\n",
       "\t2 & 2001-02-16 & 0.1889781 & 0.2166832 & 0.2299444 & -0.4745989 & -0.4676277 & -0.4852055 & -0.4856466 & -0.1711448 & -0.05355655 & -0.6038908 & -0.3507753 & -0.3134021 & -0.5236757 & -0.4116034 & 0 & down   \\\\\n",
       "\t3 & 2001-02-19 & 0.1807426 & 0.2138985 & 0.2268932 & -0.4700358 & -0.4648782 & -0.4852173 & -0.4856346 & -0.1964884 & -0.08442104 & -0.5983699 & -0.3687422 & -0.3319544 & -0.5230903 & -0.4006052 & 0 & down   \\\\\n",
       "\t4 & 2001-02-20 & 0.1745048 & 0.2093457 & 0.2238175 & -0.4660584 & -0.4620309 & -0.4852478 & -0.4862208 & -0.2201448 & -0.11351444 & -0.5929329 & -0.3846985 & -0.3497420 & -0.5212590 & -0.3892161 & 0 & down   \\\\\n",
       "\t5 & 2001-02-21 & 0.1613510 & 0.2042850 & 0.2191694 & -0.4610725 & -0.4594176 & -0.4851452 & -0.4840100 & -0.2427615 & -0.14116391 & -0.5879001 & -0.3999808 & -0.3670256 & -0.5192577 & -0.3787630 & 0 & down   \\\\\n",
       "\t6 & 2001-02-22 & 0.1744961 & 0.1987490 & 0.2153040 & -0.4612338 & -0.4588062 & -0.4848294 & -0.4855106 & -0.2622079 & -0.16721188 & -0.5812986 & -0.4103718 & -0.3829137 & -0.5137606 & -0.3763171 & 0 & down   \\\\\n",
       "\\end{tabular}\n"
      ],
      "text/markdown": [
       "\n",
       "A data.frame: 6 × 17\n",
       "\n",
       "| <!--/--> | data &lt;dttm&gt; | close &lt;dbl&gt; | avg10 &lt;dbl&gt; | avg20 &lt;dbl&gt; | std10 &lt;dbl&gt; | std20 &lt;dbl&gt; | rsi14 &lt;dbl&gt; | rsi5 &lt;dbl&gt; | macd1226 &lt;dbl&gt; | signal9 &lt;dbl&gt; | histogram9 &lt;dbl&gt; | macd0720 &lt;dbl&gt; | signal5 &lt;dbl&gt; | histogram5 &lt;dbl&gt; | bbands &lt;dbl&gt; | direction &lt;dbl&gt; | dirret &lt;chr&gt; |\n",
       "|---|---|---|---|---|---|---|---|---|---|---|---|---|---|---|---|---|---|\n",
       "| 1 | 2001-02-15 | 0.2171430 | 0.2194074 | 0.2325660 | -0.4797095 | -0.4701748 | -0.4849393 | -0.4851186 | -0.1442197 | -0.02090122 | -0.6096210 | -0.3309313 | -0.2937508 | -0.5234831 | -0.4217917 | 0 | nowhere |\n",
       "| 2 | 2001-02-16 | 0.1889781 | 0.2166832 | 0.2299444 | -0.4745989 | -0.4676277 | -0.4852055 | -0.4856466 | -0.1711448 | -0.05355655 | -0.6038908 | -0.3507753 | -0.3134021 | -0.5236757 | -0.4116034 | 0 | down    |\n",
       "| 3 | 2001-02-19 | 0.1807426 | 0.2138985 | 0.2268932 | -0.4700358 | -0.4648782 | -0.4852173 | -0.4856346 | -0.1964884 | -0.08442104 | -0.5983699 | -0.3687422 | -0.3319544 | -0.5230903 | -0.4006052 | 0 | down    |\n",
       "| 4 | 2001-02-20 | 0.1745048 | 0.2093457 | 0.2238175 | -0.4660584 | -0.4620309 | -0.4852478 | -0.4862208 | -0.2201448 | -0.11351444 | -0.5929329 | -0.3846985 | -0.3497420 | -0.5212590 | -0.3892161 | 0 | down    |\n",
       "| 5 | 2001-02-21 | 0.1613510 | 0.2042850 | 0.2191694 | -0.4610725 | -0.4594176 | -0.4851452 | -0.4840100 | -0.2427615 | -0.14116391 | -0.5879001 | -0.3999808 | -0.3670256 | -0.5192577 | -0.3787630 | 0 | down    |\n",
       "| 6 | 2001-02-22 | 0.1744961 | 0.1987490 | 0.2153040 | -0.4612338 | -0.4588062 | -0.4848294 | -0.4855106 | -0.2622079 | -0.16721188 | -0.5812986 | -0.4103718 | -0.3829137 | -0.5137606 | -0.3763171 | 0 | down    |\n",
       "\n"
      ],
      "text/plain": [
       "  data       close     avg10     avg20     std10      std20      rsi14     \n",
       "1 2001-02-15 0.2171430 0.2194074 0.2325660 -0.4797095 -0.4701748 -0.4849393\n",
       "2 2001-02-16 0.1889781 0.2166832 0.2299444 -0.4745989 -0.4676277 -0.4852055\n",
       "3 2001-02-19 0.1807426 0.2138985 0.2268932 -0.4700358 -0.4648782 -0.4852173\n",
       "4 2001-02-20 0.1745048 0.2093457 0.2238175 -0.4660584 -0.4620309 -0.4852478\n",
       "5 2001-02-21 0.1613510 0.2042850 0.2191694 -0.4610725 -0.4594176 -0.4851452\n",
       "6 2001-02-22 0.1744961 0.1987490 0.2153040 -0.4612338 -0.4588062 -0.4848294\n",
       "  rsi5       macd1226   signal9     histogram9 macd0720   signal5    histogram5\n",
       "1 -0.4851186 -0.1442197 -0.02090122 -0.6096210 -0.3309313 -0.2937508 -0.5234831\n",
       "2 -0.4856466 -0.1711448 -0.05355655 -0.6038908 -0.3507753 -0.3134021 -0.5236757\n",
       "3 -0.4856346 -0.1964884 -0.08442104 -0.5983699 -0.3687422 -0.3319544 -0.5230903\n",
       "4 -0.4862208 -0.2201448 -0.11351444 -0.5929329 -0.3846985 -0.3497420 -0.5212590\n",
       "5 -0.4840100 -0.2427615 -0.14116391 -0.5879001 -0.3999808 -0.3670256 -0.5192577\n",
       "6 -0.4855106 -0.2622079 -0.16721188 -0.5812986 -0.4103718 -0.3829137 -0.5137606\n",
       "  bbands     direction dirret \n",
       "1 -0.4217917 0         nowhere\n",
       "2 -0.4116034 0         down   \n",
       "3 -0.4006052 0         down   \n",
       "4 -0.3892161 0         down   \n",
       "5 -0.3787630 0         down   \n",
       "6 -0.3763171 0         down   "
      ]
     },
     "metadata": {},
     "output_type": "display_data"
    }
   ],
   "source": [
    "data <- bvspout$data\n",
    "direction <- bvspout$direction\n",
    "dirret <- bvspout$dirret\n",
    "\n",
    "bvspz <- data.frame(bvspz)\n",
    "\n",
    "bvspz <- cbind(data, bvspz, direction, dirret)\n",
    "head(bvspz)"
   ]
  },
  {
   "cell_type": "markdown",
   "metadata": {},
   "source": [
    "# Etapa 7: Seleção de atributos"
   ]
  },
  {
   "cell_type": "code",
   "execution_count": 51,
   "metadata": {},
   "outputs": [
    {
     "name": "stderr",
     "output_type": "stream",
     "text": [
      "Loading required package: lattice\n",
      "\n"
     ]
    }
   ],
   "source": [
    "# Biblioteca(s) Necessária(s)\n",
    "library(caret)"
   ]
  },
  {
   "cell_type": "markdown",
   "metadata": {},
   "source": [
    "## 1. Seleção dos atributos com maiores correlações "
   ]
  },
  {
   "cell_type": "code",
   "execution_count": 52,
   "metadata": {},
   "outputs": [
    {
     "name": "stdout",
     "output_type": "stream",
     "text": [
      " [1] 11 12  8  5 14  2  6  3 10  7\n"
     ]
    }
   ],
   "source": [
    "# Matriz de correlação\n",
    "y <- bvspout[,-c(1, 16, 17)]\n",
    "\n",
    "corrbvsp <- cor(y)\n",
    "\n",
    "# Seleção dos atributos que são altamente correlacionados (isealmente > 0.75)\n",
    "highcorrbvsp <- findCorrelation(corrbvsp, cutoff = 0.5)\n",
    "\n",
    "# Exibição dos índices que possuem correlação elevada \n",
    "print(highcorrbvsp)"
   ]
  },
  {
   "cell_type": "markdown",
   "metadata": {},
   "source": [
    "* índice 11: macd0720\n",
    "\n",
    "* índice 12: signal5\n",
    "\n",
    "* índice 8: macd1226\n",
    "\n",
    "* índice 5: std20\n",
    "\n",
    "* índice 14: bbands\n",
    "\n",
    "* índice 2: avg10\n",
    "\n",
    "* índice 6: rsi14\n",
    "\n",
    "* índice 3: avg20\n",
    "\n",
    "* índice 10: histogram9\n",
    "\n",
    "* índice 7: rsi5"
   ]
  },
  {
   "cell_type": "markdown",
   "metadata": {},
   "source": [
    "## 2. Seleção automática de atributos"
   ]
  },
  {
   "cell_type": "markdown",
   "metadata": {},
   "source": [
    "Método utilizado para seleção automática dos atributos: *Recursive Feature Elimination* (RFE)."
   ]
  },
  {
   "cell_type": "code",
   "execution_count": 53,
   "metadata": {},
   "outputs": [],
   "source": [
    "# Definição do controle por meio de uma função de seleção random forest\n",
    "control <- rfeControl(functions=rfFuncs, method=\"cv\", number=10)"
   ]
  },
  {
   "cell_type": "code",
   "execution_count": 54,
   "metadata": {
    "scrolled": true
   },
   "outputs": [
    {
     "name": "stderr",
     "output_type": "stream",
     "text": [
      "Warning message in randomForest.default(x, y, importance = TRUE, ...):\n",
      "\"The response has five or fewer unique values.  Are you sure you want to do regression?\"\n",
      "Warning message in randomForest.default(x, y, importance = TRUE, ...):\n",
      "\"The response has five or fewer unique values.  Are you sure you want to do regression?\"\n",
      "Warning message in randomForest.default(x, y, importance = TRUE, ...):\n",
      "\"The response has five or fewer unique values.  Are you sure you want to do regression?\"\n",
      "Warning message in randomForest.default(x, y, importance = TRUE, ...):\n",
      "\"The response has five or fewer unique values.  Are you sure you want to do regression?\"\n",
      "Warning message in randomForest.default(x, y, importance = TRUE, ...):\n",
      "\"The response has five or fewer unique values.  Are you sure you want to do regression?\"\n",
      "Warning message in randomForest.default(x, y, importance = TRUE, ...):\n",
      "\"The response has five or fewer unique values.  Are you sure you want to do regression?\"\n",
      "Warning message in randomForest.default(x, y, importance = TRUE, ...):\n",
      "\"The response has five or fewer unique values.  Are you sure you want to do regression?\"\n",
      "Warning message in randomForest.default(x, y, importance = TRUE, ...):\n",
      "\"The response has five or fewer unique values.  Are you sure you want to do regression?\"\n",
      "Warning message in randomForest.default(x, y, importance = TRUE, ...):\n",
      "\"The response has five or fewer unique values.  Are you sure you want to do regression?\"\n",
      "Warning message in randomForest.default(x, y, importance = TRUE, ...):\n",
      "\"The response has five or fewer unique values.  Are you sure you want to do regression?\"\n",
      "Warning message in randomForest.default(x, y, importance = TRUE, ...):\n",
      "\"The response has five or fewer unique values.  Are you sure you want to do regression?\"\n",
      "Warning message in randomForest.default(x, y, importance = TRUE, ...):\n",
      "\"The response has five or fewer unique values.  Are you sure you want to do regression?\"\n",
      "Warning message in randomForest.default(x, y, importance = TRUE, ...):\n",
      "\"The response has five or fewer unique values.  Are you sure you want to do regression?\"\n",
      "Warning message in randomForest.default(x, y, importance = TRUE, ...):\n",
      "\"The response has five or fewer unique values.  Are you sure you want to do regression?\"\n",
      "Warning message in randomForest.default(x, y, importance = TRUE, ...):\n",
      "\"The response has five or fewer unique values.  Are you sure you want to do regression?\"\n",
      "Warning message in randomForest.default(x, y, importance = TRUE, ...):\n",
      "\"The response has five or fewer unique values.  Are you sure you want to do regression?\"\n",
      "Warning message in randomForest.default(x, y, importance = TRUE, ...):\n",
      "\"The response has five or fewer unique values.  Are you sure you want to do regression?\"\n",
      "Warning message in randomForest.default(x, y, importance = TRUE, ...):\n",
      "\"The response has five or fewer unique values.  Are you sure you want to do regression?\"\n",
      "Warning message in randomForest.default(x, y, importance = TRUE, ...):\n",
      "\"The response has five or fewer unique values.  Are you sure you want to do regression?\"\n",
      "Warning message in randomForest.default(x, y, importance = TRUE, ...):\n",
      "\"The response has five or fewer unique values.  Are you sure you want to do regression?\"\n",
      "Warning message in randomForest.default(x, y, importance = TRUE, ...):\n",
      "\"The response has five or fewer unique values.  Are you sure you want to do regression?\"\n",
      "Warning message in randomForest.default(x, y, importance = TRUE, ...):\n",
      "\"The response has five or fewer unique values.  Are you sure you want to do regression?\"\n",
      "Warning message in randomForest.default(x, y, importance = TRUE, ...):\n",
      "\"The response has five or fewer unique values.  Are you sure you want to do regression?\"\n",
      "Warning message in randomForest.default(x, y, importance = TRUE, ...):\n",
      "\"The response has five or fewer unique values.  Are you sure you want to do regression?\"\n",
      "Warning message in randomForest.default(x, y, importance = TRUE, ...):\n",
      "\"The response has five or fewer unique values.  Are you sure you want to do regression?\"\n",
      "Warning message in randomForest.default(x, y, importance = TRUE, ...):\n",
      "\"The response has five or fewer unique values.  Are you sure you want to do regression?\"\n",
      "Warning message in randomForest.default(x, y, importance = TRUE, ...):\n",
      "\"The response has five or fewer unique values.  Are you sure you want to do regression?\"\n",
      "Warning message in randomForest.default(x, y, importance = TRUE, ...):\n",
      "\"The response has five or fewer unique values.  Are you sure you want to do regression?\"\n",
      "Warning message in randomForest.default(x, y, importance = TRUE, ...):\n",
      "\"The response has five or fewer unique values.  Are you sure you want to do regression?\"\n",
      "Warning message in randomForest.default(x, y, importance = TRUE, ...):\n",
      "\"The response has five or fewer unique values.  Are you sure you want to do regression?\"\n",
      "Warning message in randomForest.default(x, y, importance = TRUE, ...):\n",
      "\"The response has five or fewer unique values.  Are you sure you want to do regression?\"\n"
     ]
    }
   ],
   "source": [
    "z <- bvspout[,-c(1, 17)]\n",
    "\n",
    "resultibov <- rfe(direction~., z, rfeControl=control)"
   ]
  },
  {
   "cell_type": "code",
   "execution_count": 55,
   "metadata": {},
   "outputs": [
    {
     "name": "stdout",
     "output_type": "stream",
     "text": [
      "\n",
      "Recursive feature selection\n",
      "\n",
      "Outer resampling method: Cross-Validated (10 fold) \n",
      "\n",
      "Resampling performance over subset size:\n",
      "\n",
      " Variables   RMSE Rsquared    MAE  RMSESD RsquaredSD   MAESD Selected\n",
      "         4 0.2722   0.6986 0.1474 0.01864    0.04098 0.01125         \n",
      "         8 0.2628   0.7187 0.1414 0.01915    0.04151 0.01202         \n",
      "        14 0.2523   0.7412 0.1357 0.01857    0.03919 0.01185        *\n",
      "\n",
      "The top 5 variables (out of 14):\n",
      "   macd0720, rsi14, signal5, signal9, histogram9\n",
      "\n"
     ]
    }
   ],
   "source": [
    "# Resultado da seleção\n",
    "print(resultibov)"
   ]
  },
  {
   "cell_type": "code",
   "execution_count": 56,
   "metadata": {},
   "outputs": [
    {
     "data": {
      "text/html": [
       "<style>\n",
       ".list-inline {list-style: none; margin:0; padding: 0}\n",
       ".list-inline>li {display: inline-block}\n",
       ".list-inline>li:not(:last-child)::after {content: \"\\00b7\"; padding: 0 .5ex}\n",
       "</style>\n",
       "<ol class=list-inline><li>'macd0720'</li><li>'rsi14'</li><li>'signal5'</li><li>'signal9'</li><li>'histogram9'</li><li>'macd1226'</li><li>'rsi5'</li><li>'histogram5'</li><li>'avg10'</li><li>'std10'</li><li>'avg20'</li><li>'close'</li><li>'bbands'</li><li>'std20'</li></ol>\n"
      ],
      "text/latex": [
       "\\begin{enumerate*}\n",
       "\\item 'macd0720'\n",
       "\\item 'rsi14'\n",
       "\\item 'signal5'\n",
       "\\item 'signal9'\n",
       "\\item 'histogram9'\n",
       "\\item 'macd1226'\n",
       "\\item 'rsi5'\n",
       "\\item 'histogram5'\n",
       "\\item 'avg10'\n",
       "\\item 'std10'\n",
       "\\item 'avg20'\n",
       "\\item 'close'\n",
       "\\item 'bbands'\n",
       "\\item 'std20'\n",
       "\\end{enumerate*}\n"
      ],
      "text/markdown": [
       "1. 'macd0720'\n",
       "2. 'rsi14'\n",
       "3. 'signal5'\n",
       "4. 'signal9'\n",
       "5. 'histogram9'\n",
       "6. 'macd1226'\n",
       "7. 'rsi5'\n",
       "8. 'histogram5'\n",
       "9. 'avg10'\n",
       "10. 'std10'\n",
       "11. 'avg20'\n",
       "12. 'close'\n",
       "13. 'bbands'\n",
       "14. 'std20'\n",
       "\n",
       "\n"
      ],
      "text/plain": [
       " [1] \"macd0720\"   \"rsi14\"      \"signal5\"    \"signal9\"    \"histogram9\"\n",
       " [6] \"macd1226\"   \"rsi5\"       \"histogram5\" \"avg10\"      \"std10\"     \n",
       "[11] \"avg20\"      \"close\"      \"bbands\"     \"std20\"     "
      ]
     },
     "metadata": {},
     "output_type": "display_data"
    }
   ],
   "source": [
    "# Lista dos atributos escolhidos (de acordo com a variável de interesse)\n",
    "predictors(resultibov)"
   ]
  },
  {
   "cell_type": "code",
   "execution_count": 57,
   "metadata": {},
   "outputs": [
    {
     "data": {
      "image/png": "[encoded data removed]",
      "text/plain": [
       "plot without title"
      ]
     },
     "metadata": {
      "image/png": {
       "height": 420,
       "width": 420
      }
     },
     "output_type": "display_data"
    }
   ],
   "source": [
    "plot(resultibov, type=c(\"g\", \"o\"))"
   ]
  },
  {
   "cell_type": "markdown",
   "metadata": {},
   "source": [
    "## 3. Classificação e seleção de atributos com base no algoritmo de random forest"
   ]
  },
  {
   "cell_type": "code",
   "execution_count": 58,
   "metadata": {},
   "outputs": [],
   "source": [
    "# Biblioteca(s) Necessária(s)\n",
    "library(Boruta)"
   ]
  },
  {
   "cell_type": "code",
   "execution_count": 59,
   "metadata": {},
   "outputs": [
    {
     "data": {
      "text/html": [
       "<style>\n",
       ".list-inline {list-style: none; margin:0; padding: 0}\n",
       ".list-inline>li {display: inline-block}\n",
       ".list-inline>li:not(:last-child)::after {content: \"\\00b7\"; padding: 0 .5ex}\n",
       "</style>\n",
       "<ol class=list-inline><li>'finalDecision'</li><li>'ImpHistory'</li><li>'pValue'</li><li>'maxRuns'</li><li>'light'</li><li>'mcAdj'</li><li>'timeTaken'</li><li>'roughfixed'</li><li>'call'</li><li>'impSource'</li></ol>\n"
      ],
      "text/latex": [
       "\\begin{enumerate*}\n",
       "\\item 'finalDecision'\n",
       "\\item 'ImpHistory'\n",
       "\\item 'pValue'\n",
       "\\item 'maxRuns'\n",
       "\\item 'light'\n",
       "\\item 'mcAdj'\n",
       "\\item 'timeTaken'\n",
       "\\item 'roughfixed'\n",
       "\\item 'call'\n",
       "\\item 'impSource'\n",
       "\\end{enumerate*}\n"
      ],
      "text/markdown": [
       "1. 'finalDecision'\n",
       "2. 'ImpHistory'\n",
       "3. 'pValue'\n",
       "4. 'maxRuns'\n",
       "5. 'light'\n",
       "6. 'mcAdj'\n",
       "7. 'timeTaken'\n",
       "8. 'roughfixed'\n",
       "9. 'call'\n",
       "10. 'impSource'\n",
       "\n",
       "\n"
      ],
      "text/plain": [
       " [1] \"finalDecision\" \"ImpHistory\"    \"pValue\"        \"maxRuns\"      \n",
       " [5] \"light\"         \"mcAdj\"         \"timeTaken\"     \"roughfixed\"   \n",
       " [9] \"call\"          \"impSource\"    "
      ]
     },
     "metadata": {},
     "output_type": "display_data"
    }
   ],
   "source": [
    "# Objeto de armazenamento dos resultados\n",
    "bvspboruta_output <- Boruta(direction ~., data = z, doTrace = 0)\n",
    "names(bvspboruta_output)"
   ]
  },
  {
   "cell_type": "code",
   "execution_count": 60,
   "metadata": {},
   "outputs": [
    {
     "name": "stdout",
     "output_type": "stream",
     "text": [
      " [1] \"close\"      \"avg10\"      \"avg20\"      \"std10\"      \"std20\"     \n",
      " [6] \"rsi14\"      \"rsi5\"       \"macd1226\"   \"signal9\"    \"histogram9\"\n",
      "[11] \"macd0720\"   \"signal5\"    \"histogram5\" \"bbands\"    \n"
     ]
    }
   ],
   "source": [
    "# Obtenção das variáveis de significância\n",
    "bvspboruta_signif <- getSelectedAttributes(bvspboruta_output, withTentative = TRUE)\n",
    "print(bvspboruta_signif)"
   ]
  },
  {
   "cell_type": "code",
   "execution_count": 61,
   "metadata": {},
   "outputs": [
    {
     "name": "stderr",
     "output_type": "stream",
     "text": [
      "Warning message in TentativeRoughFix(bvspboruta_output):\n",
      "\"There are no Tentative attributes! Returning original object.\"\n"
     ]
    },
    {
     "name": "stdout",
     "output_type": "stream",
     "text": [
      " [1] \"close\"      \"avg10\"      \"avg20\"      \"std10\"      \"std20\"     \n",
      " [6] \"rsi14\"      \"rsi5\"       \"macd1226\"   \"signal9\"    \"histogram9\"\n",
      "[11] \"macd0720\"   \"signal5\"    \"histogram5\" \"bbands\"    \n"
     ]
    }
   ],
   "source": [
    "# Correção preliminar\n",
    "bvsproughfixmod <- TentativeRoughFix(bvspboruta_output)\n",
    "bvspboruta_signif2 <- getSelectedAttributes(bvsproughfixmod)\n",
    "print(bvspboruta_signif2)"
   ]
  },
  {
   "cell_type": "code",
   "execution_count": 62,
   "metadata": {},
   "outputs": [
    {
     "name": "stderr",
     "output_type": "stream",
     "text": [
      "Warning message in Ops.factor(left):\n",
      "\"'-' not meaningful for factors\"\n"
     ]
    },
    {
     "data": {
      "text/html": [
       "<table>\n",
       "<caption>A data.frame: 6 × 2</caption>\n",
       "<thead>\n",
       "\t<tr><th></th><th scope=col>meanImp</th><th scope=col>decision</th></tr>\n",
       "\t<tr><th></th><th scope=col>&lt;dbl&gt;</th><th scope=col>&lt;fct&gt;</th></tr>\n",
       "</thead>\n",
       "<tbody>\n",
       "\t<tr><th scope=row>macd0720</th><td>49.30009</td><td>Confirmed</td></tr>\n",
       "\t<tr><th scope=row>rsi14</th><td>38.35262</td><td>Confirmed</td></tr>\n",
       "\t<tr><th scope=row>signal5</th><td>35.35924</td><td>Confirmed</td></tr>\n",
       "\t<tr><th scope=row>macd1226</th><td>32.21374</td><td>Confirmed</td></tr>\n",
       "\t<tr><th scope=row>signal9</th><td>29.20912</td><td>Confirmed</td></tr>\n",
       "\t<tr><th scope=row>rsi5</th><td>26.80129</td><td>Confirmed</td></tr>\n",
       "</tbody>\n",
       "</table>\n"
      ],
      "text/latex": [
       "A data.frame: 6 × 2\n",
       "\\begin{tabular}{r|ll}\n",
       "  & meanImp & decision\\\\\n",
       "  & <dbl> & <fct>\\\\\n",
       "\\hline\n",
       "\tmacd0720 & 49.30009 & Confirmed\\\\\n",
       "\trsi14 & 38.35262 & Confirmed\\\\\n",
       "\tsignal5 & 35.35924 & Confirmed\\\\\n",
       "\tmacd1226 & 32.21374 & Confirmed\\\\\n",
       "\tsignal9 & 29.20912 & Confirmed\\\\\n",
       "\trsi5 & 26.80129 & Confirmed\\\\\n",
       "\\end{tabular}\n"
      ],
      "text/markdown": [
       "\n",
       "A data.frame: 6 × 2\n",
       "\n",
       "| <!--/--> | meanImp &lt;dbl&gt; | decision &lt;fct&gt; |\n",
       "|---|---|---|\n",
       "| macd0720 | 49.30009 | Confirmed |\n",
       "| rsi14 | 38.35262 | Confirmed |\n",
       "| signal5 | 35.35924 | Confirmed |\n",
       "| macd1226 | 32.21374 | Confirmed |\n",
       "| signal9 | 29.20912 | Confirmed |\n",
       "| rsi5 | 26.80129 | Confirmed |\n",
       "\n"
      ],
      "text/plain": [
       "         meanImp  decision \n",
       "macd0720 49.30009 Confirmed\n",
       "rsi14    38.35262 Confirmed\n",
       "signal5  35.35924 Confirmed\n",
       "macd1226 32.21374 Confirmed\n",
       "signal9  29.20912 Confirmed\n",
       "rsi5     26.80129 Confirmed"
      ]
     },
     "metadata": {},
     "output_type": "display_data"
    }
   ],
   "source": [
    "# Score de importância das variáveis\n",
    "bvspboruta_imp <- attStats(bvsproughfixmod)\n",
    "bvspboruta_imp2 <- bvspboruta_imp[bvspboruta_imp$decision != 'Rejected', c('meanImp', 'decision')]\n",
    "\n",
    "# Exibição por ordem decrescente de importância\n",
    "head(bvspboruta_imp2[order(-bvspboruta_imp2),])"
   ]
  },
  {
   "cell_type": "code",
   "execution_count": 63,
   "metadata": {},
   "outputs": [
    {
     "data": {
      "image/png": "[encoded data removed]",
      "text/plain": [
       "Plot with title \"Variable Importance\""
      ]
     },
     "metadata": {
      "image/png": {
       "height": 420,
       "width": 420
      }
     },
     "output_type": "display_data"
    }
   ],
   "source": [
    "# Análise Gráfica\n",
    "plot(bvspboruta_output, cex.axis=.7, las=2, xlab=\"\", main=\"Variable Importance\")  "
   ]
  },
  {
   "cell_type": "markdown",
   "metadata": {},
   "source": [
    "Colunas em verde são as variáveis \"confirmadas\" e as barras em azul representam (ShadowMax e ShadowMin => utilizados no algoritmo para decidir se uma variável é importante ou não)."
   ]
  },
  {
   "cell_type": "markdown",
   "metadata": {},
   "source": [
    "# Etapa 8: Predição"
   ]
  },
  {
   "cell_type": "markdown",
   "metadata": {},
   "source": [
    "## 1. Separação dos dados de treino e teste"
   ]
  },
  {
   "cell_type": "code",
   "execution_count": 64,
   "metadata": {},
   "outputs": [
    {
     "name": "stdout",
     "output_type": "stream",
     "text": [
      "package 'keras' successfully unpacked and MD5 sums checked\n",
      "\n",
      "The downloaded binary packages are in\n",
      "\tC:\\Users\\davib\\AppData\\Local\\Temp\\RtmpYp9owv\\downloaded_packages\n"
     ]
    }
   ],
   "source": [
    "# Biblioteca(s) Necessária(s)\n",
    "install.packages(\"keras\")\n",
    "library(keras)"
   ]
  },
  {
   "cell_type": "code",
   "execution_count": 65,
   "metadata": {},
   "outputs": [],
   "source": [
    "# Determinação do tamanho da amostra\n",
    "bvspsplit <- sample(2, nrow(bvspz), replace=TRUE, prob=c(0.70, 0.30))\n",
    "\n",
    "# 0.70 de probabilidade dos dados como de treino e com 0.30 de probabilidade dos dados como de teste"
   ]
  },
  {
   "cell_type": "code",
   "execution_count": 66,
   "metadata": {
    "scrolled": true
   },
   "outputs": [],
   "source": [
    "# Separação das amostras (índice 1 = treino e indice 2 = teste)\n",
    "bvsptrain <- bvspz[bvspsplit == 1,]\n",
    "bvsptest <- bvspz[bvspsplit == 2,]"
   ]
  },
  {
   "cell_type": "code",
   "execution_count": 67,
   "metadata": {},
   "outputs": [
    {
     "data": {
      "text/html": [
       "<style>\n",
       ".list-inline {list-style: none; margin:0; padding: 0}\n",
       ".list-inline>li {display: inline-block}\n",
       ".list-inline>li:not(:last-child)::after {content: \"\\00b7\"; padding: 0 .5ex}\n",
       "</style>\n",
       "<ol class=list-inline><li>4950</li><li>17</li></ol>\n"
      ],
      "text/latex": [
       "\\begin{enumerate*}\n",
       "\\item 4950\n",
       "\\item 17\n",
       "\\end{enumerate*}\n"
      ],
      "text/markdown": [
       "1. 4950\n",
       "2. 17\n",
       "\n",
       "\n"
      ],
      "text/plain": [
       "[1] 4950   17"
      ]
     },
     "metadata": {},
     "output_type": "display_data"
    },
    {
     "data": {
      "text/html": [
       "<style>\n",
       ".list-inline {list-style: none; margin:0; padding: 0}\n",
       ".list-inline>li {display: inline-block}\n",
       ".list-inline>li:not(:last-child)::after {content: \"\\00b7\"; padding: 0 .5ex}\n",
       "</style>\n",
       "<ol class=list-inline><li>3481</li><li>17</li></ol>\n"
      ],
      "text/latex": [
       "\\begin{enumerate*}\n",
       "\\item 3481\n",
       "\\item 17\n",
       "\\end{enumerate*}\n"
      ],
      "text/markdown": [
       "1. 3481\n",
       "2. 17\n",
       "\n",
       "\n"
      ],
      "text/plain": [
       "[1] 3481   17"
      ]
     },
     "metadata": {},
     "output_type": "display_data"
    },
    {
     "data": {
      "text/html": [
       "<style>\n",
       ".list-inline {list-style: none; margin:0; padding: 0}\n",
       ".list-inline>li {display: inline-block}\n",
       ".list-inline>li:not(:last-child)::after {content: \"\\00b7\"; padding: 0 .5ex}\n",
       "</style>\n",
       "<ol class=list-inline><li>1469</li><li>17</li></ol>\n"
      ],
      "text/latex": [
       "\\begin{enumerate*}\n",
       "\\item 1469\n",
       "\\item 17\n",
       "\\end{enumerate*}\n"
      ],
      "text/markdown": [
       "1. 1469\n",
       "2. 17\n",
       "\n",
       "\n"
      ],
      "text/plain": [
       "[1] 1469   17"
      ]
     },
     "metadata": {},
     "output_type": "display_data"
    }
   ],
   "source": [
    "dim(bvspz)\n",
    "dim(bvsptrain)\n",
    "dim(bvsptest)"
   ]
  },
  {
   "cell_type": "markdown",
   "metadata": {},
   "source": [
    "## 2. Regressão Logística"
   ]
  },
  {
   "cell_type": "code",
   "execution_count": 68,
   "metadata": {},
   "outputs": [],
   "source": [
    "# Criação de uma fórmula que tem \"Direction\" como variável dependente e todas as demais como variáveis independentes\n",
    "formula <- paste(\"direction ~.\", sep = \"\")"
   ]
  },
  {
   "cell_type": "markdown",
   "metadata": {},
   "source": [
    "### 2.1. Análise para dados de treino"
   ]
  },
  {
   "cell_type": "markdown",
   "metadata": {},
   "source": [
    "**Construção do modelo**"
   ]
  },
  {
   "cell_type": "code",
   "execution_count": 69,
   "metadata": {},
   "outputs": [
    {
     "name": "stderr",
     "output_type": "stream",
     "text": [
      "Warning message:\n",
      "\"glm.fit: fitted probabilities numerically 0 or 1 occurred\"\n"
     ]
    },
    {
     "data": {
      "text/plain": [
       "\n",
       "Call:\n",
       "glm(formula = formula, family = binomial, data = bvsptrain[, \n",
       "    -c(1, 17)])\n",
       "\n",
       "Deviance Residuals: \n",
       "    Min       1Q   Median       3Q      Max  \n",
       "-3.8748  -0.1658   0.0043   0.1970   4.5241  \n",
       "\n",
       "Coefficients: (1 not defined because of singularities)\n",
       "             Estimate Std. Error z value Pr(>|z|)    \n",
       "(Intercept)  160.5629  1058.9716   0.152   0.8795    \n",
       "close          2.9798     0.7624   3.908 9.29e-05 ***\n",
       "avg10         -6.3296     9.0157  -0.702   0.4826    \n",
       "avg20          3.5430     8.9936   0.394   0.6936    \n",
       "std10        -15.4174     7.8124  -1.973   0.0484 *  \n",
       "std20          6.7567     7.5654   0.893   0.3718    \n",
       "rsi14        426.2553   244.7503   1.742   0.0816 .  \n",
       "rsi5         199.9544   110.0175   1.817   0.0691 .  \n",
       "macd1226    -734.3502  1918.8102  -0.383   0.7019    \n",
       "signal9       92.1735  1917.9598   0.048   0.9617    \n",
       "histogram9  -634.8573  1918.5708  -0.331   0.7407    \n",
       "macd0720     704.9069  1006.7662   0.700   0.4838    \n",
       "signal5      116.6912  1005.0505   0.116   0.9076    \n",
       "histogram5   170.5561  1005.3174   0.170   0.8653    \n",
       "bbands             NA         NA      NA       NA    \n",
       "---\n",
       "Signif. codes:  0 '***' 0.001 '**' 0.01 '*' 0.05 '.' 0.1 ' ' 1\n",
       "\n",
       "(Dispersion parameter for binomial family taken to be 1)\n",
       "\n",
       "    Null deviance: 4770.7  on 3480  degrees of freedom\n",
       "Residual deviance: 1394.2  on 3467  degrees of freedom\n",
       "AIC: 1422.2\n",
       "\n",
       "Number of Fisher Scoring iterations: 13\n"
      ]
     },
     "metadata": {},
     "output_type": "display_data"
    }
   ],
   "source": [
    "# Utilização de um modelo linear generalizado para ajustar o modelo\n",
    "bvspmodel <- glm(formula, bvsptrain[,-c(1,17)], family = binomial)\n",
    "\n",
    "# c(1,17) => contém as colunas \"data\" e \"dirret\"\n",
    "\n",
    "summary(bvspmodel) "
   ]
  },
  {
   "cell_type": "code",
   "execution_count": 70,
   "metadata": {},
   "outputs": [
    {
     "name": "stderr",
     "output_type": "stream",
     "text": [
      "Warning message in predict.lm(object, newdata, se.fit, scale = 1, type = if (type == :\n",
      "\"prediction from a rank-deficient fit may be misleading\"\n"
     ]
    }
   ],
   "source": [
    "# Ajustamento dos valores no mesmo conjunto de dados utilizados para estimar o valor melhor ajustado.\n",
    "bvsppred <- predict(bvspmodel, bvsptrain[,-c(1,17)])\n",
    "\n",
    "# c(1,17) => contém as colunas \"data\" e \"dirret\""
   ]
  },
  {
   "cell_type": "markdown",
   "metadata": {},
   "source": [
    "**Conversão dos valores ajustados em probabilidade**"
   ]
  },
  {
   "cell_type": "code",
   "execution_count": 71,
   "metadata": {},
   "outputs": [
    {
     "data": {
      "text/html": [
       "<style>\n",
       ".dl-inline {width: auto; margin:0; padding: 0}\n",
       ".dl-inline>dt, .dl-inline>dd {float: none; width: auto; display: inline-block}\n",
       ".dl-inline>dt::after {content: \":\\0020\"; padding-right: .5ex}\n",
       ".dl-inline>dt:not(:first-of-type) {padding-left: .5ex}\n",
       "</style><dl class=dl-inline><dt>2</dt><dd>0.000267779026930365</dd><dt>5</dt><dd>9.26876823399602e-07</dd><dt>6</dt><dd>4.83389665612441e-07</dd><dt>7</dt><dd>6.55571697975073e-07</dd><dt>8</dt><dd>2.99493765577588e-07</dd><dt>9</dt><dd>5.50737147259806e-07</dd></dl>\n"
      ],
      "text/latex": [
       "\\begin{description*}\n",
       "\\item[2] 0.000267779026930365\n",
       "\\item[5] 9.26876823399602e-07\n",
       "\\item[6] 4.83389665612441e-07\n",
       "\\item[7] 6.55571697975073e-07\n",
       "\\item[8] 2.99493765577588e-07\n",
       "\\item[9] 5.50737147259806e-07\n",
       "\\end{description*}\n"
      ],
      "text/markdown": [
       "2\n",
       ":   0.0002677790269303655\n",
       ":   9.26876823399602e-076\n",
       ":   4.83389665612441e-077\n",
       ":   6.55571697975073e-078\n",
       ":   2.99493765577588e-079\n",
       ":   5.50737147259806e-07\n",
       "\n"
      ],
      "text/plain": [
       "           2            5            6            7            8            9 \n",
       "2.677790e-04 9.268768e-07 4.833897e-07 6.555717e-07 2.994938e-07 5.507371e-07 "
      ]
     },
     "metadata": {},
     "output_type": "display_data"
    }
   ],
   "source": [
    "# Conversão do output em uma forma probabilistica, que estará no intervalo [0,1]\n",
    "bvspprob <- 1 / (1+exp(-(bvsppred)))\n",
    "\n",
    "head(bvspprob)   "
   ]
  },
  {
   "cell_type": "code",
   "execution_count": 72,
   "metadata": {},
   "outputs": [
    {
     "data": {
      "image/png": "[encoded data removed]",
      "text/plain": [
       "plot without title"
      ]
     },
     "metadata": {
      "image/png": {
       "height": 420,
       "width": 420
      }
     },
     "output_type": "display_data"
    }
   ],
   "source": [
    "# Análise gráfica\n",
    "par(mfrow = c(2,1))              \n",
    "\n",
    "# Figura 1: previsão do modelo\n",
    "plot(bvsppred, type = \"l\")           \n",
    "\n",
    "# Figura 2: probabilidade do modelo\n",
    "plot(bvspprob, type = \"l\")"
   ]
  },
  {
   "cell_type": "markdown",
   "metadata": {},
   "source": [
    "**Classificação das probabilidades em 2 classes (1 = direção \"Up\" e 0 = direção \"Down\")**"
   ]
  },
  {
   "cell_type": "code",
   "execution_count": 73,
   "metadata": {},
   "outputs": [],
   "source": [
    "bvsppred_directionin <- NULL\n",
    "\n",
    "# Direção para cima (Up)\n",
    "bvsppred_directionin[bvspprob > 0.5] <- 1    \n",
    "\n",
    "# Direção para baixo (Down)\n",
    "bvsppred_directionin[bvspprob <= 0.5] <- 0"
   ]
  },
  {
   "cell_type": "markdown",
   "metadata": {},
   "source": [
    "**Verificação da acurácia do modelo**"
   ]
  },
  {
   "cell_type": "code",
   "execution_count": 74,
   "metadata": {},
   "outputs": [
    {
     "name": "stderr",
     "output_type": "stream",
     "text": [
      "\n",
      "Attaching package: 'e1071'\n",
      "\n",
      "\n",
      "The following objects are masked from 'package:moments':\n",
      "\n",
      "    kurtosis, moment, skewness\n",
      "\n",
      "\n"
     ]
    }
   ],
   "source": [
    "# Biblioteca(s) Necessária(s)\n",
    "library(caret)\n",
    "library(e1071)"
   ]
  },
  {
   "cell_type": "code",
   "execution_count": 75,
   "metadata": {},
   "outputs": [
    {
     "data": {
      "text/plain": [
       "Confusion Matrix and Statistics\n",
       "\n",
       "                    \n",
       "bvsppred_directionin    0    1\n",
       "                   0 1388  137\n",
       "                   1  134 1822\n",
       "                                          \n",
       "               Accuracy : 0.9221          \n",
       "                 95% CI : (0.9127, 0.9308)\n",
       "    No Information Rate : 0.5628          \n",
       "    P-Value [Acc > NIR] : <2e-16          \n",
       "                                          \n",
       "                  Kappa : 0.8418          \n",
       "                                          \n",
       " Mcnemar's Test P-Value : 0.9033          \n",
       "                                          \n",
       "            Sensitivity : 0.9120          \n",
       "            Specificity : 0.9301          \n",
       "         Pos Pred Value : 0.9102          \n",
       "         Neg Pred Value : 0.9315          \n",
       "             Prevalence : 0.4372          \n",
       "         Detection Rate : 0.3987          \n",
       "   Detection Prevalence : 0.4381          \n",
       "      Balanced Accuracy : 0.9210          \n",
       "                                          \n",
       "       'Positive' Class : 0               \n",
       "                                          "
      ]
     },
     "metadata": {},
     "output_type": "display_data"
    }
   ],
   "source": [
    "# Matriz de Confusão de treino\n",
    "confusionMatrix(table(bvsppred_directionin, bvsptrain$direction))"
   ]
  },
  {
   "cell_type": "markdown",
   "metadata": {},
   "source": [
    "**Curva ROC 1**"
   ]
  },
  {
   "cell_type": "code",
   "execution_count": 76,
   "metadata": {},
   "outputs": [],
   "source": [
    "# Biblioteca(s) Necessária(s)\n",
    "library(PRROC)"
   ]
  },
  {
   "cell_type": "code",
   "execution_count": 77,
   "metadata": {},
   "outputs": [
    {
     "data": {
      "image/png": "[encoded data removed]",
      "text/plain": [
       "Plot with title \"ROC curve\n",
       "AUC = 0.9210122\""
      ]
     },
     "metadata": {
      "image/png": {
       "height": 420,
       "width": 420
      }
     },
     "output_type": "display_data"
    }
   ],
   "source": [
    "plot(roc.curve(scores.class0 = bvsppred_directionin, weights.class0=bvsptrain$direction, curve=TRUE))"
   ]
  },
  {
   "cell_type": "markdown",
   "metadata": {},
   "source": [
    "**Curva ROC 2**"
   ]
  },
  {
   "cell_type": "code",
   "execution_count": 78,
   "metadata": {},
   "outputs": [],
   "source": [
    "# Biblioteca(s) Necessária(s)\n",
    "library(precrec)"
   ]
  },
  {
   "cell_type": "code",
   "execution_count": 79,
   "metadata": {},
   "outputs": [
    {
     "data": {
      "image/png": "[encoded data removed]",
      "text/plain": [
       "plot without title"
      ]
     },
     "metadata": {
      "image/png": {
       "height": 420,
       "width": 420
      }
     },
     "output_type": "display_data"
    }
   ],
   "source": [
    "bvspprecrecin <- evalmod(scores = bvsppred_directionin, labels = bvsptrain$direction)\n",
    "autoplot(bvspprecrecin)"
   ]
  },
  {
   "cell_type": "code",
   "execution_count": 80,
   "metadata": {},
   "outputs": [
    {
     "data": {
      "image/png": "[encoded data removed]",
      "text/plain": [
       "plot without title"
      ]
     },
     "metadata": {
      "image/png": {
       "height": 420,
       "width": 420
      }
     },
     "output_type": "display_data"
    }
   ],
   "source": [
    "bvspprecrecin2 <- evalmod(scores = bvsppred_directionin, labels = bvsptrain$direction, mode=\"basic\")\n",
    "autoplot(bvspprecrecin2)"
   ]
  },
  {
   "cell_type": "markdown",
   "metadata": {},
   "source": [
    "### 2.2. Análise para dados de teste"
   ]
  },
  {
   "cell_type": "code",
   "execution_count": 81,
   "metadata": {},
   "outputs": [
    {
     "name": "stderr",
     "output_type": "stream",
     "text": [
      "Warning message in predict.lm(object, newdata, se.fit, scale = 1, type = if (type == :\n",
      "\"prediction from a rank-deficient fit may be misleading\"\n"
     ]
    }
   ],
   "source": [
    "# Ajustamento do modelo\n",
    "bvsppredout <- predict(bvspmodel, bvsptest[,-c(1,17)])\n",
    "\n",
    "# c(1,17) => contém as colunas \"data\" e \"dirret\""
   ]
  },
  {
   "cell_type": "code",
   "execution_count": 82,
   "metadata": {},
   "outputs": [
    {
     "data": {
      "text/html": [
       "<style>\n",
       ".dl-inline {width: auto; margin:0; padding: 0}\n",
       ".dl-inline>dt, .dl-inline>dd {float: none; width: auto; display: inline-block}\n",
       ".dl-inline>dt::after {content: \":\\0020\"; padding-right: .5ex}\n",
       ".dl-inline>dt:not(:first-of-type) {padding-left: .5ex}\n",
       "</style><dl class=dl-inline><dt>1</dt><dd>0.00920403973519398</dd><dt>3</dt><dd>2.11038285542703e-05</dd><dt>4</dt><dd>3.01721313405899e-06</dd><dt>10</dt><dd>6.34842857782916e-07</dd><dt>11</dt><dd>5.31938005236405e-07</dd><dt>13</dt><dd>3.51123382208792e-07</dd></dl>\n"
      ],
      "text/latex": [
       "\\begin{description*}\n",
       "\\item[1] 0.00920403973519398\n",
       "\\item[3] 2.11038285542703e-05\n",
       "\\item[4] 3.01721313405899e-06\n",
       "\\item[10] 6.34842857782916e-07\n",
       "\\item[11] 5.31938005236405e-07\n",
       "\\item[13] 3.51123382208792e-07\n",
       "\\end{description*}\n"
      ],
      "text/markdown": [
       "1\n",
       ":   0.009204039735193983\n",
       ":   2.11038285542703e-054\n",
       ":   3.01721313405899e-0610\n",
       ":   6.34842857782916e-0711\n",
       ":   5.31938005236405e-0713\n",
       ":   3.51123382208792e-07\n",
       "\n"
      ],
      "text/plain": [
       "           1            3            4           10           11           13 \n",
       "9.204040e-03 2.110383e-05 3.017213e-06 6.348429e-07 5.319380e-07 3.511234e-07 "
      ]
     },
     "metadata": {},
     "output_type": "display_data"
    }
   ],
   "source": [
    "# Conversão do output em uma forma probabilistica\n",
    "bvspprobout <- 1 / (1+exp(-(bvsppredout)))\n",
    "\n",
    "head(bvspprobout)  "
   ]
  },
  {
   "cell_type": "code",
   "execution_count": 83,
   "metadata": {},
   "outputs": [],
   "source": [
    "# Classificação das probabilidades\n",
    "bvsppred_directionout <- NULL\n",
    "\n",
    "# Direção para cima (Up)\n",
    "bvsppred_directionout[bvspprobout > 0.5] <- 1    \n",
    "\n",
    "# Direção para baixo (Down)\n",
    "bvsppred_directionout[bvspprobout <= 0.5] <- 0"
   ]
  },
  {
   "cell_type": "code",
   "execution_count": 84,
   "metadata": {},
   "outputs": [
    {
     "data": {
      "text/plain": [
       "Confusion Matrix and Statistics\n",
       "\n",
       "                     \n",
       "bvsppred_directionout   0   1\n",
       "                    0 571  72\n",
       "                    1  62 764\n",
       "                                         \n",
       "               Accuracy : 0.9088         \n",
       "                 95% CI : (0.8929, 0.923)\n",
       "    No Information Rate : 0.5691         \n",
       "    P-Value [Acc > NIR] : <2e-16         \n",
       "                                         \n",
       "                  Kappa : 0.8144         \n",
       "                                         \n",
       " Mcnemar's Test P-Value : 0.4369         \n",
       "                                         \n",
       "            Sensitivity : 0.9021         \n",
       "            Specificity : 0.9139         \n",
       "         Pos Pred Value : 0.8880         \n",
       "         Neg Pred Value : 0.9249         \n",
       "             Prevalence : 0.4309         \n",
       "         Detection Rate : 0.3887         \n",
       "   Detection Prevalence : 0.4377         \n",
       "      Balanced Accuracy : 0.9080         \n",
       "                                         \n",
       "       'Positive' Class : 0              \n",
       "                                         "
      ]
     },
     "metadata": {},
     "output_type": "display_data"
    }
   ],
   "source": [
    "# Matriz de Confusão de teste\n",
    "confusionMatrix(table(bvsppred_directionout, bvsptest$direction))"
   ]
  },
  {
   "cell_type": "markdown",
   "metadata": {},
   "source": [
    "**Curva ROC 1**"
   ]
  },
  {
   "cell_type": "code",
   "execution_count": 85,
   "metadata": {},
   "outputs": [
    {
     "data": {
      "image/png": "[encoded data removed]",
      "text/plain": [
       "Plot with title \"ROC curve\n",
       "AUC = 0.9079647\""
      ]
     },
     "metadata": {
      "image/png": {
       "height": 420,
       "width": 420
      }
     },
     "output_type": "display_data"
    }
   ],
   "source": [
    "plot(roc.curve(scores.class0 = bvsppred_directionout, weights.class0=bvsptest$direction, curve=TRUE))"
   ]
  },
  {
   "cell_type": "markdown",
   "metadata": {},
   "source": [
    "**Curva ROC 2**"
   ]
  },
  {
   "cell_type": "code",
   "execution_count": 86,
   "metadata": {},
   "outputs": [
    {
     "data": {
      "image/png": "[encoded data removed]",
      "text/plain": [
       "plot without title"
      ]
     },
     "metadata": {
      "image/png": {
       "height": 420,
       "width": 420
      }
     },
     "output_type": "display_data"
    }
   ],
   "source": [
    "bvspprecrecout <- evalmod(scores = bvsppred_directionout, labels = bvsptest$direction)\n",
    "autoplot(bvspprecrecout)"
   ]
  },
  {
   "cell_type": "code",
   "execution_count": 87,
   "metadata": {},
   "outputs": [
    {
     "data": {
      "image/png": "[encoded data removed]",
      "text/plain": [
       "plot without title"
      ]
     },
     "metadata": {
      "image/png": {
       "height": 420,
       "width": 420
      }
     },
     "output_type": "display_data"
    }
   ],
   "source": [
    "bvspprecrecout <- evalmod(scores = bvsppred_directionout, labels = bvsptest$direction, mode=\"basic\")\n",
    "autoplot(bvspprecrecout)"
   ]
  },
  {
   "cell_type": "markdown",
   "metadata": {},
   "source": [
    "## 3. Algoritmo K-means"
   ]
  },
  {
   "cell_type": "code",
   "execution_count": 88,
   "metadata": {},
   "outputs": [],
   "source": [
    "# Definição do número de clusters\n",
    "cluster <- 2\n",
    "set.seed(1)\n",
    "\n",
    "# O número de clusters corresponde ao número de direções (up = 1, down = 0)"
   ]
  },
  {
   "cell_type": "markdown",
   "metadata": {},
   "source": [
    "**Remoção das colunas de rótulo**"
   ]
  },
  {
   "cell_type": "markdown",
   "metadata": {},
   "source": [
    "K-means é um algoritmo do tipo não supervisionado (não trabalha com dados rotulados) e os atributos \"direction\" e \"dirret\" funcionam como rótulos.\n",
    "\n",
    "Rótulos não são desejáveis para algorítmos não supervisionados."
   ]
  },
  {
   "cell_type": "code",
   "execution_count": 89,
   "metadata": {},
   "outputs": [],
   "source": [
    "bvsptrain2 <- bvsptrain[,-c(16,17)]\n",
    "bvsptest2 <- bvsptest[,-c(16,17)]\n",
    "\n",
    "# c(16,17) => contém as colunas \"direction\" e \"dirret\""
   ]
  },
  {
   "cell_type": "markdown",
   "metadata": {},
   "source": [
    "**Execução do algoritmo**"
   ]
  },
  {
   "cell_type": "code",
   "execution_count": 90,
   "metadata": {},
   "outputs": [
    {
     "data": {
      "text/html": [
       "<style>\n",
       ".dl-inline {width: auto; margin:0; padding: 0}\n",
       ".dl-inline>dt, .dl-inline>dd {float: none; width: auto; display: inline-block}\n",
       ".dl-inline>dt::after {content: \":\\0020\"; padding-right: .5ex}\n",
       ".dl-inline>dt:not(:first-of-type) {padding-left: .5ex}\n",
       "</style><dl class=dl-inline><dt>2</dt><dd>2</dd><dt>5</dt><dd>2</dd><dt>6</dt><dd>2</dd><dt>7</dt><dd>2</dd><dt>8</dt><dd>2</dd><dt>9</dt><dd>2</dd></dl>\n"
      ],
      "text/latex": [
       "\\begin{description*}\n",
       "\\item[2] 2\n",
       "\\item[5] 2\n",
       "\\item[6] 2\n",
       "\\item[7] 2\n",
       "\\item[8] 2\n",
       "\\item[9] 2\n",
       "\\end{description*}\n"
      ],
      "text/markdown": [
       "2\n",
       ":   25\n",
       ":   26\n",
       ":   27\n",
       ":   28\n",
       ":   29\n",
       ":   2\n",
       "\n"
      ],
      "text/plain": [
       "2 5 6 7 8 9 \n",
       "2 2 2 2 2 2 "
      ]
     },
     "metadata": {},
     "output_type": "display_data"
    }
   ],
   "source": [
    "bvspmodel2 <- kmeans(bvsptrain2[,-1], cluster)   # retirada da coluna \"data\"\n",
    "\n",
    "head(bvspmodel2$cluster)"
   ]
  },
  {
   "cell_type": "code",
   "execution_count": 91,
   "metadata": {},
   "outputs": [
    {
     "data": {
      "text/html": [
       "<table>\n",
       "<caption>A matrix: 2 × 14 of type dbl</caption>\n",
       "<thead>\n",
       "\t<tr><th></th><th scope=col>close</th><th scope=col>avg10</th><th scope=col>avg20</th><th scope=col>std10</th><th scope=col>std20</th><th scope=col>rsi14</th><th scope=col>rsi5</th><th scope=col>macd1226</th><th scope=col>signal9</th><th scope=col>histogram9</th><th scope=col>macd0720</th><th scope=col>signal5</th><th scope=col>histogram5</th><th scope=col>bbands</th></tr>\n",
       "</thead>\n",
       "<tbody>\n",
       "\t<tr><th scope=row>1</th><td>2.2778967</td><td>2.2740568</td><td>2.2684527</td><td>-0.4376900</td><td>-0.4191674</td><td>-0.4841036</td><td>-0.4840679</td><td>-0.4784160</td><td>-0.4781640</td><td>-0.4863557</td><td>-0.4790558</td><td>-0.4785633</td><td>-0.4864834</td><td>-0.2177620</td></tr>\n",
       "\t<tr><th scope=row>2</th><td>0.5049324</td><td>0.5019938</td><td>0.4999196</td><td>-0.4625055</td><td>-0.4536808</td><td>-0.4840866</td><td>-0.4840076</td><td>-0.4818245</td><td>-0.4815059</td><td>-0.4866211</td><td>-0.4829595</td><td>-0.4831020</td><td>-0.4861601</td><td>-0.3558157</td></tr>\n",
       "</tbody>\n",
       "</table>\n"
      ],
      "text/latex": [
       "A matrix: 2 × 14 of type dbl\n",
       "\\begin{tabular}{r|llllllllllllll}\n",
       "  & close & avg10 & avg20 & std10 & std20 & rsi14 & rsi5 & macd1226 & signal9 & histogram9 & macd0720 & signal5 & histogram5 & bbands\\\\\n",
       "\\hline\n",
       "\t1 & 2.2778967 & 2.2740568 & 2.2684527 & -0.4376900 & -0.4191674 & -0.4841036 & -0.4840679 & -0.4784160 & -0.4781640 & -0.4863557 & -0.4790558 & -0.4785633 & -0.4864834 & -0.2177620\\\\\n",
       "\t2 & 0.5049324 & 0.5019938 & 0.4999196 & -0.4625055 & -0.4536808 & -0.4840866 & -0.4840076 & -0.4818245 & -0.4815059 & -0.4866211 & -0.4829595 & -0.4831020 & -0.4861601 & -0.3558157\\\\\n",
       "\\end{tabular}\n"
      ],
      "text/markdown": [
       "\n",
       "A matrix: 2 × 14 of type dbl\n",
       "\n",
       "| <!--/--> | close | avg10 | avg20 | std10 | std20 | rsi14 | rsi5 | macd1226 | signal9 | histogram9 | macd0720 | signal5 | histogram5 | bbands |\n",
       "|---|---|---|---|---|---|---|---|---|---|---|---|---|---|---|\n",
       "| 1 | 2.2778967 | 2.2740568 | 2.2684527 | -0.4376900 | -0.4191674 | -0.4841036 | -0.4840679 | -0.4784160 | -0.4781640 | -0.4863557 | -0.4790558 | -0.4785633 | -0.4864834 | -0.2177620 |\n",
       "| 2 | 0.5049324 | 0.5019938 | 0.4999196 | -0.4625055 | -0.4536808 | -0.4840866 | -0.4840076 | -0.4818245 | -0.4815059 | -0.4866211 | -0.4829595 | -0.4831020 | -0.4861601 | -0.3558157 |\n",
       "\n"
      ],
      "text/plain": [
       "  close     avg10     avg20     std10      std20      rsi14      rsi5      \n",
       "1 2.2778967 2.2740568 2.2684527 -0.4376900 -0.4191674 -0.4841036 -0.4840679\n",
       "2 0.5049324 0.5019938 0.4999196 -0.4625055 -0.4536808 -0.4840866 -0.4840076\n",
       "  macd1226   signal9    histogram9 macd0720   signal5    histogram5 bbands    \n",
       "1 -0.4784160 -0.4781640 -0.4863557 -0.4790558 -0.4785633 -0.4864834 -0.2177620\n",
       "2 -0.4818245 -0.4815059 -0.4866211 -0.4829595 -0.4831020 -0.4861601 -0.3558157"
      ]
     },
     "metadata": {},
     "output_type": "display_data"
    }
   ],
   "source": [
    "# Extração do centróides finais dos cluesters (Centros finais do cluster)\n",
    "bvspmodel2$center"
   ]
  },
  {
   "cell_type": "code",
   "execution_count": 92,
   "metadata": {},
   "outputs": [
    {
     "data": {
      "text/html": [
       "<style>\n",
       ".list-inline {list-style: none; margin:0; padding: 0}\n",
       ".list-inline>li {display: inline-block}\n",
       ".list-inline>li:not(:last-child)::after {content: \"\\00b7\"; padding: 0 .5ex}\n",
       "</style>\n",
       "<ol class=list-inline><li>2315</li><li>1166</li></ol>\n"
      ],
      "text/latex": [
       "\\begin{enumerate*}\n",
       "\\item 2315\n",
       "\\item 1166\n",
       "\\end{enumerate*}\n"
      ],
      "text/markdown": [
       "1. 2315\n",
       "2. 1166\n",
       "\n",
       "\n"
      ],
      "text/plain": [
       "[1] 2315 1166"
      ]
     },
     "metadata": {},
     "output_type": "display_data"
    }
   ],
   "source": [
    "# Extração do número de pontos de dados de cada cluster    \n",
    "bvspmodel2$size"
   ]
  },
  {
   "cell_type": "markdown",
   "metadata": {},
   "source": [
    "**Verificação da acurácia do modelo**"
   ]
  },
  {
   "cell_type": "code",
   "execution_count": 93,
   "metadata": {},
   "outputs": [
    {
     "data": {
      "text/html": [
       "4424.36"
      ],
      "text/latex": [
       "4424.36"
      ],
      "text/markdown": [
       "4424.36"
      ],
      "text/plain": [
       "[1] 4424.36"
      ]
     },
     "metadata": {},
     "output_type": "display_data"
    }
   ],
   "source": [
    "# Cálculo da soma dos quadrados entre clusters\n",
    "round(bvspmodel2$tot.withinss, digits = 2)"
   ]
  },
  {
   "cell_type": "code",
   "execution_count": 94,
   "metadata": {},
   "outputs": [
    {
     "data": {
      "text/html": [
       "11738.45"
      ],
      "text/latex": [
       "11738.45"
      ],
      "text/markdown": [
       "11738.45"
      ],
      "text/plain": [
       "[1] 11738.45"
      ]
     },
     "metadata": {},
     "output_type": "display_data"
    }
   ],
   "source": [
    "# Cálculo da soma total dos quadrados\n",
    "round(bvspmodel2$totss, digits = 2)"
   ]
  },
  {
   "cell_type": "code",
   "execution_count": 95,
   "metadata": {},
   "outputs": [
    {
     "data": {
      "text/html": [
       "0.38"
      ],
      "text/latex": [
       "0.38"
      ],
      "text/markdown": [
       "0.38"
      ],
      "text/plain": [
       "[1] 0.38"
      ]
     },
     "metadata": {},
     "output_type": "display_data"
    }
   ],
   "source": [
    "# Acurácia = Soma dos quadrados entre os Clusters / Soma Total dos quadrados \n",
    "round(bvspmodel2$tot.withinss/bvspmodel2$totss, digits = 2)"
   ]
  },
  {
   "cell_type": "markdown",
   "metadata": {},
   "source": [
    "A acurácia do modelo não é satisfatória."
   ]
  },
  {
   "cell_type": "markdown",
   "metadata": {},
   "source": [
    "**Previsão**"
   ]
  },
  {
   "cell_type": "code",
   "execution_count": 96,
   "metadata": {},
   "outputs": [],
   "source": [
    "# Biblioteca(s) Necessária(s)\n",
    "library(clue)"
   ]
  },
  {
   "cell_type": "code",
   "execution_count": 97,
   "metadata": {},
   "outputs": [
    {
     "data": {
      "text/html": [
       "<style>\n",
       ".list-inline {list-style: none; margin:0; padding: 0}\n",
       ".list-inline>li {display: inline-block}\n",
       ".list-inline>li:not(:last-child)::after {content: \"\\00b7\"; padding: 0 .5ex}\n",
       "</style>\n",
       "<ol class=list-inline><li>2</li><li>2</li><li>2</li><li>2</li><li>2</li><li>2</li></ol>\n"
      ],
      "text/latex": [
       "\\begin{enumerate*}\n",
       "\\item 2\n",
       "\\item 2\n",
       "\\item 2\n",
       "\\item 2\n",
       "\\item 2\n",
       "\\item 2\n",
       "\\end{enumerate*}\n"
      ],
      "text/markdown": [
       "1. 2\n",
       "2. 2\n",
       "3. 2\n",
       "4. 2\n",
       "5. 2\n",
       "6. 2\n",
       "\n",
       "\n"
      ],
      "text/plain": [
       "[1] 2 2 2 2 2 2"
      ]
     },
     "metadata": {},
     "output_type": "display_data"
    }
   ],
   "source": [
    "bvsppredkm <- cl_predict(bvspmodel2, bvsptest2[,-1])   # retirada da coluna \"data\"\n",
    "head(bvsppredkm)"
   ]
  },
  {
   "cell_type": "markdown",
   "metadata": {},
   "source": [
    "# 4. Árvore de decisão"
   ]
  },
  {
   "cell_type": "code",
   "execution_count": 98,
   "metadata": {},
   "outputs": [],
   "source": [
    "# Biblioteca(s) Necessária(s)\n",
    "library(rpart) \n",
    "library(rpart.plot)"
   ]
  },
  {
   "cell_type": "code",
   "execution_count": 99,
   "metadata": {},
   "outputs": [],
   "source": [
    "# Criação da árvore de decisão\n",
    "bvspmodel3 <- rpart(formula, bvsptrain[,-1], method = \"class\")   # retirada da coluna \"data\""
   ]
  },
  {
   "cell_type": "code",
   "execution_count": 100,
   "metadata": {},
   "outputs": [
    {
     "data": {
      "image/png": "[encoded data removed]",
      "text/plain": [
       "plot without title"
      ]
     },
     "metadata": {
      "image/png": {
       "height": 420,
       "width": 420
      }
     },
     "output_type": "display_data"
    }
   ],
   "source": [
    "# Criação da árvore gráfica\n",
    "rpart.plot(bvspmodel3, type = 0, extra = 106, tweak = 1) "
   ]
  },
  {
   "cell_type": "code",
   "execution_count": 101,
   "metadata": {},
   "outputs": [
    {
     "data": {
      "text/html": [
       "<table>\n",
       "<caption>A data.frame: 15 × 1</caption>\n",
       "<thead>\n",
       "\t<tr><th></th><th scope=col>Overall</th></tr>\n",
       "\t<tr><th></th><th scope=col>&lt;dbl&gt;</th></tr>\n",
       "</thead>\n",
       "<tbody>\n",
       "\t<tr><th scope=row>dirret</th><td>1339.11259</td></tr>\n",
       "\t<tr><th scope=row>macd0720</th><td>1329.99117</td></tr>\n",
       "\t<tr><th scope=row>macd1226</th><td>1028.99761</td></tr>\n",
       "\t<tr><th scope=row>rsi14</th><td> 909.63043</td></tr>\n",
       "\t<tr><th scope=row>signal5</th><td>1113.51181</td></tr>\n",
       "\t<tr><th scope=row>signal9</th><td>  16.23536</td></tr>\n",
       "\t<tr><th scope=row>close</th><td>   0.00000</td></tr>\n",
       "\t<tr><th scope=row>avg10</th><td>   0.00000</td></tr>\n",
       "\t<tr><th scope=row>avg20</th><td>   0.00000</td></tr>\n",
       "\t<tr><th scope=row>std10</th><td>   0.00000</td></tr>\n",
       "\t<tr><th scope=row>std20</th><td>   0.00000</td></tr>\n",
       "\t<tr><th scope=row>rsi5</th><td>   0.00000</td></tr>\n",
       "\t<tr><th scope=row>histogram9</th><td>   0.00000</td></tr>\n",
       "\t<tr><th scope=row>histogram5</th><td>   0.00000</td></tr>\n",
       "\t<tr><th scope=row>bbands</th><td>   0.00000</td></tr>\n",
       "</tbody>\n",
       "</table>\n"
      ],
      "text/latex": [
       "A data.frame: 15 × 1\n",
       "\\begin{tabular}{r|l}\n",
       "  & Overall\\\\\n",
       "  & <dbl>\\\\\n",
       "\\hline\n",
       "\tdirret & 1339.11259\\\\\n",
       "\tmacd0720 & 1329.99117\\\\\n",
       "\tmacd1226 & 1028.99761\\\\\n",
       "\trsi14 &  909.63043\\\\\n",
       "\tsignal5 & 1113.51181\\\\\n",
       "\tsignal9 &   16.23536\\\\\n",
       "\tclose &    0.00000\\\\\n",
       "\tavg10 &    0.00000\\\\\n",
       "\tavg20 &    0.00000\\\\\n",
       "\tstd10 &    0.00000\\\\\n",
       "\tstd20 &    0.00000\\\\\n",
       "\trsi5 &    0.00000\\\\\n",
       "\thistogram9 &    0.00000\\\\\n",
       "\thistogram5 &    0.00000\\\\\n",
       "\tbbands &    0.00000\\\\\n",
       "\\end{tabular}\n"
      ],
      "text/markdown": [
       "\n",
       "A data.frame: 15 × 1\n",
       "\n",
       "| <!--/--> | Overall &lt;dbl&gt; |\n",
       "|---|---|\n",
       "| dirret | 1339.11259 |\n",
       "| macd0720 | 1329.99117 |\n",
       "| macd1226 | 1028.99761 |\n",
       "| rsi14 |  909.63043 |\n",
       "| signal5 | 1113.51181 |\n",
       "| signal9 |   16.23536 |\n",
       "| close |    0.00000 |\n",
       "| avg10 |    0.00000 |\n",
       "| avg20 |    0.00000 |\n",
       "| std10 |    0.00000 |\n",
       "| std20 |    0.00000 |\n",
       "| rsi5 |    0.00000 |\n",
       "| histogram9 |    0.00000 |\n",
       "| histogram5 |    0.00000 |\n",
       "| bbands |    0.00000 |\n",
       "\n"
      ],
      "text/plain": [
       "           Overall   \n",
       "dirret     1339.11259\n",
       "macd0720   1329.99117\n",
       "macd1226   1028.99761\n",
       "rsi14       909.63043\n",
       "signal5    1113.51181\n",
       "signal9      16.23536\n",
       "close         0.00000\n",
       "avg10         0.00000\n",
       "avg20         0.00000\n",
       "std10         0.00000\n",
       "std20         0.00000\n",
       "rsi5          0.00000\n",
       "histogram9    0.00000\n",
       "histogram5    0.00000\n",
       "bbands        0.00000"
      ]
     },
     "metadata": {},
     "output_type": "display_data"
    }
   ],
   "source": [
    "# Importância dos atributos\n",
    "bvspimp <- varImp(bvspmodel3, scale = F)\n",
    "bvspimp"
   ]
  },
  {
   "cell_type": "markdown",
   "metadata": {},
   "source": [
    "### 4.1. Análise para dados de treino"
   ]
  },
  {
   "cell_type": "code",
   "execution_count": 102,
   "metadata": {},
   "outputs": [],
   "source": [
    "# Previsão\n",
    "bvsppred <- predict(bvspmodel3, bvsptrain[,-1], type = \"class\")   # retirada da coluna \"data\""
   ]
  },
  {
   "cell_type": "code",
   "execution_count": 103,
   "metadata": {},
   "outputs": [
    {
     "data": {
      "text/plain": [
       "Confusion Matrix and Statistics\n",
       "\n",
       "        \n",
       "bvsppred    0    1\n",
       "       0 1411  115\n",
       "       1  111 1844\n",
       "                                         \n",
       "               Accuracy : 0.9351         \n",
       "                 95% CI : (0.9264, 0.943)\n",
       "    No Information Rate : 0.5628         \n",
       "    P-Value [Acc > NIR] : <2e-16         \n",
       "                                         \n",
       "                  Kappa : 0.8681         \n",
       "                                         \n",
       " Mcnemar's Test P-Value : 0.8418         \n",
       "                                         \n",
       "            Sensitivity : 0.9271         \n",
       "            Specificity : 0.9413         \n",
       "         Pos Pred Value : 0.9246         \n",
       "         Neg Pred Value : 0.9432         \n",
       "             Prevalence : 0.4372         \n",
       "         Detection Rate : 0.4053         \n",
       "   Detection Prevalence : 0.4384         \n",
       "      Balanced Accuracy : 0.9342         \n",
       "                                         \n",
       "       'Positive' Class : 0              \n",
       "                                         "
      ]
     },
     "metadata": {},
     "output_type": "display_data"
    }
   ],
   "source": [
    "# Matriz de Confusão de treino\n",
    "confusionMatrix(table(bvsppred, bvsptrain$direction)) "
   ]
  },
  {
   "cell_type": "markdown",
   "metadata": {},
   "source": [
    "### 4.2. Análise para dados de teste"
   ]
  },
  {
   "cell_type": "code",
   "execution_count": 104,
   "metadata": {},
   "outputs": [],
   "source": [
    "# Previsão\n",
    "bvsppred <- predict(bvspmodel3, bvsptest[,-1], type = \"class\")   # retirada da coluna \"data\""
   ]
  },
  {
   "cell_type": "code",
   "execution_count": 105,
   "metadata": {},
   "outputs": [
    {
     "data": {
      "text/plain": [
       "Confusion Matrix and Statistics\n",
       "\n",
       "        \n",
       "bvsppred   0   1\n",
       "       0 580  56\n",
       "       1  53 780\n",
       "                                          \n",
       "               Accuracy : 0.9258          \n",
       "                 95% CI : (0.9112, 0.9387)\n",
       "    No Information Rate : 0.5691          \n",
       "    P-Value [Acc > NIR] : <2e-16          \n",
       "                                          \n",
       "                  Kappa : 0.8488          \n",
       "                                          \n",
       " Mcnemar's Test P-Value : 0.8481          \n",
       "                                          \n",
       "            Sensitivity : 0.9163          \n",
       "            Specificity : 0.9330          \n",
       "         Pos Pred Value : 0.9119          \n",
       "         Neg Pred Value : 0.9364          \n",
       "             Prevalence : 0.4309          \n",
       "         Detection Rate : 0.3948          \n",
       "   Detection Prevalence : 0.4329          \n",
       "      Balanced Accuracy : 0.9246          \n",
       "                                          \n",
       "       'Positive' Class : 0               \n",
       "                                          "
      ]
     },
     "metadata": {},
     "output_type": "display_data"
    }
   ],
   "source": [
    "# Matriz de Confusão de teste\n",
    "confusionMatrix(table(bvsppred, bvsptest$direction)) "
   ]
  },
  {
   "cell_type": "markdown",
   "metadata": {},
   "source": [
    "## 5. K Nearest Neighborhood"
   ]
  },
  {
   "cell_type": "code",
   "execution_count": 106,
   "metadata": {},
   "outputs": [],
   "source": [
    "# Biblioteca(s) Necessária(s)\n",
    "library(class)"
   ]
  },
  {
   "cell_type": "code",
   "execution_count": 107,
   "metadata": {},
   "outputs": [],
   "source": [
    "# Definição do número de Neighborhoods    \n",
    "neighborhood <- 3\n",
    "\n",
    "# O número de neighborhoods corresponde ao número de direções (Up, Down, NoWhere)\n",
    "\n",
    "set.seed(1)\n",
    "\n",
    "isdir <- bvsptrain$dirret"
   ]
  },
  {
   "cell_type": "markdown",
   "metadata": {},
   "source": [
    "### 5.1. Análise para dados de treino"
   ]
  },
  {
   "cell_type": "code",
   "execution_count": 108,
   "metadata": {},
   "outputs": [
    {
     "data": {
      "text/html": [
       "<style>\n",
       ".list-inline {list-style: none; margin:0; padding: 0}\n",
       ".list-inline>li {display: inline-block}\n",
       ".list-inline>li:not(:last-child)::after {content: \"\\00b7\"; padding: 0 .5ex}\n",
       "</style>\n",
       "<ol class=list-inline><li>down</li><li>down</li><li>down</li><li>down</li><li>down</li><li>down</li></ol>\n",
       "\n",
       "<details>\n",
       "\t<summary style=display:list-item;cursor:pointer>\n",
       "\t\t<strong>Levels</strong>:\n",
       "\t</summary>\n",
       "\t<style>\n",
       "\t.list-inline {list-style: none; margin:0; padding: 0}\n",
       "\t.list-inline>li {display: inline-block}\n",
       "\t.list-inline>li:not(:last-child)::after {content: \"\\00b7\"; padding: 0 .5ex}\n",
       "\t</style>\n",
       "\t<ol class=list-inline><li>'down'</li><li>'nowhere'</li><li>'up'</li></ol>\n",
       "</details>"
      ],
      "text/latex": [
       "\\begin{enumerate*}\n",
       "\\item down\n",
       "\\item down\n",
       "\\item down\n",
       "\\item down\n",
       "\\item down\n",
       "\\item down\n",
       "\\end{enumerate*}\n",
       "\n",
       "\\emph{Levels}: \\begin{enumerate*}\n",
       "\\item 'down'\n",
       "\\item 'nowhere'\n",
       "\\item 'up'\n",
       "\\end{enumerate*}\n"
      ],
      "text/markdown": [
       "1. down\n",
       "2. down\n",
       "3. down\n",
       "4. down\n",
       "5. down\n",
       "6. down\n",
       "\n",
       "\n",
       "\n",
       "**Levels**: 1. 'down'\n",
       "2. 'nowhere'\n",
       "3. 'up'\n",
       "\n",
       "\n"
      ],
      "text/plain": [
       "[1] down down down down down down\n",
       "Levels: down nowhere up"
      ]
     },
     "metadata": {},
     "output_type": "display_data"
    }
   ],
   "source": [
    "# modelo avaliado por treino\n",
    "bvspmodel4_train <- knn(bvsptrain2[,-1], bvsptrain2[,-1], isdir, neighborhood)   # retirada da coluna \"data\"\n",
    "head(bvspmodel4_train)\n"
   ]
  },
  {
   "cell_type": "code",
   "execution_count": 109,
   "metadata": {},
   "outputs": [
    {
     "data": {
      "text/plain": [
       "Confusion Matrix and Statistics\n",
       "\n",
       "                \n",
       "bvspmodel4_train down nowhere   up\n",
       "         down    1060      66   11\n",
       "         nowhere   77     623   59\n",
       "         up         7      59 1519\n",
       "\n",
       "Overall Statistics\n",
       "                                          \n",
       "               Accuracy : 0.9199          \n",
       "                 95% CI : (0.9103, 0.9287)\n",
       "    No Information Rate : 0.4565          \n",
       "    P-Value [Acc > NIR] : <2e-16          \n",
       "                                          \n",
       "                  Kappa : 0.8744          \n",
       "                                          \n",
       " Mcnemar's Test P-Value : 0.6292          \n",
       "\n",
       "Statistics by Class:\n",
       "\n",
       "                     Class: down Class: nowhere Class: up\n",
       "Sensitivity               0.9266         0.8329    0.9559\n",
       "Specificity               0.9671         0.9502    0.9651\n",
       "Pos Pred Value            0.9323         0.8208    0.9584\n",
       "Neg Pred Value            0.9642         0.9541    0.9631\n",
       "Prevalence                0.3286         0.2149    0.4565\n",
       "Detection Rate            0.3045         0.1790    0.4364\n",
       "Detection Prevalence      0.3266         0.2180    0.4553\n",
       "Balanced Accuracy         0.9468         0.8916    0.9605"
      ]
     },
     "metadata": {},
     "output_type": "display_data"
    }
   ],
   "source": [
    "# Matriz de Confusão de treino\n",
    "confusionMatrix(table(bvspmodel4_train, bvsptrain$dirret)) "
   ]
  },
  {
   "cell_type": "markdown",
   "metadata": {},
   "source": [
    "### 5.2. Análise para dados de teste"
   ]
  },
  {
   "cell_type": "code",
   "execution_count": 110,
   "metadata": {},
   "outputs": [
    {
     "data": {
      "text/html": [
       "<style>\n",
       ".list-inline {list-style: none; margin:0; padding: 0}\n",
       ".list-inline>li {display: inline-block}\n",
       ".list-inline>li:not(:last-child)::after {content: \"\\00b7\"; padding: 0 .5ex}\n",
       "</style>\n",
       "<ol class=list-inline><li>down</li><li>down</li><li>down</li><li>down</li><li>down</li><li>down</li></ol>\n",
       "\n",
       "<details>\n",
       "\t<summary style=display:list-item;cursor:pointer>\n",
       "\t\t<strong>Levels</strong>:\n",
       "\t</summary>\n",
       "\t<style>\n",
       "\t.list-inline {list-style: none; margin:0; padding: 0}\n",
       "\t.list-inline>li {display: inline-block}\n",
       "\t.list-inline>li:not(:last-child)::after {content: \"\\00b7\"; padding: 0 .5ex}\n",
       "\t</style>\n",
       "\t<ol class=list-inline><li>'down'</li><li>'nowhere'</li><li>'up'</li></ol>\n",
       "</details>"
      ],
      "text/latex": [
       "\\begin{enumerate*}\n",
       "\\item down\n",
       "\\item down\n",
       "\\item down\n",
       "\\item down\n",
       "\\item down\n",
       "\\item down\n",
       "\\end{enumerate*}\n",
       "\n",
       "\\emph{Levels}: \\begin{enumerate*}\n",
       "\\item 'down'\n",
       "\\item 'nowhere'\n",
       "\\item 'up'\n",
       "\\end{enumerate*}\n"
      ],
      "text/markdown": [
       "1. down\n",
       "2. down\n",
       "3. down\n",
       "4. down\n",
       "5. down\n",
       "6. down\n",
       "\n",
       "\n",
       "\n",
       "**Levels**: 1. 'down'\n",
       "2. 'nowhere'\n",
       "3. 'up'\n",
       "\n",
       "\n"
      ],
      "text/plain": [
       "[1] down down down down down down\n",
       "Levels: down nowhere up"
      ]
     },
     "metadata": {},
     "output_type": "display_data"
    }
   ],
   "source": [
    "bvspmodel4_test <- knn(bvsptrain2[,-1], bvsptest2[,-1], isdir, neighborhood)   # retirada da coluna \"data\"\n",
    "head(bvspmodel4_test)"
   ]
  },
  {
   "cell_type": "code",
   "execution_count": 111,
   "metadata": {},
   "outputs": [
    {
     "data": {
      "text/html": [
       "<style>\n",
       ".dl-inline {width: auto; margin:0; padding: 0}\n",
       ".dl-inline>dt, .dl-inline>dd {float: none; width: auto; display: inline-block}\n",
       ".dl-inline>dt::after {content: \":\\0020\"; padding-right: .5ex}\n",
       ".dl-inline>dt:not(:first-of-type) {padding-left: .5ex}\n",
       "</style><dl class=dl-inline><dt>down</dt><dd>461</dd><dt>nowhere</dt><dd>337</dd><dt>up</dt><dd>671</dd></dl>\n"
      ],
      "text/latex": [
       "\\begin{description*}\n",
       "\\item[down] 461\n",
       "\\item[nowhere] 337\n",
       "\\item[up] 671\n",
       "\\end{description*}\n"
      ],
      "text/markdown": [
       "down\n",
       ":   461nowhere\n",
       ":   337up\n",
       ":   671\n",
       "\n"
      ],
      "text/plain": [
       "   down nowhere      up \n",
       "    461     337     671 "
      ]
     },
     "metadata": {},
     "output_type": "display_data"
    }
   ],
   "source": [
    "summary(bvspmodel4_test)"
   ]
  },
  {
   "cell_type": "code",
   "execution_count": 112,
   "metadata": {},
   "outputs": [
    {
     "data": {
      "text/plain": [
       "Confusion Matrix and Statistics\n",
       "\n",
       "               \n",
       "bvspmodel4_test down nowhere  up\n",
       "        down     390      65   6\n",
       "        nowhere   64     206  67\n",
       "        up         9      65 597\n",
       "\n",
       "Overall Statistics\n",
       "                                          \n",
       "               Accuracy : 0.8121          \n",
       "                 95% CI : (0.7912, 0.8318)\n",
       "    No Information Rate : 0.4561          \n",
       "    P-Value [Acc > NIR] : <2e-16          \n",
       "                                          \n",
       "                  Kappa : 0.7066          \n",
       "                                          \n",
       " Mcnemar's Test P-Value : 0.8877          \n",
       "\n",
       "Statistics by Class:\n",
       "\n",
       "                     Class: down Class: nowhere Class: up\n",
       "Sensitivity               0.8423         0.6131    0.8910\n",
       "Specificity               0.9294         0.8844    0.9074\n",
       "Pos Pred Value            0.8460         0.6113    0.8897\n",
       "Neg Pred Value            0.9276         0.8852    0.9085\n",
       "Prevalence                0.3152         0.2287    0.4561\n",
       "Detection Rate            0.2655         0.1402    0.4064\n",
       "Detection Prevalence      0.3138         0.2294    0.4568\n",
       "Balanced Accuracy         0.8859         0.7487    0.8992"
      ]
     },
     "metadata": {},
     "output_type": "display_data"
    }
   ],
   "source": [
    "# Matriz de Confusão de teste\n",
    "confusionMatrix(table(bvspmodel4_test, bvsptest$dirret)) "
   ]
  },
  {
   "cell_type": "markdown",
   "metadata": {},
   "source": [
    "## 6. Support Vector Machine"
   ]
  },
  {
   "cell_type": "code",
   "execution_count": 113,
   "metadata": {},
   "outputs": [
    {
     "data": {
      "text/plain": [
       "$call\n",
       "svm.default(x = bvsptrain2[, -1], y = as.factor(isdir))\n",
       "\n",
       "$type\n",
       "[1] 0\n",
       "\n",
       "$kernel\n",
       "[1] 2\n",
       "\n",
       "$cost\n",
       "[1] 1\n",
       "\n",
       "$degree\n",
       "[1] 3\n",
       "\n",
       "$gamma\n",
       "[1] 0.07142857\n"
      ]
     },
     "metadata": {},
     "output_type": "display_data"
    }
   ],
   "source": [
    "bvspmodel5 <- svm(bvsptrain2[,-1], as.factor(isdir))    # retirada da coluna \"data\"\n",
    "head(bvspmodel5)"
   ]
  },
  {
   "cell_type": "markdown",
   "metadata": {},
   "source": [
    "### 6.1. Análise para dados de treino"
   ]
  },
  {
   "cell_type": "code",
   "execution_count": 114,
   "metadata": {},
   "outputs": [
    {
     "data": {
      "text/plain": [
       "Confusion Matrix and Statistics\n",
       "\n",
       "           \n",
       "bvsppredsvm down nowhere   up\n",
       "    down     985     149   23\n",
       "    nowhere  134     432  106\n",
       "    up        25     167 1460\n",
       "\n",
       "Overall Statistics\n",
       "                                          \n",
       "               Accuracy : 0.8265          \n",
       "                 95% CI : (0.8135, 0.8389)\n",
       "    No Information Rate : 0.4565          \n",
       "    P-Value [Acc > NIR] : < 2.2e-16       \n",
       "                                          \n",
       "                  Kappa : 0.7257          \n",
       "                                          \n",
       " Mcnemar's Test P-Value : 0.002289        \n",
       "\n",
       "Statistics by Class:\n",
       "\n",
       "                     Class: down Class: nowhere Class: up\n",
       "Sensitivity               0.8610         0.5775    0.9188\n",
       "Specificity               0.9264         0.9122    0.8985\n",
       "Pos Pred Value            0.8513         0.6429    0.8838\n",
       "Neg Pred Value            0.9316         0.8875    0.9295\n",
       "Prevalence                0.3286         0.2149    0.4565\n",
       "Detection Rate            0.2830         0.1241    0.4194\n",
       "Detection Prevalence      0.3324         0.1930    0.4746\n",
       "Balanced Accuracy         0.8937         0.7449    0.9087"
      ]
     },
     "metadata": {},
     "output_type": "display_data"
    }
   ],
   "source": [
    "bvsppredsvm <- predict(bvspmodel5, bvsptrain2[,-1]) \n",
    "# Matriz de Confusão do treinamento\n",
    "confusionMatrix(table(bvsppredsvm, bvsptrain$dirret))"
   ]
  },
  {
   "cell_type": "markdown",
   "metadata": {},
   "source": [
    "### 6.2. Análise para dados de teste"
   ]
  },
  {
   "cell_type": "code",
   "execution_count": 115,
   "metadata": {
    "scrolled": true
   },
   "outputs": [
    {
     "data": {
      "text/html": [
       "<style>\n",
       ".dl-inline {width: auto; margin:0; padding: 0}\n",
       ".dl-inline>dt, .dl-inline>dd {float: none; width: auto; display: inline-block}\n",
       ".dl-inline>dt::after {content: \":\\0020\"; padding-right: .5ex}\n",
       ".dl-inline>dt:not(:first-of-type) {padding-left: .5ex}\n",
       "</style><dl class=dl-inline><dt>1</dt><dd>down</dd><dt>3</dt><dd>down</dd><dt>4</dt><dd>down</dd><dt>10</dt><dd>down</dd><dt>11</dt><dd>down</dd><dt>13</dt><dd>down</dd></dl>\n",
       "\n",
       "<details>\n",
       "\t<summary style=display:list-item;cursor:pointer>\n",
       "\t\t<strong>Levels</strong>:\n",
       "\t</summary>\n",
       "\t<style>\n",
       "\t.list-inline {list-style: none; margin:0; padding: 0}\n",
       "\t.list-inline>li {display: inline-block}\n",
       "\t.list-inline>li:not(:last-child)::after {content: \"\\00b7\"; padding: 0 .5ex}\n",
       "\t</style>\n",
       "\t<ol class=list-inline><li>'down'</li><li>'nowhere'</li><li>'up'</li></ol>\n",
       "</details>"
      ],
      "text/latex": [
       "\\begin{description*}\n",
       "\\item[1] down\n",
       "\\item[3] down\n",
       "\\item[4] down\n",
       "\\item[10] down\n",
       "\\item[11] down\n",
       "\\item[13] down\n",
       "\\end{description*}\n",
       "\n",
       "\\emph{Levels}: \\begin{enumerate*}\n",
       "\\item 'down'\n",
       "\\item 'nowhere'\n",
       "\\item 'up'\n",
       "\\end{enumerate*}\n"
      ],
      "text/markdown": [
       "1\n",
       ":   down3\n",
       ":   down4\n",
       ":   down10\n",
       ":   down11\n",
       ":   down13\n",
       ":   down\n",
       "\n",
       "\n",
       "**Levels**: 1. 'down'\n",
       "2. 'nowhere'\n",
       "3. 'up'\n",
       "\n",
       "\n"
      ],
      "text/plain": [
       "   1    3    4   10   11   13 \n",
       "down down down down down down \n",
       "Levels: down nowhere up"
      ]
     },
     "metadata": {},
     "output_type": "display_data"
    }
   ],
   "source": [
    "bvsppredsvm <- predict(bvspmodel5, bvsptest2[,-1])    # retirada da coluna \"data\"\n",
    "head(bvsppredsvm)"
   ]
  },
  {
   "cell_type": "code",
   "execution_count": 116,
   "metadata": {},
   "outputs": [
    {
     "data": {
      "text/plain": [
       "Confusion Matrix and Statistics\n",
       "\n",
       "           \n",
       "bvsppredsvm down nowhere  up\n",
       "    down     400      89  11\n",
       "    nowhere   54     158  49\n",
       "    up         9      89 610\n",
       "\n",
       "Overall Statistics\n",
       "                                          \n",
       "               Accuracy : 0.7951          \n",
       "                 95% CI : (0.7735, 0.8155)\n",
       "    No Information Rate : 0.4561          \n",
       "    P-Value [Acc > NIR] : < 2.2e-16       \n",
       "                                          \n",
       "                  Kappa : 0.6759          \n",
       "                                          \n",
       " Mcnemar's Test P-Value : 0.0001429       \n",
       "\n",
       "Statistics by Class:\n",
       "\n",
       "                     Class: down Class: nowhere Class: up\n",
       "Sensitivity               0.8639         0.4702    0.9104\n",
       "Specificity               0.9006         0.9091    0.8773\n",
       "Pos Pred Value            0.8000         0.6054    0.8616\n",
       "Neg Pred Value            0.9350         0.8526    0.9212\n",
       "Prevalence                0.3152         0.2287    0.4561\n",
       "Detection Rate            0.2723         0.1076    0.4152\n",
       "Detection Prevalence      0.3404         0.1777    0.4820\n",
       "Balanced Accuracy         0.8823         0.6897    0.8939"
      ]
     },
     "metadata": {},
     "output_type": "display_data"
    }
   ],
   "source": [
    "# Matriz de Confusão de teste\n",
    "confusionMatrix(table(bvsppredsvm, bvsptest$dirret)) "
   ]
  },
  {
   "cell_type": "markdown",
   "metadata": {},
   "source": [
    "## 7. Regressão Linear"
   ]
  },
  {
   "cell_type": "code",
   "execution_count": 117,
   "metadata": {},
   "outputs": [
    {
     "data": {
      "text/plain": [
       "\n",
       "Call:\n",
       "lm(formula = close ~ avg10 + avg20 + std10 + std20 + rsi14 + \n",
       "    rsi5 + macd1226 + signal9 + histogram9 + macd0720 + signal5 + \n",
       "    histogram5 + bbands, data = bvspz)\n",
       "\n",
       "Residuals:\n",
       "     Min       1Q   Median       3Q      Max \n",
       "-2.70361 -0.00780 -0.00120  0.00749  2.64366 \n",
       "\n",
       "Coefficients: (1 not defined because of singularities)\n",
       "             Estimate Std. Error t value Pr(>|t|)    \n",
       "(Intercept)  3.324521   0.928119   3.582 0.000344 ***\n",
       "avg10        0.803375   0.059407  13.523  < 2e-16 ***\n",
       "avg20        0.195688   0.059439   3.292 0.001001 ** \n",
       "std10       -0.070854   0.049536  -1.430 0.152674    \n",
       "std20        0.009073   0.035775   0.254 0.799796    \n",
       "rsi14        2.082993   2.170160   0.960 0.337186    \n",
       "rsi5         0.400012   1.247791   0.321 0.748545    \n",
       "macd1226    -0.579989   0.265656  -2.183 0.029066 *  \n",
       "signal9      0.235159   0.105762   2.223 0.026228 *  \n",
       "histogram9  -0.098285   0.227591  -0.432 0.665869    \n",
       "macd0720     0.857371   0.242274   3.539 0.000406 ***\n",
       "signal5      0.317636   0.083374   3.810 0.000141 ***\n",
       "histogram5   3.686314   0.158422  23.269  < 2e-16 ***\n",
       "bbands             NA         NA      NA       NA    \n",
       "---\n",
       "Signif. codes:  0 '***' 0.001 '**' 0.01 '*' 0.05 '.' 0.1 ' ' 1\n",
       "\n",
       "Residual standard error: 0.05709 on 4937 degrees of freedom\n",
       "Multiple R-squared:  0.9971,\tAdjusted R-squared:  0.9971 \n",
       "F-statistic: 1.399e+05 on 12 and 4937 DF,  p-value: < 2.2e-16\n"
      ]
     },
     "metadata": {},
     "output_type": "display_data"
    }
   ],
   "source": [
    "# Construção do modelo\n",
    "bvsplm.fit = lm(close ~ avg10 + avg20 + std10 + std20 + rsi14 + rsi5 + macd1226 + signal9 +\n",
    "                  histogram9 + macd0720 + signal5 + histogram5 + bbands, data = bvspz)\n",
    "\n",
    "summary(bvsplm.fit)"
   ]
  },
  {
   "cell_type": "code",
   "execution_count": 118,
   "metadata": {
    "scrolled": false
   },
   "outputs": [
    {
     "data": {
      "image/png": "[encoded data removed]",
      "text/plain": [
       "Plot with title \"\""
      ]
     },
     "metadata": {
      "image/png": {
       "height": 420,
       "width": 420
      }
     },
     "output_type": "display_data"
    }
   ],
   "source": [
    "# Análise Gráfica\n",
    "par(mfrow=c(2,2))\n",
    "plot(bvsplm.fit)"
   ]
  },
  {
   "cell_type": "code",
   "execution_count": 119,
   "metadata": {},
   "outputs": [
    {
     "name": "stderr",
     "output_type": "stream",
     "text": [
      "Warning message in predict.lm(bvsplm.fit, bvsptest[, -c(1, 16, 17)]):\n",
      "\"prediction from a rank-deficient fit may be misleading\"\n"
     ]
    }
   ],
   "source": [
    "# Previsão\n",
    "bvsprlm <- predict(bvsplm.fit, bvsptest[,-c(1,16,17)])"
   ]
  },
  {
   "cell_type": "code",
   "execution_count": 120,
   "metadata": {
    "scrolled": false
   },
   "outputs": [
    {
     "data": {
      "text/html": [
       "<table>\n",
       "<caption>A anova: 13 × 5</caption>\n",
       "<thead>\n",
       "\t<tr><th></th><th scope=col>Df</th><th scope=col>Sum Sq</th><th scope=col>Mean Sq</th><th scope=col>F value</th><th scope=col>Pr(&gt;F)</th></tr>\n",
       "\t<tr><th></th><th scope=col>&lt;int&gt;</th><th scope=col>&lt;dbl&gt;</th><th scope=col>&lt;dbl&gt;</th><th scope=col>&lt;dbl&gt;</th><th scope=col>&lt;dbl&gt;</th></tr>\n",
       "</thead>\n",
       "<tbody>\n",
       "\t<tr><th scope=row>avg10</th><td>   1</td><td>5.454000e+03</td><td>5.454000e+03</td><td>1.673409e+06</td><td> 0.000000e+00</td></tr>\n",
       "\t<tr><th scope=row>avg20</th><td>   1</td><td>4.099299e+00</td><td>4.099299e+00</td><td>1.257757e+03</td><td>1.267455e-245</td></tr>\n",
       "\t<tr><th scope=row>std10</th><td>   1</td><td>6.563402e-02</td><td>6.563402e-02</td><td>2.013799e+01</td><td> 7.368939e-06</td></tr>\n",
       "\t<tr><th scope=row>std20</th><td>   1</td><td>1.012818e-01</td><td>1.012818e-01</td><td>3.107553e+01</td><td> 2.613739e-08</td></tr>\n",
       "\t<tr><th scope=row>rsi14</th><td>   1</td><td>3.297501e+00</td><td>3.297501e+00</td><td>1.011747e+03</td><td>3.835671e-202</td></tr>\n",
       "\t<tr><th scope=row>rsi5</th><td>   1</td><td>4.225848e+00</td><td>4.225848e+00</td><td>1.296585e+03</td><td>2.506850e-252</td></tr>\n",
       "\t<tr><th scope=row>macd1226</th><td>   1</td><td>7.243177e-02</td><td>7.243177e-02</td><td>2.222369e+01</td><td> 2.493387e-06</td></tr>\n",
       "\t<tr><th scope=row>signal9</th><td>   1</td><td>2.144022e+00</td><td>2.144022e+00</td><td>6.578339e+02</td><td>2.632683e-136</td></tr>\n",
       "\t<tr><th scope=row>histogram9</th><td>   1</td><td>2.475007e+00</td><td>2.475007e+00</td><td>7.593873e+02</td><td>1.283859e-155</td></tr>\n",
       "\t<tr><th scope=row>macd0720</th><td>   1</td><td>3.215460e-01</td><td>3.215460e-01</td><td>9.865752e+01</td><td> 4.930509e-23</td></tr>\n",
       "\t<tr><th scope=row>signal5</th><td>   1</td><td>6.276079e-02</td><td>6.276079e-02</td><td>1.925641e+01</td><td> 1.166691e-05</td></tr>\n",
       "\t<tr><th scope=row>histogram5</th><td>   1</td><td>1.764689e+00</td><td>1.764689e+00</td><td>5.414459e+02</td><td>9.883947e-114</td></tr>\n",
       "\t<tr><th scope=row>Residuals</th><td>4937</td><td>1.609074e+01</td><td>3.259215e-03</td><td>          NA</td><td>           NA</td></tr>\n",
       "</tbody>\n",
       "</table>\n"
      ],
      "text/latex": [
       "A anova: 13 × 5\n",
       "\\begin{tabular}{r|lllll}\n",
       "  & Df & Sum Sq & Mean Sq & F value & Pr(>F)\\\\\n",
       "  & <int> & <dbl> & <dbl> & <dbl> & <dbl>\\\\\n",
       "\\hline\n",
       "\tavg10 &    1 & 5.454000e+03 & 5.454000e+03 & 1.673409e+06 &  0.000000e+00\\\\\n",
       "\tavg20 &    1 & 4.099299e+00 & 4.099299e+00 & 1.257757e+03 & 1.267455e-245\\\\\n",
       "\tstd10 &    1 & 6.563402e-02 & 6.563402e-02 & 2.013799e+01 &  7.368939e-06\\\\\n",
       "\tstd20 &    1 & 1.012818e-01 & 1.012818e-01 & 3.107553e+01 &  2.613739e-08\\\\\n",
       "\trsi14 &    1 & 3.297501e+00 & 3.297501e+00 & 1.011747e+03 & 3.835671e-202\\\\\n",
       "\trsi5 &    1 & 4.225848e+00 & 4.225848e+00 & 1.296585e+03 & 2.506850e-252\\\\\n",
       "\tmacd1226 &    1 & 7.243177e-02 & 7.243177e-02 & 2.222369e+01 &  2.493387e-06\\\\\n",
       "\tsignal9 &    1 & 2.144022e+00 & 2.144022e+00 & 6.578339e+02 & 2.632683e-136\\\\\n",
       "\thistogram9 &    1 & 2.475007e+00 & 2.475007e+00 & 7.593873e+02 & 1.283859e-155\\\\\n",
       "\tmacd0720 &    1 & 3.215460e-01 & 3.215460e-01 & 9.865752e+01 &  4.930509e-23\\\\\n",
       "\tsignal5 &    1 & 6.276079e-02 & 6.276079e-02 & 1.925641e+01 &  1.166691e-05\\\\\n",
       "\thistogram5 &    1 & 1.764689e+00 & 1.764689e+00 & 5.414459e+02 & 9.883947e-114\\\\\n",
       "\tResiduals & 4937 & 1.609074e+01 & 3.259215e-03 &           NA &            NA\\\\\n",
       "\\end{tabular}\n"
      ],
      "text/markdown": [
       "\n",
       "A anova: 13 × 5\n",
       "\n",
       "| <!--/--> | Df &lt;int&gt; | Sum Sq &lt;dbl&gt; | Mean Sq &lt;dbl&gt; | F value &lt;dbl&gt; | Pr(&gt;F) &lt;dbl&gt; |\n",
       "|---|---|---|---|---|---|\n",
       "| avg10 |    1 | 5.454000e+03 | 5.454000e+03 | 1.673409e+06 |  0.000000e+00 |\n",
       "| avg20 |    1 | 4.099299e+00 | 4.099299e+00 | 1.257757e+03 | 1.267455e-245 |\n",
       "| std10 |    1 | 6.563402e-02 | 6.563402e-02 | 2.013799e+01 |  7.368939e-06 |\n",
       "| std20 |    1 | 1.012818e-01 | 1.012818e-01 | 3.107553e+01 |  2.613739e-08 |\n",
       "| rsi14 |    1 | 3.297501e+00 | 3.297501e+00 | 1.011747e+03 | 3.835671e-202 |\n",
       "| rsi5 |    1 | 4.225848e+00 | 4.225848e+00 | 1.296585e+03 | 2.506850e-252 |\n",
       "| macd1226 |    1 | 7.243177e-02 | 7.243177e-02 | 2.222369e+01 |  2.493387e-06 |\n",
       "| signal9 |    1 | 2.144022e+00 | 2.144022e+00 | 6.578339e+02 | 2.632683e-136 |\n",
       "| histogram9 |    1 | 2.475007e+00 | 2.475007e+00 | 7.593873e+02 | 1.283859e-155 |\n",
       "| macd0720 |    1 | 3.215460e-01 | 3.215460e-01 | 9.865752e+01 |  4.930509e-23 |\n",
       "| signal5 |    1 | 6.276079e-02 | 6.276079e-02 | 1.925641e+01 |  1.166691e-05 |\n",
       "| histogram5 |    1 | 1.764689e+00 | 1.764689e+00 | 5.414459e+02 | 9.883947e-114 |\n",
       "| Residuals | 4937 | 1.609074e+01 | 3.259215e-03 |           NA |            NA |\n",
       "\n"
      ],
      "text/plain": [
       "           Df   Sum Sq       Mean Sq      F value      Pr(>F)       \n",
       "avg10         1 5.454000e+03 5.454000e+03 1.673409e+06  0.000000e+00\n",
       "avg20         1 4.099299e+00 4.099299e+00 1.257757e+03 1.267455e-245\n",
       "std10         1 6.563402e-02 6.563402e-02 2.013799e+01  7.368939e-06\n",
       "std20         1 1.012818e-01 1.012818e-01 3.107553e+01  2.613739e-08\n",
       "rsi14         1 3.297501e+00 3.297501e+00 1.011747e+03 3.835671e-202\n",
       "rsi5          1 4.225848e+00 4.225848e+00 1.296585e+03 2.506850e-252\n",
       "macd1226      1 7.243177e-02 7.243177e-02 2.222369e+01  2.493387e-06\n",
       "signal9       1 2.144022e+00 2.144022e+00 6.578339e+02 2.632683e-136\n",
       "histogram9    1 2.475007e+00 2.475007e+00 7.593873e+02 1.283859e-155\n",
       "macd0720      1 3.215460e-01 3.215460e-01 9.865752e+01  4.930509e-23\n",
       "signal5       1 6.276079e-02 6.276079e-02 1.925641e+01  1.166691e-05\n",
       "histogram5    1 1.764689e+00 1.764689e+00 5.414459e+02 9.883947e-114\n",
       "Residuals  4937 1.609074e+01 3.259215e-03           NA            NA"
      ]
     },
     "metadata": {},
     "output_type": "display_data"
    }
   ],
   "source": [
    "# Significância do modelo\n",
    "anova(bvsplm.fit)"
   ]
  },
  {
   "cell_type": "code",
   "execution_count": 121,
   "metadata": {},
   "outputs": [
    {
     "data": {
      "text/html": [
       "<table>\n",
       "<caption>A data.frame: 12 × 1</caption>\n",
       "<thead>\n",
       "\t<tr><th></th><th scope=col>Overall</th></tr>\n",
       "\t<tr><th></th><th scope=col>&lt;dbl&gt;</th></tr>\n",
       "</thead>\n",
       "<tbody>\n",
       "\t<tr><th scope=row>avg10</th><td>13.52</td></tr>\n",
       "\t<tr><th scope=row>avg20</th><td> 3.29</td></tr>\n",
       "\t<tr><th scope=row>std10</th><td> 1.43</td></tr>\n",
       "\t<tr><th scope=row>std20</th><td> 0.25</td></tr>\n",
       "\t<tr><th scope=row>rsi14</th><td> 0.96</td></tr>\n",
       "\t<tr><th scope=row>rsi5</th><td> 0.32</td></tr>\n",
       "\t<tr><th scope=row>macd1226</th><td> 2.18</td></tr>\n",
       "\t<tr><th scope=row>signal9</th><td> 2.22</td></tr>\n",
       "\t<tr><th scope=row>histogram9</th><td> 0.43</td></tr>\n",
       "\t<tr><th scope=row>macd0720</th><td> 3.54</td></tr>\n",
       "\t<tr><th scope=row>signal5</th><td> 3.81</td></tr>\n",
       "\t<tr><th scope=row>histogram5</th><td>23.27</td></tr>\n",
       "</tbody>\n",
       "</table>\n"
      ],
      "text/latex": [
       "A data.frame: 12 × 1\n",
       "\\begin{tabular}{r|l}\n",
       "  & Overall\\\\\n",
       "  & <dbl>\\\\\n",
       "\\hline\n",
       "\tavg10 & 13.52\\\\\n",
       "\tavg20 &  3.29\\\\\n",
       "\tstd10 &  1.43\\\\\n",
       "\tstd20 &  0.25\\\\\n",
       "\trsi14 &  0.96\\\\\n",
       "\trsi5 &  0.32\\\\\n",
       "\tmacd1226 &  2.18\\\\\n",
       "\tsignal9 &  2.22\\\\\n",
       "\thistogram9 &  0.43\\\\\n",
       "\tmacd0720 &  3.54\\\\\n",
       "\tsignal5 &  3.81\\\\\n",
       "\thistogram5 & 23.27\\\\\n",
       "\\end{tabular}\n"
      ],
      "text/markdown": [
       "\n",
       "A data.frame: 12 × 1\n",
       "\n",
       "| <!--/--> | Overall &lt;dbl&gt; |\n",
       "|---|---|\n",
       "| avg10 | 13.52 |\n",
       "| avg20 |  3.29 |\n",
       "| std10 |  1.43 |\n",
       "| std20 |  0.25 |\n",
       "| rsi14 |  0.96 |\n",
       "| rsi5 |  0.32 |\n",
       "| macd1226 |  2.18 |\n",
       "| signal9 |  2.22 |\n",
       "| histogram9 |  0.43 |\n",
       "| macd0720 |  3.54 |\n",
       "| signal5 |  3.81 |\n",
       "| histogram5 | 23.27 |\n",
       "\n"
      ],
      "text/plain": [
       "           Overall\n",
       "avg10      13.52  \n",
       "avg20       3.29  \n",
       "std10       1.43  \n",
       "std20       0.25  \n",
       "rsi14       0.96  \n",
       "rsi5        0.32  \n",
       "macd1226    2.18  \n",
       "signal9     2.22  \n",
       "histogram9  0.43  \n",
       "macd0720    3.54  \n",
       "signal5     3.81  \n",
       "histogram5 23.27  "
      ]
     },
     "metadata": {},
     "output_type": "display_data"
    }
   ],
   "source": [
    "# Cálculo da importância das variáveis no modelo\n",
    "round(varImp(bvsplm.fit, scale = TRUE), digits = 2)"
   ]
  },
  {
   "cell_type": "markdown",
   "metadata": {},
   "source": [
    "**Métricas de Avaliação**"
   ]
  },
  {
   "cell_type": "code",
   "execution_count": 122,
   "metadata": {},
   "outputs": [
    {
     "name": "stderr",
     "output_type": "stream",
     "text": [
      "\n",
      "Attaching package: 'Metrics'\n",
      "\n",
      "\n",
      "The following object is masked from 'package:precrec':\n",
      "\n",
      "    auc\n",
      "\n",
      "\n",
      "The following objects are masked from 'package:caret':\n",
      "\n",
      "    precision, recall\n",
      "\n",
      "\n"
     ]
    }
   ],
   "source": [
    "# Biblioteca(s) Necessária(s)\n",
    "library(Metrics)"
   ]
  },
  {
   "cell_type": "code",
   "execution_count": 123,
   "metadata": {},
   "outputs": [
    {
     "data": {
      "text/html": [
       "0.02"
      ],
      "text/latex": [
       "0.02"
      ],
      "text/markdown": [
       "0.02"
      ],
      "text/plain": [
       "[1] 0.02"
      ]
     },
     "metadata": {},
     "output_type": "display_data"
    }
   ],
   "source": [
    "# Root Mean Squared Error\n",
    "round(rmse(bvsptest$close, bvsprlm), digits = 2)"
   ]
  },
  {
   "cell_type": "code",
   "execution_count": 124,
   "metadata": {},
   "outputs": [
    {
     "data": {
      "text/html": [
       "0.01"
      ],
      "text/latex": [
       "0.01"
      ],
      "text/markdown": [
       "0.01"
      ],
      "text/plain": [
       "[1] 0.01"
      ]
     },
     "metadata": {},
     "output_type": "display_data"
    }
   ],
   "source": [
    "# Mean Absolute Error\n",
    "round(mae(bvsptest$close, bvsprlm), digits = 2)"
   ]
  },
  {
   "cell_type": "code",
   "execution_count": 125,
   "metadata": {},
   "outputs": [
    {
     "data": {
      "text/html": [
       "0"
      ],
      "text/latex": [
       "0"
      ],
      "text/markdown": [
       "0"
      ],
      "text/plain": [
       "[1] 0"
      ]
     },
     "metadata": {},
     "output_type": "display_data"
    }
   ],
   "source": [
    "# Mean Squared Error\n",
    "round(mse(bvsptest$close, bvsprlm), digits = 2)"
   ]
  },
  {
   "cell_type": "code",
   "execution_count": 126,
   "metadata": {},
   "outputs": [
    {
     "data": {
      "text/html": [
       "0.03"
      ],
      "text/latex": [
       "0.03"
      ],
      "text/markdown": [
       "0.03"
      ],
      "text/plain": [
       "[1] 0.03"
      ]
     },
     "metadata": {},
     "output_type": "display_data"
    }
   ],
   "source": [
    "# Mean Absolute Percent Error\n",
    "round(mape(bvsptest$close, bvsprlm), digits = 2)"
   ]
  },
  {
   "cell_type": "code",
   "execution_count": 127,
   "metadata": {},
   "outputs": [
    {
     "data": {
      "text/html": [
       "<style>\n",
       ".dl-inline {width: auto; margin:0; padding: 0}\n",
       ".dl-inline>dt, .dl-inline>dd {float: none; width: auto; display: inline-block}\n",
       ".dl-inline>dt::after {content: \":\\0020\"; padding-right: .5ex}\n",
       ".dl-inline>dt:not(:first-of-type) {padding-left: .5ex}\n",
       "</style><dl class=dl-inline><dt>RMSE</dt><dd>0.02</dd><dt>Rsquared</dt><dd>1</dd><dt>MAE</dt><dd>0.01</dd></dl>\n"
      ],
      "text/latex": [
       "\\begin{description*}\n",
       "\\item[RMSE] 0.02\n",
       "\\item[Rsquared] 1\n",
       "\\item[MAE] 0.01\n",
       "\\end{description*}\n"
      ],
      "text/markdown": [
       "RMSE\n",
       ":   0.02Rsquared\n",
       ":   1MAE\n",
       ":   0.01\n",
       "\n"
      ],
      "text/plain": [
       "    RMSE Rsquared      MAE \n",
       "    0.02     1.00     0.01 "
      ]
     },
     "metadata": {},
     "output_type": "display_data"
    }
   ],
   "source": [
    "# Resumo das métricas de avaliação\n",
    "round(postResample(pred = bvsprlm, obs = bvsptest$close), digits = 2)"
   ]
  },
  {
   "cell_type": "markdown",
   "metadata": {},
   "source": [
    "**Seleção de modelo mais simples, mas com representatividade semelhante**"
   ]
  },
  {
   "cell_type": "code",
   "execution_count": 128,
   "metadata": {
    "scrolled": false
   },
   "outputs": [
    {
     "name": "stdout",
     "output_type": "stream",
     "text": [
      "Start:  AIC=-28332.05\n",
      "close ~ avg10 + avg20 + std10 + std20 + rsi14 + rsi5 + macd1226 + \n",
      "    signal9 + histogram9 + macd0720 + signal5 + histogram5 + \n",
      "    bbands\n",
      "\n",
      "\n",
      "Step:  AIC=-28332.05\n",
      "close ~ avg10 + avg20 + std10 + std20 + rsi14 + rsi5 + macd1226 + \n",
      "    signal9 + histogram9 + macd0720 + signal5 + histogram5\n",
      "\n",
      "             Df Sum of Sq    RSS    AIC\n",
      "- std20       1   0.00021 16.091 -28334\n",
      "- rsi5        1   0.00033 16.091 -28334\n",
      "- histogram9  1   0.00061 16.091 -28334\n",
      "- rsi14       1   0.00300 16.094 -28333\n",
      "<none>                    16.091 -28332\n",
      "- std10       1   0.00667 16.097 -28332\n",
      "- macd1226    1   0.01554 16.106 -28329\n",
      "- signal9     1   0.01611 16.107 -28329\n",
      "- avg20       1   0.03533 16.126 -28323\n",
      "- macd0720    1   0.04082 16.132 -28322\n",
      "- signal5     1   0.04731 16.138 -28320\n",
      "- avg10       1   0.59605 16.687 -28154\n",
      "- histogram5  1   1.76469 17.855 -27819\n",
      "\n",
      "Step:  AIC=-28333.98\n",
      "close ~ avg10 + avg20 + std10 + rsi14 + rsi5 + macd1226 + signal9 + \n",
      "    histogram9 + macd0720 + signal5 + histogram5\n",
      "\n",
      "             Df Sum of Sq    RSS    AIC\n",
      "- rsi5        1   0.00027 16.091 -28336\n",
      "- histogram9  1   0.00048 16.091 -28336\n",
      "- rsi14       1   0.00377 16.095 -28335\n",
      "<none>                    16.091 -28334\n",
      "- std10       1   0.01019 16.101 -28333\n",
      "+ std20       1   0.00021 16.091 -28332\n",
      "+ bbands      1   0.00021 16.091 -28332\n",
      "- macd1226    1   0.01553 16.107 -28331\n",
      "- signal9     1   0.01743 16.108 -28331\n",
      "- avg20       1   0.03593 16.127 -28325\n",
      "- macd0720    1   0.04082 16.132 -28323\n",
      "- signal5     1   0.04839 16.139 -28321\n",
      "- avg10       1   0.59740 16.688 -28156\n",
      "- histogram5  1   1.76989 17.861 -27819\n",
      "\n",
      "Step:  AIC=-28335.9\n",
      "close ~ avg10 + avg20 + std10 + rsi14 + macd1226 + signal9 + \n",
      "    histogram9 + macd0720 + signal5 + histogram5\n",
      "\n",
      "             Df Sum of Sq    RSS    AIC\n",
      "- histogram9  1   0.00052 16.092 -28338\n",
      "- rsi14       1   0.00579 16.097 -28336\n",
      "<none>                    16.091 -28336\n",
      "- std10       1   0.01000 16.101 -28335\n",
      "+ rsi5        1   0.00027 16.091 -28334\n",
      "+ std20       1   0.00014 16.091 -28334\n",
      "+ bbands      1   0.00014 16.091 -28334\n",
      "- macd1226    1   0.01556 16.107 -28333\n",
      "- signal9     1   0.01752 16.109 -28333\n",
      "- avg20       1   0.03722 16.128 -28327\n",
      "- macd0720    1   0.04107 16.132 -28325\n",
      "- signal5     1   0.04847 16.140 -28323\n",
      "- avg10       1   0.60320 16.694 -28156\n",
      "- histogram5  1   2.11882 18.210 -27726\n",
      "\n",
      "Step:  AIC=-28337.74\n",
      "close ~ avg10 + avg20 + std10 + rsi14 + macd1226 + signal9 + \n",
      "    macd0720 + signal5 + histogram5\n",
      "\n",
      "             Df Sum of Sq    RSS    AIC\n",
      "- rsi14       1   0.00561 16.097 -28338\n",
      "<none>                    16.092 -28338\n",
      "- std10       1   0.00958 16.101 -28337\n",
      "+ histogram9  1   0.00052 16.091 -28336\n",
      "+ rsi5        1   0.00032 16.091 -28336\n",
      "+ std20       1   0.00004 16.092 -28336\n",
      "+ bbands      1   0.00004 16.092 -28336\n",
      "- macd1226    1   0.01818 16.110 -28334\n",
      "- signal9     1   0.01840 16.110 -28334\n",
      "- avg20       1   0.03716 16.129 -28328\n",
      "- signal5     1   0.04877 16.140 -28325\n",
      "- macd0720    1   0.05765 16.149 -28322\n",
      "- avg10       1   0.60346 16.695 -28158\n",
      "- histogram5  1   2.44579 18.538 -27639\n",
      "\n",
      "Step:  AIC=-28338.01\n",
      "close ~ avg10 + avg20 + std10 + macd1226 + signal9 + macd0720 + \n",
      "    signal5 + histogram5\n",
      "\n",
      "             Df Sum of Sq    RSS    AIC\n",
      "- std10       1   0.00647 16.104 -28338\n",
      "<none>                    16.097 -28338\n",
      "+ rsi14       1   0.00561 16.092 -28338\n",
      "+ rsi5        1   0.00234 16.095 -28337\n",
      "+ std20       1   0.00062 16.097 -28336\n",
      "+ bbands      1   0.00062 16.097 -28336\n",
      "+ histogram9  1   0.00034 16.097 -28336\n",
      "- signal9     1   0.01823 16.116 -28334\n",
      "- macd1226    1   0.01835 16.116 -28334\n",
      "- avg20       1   0.03258 16.130 -28330\n",
      "- signal5     1   0.05030 16.148 -28325\n",
      "- macd0720    1   0.05875 16.156 -28322\n",
      "- avg10       1   0.66301 16.760 -28140\n",
      "- histogram5  1   2.61017 18.707 -27596\n",
      "\n",
      "Step:  AIC=-28338.02\n",
      "close ~ avg10 + avg20 + macd1226 + signal9 + macd0720 + signal5 + \n",
      "    histogram5\n",
      "\n",
      "             Df Sum of Sq    RSS    AIC\n",
      "<none>                    16.104 -28338\n",
      "+ std10       1   0.00647 16.097 -28338\n",
      "+ rsi14       1   0.00251 16.101 -28337\n",
      "+ std20       1   0.00156 16.102 -28337\n",
      "+ bbands      1   0.00156 16.102 -28337\n",
      "+ rsi5        1   0.00101 16.103 -28336\n",
      "+ histogram9  1   0.00008 16.104 -28336\n",
      "- macd1226    1   0.01910 16.123 -28334\n",
      "- signal9     1   0.02005 16.124 -28334\n",
      "- avg20       1   0.03098 16.135 -28331\n",
      "- signal5     1   0.05041 16.154 -28325\n",
      "- macd0720    1   0.05996 16.164 -28322\n",
      "- avg10       1   0.67133 16.775 -28138\n",
      "- histogram5  1   2.61646 18.720 -27595\n"
     ]
    },
    {
     "data": {
      "text/plain": [
       "\n",
       "Call:\n",
       "lm(formula = close ~ avg10 + avg20 + macd1226 + signal9 + macd0720 + \n",
       "    signal5 + histogram5, data = bvspz)\n",
       "\n",
       "Coefficients:\n",
       "(Intercept)        avg10        avg20     macd1226      signal9     macd0720  \n",
       "     2.2251       0.8218       0.1764      -0.5338       0.2553       0.8061  \n",
       "    signal5   histogram5  \n",
       "     0.3172       3.7247  \n"
      ]
     },
     "metadata": {},
     "output_type": "display_data"
    }
   ],
   "source": [
    "# Método Stepwise\n",
    "step(bvsplm.fit, direction = \"both\")"
   ]
  },
  {
   "cell_type": "code",
   "execution_count": 129,
   "metadata": {
    "scrolled": false
   },
   "outputs": [
    {
     "name": "stdout",
     "output_type": "stream",
     "text": [
      "Start:  AIC=-28332.05\n",
      "close ~ avg10 + avg20 + std10 + std20 + rsi14 + rsi5 + macd1226 + \n",
      "    signal9 + histogram9 + macd0720 + signal5 + histogram5 + \n",
      "    bbands\n",
      "\n",
      "\n",
      "Step:  AIC=-28332.05\n",
      "close ~ avg10 + avg20 + std10 + std20 + rsi14 + rsi5 + macd1226 + \n",
      "    signal9 + histogram9 + macd0720 + signal5 + histogram5\n",
      "\n",
      "             Df Sum of Sq    RSS    AIC\n",
      "- std20       1   0.00021 16.091 -28334\n",
      "- rsi5        1   0.00033 16.091 -28334\n",
      "- histogram9  1   0.00061 16.091 -28334\n",
      "- rsi14       1   0.00300 16.094 -28333\n",
      "<none>                    16.091 -28332\n",
      "- std10       1   0.00667 16.097 -28332\n",
      "- macd1226    1   0.01554 16.106 -28329\n",
      "- signal9     1   0.01611 16.107 -28329\n",
      "- avg20       1   0.03533 16.126 -28323\n",
      "- macd0720    1   0.04082 16.132 -28322\n",
      "- signal5     1   0.04731 16.138 -28320\n",
      "- avg10       1   0.59605 16.687 -28154\n",
      "- histogram5  1   1.76469 17.855 -27819\n",
      "\n",
      "Step:  AIC=-28333.98\n",
      "close ~ avg10 + avg20 + std10 + rsi14 + rsi5 + macd1226 + signal9 + \n",
      "    histogram9 + macd0720 + signal5 + histogram5\n",
      "\n",
      "             Df Sum of Sq    RSS    AIC\n",
      "- rsi5        1   0.00027 16.091 -28336\n",
      "- histogram9  1   0.00048 16.091 -28336\n",
      "- rsi14       1   0.00377 16.095 -28335\n",
      "<none>                    16.091 -28334\n",
      "- std10       1   0.01019 16.101 -28333\n",
      "- macd1226    1   0.01553 16.107 -28331\n",
      "- signal9     1   0.01743 16.108 -28331\n",
      "- avg20       1   0.03593 16.127 -28325\n",
      "- macd0720    1   0.04082 16.132 -28323\n",
      "- signal5     1   0.04839 16.139 -28321\n",
      "- avg10       1   0.59740 16.688 -28156\n",
      "- histogram5  1   1.76989 17.861 -27819\n",
      "\n",
      "Step:  AIC=-28335.9\n",
      "close ~ avg10 + avg20 + std10 + rsi14 + macd1226 + signal9 + \n",
      "    histogram9 + macd0720 + signal5 + histogram5\n",
      "\n",
      "             Df Sum of Sq    RSS    AIC\n",
      "- histogram9  1   0.00052 16.092 -28338\n",
      "- rsi14       1   0.00579 16.097 -28336\n",
      "<none>                    16.091 -28336\n",
      "- std10       1   0.01000 16.101 -28335\n",
      "- macd1226    1   0.01556 16.107 -28333\n",
      "- signal9     1   0.01752 16.109 -28333\n",
      "- avg20       1   0.03722 16.128 -28327\n",
      "- macd0720    1   0.04107 16.132 -28325\n",
      "- signal5     1   0.04847 16.140 -28323\n",
      "- avg10       1   0.60320 16.694 -28156\n",
      "- histogram5  1   2.11882 18.210 -27726\n",
      "\n",
      "Step:  AIC=-28337.74\n",
      "close ~ avg10 + avg20 + std10 + rsi14 + macd1226 + signal9 + \n",
      "    macd0720 + signal5 + histogram5\n",
      "\n",
      "             Df Sum of Sq    RSS    AIC\n",
      "- rsi14       1   0.00561 16.097 -28338\n",
      "<none>                    16.092 -28338\n",
      "- std10       1   0.00958 16.101 -28337\n",
      "- macd1226    1   0.01818 16.110 -28334\n",
      "- signal9     1   0.01840 16.110 -28334\n",
      "- avg20       1   0.03716 16.129 -28328\n",
      "- signal5     1   0.04877 16.140 -28325\n",
      "- macd0720    1   0.05765 16.149 -28322\n",
      "- avg10       1   0.60346 16.695 -28158\n",
      "- histogram5  1   2.44579 18.538 -27639\n",
      "\n",
      "Step:  AIC=-28338.01\n",
      "close ~ avg10 + avg20 + std10 + macd1226 + signal9 + macd0720 + \n",
      "    signal5 + histogram5\n",
      "\n",
      "             Df Sum of Sq    RSS    AIC\n",
      "- std10       1   0.00647 16.104 -28338\n",
      "<none>                    16.097 -28338\n",
      "- signal9     1   0.01823 16.116 -28334\n",
      "- macd1226    1   0.01835 16.116 -28334\n",
      "- avg20       1   0.03258 16.130 -28330\n",
      "- signal5     1   0.05030 16.148 -28325\n",
      "- macd0720    1   0.05875 16.156 -28322\n",
      "- avg10       1   0.66301 16.760 -28140\n",
      "- histogram5  1   2.61017 18.707 -27596\n",
      "\n",
      "Step:  AIC=-28338.02\n",
      "close ~ avg10 + avg20 + macd1226 + signal9 + macd0720 + signal5 + \n",
      "    histogram5\n",
      "\n",
      "             Df Sum of Sq    RSS    AIC\n",
      "<none>                    16.104 -28338\n",
      "- macd1226    1   0.01910 16.123 -28334\n",
      "- signal9     1   0.02005 16.124 -28334\n",
      "- avg20       1   0.03098 16.135 -28331\n",
      "- signal5     1   0.05041 16.154 -28325\n",
      "- macd0720    1   0.05996 16.164 -28322\n",
      "- avg10       1   0.67133 16.775 -28138\n",
      "- histogram5  1   2.61646 18.720 -27595\n"
     ]
    },
    {
     "data": {
      "text/plain": [
       "\n",
       "Call:\n",
       "lm(formula = close ~ avg10 + avg20 + macd1226 + signal9 + macd0720 + \n",
       "    signal5 + histogram5, data = bvspz)\n",
       "\n",
       "Coefficients:\n",
       "(Intercept)        avg10        avg20     macd1226      signal9     macd0720  \n",
       "     2.2251       0.8218       0.1764      -0.5338       0.2553       0.8061  \n",
       "    signal5   histogram5  \n",
       "     0.3172       3.7247  \n"
      ]
     },
     "metadata": {},
     "output_type": "display_data"
    }
   ],
   "source": [
    "# Método backward\n",
    "step(bvsplm.fit, direction = \"backward\")"
   ]
  },
  {
   "cell_type": "code",
   "execution_count": 130,
   "metadata": {},
   "outputs": [
    {
     "name": "stdout",
     "output_type": "stream",
     "text": [
      "Start:  AIC=-28332.05\n",
      "close ~ avg10 + avg20 + std10 + std20 + rsi14 + rsi5 + macd1226 + \n",
      "    signal9 + histogram9 + macd0720 + signal5 + histogram5 + \n",
      "    bbands\n",
      "\n"
     ]
    },
    {
     "data": {
      "text/plain": [
       "\n",
       "Call:\n",
       "lm(formula = close ~ avg10 + avg20 + std10 + std20 + rsi14 + \n",
       "    rsi5 + macd1226 + signal9 + histogram9 + macd0720 + signal5 + \n",
       "    histogram5 + bbands, data = bvspz)\n",
       "\n",
       "Coefficients:\n",
       "(Intercept)        avg10        avg20        std10        std20        rsi14  \n",
       "   3.324521     0.803375     0.195688    -0.070854     0.009073     2.082993  \n",
       "       rsi5     macd1226      signal9   histogram9     macd0720      signal5  \n",
       "   0.400012    -0.579989     0.235159    -0.098285     0.857371     0.317636  \n",
       " histogram5       bbands  \n",
       "   3.686314           NA  \n"
      ]
     },
     "metadata": {},
     "output_type": "display_data"
    }
   ],
   "source": [
    "# Método Forward\n",
    "step(bvsplm.fit, direction = \"forward\")"
   ]
  }
 ],
 "metadata": {
  "kernelspec": {
   "display_name": "R",
   "language": "R",
   "name": "ir"
  },
  "language_info": {
   "codemirror_mode": "r",
   "file_extension": ".r",
   "mimetype": "text/x-r-source",
   "name": "R",
   "pygments_lexer": "r",
   "version": "3.6.1"
  }
 },
 "nbformat": 4,
 "nbformat_minor": 4
}
