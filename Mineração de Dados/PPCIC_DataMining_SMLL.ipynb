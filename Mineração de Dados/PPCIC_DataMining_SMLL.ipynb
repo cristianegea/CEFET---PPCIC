{
 "cells": [
  {
   "cell_type": "markdown",
   "metadata": {},
   "source": [
    "**Análise - Índice Small Caps**"
   ]
  },
  {
   "cell_type": "markdown",
   "metadata": {},
   "source": [
    "**Variáveis Utilizadas**:\n",
    "\n",
    "* **close**: preço de fechamento da ação\n",
    "\n",
    "* **avg10**: média móvel de 10 dias (indicador de tendência do comportamento do preço da ação no período de 10 dias).\n",
    "\n",
    "* **avg20**: média móvel de 20 dias (indicador de tendência do comportamento do preço da ação no período de 20 dias).\n",
    "\n",
    "* **std10**: desvio padrão de 10 dias (indicador de volatilidade do comportamento do preço da ação no período de 10 dias).\n",
    "\n",
    "* **std20**: desvio padrão de 20 dias (indicador de volatilidade do comportamento do preço da ação no período de 20 dias).\n",
    "\n",
    "* **rsi14**: índice de força relativa de 14 dias (indicador de momento => sinaliza a velocidade com que os preços se alteram no período de 14 dias). Mostra o enfraquecimento e até reversão de uma tendência durante 14 dias. Funciona com uma linha entre 0 e 100. Quanto mais próximo de 100, mais força está perdendo a força compradora.\n",
    "\n",
    "* **rsi5**: índice de força relativa de 5 dias (indicador de momento => sinaliza a velocidade com que os preços se alteram no período de 5 dias).\n",
    "\n",
    "* **macd1226**: média móvel convergente divergente (indicador de tendências significativas a curto prazo). Corresponde à diferença entre média móvel de 12 dias (média de movimentações mais rápidas) e média móvel de 26 dias (média de movimentações mais lentas). Mostra o ganho entre a divergência entre as médias móveis.\n",
    "\n",
    "* **signal9**: média movel exponencial do macd1226 no período de 9 dias (ajuda a identificar reversões de tendência e marcar os pontos ideais de entrada e saída).\n",
    "\n",
    "* **histogram9**: diferença entre a linha de macd1226 e a linha de signal9 (representação gráfica da convergência e da divergência das linhas macd1226 e signal9).\n",
    "\n",
    "* **macd0720**: média móvel convergente divergente (indicador de tendências significativas a curto prazo). Corresponde à diferença entre média móvel de 7 dias (média de movimentações mais rápidas) e média móvel de 20 dias (média de movimentações mais lentas). Mostra o ganho entre a divergência entre as médias móveis.\n",
    "\n",
    "* **signal5**: média movel exponencial do macd0720 no período de 5 dias (ajuda a identificar reversões de tendência e marcar os pontos ideais de entrada e saída).\n",
    "\n",
    "* **histogram5**: diferença entre a linha de macd0720 e a linha de signal5 (representação gráfica da convergência e da divergência das linhas macd0720 e signal5).\n",
    "\n",
    "* **bbands**: Bandas de Bollinger (indicador de volatilidade). As bandas são derivadas das médias móveis e mostram que, independente de qualquer movimento que o preço faça, ele tende a voltar a um equilíbrio. \n",
    "\n",
    "Uma linha MACD de valor positivo indica que a MME menor está acima da MME maior. Quanto mais distante a MME menor estiver da maior, maior será o aumento no valor positivo da linha MACD. Isso é um sinal de um momentum de alta crescente. Por outro lado, um MACD negativo indica que a MME menor está abaixo da maior. Mais uma vez, os valores negativos aumentam à medida em que as duas linhas divergem ainda mais. Nesse caso, temos um momentum de baixa crescente."
   ]
  },
  {
   "cell_type": "markdown",
   "metadata": {},
   "source": [
    "# Etapa 1: Overview"
   ]
  },
  {
   "cell_type": "markdown",
   "metadata": {},
   "source": [
    "## 1. Importação dos dados"
   ]
  },
  {
   "cell_type": "code",
   "execution_count": 1,
   "metadata": {},
   "outputs": [],
   "source": [
    "# Biblioteca(s) Necessária(s)\n",
    "library(readxl)"
   ]
  },
  {
   "cell_type": "code",
   "execution_count": 2,
   "metadata": {},
   "outputs": [
    {
     "name": "stdout",
     "output_type": "stream",
     "text": [
      "# A tibble: 3,817 x 15\n",
      "   data                close avg10 avg20 std10 std20 rsi14  rsi5 macd1226\n",
      "   <dttm>              <dbl> <dbl> <dbl> <dbl> <dbl> <dbl> <dbl>    <dbl>\n",
      " 1 2005-09-02 00:00:00  519.   NA     NA  NA      NA    NA  NA         NA\n",
      " 2 2005-09-05 00:00:00  523.   NA     NA  NA      NA    NA  NA         NA\n",
      " 3 2005-09-06 00:00:00  528.   NA     NA  NA      NA    NA  NA         NA\n",
      " 4 2005-09-08 00:00:00  527.   NA     NA  NA      NA    NA  NA         NA\n",
      " 5 2005-09-09 00:00:00  538.   NA     NA  NA      NA    NA  NA         NA\n",
      " 6 2005-09-12 00:00:00  535.   NA     NA  NA      NA    NA  83.5       NA\n",
      " 7 2005-09-13 00:00:00  536.   NA     NA  NA      NA    NA  81.8       NA\n",
      " 8 2005-09-14 00:00:00  541.   NA     NA  NA      NA    NA  81.1       NA\n",
      " 9 2005-09-15 00:00:00  545.   NA     NA  NA      NA    NA  88.7       NA\n",
      "10 2005-09-16 00:00:00  552.  534.    NA  10.2    NA    NA  86.2       NA\n",
      "# ... with 3,807 more rows, and 6 more variables: signal9 <dbl>,\n",
      "#   histogram9 <dbl>, macd0720 <dbl>, signal5 <dbl>, histogram5 <dbl>,\n",
      "#   bbands <dbl>\n"
     ]
    }
   ],
   "source": [
    "# Dados do Índice de Sustentabilidade Empresarial\n",
    "smll <- read_excel(\"smll.xlsx\",\n",
    "                   col_types = c(\"date\", \"numeric\", \"numeric\", \"numeric\", \"numeric\", \"numeric\",\n",
    "                                 \"numeric\", \"numeric\", \"numeric\", \"numeric\", \"numeric\", \"numeric\",\n",
    "                                 \"numeric\", \"numeric\", \"numeric\"))\n",
    "print(smll)"
   ]
  },
  {
   "cell_type": "code",
   "execution_count": 3,
   "metadata": {},
   "outputs": [],
   "source": [
    "# Fixação do conjunto de dados\n",
    "attach(smll)"
   ]
  },
  {
   "cell_type": "markdown",
   "metadata": {},
   "source": [
    "## 2. Análise inicial do dataframe"
   ]
  },
  {
   "cell_type": "markdown",
   "metadata": {},
   "source": [
    "**Análise do tipo dos dados do dataframe \"bvsp\"**"
   ]
  },
  {
   "cell_type": "code",
   "execution_count": 4,
   "metadata": {},
   "outputs": [
    {
     "name": "stdout",
     "output_type": "stream",
     "text": [
      "tibble [3,817 x 15] (S3: tbl_df/tbl/data.frame)\n",
      " $ data      : POSIXct[1:3817], format: \"2005-09-02\" \"2005-09-05\" ...\n",
      " $ close     : num [1:3817] 519 523 528 527 538 ...\n",
      " $ avg10     : num [1:3817] NA NA NA NA NA ...\n",
      " $ avg20     : num [1:3817] NA NA NA NA NA NA NA NA NA NA ...\n",
      " $ std10     : num [1:3817] NA NA NA NA NA ...\n",
      " $ std20     : num [1:3817] NA NA NA NA NA NA NA NA NA NA ...\n",
      " $ rsi14     : num [1:3817] NA NA NA NA NA NA NA NA NA NA ...\n",
      " $ rsi5      : num [1:3817] NA NA NA NA NA ...\n",
      " $ macd1226  : num [1:3817] NA NA NA NA NA NA NA NA NA NA ...\n",
      " $ signal9   : num [1:3817] NA NA NA NA NA NA NA NA NA NA ...\n",
      " $ histogram9: num [1:3817] NA NA NA NA NA NA NA NA NA NA ...\n",
      " $ macd0720  : num [1:3817] NA NA NA NA NA NA NA NA NA NA ...\n",
      " $ signal5   : num [1:3817] NA NA NA NA NA NA NA NA NA NA ...\n",
      " $ histogram5: num [1:3817] NA NA NA NA NA NA NA NA NA NA ...\n",
      " $ bbands    : num [1:3817] NA NA NA NA NA NA NA NA NA NA ...\n"
     ]
    }
   ],
   "source": [
    "str(smll)"
   ]
  },
  {
   "cell_type": "markdown",
   "metadata": {},
   "source": [
    "Em todos os casos, o atributo \"Data\" é do tipo data e os demais atributos são do tipo numérico."
   ]
  },
  {
   "cell_type": "markdown",
   "metadata": {},
   "source": [
    "**Análise da dimensão dos dataframes**"
   ]
  },
  {
   "cell_type": "code",
   "execution_count": 5,
   "metadata": {},
   "outputs": [
    {
     "data": {
      "text/html": [
       "<ol class=list-inline>\n",
       "\t<li>3817</li>\n",
       "\t<li>15</li>\n",
       "</ol>\n"
      ],
      "text/latex": [
       "\\begin{enumerate*}\n",
       "\\item 3817\n",
       "\\item 15\n",
       "\\end{enumerate*}\n"
      ],
      "text/markdown": [
       "1. 3817\n",
       "2. 15\n",
       "\n",
       "\n"
      ],
      "text/plain": [
       "[1] 3817   15"
      ]
     },
     "metadata": {},
     "output_type": "display_data"
    }
   ],
   "source": [
    "dim(smll)\n",
    "\n",
    "# 3817 linhas e 15 colunas"
   ]
  },
  {
   "cell_type": "markdown",
   "metadata": {},
   "source": [
    "**Primeiras linhas dos dataframes**"
   ]
  },
  {
   "cell_type": "code",
   "execution_count": 6,
   "metadata": {},
   "outputs": [
    {
     "data": {
      "text/html": [
       "<table>\n",
       "<thead><tr><th scope=col>data</th><th scope=col>close</th><th scope=col>avg10</th><th scope=col>avg20</th><th scope=col>std10</th><th scope=col>std20</th><th scope=col>rsi14</th><th scope=col>rsi5</th><th scope=col>macd1226</th><th scope=col>signal9</th><th scope=col>histogram9</th><th scope=col>macd0720</th><th scope=col>signal5</th><th scope=col>histogram5</th><th scope=col>bbands</th></tr></thead>\n",
       "<tbody>\n",
       "\t<tr><td>2005-09-02</td><td>519.15    </td><td>NA        </td><td>NA        </td><td>NA        </td><td>NA        </td><td>NA        </td><td>      NA  </td><td>NA        </td><td>NA        </td><td>NA        </td><td>NA        </td><td>NA        </td><td>NA        </td><td>NA        </td></tr>\n",
       "\t<tr><td>2005-09-05</td><td>522.80    </td><td>NA        </td><td>NA        </td><td>NA        </td><td>NA        </td><td>NA        </td><td>      NA  </td><td>NA        </td><td>NA        </td><td>NA        </td><td>NA        </td><td>NA        </td><td>NA        </td><td>NA        </td></tr>\n",
       "\t<tr><td>2005-09-06</td><td>528.04    </td><td>NA        </td><td>NA        </td><td>NA        </td><td>NA        </td><td>NA        </td><td>      NA  </td><td>NA        </td><td>NA        </td><td>NA        </td><td>NA        </td><td>NA        </td><td>NA        </td><td>NA        </td></tr>\n",
       "\t<tr><td>2005-09-08</td><td>526.82    </td><td>NA        </td><td>NA        </td><td>NA        </td><td>NA        </td><td>NA        </td><td>      NA  </td><td>NA        </td><td>NA        </td><td>NA        </td><td>NA        </td><td>NA        </td><td>NA        </td><td>NA        </td></tr>\n",
       "\t<tr><td>2005-09-09</td><td>537.65    </td><td>NA        </td><td>NA        </td><td>NA        </td><td>NA        </td><td>NA        </td><td>      NA  </td><td>NA        </td><td>NA        </td><td>NA        </td><td>NA        </td><td>NA        </td><td>NA        </td><td>NA        </td></tr>\n",
       "\t<tr><td>2005-09-12</td><td>534.97    </td><td>NA        </td><td>NA        </td><td>NA        </td><td>NA        </td><td>NA        </td><td>83.48857  </td><td>NA        </td><td>NA        </td><td>NA        </td><td>NA        </td><td>NA        </td><td>NA        </td><td>NA        </td></tr>\n",
       "</tbody>\n",
       "</table>\n"
      ],
      "text/latex": [
       "\\begin{tabular}{r|lllllllllllllll}\n",
       " data & close & avg10 & avg20 & std10 & std20 & rsi14 & rsi5 & macd1226 & signal9 & histogram9 & macd0720 & signal5 & histogram5 & bbands\\\\\n",
       "\\hline\n",
       "\t 2005-09-02 & 519.15     & NA         & NA         & NA         & NA         & NA         &       NA   & NA         & NA         & NA         & NA         & NA         & NA         & NA        \\\\\n",
       "\t 2005-09-05 & 522.80     & NA         & NA         & NA         & NA         & NA         &       NA   & NA         & NA         & NA         & NA         & NA         & NA         & NA        \\\\\n",
       "\t 2005-09-06 & 528.04     & NA         & NA         & NA         & NA         & NA         &       NA   & NA         & NA         & NA         & NA         & NA         & NA         & NA        \\\\\n",
       "\t 2005-09-08 & 526.82     & NA         & NA         & NA         & NA         & NA         &       NA   & NA         & NA         & NA         & NA         & NA         & NA         & NA        \\\\\n",
       "\t 2005-09-09 & 537.65     & NA         & NA         & NA         & NA         & NA         &       NA   & NA         & NA         & NA         & NA         & NA         & NA         & NA        \\\\\n",
       "\t 2005-09-12 & 534.97     & NA         & NA         & NA         & NA         & NA         & 83.48857   & NA         & NA         & NA         & NA         & NA         & NA         & NA        \\\\\n",
       "\\end{tabular}\n"
      ],
      "text/markdown": [
       "\n",
       "| data | close | avg10 | avg20 | std10 | std20 | rsi14 | rsi5 | macd1226 | signal9 | histogram9 | macd0720 | signal5 | histogram5 | bbands |\n",
       "|---|---|---|---|---|---|---|---|---|---|---|---|---|---|---|\n",
       "| 2005-09-02 | 519.15     | NA         | NA         | NA         | NA         | NA         |       NA   | NA         | NA         | NA         | NA         | NA         | NA         | NA         |\n",
       "| 2005-09-05 | 522.80     | NA         | NA         | NA         | NA         | NA         |       NA   | NA         | NA         | NA         | NA         | NA         | NA         | NA         |\n",
       "| 2005-09-06 | 528.04     | NA         | NA         | NA         | NA         | NA         |       NA   | NA         | NA         | NA         | NA         | NA         | NA         | NA         |\n",
       "| 2005-09-08 | 526.82     | NA         | NA         | NA         | NA         | NA         |       NA   | NA         | NA         | NA         | NA         | NA         | NA         | NA         |\n",
       "| 2005-09-09 | 537.65     | NA         | NA         | NA         | NA         | NA         |       NA   | NA         | NA         | NA         | NA         | NA         | NA         | NA         |\n",
       "| 2005-09-12 | 534.97     | NA         | NA         | NA         | NA         | NA         | 83.48857   | NA         | NA         | NA         | NA         | NA         | NA         | NA         |\n",
       "\n"
      ],
      "text/plain": [
       "  data       close  avg10 avg20 std10 std20 rsi14 rsi5     macd1226 signal9\n",
       "1 2005-09-02 519.15 NA    NA    NA    NA    NA          NA NA       NA     \n",
       "2 2005-09-05 522.80 NA    NA    NA    NA    NA          NA NA       NA     \n",
       "3 2005-09-06 528.04 NA    NA    NA    NA    NA          NA NA       NA     \n",
       "4 2005-09-08 526.82 NA    NA    NA    NA    NA          NA NA       NA     \n",
       "5 2005-09-09 537.65 NA    NA    NA    NA    NA          NA NA       NA     \n",
       "6 2005-09-12 534.97 NA    NA    NA    NA    NA    83.48857 NA       NA     \n",
       "  histogram9 macd0720 signal5 histogram5 bbands\n",
       "1 NA         NA       NA      NA         NA    \n",
       "2 NA         NA       NA      NA         NA    \n",
       "3 NA         NA       NA      NA         NA    \n",
       "4 NA         NA       NA      NA         NA    \n",
       "5 NA         NA       NA      NA         NA    \n",
       "6 NA         NA       NA      NA         NA    "
      ]
     },
     "metadata": {},
     "output_type": "display_data"
    }
   ],
   "source": [
    "head(smll)\n",
    "\n",
    "# início dos dados: 02/09/2005"
   ]
  },
  {
   "cell_type": "markdown",
   "metadata": {},
   "source": [
    "**Últimas linhas dos dataframes**"
   ]
  },
  {
   "cell_type": "code",
   "execution_count": 7,
   "metadata": {},
   "outputs": [
    {
     "data": {
      "text/html": [
       "<table>\n",
       "<thead><tr><th scope=col>data</th><th scope=col>close</th><th scope=col>avg10</th><th scope=col>avg20</th><th scope=col>std10</th><th scope=col>std20</th><th scope=col>rsi14</th><th scope=col>rsi5</th><th scope=col>macd1226</th><th scope=col>signal9</th><th scope=col>histogram9</th><th scope=col>macd0720</th><th scope=col>signal5</th><th scope=col>histogram5</th><th scope=col>bbands</th></tr></thead>\n",
       "<tbody>\n",
       "\t<tr><td>2020-12-21  </td><td>2738.22     </td><td>2764.263    </td><td>2722.907    </td><td>26.11532    </td><td>58.03340    </td><td>61.47767    </td><td>40.22403    </td><td>66.46286    </td><td>72.95538    </td><td> -6.492518  </td><td>54.51552    </td><td>66.00003    </td><td>-11.48450825</td><td>232.1336    </td></tr>\n",
       "\t<tr><td>2020-12-22  </td><td>2722.58     </td><td>2762.081    </td><td>2728.557    </td><td>28.73907    </td><td>51.55778    </td><td>54.20019    </td><td>20.88963    </td><td>59.41759    </td><td>70.24782    </td><td>-10.830228  </td><td>42.67090    </td><td>58.22365    </td><td>-15.55274977</td><td>206.2311    </td></tr>\n",
       "\t<tr><td>2020-12-23  </td><td>2771.26     </td><td>2767.005    </td><td>2735.218    </td><td>25.10051    </td><td>47.71105    </td><td>56.38393    </td><td>37.76864    </td><td>57.10398    </td><td>67.61905    </td><td>-10.515075  </td><td>41.15132    </td><td>52.53287    </td><td>-11.38155489</td><td>190.8442    </td></tr>\n",
       "\t<tr><td>2020-12-28  </td><td>2805.23     </td><td>2772.346    </td><td>2742.462    </td><td>27.11217    </td><td>46.73505    </td><td>60.01783    </td><td>53.09649    </td><td>57.35042    </td><td>65.56533    </td><td> -8.214909  </td><td>44.39764    </td><td>49.82113    </td><td> -5.42348773</td><td>186.9402    </td></tr>\n",
       "\t<tr><td>2020-12-29  </td><td>2817.14     </td><td>2777.633    </td><td>2750.106    </td><td>30.32671    </td><td>45.76365    </td><td>61.85362    </td><td>61.18408    </td><td>57.84001    </td><td>64.02026    </td><td> -6.180249  </td><td>47.38663    </td><td>49.00963    </td><td> -1.62299860</td><td>183.0546    </td></tr>\n",
       "\t<tr><td>2020-12-30  </td><td>2822.39     </td><td>2783.938    </td><td>2759.973    </td><td>32.57198    </td><td>37.99463    </td><td>63.30751    </td><td>86.45301    </td><td>57.98326    </td><td>62.81286    </td><td> -4.829602  </td><td>49.09912    </td><td>49.03946    </td><td>  0.05966091</td><td>151.9785    </td></tr>\n",
       "</tbody>\n",
       "</table>\n"
      ],
      "text/latex": [
       "\\begin{tabular}{r|lllllllllllllll}\n",
       " data & close & avg10 & avg20 & std10 & std20 & rsi14 & rsi5 & macd1226 & signal9 & histogram9 & macd0720 & signal5 & histogram5 & bbands\\\\\n",
       "\\hline\n",
       "\t 2020-12-21   & 2738.22      & 2764.263     & 2722.907     & 26.11532     & 58.03340     & 61.47767     & 40.22403     & 66.46286     & 72.95538     &  -6.492518   & 54.51552     & 66.00003     & -11.48450825 & 232.1336    \\\\\n",
       "\t 2020-12-22   & 2722.58      & 2762.081     & 2728.557     & 28.73907     & 51.55778     & 54.20019     & 20.88963     & 59.41759     & 70.24782     & -10.830228   & 42.67090     & 58.22365     & -15.55274977 & 206.2311    \\\\\n",
       "\t 2020-12-23   & 2771.26      & 2767.005     & 2735.218     & 25.10051     & 47.71105     & 56.38393     & 37.76864     & 57.10398     & 67.61905     & -10.515075   & 41.15132     & 52.53287     & -11.38155489 & 190.8442    \\\\\n",
       "\t 2020-12-28   & 2805.23      & 2772.346     & 2742.462     & 27.11217     & 46.73505     & 60.01783     & 53.09649     & 57.35042     & 65.56533     &  -8.214909   & 44.39764     & 49.82113     &  -5.42348773 & 186.9402    \\\\\n",
       "\t 2020-12-29   & 2817.14      & 2777.633     & 2750.106     & 30.32671     & 45.76365     & 61.85362     & 61.18408     & 57.84001     & 64.02026     &  -6.180249   & 47.38663     & 49.00963     &  -1.62299860 & 183.0546    \\\\\n",
       "\t 2020-12-30   & 2822.39      & 2783.938     & 2759.973     & 32.57198     & 37.99463     & 63.30751     & 86.45301     & 57.98326     & 62.81286     &  -4.829602   & 49.09912     & 49.03946     &   0.05966091 & 151.9785    \\\\\n",
       "\\end{tabular}\n"
      ],
      "text/markdown": [
       "\n",
       "| data | close | avg10 | avg20 | std10 | std20 | rsi14 | rsi5 | macd1226 | signal9 | histogram9 | macd0720 | signal5 | histogram5 | bbands |\n",
       "|---|---|---|---|---|---|---|---|---|---|---|---|---|---|---|\n",
       "| 2020-12-21   | 2738.22      | 2764.263     | 2722.907     | 26.11532     | 58.03340     | 61.47767     | 40.22403     | 66.46286     | 72.95538     |  -6.492518   | 54.51552     | 66.00003     | -11.48450825 | 232.1336     |\n",
       "| 2020-12-22   | 2722.58      | 2762.081     | 2728.557     | 28.73907     | 51.55778     | 54.20019     | 20.88963     | 59.41759     | 70.24782     | -10.830228   | 42.67090     | 58.22365     | -15.55274977 | 206.2311     |\n",
       "| 2020-12-23   | 2771.26      | 2767.005     | 2735.218     | 25.10051     | 47.71105     | 56.38393     | 37.76864     | 57.10398     | 67.61905     | -10.515075   | 41.15132     | 52.53287     | -11.38155489 | 190.8442     |\n",
       "| 2020-12-28   | 2805.23      | 2772.346     | 2742.462     | 27.11217     | 46.73505     | 60.01783     | 53.09649     | 57.35042     | 65.56533     |  -8.214909   | 44.39764     | 49.82113     |  -5.42348773 | 186.9402     |\n",
       "| 2020-12-29   | 2817.14      | 2777.633     | 2750.106     | 30.32671     | 45.76365     | 61.85362     | 61.18408     | 57.84001     | 64.02026     |  -6.180249   | 47.38663     | 49.00963     |  -1.62299860 | 183.0546     |\n",
       "| 2020-12-30   | 2822.39      | 2783.938     | 2759.973     | 32.57198     | 37.99463     | 63.30751     | 86.45301     | 57.98326     | 62.81286     |  -4.829602   | 49.09912     | 49.03946     |   0.05966091 | 151.9785     |\n",
       "\n"
      ],
      "text/plain": [
       "  data       close   avg10    avg20    std10    std20    rsi14    rsi5    \n",
       "1 2020-12-21 2738.22 2764.263 2722.907 26.11532 58.03340 61.47767 40.22403\n",
       "2 2020-12-22 2722.58 2762.081 2728.557 28.73907 51.55778 54.20019 20.88963\n",
       "3 2020-12-23 2771.26 2767.005 2735.218 25.10051 47.71105 56.38393 37.76864\n",
       "4 2020-12-28 2805.23 2772.346 2742.462 27.11217 46.73505 60.01783 53.09649\n",
       "5 2020-12-29 2817.14 2777.633 2750.106 30.32671 45.76365 61.85362 61.18408\n",
       "6 2020-12-30 2822.39 2783.938 2759.973 32.57198 37.99463 63.30751 86.45301\n",
       "  macd1226 signal9  histogram9 macd0720 signal5  histogram5   bbands  \n",
       "1 66.46286 72.95538  -6.492518 54.51552 66.00003 -11.48450825 232.1336\n",
       "2 59.41759 70.24782 -10.830228 42.67090 58.22365 -15.55274977 206.2311\n",
       "3 57.10398 67.61905 -10.515075 41.15132 52.53287 -11.38155489 190.8442\n",
       "4 57.35042 65.56533  -8.214909 44.39764 49.82113  -5.42348773 186.9402\n",
       "5 57.84001 64.02026  -6.180249 47.38663 49.00963  -1.62299860 183.0546\n",
       "6 57.98326 62.81286  -4.829602 49.09912 49.03946   0.05966091 151.9785"
      ]
     },
     "metadata": {},
     "output_type": "display_data"
    }
   ],
   "source": [
    "tail(smll)\n",
    "\n",
    "# término dos dados: 30/12/2020"
   ]
  },
  {
   "cell_type": "markdown",
   "metadata": {},
   "source": [
    "**Identificação de *missing values***"
   ]
  },
  {
   "cell_type": "code",
   "execution_count": 8,
   "metadata": {},
   "outputs": [
    {
     "data": {
      "text/plain": [
       "\n",
       "FALSE  TRUE \n",
       "56987   268 "
      ]
     },
     "metadata": {},
     "output_type": "display_data"
    }
   ],
   "source": [
    "table(is.na(smll))\n",
    "\n",
    "# 268 missing values"
   ]
  },
  {
   "cell_type": "markdown",
   "metadata": {},
   "source": [
    "## 3. Conhecendo melhor as variáveis de interesse"
   ]
  },
  {
   "cell_type": "code",
   "execution_count": 9,
   "metadata": {},
   "outputs": [
    {
     "name": "stderr",
     "output_type": "stream",
     "text": [
      "Warning message:\n",
      "\"package 'dplyr' was built under R version 3.6.3\"\n",
      "Attaching package: 'dplyr'\n",
      "\n",
      "The following objects are masked from 'package:stats':\n",
      "\n",
      "    filter, lag\n",
      "\n",
      "The following objects are masked from 'package:base':\n",
      "\n",
      "    intersect, setdiff, setequal, union\n",
      "\n",
      "Registered S3 methods overwritten by 'ggplot2':\n",
      "  method         from \n",
      "  [.quosures     rlang\n",
      "  c.quosures     rlang\n",
      "  print.quosures rlang\n"
     ]
    }
   ],
   "source": [
    "# Biblioteca(s) Necessária(s)\n",
    "library(dplyr)\n",
    "library(ggplot2)"
   ]
  },
  {
   "cell_type": "code",
   "execution_count": 10,
   "metadata": {},
   "outputs": [
    {
     "data": {
      "image/png": "[encoded data removed]",
      "text/plain": [
       "plot without title"
      ]
     },
     "metadata": {},
     "output_type": "display_data"
    }
   ],
   "source": [
    "Data <- smll$data\n",
    "Close <- smll$close\n",
    "\n",
    "smll %>%\n",
    "    ggplot() + \n",
    "    geom_line(aes(x = Data, y = Close)) +\n",
    "    ggtitle(\"Gráfico dos preços de fechamento - Índice Small Caps\")"
   ]
  },
  {
   "cell_type": "markdown",
   "metadata": {},
   "source": [
    "# Etapa 2: Construção da série de direção do atributo \"close\""
   ]
  },
  {
   "cell_type": "code",
   "execution_count": 11,
   "metadata": {},
   "outputs": [
    {
     "name": "stderr",
     "output_type": "stream",
     "text": [
      "Loading required package: xts\n",
      "Loading required package: zoo\n",
      "\n",
      "Attaching package: 'zoo'\n",
      "\n",
      "The following objects are masked from 'package:base':\n",
      "\n",
      "    as.Date, as.Date.numeric\n",
      "\n",
      "Registered S3 method overwritten by 'xts':\n",
      "  method     from\n",
      "  as.zoo.xts zoo \n",
      "\n",
      "Attaching package: 'xts'\n",
      "\n",
      "The following objects are masked from 'package:dplyr':\n",
      "\n",
      "    first, last\n",
      "\n",
      "Loading required package: TTR\n",
      "Registered S3 method overwritten by 'quantmod':\n",
      "  method            from\n",
      "  as.zoo.data.frame zoo \n",
      "Version 0.4-0 included new data defaults. See ?getSymbols.\n"
     ]
    }
   ],
   "source": [
    "# Biblioteca(s) Necessária(s)\n",
    "library(quantmod)"
   ]
  },
  {
   "cell_type": "markdown",
   "metadata": {},
   "source": [
    "**Direção da Variável Preço:**\n",
    "\n",
    "* 1 = up (aumento do preço da ação)\n",
    "\n",
    "* 0 = down (redução do preço da ação)"
   ]
  },
  {
   "cell_type": "code",
   "execution_count": 12,
   "metadata": {},
   "outputs": [],
   "source": [
    "direction <- NULL\n",
    "\n",
    "# Direção = Up quando preço atual > preço anterior de 20 dias\n",
    "direction[smll$close > lag(smll$close, 20)] <- 1\n",
    "\n",
    "# Direção = Up quando preço atual < preço anterior de 20 dias\n",
    "direction[smll$close < lag(smll$close, 20)] <- 0\n",
    "\n",
    "smll$direction <- direction"
   ]
  },
  {
   "cell_type": "code",
   "execution_count": 13,
   "metadata": {},
   "outputs": [
    {
     "data": {
      "text/html": [
       "<ol class=list-inline>\n",
       "\t<li>'data'</li>\n",
       "\t<li>'close'</li>\n",
       "\t<li>'avg10'</li>\n",
       "\t<li>'avg20'</li>\n",
       "\t<li>'std10'</li>\n",
       "\t<li>'std20'</li>\n",
       "\t<li>'rsi14'</li>\n",
       "\t<li>'rsi5'</li>\n",
       "\t<li>'macd1226'</li>\n",
       "\t<li>'signal9'</li>\n",
       "\t<li>'histogram9'</li>\n",
       "\t<li>'macd0720'</li>\n",
       "\t<li>'signal5'</li>\n",
       "\t<li>'histogram5'</li>\n",
       "\t<li>'bbands'</li>\n",
       "\t<li>'direction'</li>\n",
       "</ol>\n"
      ],
      "text/latex": [
       "\\begin{enumerate*}\n",
       "\\item 'data'\n",
       "\\item 'close'\n",
       "\\item 'avg10'\n",
       "\\item 'avg20'\n",
       "\\item 'std10'\n",
       "\\item 'std20'\n",
       "\\item 'rsi14'\n",
       "\\item 'rsi5'\n",
       "\\item 'macd1226'\n",
       "\\item 'signal9'\n",
       "\\item 'histogram9'\n",
       "\\item 'macd0720'\n",
       "\\item 'signal5'\n",
       "\\item 'histogram5'\n",
       "\\item 'bbands'\n",
       "\\item 'direction'\n",
       "\\end{enumerate*}\n"
      ],
      "text/markdown": [
       "1. 'data'\n",
       "2. 'close'\n",
       "3. 'avg10'\n",
       "4. 'avg20'\n",
       "5. 'std10'\n",
       "6. 'std20'\n",
       "7. 'rsi14'\n",
       "8. 'rsi5'\n",
       "9. 'macd1226'\n",
       "10. 'signal9'\n",
       "11. 'histogram9'\n",
       "12. 'macd0720'\n",
       "13. 'signal5'\n",
       "14. 'histogram5'\n",
       "15. 'bbands'\n",
       "16. 'direction'\n",
       "\n",
       "\n"
      ],
      "text/plain": [
       " [1] \"data\"       \"close\"      \"avg10\"      \"avg20\"      \"std10\"     \n",
       " [6] \"std20\"      \"rsi14\"      \"rsi5\"       \"macd1226\"   \"signal9\"   \n",
       "[11] \"histogram9\" \"macd0720\"   \"signal5\"    \"histogram5\" \"bbands\"    \n",
       "[16] \"direction\" "
      ]
     },
     "metadata": {},
     "output_type": "display_data"
    }
   ],
   "source": [
    "colnames(smll)"
   ]
  },
  {
   "cell_type": "markdown",
   "metadata": {},
   "source": [
    "**Direção do Retorno da Ação**:\n",
    "\n",
    "* \"up\" = aumento do retorno\n",
    "\n",
    "* \"down\" = redução do retorno\n",
    "\n",
    "* \"nowhere\" = nenhum dos casos anteriores"
   ]
  },
  {
   "cell_type": "code",
   "execution_count": 14,
   "metadata": {},
   "outputs": [],
   "source": [
    "lagret <- (smll$close - lag(smll$close, 20)) / lag(smll$close, 20)\n",
    "\n",
    "dirret <- NULL\n",
    "\n",
    "dirret[lagret < 0.02] <- \"down\"\n",
    "dirret[lagret > 0.02] <- \"up\"\n",
    "dirret[lagret < 0.02 & lagret > -0.02] <- \"nowhere\"\n",
    "\n",
    "smll$dirret <- dirret"
   ]
  },
  {
   "cell_type": "code",
   "execution_count": 15,
   "metadata": {},
   "outputs": [
    {
     "data": {
      "text/html": [
       "<ol class=list-inline>\n",
       "\t<li>'data'</li>\n",
       "\t<li>'close'</li>\n",
       "\t<li>'avg10'</li>\n",
       "\t<li>'avg20'</li>\n",
       "\t<li>'std10'</li>\n",
       "\t<li>'std20'</li>\n",
       "\t<li>'rsi14'</li>\n",
       "\t<li>'rsi5'</li>\n",
       "\t<li>'macd1226'</li>\n",
       "\t<li>'signal9'</li>\n",
       "\t<li>'histogram9'</li>\n",
       "\t<li>'macd0720'</li>\n",
       "\t<li>'signal5'</li>\n",
       "\t<li>'histogram5'</li>\n",
       "\t<li>'bbands'</li>\n",
       "\t<li>'direction'</li>\n",
       "\t<li>'dirret'</li>\n",
       "</ol>\n"
      ],
      "text/latex": [
       "\\begin{enumerate*}\n",
       "\\item 'data'\n",
       "\\item 'close'\n",
       "\\item 'avg10'\n",
       "\\item 'avg20'\n",
       "\\item 'std10'\n",
       "\\item 'std20'\n",
       "\\item 'rsi14'\n",
       "\\item 'rsi5'\n",
       "\\item 'macd1226'\n",
       "\\item 'signal9'\n",
       "\\item 'histogram9'\n",
       "\\item 'macd0720'\n",
       "\\item 'signal5'\n",
       "\\item 'histogram5'\n",
       "\\item 'bbands'\n",
       "\\item 'direction'\n",
       "\\item 'dirret'\n",
       "\\end{enumerate*}\n"
      ],
      "text/markdown": [
       "1. 'data'\n",
       "2. 'close'\n",
       "3. 'avg10'\n",
       "4. 'avg20'\n",
       "5. 'std10'\n",
       "6. 'std20'\n",
       "7. 'rsi14'\n",
       "8. 'rsi5'\n",
       "9. 'macd1226'\n",
       "10. 'signal9'\n",
       "11. 'histogram9'\n",
       "12. 'macd0720'\n",
       "13. 'signal5'\n",
       "14. 'histogram5'\n",
       "15. 'bbands'\n",
       "16. 'direction'\n",
       "17. 'dirret'\n",
       "\n",
       "\n"
      ],
      "text/plain": [
       " [1] \"data\"       \"close\"      \"avg10\"      \"avg20\"      \"std10\"     \n",
       " [6] \"std20\"      \"rsi14\"      \"rsi5\"       \"macd1226\"   \"signal9\"   \n",
       "[11] \"histogram9\" \"macd0720\"   \"signal5\"    \"histogram5\" \"bbands\"    \n",
       "[16] \"direction\"  \"dirret\"    "
      ]
     },
     "metadata": {},
     "output_type": "display_data"
    }
   ],
   "source": [
    "colnames(smll)"
   ]
  },
  {
   "cell_type": "markdown",
   "metadata": {},
   "source": [
    "# Etapa 3: Identificação e tratamento de *missing values*"
   ]
  },
  {
   "cell_type": "markdown",
   "metadata": {},
   "source": [
    "## 1. Contabilização de *missing values*"
   ]
  },
  {
   "cell_type": "code",
   "execution_count": 16,
   "metadata": {},
   "outputs": [
    {
     "data": {
      "text/plain": [
       "\n",
       "FALSE  TRUE \n",
       "99.53  0.47 "
      ]
     },
     "metadata": {},
     "output_type": "display_data"
    }
   ],
   "source": [
    "round(prop.table(table(is.na(smll)))*100, digits = 2)\n",
    "\n",
    "# 0.47% do dataframe corresponde a missing values"
   ]
  },
  {
   "cell_type": "markdown",
   "metadata": {},
   "source": [
    "## 2. Remoção dos *missing values*"
   ]
  },
  {
   "cell_type": "code",
   "execution_count": 17,
   "metadata": {},
   "outputs": [
    {
     "data": {
      "text/plain": [
       "\n",
       "FALSE \n",
       "  100 "
      ]
     },
     "metadata": {},
     "output_type": "display_data"
    }
   ],
   "source": [
    "smlln <- na.omit(smll)\n",
    "\n",
    "round(prop.table(table(is.na(smlln)))*100, digits = 2)\n",
    "\n",
    "# O dataframe não possui missing values"
   ]
  },
  {
   "cell_type": "code",
   "execution_count": 18,
   "metadata": {},
   "outputs": [
    {
     "data": {
      "text/html": [
       "<table>\n",
       "<thead><tr><th scope=col>data</th><th scope=col>close</th><th scope=col>avg10</th><th scope=col>avg20</th><th scope=col>std10</th><th scope=col>std20</th><th scope=col>rsi14</th><th scope=col>rsi5</th><th scope=col>macd1226</th><th scope=col>signal9</th><th scope=col>histogram9</th><th scope=col>macd0720</th><th scope=col>signal5</th><th scope=col>histogram5</th><th scope=col>bbands</th><th scope=col>direction</th><th scope=col>dirret</th></tr></thead>\n",
       "<tbody>\n",
       "\t<tr><td>2005-10-21</td><td>535.51    </td><td>548.069   </td><td>555.6270  </td><td>11.263658 </td><td>13.35135  </td><td>32.14348  </td><td>31.14326  </td><td>262.4648  </td><td> 52.49296 </td><td>209.97185 </td><td>115.19920 </td><td>116.82055 </td><td> -1.621347</td><td>53.40541  </td><td>0         </td><td>down      </td></tr>\n",
       "\t<tr><td>2005-10-24</td><td>537.57    </td><td>546.257   </td><td>554.6420  </td><td>11.358530 </td><td>13.93758  </td><td>30.29730  </td><td>32.32622  </td><td>243.2300  </td><td> 90.64038 </td><td>152.58966 </td><td>103.58007 </td><td>112.40706 </td><td> -8.826982</td><td>55.75030  </td><td>0         </td><td>down      </td></tr>\n",
       "\t<tr><td>2005-10-25</td><td>535.31    </td><td>543.926   </td><td>553.5905  </td><td>10.922979 </td><td>14.58116  </td><td>33.08411  </td><td>46.04782  </td><td>225.2079  </td><td>117.55389 </td><td>107.65404 </td><td> 92.87971 </td><td>105.89794 </td><td>-13.018229</td><td>58.32464  </td><td>0         </td><td>down      </td></tr>\n",
       "\t<tr><td>2005-10-26</td><td>539.95    </td><td>542.041   </td><td>552.7665  </td><td> 9.619677 </td><td>14.87494  </td><td>40.00209  </td><td>44.64646  </td><td>208.8917  </td><td>135.82145 </td><td> 73.07025 </td><td> 84.12543 </td><td> 98.64044 </td><td>-14.515010</td><td>59.49978  </td><td>0         </td><td>down      </td></tr>\n",
       "\t<tr><td>2005-10-27</td><td>530.43    </td><td>539.704   </td><td>551.0105  </td><td> 9.278226 </td><td>15.35175  </td><td>42.84595  </td><td>56.77064  </td><td>192.9684  </td><td>147.25084 </td><td> 45.71754 </td><td> 74.70870 </td><td> 90.66319 </td><td>-15.954492</td><td>61.40698  </td><td>0         </td><td>down      </td></tr>\n",
       "\t<tr><td>2005-10-28</td><td>538.42    </td><td>538.118   </td><td>549.5950  </td><td> 7.737385 </td><td>15.12960  </td><td>39.82082  </td><td>55.49679  </td><td>178.9311  </td><td>153.58690 </td><td> 25.34425 </td><td> 67.77655 </td><td> 83.03431 </td><td>-15.257764</td><td>60.51840  </td><td>0         </td><td>down      </td></tr>\n",
       "</tbody>\n",
       "</table>\n"
      ],
      "text/latex": [
       "\\begin{tabular}{r|lllllllllllllllll}\n",
       " data & close & avg10 & avg20 & std10 & std20 & rsi14 & rsi5 & macd1226 & signal9 & histogram9 & macd0720 & signal5 & histogram5 & bbands & direction & dirret\\\\\n",
       "\\hline\n",
       "\t 2005-10-21 & 535.51     & 548.069    & 555.6270   & 11.263658  & 13.35135   & 32.14348   & 31.14326   & 262.4648   &  52.49296  & 209.97185  & 115.19920  & 116.82055  &  -1.621347 & 53.40541   & 0          & down      \\\\\n",
       "\t 2005-10-24 & 537.57     & 546.257    & 554.6420   & 11.358530  & 13.93758   & 30.29730   & 32.32622   & 243.2300   &  90.64038  & 152.58966  & 103.58007  & 112.40706  &  -8.826982 & 55.75030   & 0          & down      \\\\\n",
       "\t 2005-10-25 & 535.31     & 543.926    & 553.5905   & 10.922979  & 14.58116   & 33.08411   & 46.04782   & 225.2079   & 117.55389  & 107.65404  &  92.87971  & 105.89794  & -13.018229 & 58.32464   & 0          & down      \\\\\n",
       "\t 2005-10-26 & 539.95     & 542.041    & 552.7665   &  9.619677  & 14.87494   & 40.00209   & 44.64646   & 208.8917   & 135.82145  &  73.07025  &  84.12543  &  98.64044  & -14.515010 & 59.49978   & 0          & down      \\\\\n",
       "\t 2005-10-27 & 530.43     & 539.704    & 551.0105   &  9.278226  & 15.35175   & 42.84595   & 56.77064   & 192.9684   & 147.25084  &  45.71754  &  74.70870  &  90.66319  & -15.954492 & 61.40698   & 0          & down      \\\\\n",
       "\t 2005-10-28 & 538.42     & 538.118    & 549.5950   &  7.737385  & 15.12960   & 39.82082   & 55.49679   & 178.9311   & 153.58690  &  25.34425  &  67.77655  &  83.03431  & -15.257764 & 60.51840   & 0          & down      \\\\\n",
       "\\end{tabular}\n"
      ],
      "text/markdown": [
       "\n",
       "| data | close | avg10 | avg20 | std10 | std20 | rsi14 | rsi5 | macd1226 | signal9 | histogram9 | macd0720 | signal5 | histogram5 | bbands | direction | dirret |\n",
       "|---|---|---|---|---|---|---|---|---|---|---|---|---|---|---|---|---|\n",
       "| 2005-10-21 | 535.51     | 548.069    | 555.6270   | 11.263658  | 13.35135   | 32.14348   | 31.14326   | 262.4648   |  52.49296  | 209.97185  | 115.19920  | 116.82055  |  -1.621347 | 53.40541   | 0          | down       |\n",
       "| 2005-10-24 | 537.57     | 546.257    | 554.6420   | 11.358530  | 13.93758   | 30.29730   | 32.32622   | 243.2300   |  90.64038  | 152.58966  | 103.58007  | 112.40706  |  -8.826982 | 55.75030   | 0          | down       |\n",
       "| 2005-10-25 | 535.31     | 543.926    | 553.5905   | 10.922979  | 14.58116   | 33.08411   | 46.04782   | 225.2079   | 117.55389  | 107.65404  |  92.87971  | 105.89794  | -13.018229 | 58.32464   | 0          | down       |\n",
       "| 2005-10-26 | 539.95     | 542.041    | 552.7665   |  9.619677  | 14.87494   | 40.00209   | 44.64646   | 208.8917   | 135.82145  |  73.07025  |  84.12543  |  98.64044  | -14.515010 | 59.49978   | 0          | down       |\n",
       "| 2005-10-27 | 530.43     | 539.704    | 551.0105   |  9.278226  | 15.35175   | 42.84595   | 56.77064   | 192.9684   | 147.25084  |  45.71754  |  74.70870  |  90.66319  | -15.954492 | 61.40698   | 0          | down       |\n",
       "| 2005-10-28 | 538.42     | 538.118    | 549.5950   |  7.737385  | 15.12960   | 39.82082   | 55.49679   | 178.9311   | 153.58690  |  25.34425  |  67.77655  |  83.03431  | -15.257764 | 60.51840   | 0          | down       |\n",
       "\n"
      ],
      "text/plain": [
       "  data       close  avg10   avg20    std10     std20    rsi14    rsi5    \n",
       "1 2005-10-21 535.51 548.069 555.6270 11.263658 13.35135 32.14348 31.14326\n",
       "2 2005-10-24 537.57 546.257 554.6420 11.358530 13.93758 30.29730 32.32622\n",
       "3 2005-10-25 535.31 543.926 553.5905 10.922979 14.58116 33.08411 46.04782\n",
       "4 2005-10-26 539.95 542.041 552.7665  9.619677 14.87494 40.00209 44.64646\n",
       "5 2005-10-27 530.43 539.704 551.0105  9.278226 15.35175 42.84595 56.77064\n",
       "6 2005-10-28 538.42 538.118 549.5950  7.737385 15.12960 39.82082 55.49679\n",
       "  macd1226 signal9   histogram9 macd0720  signal5   histogram5 bbands  \n",
       "1 262.4648  52.49296 209.97185  115.19920 116.82055  -1.621347 53.40541\n",
       "2 243.2300  90.64038 152.58966  103.58007 112.40706  -8.826982 55.75030\n",
       "3 225.2079 117.55389 107.65404   92.87971 105.89794 -13.018229 58.32464\n",
       "4 208.8917 135.82145  73.07025   84.12543  98.64044 -14.515010 59.49978\n",
       "5 192.9684 147.25084  45.71754   74.70870  90.66319 -15.954492 61.40698\n",
       "6 178.9311 153.58690  25.34425   67.77655  83.03431 -15.257764 60.51840\n",
       "  direction dirret\n",
       "1 0         down  \n",
       "2 0         down  \n",
       "3 0         down  \n",
       "4 0         down  \n",
       "5 0         down  \n",
       "6 0         down  "
      ]
     },
     "metadata": {},
     "output_type": "display_data"
    }
   ],
   "source": [
    "head(smlln)\n",
    "\n",
    "# o novo dataframe tem início em 21/10/2005"
   ]
  },
  {
   "cell_type": "markdown",
   "metadata": {},
   "source": [
    "# Etapa 4: Análise Exploratória de Dados"
   ]
  },
  {
   "cell_type": "markdown",
   "metadata": {},
   "source": [
    "## 1. Estatística Descritiva"
   ]
  },
  {
   "cell_type": "code",
   "execution_count": 19,
   "metadata": {},
   "outputs": [
    {
     "data": {
      "text/plain": [
       "     close            avg10            avg20            std10        \n",
       " Min.   : 405.9   Min.   : 450.6   Min.   : 458.5   Min.   :  2.971  \n",
       " 1st Qu.: 960.7   1st Qu.: 957.4   1st Qu.: 957.5   1st Qu.: 11.437  \n",
       " Median :1221.4   Median :1216.8   Median :1212.9   Median : 16.971  \n",
       " Mean   :1284.1   Mean   :1281.5   Mean   :1278.5   Mean   : 21.949  \n",
       " 3rd Qu.:1472.7   3rd Qu.:1471.0   3rd Qu.:1470.4   3rd Qu.: 25.698  \n",
       " Max.   :3064.1   Max.   :3002.7   Max.   :2962.5   Max.   :349.881  \n",
       "     std20             rsi14            rsi5           macd1226       \n",
       " Min.   :  3.972   Min.   : 0.00   Min.   :  0.00   Min.   :-337.364  \n",
       " 1st Qu.: 16.892   1st Qu.:41.10   1st Qu.: 32.24   1st Qu.:  -8.060  \n",
       " Median : 24.523   Median :54.09   Median : 56.01   Median :   4.690  \n",
       " Mean   : 31.533   Mean   :54.43   Mean   : 54.85   Mean   :   4.889  \n",
       " 3rd Qu.: 35.696   3rd Qu.:68.28   3rd Qu.: 79.00   3rd Qu.:  19.153  \n",
       " Max.   :483.142   Max.   :97.45   Max.   :100.00   Max.   : 262.465  \n",
       "    signal9           histogram9          macd0720           signal5        \n",
       " Min.   :-286.022   Min.   :-97.6544   Min.   :-404.735   Min.   :-381.405  \n",
       " 1st Qu.:  -7.726   1st Qu.: -3.4195   1st Qu.:  -8.797   1st Qu.:  -8.361  \n",
       " Median :   4.856   Median : -0.0229   Median :   4.930   Median :   4.672  \n",
       " Mean   :   4.823   Mean   :  0.0664   Mean   :   4.062   Mean   :   4.098  \n",
       " 3rd Qu.:  18.739   3rd Qu.:  3.3378   3rd Qu.:  19.465   3rd Qu.:  18.682  \n",
       " Max.   : 156.151   Max.   :209.9718   Max.   : 172.607   Max.   : 151.477  \n",
       "   histogram5            bbands       \n",
       " Min.   :-79.21103   Min.   :  15.89  \n",
       " 1st Qu.: -2.88782   1st Qu.:  67.57  \n",
       " Median :  0.07914   Median :  98.09  \n",
       " Mean   : -0.03625   Mean   : 126.13  \n",
       " 3rd Qu.:  2.89218   3rd Qu.: 142.78  \n",
       " Max.   : 62.80410   Max.   :1932.57  "
      ]
     },
     "metadata": {},
     "output_type": "display_data"
    }
   ],
   "source": [
    "summary(smlln[,-c(1, 16, 17)])"
   ]
  },
  {
   "cell_type": "markdown",
   "metadata": {},
   "source": [
    "A função \"summary\" não fornece todas as estatísticas descritivas (ex.: desvio padrão, assimetria, curtose...).\n",
    "\n",
    "Para uma análise mais completa criaremos uma tabela com mais medidas de estatística descritiva."
   ]
  },
  {
   "cell_type": "code",
   "execution_count": 20,
   "metadata": {},
   "outputs": [],
   "source": [
    "# Biblioteca(s) Necessária(s)\n",
    "library(moments)"
   ]
  },
  {
   "cell_type": "code",
   "execution_count": 21,
   "metadata": {},
   "outputs": [],
   "source": [
    "# Remoção das colunas \"data\", \"direction\" e \"dirret\"\n",
    "msmll <- as.matrix(smlln[,-c(1, 16, 17)])    "
   ]
  },
  {
   "cell_type": "code",
   "execution_count": 22,
   "metadata": {},
   "outputs": [],
   "source": [
    "# Cálculo das medidas de estatística descritiva\n",
    "n <- ncol(msmll)\n",
    "\n",
    "# Média\n",
    "mean_smll <- numeric(n)\n",
    "names(mean_smll) <- colnames(msmll)\n",
    "for (i in 1:n) {\n",
    "    mean_smll[i] <- mean(msmll[,i])\n",
    "}\n",
    "mean_smll <- round(mean_smll, digits = 2)\n",
    "\n",
    "# Desvio Padrão\n",
    "sd_smll <- numeric(n)\n",
    "names(sd_smll) <- colnames(msmll)\n",
    "for (i in 1:n) {\n",
    "    sd_smll[i] <- sd(msmll[,i])\n",
    "}\n",
    "sd_smll <- round(sd_smll, digits = 2)\n",
    "\n",
    "# Mínimo\n",
    "min_smll <- numeric(n)\n",
    "names(min_smll) <- colnames(msmll)\n",
    "for (i in 1:n) {\n",
    "    min_smll[i] <- min(msmll[,i])\n",
    "}\n",
    "min_smll <- round(min_smll, digits = 2)\n",
    "\n",
    "# 1º Qurtil\n",
    "q1_smll <- numeric(n)\n",
    "names(q1_smll) <- colnames(msmll)\n",
    "for (i in 1:n) {\n",
    "    q1_smll[i] <- quantile(msmll[,i], probs = 0.25)\n",
    "}\n",
    "q1_smll <- round(q1_smll, digits = 2)\n",
    "\n",
    "# Mediana\n",
    "median_smll <- numeric(n)\n",
    "names(median_smll) <- colnames(msmll)\n",
    "for (i in 1:n) {\n",
    "    median_smll[i] <- median(msmll[,i])\n",
    "}\n",
    "median_smll <- round(median_smll, digits = 2)\n",
    "\n",
    "# 3º Qurtil\n",
    "q3_smll <- numeric(n)\n",
    "names(q3_smll) <- colnames(msmll)\n",
    "for (i in 1:n) {\n",
    "    q3_smll[i] <- quantile(msmll[,i], probs = 0.75)\n",
    "}\n",
    "q3_smll <- round(q3_smll, digits = 2)\n",
    "\n",
    "# Máximo\n",
    "max_smll <- numeric(n)\n",
    "names(max_smll) <- colnames(msmll)\n",
    "for (i in 1:n) {\n",
    "    max_smll[i] <- max(msmll[,i])\n",
    "}\n",
    "max_smll <- round(max_smll, digits = 2)\n",
    "\n",
    "# Coeficiente de Variação\n",
    "cv_smll <- numeric(n)\n",
    "names(cv_smll) <- colnames(msmll)\n",
    "for (i in 1:n) {\n",
    "    cv_smll[i] <- sd(msmll[,i])/mean(msmll[,i])\n",
    "}\n",
    "cv_smll <- round(cv_smll, digits = 2)\n",
    "\n",
    "# Assimetria\n",
    "skew_smll <- numeric(n)\n",
    "names(skew_smll) <- colnames(msmll)\n",
    "for (i in 1:n) {\n",
    "    skew_smll[i] <- skewness(msmll[,i])\n",
    "}\n",
    "skew_smll <- round(skew_smll, digits = 2)\n",
    "\n",
    "# Curtose\n",
    "kurt_smll <- numeric(n)\n",
    "names(kurt_smll) <- colnames(msmll)\n",
    "for (i in 1:n) {\n",
    "    kurt_smll[i] <- kurtosis(msmll[,i])\n",
    "}\n",
    "kurt_smll <- round(kurt_smll, digits = 2)"
   ]
  },
  {
   "cell_type": "code",
   "execution_count": 23,
   "metadata": {},
   "outputs": [
    {
     "data": {
      "text/html": [
       "<table>\n",
       "<thead><tr><th></th><th scope=col>media</th><th scope=col>sd</th><th scope=col>min</th><th scope=col>q1</th><th scope=col>median</th><th scope=col>q3</th><th scope=col>max</th><th scope=col>cv</th><th scope=col>skew</th><th scope=col>kurt</th></tr></thead>\n",
       "<tbody>\n",
       "\t<tr><th scope=row>close</th><td>1284.13</td><td>495.76 </td><td> 405.93</td><td>960.69 </td><td>1221.36</td><td>1472.70</td><td>3064.07</td><td>   0.39</td><td> 1.04  </td><td> 4.23  </td></tr>\n",
       "\t<tr><th scope=row>avg10</th><td>1281.46</td><td>492.81 </td><td> 450.62</td><td>957.44 </td><td>1216.84</td><td>1470.97</td><td>3002.74</td><td>   0.38</td><td> 1.03  </td><td> 4.20  </td></tr>\n",
       "\t<tr><th scope=row>avg20</th><td>1278.55</td><td>489.41 </td><td> 458.47</td><td>957.46 </td><td>1212.90</td><td>1470.39</td><td>2962.49</td><td>   0.38</td><td> 1.01  </td><td> 4.16  </td></tr>\n",
       "\t<tr><th scope=row>std10</th><td>  21.95</td><td> 21.86 </td><td>   2.97</td><td> 11.44 </td><td>  16.97</td><td>  25.70</td><td> 349.88</td><td>   1.00</td><td> 7.32  </td><td>87.85  </td></tr>\n",
       "\t<tr><th scope=row>std20</th><td>  31.53</td><td> 32.91 </td><td>   3.97</td><td> 16.89 </td><td>  24.52</td><td>  35.70</td><td> 483.14</td><td>   1.04</td><td> 7.64  </td><td>86.51  </td></tr>\n",
       "\t<tr><th scope=row>rsi14</th><td>  54.43</td><td> 18.49 </td><td>   0.00</td><td> 41.10 </td><td>  54.09</td><td>  68.28</td><td>  97.45</td><td>   0.34</td><td>-0.03  </td><td> 2.41  </td></tr>\n",
       "\t<tr><th scope=row>rsi5</th><td>  54.85</td><td> 28.56 </td><td>   0.00</td><td> 32.24 </td><td>  56.01</td><td>  79.00</td><td> 100.00</td><td>   0.52</td><td>-0.18  </td><td> 1.99  </td></tr>\n",
       "\t<tr><th scope=row>macd1226</th><td>   4.89</td><td> 33.37 </td><td>-337.36</td><td> -8.06 </td><td>   4.69</td><td>  19.15</td><td> 262.46</td><td>   6.83</td><td>-2.22  </td><td>30.94  </td></tr>\n",
       "\t<tr><th scope=row>signal9</th><td>   4.82</td><td> 31.48 </td><td>-286.02</td><td> -7.73 </td><td>   4.86</td><td>  18.74</td><td> 156.15</td><td>   6.53</td><td>-2.34  </td><td>26.58  </td></tr>\n",
       "\t<tr><th scope=row>histogram9</th><td>   0.07</td><td>  9.75 </td><td> -97.65</td><td> -3.42 </td><td>  -0.02</td><td>   3.34</td><td> 209.97</td><td> 146.80</td><td> 3.06  </td><td>97.26  </td></tr>\n",
       "\t<tr><th scope=row>macd7205</th><td>   4.06</td><td> 34.07 </td><td>-404.74</td><td> -8.80 </td><td>   4.93</td><td>  19.47</td><td> 172.61</td><td>   8.39</td><td>-3.72  </td><td>43.82  </td></tr>\n",
       "\t<tr><th scope=row>signal5</th><td>   4.10</td><td> 33.13 </td><td>-381.40</td><td> -8.36 </td><td>   4.67</td><td>  18.68</td><td> 151.48</td><td>   8.08</td><td>-3.56  </td><td>40.65  </td></tr>\n",
       "\t<tr><th scope=row>histogram5</th><td>  -0.04</td><td>  6.76 </td><td> -79.21</td><td> -2.89 </td><td>   0.08</td><td>   2.89</td><td>  62.80</td><td>-186.43</td><td>-0.62  </td><td>28.38  </td></tr>\n",
       "\t<tr><th scope=row>bbands</th><td> 126.13</td><td>131.64 </td><td>  15.89</td><td> 67.57 </td><td>  98.09</td><td> 142.78</td><td>1932.57</td><td>   1.04</td><td> 7.64  </td><td>86.51  </td></tr>\n",
       "</tbody>\n",
       "</table>\n"
      ],
      "text/latex": [
       "\\begin{tabular}{r|llllllllll}\n",
       "  & media & sd & min & q1 & median & q3 & max & cv & skew & kurt\\\\\n",
       "\\hline\n",
       "\tclose & 1284.13 & 495.76  &  405.93 & 960.69  & 1221.36 & 1472.70 & 3064.07 &    0.39 &  1.04   &  4.23  \\\\\n",
       "\tavg10 & 1281.46 & 492.81  &  450.62 & 957.44  & 1216.84 & 1470.97 & 3002.74 &    0.38 &  1.03   &  4.20  \\\\\n",
       "\tavg20 & 1278.55 & 489.41  &  458.47 & 957.46  & 1212.90 & 1470.39 & 2962.49 &    0.38 &  1.01   &  4.16  \\\\\n",
       "\tstd10 &   21.95 &  21.86  &    2.97 &  11.44  &   16.97 &   25.70 &  349.88 &    1.00 &  7.32   & 87.85  \\\\\n",
       "\tstd20 &   31.53 &  32.91  &    3.97 &  16.89  &   24.52 &   35.70 &  483.14 &    1.04 &  7.64   & 86.51  \\\\\n",
       "\trsi14 &   54.43 &  18.49  &    0.00 &  41.10  &   54.09 &   68.28 &   97.45 &    0.34 & -0.03   &  2.41  \\\\\n",
       "\trsi5 &   54.85 &  28.56  &    0.00 &  32.24  &   56.01 &   79.00 &  100.00 &    0.52 & -0.18   &  1.99  \\\\\n",
       "\tmacd1226 &    4.89 &  33.37  & -337.36 &  -8.06  &    4.69 &   19.15 &  262.46 &    6.83 & -2.22   & 30.94  \\\\\n",
       "\tsignal9 &    4.82 &  31.48  & -286.02 &  -7.73  &    4.86 &   18.74 &  156.15 &    6.53 & -2.34   & 26.58  \\\\\n",
       "\thistogram9 &    0.07 &   9.75  &  -97.65 &  -3.42  &   -0.02 &    3.34 &  209.97 &  146.80 &  3.06   & 97.26  \\\\\n",
       "\tmacd7205 &    4.06 &  34.07  & -404.74 &  -8.80  &    4.93 &   19.47 &  172.61 &    8.39 & -3.72   & 43.82  \\\\\n",
       "\tsignal5 &    4.10 &  33.13  & -381.40 &  -8.36  &    4.67 &   18.68 &  151.48 &    8.08 & -3.56   & 40.65  \\\\\n",
       "\thistogram5 &   -0.04 &   6.76  &  -79.21 &  -2.89  &    0.08 &    2.89 &   62.80 & -186.43 & -0.62   & 28.38  \\\\\n",
       "\tbbands &  126.13 & 131.64  &   15.89 &  67.57  &   98.09 &  142.78 & 1932.57 &    1.04 &  7.64   & 86.51  \\\\\n",
       "\\end{tabular}\n"
      ],
      "text/markdown": [
       "\n",
       "| <!--/--> | media | sd | min | q1 | median | q3 | max | cv | skew | kurt |\n",
       "|---|---|---|---|---|---|---|---|---|---|---|\n",
       "| close | 1284.13 | 495.76  |  405.93 | 960.69  | 1221.36 | 1472.70 | 3064.07 |    0.39 |  1.04   |  4.23   |\n",
       "| avg10 | 1281.46 | 492.81  |  450.62 | 957.44  | 1216.84 | 1470.97 | 3002.74 |    0.38 |  1.03   |  4.20   |\n",
       "| avg20 | 1278.55 | 489.41  |  458.47 | 957.46  | 1212.90 | 1470.39 | 2962.49 |    0.38 |  1.01   |  4.16   |\n",
       "| std10 |   21.95 |  21.86  |    2.97 |  11.44  |   16.97 |   25.70 |  349.88 |    1.00 |  7.32   | 87.85   |\n",
       "| std20 |   31.53 |  32.91  |    3.97 |  16.89  |   24.52 |   35.70 |  483.14 |    1.04 |  7.64   | 86.51   |\n",
       "| rsi14 |   54.43 |  18.49  |    0.00 |  41.10  |   54.09 |   68.28 |   97.45 |    0.34 | -0.03   |  2.41   |\n",
       "| rsi5 |   54.85 |  28.56  |    0.00 |  32.24  |   56.01 |   79.00 |  100.00 |    0.52 | -0.18   |  1.99   |\n",
       "| macd1226 |    4.89 |  33.37  | -337.36 |  -8.06  |    4.69 |   19.15 |  262.46 |    6.83 | -2.22   | 30.94   |\n",
       "| signal9 |    4.82 |  31.48  | -286.02 |  -7.73  |    4.86 |   18.74 |  156.15 |    6.53 | -2.34   | 26.58   |\n",
       "| histogram9 |    0.07 |   9.75  |  -97.65 |  -3.42  |   -0.02 |    3.34 |  209.97 |  146.80 |  3.06   | 97.26   |\n",
       "| macd7205 |    4.06 |  34.07  | -404.74 |  -8.80  |    4.93 |   19.47 |  172.61 |    8.39 | -3.72   | 43.82   |\n",
       "| signal5 |    4.10 |  33.13  | -381.40 |  -8.36  |    4.67 |   18.68 |  151.48 |    8.08 | -3.56   | 40.65   |\n",
       "| histogram5 |   -0.04 |   6.76  |  -79.21 |  -2.89  |    0.08 |    2.89 |   62.80 | -186.43 | -0.62   | 28.38   |\n",
       "| bbands |  126.13 | 131.64  |   15.89 |  67.57  |   98.09 |  142.78 | 1932.57 |    1.04 |  7.64   | 86.51   |\n",
       "\n"
      ],
      "text/plain": [
       "           media   sd     min     q1     median  q3      max     cv      skew \n",
       "close      1284.13 495.76  405.93 960.69 1221.36 1472.70 3064.07    0.39  1.04\n",
       "avg10      1281.46 492.81  450.62 957.44 1216.84 1470.97 3002.74    0.38  1.03\n",
       "avg20      1278.55 489.41  458.47 957.46 1212.90 1470.39 2962.49    0.38  1.01\n",
       "std10        21.95  21.86    2.97  11.44   16.97   25.70  349.88    1.00  7.32\n",
       "std20        31.53  32.91    3.97  16.89   24.52   35.70  483.14    1.04  7.64\n",
       "rsi14        54.43  18.49    0.00  41.10   54.09   68.28   97.45    0.34 -0.03\n",
       "rsi5         54.85  28.56    0.00  32.24   56.01   79.00  100.00    0.52 -0.18\n",
       "macd1226      4.89  33.37 -337.36  -8.06    4.69   19.15  262.46    6.83 -2.22\n",
       "signal9       4.82  31.48 -286.02  -7.73    4.86   18.74  156.15    6.53 -2.34\n",
       "histogram9    0.07   9.75  -97.65  -3.42   -0.02    3.34  209.97  146.80  3.06\n",
       "macd7205      4.06  34.07 -404.74  -8.80    4.93   19.47  172.61    8.39 -3.72\n",
       "signal5       4.10  33.13 -381.40  -8.36    4.67   18.68  151.48    8.08 -3.56\n",
       "histogram5   -0.04   6.76  -79.21  -2.89    0.08    2.89   62.80 -186.43 -0.62\n",
       "bbands      126.13 131.64   15.89  67.57   98.09  142.78 1932.57    1.04  7.64\n",
       "           kurt \n",
       "close       4.23\n",
       "avg10       4.20\n",
       "avg20       4.16\n",
       "std10      87.85\n",
       "std20      86.51\n",
       "rsi14       2.41\n",
       "rsi5        1.99\n",
       "macd1226   30.94\n",
       "signal9    26.58\n",
       "histogram9 97.26\n",
       "macd7205   43.82\n",
       "signal5    40.65\n",
       "histogram5 28.38\n",
       "bbands     86.51"
      ]
     },
     "metadata": {},
     "output_type": "display_data"
    }
   ],
   "source": [
    "# Montagem da matriz com as medidas de estatística descritiva\n",
    "stat_data1 <- c(mean_smll, sd_smll, min_smll, q1_smll, median_smll, q3_smll, max_smll, cv_smll, skew_smll, kurt_smll)\n",
    "stat_smll <- matrix(stat_data1, nrow = 14, ncol = 10)\n",
    "colnames(stat_smll) <- c(\"media\", \"sd\", \"min\", \"q1\", \"median\", \"q3\", \"max\", \"cv\", \"skew\", \"kurt\")\n",
    "rownames(stat_smll) <- c(\"close\", \"avg10\", \"avg20\", \"std10\", \"std20\", \"rsi14\", \"rsi5\", \"macd1226\", \"signal9\", \"histogram9\",\n",
    "                         \"macd7205\", \"signal5\", \"histogram5\", \"bbands\")\n",
    "stat_smll"
   ]
  },
  {
   "cell_type": "markdown",
   "metadata": {},
   "source": [
    "## 2. Identificação e tratamento de *outliers*"
   ]
  },
  {
   "cell_type": "markdown",
   "metadata": {},
   "source": [
    "### 2.1. Identificação de *outliers*"
   ]
  },
  {
   "cell_type": "code",
   "execution_count": 24,
   "metadata": {},
   "outputs": [
    {
     "data": {
      "image/png": "[encoded data removed]",
      "text/plain": [
       "Plot with title \"std20\""
      ]
     },
     "metadata": {},
     "output_type": "display_data"
    }
   ],
   "source": [
    "par(mfrow=c(2,3))\n",
    "\n",
    "boxplot(smlln$close, col=\"light gray\",  main=\"close\", border=\"black\", horizontal=FALSE)\n",
    "\n",
    "boxplot(smlln$avg10, col=\"light gray\", main=\"avg10\", border=\"black\", horizontal=FALSE)\n",
    "\n",
    "boxplot(smlln$avg20, col=\"light gray\", main=\"avg20\", border=\"black\", horizontal=FALSE)\n",
    "\n",
    "boxplot(smlln$std10, col=\"light gray\", main=\"std10\", border=\"black\", horizontal=FALSE)\n",
    "\n",
    "boxplot(smlln$std20, col=\"light gray\", main=\"std20\", border=\"black\", horizontal=FALSE)"
   ]
  },
  {
   "cell_type": "code",
   "execution_count": 25,
   "metadata": {},
   "outputs": [
    {
     "data": {
      "image/png": "[encoded data removed]",
      "text/plain": [
       "Plot with title \"histogram9\""
      ]
     },
     "metadata": {},
     "output_type": "display_data"
    }
   ],
   "source": [
    "par(mfrow=c(2,3))\n",
    "\n",
    "boxplot(smlln$rsi14, col=\"light gray\", main=\"rsi14\", border=\"black\", horizontal=FALSE)\n",
    "\n",
    "boxplot(smlln$rsi5, col=\"light gray\", main=\"rsi5\", border=\"black\", horizontal=FALSE)\n",
    "\n",
    "boxplot(smlln$macd1226, col=\"light gray\", main=\"macd1226\", border=\"black\", horizontal=FALSE)\n",
    "\n",
    "boxplot(smlln$signal9, col=\"light gray\",  main=\"signal9\", border=\"black\", horizontal=FALSE)\n",
    "\n",
    "boxplot(smlln$histogram9, col=\"light gray\", main=\"histogram9\", border=\"black\", horizontal=FALSE)"
   ]
  },
  {
   "cell_type": "code",
   "execution_count": 26,
   "metadata": {},
   "outputs": [
    {
     "data": {
      "image/png": "[encoded data removed]",
      "text/plain": [
       "Plot with title \"bbands\""
      ]
     },
     "metadata": {},
     "output_type": "display_data"
    }
   ],
   "source": [
    "par(mfrow=c(2,3))\n",
    "\n",
    "boxplot(smlln$macd0720, col=\"light gray\", main=\"macd7205\", border=\"black\", horizontal=FALSE)\n",
    "\n",
    "boxplot(smlln$signal5, col=\"light gray\", main=\"signal5\", border=\"black\", horizontal=FALSE)\n",
    "\n",
    "boxplot(smlln$histogram5, col=\"light gray\", main=\"histogram5\", border=\"black\", horizontal=FALSE)\n",
    "\n",
    "boxplot(smlln$bbands, col=\"light gray\", main=\"bbands\", border=\"black\", horizontal=FALSE)"
   ]
  },
  {
   "cell_type": "markdown",
   "metadata": {},
   "source": [
    "### 2.2. Tratamento de *outliers*"
   ]
  },
  {
   "cell_type": "code",
   "execution_count": 27,
   "metadata": {},
   "outputs": [],
   "source": [
    "# Biblioteca(s) Necessária(s)\n",
    "library(outliers)"
   ]
  },
  {
   "cell_type": "code",
   "execution_count": 28,
   "metadata": {},
   "outputs": [],
   "source": [
    "# Substituição dos outliers pelas medianas dos dados\n",
    "smllout <- rm.outlier(smlln[,-c(1, 16, 17)], fill = TRUE, median = TRUE, opposite = FALSE)"
   ]
  },
  {
   "cell_type": "code",
   "execution_count": 29,
   "metadata": {},
   "outputs": [
    {
     "data": {
      "text/html": [
       "<table>\n",
       "<thead><tr><th scope=col>close</th><th scope=col>avg10</th><th scope=col>avg20</th><th scope=col>std10</th><th scope=col>std20</th><th scope=col>rsi14</th><th scope=col>rsi5</th><th scope=col>macd1226</th><th scope=col>signal9</th><th scope=col>histogram9</th><th scope=col>macd0720</th><th scope=col>signal5</th><th scope=col>histogram5</th><th scope=col>bbands</th></tr></thead>\n",
       "<tbody>\n",
       "\t<tr><td>535.51      </td><td>548.069     </td><td>555.6270    </td><td>11.263658   </td><td>13.35135    </td><td>32.14348    </td><td>31.14326    </td><td>262.4648    </td><td> 52.49296   </td><td> -0.02411624</td><td>115.19920   </td><td>116.82055   </td><td> -1.621347  </td><td>53.40541    </td></tr>\n",
       "\t<tr><td>537.57      </td><td>546.257     </td><td>554.6420    </td><td>11.358530   </td><td>13.93758    </td><td>30.29730    </td><td>32.32622    </td><td>243.2300    </td><td> 90.64038   </td><td>152.58966290</td><td>103.58007   </td><td>112.40706   </td><td> -8.826982  </td><td>55.75030    </td></tr>\n",
       "\t<tr><td>535.31      </td><td>543.926     </td><td>553.5905    </td><td>10.922979   </td><td>14.58116    </td><td>33.08411    </td><td>46.04782    </td><td>225.2079    </td><td>117.55389   </td><td>107.65403662</td><td> 92.87971   </td><td>105.89794   </td><td>-13.018229  </td><td>58.32464    </td></tr>\n",
       "\t<tr><td>539.95      </td><td>542.041     </td><td>552.7665    </td><td> 9.619677   </td><td>14.87494    </td><td>40.00209    </td><td>44.64646    </td><td>208.8917    </td><td>135.82145   </td><td> 73.07025173</td><td> 84.12543   </td><td> 98.64044   </td><td>-14.515010  </td><td>59.49978    </td></tr>\n",
       "\t<tr><td>530.43      </td><td>539.704     </td><td>551.0105    </td><td> 9.278226   </td><td>15.35175    </td><td>42.84595    </td><td>56.77064    </td><td>192.9684    </td><td>147.25084   </td><td> 45.71753961</td><td> 74.70870   </td><td> 90.66319   </td><td>-15.954492  </td><td>61.40698    </td></tr>\n",
       "\t<tr><td>538.42      </td><td>538.118     </td><td>549.5950    </td><td> 7.737385   </td><td>15.12960    </td><td>39.82082    </td><td>55.49679    </td><td>178.9311    </td><td>153.58690   </td><td> 25.34424597</td><td> 67.77655   </td><td> 83.03431   </td><td>-15.257764  </td><td>60.51840    </td></tr>\n",
       "</tbody>\n",
       "</table>\n"
      ],
      "text/latex": [
       "\\begin{tabular}{r|llllllllllllll}\n",
       " close & avg10 & avg20 & std10 & std20 & rsi14 & rsi5 & macd1226 & signal9 & histogram9 & macd0720 & signal5 & histogram5 & bbands\\\\\n",
       "\\hline\n",
       "\t 535.51       & 548.069      & 555.6270     & 11.263658    & 13.35135     & 32.14348     & 31.14326     & 262.4648     &  52.49296    &  -0.02411624 & 115.19920    & 116.82055    &  -1.621347   & 53.40541    \\\\\n",
       "\t 537.57       & 546.257      & 554.6420     & 11.358530    & 13.93758     & 30.29730     & 32.32622     & 243.2300     &  90.64038    & 152.58966290 & 103.58007    & 112.40706    &  -8.826982   & 55.75030    \\\\\n",
       "\t 535.31       & 543.926      & 553.5905     & 10.922979    & 14.58116     & 33.08411     & 46.04782     & 225.2079     & 117.55389    & 107.65403662 &  92.87971    & 105.89794    & -13.018229   & 58.32464    \\\\\n",
       "\t 539.95       & 542.041      & 552.7665     &  9.619677    & 14.87494     & 40.00209     & 44.64646     & 208.8917     & 135.82145    &  73.07025173 &  84.12543    &  98.64044    & -14.515010   & 59.49978    \\\\\n",
       "\t 530.43       & 539.704      & 551.0105     &  9.278226    & 15.35175     & 42.84595     & 56.77064     & 192.9684     & 147.25084    &  45.71753961 &  74.70870    &  90.66319    & -15.954492   & 61.40698    \\\\\n",
       "\t 538.42       & 538.118      & 549.5950     &  7.737385    & 15.12960     & 39.82082     & 55.49679     & 178.9311     & 153.58690    &  25.34424597 &  67.77655    &  83.03431    & -15.257764   & 60.51840    \\\\\n",
       "\\end{tabular}\n"
      ],
      "text/markdown": [
       "\n",
       "| close | avg10 | avg20 | std10 | std20 | rsi14 | rsi5 | macd1226 | signal9 | histogram9 | macd0720 | signal5 | histogram5 | bbands |\n",
       "|---|---|---|---|---|---|---|---|---|---|---|---|---|---|\n",
       "| 535.51       | 548.069      | 555.6270     | 11.263658    | 13.35135     | 32.14348     | 31.14326     | 262.4648     |  52.49296    |  -0.02411624 | 115.19920    | 116.82055    |  -1.621347   | 53.40541     |\n",
       "| 537.57       | 546.257      | 554.6420     | 11.358530    | 13.93758     | 30.29730     | 32.32622     | 243.2300     |  90.64038    | 152.58966290 | 103.58007    | 112.40706    |  -8.826982   | 55.75030     |\n",
       "| 535.31       | 543.926      | 553.5905     | 10.922979    | 14.58116     | 33.08411     | 46.04782     | 225.2079     | 117.55389    | 107.65403662 |  92.87971    | 105.89794    | -13.018229   | 58.32464     |\n",
       "| 539.95       | 542.041      | 552.7665     |  9.619677    | 14.87494     | 40.00209     | 44.64646     | 208.8917     | 135.82145    |  73.07025173 |  84.12543    |  98.64044    | -14.515010   | 59.49978     |\n",
       "| 530.43       | 539.704      | 551.0105     |  9.278226    | 15.35175     | 42.84595     | 56.77064     | 192.9684     | 147.25084    |  45.71753961 |  74.70870    |  90.66319    | -15.954492   | 61.40698     |\n",
       "| 538.42       | 538.118      | 549.5950     |  7.737385    | 15.12960     | 39.82082     | 55.49679     | 178.9311     | 153.58690    |  25.34424597 |  67.77655    |  83.03431    | -15.257764   | 60.51840     |\n",
       "\n"
      ],
      "text/plain": [
       "  close  avg10   avg20    std10     std20    rsi14    rsi5     macd1226\n",
       "1 535.51 548.069 555.6270 11.263658 13.35135 32.14348 31.14326 262.4648\n",
       "2 537.57 546.257 554.6420 11.358530 13.93758 30.29730 32.32622 243.2300\n",
       "3 535.31 543.926 553.5905 10.922979 14.58116 33.08411 46.04782 225.2079\n",
       "4 539.95 542.041 552.7665  9.619677 14.87494 40.00209 44.64646 208.8917\n",
       "5 530.43 539.704 551.0105  9.278226 15.35175 42.84595 56.77064 192.9684\n",
       "6 538.42 538.118 549.5950  7.737385 15.12960 39.82082 55.49679 178.9311\n",
       "  signal9   histogram9   macd0720  signal5   histogram5 bbands  \n",
       "1  52.49296  -0.02411624 115.19920 116.82055  -1.621347 53.40541\n",
       "2  90.64038 152.58966290 103.58007 112.40706  -8.826982 55.75030\n",
       "3 117.55389 107.65403662  92.87971 105.89794 -13.018229 58.32464\n",
       "4 135.82145  73.07025173  84.12543  98.64044 -14.515010 59.49978\n",
       "5 147.25084  45.71753961  74.70870  90.66319 -15.954492 61.40698\n",
       "6 153.58690  25.34424597  67.77655  83.03431 -15.257764 60.51840"
      ]
     },
     "metadata": {},
     "output_type": "display_data"
    }
   ],
   "source": [
    "head(smllout)"
   ]
  },
  {
   "cell_type": "code",
   "execution_count": 30,
   "metadata": {},
   "outputs": [],
   "source": [
    "smllout <- cbind(smlln[,1], smllout, smlln[,16:17])"
   ]
  },
  {
   "cell_type": "code",
   "execution_count": 31,
   "metadata": {},
   "outputs": [
    {
     "data": {
      "text/html": [
       "<table>\n",
       "<thead><tr><th scope=col>data</th><th scope=col>close</th><th scope=col>avg10</th><th scope=col>avg20</th><th scope=col>std10</th><th scope=col>std20</th><th scope=col>rsi14</th><th scope=col>rsi5</th><th scope=col>macd1226</th><th scope=col>signal9</th><th scope=col>histogram9</th><th scope=col>macd0720</th><th scope=col>signal5</th><th scope=col>histogram5</th><th scope=col>bbands</th><th scope=col>direction</th><th scope=col>dirret</th></tr></thead>\n",
       "<tbody>\n",
       "\t<tr><td>2005-10-21  </td><td>535.51      </td><td>548.069     </td><td>555.6270    </td><td>11.263658   </td><td>13.35135    </td><td>32.14348    </td><td>31.14326    </td><td>262.4648    </td><td> 52.49296   </td><td> -0.02411624</td><td>115.19920   </td><td>116.82055   </td><td> -1.621347  </td><td>53.40541    </td><td>0           </td><td>down        </td></tr>\n",
       "\t<tr><td>2005-10-24  </td><td>537.57      </td><td>546.257     </td><td>554.6420    </td><td>11.358530   </td><td>13.93758    </td><td>30.29730    </td><td>32.32622    </td><td>243.2300    </td><td> 90.64038   </td><td>152.58966290</td><td>103.58007   </td><td>112.40706   </td><td> -8.826982  </td><td>55.75030    </td><td>0           </td><td>down        </td></tr>\n",
       "\t<tr><td>2005-10-25  </td><td>535.31      </td><td>543.926     </td><td>553.5905    </td><td>10.922979   </td><td>14.58116    </td><td>33.08411    </td><td>46.04782    </td><td>225.2079    </td><td>117.55389   </td><td>107.65403662</td><td> 92.87971   </td><td>105.89794   </td><td>-13.018229  </td><td>58.32464    </td><td>0           </td><td>down        </td></tr>\n",
       "\t<tr><td>2005-10-26  </td><td>539.95      </td><td>542.041     </td><td>552.7665    </td><td> 9.619677   </td><td>14.87494    </td><td>40.00209    </td><td>44.64646    </td><td>208.8917    </td><td>135.82145   </td><td> 73.07025173</td><td> 84.12543   </td><td> 98.64044   </td><td>-14.515010  </td><td>59.49978    </td><td>0           </td><td>down        </td></tr>\n",
       "\t<tr><td>2005-10-27  </td><td>530.43      </td><td>539.704     </td><td>551.0105    </td><td> 9.278226   </td><td>15.35175    </td><td>42.84595    </td><td>56.77064    </td><td>192.9684    </td><td>147.25084   </td><td> 45.71753961</td><td> 74.70870   </td><td> 90.66319   </td><td>-15.954492  </td><td>61.40698    </td><td>0           </td><td>down        </td></tr>\n",
       "\t<tr><td>2005-10-28  </td><td>538.42      </td><td>538.118     </td><td>549.5950    </td><td> 7.737385   </td><td>15.12960    </td><td>39.82082    </td><td>55.49679    </td><td>178.9311    </td><td>153.58690   </td><td> 25.34424597</td><td> 67.77655   </td><td> 83.03431   </td><td>-15.257764  </td><td>60.51840    </td><td>0           </td><td>down        </td></tr>\n",
       "</tbody>\n",
       "</table>\n"
      ],
      "text/latex": [
       "\\begin{tabular}{r|lllllllllllllllll}\n",
       " data & close & avg10 & avg20 & std10 & std20 & rsi14 & rsi5 & macd1226 & signal9 & histogram9 & macd0720 & signal5 & histogram5 & bbands & direction & dirret\\\\\n",
       "\\hline\n",
       "\t 2005-10-21   & 535.51       & 548.069      & 555.6270     & 11.263658    & 13.35135     & 32.14348     & 31.14326     & 262.4648     &  52.49296    &  -0.02411624 & 115.19920    & 116.82055    &  -1.621347   & 53.40541     & 0            & down        \\\\\n",
       "\t 2005-10-24   & 537.57       & 546.257      & 554.6420     & 11.358530    & 13.93758     & 30.29730     & 32.32622     & 243.2300     &  90.64038    & 152.58966290 & 103.58007    & 112.40706    &  -8.826982   & 55.75030     & 0            & down        \\\\\n",
       "\t 2005-10-25   & 535.31       & 543.926      & 553.5905     & 10.922979    & 14.58116     & 33.08411     & 46.04782     & 225.2079     & 117.55389    & 107.65403662 &  92.87971    & 105.89794    & -13.018229   & 58.32464     & 0            & down        \\\\\n",
       "\t 2005-10-26   & 539.95       & 542.041      & 552.7665     &  9.619677    & 14.87494     & 40.00209     & 44.64646     & 208.8917     & 135.82145    &  73.07025173 &  84.12543    &  98.64044    & -14.515010   & 59.49978     & 0            & down        \\\\\n",
       "\t 2005-10-27   & 530.43       & 539.704      & 551.0105     &  9.278226    & 15.35175     & 42.84595     & 56.77064     & 192.9684     & 147.25084    &  45.71753961 &  74.70870    &  90.66319    & -15.954492   & 61.40698     & 0            & down        \\\\\n",
       "\t 2005-10-28   & 538.42       & 538.118      & 549.5950     &  7.737385    & 15.12960     & 39.82082     & 55.49679     & 178.9311     & 153.58690    &  25.34424597 &  67.77655    &  83.03431    & -15.257764   & 60.51840     & 0            & down        \\\\\n",
       "\\end{tabular}\n"
      ],
      "text/markdown": [
       "\n",
       "| data | close | avg10 | avg20 | std10 | std20 | rsi14 | rsi5 | macd1226 | signal9 | histogram9 | macd0720 | signal5 | histogram5 | bbands | direction | dirret |\n",
       "|---|---|---|---|---|---|---|---|---|---|---|---|---|---|---|---|---|\n",
       "| 2005-10-21   | 535.51       | 548.069      | 555.6270     | 11.263658    | 13.35135     | 32.14348     | 31.14326     | 262.4648     |  52.49296    |  -0.02411624 | 115.19920    | 116.82055    |  -1.621347   | 53.40541     | 0            | down         |\n",
       "| 2005-10-24   | 537.57       | 546.257      | 554.6420     | 11.358530    | 13.93758     | 30.29730     | 32.32622     | 243.2300     |  90.64038    | 152.58966290 | 103.58007    | 112.40706    |  -8.826982   | 55.75030     | 0            | down         |\n",
       "| 2005-10-25   | 535.31       | 543.926      | 553.5905     | 10.922979    | 14.58116     | 33.08411     | 46.04782     | 225.2079     | 117.55389    | 107.65403662 |  92.87971    | 105.89794    | -13.018229   | 58.32464     | 0            | down         |\n",
       "| 2005-10-26   | 539.95       | 542.041      | 552.7665     |  9.619677    | 14.87494     | 40.00209     | 44.64646     | 208.8917     | 135.82145    |  73.07025173 |  84.12543    |  98.64044    | -14.515010   | 59.49978     | 0            | down         |\n",
       "| 2005-10-27   | 530.43       | 539.704      | 551.0105     |  9.278226    | 15.35175     | 42.84595     | 56.77064     | 192.9684     | 147.25084    |  45.71753961 |  74.70870    |  90.66319    | -15.954492   | 61.40698     | 0            | down         |\n",
       "| 2005-10-28   | 538.42       | 538.118      | 549.5950     |  7.737385    | 15.12960     | 39.82082     | 55.49679     | 178.9311     | 153.58690    |  25.34424597 |  67.77655    |  83.03431    | -15.257764   | 60.51840     | 0            | down         |\n",
       "\n"
      ],
      "text/plain": [
       "  data       close  avg10   avg20    std10     std20    rsi14    rsi5    \n",
       "1 2005-10-21 535.51 548.069 555.6270 11.263658 13.35135 32.14348 31.14326\n",
       "2 2005-10-24 537.57 546.257 554.6420 11.358530 13.93758 30.29730 32.32622\n",
       "3 2005-10-25 535.31 543.926 553.5905 10.922979 14.58116 33.08411 46.04782\n",
       "4 2005-10-26 539.95 542.041 552.7665  9.619677 14.87494 40.00209 44.64646\n",
       "5 2005-10-27 530.43 539.704 551.0105  9.278226 15.35175 42.84595 56.77064\n",
       "6 2005-10-28 538.42 538.118 549.5950  7.737385 15.12960 39.82082 55.49679\n",
       "  macd1226 signal9   histogram9   macd0720  signal5   histogram5 bbands  \n",
       "1 262.4648  52.49296  -0.02411624 115.19920 116.82055  -1.621347 53.40541\n",
       "2 243.2300  90.64038 152.58966290 103.58007 112.40706  -8.826982 55.75030\n",
       "3 225.2079 117.55389 107.65403662  92.87971 105.89794 -13.018229 58.32464\n",
       "4 208.8917 135.82145  73.07025173  84.12543  98.64044 -14.515010 59.49978\n",
       "5 192.9684 147.25084  45.71753961  74.70870  90.66319 -15.954492 61.40698\n",
       "6 178.9311 153.58690  25.34424597  67.77655  83.03431 -15.257764 60.51840\n",
       "  direction dirret\n",
       "1 0         down  \n",
       "2 0         down  \n",
       "3 0         down  \n",
       "4 0         down  \n",
       "5 0         down  \n",
       "6 0         down  "
      ]
     },
     "metadata": {},
     "output_type": "display_data"
    }
   ],
   "source": [
    "head(smllout)"
   ]
  },
  {
   "cell_type": "markdown",
   "metadata": {},
   "source": [
    "## 3. Histogramas"
   ]
  },
  {
   "cell_type": "code",
   "execution_count": 32,
   "metadata": {},
   "outputs": [
    {
     "data": {
      "image/png": "[encoded data removed]",
      "text/plain": [
       "Plot with title \"std20\""
      ]
     },
     "metadata": {},
     "output_type": "display_data"
    }
   ],
   "source": [
    "par(mfrow=c(2,3))\n",
    "\n",
    "hist(smllout$close, col=\"light gray\",  main=\"close\", border=\"black\")\n",
    "\n",
    "hist(smllout$avg10, col=\"light gray\", main=\"avg10\", border=\"black\")\n",
    "\n",
    "hist(smllout$avg20, col=\"light gray\", main=\"avg20\", border=\"black\")\n",
    "\n",
    "hist(smllout$std10, col=\"light gray\", main=\"std10\", border=\"black\")\n",
    "\n",
    "hist(smllout$std20, col=\"light gray\", main=\"std20\", border=\"black\")"
   ]
  },
  {
   "cell_type": "code",
   "execution_count": 33,
   "metadata": {},
   "outputs": [
    {
     "data": {
      "image/png": "[encoded data removed]",
      "text/plain": [
       "Plot with title \"histogram9\""
      ]
     },
     "metadata": {},
     "output_type": "display_data"
    }
   ],
   "source": [
    "par(mfrow=c(2,3))\n",
    "\n",
    "hist(smllout$rsi14, col=\"light gray\", main=\"rsi14\", border=\"black\")\n",
    "\n",
    "hist(smllout$rsi5, col=\"light gray\", main=\"rsi5\", border=\"black\")\n",
    "\n",
    "hist(smllout$macd1226, col=\"light gray\", main=\"macd1226\", border=\"black\")\n",
    "\n",
    "hist(smllout$signal9, col=\"light gray\",  main=\"signal9\", border=\"black\")\n",
    "\n",
    "hist(smllout$histogram9, col=\"light gray\", main=\"histogram9\", border=\"black\")"
   ]
  },
  {
   "cell_type": "code",
   "execution_count": 34,
   "metadata": {},
   "outputs": [
    {
     "data": {
      "image/png": "[encoded data removed]",
      "text/plain": [
       "Plot with title \"bbands\""
      ]
     },
     "metadata": {},
     "output_type": "display_data"
    }
   ],
   "source": [
    "par(mfrow=c(2,3))\n",
    "\n",
    "hist(smllout$macd0720, col=\"light gray\", main=\"macd0720\", border=\"black\")\n",
    "\n",
    "hist(smllout$signal5, col=\"light gray\", main=\"signal5\", border=\"black\")\n",
    "\n",
    "hist(smllout$histogram5, col=\"light gray\", main=\"histogram5\", border=\"black\")\n",
    "\n",
    "hist(smllout$bbands, col=\"light gray\", main=\"bbands\", border=\"black\")"
   ]
  },
  {
   "cell_type": "markdown",
   "metadata": {},
   "source": [
    "## 4. Densidades"
   ]
  },
  {
   "cell_type": "code",
   "execution_count": 35,
   "metadata": {},
   "outputs": [
    {
     "data": {
      "image/png": "[encoded data removed]",
      "text/plain": [
       "Plot with title \"std20\""
      ]
     },
     "metadata": {},
     "output_type": "display_data"
    }
   ],
   "source": [
    "par(mfrow=c(2,3))\n",
    "\n",
    "den1 <- density(smllout$close)\n",
    "plot(den1, main = \"close\")\n",
    "\n",
    "den2 <- density(smllout$avg10)\n",
    "plot(den2, main = \"avg10\")\n",
    "\n",
    "den3 <- density(smllout$avg20)\n",
    "plot(den3, main = \"avg20\")\n",
    "\n",
    "den4 <- density(smllout$std10)\n",
    "plot(den4, main = \"std10\")\n",
    "\n",
    "den5 <- density(smllout$std20)\n",
    "plot(den5, main = \"std20\")"
   ]
  },
  {
   "cell_type": "code",
   "execution_count": 36,
   "metadata": {},
   "outputs": [
    {
     "data": {
      "image/png": "[encoded data removed]",
      "text/plain": [
       "Plot with title \"histogram9\""
      ]
     },
     "metadata": {},
     "output_type": "display_data"
    }
   ],
   "source": [
    "par(mfrow=c(2,3))\n",
    "\n",
    "den6 <- density(smllout$rsi14)\n",
    "plot(den6, main = \"rsi14\")\n",
    "\n",
    "den7 <- density(smllout$rsi5)\n",
    "plot(den7, main = \"rsi5\")\n",
    "\n",
    "den8 <- density(smllout$macd1226)\n",
    "plot(den8, main = \"macd1226\")\n",
    "\n",
    "den9 <- density(smllout$signal9)\n",
    "plot(den9, main = \"signal9\")\n",
    "\n",
    "den10 <- density(smllout$histogram9)\n",
    "plot(den10, main = \"histogram9\")"
   ]
  },
  {
   "cell_type": "code",
   "execution_count": 37,
   "metadata": {},
   "outputs": [
    {
     "data": {
      "image/png": "[encoded data removed]",
      "text/plain": [
       "Plot with title \"bbands\""
      ]
     },
     "metadata": {},
     "output_type": "display_data"
    }
   ],
   "source": [
    "par(mfrow=c(2,3))\n",
    "\n",
    "den11 <- density(smllout$macd0720)\n",
    "plot(den11, main = \"macd0720\")\n",
    "\n",
    "den12 <- density(smllout$signal5)\n",
    "plot(den12, main = \"signal5\")\n",
    "\n",
    "den13 <- density(smllout$histogram5)\n",
    "plot(den13, main = \"histogram5\")\n",
    "\n",
    "den14 <- density(smllout$bbands)\n",
    "plot(den14, main = \"bbands\")"
   ]
  },
  {
   "cell_type": "markdown",
   "metadata": {},
   "source": [
    "## 5. Correlação"
   ]
  },
  {
   "cell_type": "code",
   "execution_count": 38,
   "metadata": {},
   "outputs": [
    {
     "name": "stderr",
     "output_type": "stream",
     "text": [
      "Warning message:\n",
      "\"package 'corrplot' was built under R version 3.6.3\"corrplot 0.84 loaded\n"
     ]
    }
   ],
   "source": [
    "# Biblioteca(s) Necessária(s)\n",
    "library(corrplot)"
   ]
  },
  {
   "cell_type": "code",
   "execution_count": 39,
   "metadata": {},
   "outputs": [
    {
     "data": {
      "text/html": [
       "<table>\n",
       "<thead><tr><th></th><th scope=col>close</th><th scope=col>avg10</th><th scope=col>avg20</th><th scope=col>std10</th><th scope=col>std20</th><th scope=col>rsi14</th><th scope=col>rsi5</th><th scope=col>macd1226</th><th scope=col>signal9</th><th scope=col>histogram9</th><th scope=col>macd0720</th><th scope=col>signal5</th><th scope=col>histogram5</th><th scope=col>bbands</th></tr></thead>\n",
       "<tbody>\n",
       "\t<tr><th scope=row>close</th><td>1.00 </td><td> 0.99</td><td> 0.99</td><td> 0.39</td><td> 0.37</td><td> 0.13</td><td> 0.06</td><td> 0.20</td><td> 0.21</td><td> 0.00</td><td> 0.21</td><td> 0.21</td><td> 0.00</td><td> 0.37</td></tr>\n",
       "\t<tr><th scope=row>avg10</th><td>0.99 </td><td> 1.00</td><td> 0.99</td><td> 0.41</td><td> 0.38</td><td> 0.08</td><td> 0.01</td><td> 0.16</td><td> 0.19</td><td>-0.06</td><td> 0.15</td><td> 0.17</td><td>-0.07</td><td> 0.38</td></tr>\n",
       "\t<tr><th scope=row>avg20</th><td>0.99 </td><td> 0.99</td><td> 1.00</td><td> 0.44</td><td> 0.41</td><td> 0.04</td><td>-0.01</td><td> 0.11</td><td> 0.15</td><td>-0.09</td><td> 0.10</td><td> 0.12</td><td>-0.08</td><td> 0.41</td></tr>\n",
       "\t<tr><th scope=row>std10</th><td>0.39 </td><td> 0.41</td><td> 0.44</td><td> 1.00</td><td> 0.82</td><td>-0.08</td><td>-0.02</td><td>-0.34</td><td>-0.32</td><td>-0.21</td><td>-0.37</td><td>-0.35</td><td>-0.09</td><td> 0.82</td></tr>\n",
       "\t<tr><th scope=row>std20</th><td>0.37 </td><td> 0.38</td><td> 0.41</td><td> 0.82</td><td> 1.00</td><td> 0.00</td><td> 0.01</td><td>-0.37</td><td>-0.33</td><td>-0.10</td><td>-0.37</td><td>-0.38</td><td> 0.04</td><td> 1.00</td></tr>\n",
       "\t<tr><th scope=row>rsi14</th><td>0.13 </td><td> 0.08</td><td> 0.04</td><td>-0.08</td><td> 0.00</td><td> 1.00</td><td> 0.58</td><td> 0.53</td><td> 0.44</td><td> 0.45</td><td> 0.65</td><td> 0.59</td><td> 0.34</td><td> 0.00</td></tr>\n",
       "\t<tr><th scope=row>rsi5</th><td>0.06 </td><td> 0.01</td><td>-0.01</td><td>-0.02</td><td> 0.01</td><td> 0.58</td><td> 1.00</td><td> 0.25</td><td> 0.16</td><td> 0.40</td><td> 0.36</td><td> 0.26</td><td> 0.57</td><td> 0.01</td></tr>\n",
       "\t<tr><th scope=row>macd1226</th><td>0.20 </td><td> 0.16</td><td> 0.11</td><td>-0.34</td><td>-0.37</td><td> 0.53</td><td> 0.25</td><td> 1.00</td><td> 0.94</td><td> 0.29</td><td> 0.94</td><td> 0.97</td><td>-0.05</td><td>-0.37</td></tr>\n",
       "\t<tr><th scope=row>signal9</th><td>0.21 </td><td> 0.19</td><td> 0.15</td><td>-0.32</td><td>-0.33</td><td> 0.44</td><td> 0.16</td><td> 0.94</td><td> 1.00</td><td> 0.04</td><td> 0.81</td><td> 0.88</td><td>-0.23</td><td>-0.33</td></tr>\n",
       "\t<tr><th scope=row>histogram9</th><td>0.00 </td><td>-0.06</td><td>-0.09</td><td>-0.21</td><td>-0.10</td><td> 0.45</td><td> 0.40</td><td> 0.29</td><td> 0.04</td><td> 1.00</td><td> 0.51</td><td> 0.37</td><td> 0.71</td><td>-0.10</td></tr>\n",
       "\t<tr><th scope=row>macd0720</th><td>0.21 </td><td> 0.15</td><td> 0.10</td><td>-0.37</td><td>-0.37</td><td> 0.65</td><td> 0.36</td><td> 0.94</td><td> 0.81</td><td> 0.51</td><td> 1.00</td><td> 0.98</td><td> 0.21</td><td>-0.37</td></tr>\n",
       "\t<tr><th scope=row>signal5</th><td>0.21 </td><td> 0.17</td><td> 0.12</td><td>-0.35</td><td>-0.38</td><td> 0.59</td><td> 0.26</td><td> 0.97</td><td> 0.88</td><td> 0.37</td><td> 0.98</td><td> 1.00</td><td> 0.01</td><td>-0.38</td></tr>\n",
       "\t<tr><th scope=row>histogram5</th><td>0.00 </td><td>-0.07</td><td>-0.08</td><td>-0.09</td><td> 0.04</td><td> 0.34</td><td> 0.57</td><td>-0.05</td><td>-0.23</td><td> 0.71</td><td> 0.21</td><td> 0.01</td><td> 1.00</td><td> 0.04</td></tr>\n",
       "\t<tr><th scope=row>bbands</th><td>0.37 </td><td> 0.38</td><td> 0.41</td><td> 0.82</td><td> 1.00</td><td> 0.00</td><td> 0.01</td><td>-0.37</td><td>-0.33</td><td>-0.10</td><td>-0.37</td><td>-0.38</td><td> 0.04</td><td> 1.00</td></tr>\n",
       "</tbody>\n",
       "</table>\n"
      ],
      "text/latex": [
       "\\begin{tabular}{r|llllllllllllll}\n",
       "  & close & avg10 & avg20 & std10 & std20 & rsi14 & rsi5 & macd1226 & signal9 & histogram9 & macd0720 & signal5 & histogram5 & bbands\\\\\n",
       "\\hline\n",
       "\tclose & 1.00  &  0.99 &  0.99 &  0.39 &  0.37 &  0.13 &  0.06 &  0.20 &  0.21 &  0.00 &  0.21 &  0.21 &  0.00 &  0.37\\\\\n",
       "\tavg10 & 0.99  &  1.00 &  0.99 &  0.41 &  0.38 &  0.08 &  0.01 &  0.16 &  0.19 & -0.06 &  0.15 &  0.17 & -0.07 &  0.38\\\\\n",
       "\tavg20 & 0.99  &  0.99 &  1.00 &  0.44 &  0.41 &  0.04 & -0.01 &  0.11 &  0.15 & -0.09 &  0.10 &  0.12 & -0.08 &  0.41\\\\\n",
       "\tstd10 & 0.39  &  0.41 &  0.44 &  1.00 &  0.82 & -0.08 & -0.02 & -0.34 & -0.32 & -0.21 & -0.37 & -0.35 & -0.09 &  0.82\\\\\n",
       "\tstd20 & 0.37  &  0.38 &  0.41 &  0.82 &  1.00 &  0.00 &  0.01 & -0.37 & -0.33 & -0.10 & -0.37 & -0.38 &  0.04 &  1.00\\\\\n",
       "\trsi14 & 0.13  &  0.08 &  0.04 & -0.08 &  0.00 &  1.00 &  0.58 &  0.53 &  0.44 &  0.45 &  0.65 &  0.59 &  0.34 &  0.00\\\\\n",
       "\trsi5 & 0.06  &  0.01 & -0.01 & -0.02 &  0.01 &  0.58 &  1.00 &  0.25 &  0.16 &  0.40 &  0.36 &  0.26 &  0.57 &  0.01\\\\\n",
       "\tmacd1226 & 0.20  &  0.16 &  0.11 & -0.34 & -0.37 &  0.53 &  0.25 &  1.00 &  0.94 &  0.29 &  0.94 &  0.97 & -0.05 & -0.37\\\\\n",
       "\tsignal9 & 0.21  &  0.19 &  0.15 & -0.32 & -0.33 &  0.44 &  0.16 &  0.94 &  1.00 &  0.04 &  0.81 &  0.88 & -0.23 & -0.33\\\\\n",
       "\thistogram9 & 0.00  & -0.06 & -0.09 & -0.21 & -0.10 &  0.45 &  0.40 &  0.29 &  0.04 &  1.00 &  0.51 &  0.37 &  0.71 & -0.10\\\\\n",
       "\tmacd0720 & 0.21  &  0.15 &  0.10 & -0.37 & -0.37 &  0.65 &  0.36 &  0.94 &  0.81 &  0.51 &  1.00 &  0.98 &  0.21 & -0.37\\\\\n",
       "\tsignal5 & 0.21  &  0.17 &  0.12 & -0.35 & -0.38 &  0.59 &  0.26 &  0.97 &  0.88 &  0.37 &  0.98 &  1.00 &  0.01 & -0.38\\\\\n",
       "\thistogram5 & 0.00  & -0.07 & -0.08 & -0.09 &  0.04 &  0.34 &  0.57 & -0.05 & -0.23 &  0.71 &  0.21 &  0.01 &  1.00 &  0.04\\\\\n",
       "\tbbands & 0.37  &  0.38 &  0.41 &  0.82 &  1.00 &  0.00 &  0.01 & -0.37 & -0.33 & -0.10 & -0.37 & -0.38 &  0.04 &  1.00\\\\\n",
       "\\end{tabular}\n"
      ],
      "text/markdown": [
       "\n",
       "| <!--/--> | close | avg10 | avg20 | std10 | std20 | rsi14 | rsi5 | macd1226 | signal9 | histogram9 | macd0720 | signal5 | histogram5 | bbands |\n",
       "|---|---|---|---|---|---|---|---|---|---|---|---|---|---|---|\n",
       "| close | 1.00  |  0.99 |  0.99 |  0.39 |  0.37 |  0.13 |  0.06 |  0.20 |  0.21 |  0.00 |  0.21 |  0.21 |  0.00 |  0.37 |\n",
       "| avg10 | 0.99  |  1.00 |  0.99 |  0.41 |  0.38 |  0.08 |  0.01 |  0.16 |  0.19 | -0.06 |  0.15 |  0.17 | -0.07 |  0.38 |\n",
       "| avg20 | 0.99  |  0.99 |  1.00 |  0.44 |  0.41 |  0.04 | -0.01 |  0.11 |  0.15 | -0.09 |  0.10 |  0.12 | -0.08 |  0.41 |\n",
       "| std10 | 0.39  |  0.41 |  0.44 |  1.00 |  0.82 | -0.08 | -0.02 | -0.34 | -0.32 | -0.21 | -0.37 | -0.35 | -0.09 |  0.82 |\n",
       "| std20 | 0.37  |  0.38 |  0.41 |  0.82 |  1.00 |  0.00 |  0.01 | -0.37 | -0.33 | -0.10 | -0.37 | -0.38 |  0.04 |  1.00 |\n",
       "| rsi14 | 0.13  |  0.08 |  0.04 | -0.08 |  0.00 |  1.00 |  0.58 |  0.53 |  0.44 |  0.45 |  0.65 |  0.59 |  0.34 |  0.00 |\n",
       "| rsi5 | 0.06  |  0.01 | -0.01 | -0.02 |  0.01 |  0.58 |  1.00 |  0.25 |  0.16 |  0.40 |  0.36 |  0.26 |  0.57 |  0.01 |\n",
       "| macd1226 | 0.20  |  0.16 |  0.11 | -0.34 | -0.37 |  0.53 |  0.25 |  1.00 |  0.94 |  0.29 |  0.94 |  0.97 | -0.05 | -0.37 |\n",
       "| signal9 | 0.21  |  0.19 |  0.15 | -0.32 | -0.33 |  0.44 |  0.16 |  0.94 |  1.00 |  0.04 |  0.81 |  0.88 | -0.23 | -0.33 |\n",
       "| histogram9 | 0.00  | -0.06 | -0.09 | -0.21 | -0.10 |  0.45 |  0.40 |  0.29 |  0.04 |  1.00 |  0.51 |  0.37 |  0.71 | -0.10 |\n",
       "| macd0720 | 0.21  |  0.15 |  0.10 | -0.37 | -0.37 |  0.65 |  0.36 |  0.94 |  0.81 |  0.51 |  1.00 |  0.98 |  0.21 | -0.37 |\n",
       "| signal5 | 0.21  |  0.17 |  0.12 | -0.35 | -0.38 |  0.59 |  0.26 |  0.97 |  0.88 |  0.37 |  0.98 |  1.00 |  0.01 | -0.38 |\n",
       "| histogram5 | 0.00  | -0.07 | -0.08 | -0.09 |  0.04 |  0.34 |  0.57 | -0.05 | -0.23 |  0.71 |  0.21 |  0.01 |  1.00 |  0.04 |\n",
       "| bbands | 0.37  |  0.38 |  0.41 |  0.82 |  1.00 |  0.00 |  0.01 | -0.37 | -0.33 | -0.10 | -0.37 | -0.38 |  0.04 |  1.00 |\n",
       "\n"
      ],
      "text/plain": [
       "           close avg10 avg20 std10 std20 rsi14 rsi5  macd1226 signal9\n",
       "close      1.00   0.99  0.99  0.39  0.37  0.13  0.06  0.20     0.21  \n",
       "avg10      0.99   1.00  0.99  0.41  0.38  0.08  0.01  0.16     0.19  \n",
       "avg20      0.99   0.99  1.00  0.44  0.41  0.04 -0.01  0.11     0.15  \n",
       "std10      0.39   0.41  0.44  1.00  0.82 -0.08 -0.02 -0.34    -0.32  \n",
       "std20      0.37   0.38  0.41  0.82  1.00  0.00  0.01 -0.37    -0.33  \n",
       "rsi14      0.13   0.08  0.04 -0.08  0.00  1.00  0.58  0.53     0.44  \n",
       "rsi5       0.06   0.01 -0.01 -0.02  0.01  0.58  1.00  0.25     0.16  \n",
       "macd1226   0.20   0.16  0.11 -0.34 -0.37  0.53  0.25  1.00     0.94  \n",
       "signal9    0.21   0.19  0.15 -0.32 -0.33  0.44  0.16  0.94     1.00  \n",
       "histogram9 0.00  -0.06 -0.09 -0.21 -0.10  0.45  0.40  0.29     0.04  \n",
       "macd0720   0.21   0.15  0.10 -0.37 -0.37  0.65  0.36  0.94     0.81  \n",
       "signal5    0.21   0.17  0.12 -0.35 -0.38  0.59  0.26  0.97     0.88  \n",
       "histogram5 0.00  -0.07 -0.08 -0.09  0.04  0.34  0.57 -0.05    -0.23  \n",
       "bbands     0.37   0.38  0.41  0.82  1.00  0.00  0.01 -0.37    -0.33  \n",
       "           histogram9 macd0720 signal5 histogram5 bbands\n",
       "close       0.00       0.21     0.21    0.00       0.37 \n",
       "avg10      -0.06       0.15     0.17   -0.07       0.38 \n",
       "avg20      -0.09       0.10     0.12   -0.08       0.41 \n",
       "std10      -0.21      -0.37    -0.35   -0.09       0.82 \n",
       "std20      -0.10      -0.37    -0.38    0.04       1.00 \n",
       "rsi14       0.45       0.65     0.59    0.34       0.00 \n",
       "rsi5        0.40       0.36     0.26    0.57       0.01 \n",
       "macd1226    0.29       0.94     0.97   -0.05      -0.37 \n",
       "signal9     0.04       0.81     0.88   -0.23      -0.33 \n",
       "histogram9  1.00       0.51     0.37    0.71      -0.10 \n",
       "macd0720    0.51       1.00     0.98    0.21      -0.37 \n",
       "signal5     0.37       0.98     1.00    0.01      -0.38 \n",
       "histogram5  0.71       0.21     0.01    1.00       0.04 \n",
       "bbands     -0.10      -0.37    -0.38    0.04       1.00 "
      ]
     },
     "metadata": {},
     "output_type": "display_data"
    }
   ],
   "source": [
    "# Cálculo das correlações entre os atributos numéricos\n",
    "df <- smllout[,c(2:15)]\n",
    "\n",
    "round(cor(df), digits = 2)"
   ]
  },
  {
   "cell_type": "code",
   "execution_count": 40,
   "metadata": {},
   "outputs": [
    {
     "data": {
      "image/png": "[encoded data removed]",
      "text/plain": [
       "Plot with title \"\""
      ]
     },
     "metadata": {},
     "output_type": "display_data"
    }
   ],
   "source": [
    "# Matriz de correlação\n",
    "corrplot(cor(df), method = \"circle\", tl.col=\"black\", tl.cex=0.8, tl.srt=90)"
   ]
  },
  {
   "cell_type": "code",
   "execution_count": 41,
   "metadata": {},
   "outputs": [
    {
     "data": {
      "image/png": "[encoded data removed]",
      "text/plain": [
       "Plot with title \"\""
      ]
     },
     "metadata": {},
     "output_type": "display_data"
    }
   ],
   "source": [
    "corrplot(cor(df), method = \"color\", tl.col=\"black\", tl.cex=0.8, tl.srt=90)"
   ]
  },
  {
   "cell_type": "markdown",
   "metadata": {},
   "source": [
    "## 6. QQ Plot"
   ]
  },
  {
   "cell_type": "code",
   "execution_count": 42,
   "metadata": {},
   "outputs": [
    {
     "data": {
      "image/png": "[encoded data removed]",
      "text/plain": [
       "Plot with title \"std20\""
      ]
     },
     "metadata": {},
     "output_type": "display_data"
    }
   ],
   "source": [
    "par(mfrow=c(2,3))\n",
    "\n",
    "qqnorm(smllout$close, main = \"close\", xlab = \"Quantis teóricos N(0,1)\", pch = 20)\n",
    "qqline(smllout$close, lty = 1, col = \"red\")\n",
    "\n",
    "qqnorm(smllout$avg10, main = \"avg10\", xlab = \"Quantis teóricos N(0,1)\", pch = 20)\n",
    "qqline(smllout$avg10, lty = 1, col = \"red\")\n",
    "\n",
    "qqnorm(smllout$avg20, main = \"avg20\", xlab = \"Quantis teóricos N(0,1)\", pch = 20)\n",
    "qqline(smllout$avg20, lty = 1, col = \"red\")\n",
    "\n",
    "qqnorm(smllout$std10, main = \"std10\", xlab = \"Quantis teóricos N(0,1)\", pch = 20)\n",
    "qqline(smllout$std10, lty = 1, col = \"red\")\n",
    "\n",
    "qqnorm(smllout$std20, main = \"std20\", xlab = \"Quantis teóricos N(0,1)\", pch = 20)\n",
    "qqline(smllout$std20, lty = 1, col = \"red\")"
   ]
  },
  {
   "cell_type": "code",
   "execution_count": 43,
   "metadata": {},
   "outputs": [
    {
     "data": {
      "image/png": "[encoded data removed]",
      "text/plain": [
       "Plot with title \"histogram9\""
      ]
     },
     "metadata": {},
     "output_type": "display_data"
    }
   ],
   "source": [
    "par(mfrow=c(2,3))\n",
    "\n",
    "qqnorm(smllout$rsi14, main = \"rsi14\", xlab = \"Quantis teóricos N(0,1)\", pch = 20)\n",
    "qqline(smllout$rsi14, lty = 1, col = \"red\")\n",
    "\n",
    "qqnorm(smllout$rsi5, main = \"rsi5\", xlab = \"Quantis teóricos N(0,1)\", pch = 20)\n",
    "qqline(smllout$rsi5, lty = 1, col = \"red\")\n",
    "\n",
    "qqnorm(smllout$macd1226, main = \"macd1226\", xlab = \"Quantis teóricos N(0,1)\", pch = 20)\n",
    "qqline(smllout$macd1226, lty = 1, col = \"red\")\n",
    "\n",
    "qqnorm(smllout$signal9, main = \"signal9\", xlab = \"Quantis teóricos N(0,1)\", pch = 20)\n",
    "qqline(smllout$signal9, lty = 1, col = \"red\")\n",
    "\n",
    "qqnorm(smllout$histogram9, main = \"histogram9\", xlab = \"Quantis teóricos N(0,1)\", pch = 20)\n",
    "qqline(smllout$histogram9, lty = 1, col = \"red\")"
   ]
  },
  {
   "cell_type": "code",
   "execution_count": 44,
   "metadata": {},
   "outputs": [
    {
     "data": {
      "image/png": "[encoded data removed]",
      "text/plain": [
       "Plot with title \"bbands\""
      ]
     },
     "metadata": {},
     "output_type": "display_data"
    }
   ],
   "source": [
    "par(mfrow=c(2,3))\n",
    "\n",
    "qqnorm(smllout$macd0720, main = \"macd0720\", xlab = \"Quantis teóricos N(0,1)\", pch = 20)\n",
    "qqline(smllout$macd0720, lty = 1, col = \"red\")\n",
    "\n",
    "qqnorm(smllout$signal5, main = \"signal5\", xlab = \"Quantis teóricos N(0,1)\", pch = 20)\n",
    "qqline(smllout$signal5, lty = 1, col = \"red\")\n",
    "\n",
    "qqnorm(smllout$histogram5, main = \"histogram5\", xlab = \"Quantis teóricos N(0,1)\", pch = 20)\n",
    "qqline(smllout$histogram5, lty = 1, col = \"red\")\n",
    "\n",
    "qqnorm(smllout$bbands, main = \"bbands\", xlab = \"Quantis teóricos N(0,1)\", pch = 20)\n",
    "qqline(smllout$bbands, lty = 1, col = \"red\")"
   ]
  },
  {
   "cell_type": "markdown",
   "metadata": {},
   "source": [
    "# Etapa 6: Preprocessamento dos Dados"
   ]
  },
  {
   "cell_type": "markdown",
   "metadata": {},
   "source": [
    "## 1. Normalização - Método Min-Max"
   ]
  },
  {
   "cell_type": "code",
   "execution_count": 45,
   "metadata": {},
   "outputs": [],
   "source": [
    "# Função para normalização dos dados\n",
    "normalize_minmax = function(x) {\n",
    "    return ((x - min(x)) / (max(x) - min(x)))\n",
    "}"
   ]
  },
  {
   "cell_type": "code",
   "execution_count": 46,
   "metadata": {},
   "outputs": [
    {
     "data": {
      "text/html": [
       "<table>\n",
       "<thead><tr><th scope=col>close</th><th scope=col>avg10</th><th scope=col>avg20</th><th scope=col>std10</th><th scope=col>std20</th><th scope=col>rsi14</th><th scope=col>rsi5</th><th scope=col>macd1226</th><th scope=col>signal9</th><th scope=col>histogram9</th><th scope=col>macd0720</th><th scope=col>signal5</th><th scope=col>histogram5</th><th scope=col>bbands</th></tr></thead>\n",
       "<tbody>\n",
       "\t<tr><td>0.2729010</td><td>0.2765504</td><td>0.2787466</td><td>0.1205652</td><td>0.1211719</td><td>0.1266325</td><td>0.1263419</td><td>0.1935594</td><td>0.1325457</td><td>0.1172852</td><td>0.1507669</td><td>0.1512380</td><td>0.1168211</td><td>0.1328108</td></tr>\n",
       "\t<tr><td>0.2734996</td><td>0.2760238</td><td>0.2784603</td><td>0.1205928</td><td>0.1213422</td><td>0.1260960</td><td>0.1266856</td><td>0.1879701</td><td>0.1436306</td><td>0.1616318</td><td>0.1473906</td><td>0.1499555</td><td>0.1147273</td><td>0.1334922</td></tr>\n",
       "\t<tr><td>0.2728428</td><td>0.2753465</td><td>0.2781548</td><td>0.1204662</td><td>0.1215292</td><td>0.1269058</td><td>0.1306728</td><td>0.1827332</td><td>0.1514511</td><td>0.1485744</td><td>0.1442813</td><td>0.1480641</td><td>0.1135094</td><td>0.1342402</td></tr>\n",
       "\t<tr><td>0.2741911</td><td>0.2747987</td><td>0.2779154</td><td>0.1200875</td><td>0.1216146</td><td>0.1289161</td><td>0.1302656</td><td>0.1779921</td><td>0.1567593</td><td>0.1385250</td><td>0.1417374</td><td>0.1459552</td><td>0.1130745</td><td>0.1345817</td></tr>\n",
       "\t<tr><td>0.2714248</td><td>0.2741196</td><td>0.2774051</td><td>0.1199883</td><td>0.1217532</td><td>0.1297424</td><td>0.1337887</td><td>0.1733651</td><td>0.1600804</td><td>0.1305769</td><td>0.1390011</td><td>0.1436372</td><td>0.1126562</td><td>0.1351359</td></tr>\n",
       "\t<tr><td>0.2737465</td><td>0.2736588</td><td>0.2769938</td><td>0.1195406</td><td>0.1216886</td><td>0.1288634</td><td>0.1334185</td><td>0.1692861</td><td>0.1619216</td><td>0.1246568</td><td>0.1369868</td><td>0.1414204</td><td>0.1128586</td><td>0.1348777</td></tr>\n",
       "</tbody>\n",
       "</table>\n"
      ],
      "text/latex": [
       "\\begin{tabular}{r|llllllllllllll}\n",
       " close & avg10 & avg20 & std10 & std20 & rsi14 & rsi5 & macd1226 & signal9 & histogram9 & macd0720 & signal5 & histogram5 & bbands\\\\\n",
       "\\hline\n",
       "\t 0.2729010 & 0.2765504 & 0.2787466 & 0.1205652 & 0.1211719 & 0.1266325 & 0.1263419 & 0.1935594 & 0.1325457 & 0.1172852 & 0.1507669 & 0.1512380 & 0.1168211 & 0.1328108\\\\\n",
       "\t 0.2734996 & 0.2760238 & 0.2784603 & 0.1205928 & 0.1213422 & 0.1260960 & 0.1266856 & 0.1879701 & 0.1436306 & 0.1616318 & 0.1473906 & 0.1499555 & 0.1147273 & 0.1334922\\\\\n",
       "\t 0.2728428 & 0.2753465 & 0.2781548 & 0.1204662 & 0.1215292 & 0.1269058 & 0.1306728 & 0.1827332 & 0.1514511 & 0.1485744 & 0.1442813 & 0.1480641 & 0.1135094 & 0.1342402\\\\\n",
       "\t 0.2741911 & 0.2747987 & 0.2779154 & 0.1200875 & 0.1216146 & 0.1289161 & 0.1302656 & 0.1779921 & 0.1567593 & 0.1385250 & 0.1417374 & 0.1459552 & 0.1130745 & 0.1345817\\\\\n",
       "\t 0.2714248 & 0.2741196 & 0.2774051 & 0.1199883 & 0.1217532 & 0.1297424 & 0.1337887 & 0.1733651 & 0.1600804 & 0.1305769 & 0.1390011 & 0.1436372 & 0.1126562 & 0.1351359\\\\\n",
       "\t 0.2737465 & 0.2736588 & 0.2769938 & 0.1195406 & 0.1216886 & 0.1288634 & 0.1334185 & 0.1692861 & 0.1619216 & 0.1246568 & 0.1369868 & 0.1414204 & 0.1128586 & 0.1348777\\\\\n",
       "\\end{tabular}\n"
      ],
      "text/markdown": [
       "\n",
       "| close | avg10 | avg20 | std10 | std20 | rsi14 | rsi5 | macd1226 | signal9 | histogram9 | macd0720 | signal5 | histogram5 | bbands |\n",
       "|---|---|---|---|---|---|---|---|---|---|---|---|---|---|\n",
       "| 0.2729010 | 0.2765504 | 0.2787466 | 0.1205652 | 0.1211719 | 0.1266325 | 0.1263419 | 0.1935594 | 0.1325457 | 0.1172852 | 0.1507669 | 0.1512380 | 0.1168211 | 0.1328108 |\n",
       "| 0.2734996 | 0.2760238 | 0.2784603 | 0.1205928 | 0.1213422 | 0.1260960 | 0.1266856 | 0.1879701 | 0.1436306 | 0.1616318 | 0.1473906 | 0.1499555 | 0.1147273 | 0.1334922 |\n",
       "| 0.2728428 | 0.2753465 | 0.2781548 | 0.1204662 | 0.1215292 | 0.1269058 | 0.1306728 | 0.1827332 | 0.1514511 | 0.1485744 | 0.1442813 | 0.1480641 | 0.1135094 | 0.1342402 |\n",
       "| 0.2741911 | 0.2747987 | 0.2779154 | 0.1200875 | 0.1216146 | 0.1289161 | 0.1302656 | 0.1779921 | 0.1567593 | 0.1385250 | 0.1417374 | 0.1459552 | 0.1130745 | 0.1345817 |\n",
       "| 0.2714248 | 0.2741196 | 0.2774051 | 0.1199883 | 0.1217532 | 0.1297424 | 0.1337887 | 0.1733651 | 0.1600804 | 0.1305769 | 0.1390011 | 0.1436372 | 0.1126562 | 0.1351359 |\n",
       "| 0.2737465 | 0.2736588 | 0.2769938 | 0.1195406 | 0.1216886 | 0.1288634 | 0.1334185 | 0.1692861 | 0.1619216 | 0.1246568 | 0.1369868 | 0.1414204 | 0.1128586 | 0.1348777 |\n",
       "\n"
      ],
      "text/plain": [
       "  close     avg10     avg20     std10     std20     rsi14     rsi5     \n",
       "1 0.2729010 0.2765504 0.2787466 0.1205652 0.1211719 0.1266325 0.1263419\n",
       "2 0.2734996 0.2760238 0.2784603 0.1205928 0.1213422 0.1260960 0.1266856\n",
       "3 0.2728428 0.2753465 0.2781548 0.1204662 0.1215292 0.1269058 0.1306728\n",
       "4 0.2741911 0.2747987 0.2779154 0.1200875 0.1216146 0.1289161 0.1302656\n",
       "5 0.2714248 0.2741196 0.2774051 0.1199883 0.1217532 0.1297424 0.1337887\n",
       "6 0.2737465 0.2736588 0.2769938 0.1195406 0.1216886 0.1288634 0.1334185\n",
       "  macd1226  signal9   histogram9 macd0720  signal5   histogram5 bbands   \n",
       "1 0.1935594 0.1325457 0.1172852  0.1507669 0.1512380 0.1168211  0.1328108\n",
       "2 0.1879701 0.1436306 0.1616318  0.1473906 0.1499555 0.1147273  0.1334922\n",
       "3 0.1827332 0.1514511 0.1485744  0.1442813 0.1480641 0.1135094  0.1342402\n",
       "4 0.1779921 0.1567593 0.1385250  0.1417374 0.1459552 0.1130745  0.1345817\n",
       "5 0.1733651 0.1600804 0.1305769  0.1390011 0.1436372 0.1126562  0.1351359\n",
       "6 0.1692861 0.1619216 0.1246568  0.1369868 0.1414204 0.1128586  0.1348777"
      ]
     },
     "metadata": {},
     "output_type": "display_data"
    }
   ],
   "source": [
    "smllmm <- normalize_minmax(smllout[,-c(1, 16, 17)])\n",
    "head(smllmm)"
   ]
  },
  {
   "cell_type": "code",
   "execution_count": 47,
   "metadata": {},
   "outputs": [
    {
     "data": {
      "text/html": [
       "<table>\n",
       "<thead><tr><th scope=col>data</th><th scope=col>close</th><th scope=col>avg10</th><th scope=col>avg20</th><th scope=col>std10</th><th scope=col>std20</th><th scope=col>rsi14</th><th scope=col>rsi5</th><th scope=col>macd1226</th><th scope=col>signal9</th><th scope=col>histogram9</th><th scope=col>macd0720</th><th scope=col>signal5</th><th scope=col>histogram5</th><th scope=col>bbands</th><th scope=col>direction</th><th scope=col>dirret</th></tr></thead>\n",
       "<tbody>\n",
       "\t<tr><td>2005-10-21</td><td>0.2729010 </td><td>0.2765504 </td><td>0.2787466 </td><td>0.1205652 </td><td>0.1211719 </td><td>0.1266325 </td><td>0.1263419 </td><td>0.1935594 </td><td>0.1325457 </td><td>0.1172852 </td><td>0.1507669 </td><td>0.1512380 </td><td>0.1168211 </td><td>0.1328108 </td><td>0         </td><td>down      </td></tr>\n",
       "\t<tr><td>2005-10-24</td><td>0.2734996 </td><td>0.2760238 </td><td>0.2784603 </td><td>0.1205928 </td><td>0.1213422 </td><td>0.1260960 </td><td>0.1266856 </td><td>0.1879701 </td><td>0.1436306 </td><td>0.1616318 </td><td>0.1473906 </td><td>0.1499555 </td><td>0.1147273 </td><td>0.1334922 </td><td>0         </td><td>down      </td></tr>\n",
       "\t<tr><td>2005-10-25</td><td>0.2728428 </td><td>0.2753465 </td><td>0.2781548 </td><td>0.1204662 </td><td>0.1215292 </td><td>0.1269058 </td><td>0.1306728 </td><td>0.1827332 </td><td>0.1514511 </td><td>0.1485744 </td><td>0.1442813 </td><td>0.1480641 </td><td>0.1135094 </td><td>0.1342402 </td><td>0         </td><td>down      </td></tr>\n",
       "\t<tr><td>2005-10-26</td><td>0.2741911 </td><td>0.2747987 </td><td>0.2779154 </td><td>0.1200875 </td><td>0.1216146 </td><td>0.1289161 </td><td>0.1302656 </td><td>0.1779921 </td><td>0.1567593 </td><td>0.1385250 </td><td>0.1417374 </td><td>0.1459552 </td><td>0.1130745 </td><td>0.1345817 </td><td>0         </td><td>down      </td></tr>\n",
       "\t<tr><td>2005-10-27</td><td>0.2714248 </td><td>0.2741196 </td><td>0.2774051 </td><td>0.1199883 </td><td>0.1217532 </td><td>0.1297424 </td><td>0.1337887 </td><td>0.1733651 </td><td>0.1600804 </td><td>0.1305769 </td><td>0.1390011 </td><td>0.1436372 </td><td>0.1126562 </td><td>0.1351359 </td><td>0         </td><td>down      </td></tr>\n",
       "\t<tr><td>2005-10-28</td><td>0.2737465 </td><td>0.2736588 </td><td>0.2769938 </td><td>0.1195406 </td><td>0.1216886 </td><td>0.1288634 </td><td>0.1334185 </td><td>0.1692861 </td><td>0.1619216 </td><td>0.1246568 </td><td>0.1369868 </td><td>0.1414204 </td><td>0.1128586 </td><td>0.1348777 </td><td>0         </td><td>down      </td></tr>\n",
       "</tbody>\n",
       "</table>\n"
      ],
      "text/latex": [
       "\\begin{tabular}{r|lllllllllllllllll}\n",
       " data & close & avg10 & avg20 & std10 & std20 & rsi14 & rsi5 & macd1226 & signal9 & histogram9 & macd0720 & signal5 & histogram5 & bbands & direction & dirret\\\\\n",
       "\\hline\n",
       "\t 2005-10-21 & 0.2729010  & 0.2765504  & 0.2787466  & 0.1205652  & 0.1211719  & 0.1266325  & 0.1263419  & 0.1935594  & 0.1325457  & 0.1172852  & 0.1507669  & 0.1512380  & 0.1168211  & 0.1328108  & 0          & down      \\\\\n",
       "\t 2005-10-24 & 0.2734996  & 0.2760238  & 0.2784603  & 0.1205928  & 0.1213422  & 0.1260960  & 0.1266856  & 0.1879701  & 0.1436306  & 0.1616318  & 0.1473906  & 0.1499555  & 0.1147273  & 0.1334922  & 0          & down      \\\\\n",
       "\t 2005-10-25 & 0.2728428  & 0.2753465  & 0.2781548  & 0.1204662  & 0.1215292  & 0.1269058  & 0.1306728  & 0.1827332  & 0.1514511  & 0.1485744  & 0.1442813  & 0.1480641  & 0.1135094  & 0.1342402  & 0          & down      \\\\\n",
       "\t 2005-10-26 & 0.2741911  & 0.2747987  & 0.2779154  & 0.1200875  & 0.1216146  & 0.1289161  & 0.1302656  & 0.1779921  & 0.1567593  & 0.1385250  & 0.1417374  & 0.1459552  & 0.1130745  & 0.1345817  & 0          & down      \\\\\n",
       "\t 2005-10-27 & 0.2714248  & 0.2741196  & 0.2774051  & 0.1199883  & 0.1217532  & 0.1297424  & 0.1337887  & 0.1733651  & 0.1600804  & 0.1305769  & 0.1390011  & 0.1436372  & 0.1126562  & 0.1351359  & 0          & down      \\\\\n",
       "\t 2005-10-28 & 0.2737465  & 0.2736588  & 0.2769938  & 0.1195406  & 0.1216886  & 0.1288634  & 0.1334185  & 0.1692861  & 0.1619216  & 0.1246568  & 0.1369868  & 0.1414204  & 0.1128586  & 0.1348777  & 0          & down      \\\\\n",
       "\\end{tabular}\n"
      ],
      "text/markdown": [
       "\n",
       "| data | close | avg10 | avg20 | std10 | std20 | rsi14 | rsi5 | macd1226 | signal9 | histogram9 | macd0720 | signal5 | histogram5 | bbands | direction | dirret |\n",
       "|---|---|---|---|---|---|---|---|---|---|---|---|---|---|---|---|---|\n",
       "| 2005-10-21 | 0.2729010  | 0.2765504  | 0.2787466  | 0.1205652  | 0.1211719  | 0.1266325  | 0.1263419  | 0.1935594  | 0.1325457  | 0.1172852  | 0.1507669  | 0.1512380  | 0.1168211  | 0.1328108  | 0          | down       |\n",
       "| 2005-10-24 | 0.2734996  | 0.2760238  | 0.2784603  | 0.1205928  | 0.1213422  | 0.1260960  | 0.1266856  | 0.1879701  | 0.1436306  | 0.1616318  | 0.1473906  | 0.1499555  | 0.1147273  | 0.1334922  | 0          | down       |\n",
       "| 2005-10-25 | 0.2728428  | 0.2753465  | 0.2781548  | 0.1204662  | 0.1215292  | 0.1269058  | 0.1306728  | 0.1827332  | 0.1514511  | 0.1485744  | 0.1442813  | 0.1480641  | 0.1135094  | 0.1342402  | 0          | down       |\n",
       "| 2005-10-26 | 0.2741911  | 0.2747987  | 0.2779154  | 0.1200875  | 0.1216146  | 0.1289161  | 0.1302656  | 0.1779921  | 0.1567593  | 0.1385250  | 0.1417374  | 0.1459552  | 0.1130745  | 0.1345817  | 0          | down       |\n",
       "| 2005-10-27 | 0.2714248  | 0.2741196  | 0.2774051  | 0.1199883  | 0.1217532  | 0.1297424  | 0.1337887  | 0.1733651  | 0.1600804  | 0.1305769  | 0.1390011  | 0.1436372  | 0.1126562  | 0.1351359  | 0          | down       |\n",
       "| 2005-10-28 | 0.2737465  | 0.2736588  | 0.2769938  | 0.1195406  | 0.1216886  | 0.1288634  | 0.1334185  | 0.1692861  | 0.1619216  | 0.1246568  | 0.1369868  | 0.1414204  | 0.1128586  | 0.1348777  | 0          | down       |\n",
       "\n"
      ],
      "text/plain": [
       "  data       close     avg10     avg20     std10     std20     rsi14    \n",
       "1 2005-10-21 0.2729010 0.2765504 0.2787466 0.1205652 0.1211719 0.1266325\n",
       "2 2005-10-24 0.2734996 0.2760238 0.2784603 0.1205928 0.1213422 0.1260960\n",
       "3 2005-10-25 0.2728428 0.2753465 0.2781548 0.1204662 0.1215292 0.1269058\n",
       "4 2005-10-26 0.2741911 0.2747987 0.2779154 0.1200875 0.1216146 0.1289161\n",
       "5 2005-10-27 0.2714248 0.2741196 0.2774051 0.1199883 0.1217532 0.1297424\n",
       "6 2005-10-28 0.2737465 0.2736588 0.2769938 0.1195406 0.1216886 0.1288634\n",
       "  rsi5      macd1226  signal9   histogram9 macd0720  signal5   histogram5\n",
       "1 0.1263419 0.1935594 0.1325457 0.1172852  0.1507669 0.1512380 0.1168211 \n",
       "2 0.1266856 0.1879701 0.1436306 0.1616318  0.1473906 0.1499555 0.1147273 \n",
       "3 0.1306728 0.1827332 0.1514511 0.1485744  0.1442813 0.1480641 0.1135094 \n",
       "4 0.1302656 0.1779921 0.1567593 0.1385250  0.1417374 0.1459552 0.1130745 \n",
       "5 0.1337887 0.1733651 0.1600804 0.1305769  0.1390011 0.1436372 0.1126562 \n",
       "6 0.1334185 0.1692861 0.1619216 0.1246568  0.1369868 0.1414204 0.1128586 \n",
       "  bbands    direction dirret\n",
       "1 0.1328108 0         down  \n",
       "2 0.1334922 0         down  \n",
       "3 0.1342402 0         down  \n",
       "4 0.1345817 0         down  \n",
       "5 0.1351359 0         down  \n",
       "6 0.1348777 0         down  "
      ]
     },
     "metadata": {},
     "output_type": "display_data"
    }
   ],
   "source": [
    "data <- smllout$data\n",
    "direction <- smllout$direction\n",
    "dirret <- smllout$dirret\n",
    "\n",
    "smllmm <- cbind(data, smllmm, direction, dirret)\n",
    "head(smllmm)"
   ]
  },
  {
   "cell_type": "markdown",
   "metadata": {},
   "source": [
    "## 2. Normalização - Método Z-Score"
   ]
  },
  {
   "cell_type": "code",
   "execution_count": 48,
   "metadata": {},
   "outputs": [],
   "source": [
    "# Função para normalização dos dados\n",
    "normalize_zscore = function(x) {\n",
    "    return ((x - mean(x)) / sd(x))\n",
    "}"
   ]
  },
  {
   "cell_type": "code",
   "execution_count": 49,
   "metadata": {},
   "outputs": [
    {
     "data": {
      "text/html": [
       "<table>\n",
       "<thead><tr><th scope=col>close</th><th scope=col>avg10</th><th scope=col>avg20</th><th scope=col>std10</th><th scope=col>std20</th><th scope=col>rsi14</th><th scope=col>rsi5</th><th scope=col>macd1226</th><th scope=col>signal9</th><th scope=col>histogram9</th><th scope=col>macd0720</th><th scope=col>signal5</th><th scope=col>histogram5</th><th scope=col>bbands</th></tr></thead>\n",
       "<tbody>\n",
       "\t<tr><td>0.4233000  </td><td>0.4455409  </td><td>0.4589254  </td><td>-0.5050930 </td><td>-0.5013959 </td><td>-0.4681167 </td><td>-0.4698880 </td><td>-0.06023838</td><td>-0.4320796 </td><td>-0.5250826 </td><td>-0.3210325 </td><td>-0.3181613 </td><td>-0.5279112 </td><td>-0.4304638 </td></tr>\n",
       "\t<tr><td>0.4269481  </td><td>0.4423320  </td><td>0.4571811  </td><td>-0.5049250 </td><td>-0.5003577 </td><td>-0.4713861 </td><td>-0.4677931 </td><td>-0.09430143</td><td>-0.3645240 </td><td>-0.2548174 </td><td>-0.3416089 </td><td>-0.3259772 </td><td>-0.5406717 </td><td>-0.4263112 </td></tr>\n",
       "\t<tr><td>0.4229458  </td><td>0.4382040  </td><td>0.4553190  </td><td>-0.5056963 </td><td>-0.4992180 </td><td>-0.4664509 </td><td>-0.4434934 </td><td>-0.12621698</td><td>-0.3168626 </td><td>-0.3343943 </td><td>-0.3605583 </td><td>-0.3375042 </td><td>-0.5480940 </td><td>-0.4217522 </td></tr>\n",
       "\t<tr><td>0.4311629  </td><td>0.4348658  </td><td>0.4538597  </td><td>-0.5080043 </td><td>-0.4986977 </td><td>-0.4541998 </td><td>-0.4459751 </td><td>-0.15511154</td><td>-0.2845124 </td><td>-0.3956391 </td><td>-0.3760614 </td><td>-0.3503566 </td><td>-0.5507447 </td><td>-0.4196712 </td></tr>\n",
       "\t<tr><td>0.4143038  </td><td>0.4307272  </td><td>0.4507500  </td><td>-0.5086090 </td><td>-0.4978534 </td><td>-0.4491636 </td><td>-0.4245042 </td><td>-0.18331032</td><td>-0.2642720 </td><td>-0.4440783 </td><td>-0.3927375 </td><td>-0.3644836 </td><td>-0.5532939 </td><td>-0.4162937 </td></tr>\n",
       "\t<tr><td>0.4284534  </td><td>0.4279186  </td><td>0.4482433  </td><td>-0.5113377 </td><td>-0.4982468 </td><td>-0.4545208 </td><td>-0.4267601 </td><td>-0.20816899</td><td>-0.2530514 </td><td>-0.4801575 </td><td>-0.4050138 </td><td>-0.3779936 </td><td>-0.5520600 </td><td>-0.4178673 </td></tr>\n",
       "</tbody>\n",
       "</table>\n"
      ],
      "text/latex": [
       "\\begin{tabular}{llllllllllllll}\n",
       " close & avg10 & avg20 & std10 & std20 & rsi14 & rsi5 & macd1226 & signal9 & histogram9 & macd0720 & signal5 & histogram5 & bbands\\\\\n",
       "\\hline\n",
       "\t 0.4233000   & 0.4455409   & 0.4589254   & -0.5050930  & -0.5013959  & -0.4681167  & -0.4698880  & -0.06023838 & -0.4320796  & -0.5250826  & -0.3210325  & -0.3181613  & -0.5279112  & -0.4304638 \\\\\n",
       "\t 0.4269481   & 0.4423320   & 0.4571811   & -0.5049250  & -0.5003577  & -0.4713861  & -0.4677931  & -0.09430143 & -0.3645240  & -0.2548174  & -0.3416089  & -0.3259772  & -0.5406717  & -0.4263112 \\\\\n",
       "\t 0.4229458   & 0.4382040   & 0.4553190   & -0.5056963  & -0.4992180  & -0.4664509  & -0.4434934  & -0.12621698 & -0.3168626  & -0.3343943  & -0.3605583  & -0.3375042  & -0.5480940  & -0.4217522 \\\\\n",
       "\t 0.4311629   & 0.4348658   & 0.4538597   & -0.5080043  & -0.4986977  & -0.4541998  & -0.4459751  & -0.15511154 & -0.2845124  & -0.3956391  & -0.3760614  & -0.3503566  & -0.5507447  & -0.4196712 \\\\\n",
       "\t 0.4143038   & 0.4307272   & 0.4507500   & -0.5086090  & -0.4978534  & -0.4491636  & -0.4245042  & -0.18331032 & -0.2642720  & -0.4440783  & -0.3927375  & -0.3644836  & -0.5532939  & -0.4162937 \\\\\n",
       "\t 0.4284534   & 0.4279186   & 0.4482433   & -0.5113377  & -0.4982468  & -0.4545208  & -0.4267601  & -0.20816899 & -0.2530514  & -0.4801575  & -0.4050138  & -0.3779936  & -0.5520600  & -0.4178673 \\\\\n",
       "\\end{tabular}\n"
      ],
      "text/markdown": [
       "\n",
       "| close | avg10 | avg20 | std10 | std20 | rsi14 | rsi5 | macd1226 | signal9 | histogram9 | macd0720 | signal5 | histogram5 | bbands |\n",
       "|---|---|---|---|---|---|---|---|---|---|---|---|---|---|\n",
       "| 0.4233000   | 0.4455409   | 0.4589254   | -0.5050930  | -0.5013959  | -0.4681167  | -0.4698880  | -0.06023838 | -0.4320796  | -0.5250826  | -0.3210325  | -0.3181613  | -0.5279112  | -0.4304638  |\n",
       "| 0.4269481   | 0.4423320   | 0.4571811   | -0.5049250  | -0.5003577  | -0.4713861  | -0.4677931  | -0.09430143 | -0.3645240  | -0.2548174  | -0.3416089  | -0.3259772  | -0.5406717  | -0.4263112  |\n",
       "| 0.4229458   | 0.4382040   | 0.4553190   | -0.5056963  | -0.4992180  | -0.4664509  | -0.4434934  | -0.12621698 | -0.3168626  | -0.3343943  | -0.3605583  | -0.3375042  | -0.5480940  | -0.4217522  |\n",
       "| 0.4311629   | 0.4348658   | 0.4538597   | -0.5080043  | -0.4986977  | -0.4541998  | -0.4459751  | -0.15511154 | -0.2845124  | -0.3956391  | -0.3760614  | -0.3503566  | -0.5507447  | -0.4196712  |\n",
       "| 0.4143038   | 0.4307272   | 0.4507500   | -0.5086090  | -0.4978534  | -0.4491636  | -0.4245042  | -0.18331032 | -0.2642720  | -0.4440783  | -0.3927375  | -0.3644836  | -0.5532939  | -0.4162937  |\n",
       "| 0.4284534   | 0.4279186   | 0.4482433   | -0.5113377  | -0.4982468  | -0.4545208  | -0.4267601  | -0.20816899 | -0.2530514  | -0.4801575  | -0.4050138  | -0.3779936  | -0.5520600  | -0.4178673  |\n",
       "\n"
      ],
      "text/plain": [
       "     close     avg10     avg20     std10      std20      rsi14      rsi5      \n",
       "[1,] 0.4233000 0.4455409 0.4589254 -0.5050930 -0.5013959 -0.4681167 -0.4698880\n",
       "[2,] 0.4269481 0.4423320 0.4571811 -0.5049250 -0.5003577 -0.4713861 -0.4677931\n",
       "[3,] 0.4229458 0.4382040 0.4553190 -0.5056963 -0.4992180 -0.4664509 -0.4434934\n",
       "[4,] 0.4311629 0.4348658 0.4538597 -0.5080043 -0.4986977 -0.4541998 -0.4459751\n",
       "[5,] 0.4143038 0.4307272 0.4507500 -0.5086090 -0.4978534 -0.4491636 -0.4245042\n",
       "[6,] 0.4284534 0.4279186 0.4482433 -0.5113377 -0.4982468 -0.4545208 -0.4267601\n",
       "     macd1226    signal9    histogram9 macd0720   signal5    histogram5\n",
       "[1,] -0.06023838 -0.4320796 -0.5250826 -0.3210325 -0.3181613 -0.5279112\n",
       "[2,] -0.09430143 -0.3645240 -0.2548174 -0.3416089 -0.3259772 -0.5406717\n",
       "[3,] -0.12621698 -0.3168626 -0.3343943 -0.3605583 -0.3375042 -0.5480940\n",
       "[4,] -0.15511154 -0.2845124 -0.3956391 -0.3760614 -0.3503566 -0.5507447\n",
       "[5,] -0.18331032 -0.2642720 -0.4440783 -0.3927375 -0.3644836 -0.5532939\n",
       "[6,] -0.20816899 -0.2530514 -0.4801575 -0.4050138 -0.3779936 -0.5520600\n",
       "     bbands    \n",
       "[1,] -0.4304638\n",
       "[2,] -0.4263112\n",
       "[3,] -0.4217522\n",
       "[4,] -0.4196712\n",
       "[5,] -0.4162937\n",
       "[6,] -0.4178673"
      ]
     },
     "metadata": {},
     "output_type": "display_data"
    }
   ],
   "source": [
    "m <- as.matrix(smllout[,-c(1, 16, 17)]) \n",
    "\n",
    "smllz <- normalize_zscore(m)\n",
    "\n",
    "head(smllz)"
   ]
  },
  {
   "cell_type": "code",
   "execution_count": 50,
   "metadata": {},
   "outputs": [
    {
     "data": {
      "text/html": [
       "<table>\n",
       "<thead><tr><th scope=col>data</th><th scope=col>close</th><th scope=col>avg10</th><th scope=col>avg20</th><th scope=col>std10</th><th scope=col>std20</th><th scope=col>rsi14</th><th scope=col>rsi5</th><th scope=col>macd1226</th><th scope=col>signal9</th><th scope=col>histogram9</th><th scope=col>macd0720</th><th scope=col>signal5</th><th scope=col>histogram5</th><th scope=col>bbands</th><th scope=col>direction</th><th scope=col>dirret</th></tr></thead>\n",
       "<tbody>\n",
       "\t<tr><td>2005-10-21 </td><td>0.4233000  </td><td>0.4455409  </td><td>0.4589254  </td><td>-0.5050930 </td><td>-0.5013959 </td><td>-0.4681167 </td><td>-0.4698880 </td><td>-0.06023838</td><td>-0.4320796 </td><td>-0.5250826 </td><td>-0.3210325 </td><td>-0.3181613 </td><td>-0.5279112 </td><td>-0.4304638 </td><td>0          </td><td>down       </td></tr>\n",
       "\t<tr><td>2005-10-24 </td><td>0.4269481  </td><td>0.4423320  </td><td>0.4571811  </td><td>-0.5049250 </td><td>-0.5003577 </td><td>-0.4713861 </td><td>-0.4677931 </td><td>-0.09430143</td><td>-0.3645240 </td><td>-0.2548174 </td><td>-0.3416089 </td><td>-0.3259772 </td><td>-0.5406717 </td><td>-0.4263112 </td><td>0          </td><td>down       </td></tr>\n",
       "\t<tr><td>2005-10-25 </td><td>0.4229458  </td><td>0.4382040  </td><td>0.4553190  </td><td>-0.5056963 </td><td>-0.4992180 </td><td>-0.4664509 </td><td>-0.4434934 </td><td>-0.12621698</td><td>-0.3168626 </td><td>-0.3343943 </td><td>-0.3605583 </td><td>-0.3375042 </td><td>-0.5480940 </td><td>-0.4217522 </td><td>0          </td><td>down       </td></tr>\n",
       "\t<tr><td>2005-10-26 </td><td>0.4311629  </td><td>0.4348658  </td><td>0.4538597  </td><td>-0.5080043 </td><td>-0.4986977 </td><td>-0.4541998 </td><td>-0.4459751 </td><td>-0.15511154</td><td>-0.2845124 </td><td>-0.3956391 </td><td>-0.3760614 </td><td>-0.3503566 </td><td>-0.5507447 </td><td>-0.4196712 </td><td>0          </td><td>down       </td></tr>\n",
       "\t<tr><td>2005-10-27 </td><td>0.4143038  </td><td>0.4307272  </td><td>0.4507500  </td><td>-0.5086090 </td><td>-0.4978534 </td><td>-0.4491636 </td><td>-0.4245042 </td><td>-0.18331032</td><td>-0.2642720 </td><td>-0.4440783 </td><td>-0.3927375 </td><td>-0.3644836 </td><td>-0.5532939 </td><td>-0.4162937 </td><td>0          </td><td>down       </td></tr>\n",
       "\t<tr><td>2005-10-28 </td><td>0.4284534  </td><td>0.4279186  </td><td>0.4482433  </td><td>-0.5113377 </td><td>-0.4982468 </td><td>-0.4545208 </td><td>-0.4267601 </td><td>-0.20816899</td><td>-0.2530514 </td><td>-0.4801575 </td><td>-0.4050138 </td><td>-0.3779936 </td><td>-0.5520600 </td><td>-0.4178673 </td><td>0          </td><td>down       </td></tr>\n",
       "</tbody>\n",
       "</table>\n"
      ],
      "text/latex": [
       "\\begin{tabular}{r|lllllllllllllllll}\n",
       " data & close & avg10 & avg20 & std10 & std20 & rsi14 & rsi5 & macd1226 & signal9 & histogram9 & macd0720 & signal5 & histogram5 & bbands & direction & dirret\\\\\n",
       "\\hline\n",
       "\t 2005-10-21  & 0.4233000   & 0.4455409   & 0.4589254   & -0.5050930  & -0.5013959  & -0.4681167  & -0.4698880  & -0.06023838 & -0.4320796  & -0.5250826  & -0.3210325  & -0.3181613  & -0.5279112  & -0.4304638  & 0           & down       \\\\\n",
       "\t 2005-10-24  & 0.4269481   & 0.4423320   & 0.4571811   & -0.5049250  & -0.5003577  & -0.4713861  & -0.4677931  & -0.09430143 & -0.3645240  & -0.2548174  & -0.3416089  & -0.3259772  & -0.5406717  & -0.4263112  & 0           & down       \\\\\n",
       "\t 2005-10-25  & 0.4229458   & 0.4382040   & 0.4553190   & -0.5056963  & -0.4992180  & -0.4664509  & -0.4434934  & -0.12621698 & -0.3168626  & -0.3343943  & -0.3605583  & -0.3375042  & -0.5480940  & -0.4217522  & 0           & down       \\\\\n",
       "\t 2005-10-26  & 0.4311629   & 0.4348658   & 0.4538597   & -0.5080043  & -0.4986977  & -0.4541998  & -0.4459751  & -0.15511154 & -0.2845124  & -0.3956391  & -0.3760614  & -0.3503566  & -0.5507447  & -0.4196712  & 0           & down       \\\\\n",
       "\t 2005-10-27  & 0.4143038   & 0.4307272   & 0.4507500   & -0.5086090  & -0.4978534  & -0.4491636  & -0.4245042  & -0.18331032 & -0.2642720  & -0.4440783  & -0.3927375  & -0.3644836  & -0.5532939  & -0.4162937  & 0           & down       \\\\\n",
       "\t 2005-10-28  & 0.4284534   & 0.4279186   & 0.4482433   & -0.5113377  & -0.4982468  & -0.4545208  & -0.4267601  & -0.20816899 & -0.2530514  & -0.4801575  & -0.4050138  & -0.3779936  & -0.5520600  & -0.4178673  & 0           & down       \\\\\n",
       "\\end{tabular}\n"
      ],
      "text/markdown": [
       "\n",
       "| data | close | avg10 | avg20 | std10 | std20 | rsi14 | rsi5 | macd1226 | signal9 | histogram9 | macd0720 | signal5 | histogram5 | bbands | direction | dirret |\n",
       "|---|---|---|---|---|---|---|---|---|---|---|---|---|---|---|---|---|\n",
       "| 2005-10-21  | 0.4233000   | 0.4455409   | 0.4589254   | -0.5050930  | -0.5013959  | -0.4681167  | -0.4698880  | -0.06023838 | -0.4320796  | -0.5250826  | -0.3210325  | -0.3181613  | -0.5279112  | -0.4304638  | 0           | down        |\n",
       "| 2005-10-24  | 0.4269481   | 0.4423320   | 0.4571811   | -0.5049250  | -0.5003577  | -0.4713861  | -0.4677931  | -0.09430143 | -0.3645240  | -0.2548174  | -0.3416089  | -0.3259772  | -0.5406717  | -0.4263112  | 0           | down        |\n",
       "| 2005-10-25  | 0.4229458   | 0.4382040   | 0.4553190   | -0.5056963  | -0.4992180  | -0.4664509  | -0.4434934  | -0.12621698 | -0.3168626  | -0.3343943  | -0.3605583  | -0.3375042  | -0.5480940  | -0.4217522  | 0           | down        |\n",
       "| 2005-10-26  | 0.4311629   | 0.4348658   | 0.4538597   | -0.5080043  | -0.4986977  | -0.4541998  | -0.4459751  | -0.15511154 | -0.2845124  | -0.3956391  | -0.3760614  | -0.3503566  | -0.5507447  | -0.4196712  | 0           | down        |\n",
       "| 2005-10-27  | 0.4143038   | 0.4307272   | 0.4507500   | -0.5086090  | -0.4978534  | -0.4491636  | -0.4245042  | -0.18331032 | -0.2642720  | -0.4440783  | -0.3927375  | -0.3644836  | -0.5532939  | -0.4162937  | 0           | down        |\n",
       "| 2005-10-28  | 0.4284534   | 0.4279186   | 0.4482433   | -0.5113377  | -0.4982468  | -0.4545208  | -0.4267601  | -0.20816899 | -0.2530514  | -0.4801575  | -0.4050138  | -0.3779936  | -0.5520600  | -0.4178673  | 0           | down        |\n",
       "\n"
      ],
      "text/plain": [
       "  data       close     avg10     avg20     std10      std20      rsi14     \n",
       "1 2005-10-21 0.4233000 0.4455409 0.4589254 -0.5050930 -0.5013959 -0.4681167\n",
       "2 2005-10-24 0.4269481 0.4423320 0.4571811 -0.5049250 -0.5003577 -0.4713861\n",
       "3 2005-10-25 0.4229458 0.4382040 0.4553190 -0.5056963 -0.4992180 -0.4664509\n",
       "4 2005-10-26 0.4311629 0.4348658 0.4538597 -0.5080043 -0.4986977 -0.4541998\n",
       "5 2005-10-27 0.4143038 0.4307272 0.4507500 -0.5086090 -0.4978534 -0.4491636\n",
       "6 2005-10-28 0.4284534 0.4279186 0.4482433 -0.5113377 -0.4982468 -0.4545208\n",
       "  rsi5       macd1226    signal9    histogram9 macd0720   signal5    histogram5\n",
       "1 -0.4698880 -0.06023838 -0.4320796 -0.5250826 -0.3210325 -0.3181613 -0.5279112\n",
       "2 -0.4677931 -0.09430143 -0.3645240 -0.2548174 -0.3416089 -0.3259772 -0.5406717\n",
       "3 -0.4434934 -0.12621698 -0.3168626 -0.3343943 -0.3605583 -0.3375042 -0.5480940\n",
       "4 -0.4459751 -0.15511154 -0.2845124 -0.3956391 -0.3760614 -0.3503566 -0.5507447\n",
       "5 -0.4245042 -0.18331032 -0.2642720 -0.4440783 -0.3927375 -0.3644836 -0.5532939\n",
       "6 -0.4267601 -0.20816899 -0.2530514 -0.4801575 -0.4050138 -0.3779936 -0.5520600\n",
       "  bbands     direction dirret\n",
       "1 -0.4304638 0         down  \n",
       "2 -0.4263112 0         down  \n",
       "3 -0.4217522 0         down  \n",
       "4 -0.4196712 0         down  \n",
       "5 -0.4162937 0         down  \n",
       "6 -0.4178673 0         down  "
      ]
     },
     "metadata": {},
     "output_type": "display_data"
    }
   ],
   "source": [
    "data <- smllout$data\n",
    "direction <- smllout$direction\n",
    "dirret <- smllout$dirret\n",
    "\n",
    "smllz <- data.frame(smllz)\n",
    "\n",
    "smllz <- cbind(data, smllz, direction, dirret)\n",
    "head(smllz)"
   ]
  },
  {
   "cell_type": "markdown",
   "metadata": {},
   "source": [
    "# Etapa 7: Seleção de atributos"
   ]
  },
  {
   "cell_type": "code",
   "execution_count": 51,
   "metadata": {},
   "outputs": [
    {
     "name": "stderr",
     "output_type": "stream",
     "text": [
      "Warning message:\n",
      "\"package 'caret' was built under R version 3.6.3\"Loading required package: lattice\n"
     ]
    }
   ],
   "source": [
    "# Biblioteca(s) Necessária(s)\n",
    "library(caret)"
   ]
  },
  {
   "cell_type": "markdown",
   "metadata": {},
   "source": [
    "## 1. Seleção dos atributos com maiores correlações "
   ]
  },
  {
   "cell_type": "code",
   "execution_count": 52,
   "metadata": {},
   "outputs": [
    {
     "name": "stdout",
     "output_type": "stream",
     "text": [
      " [1] 11 12  8  4 14  1  2  6 10 13\n"
     ]
    }
   ],
   "source": [
    "# Matriz de correlação\n",
    "y <- smllout[,-c(1, 16, 17)]\n",
    "\n",
    "corrsmll <- cor(y)\n",
    "\n",
    "# Seleção dos atributos que são altamente correlacionados (isealmente > 0.75)\n",
    "highcorrsmll <- findCorrelation(corrsmll, cutoff = 0.5)\n",
    "\n",
    "# Exibição dos índices que possuem correlação elevada \n",
    "print(highcorrsmll)"
   ]
  },
  {
   "cell_type": "markdown",
   "metadata": {},
   "source": [
    "* índice 11: macd0720\n",
    "\n",
    "* índice 12: signal5\n",
    "\n",
    "* índice 8: macd1226\n",
    "\n",
    "* índice 4: std10\n",
    "\n",
    "* índice 14: bbands\n",
    "\n",
    "* índice 1: close\n",
    "\n",
    "* índice 2: avg10\n",
    "\n",
    "* índice: rsi14\n",
    "\n",
    "* índice 10: histogram9\n",
    "\n",
    "* índice 13: histogram5"
   ]
  },
  {
   "cell_type": "markdown",
   "metadata": {},
   "source": [
    "## 2. Seleção automática de atributos"
   ]
  },
  {
   "cell_type": "markdown",
   "metadata": {},
   "source": [
    "Método utilizado para seleção automática dos atributos: *Recursive Feature Elimination* (RFE)."
   ]
  },
  {
   "cell_type": "code",
   "execution_count": 53,
   "metadata": {},
   "outputs": [],
   "source": [
    "# Definição do controle por meio de uma função de seleção random forest\n",
    "control <- rfeControl(functions=rfFuncs, method=\"cv\", number=10)"
   ]
  },
  {
   "cell_type": "code",
   "execution_count": 54,
   "metadata": {},
   "outputs": [
    {
     "name": "stderr",
     "output_type": "stream",
     "text": [
      "Warning message in randomForest.default(x, y, importance = TRUE, ...):\n",
      "\"The response has five or fewer unique values.  Are you sure you want to do regression?\"Warning message in randomForest.default(x, y, importance = TRUE, ...):\n",
      "\"The response has five or fewer unique values.  Are you sure you want to do regression?\"Warning message in randomForest.default(x, y, importance = TRUE, ...):\n",
      "\"The response has five or fewer unique values.  Are you sure you want to do regression?\"Warning message in randomForest.default(x, y, importance = TRUE, ...):\n",
      "\"The response has five or fewer unique values.  Are you sure you want to do regression?\"Warning message in randomForest.default(x, y, importance = TRUE, ...):\n",
      "\"The response has five or fewer unique values.  Are you sure you want to do regression?\"Warning message in randomForest.default(x, y, importance = TRUE, ...):\n",
      "\"The response has five or fewer unique values.  Are you sure you want to do regression?\"Warning message in randomForest.default(x, y, importance = TRUE, ...):\n",
      "\"The response has five or fewer unique values.  Are you sure you want to do regression?\"Warning message in randomForest.default(x, y, importance = TRUE, ...):\n",
      "\"The response has five or fewer unique values.  Are you sure you want to do regression?\"Warning message in randomForest.default(x, y, importance = TRUE, ...):\n",
      "\"The response has five or fewer unique values.  Are you sure you want to do regression?\"Warning message in randomForest.default(x, y, importance = TRUE, ...):\n",
      "\"The response has five or fewer unique values.  Are you sure you want to do regression?\"Warning message in randomForest.default(x, y, importance = TRUE, ...):\n",
      "\"The response has five or fewer unique values.  Are you sure you want to do regression?\"Warning message in randomForest.default(x, y, importance = TRUE, ...):\n",
      "\"The response has five or fewer unique values.  Are you sure you want to do regression?\"Warning message in randomForest.default(x, y, importance = TRUE, ...):\n",
      "\"The response has five or fewer unique values.  Are you sure you want to do regression?\"Warning message in randomForest.default(x, y, importance = TRUE, ...):\n",
      "\"The response has five or fewer unique values.  Are you sure you want to do regression?\"Warning message in randomForest.default(x, y, importance = TRUE, ...):\n",
      "\"The response has five or fewer unique values.  Are you sure you want to do regression?\"Warning message in randomForest.default(x, y, importance = TRUE, ...):\n",
      "\"The response has five or fewer unique values.  Are you sure you want to do regression?\"Warning message in randomForest.default(x, y, importance = TRUE, ...):\n",
      "\"The response has five or fewer unique values.  Are you sure you want to do regression?\"Warning message in randomForest.default(x, y, importance = TRUE, ...):\n",
      "\"The response has five or fewer unique values.  Are you sure you want to do regression?\"Warning message in randomForest.default(x, y, importance = TRUE, ...):\n",
      "\"The response has five or fewer unique values.  Are you sure you want to do regression?\"Warning message in randomForest.default(x, y, importance = TRUE, ...):\n",
      "\"The response has five or fewer unique values.  Are you sure you want to do regression?\"Warning message in randomForest.default(x, y, importance = TRUE, ...):\n",
      "\"The response has five or fewer unique values.  Are you sure you want to do regression?\"Warning message in randomForest.default(x, y, importance = TRUE, ...):\n",
      "\"The response has five or fewer unique values.  Are you sure you want to do regression?\"Warning message in randomForest.default(x, y, importance = TRUE, ...):\n",
      "\"The response has five or fewer unique values.  Are you sure you want to do regression?\"Warning message in randomForest.default(x, y, importance = TRUE, ...):\n",
      "\"The response has five or fewer unique values.  Are you sure you want to do regression?\"Warning message in randomForest.default(x, y, importance = TRUE, ...):\n",
      "\"The response has five or fewer unique values.  Are you sure you want to do regression?\"Warning message in randomForest.default(x, y, importance = TRUE, ...):\n",
      "\"The response has five or fewer unique values.  Are you sure you want to do regression?\"Warning message in randomForest.default(x, y, importance = TRUE, ...):\n",
      "\"The response has five or fewer unique values.  Are you sure you want to do regression?\"Warning message in randomForest.default(x, y, importance = TRUE, ...):\n",
      "\"The response has five or fewer unique values.  Are you sure you want to do regression?\"Warning message in randomForest.default(x, y, importance = TRUE, ...):\n",
      "\"The response has five or fewer unique values.  Are you sure you want to do regression?\"Warning message in randomForest.default(x, y, importance = TRUE, ...):\n",
      "\"The response has five or fewer unique values.  Are you sure you want to do regression?\"Warning message in randomForest.default(x, y, importance = TRUE, ...):\n",
      "\"The response has five or fewer unique values.  Are you sure you want to do regression?\""
     ]
    }
   ],
   "source": [
    "z <- smllout[,-c(1, 17)]\n",
    "\n",
    "resultsmll <- rfe(direction~., z, rfeControl=control)"
   ]
  },
  {
   "cell_type": "code",
   "execution_count": 55,
   "metadata": {},
   "outputs": [
    {
     "name": "stdout",
     "output_type": "stream",
     "text": [
      "\n",
      "Recursive feature selection\n",
      "\n",
      "Outer resampling method: Cross-Validated (10 fold) \n",
      "\n",
      "Resampling performance over subset size:\n",
      "\n",
      " Variables   RMSE Rsquared    MAE  RMSESD RsquaredSD   MAESD Selected\n",
      "         4 0.2825   0.6703 0.1578 0.02076    0.04500 0.01439         \n",
      "         8 0.2712   0.6965 0.1509 0.01553    0.03108 0.01046         \n",
      "        14 0.2588   0.7239 0.1429 0.01596    0.03228 0.01071        *\n",
      "\n",
      "The top 5 variables (out of 14):\n",
      "   macd0720, signal5, histogram9, std10, rsi5\n",
      "\n"
     ]
    }
   ],
   "source": [
    "# Resultado da seleção\n",
    "print(resultsmll)"
   ]
  },
  {
   "cell_type": "code",
   "execution_count": 56,
   "metadata": {},
   "outputs": [
    {
     "data": {
      "text/html": [
       "<ol class=list-inline>\n",
       "\t<li>'macd0720'</li>\n",
       "\t<li>'signal5'</li>\n",
       "\t<li>'histogram9'</li>\n",
       "\t<li>'std10'</li>\n",
       "\t<li>'rsi5'</li>\n",
       "\t<li>'histogram5'</li>\n",
       "\t<li>'rsi14'</li>\n",
       "\t<li>'macd1226'</li>\n",
       "\t<li>'avg20'</li>\n",
       "\t<li>'avg10'</li>\n",
       "\t<li>'close'</li>\n",
       "\t<li>'signal9'</li>\n",
       "\t<li>'bbands'</li>\n",
       "\t<li>'std20'</li>\n",
       "</ol>\n"
      ],
      "text/latex": [
       "\\begin{enumerate*}\n",
       "\\item 'macd0720'\n",
       "\\item 'signal5'\n",
       "\\item 'histogram9'\n",
       "\\item 'std10'\n",
       "\\item 'rsi5'\n",
       "\\item 'histogram5'\n",
       "\\item 'rsi14'\n",
       "\\item 'macd1226'\n",
       "\\item 'avg20'\n",
       "\\item 'avg10'\n",
       "\\item 'close'\n",
       "\\item 'signal9'\n",
       "\\item 'bbands'\n",
       "\\item 'std20'\n",
       "\\end{enumerate*}\n"
      ],
      "text/markdown": [
       "1. 'macd0720'\n",
       "2. 'signal5'\n",
       "3. 'histogram9'\n",
       "4. 'std10'\n",
       "5. 'rsi5'\n",
       "6. 'histogram5'\n",
       "7. 'rsi14'\n",
       "8. 'macd1226'\n",
       "9. 'avg20'\n",
       "10. 'avg10'\n",
       "11. 'close'\n",
       "12. 'signal9'\n",
       "13. 'bbands'\n",
       "14. 'std20'\n",
       "\n",
       "\n"
      ],
      "text/plain": [
       " [1] \"macd0720\"   \"signal5\"    \"histogram9\" \"std10\"      \"rsi5\"      \n",
       " [6] \"histogram5\" \"rsi14\"      \"macd1226\"   \"avg20\"      \"avg10\"     \n",
       "[11] \"close\"      \"signal9\"    \"bbands\"     \"std20\"     "
      ]
     },
     "metadata": {},
     "output_type": "display_data"
    }
   ],
   "source": [
    "# Lista dos atributos escolhidos (de acordo com a variável de interesse)\n",
    "predictors(resultsmll)"
   ]
  },
  {
   "cell_type": "code",
   "execution_count": 57,
   "metadata": {},
   "outputs": [
    {
     "data": {
      "image/png": "[encoded data removed]",
      "text/plain": [
       "plot without title"
      ]
     },
     "metadata": {},
     "output_type": "display_data"
    }
   ],
   "source": [
    "plot(resultsmll, type=c(\"g\", \"o\"))"
   ]
  },
  {
   "cell_type": "markdown",
   "metadata": {},
   "source": [
    "## 3. Classificação e seleção de atributos com base no algoritmo de random forest"
   ]
  },
  {
   "cell_type": "code",
   "execution_count": 58,
   "metadata": {},
   "outputs": [
    {
     "name": "stderr",
     "output_type": "stream",
     "text": [
      "Warning message:\n",
      "\"package 'Boruta' was built under R version 3.6.3\""
     ]
    }
   ],
   "source": [
    "# Biblioteca(s) Necessária(s)\n",
    "library(Boruta)"
   ]
  },
  {
   "cell_type": "code",
   "execution_count": 59,
   "metadata": {},
   "outputs": [
    {
     "data": {
      "text/html": [
       "<ol class=list-inline>\n",
       "\t<li>'finalDecision'</li>\n",
       "\t<li>'ImpHistory'</li>\n",
       "\t<li>'pValue'</li>\n",
       "\t<li>'maxRuns'</li>\n",
       "\t<li>'light'</li>\n",
       "\t<li>'mcAdj'</li>\n",
       "\t<li>'timeTaken'</li>\n",
       "\t<li>'roughfixed'</li>\n",
       "\t<li>'call'</li>\n",
       "\t<li>'impSource'</li>\n",
       "</ol>\n"
      ],
      "text/latex": [
       "\\begin{enumerate*}\n",
       "\\item 'finalDecision'\n",
       "\\item 'ImpHistory'\n",
       "\\item 'pValue'\n",
       "\\item 'maxRuns'\n",
       "\\item 'light'\n",
       "\\item 'mcAdj'\n",
       "\\item 'timeTaken'\n",
       "\\item 'roughfixed'\n",
       "\\item 'call'\n",
       "\\item 'impSource'\n",
       "\\end{enumerate*}\n"
      ],
      "text/markdown": [
       "1. 'finalDecision'\n",
       "2. 'ImpHistory'\n",
       "3. 'pValue'\n",
       "4. 'maxRuns'\n",
       "5. 'light'\n",
       "6. 'mcAdj'\n",
       "7. 'timeTaken'\n",
       "8. 'roughfixed'\n",
       "9. 'call'\n",
       "10. 'impSource'\n",
       "\n",
       "\n"
      ],
      "text/plain": [
       " [1] \"finalDecision\" \"ImpHistory\"    \"pValue\"        \"maxRuns\"      \n",
       " [5] \"light\"         \"mcAdj\"         \"timeTaken\"     \"roughfixed\"   \n",
       " [9] \"call\"          \"impSource\"    "
      ]
     },
     "metadata": {},
     "output_type": "display_data"
    }
   ],
   "source": [
    "# Objeto de armazenamento dos resultados\n",
    "smllboruta_output <- Boruta(direction ~., data = z, doTrace = 0)\n",
    "names(smllboruta_output)"
   ]
  },
  {
   "cell_type": "code",
   "execution_count": 60,
   "metadata": {},
   "outputs": [
    {
     "name": "stdout",
     "output_type": "stream",
     "text": [
      " [1] \"close\"      \"avg10\"      \"avg20\"      \"std10\"      \"std20\"     \n",
      " [6] \"rsi14\"      \"rsi5\"       \"macd1226\"   \"signal9\"    \"histogram9\"\n",
      "[11] \"macd0720\"   \"signal5\"    \"histogram5\" \"bbands\"    \n"
     ]
    }
   ],
   "source": [
    "# Obtenção das variáveis de significância\n",
    "smllboruta_signif <- getSelectedAttributes(smllboruta_output, withTentative = TRUE)\n",
    "print(smllboruta_signif)"
   ]
  },
  {
   "cell_type": "code",
   "execution_count": 61,
   "metadata": {},
   "outputs": [
    {
     "name": "stderr",
     "output_type": "stream",
     "text": [
      "Warning message in TentativeRoughFix(smllboruta_output):\n",
      "\"There are no Tentative attributes! Returning original object.\""
     ]
    },
    {
     "name": "stdout",
     "output_type": "stream",
     "text": [
      " [1] \"close\"      \"avg10\"      \"avg20\"      \"std10\"      \"std20\"     \n",
      " [6] \"rsi14\"      \"rsi5\"       \"macd1226\"   \"signal9\"    \"histogram9\"\n",
      "[11] \"macd0720\"   \"signal5\"    \"histogram5\" \"bbands\"    \n"
     ]
    }
   ],
   "source": [
    "# Correção preliminar\n",
    "smllroughfixmod <- TentativeRoughFix(smllboruta_output)\n",
    "smllboruta_signif2 <- getSelectedAttributes(smllroughfixmod)\n",
    "print(smllboruta_signif2)"
   ]
  },
  {
   "cell_type": "code",
   "execution_count": 62,
   "metadata": {},
   "outputs": [
    {
     "name": "stderr",
     "output_type": "stream",
     "text": [
      "Warning message in Ops.factor(left):\n",
      "\"'-' not meaningful for factors\""
     ]
    },
    {
     "data": {
      "text/html": [
       "<table>\n",
       "<thead><tr><th></th><th scope=col>meanImp</th><th scope=col>decision</th></tr></thead>\n",
       "<tbody>\n",
       "\t<tr><th scope=row>macd0720</th><td>41.10740 </td><td>Confirmed</td></tr>\n",
       "\t<tr><th scope=row>signal5</th><td>37.60644 </td><td>Confirmed</td></tr>\n",
       "\t<tr><th scope=row>rsi14</th><td>28.90852 </td><td>Confirmed</td></tr>\n",
       "\t<tr><th scope=row>macd1226</th><td>27.35289 </td><td>Confirmed</td></tr>\n",
       "\t<tr><th scope=row>histogram9</th><td>26.03384 </td><td>Confirmed</td></tr>\n",
       "\t<tr><th scope=row>rsi5</th><td>24.50146 </td><td>Confirmed</td></tr>\n",
       "</tbody>\n",
       "</table>\n"
      ],
      "text/latex": [
       "\\begin{tabular}{r|ll}\n",
       "  & meanImp & decision\\\\\n",
       "\\hline\n",
       "\tmacd0720 & 41.10740  & Confirmed\\\\\n",
       "\tsignal5 & 37.60644  & Confirmed\\\\\n",
       "\trsi14 & 28.90852  & Confirmed\\\\\n",
       "\tmacd1226 & 27.35289  & Confirmed\\\\\n",
       "\thistogram9 & 26.03384  & Confirmed\\\\\n",
       "\trsi5 & 24.50146  & Confirmed\\\\\n",
       "\\end{tabular}\n"
      ],
      "text/markdown": [
       "\n",
       "| <!--/--> | meanImp | decision |\n",
       "|---|---|---|\n",
       "| macd0720 | 41.10740  | Confirmed |\n",
       "| signal5 | 37.60644  | Confirmed |\n",
       "| rsi14 | 28.90852  | Confirmed |\n",
       "| macd1226 | 27.35289  | Confirmed |\n",
       "| histogram9 | 26.03384  | Confirmed |\n",
       "| rsi5 | 24.50146  | Confirmed |\n",
       "\n"
      ],
      "text/plain": [
       "           meanImp  decision \n",
       "macd0720   41.10740 Confirmed\n",
       "signal5    37.60644 Confirmed\n",
       "rsi14      28.90852 Confirmed\n",
       "macd1226   27.35289 Confirmed\n",
       "histogram9 26.03384 Confirmed\n",
       "rsi5       24.50146 Confirmed"
      ]
     },
     "metadata": {},
     "output_type": "display_data"
    }
   ],
   "source": [
    "# Score de importância das variáveis\n",
    "smllboruta_imp <- attStats(smllroughfixmod)\n",
    "smllboruta_imp2 <- smllboruta_imp[smllboruta_imp$decision != 'Rejected', c('meanImp', 'decision')]\n",
    "\n",
    "# Exibição por ordem decrescente de importância\n",
    "head(smllboruta_imp2[order(-smllboruta_imp2),])"
   ]
  },
  {
   "cell_type": "code",
   "execution_count": 63,
   "metadata": {},
   "outputs": [
    {
     "data": {
      "image/png": "[encoded data removed]",
      "text/plain": [
       "Plot with title \"Variable Importance\""
      ]
     },
     "metadata": {},
     "output_type": "display_data"
    }
   ],
   "source": [
    "# Análise Gráfica\n",
    "plot(smllboruta_output, cex.axis=.7, las=2, xlab=\"\", main=\"Variable Importance\")  "
   ]
  },
  {
   "cell_type": "markdown",
   "metadata": {},
   "source": [
    "Colunas em verde são as variáveis \"confirmadas\" e as barras em azul representam (ShadowMax e ShadowMin => utilizados no algoritmo para decidir se uma variável é importante ou não)."
   ]
  },
  {
   "cell_type": "markdown",
   "metadata": {},
   "source": [
    "# Etapa 8: Predição"
   ]
  },
  {
   "cell_type": "markdown",
   "metadata": {},
   "source": [
    "## 1. Separação dos dados de treino e teste"
   ]
  },
  {
   "cell_type": "code",
   "execution_count": 64,
   "metadata": {},
   "outputs": [
    {
     "name": "stderr",
     "output_type": "stream",
     "text": [
      "Warning message:\n",
      "\"package 'keras' was built under R version 3.6.3\""
     ]
    }
   ],
   "source": [
    "# Biblioteca(s) Necessária(s)\n",
    "library(keras)"
   ]
  },
  {
   "cell_type": "markdown",
   "metadata": {},
   "source": [
    "**Dataframe \"BVSP\"**"
   ]
  },
  {
   "cell_type": "code",
   "execution_count": 65,
   "metadata": {},
   "outputs": [],
   "source": [
    "# Determinação do tamanho da amostra\n",
    "smllsplit <- sample(2, nrow(smllz), replace=TRUE, prob=c(0.70, 0.30))\n",
    "\n",
    "# 0.70 de probabilidade dos dados como de treino e com 0.30 de probabilidade dos dados como de teste"
   ]
  },
  {
   "cell_type": "code",
   "execution_count": 66,
   "metadata": {
    "scrolled": true
   },
   "outputs": [],
   "source": [
    "# Separação das amostras (índice 1 = treino e indice 2 = teste)\n",
    "smlltrain <- smllz[smllsplit == 1,]\n",
    "smlltest <- smllz[smllsplit == 2,]"
   ]
  },
  {
   "cell_type": "code",
   "execution_count": 67,
   "metadata": {},
   "outputs": [
    {
     "data": {
      "text/html": [
       "<ol class=list-inline>\n",
       "\t<li>3784</li>\n",
       "\t<li>17</li>\n",
       "</ol>\n"
      ],
      "text/latex": [
       "\\begin{enumerate*}\n",
       "\\item 3784\n",
       "\\item 17\n",
       "\\end{enumerate*}\n"
      ],
      "text/markdown": [
       "1. 3784\n",
       "2. 17\n",
       "\n",
       "\n"
      ],
      "text/plain": [
       "[1] 3784   17"
      ]
     },
     "metadata": {},
     "output_type": "display_data"
    },
    {
     "data": {
      "text/html": [
       "<ol class=list-inline>\n",
       "\t<li>2663</li>\n",
       "\t<li>17</li>\n",
       "</ol>\n"
      ],
      "text/latex": [
       "\\begin{enumerate*}\n",
       "\\item 2663\n",
       "\\item 17\n",
       "\\end{enumerate*}\n"
      ],
      "text/markdown": [
       "1. 2663\n",
       "2. 17\n",
       "\n",
       "\n"
      ],
      "text/plain": [
       "[1] 2663   17"
      ]
     },
     "metadata": {},
     "output_type": "display_data"
    },
    {
     "data": {
      "text/html": [
       "<ol class=list-inline>\n",
       "\t<li>1121</li>\n",
       "\t<li>17</li>\n",
       "</ol>\n"
      ],
      "text/latex": [
       "\\begin{enumerate*}\n",
       "\\item 1121\n",
       "\\item 17\n",
       "\\end{enumerate*}\n"
      ],
      "text/markdown": [
       "1. 1121\n",
       "2. 17\n",
       "\n",
       "\n"
      ],
      "text/plain": [
       "[1] 1121   17"
      ]
     },
     "metadata": {},
     "output_type": "display_data"
    }
   ],
   "source": [
    "dim(smllz)\n",
    "dim(smlltrain)\n",
    "dim(smlltest)"
   ]
  },
  {
   "cell_type": "markdown",
   "metadata": {},
   "source": [
    "## 2. Regressão Logística"
   ]
  },
  {
   "cell_type": "code",
   "execution_count": 68,
   "metadata": {},
   "outputs": [],
   "source": [
    "# Criação de uma fórmula que tem \"Direction\" como variável dependente e todas as demais como variáveis independentes\n",
    "formula <- paste(\"direction ~.\", sep = \"\")"
   ]
  },
  {
   "cell_type": "markdown",
   "metadata": {},
   "source": [
    "**Construção do modelo**"
   ]
  },
  {
   "cell_type": "code",
   "execution_count": 69,
   "metadata": {},
   "outputs": [
    {
     "name": "stderr",
     "output_type": "stream",
     "text": [
      "Warning message:\n",
      "\"glm.fit: fitted probabilities numerically 0 or 1 occurred\""
     ]
    },
    {
     "data": {
      "text/plain": [
       "\n",
       "Call:\n",
       "glm(formula = formula, family = binomial, data = smlltrain[, \n",
       "    -17])\n",
       "\n",
       "Deviance Residuals: \n",
       "    Min       1Q   Median       3Q      Max  \n",
       "-4.8353  -0.1646   0.0048   0.2115   3.4530  \n",
       "\n",
       "Coefficients: (2 not defined because of singularities)\n",
       "              Estimate Std. Error z value Pr(>|z|)    \n",
       "(Intercept)  5.789e+01  1.112e+03   0.052   0.9585    \n",
       "data        -7.752e-11  8.993e-10  -0.086   0.9313    \n",
       "close        1.045e+02  8.855e+00  11.804  < 2e-16 ***\n",
       "avg10       -2.004e+01  9.677e+00  -2.071   0.0384 *  \n",
       "avg20       -8.487e+01  9.599e+00  -8.842  < 2e-16 ***\n",
       "std10        6.886e+00  8.477e+00   0.812   0.4166    \n",
       "std20        1.509e+01  8.723e+00   1.730   0.0837 .  \n",
       "rsi14       -4.169e+01  7.048e+00  -5.915 3.31e-09 ***\n",
       "rsi5         1.125e+01  2.693e+00   4.177 2.96e-05 ***\n",
       "macd1226    -2.578e+02  2.119e+03  -0.122   0.9031    \n",
       "signal9      1.368e+02  2.119e+03   0.065   0.9485    \n",
       "histogram9   5.721e+01  2.119e+03   0.027   0.9785    \n",
       "macd0720    -2.933e+02  4.986e+01  -5.881 4.07e-09 ***\n",
       "signal5      4.707e+02  4.594e+01  10.246  < 2e-16 ***\n",
       "histogram5          NA         NA      NA       NA    \n",
       "bbands              NA         NA      NA       NA    \n",
       "---\n",
       "Signif. codes:  0 '***' 0.001 '**' 0.01 '*' 0.05 '.' 0.1 ' ' 1\n",
       "\n",
       "(Dispersion parameter for binomial family taken to be 1)\n",
       "\n",
       "    Null deviance: 3621.6  on 2662  degrees of freedom\n",
       "Residual deviance: 1127.2  on 2649  degrees of freedom\n",
       "AIC: 1155.2\n",
       "\n",
       "Number of Fisher Scoring iterations: 8\n"
      ]
     },
     "metadata": {},
     "output_type": "display_data"
    }
   ],
   "source": [
    "# Utilização de um modelo linear generalizado para ajustar o modelo\n",
    "smllmodel <- glm(formula, smlltrain[,-17], family = binomial)\n",
    "\n",
    "summary(smllmodel) "
   ]
  },
  {
   "cell_type": "code",
   "execution_count": 70,
   "metadata": {},
   "outputs": [
    {
     "name": "stderr",
     "output_type": "stream",
     "text": [
      "Warning message in predict.lm(object, newdata, se.fit, scale = 1, type = if (type == :\n",
      "\"prediction from a rank-deficient fit may be misleading\""
     ]
    }
   ],
   "source": [
    "# Ajustamento dos valores no mesmo conjunto de dados utilizados para estimar o valor melhor ajustado.\n",
    "smllpred <- predict(smllmodel, smlltrain[,-17])"
   ]
  },
  {
   "cell_type": "markdown",
   "metadata": {},
   "source": [
    "**Conversão dos valores ajustados em probabilidade**"
   ]
  },
  {
   "cell_type": "code",
   "execution_count": 71,
   "metadata": {},
   "outputs": [
    {
     "data": {
      "text/html": [
       "<dl class=dl-horizontal>\n",
       "\t<dt>1</dt>\n",
       "\t\t<dd>6.22224142631063e-32</dd>\n",
       "\t<dt>2</dt>\n",
       "\t\t<dd>4.93473069350936e-16</dd>\n",
       "\t<dt>3</dt>\n",
       "\t\t<dd>1.3644339627645e-11</dd>\n",
       "\t<dt>4</dt>\n",
       "\t\t<dd>2.16584996363605e-08</dd>\n",
       "\t<dt>5</dt>\n",
       "\t\t<dd>1.35057162857144e-06</dd>\n",
       "\t<dt>7</dt>\n",
       "\t\t<dd>0.00512618902420824</dd>\n",
       "</dl>\n"
      ],
      "text/latex": [
       "\\begin{description*}\n",
       "\\item[1] 6.22224142631063e-32\n",
       "\\item[2] 4.93473069350936e-16\n",
       "\\item[3] 1.3644339627645e-11\n",
       "\\item[4] 2.16584996363605e-08\n",
       "\\item[5] 1.35057162857144e-06\n",
       "\\item[7] 0.00512618902420824\n",
       "\\end{description*}\n"
      ],
      "text/markdown": [
       "1\n",
       ":   6.22224142631063e-322\n",
       ":   4.93473069350936e-163\n",
       ":   1.3644339627645e-114\n",
       ":   2.16584996363605e-085\n",
       ":   1.35057162857144e-067\n",
       ":   0.00512618902420824\n",
       "\n"
      ],
      "text/plain": [
       "           1            2            3            4            5            7 \n",
       "6.222241e-32 4.934731e-16 1.364434e-11 2.165850e-08 1.350572e-06 5.126189e-03 "
      ]
     },
     "metadata": {},
     "output_type": "display_data"
    }
   ],
   "source": [
    "# Conversão do output em uma forma probabilistica, que estará no intervalo [0,1]\n",
    "smllprob <- 1 / (1+exp(-(smllpred)))\n",
    "\n",
    "head(smllprob)   "
   ]
  },
  {
   "cell_type": "code",
   "execution_count": 72,
   "metadata": {},
   "outputs": [
    {
     "data": {
      "image/png": "[encoded data removed]",
      "text/plain": [
       "plot without title"
      ]
     },
     "metadata": {},
     "output_type": "display_data"
    }
   ],
   "source": [
    "# Análise gráfica\n",
    "par(mfrow = c(2,1))              \n",
    "\n",
    "# Figura 1: previsão do modelo\n",
    "plot(smllpred, type = \"l\")           \n",
    "\n",
    "# Figura 2: probabilidade do modelo\n",
    "plot(smllprob, type = \"l\")"
   ]
  },
  {
   "cell_type": "markdown",
   "metadata": {},
   "source": [
    "**Classificação das probabilidades em 2 classes (1 = direção \"Up\" e 0 = direção \"Down\")**"
   ]
  },
  {
   "cell_type": "code",
   "execution_count": 73,
   "metadata": {},
   "outputs": [],
   "source": [
    "smllpred_directionin <- NULL\n",
    "\n",
    "# Direção para cima (Up)\n",
    "smllpred_directionin[smllprob > 0.5] <- 1    \n",
    "\n",
    "# Direção para baixo (Down)\n",
    "smllpred_directionin[smllprob <= 0.5] <- 0"
   ]
  },
  {
   "cell_type": "markdown",
   "metadata": {},
   "source": [
    "**Verificação da acurácia do modelo**"
   ]
  },
  {
   "cell_type": "code",
   "execution_count": 74,
   "metadata": {},
   "outputs": [
    {
     "name": "stderr",
     "output_type": "stream",
     "text": [
      "Warning message:\n",
      "\"package 'e1071' was built under R version 3.6.3\"\n",
      "Attaching package: 'e1071'\n",
      "\n",
      "The following objects are masked from 'package:moments':\n",
      "\n",
      "    kurtosis, moment, skewness\n",
      "\n"
     ]
    }
   ],
   "source": [
    "# Biblioteca(s) Necessária(s)\n",
    "library(caret)\n",
    "library(e1071)"
   ]
  },
  {
   "cell_type": "code",
   "execution_count": 75,
   "metadata": {},
   "outputs": [
    {
     "data": {
      "text/plain": [
       "Confusion Matrix and Statistics\n",
       "\n",
       "                    \n",
       "smllpred_directionin    0    1\n",
       "                   0  988  107\n",
       "                   1  128 1440\n",
       "                                          \n",
       "               Accuracy : 0.9118          \n",
       "                 95% CI : (0.9003, 0.9223)\n",
       "    No Information Rate : 0.5809          \n",
       "    P-Value [Acc > NIR] : <2e-16          \n",
       "                                          \n",
       "                  Kappa : 0.8183          \n",
       "                                          \n",
       " Mcnemar's Test P-Value : 0.192           \n",
       "                                          \n",
       "            Sensitivity : 0.8853          \n",
       "            Specificity : 0.9308          \n",
       "         Pos Pred Value : 0.9023          \n",
       "         Neg Pred Value : 0.9184          \n",
       "             Prevalence : 0.4191          \n",
       "         Detection Rate : 0.3710          \n",
       "   Detection Prevalence : 0.4112          \n",
       "      Balanced Accuracy : 0.9081          \n",
       "                                          \n",
       "       'Positive' Class : 0               \n",
       "                                          "
      ]
     },
     "metadata": {},
     "output_type": "display_data"
    }
   ],
   "source": [
    "# Matriz de Confusão\n",
    "confusionMatrix(table(smllpred_directionin, smlltrain$direction))"
   ]
  },
  {
   "cell_type": "markdown",
   "metadata": {},
   "source": [
    "**Curva ROC 1**"
   ]
  },
  {
   "cell_type": "code",
   "execution_count": 76,
   "metadata": {},
   "outputs": [
    {
     "name": "stderr",
     "output_type": "stream",
     "text": [
      "Warning message:\n",
      "\"package 'PRROC' was built under R version 3.6.3\""
     ]
    }
   ],
   "source": [
    "# Biblioteca(s) Necessária(s)\n",
    "library(PRROC)"
   ]
  },
  {
   "cell_type": "code",
   "execution_count": 77,
   "metadata": {},
   "outputs": [
    {
     "data": {
      "image/png": "[encoded data removed]",
      "text/plain": [
       "Plot with title \"ROC curve\n",
       "AUC = 0.9080693\""
      ]
     },
     "metadata": {},
     "output_type": "display_data"
    }
   ],
   "source": [
    "plot(roc.curve(scores.class0 = smllpred_directionin, weights.class0=smlltrain$direction, curve=TRUE))"
   ]
  },
  {
   "cell_type": "markdown",
   "metadata": {},
   "source": [
    "**Curva ROC 2**"
   ]
  },
  {
   "cell_type": "code",
   "execution_count": 78,
   "metadata": {},
   "outputs": [
    {
     "name": "stderr",
     "output_type": "stream",
     "text": [
      "Warning message:\n",
      "\"package 'precrec' was built under R version 3.6.3\""
     ]
    }
   ],
   "source": [
    "# Biblioteca(s) Necessária(s)\n",
    "library(precrec)"
   ]
  },
  {
   "cell_type": "code",
   "execution_count": 79,
   "metadata": {},
   "outputs": [
    {
     "data": {
      "image/png": "[encoded data removed]",
      "text/plain": [
       "plot without title"
      ]
     },
     "metadata": {},
     "output_type": "display_data"
    }
   ],
   "source": [
    "smllprecrecin <- evalmod(scores = smllpred_directionin, labels = smlltrain$direction)\n",
    "autoplot(smllprecrecin)"
   ]
  },
  {
   "cell_type": "code",
   "execution_count": 80,
   "metadata": {},
   "outputs": [
    {
     "data": {
      "image/png": "[encoded data removed]",
      "text/plain": [
       "plot without title"
      ]
     },
     "metadata": {},
     "output_type": "display_data"
    }
   ],
   "source": [
    "smllprecrecin2 <- evalmod(scores = smllpred_directionin, labels = smlltrain$direction, mode=\"basic\")\n",
    "autoplot(smllprecrecin2)"
   ]
  },
  {
   "cell_type": "markdown",
   "metadata": {},
   "source": [
    "**Análise para os dados de teste**"
   ]
  },
  {
   "cell_type": "code",
   "execution_count": 81,
   "metadata": {},
   "outputs": [
    {
     "name": "stderr",
     "output_type": "stream",
     "text": [
      "Warning message in predict.lm(object, newdata, se.fit, scale = 1, type = if (type == :\n",
      "\"prediction from a rank-deficient fit may be misleading\""
     ]
    }
   ],
   "source": [
    "# Ajustamento do modelo\n",
    "smllpredout <- predict(smllmodel, smlltest[,-17])"
   ]
  },
  {
   "cell_type": "code",
   "execution_count": 82,
   "metadata": {},
   "outputs": [
    {
     "data": {
      "text/html": [
       "<dl class=dl-horizontal>\n",
       "\t<dt>6</dt>\n",
       "\t\t<dd>0.000208966665241744</dd>\n",
       "\t<dt>8</dt>\n",
       "\t\t<dd>0.0669477416269315</dd>\n",
       "\t<dt>14</dt>\n",
       "\t\t<dd>0.5397357770244</dd>\n",
       "\t<dt>21</dt>\n",
       "\t\t<dd>0.757509972722519</dd>\n",
       "\t<dt>23</dt>\n",
       "\t\t<dd>0.648744669012496</dd>\n",
       "\t<dt>29</dt>\n",
       "\t\t<dd>0.768075856252905</dd>\n",
       "</dl>\n"
      ],
      "text/latex": [
       "\\begin{description*}\n",
       "\\item[6] 0.000208966665241744\n",
       "\\item[8] 0.0669477416269315\n",
       "\\item[14] 0.5397357770244\n",
       "\\item[21] 0.757509972722519\n",
       "\\item[23] 0.648744669012496\n",
       "\\item[29] 0.768075856252905\n",
       "\\end{description*}\n"
      ],
      "text/markdown": [
       "6\n",
       ":   0.0002089666652417448\n",
       ":   0.066947741626931514\n",
       ":   0.539735777024421\n",
       ":   0.75750997272251923\n",
       ":   0.64874466901249629\n",
       ":   0.768075856252905\n",
       "\n"
      ],
      "text/plain": [
       "           6            8           14           21           23           29 \n",
       "0.0002089667 0.0669477416 0.5397357770 0.7575099727 0.6487446690 0.7680758563 "
      ]
     },
     "metadata": {},
     "output_type": "display_data"
    }
   ],
   "source": [
    "# Conversão do output em uma forma probabilistica\n",
    "smllprobout <- 1 / (1+exp(-(smllpredout)))\n",
    "\n",
    "head(smllprobout)  "
   ]
  },
  {
   "cell_type": "code",
   "execution_count": 83,
   "metadata": {},
   "outputs": [],
   "source": [
    "# Classificação das probabilidades\n",
    "smllpred_directionout <- NULL\n",
    "\n",
    "# Direção para cima (Up)\n",
    "smllpred_directionout[smllprobout > 0.5] <- 1    \n",
    "\n",
    "# Direção para baixo (Down)\n",
    "smllpred_directionout[smllprobout <= 0.5] <- 0"
   ]
  },
  {
   "cell_type": "code",
   "execution_count": 84,
   "metadata": {},
   "outputs": [
    {
     "data": {
      "text/plain": [
       "Confusion Matrix and Statistics\n",
       "\n",
       "                     \n",
       "smllpred_directionout   0   1\n",
       "                    0 401  55\n",
       "                    1  58 607\n",
       "                                          \n",
       "               Accuracy : 0.8992          \n",
       "                 95% CI : (0.8801, 0.9162)\n",
       "    No Information Rate : 0.5905          \n",
       "    P-Value [Acc > NIR] : <2e-16          \n",
       "                                          \n",
       "                  Kappa : 0.7913          \n",
       "                                          \n",
       " Mcnemar's Test P-Value : 0.8508          \n",
       "                                          \n",
       "            Sensitivity : 0.8736          \n",
       "            Specificity : 0.9169          \n",
       "         Pos Pred Value : 0.8794          \n",
       "         Neg Pred Value : 0.9128          \n",
       "             Prevalence : 0.4095          \n",
       "         Detection Rate : 0.3577          \n",
       "   Detection Prevalence : 0.4068          \n",
       "      Balanced Accuracy : 0.8953          \n",
       "                                          \n",
       "       'Positive' Class : 0               \n",
       "                                          "
      ]
     },
     "metadata": {},
     "output_type": "display_data"
    }
   ],
   "source": [
    "# Matriz de Confusão\n",
    "confusionMatrix(table(smllpred_directionout, smlltest$direction))"
   ]
  },
  {
   "cell_type": "markdown",
   "metadata": {},
   "source": [
    "**Curva ROC 1**"
   ]
  },
  {
   "cell_type": "code",
   "execution_count": 85,
   "metadata": {},
   "outputs": [
    {
     "data": {
      "image/png": "[encoded data removed]",
      "text/plain": [
       "Plot with title \"ROC curve\n",
       "AUC = 0.8952784\""
      ]
     },
     "metadata": {},
     "output_type": "display_data"
    }
   ],
   "source": [
    "plot(roc.curve(scores.class0 = smllpred_directionout, weights.class0=smlltest$direction, curve=TRUE))"
   ]
  },
  {
   "cell_type": "markdown",
   "metadata": {},
   "source": [
    "**Curva ROC 2**"
   ]
  },
  {
   "cell_type": "code",
   "execution_count": 86,
   "metadata": {},
   "outputs": [
    {
     "data": {
      "image/png": "[encoded data removed]",
      "text/plain": [
       "plot without title"
      ]
     },
     "metadata": {},
     "output_type": "display_data"
    }
   ],
   "source": [
    "smllprecrecout <- evalmod(scores = smllpred_directionout, labels = smlltest$direction)\n",
    "autoplot(smllprecrecout)"
   ]
  },
  {
   "cell_type": "code",
   "execution_count": 87,
   "metadata": {},
   "outputs": [
    {
     "data": {
      "image/png": "[encoded data removed]",
      "text/plain": [
       "plot without title"
      ]
     },
     "metadata": {},
     "output_type": "display_data"
    }
   ],
   "source": [
    "smllprecrecout <- evalmod(scores = smllpred_directionout, labels = smlltest$direction, mode=\"basic\")\n",
    "autoplot(smllprecrecout)"
   ]
  },
  {
   "cell_type": "markdown",
   "metadata": {},
   "source": [
    "## 3. Algoritmo K-means"
   ]
  },
  {
   "cell_type": "code",
   "execution_count": 88,
   "metadata": {},
   "outputs": [],
   "source": [
    "# Definição do número de clusters\n",
    "cluster <- 2\n",
    "set.seed(1)\n",
    "\n",
    "# O número de clusters corresponde ao número de direções (up = 1, down = 0)"
   ]
  },
  {
   "cell_type": "markdown",
   "metadata": {},
   "source": [
    "**Remoção das colunas de rótulo**"
   ]
  },
  {
   "cell_type": "markdown",
   "metadata": {},
   "source": [
    "K-means é um algoritmo do tipo não supervisionado (não trabalha com dados rotulados) e os atributos \"direction\" e \"dirret\" funcionam como rótulos.\n",
    "\n",
    "Rótulos não são desejáveis para algorítmos não supervisionados."
   ]
  },
  {
   "cell_type": "code",
   "execution_count": 89,
   "metadata": {},
   "outputs": [],
   "source": [
    "smlltrain2 <- smlltrain[,-c(16,17)]\n",
    "smlltest2 <- smlltest[,-c(16,17)]"
   ]
  },
  {
   "cell_type": "markdown",
   "metadata": {},
   "source": [
    "**Execução do algoritmo**"
   ]
  },
  {
   "cell_type": "code",
   "execution_count": 90,
   "metadata": {},
   "outputs": [
    {
     "data": {
      "text/html": [
       "<dl class=dl-horizontal>\n",
       "\t<dt>1</dt>\n",
       "\t\t<dd>2</dd>\n",
       "\t<dt>2</dt>\n",
       "\t\t<dd>2</dd>\n",
       "\t<dt>3</dt>\n",
       "\t\t<dd>2</dd>\n",
       "\t<dt>4</dt>\n",
       "\t\t<dd>2</dd>\n",
       "\t<dt>5</dt>\n",
       "\t\t<dd>2</dd>\n",
       "\t<dt>7</dt>\n",
       "\t\t<dd>2</dd>\n",
       "</dl>\n"
      ],
      "text/latex": [
       "\\begin{description*}\n",
       "\\item[1] 2\n",
       "\\item[2] 2\n",
       "\\item[3] 2\n",
       "\\item[4] 2\n",
       "\\item[5] 2\n",
       "\\item[7] 2\n",
       "\\end{description*}\n"
      ],
      "text/markdown": [
       "1\n",
       ":   22\n",
       ":   23\n",
       ":   24\n",
       ":   25\n",
       ":   27\n",
       ":   2\n",
       "\n"
      ],
      "text/plain": [
       "1 2 3 4 5 7 \n",
       "2 2 2 2 2 2 "
      ]
     },
     "metadata": {},
     "output_type": "display_data"
    }
   ],
   "source": [
    "smllmodel2 <- kmeans(smlltrain2[,-1], cluster)\n",
    "\n",
    "head(smllmodel2$cluster)"
   ]
  },
  {
   "cell_type": "code",
   "execution_count": 91,
   "metadata": {},
   "outputs": [
    {
     "data": {
      "text/html": [
       "<table>\n",
       "<thead><tr><th scope=col>close</th><th scope=col>avg10</th><th scope=col>avg20</th><th scope=col>std10</th><th scope=col>std20</th><th scope=col>rsi14</th><th scope=col>rsi5</th><th scope=col>macd1226</th><th scope=col>signal9</th><th scope=col>histogram9</th><th scope=col>macd0720</th><th scope=col>signal5</th><th scope=col>histogram5</th><th scope=col>bbands</th></tr></thead>\n",
       "<tbody>\n",
       "\t<tr><td>3.222626  </td><td>3.202052  </td><td>3.182101  </td><td>-0.4527194</td><td>-0.4196081</td><td>-0.4219727</td><td>-0.422699 </td><td>-0.4992893</td><td>-0.4981522</td><td>-0.5250833</td><td>-0.5011277</td><td>-0.5005797</td><td>-0.5255880</td><td>-0.1033126</td></tr>\n",
       "\t<tr><td>1.423314  </td><td>1.420512  </td><td>1.417822  </td><td>-0.4939850</td><td>-0.4807382</td><td>-0.4302400</td><td>-0.426337 </td><td>-0.5193954</td><td>-0.5197254</td><td>-0.5248797</td><td>-0.5208816</td><td>-0.5208840</td><td>-0.5250376</td><td>-0.3478332</td></tr>\n",
       "</tbody>\n",
       "</table>\n"
      ],
      "text/latex": [
       "\\begin{tabular}{r|llllllllllllll}\n",
       " close & avg10 & avg20 & std10 & std20 & rsi14 & rsi5 & macd1226 & signal9 & histogram9 & macd0720 & signal5 & histogram5 & bbands\\\\\n",
       "\\hline\n",
       "\t 3.222626   & 3.202052   & 3.182101   & -0.4527194 & -0.4196081 & -0.4219727 & -0.422699  & -0.4992893 & -0.4981522 & -0.5250833 & -0.5011277 & -0.5005797 & -0.5255880 & -0.1033126\\\\\n",
       "\t 1.423314   & 1.420512   & 1.417822   & -0.4939850 & -0.4807382 & -0.4302400 & -0.426337  & -0.5193954 & -0.5197254 & -0.5248797 & -0.5208816 & -0.5208840 & -0.5250376 & -0.3478332\\\\\n",
       "\\end{tabular}\n"
      ],
      "text/markdown": [
       "\n",
       "| close | avg10 | avg20 | std10 | std20 | rsi14 | rsi5 | macd1226 | signal9 | histogram9 | macd0720 | signal5 | histogram5 | bbands |\n",
       "|---|---|---|---|---|---|---|---|---|---|---|---|---|---|\n",
       "| 3.222626   | 3.202052   | 3.182101   | -0.4527194 | -0.4196081 | -0.4219727 | -0.422699  | -0.4992893 | -0.4981522 | -0.5250833 | -0.5011277 | -0.5005797 | -0.5255880 | -0.1033126 |\n",
       "| 1.423314   | 1.420512   | 1.417822   | -0.4939850 | -0.4807382 | -0.4302400 | -0.426337  | -0.5193954 | -0.5197254 | -0.5248797 | -0.5208816 | -0.5208840 | -0.5250376 | -0.3478332 |\n",
       "\n"
      ],
      "text/plain": [
       "  close    avg10    avg20    std10      std20      rsi14      rsi5     \n",
       "1 3.222626 3.202052 3.182101 -0.4527194 -0.4196081 -0.4219727 -0.422699\n",
       "2 1.423314 1.420512 1.417822 -0.4939850 -0.4807382 -0.4302400 -0.426337\n",
       "  macd1226   signal9    histogram9 macd0720   signal5    histogram5 bbands    \n",
       "1 -0.4992893 -0.4981522 -0.5250833 -0.5011277 -0.5005797 -0.5255880 -0.1033126\n",
       "2 -0.5193954 -0.5197254 -0.5248797 -0.5208816 -0.5208840 -0.5250376 -0.3478332"
      ]
     },
     "metadata": {},
     "output_type": "display_data"
    }
   ],
   "source": [
    "# Extração do centróides finais dos cluesters (Centros finais do cluster)\n",
    "smllmodel2$center"
   ]
  },
  {
   "cell_type": "code",
   "execution_count": 92,
   "metadata": {},
   "outputs": [
    {
     "data": {
      "text/html": [
       "<ol class=list-inline>\n",
       "\t<li>471</li>\n",
       "\t<li>2192</li>\n",
       "</ol>\n"
      ],
      "text/latex": [
       "\\begin{enumerate*}\n",
       "\\item 471\n",
       "\\item 2192\n",
       "\\end{enumerate*}\n"
      ],
      "text/markdown": [
       "1. 471\n",
       "2. 2192\n",
       "\n",
       "\n"
      ],
      "text/plain": [
       "[1]  471 2192"
      ]
     },
     "metadata": {},
     "output_type": "display_data"
    }
   ],
   "source": [
    "# Extração do número de pontos de dados de cada cluster    \n",
    "smllmodel2$size"
   ]
  },
  {
   "cell_type": "markdown",
   "metadata": {},
   "source": [
    "**Verificação da acurácia do modelo**"
   ]
  },
  {
   "cell_type": "code",
   "execution_count": 93,
   "metadata": {},
   "outputs": [
    {
     "data": {
      "text/html": [
       "2472.81"
      ],
      "text/latex": [
       "2472.81"
      ],
      "text/markdown": [
       "2472.81"
      ],
      "text/plain": [
       "[1] 2472.81"
      ]
     },
     "metadata": {},
     "output_type": "display_data"
    }
   ],
   "source": [
    "# Cálculo da soma dos quadrados entre clusters\n",
    "round(smllmodel2$tot.withinss, digits = 2)"
   ]
  },
  {
   "cell_type": "code",
   "execution_count": 94,
   "metadata": {},
   "outputs": [
    {
     "data": {
      "text/html": [
       "6191.22"
      ],
      "text/latex": [
       "6191.22"
      ],
      "text/markdown": [
       "6191.22"
      ],
      "text/plain": [
       "[1] 6191.22"
      ]
     },
     "metadata": {},
     "output_type": "display_data"
    }
   ],
   "source": [
    "# Cálculo da soma total dos quadrados\n",
    "round(smllmodel2$totss, digits = 2)"
   ]
  },
  {
   "cell_type": "code",
   "execution_count": 95,
   "metadata": {},
   "outputs": [
    {
     "data": {
      "text/html": [
       "0.4"
      ],
      "text/latex": [
       "0.4"
      ],
      "text/markdown": [
       "0.4"
      ],
      "text/plain": [
       "[1] 0.4"
      ]
     },
     "metadata": {},
     "output_type": "display_data"
    }
   ],
   "source": [
    "# Acurácia = Soma dos quadrados entre os Clusters / Soma Total dos quadrados \n",
    "round(smllmodel2$tot.withinss/smllmodel2$totss, digits = 2)"
   ]
  },
  {
   "cell_type": "markdown",
   "metadata": {},
   "source": [
    "A acurácia do modelo não é satisfatória."
   ]
  },
  {
   "cell_type": "markdown",
   "metadata": {},
   "source": [
    "**Previsão**"
   ]
  },
  {
   "cell_type": "code",
   "execution_count": 96,
   "metadata": {},
   "outputs": [
    {
     "name": "stderr",
     "output_type": "stream",
     "text": [
      "Warning message:\n",
      "\"package 'clue' was built under R version 3.6.3\""
     ]
    }
   ],
   "source": [
    "# Biblioteca(s) Necessária(s)\n",
    "library(clue)"
   ]
  },
  {
   "cell_type": "code",
   "execution_count": 97,
   "metadata": {},
   "outputs": [
    {
     "data": {
      "text/html": [
       "<ol class=list-inline>\n",
       "\t<li>2</li>\n",
       "\t<li>2</li>\n",
       "\t<li>2</li>\n",
       "\t<li>2</li>\n",
       "\t<li>2</li>\n",
       "\t<li>2</li>\n",
       "</ol>\n"
      ],
      "text/latex": [
       "\\begin{enumerate*}\n",
       "\\item 2\n",
       "\\item 2\n",
       "\\item 2\n",
       "\\item 2\n",
       "\\item 2\n",
       "\\item 2\n",
       "\\end{enumerate*}\n"
      ],
      "text/markdown": [
       "1. 2\n",
       "2. 2\n",
       "3. 2\n",
       "4. 2\n",
       "5. 2\n",
       "6. 2\n",
       "\n",
       "\n"
      ],
      "text/plain": [
       "[1] 2 2 2 2 2 2"
      ]
     },
     "metadata": {},
     "output_type": "display_data"
    }
   ],
   "source": [
    "smllpredkm <- cl_predict(smllmodel2, smlltest2[,-1])\n",
    "head(smllpredkm)"
   ]
  },
  {
   "cell_type": "markdown",
   "metadata": {},
   "source": [
    "# 4. Árvore de decisão"
   ]
  },
  {
   "cell_type": "code",
   "execution_count": 98,
   "metadata": {},
   "outputs": [
    {
     "name": "stderr",
     "output_type": "stream",
     "text": [
      "Warning message:\n",
      "\"package 'rpart.plot' was built under R version 3.6.3\""
     ]
    }
   ],
   "source": [
    "# Biblioteca(s) Necessária(s)\n",
    "library(rpart) \n",
    "library(rpart.plot)"
   ]
  },
  {
   "cell_type": "code",
   "execution_count": 99,
   "metadata": {},
   "outputs": [],
   "source": [
    "# Criação da árvore de decisão\n",
    "smllmodel3 <- rpart(formula, smlltrain, method = \"class\")"
   ]
  },
  {
   "cell_type": "code",
   "execution_count": 100,
   "metadata": {},
   "outputs": [
    {
     "data": {
      "image/png": "[encoded data removed]",
      "text/plain": [
       "plot without title"
      ]
     },
     "metadata": {},
     "output_type": "display_data"
    }
   ],
   "source": [
    "# Criação da árvore gráfica\n",
    "rpart.plot(smllmodel3, type = 0, extra = 106, tweak = 1) "
   ]
  },
  {
   "cell_type": "code",
   "execution_count": 101,
   "metadata": {},
   "outputs": [
    {
     "data": {
      "text/html": [
       "<table>\n",
       "<thead><tr><th></th><th scope=col>Overall</th></tr></thead>\n",
       "<tbody>\n",
       "\t<tr><th scope=row>close</th><td>  3.962992</td></tr>\n",
       "\t<tr><th scope=row>dirret</th><td>963.922155</td></tr>\n",
       "\t<tr><th scope=row>macd0720</th><td>972.587063</td></tr>\n",
       "\t<tr><th scope=row>macd1226</th><td>863.942262</td></tr>\n",
       "\t<tr><th scope=row>rsi14</th><td>554.525902</td></tr>\n",
       "\t<tr><th scope=row>signal5</th><td>929.847785</td></tr>\n",
       "\t<tr><th scope=row>signal9</th><td>106.711825</td></tr>\n",
       "\t<tr><th scope=row>data</th><td>  0.000000</td></tr>\n",
       "\t<tr><th scope=row>avg10</th><td>  0.000000</td></tr>\n",
       "\t<tr><th scope=row>avg20</th><td>  0.000000</td></tr>\n",
       "\t<tr><th scope=row>std10</th><td>  0.000000</td></tr>\n",
       "\t<tr><th scope=row>std20</th><td>  0.000000</td></tr>\n",
       "\t<tr><th scope=row>rsi5</th><td>  0.000000</td></tr>\n",
       "\t<tr><th scope=row>histogram9</th><td>  0.000000</td></tr>\n",
       "\t<tr><th scope=row>histogram5</th><td>  0.000000</td></tr>\n",
       "\t<tr><th scope=row>bbands</th><td>  0.000000</td></tr>\n",
       "</tbody>\n",
       "</table>\n"
      ],
      "text/latex": [
       "\\begin{tabular}{r|l}\n",
       "  & Overall\\\\\n",
       "\\hline\n",
       "\tclose &   3.962992\\\\\n",
       "\tdirret & 963.922155\\\\\n",
       "\tmacd0720 & 972.587063\\\\\n",
       "\tmacd1226 & 863.942262\\\\\n",
       "\trsi14 & 554.525902\\\\\n",
       "\tsignal5 & 929.847785\\\\\n",
       "\tsignal9 & 106.711825\\\\\n",
       "\tdata &   0.000000\\\\\n",
       "\tavg10 &   0.000000\\\\\n",
       "\tavg20 &   0.000000\\\\\n",
       "\tstd10 &   0.000000\\\\\n",
       "\tstd20 &   0.000000\\\\\n",
       "\trsi5 &   0.000000\\\\\n",
       "\thistogram9 &   0.000000\\\\\n",
       "\thistogram5 &   0.000000\\\\\n",
       "\tbbands &   0.000000\\\\\n",
       "\\end{tabular}\n"
      ],
      "text/markdown": [
       "\n",
       "| <!--/--> | Overall |\n",
       "|---|---|\n",
       "| close |   3.962992 |\n",
       "| dirret | 963.922155 |\n",
       "| macd0720 | 972.587063 |\n",
       "| macd1226 | 863.942262 |\n",
       "| rsi14 | 554.525902 |\n",
       "| signal5 | 929.847785 |\n",
       "| signal9 | 106.711825 |\n",
       "| data |   0.000000 |\n",
       "| avg10 |   0.000000 |\n",
       "| avg20 |   0.000000 |\n",
       "| std10 |   0.000000 |\n",
       "| std20 |   0.000000 |\n",
       "| rsi5 |   0.000000 |\n",
       "| histogram9 |   0.000000 |\n",
       "| histogram5 |   0.000000 |\n",
       "| bbands |   0.000000 |\n",
       "\n"
      ],
      "text/plain": [
       "           Overall   \n",
       "close        3.962992\n",
       "dirret     963.922155\n",
       "macd0720   972.587063\n",
       "macd1226   863.942262\n",
       "rsi14      554.525902\n",
       "signal5    929.847785\n",
       "signal9    106.711825\n",
       "data         0.000000\n",
       "avg10        0.000000\n",
       "avg20        0.000000\n",
       "std10        0.000000\n",
       "std20        0.000000\n",
       "rsi5         0.000000\n",
       "histogram9   0.000000\n",
       "histogram5   0.000000\n",
       "bbands       0.000000"
      ]
     },
     "metadata": {},
     "output_type": "display_data"
    }
   ],
   "source": [
    "# Importância dos atributos\n",
    "smllimp <- varImp(smllmodel3, scale = F)\n",
    "smllimp"
   ]
  },
  {
   "cell_type": "code",
   "execution_count": 102,
   "metadata": {},
   "outputs": [],
   "source": [
    "# Previsão\n",
    "smllpred <- predict(smllmodel3, smlltest, type = \"class\")"
   ]
  },
  {
   "cell_type": "code",
   "execution_count": 103,
   "metadata": {},
   "outputs": [
    {
     "data": {
      "text/plain": [
       "Confusion Matrix and Statistics\n",
       "\n",
       "        \n",
       "smllpred   0   1\n",
       "       0 392  40\n",
       "       1  67 622\n",
       "                                          \n",
       "               Accuracy : 0.9045          \n",
       "                 95% CI : (0.8858, 0.9211)\n",
       "    No Information Rate : 0.5905          \n",
       "    P-Value [Acc > NIR] : < 2e-16         \n",
       "                                          \n",
       "                  Kappa : 0.8008          \n",
       "                                          \n",
       " Mcnemar's Test P-Value : 0.01195         \n",
       "                                          \n",
       "            Sensitivity : 0.8540          \n",
       "            Specificity : 0.9396          \n",
       "         Pos Pred Value : 0.9074          \n",
       "         Neg Pred Value : 0.9028          \n",
       "             Prevalence : 0.4095          \n",
       "         Detection Rate : 0.3497          \n",
       "   Detection Prevalence : 0.3854          \n",
       "      Balanced Accuracy : 0.8968          \n",
       "                                          \n",
       "       'Positive' Class : 0               \n",
       "                                          "
      ]
     },
     "metadata": {},
     "output_type": "display_data"
    }
   ],
   "source": [
    "# Matriz de Confusão\n",
    "confusionMatrix(table(smllpred, smlltest$direction)) "
   ]
  },
  {
   "cell_type": "markdown",
   "metadata": {},
   "source": [
    "## 5. K Nearest Neighborhood"
   ]
  },
  {
   "cell_type": "code",
   "execution_count": 104,
   "metadata": {},
   "outputs": [],
   "source": [
    "# Biblioteca(s) Necessária(s)\n",
    "library(class)"
   ]
  },
  {
   "cell_type": "code",
   "execution_count": 105,
   "metadata": {},
   "outputs": [],
   "source": [
    "# Definição do número de Neighborhoods    \n",
    "neighborhood <- 3\n",
    "\n",
    "# O número de neighborhoods corresponde ao número de direções (Up, Down, NoWhere)\n",
    "\n",
    "set.seed(1)\n",
    "\n",
    "isdir <- smlltrain$dirret"
   ]
  },
  {
   "cell_type": "code",
   "execution_count": 106,
   "metadata": {},
   "outputs": [
    {
     "data": {
      "text/html": [
       "<ol class=list-inline>\n",
       "\t<li>down</li>\n",
       "\t<li>down</li>\n",
       "\t<li>nowhere</li>\n",
       "\t<li>up</li>\n",
       "\t<li>up</li>\n",
       "\t<li>up</li>\n",
       "</ol>\n",
       "\n",
       "<details>\n",
       "\t<summary style=display:list-item;cursor:pointer>\n",
       "\t\t<strong>Levels</strong>:\n",
       "\t</summary>\n",
       "\t<ol class=list-inline>\n",
       "\t\t<li>'down'</li>\n",
       "\t\t<li>'nowhere'</li>\n",
       "\t\t<li>'up'</li>\n",
       "\t</ol>\n",
       "</details>"
      ],
      "text/latex": [
       "\\begin{enumerate*}\n",
       "\\item down\n",
       "\\item down\n",
       "\\item nowhere\n",
       "\\item up\n",
       "\\item up\n",
       "\\item up\n",
       "\\end{enumerate*}\n",
       "\n",
       "\\emph{Levels}: \\begin{enumerate*}\n",
       "\\item 'down'\n",
       "\\item 'nowhere'\n",
       "\\item 'up'\n",
       "\\end{enumerate*}\n"
      ],
      "text/markdown": [
       "1. down\n",
       "2. down\n",
       "3. nowhere\n",
       "4. up\n",
       "5. up\n",
       "6. up\n",
       "\n",
       "\n",
       "\n",
       "**Levels**: 1. 'down'\n",
       "2. 'nowhere'\n",
       "3. 'up'\n",
       "\n",
       "\n"
      ],
      "text/plain": [
       "[1] down    down    nowhere up      up      up     \n",
       "Levels: down nowhere up"
      ]
     },
     "metadata": {},
     "output_type": "display_data"
    }
   ],
   "source": [
    "smllmodel4 <- knn(smlltrain2[,-1], smlltest2[,-1], isdir, neighborhood)\n",
    "head(smllmodel4)"
   ]
  },
  {
   "cell_type": "code",
   "execution_count": 107,
   "metadata": {},
   "outputs": [
    {
     "data": {
      "text/html": [
       "<dl class=dl-horizontal>\n",
       "\t<dt>down</dt>\n",
       "\t\t<dd>310</dd>\n",
       "\t<dt>nowhere</dt>\n",
       "\t\t<dd>293</dd>\n",
       "\t<dt>up</dt>\n",
       "\t\t<dd>518</dd>\n",
       "</dl>\n"
      ],
      "text/latex": [
       "\\begin{description*}\n",
       "\\item[down] 310\n",
       "\\item[nowhere] 293\n",
       "\\item[up] 518\n",
       "\\end{description*}\n"
      ],
      "text/markdown": [
       "down\n",
       ":   310nowhere\n",
       ":   293up\n",
       ":   518\n",
       "\n"
      ],
      "text/plain": [
       "   down nowhere      up \n",
       "    310     293     518 "
      ]
     },
     "metadata": {},
     "output_type": "display_data"
    }
   ],
   "source": [
    "summary(smllmodel4)"
   ]
  },
  {
   "cell_type": "code",
   "execution_count": 108,
   "metadata": {},
   "outputs": [
    {
     "data": {
      "text/plain": [
       "Confusion Matrix and Statistics\n",
       "\n",
       "          \n",
       "smllmodel4 down nowhere  up\n",
       "   down     263      42   5\n",
       "   nowhere   38     202  53\n",
       "   up         5      46 467\n",
       "\n",
       "Overall Statistics\n",
       "                                          \n",
       "               Accuracy : 0.8314          \n",
       "                 95% CI : (0.8082, 0.8529)\n",
       "    No Information Rate : 0.4683          \n",
       "    P-Value [Acc > NIR] : <2e-16          \n",
       "                                          \n",
       "                  Kappa : 0.7368          \n",
       "                                          \n",
       " Mcnemar's Test P-Value : 0.8744          \n",
       "\n",
       "Statistics by Class:\n",
       "\n",
       "                     Class: down Class: nowhere Class: up\n",
       "Sensitivity               0.8595         0.6966    0.8895\n",
       "Specificity               0.9423         0.8905    0.9144\n",
       "Pos Pred Value            0.8484         0.6894    0.9015\n",
       "Neg Pred Value            0.9470         0.8937    0.9038\n",
       "Prevalence                0.2730         0.2587    0.4683\n",
       "Detection Rate            0.2346         0.1802    0.4166\n",
       "Detection Prevalence      0.2765         0.2614    0.4621\n",
       "Balanced Accuracy         0.9009         0.7935    0.9020"
      ]
     },
     "metadata": {},
     "output_type": "display_data"
    }
   ],
   "source": [
    "# Matriz de Confusão\n",
    "confusionMatrix(table(smllmodel4, smlltest$dirret)) "
   ]
  },
  {
   "cell_type": "markdown",
   "metadata": {},
   "source": [
    "## 6. Support Vector Machine"
   ]
  },
  {
   "cell_type": "code",
   "execution_count": 109,
   "metadata": {},
   "outputs": [
    {
     "data": {
      "text/plain": [
       "$call\n",
       "svm.default(x = smlltrain2[, -1], y = as.factor(isdir))\n",
       "\n",
       "$type\n",
       "[1] 0\n",
       "\n",
       "$kernel\n",
       "[1] 2\n",
       "\n",
       "$cost\n",
       "[1] 1\n",
       "\n",
       "$degree\n",
       "[1] 3\n",
       "\n",
       "$gamma\n",
       "[1] 0.07142857\n"
      ]
     },
     "metadata": {},
     "output_type": "display_data"
    }
   ],
   "source": [
    "smllmodel5 <- svm(smlltrain2[,-1], as.factor(isdir))\n",
    "head(smllmodel5)"
   ]
  },
  {
   "cell_type": "code",
   "execution_count": 110,
   "metadata": {},
   "outputs": [
    {
     "data": {
      "text/html": [
       "<dl class=dl-horizontal>\n",
       "\t<dt>6</dt>\n",
       "\t\t<dd>down</dd>\n",
       "\t<dt>8</dt>\n",
       "\t\t<dd>down</dd>\n",
       "\t<dt>14</dt>\n",
       "\t\t<dd>nowhere</dd>\n",
       "\t<dt>21</dt>\n",
       "\t\t<dd>up</dd>\n",
       "\t<dt>23</dt>\n",
       "\t\t<dd>up</dd>\n",
       "\t<dt>29</dt>\n",
       "\t\t<dd>up</dd>\n",
       "</dl>\n",
       "\n",
       "<details>\n",
       "\t<summary style=display:list-item;cursor:pointer>\n",
       "\t\t<strong>Levels</strong>:\n",
       "\t</summary>\n",
       "\t<ol class=list-inline>\n",
       "\t\t<li>'down'</li>\n",
       "\t\t<li>'nowhere'</li>\n",
       "\t\t<li>'up'</li>\n",
       "\t</ol>\n",
       "</details>"
      ],
      "text/latex": [
       "\\begin{description*}\n",
       "\\item[6] down\n",
       "\\item[8] down\n",
       "\\item[14] nowhere\n",
       "\\item[21] up\n",
       "\\item[23] up\n",
       "\\item[29] up\n",
       "\\end{description*}\n",
       "\n",
       "\\emph{Levels}: \\begin{enumerate*}\n",
       "\\item 'down'\n",
       "\\item 'nowhere'\n",
       "\\item 'up'\n",
       "\\end{enumerate*}\n"
      ],
      "text/markdown": [
       "6\n",
       ":   down8\n",
       ":   down14\n",
       ":   nowhere21\n",
       ":   up23\n",
       ":   up29\n",
       ":   up\n",
       "\n",
       "\n",
       "**Levels**: 1. 'down'\n",
       "2. 'nowhere'\n",
       "3. 'up'\n",
       "\n",
       "\n"
      ],
      "text/plain": [
       "      6       8      14      21      23      29 \n",
       "   down    down nowhere      up      up      up \n",
       "Levels: down nowhere up"
      ]
     },
     "metadata": {},
     "output_type": "display_data"
    }
   ],
   "source": [
    "smllpredsvm <- predict(smllmodel5, smlltest2[,-1])\n",
    "head(smllpredsvm)"
   ]
  },
  {
   "cell_type": "code",
   "execution_count": 111,
   "metadata": {},
   "outputs": [
    {
     "data": {
      "text/plain": [
       "Confusion Matrix and Statistics\n",
       "\n",
       "           \n",
       "smllpredsvm down nowhere  up\n",
       "    down     267      40   4\n",
       "    nowhere   32     197  51\n",
       "    up         7      53 470\n",
       "\n",
       "Overall Statistics\n",
       "                                        \n",
       "               Accuracy : 0.8332        \n",
       "                 95% CI : (0.81, 0.8546)\n",
       "    No Information Rate : 0.4683        \n",
       "    P-Value [Acc > NIR] : <2e-16        \n",
       "                                        \n",
       "                  Kappa : 0.7386        \n",
       "                                        \n",
       " Mcnemar's Test P-Value : 0.6269        \n",
       "\n",
       "Statistics by Class:\n",
       "\n",
       "                     Class: down Class: nowhere Class: up\n",
       "Sensitivity               0.8725         0.6793    0.8952\n",
       "Specificity               0.9460         0.9001    0.8993\n",
       "Pos Pred Value            0.8585         0.7036    0.8868\n",
       "Neg Pred Value            0.9519         0.8894    0.9069\n",
       "Prevalence                0.2730         0.2587    0.4683\n",
       "Detection Rate            0.2382         0.1757    0.4193\n",
       "Detection Prevalence      0.2774         0.2498    0.4728\n",
       "Balanced Accuracy         0.9093         0.7897    0.8973"
      ]
     },
     "metadata": {},
     "output_type": "display_data"
    }
   ],
   "source": [
    "# Matriz de Confusão\n",
    "confusionMatrix(table(smllpredsvm, smlltest$dirret)) "
   ]
  },
  {
   "cell_type": "markdown",
   "metadata": {},
   "source": [
    "## 7. Regressão Linear"
   ]
  },
  {
   "cell_type": "code",
   "execution_count": 112,
   "metadata": {},
   "outputs": [
    {
     "data": {
      "text/plain": [
       "\n",
       "Call:\n",
       "lm(formula = close ~ avg10 + avg20 + std10 + std20 + rsi14 + \n",
       "    rsi5 + macd1226 + signal9 + histogram9 + macd0720 + signal5 + \n",
       "    histogram5 + bbands, data = smllz)\n",
       "\n",
       "Residuals:\n",
       "    Min      1Q  Median      3Q     Max \n",
       "-3.2468 -0.0072 -0.0008  0.0067  1.6108 \n",
       "\n",
       "Coefficients: (1 not defined because of singularities)\n",
       "            Estimate Std. Error t value Pr(>|t|)    \n",
       "(Intercept)  0.58500    0.24852   2.354   0.0186 *  \n",
       "avg10        0.51672    0.01465  35.275  < 2e-16 ***\n",
       "avg20        0.48266    0.01468  32.872  < 2e-16 ***\n",
       "std10       -0.05810    0.05736  -1.013   0.3112    \n",
       "std20       -0.01709    0.03838  -0.445   0.6562    \n",
       "rsi14        0.06854    0.05449   1.258   0.2086    \n",
       "rsi5         0.04123    0.03371   1.223   0.2214    \n",
       "macd1226    -0.94720    0.11603  -8.163 4.40e-16 ***\n",
       "signal9      0.89550    0.08392  10.670  < 2e-16 ***\n",
       "histogram9   0.67809    0.14062   4.822 1.48e-06 ***\n",
       "macd0720     5.44402    0.47584  11.441  < 2e-16 ***\n",
       "signal5     -4.39082    0.48563  -9.042  < 2e-16 ***\n",
       "histogram5  -0.58802    0.48346  -1.216   0.2240    \n",
       "bbands            NA         NA      NA       NA    \n",
       "---\n",
       "Signif. codes:  0 '***' 0.001 '**' 0.01 '*' 0.05 '.' 0.1 ' ' 1\n",
       "\n",
       "Residual standard error: 0.06627 on 3771 degrees of freedom\n",
       "Multiple R-squared:  0.9943,\tAdjusted R-squared:  0.9943 \n",
       "F-statistic: 5.483e+04 on 12 and 3771 DF,  p-value: < 2.2e-16\n"
      ]
     },
     "metadata": {},
     "output_type": "display_data"
    }
   ],
   "source": [
    "# Construção do modelo\n",
    "smlllm.fit = lm(close ~ avg10 + avg20 + std10 + std20 + rsi14 + rsi5 + macd1226 + signal9 +\n",
    "                  histogram9 + macd0720 + signal5 + histogram5 + bbands, data = smllz)\n",
    "\n",
    "summary(smlllm.fit)"
   ]
  },
  {
   "cell_type": "code",
   "execution_count": 113,
   "metadata": {
    "scrolled": false
   },
   "outputs": [
    {
     "name": "stderr",
     "output_type": "stream",
     "text": [
      "Warning message in sqrt(crit * p * (1 - hh)/hh):\n",
      "\"NaNs produzidos\"Warning message in sqrt(crit * p * (1 - hh)/hh):\n",
      "\"NaNs produzidos\""
     ]
    },
    {
     "data": {
      "image/png": "[encoded data removed]",
      "text/plain": [
       "Plot with title \"\""
      ]
     },
     "metadata": {},
     "output_type": "display_data"
    }
   ],
   "source": [
    "# Análise Gráfica\n",
    "par(mfrow=c(2,2))\n",
    "plot(smlllm.fit)"
   ]
  },
  {
   "cell_type": "code",
   "execution_count": 114,
   "metadata": {},
   "outputs": [
    {
     "name": "stderr",
     "output_type": "stream",
     "text": [
      "Warning message in predict.lm(smlllm.fit, smlltest):\n",
      "\"prediction from a rank-deficient fit may be misleading\""
     ]
    }
   ],
   "source": [
    "# Previsão\n",
    "smllrlm <- predict(smlllm.fit, smlltest)"
   ]
  },
  {
   "cell_type": "code",
   "execution_count": 115,
   "metadata": {
    "scrolled": false
   },
   "outputs": [
    {
     "data": {
      "text/html": [
       "<table>\n",
       "<thead><tr><th></th><th scope=col>Df</th><th scope=col>Sum Sq</th><th scope=col>Mean Sq</th><th scope=col>F value</th><th scope=col>Pr(&gt;F)</th></tr></thead>\n",
       "<tbody>\n",
       "\t<tr><th scope=row>avg10</th><td>   1         </td><td>2.867252e+03 </td><td>2.867252e+03 </td><td>6.529571e+05 </td><td> 0.000000e+00</td></tr>\n",
       "\t<tr><th scope=row>avg20</th><td>   1         </td><td>1.653103e-01 </td><td>1.653103e-01 </td><td>3.764598e+01 </td><td> 9.357804e-10</td></tr>\n",
       "\t<tr><th scope=row>std10</th><td>   1         </td><td>2.506172e+00 </td><td>2.506172e+00 </td><td>5.707285e+02 </td><td>1.410523e-117</td></tr>\n",
       "\t<tr><th scope=row>std20</th><td>   1         </td><td>1.590587e-01 </td><td>1.590587e-01 </td><td>3.622231e+01 </td><td> 1.928452e-09</td></tr>\n",
       "\t<tr><th scope=row>rsi14</th><td>   1         </td><td>7.594408e+00 </td><td>7.594408e+00 </td><td>1.729469e+03 </td><td>1.777707e-311</td></tr>\n",
       "\t<tr><th scope=row>rsi5</th><td>   1         </td><td>2.159889e+00 </td><td>2.159889e+00 </td><td>4.918698e+02 </td><td>1.539099e-102</td></tr>\n",
       "\t<tr><th scope=row>macd1226</th><td>   1         </td><td>1.038396e+00 </td><td>1.038396e+00 </td><td>2.364730e+02 </td><td> 8.369016e-52</td></tr>\n",
       "\t<tr><th scope=row>signal9</th><td>   1         </td><td>1.208250e+00 </td><td>1.208250e+00 </td><td>2.751539e+02 </td><td> 1.062176e-59</td></tr>\n",
       "\t<tr><th scope=row>histogram9</th><td>   1         </td><td>3.303494e+00 </td><td>3.303494e+00 </td><td>7.523021e+02 </td><td>3.547399e-151</td></tr>\n",
       "\t<tr><th scope=row>macd0720</th><td>   1         </td><td>2.189254e+00 </td><td>2.189254e+00 </td><td>4.985571e+02 </td><td>7.963767e-104</td></tr>\n",
       "\t<tr><th scope=row>signal5</th><td>   1         </td><td>1.799527e+00 </td><td>1.799527e+00 </td><td>4.098048e+02 </td><td> 1.381131e-86</td></tr>\n",
       "\t<tr><th scope=row>histogram5</th><td>   1         </td><td>6.496105e-03 </td><td>6.496105e-03 </td><td>1.479353e+00 </td><td> 2.239519e-01</td></tr>\n",
       "\t<tr><th scope=row>Residuals</th><td>3771         </td><td>1.655914e+01 </td><td>4.391180e-03 </td><td>          NA </td><td>           NA</td></tr>\n",
       "</tbody>\n",
       "</table>\n"
      ],
      "text/latex": [
       "\\begin{tabular}{r|lllll}\n",
       "  & Df & Sum Sq & Mean Sq & F value & Pr(>F)\\\\\n",
       "\\hline\n",
       "\tavg10 &    1          & 2.867252e+03  & 2.867252e+03  & 6.529571e+05  &  0.000000e+00\\\\\n",
       "\tavg20 &    1          & 1.653103e-01  & 1.653103e-01  & 3.764598e+01  &  9.357804e-10\\\\\n",
       "\tstd10 &    1          & 2.506172e+00  & 2.506172e+00  & 5.707285e+02  & 1.410523e-117\\\\\n",
       "\tstd20 &    1          & 1.590587e-01  & 1.590587e-01  & 3.622231e+01  &  1.928452e-09\\\\\n",
       "\trsi14 &    1          & 7.594408e+00  & 7.594408e+00  & 1.729469e+03  & 1.777707e-311\\\\\n",
       "\trsi5 &    1          & 2.159889e+00  & 2.159889e+00  & 4.918698e+02  & 1.539099e-102\\\\\n",
       "\tmacd1226 &    1          & 1.038396e+00  & 1.038396e+00  & 2.364730e+02  &  8.369016e-52\\\\\n",
       "\tsignal9 &    1          & 1.208250e+00  & 1.208250e+00  & 2.751539e+02  &  1.062176e-59\\\\\n",
       "\thistogram9 &    1          & 3.303494e+00  & 3.303494e+00  & 7.523021e+02  & 3.547399e-151\\\\\n",
       "\tmacd0720 &    1          & 2.189254e+00  & 2.189254e+00  & 4.985571e+02  & 7.963767e-104\\\\\n",
       "\tsignal5 &    1          & 1.799527e+00  & 1.799527e+00  & 4.098048e+02  &  1.381131e-86\\\\\n",
       "\thistogram5 &    1          & 6.496105e-03  & 6.496105e-03  & 1.479353e+00  &  2.239519e-01\\\\\n",
       "\tResiduals & 3771          & 1.655914e+01  & 4.391180e-03  &           NA  &            NA\\\\\n",
       "\\end{tabular}\n"
      ],
      "text/markdown": [
       "\n",
       "| <!--/--> | Df | Sum Sq | Mean Sq | F value | Pr(>F) |\n",
       "|---|---|---|---|---|---|\n",
       "| avg10 |    1          | 2.867252e+03  | 2.867252e+03  | 6.529571e+05  |  0.000000e+00 |\n",
       "| avg20 |    1          | 1.653103e-01  | 1.653103e-01  | 3.764598e+01  |  9.357804e-10 |\n",
       "| std10 |    1          | 2.506172e+00  | 2.506172e+00  | 5.707285e+02  | 1.410523e-117 |\n",
       "| std20 |    1          | 1.590587e-01  | 1.590587e-01  | 3.622231e+01  |  1.928452e-09 |\n",
       "| rsi14 |    1          | 7.594408e+00  | 7.594408e+00  | 1.729469e+03  | 1.777707e-311 |\n",
       "| rsi5 |    1          | 2.159889e+00  | 2.159889e+00  | 4.918698e+02  | 1.539099e-102 |\n",
       "| macd1226 |    1          | 1.038396e+00  | 1.038396e+00  | 2.364730e+02  |  8.369016e-52 |\n",
       "| signal9 |    1          | 1.208250e+00  | 1.208250e+00  | 2.751539e+02  |  1.062176e-59 |\n",
       "| histogram9 |    1          | 3.303494e+00  | 3.303494e+00  | 7.523021e+02  | 3.547399e-151 |\n",
       "| macd0720 |    1          | 2.189254e+00  | 2.189254e+00  | 4.985571e+02  | 7.963767e-104 |\n",
       "| signal5 |    1          | 1.799527e+00  | 1.799527e+00  | 4.098048e+02  |  1.381131e-86 |\n",
       "| histogram5 |    1          | 6.496105e-03  | 6.496105e-03  | 1.479353e+00  |  2.239519e-01 |\n",
       "| Residuals | 3771          | 1.655914e+01  | 4.391180e-03  |           NA  |            NA |\n",
       "\n"
      ],
      "text/plain": [
       "           Df   Sum Sq       Mean Sq      F value      Pr(>F)       \n",
       "avg10         1 2.867252e+03 2.867252e+03 6.529571e+05  0.000000e+00\n",
       "avg20         1 1.653103e-01 1.653103e-01 3.764598e+01  9.357804e-10\n",
       "std10         1 2.506172e+00 2.506172e+00 5.707285e+02 1.410523e-117\n",
       "std20         1 1.590587e-01 1.590587e-01 3.622231e+01  1.928452e-09\n",
       "rsi14         1 7.594408e+00 7.594408e+00 1.729469e+03 1.777707e-311\n",
       "rsi5          1 2.159889e+00 2.159889e+00 4.918698e+02 1.539099e-102\n",
       "macd1226      1 1.038396e+00 1.038396e+00 2.364730e+02  8.369016e-52\n",
       "signal9       1 1.208250e+00 1.208250e+00 2.751539e+02  1.062176e-59\n",
       "histogram9    1 3.303494e+00 3.303494e+00 7.523021e+02 3.547399e-151\n",
       "macd0720      1 2.189254e+00 2.189254e+00 4.985571e+02 7.963767e-104\n",
       "signal5       1 1.799527e+00 1.799527e+00 4.098048e+02  1.381131e-86\n",
       "histogram5    1 6.496105e-03 6.496105e-03 1.479353e+00  2.239519e-01\n",
       "Residuals  3771 1.655914e+01 4.391180e-03           NA            NA"
      ]
     },
     "metadata": {},
     "output_type": "display_data"
    }
   ],
   "source": [
    "# Significância do modelo\n",
    "anova(smlllm.fit)"
   ]
  },
  {
   "cell_type": "code",
   "execution_count": 116,
   "metadata": {},
   "outputs": [
    {
     "data": {
      "text/html": [
       "<table>\n",
       "<thead><tr><th></th><th scope=col>Overall</th></tr></thead>\n",
       "<tbody>\n",
       "\t<tr><th scope=row>avg10</th><td>35.28</td></tr>\n",
       "\t<tr><th scope=row>avg20</th><td>32.87</td></tr>\n",
       "\t<tr><th scope=row>std10</th><td> 1.01</td></tr>\n",
       "\t<tr><th scope=row>std20</th><td> 0.45</td></tr>\n",
       "\t<tr><th scope=row>rsi14</th><td> 1.26</td></tr>\n",
       "\t<tr><th scope=row>rsi5</th><td> 1.22</td></tr>\n",
       "\t<tr><th scope=row>macd1226</th><td> 8.16</td></tr>\n",
       "\t<tr><th scope=row>signal9</th><td>10.67</td></tr>\n",
       "\t<tr><th scope=row>histogram9</th><td> 4.82</td></tr>\n",
       "\t<tr><th scope=row>macd0720</th><td>11.44</td></tr>\n",
       "\t<tr><th scope=row>signal5</th><td> 9.04</td></tr>\n",
       "\t<tr><th scope=row>histogram5</th><td> 1.22</td></tr>\n",
       "</tbody>\n",
       "</table>\n"
      ],
      "text/latex": [
       "\\begin{tabular}{r|l}\n",
       "  & Overall\\\\\n",
       "\\hline\n",
       "\tavg10 & 35.28\\\\\n",
       "\tavg20 & 32.87\\\\\n",
       "\tstd10 &  1.01\\\\\n",
       "\tstd20 &  0.45\\\\\n",
       "\trsi14 &  1.26\\\\\n",
       "\trsi5 &  1.22\\\\\n",
       "\tmacd1226 &  8.16\\\\\n",
       "\tsignal9 & 10.67\\\\\n",
       "\thistogram9 &  4.82\\\\\n",
       "\tmacd0720 & 11.44\\\\\n",
       "\tsignal5 &  9.04\\\\\n",
       "\thistogram5 &  1.22\\\\\n",
       "\\end{tabular}\n"
      ],
      "text/markdown": [
       "\n",
       "| <!--/--> | Overall |\n",
       "|---|---|\n",
       "| avg10 | 35.28 |\n",
       "| avg20 | 32.87 |\n",
       "| std10 |  1.01 |\n",
       "| std20 |  0.45 |\n",
       "| rsi14 |  1.26 |\n",
       "| rsi5 |  1.22 |\n",
       "| macd1226 |  8.16 |\n",
       "| signal9 | 10.67 |\n",
       "| histogram9 |  4.82 |\n",
       "| macd0720 | 11.44 |\n",
       "| signal5 |  9.04 |\n",
       "| histogram5 |  1.22 |\n",
       "\n"
      ],
      "text/plain": [
       "           Overall\n",
       "avg10      35.28  \n",
       "avg20      32.87  \n",
       "std10       1.01  \n",
       "std20       0.45  \n",
       "rsi14       1.26  \n",
       "rsi5        1.22  \n",
       "macd1226    8.16  \n",
       "signal9    10.67  \n",
       "histogram9  4.82  \n",
       "macd0720   11.44  \n",
       "signal5     9.04  \n",
       "histogram5  1.22  "
      ]
     },
     "metadata": {},
     "output_type": "display_data"
    }
   ],
   "source": [
    "# Cálculo da importância das variáveis no modelo\n",
    "round(varImp(smlllm.fit, scale = TRUE), digits = 2)"
   ]
  },
  {
   "cell_type": "markdown",
   "metadata": {},
   "source": [
    "**Métricas de Avaliação**"
   ]
  },
  {
   "cell_type": "code",
   "execution_count": 117,
   "metadata": {},
   "outputs": [
    {
     "name": "stderr",
     "output_type": "stream",
     "text": [
      "Warning message:\n",
      "\"package 'Metrics' was built under R version 3.6.3\"\n",
      "Attaching package: 'Metrics'\n",
      "\n",
      "The following object is masked from 'package:precrec':\n",
      "\n",
      "    auc\n",
      "\n",
      "The following objects are masked from 'package:caret':\n",
      "\n",
      "    precision, recall\n",
      "\n"
     ]
    }
   ],
   "source": [
    "# Biblioteca(s) Necessária(s)\n",
    "library(Metrics)"
   ]
  },
  {
   "cell_type": "code",
   "execution_count": 118,
   "metadata": {},
   "outputs": [
    {
     "data": {
      "text/html": [
       "0.1"
      ],
      "text/latex": [
       "0.1"
      ],
      "text/markdown": [
       "0.1"
      ],
      "text/plain": [
       "[1] 0.1"
      ]
     },
     "metadata": {},
     "output_type": "display_data"
    }
   ],
   "source": [
    "# Root Mean Squared Error\n",
    "round(rmse(smlltest$close, smllrlm), digits = 2)"
   ]
  },
  {
   "cell_type": "code",
   "execution_count": 119,
   "metadata": {},
   "outputs": [
    {
     "data": {
      "text/html": [
       "0.01"
      ],
      "text/latex": [
       "0.01"
      ],
      "text/markdown": [
       "0.01"
      ],
      "text/plain": [
       "[1] 0.01"
      ]
     },
     "metadata": {},
     "output_type": "display_data"
    }
   ],
   "source": [
    "# Mean Absolute Error\n",
    "round(mae(smlltest$close, smllrlm), digits = 2)"
   ]
  },
  {
   "cell_type": "code",
   "execution_count": 120,
   "metadata": {},
   "outputs": [
    {
     "data": {
      "text/html": [
       "0.01"
      ],
      "text/latex": [
       "0.01"
      ],
      "text/markdown": [
       "0.01"
      ],
      "text/plain": [
       "[1] 0.01"
      ]
     },
     "metadata": {},
     "output_type": "display_data"
    }
   ],
   "source": [
    "# Mean Squared Error\n",
    "round(mse(smlltest$close, smllrlm), digits = 2)"
   ]
  },
  {
   "cell_type": "code",
   "execution_count": 121,
   "metadata": {},
   "outputs": [
    {
     "data": {
      "text/html": [
       "0.01"
      ],
      "text/latex": [
       "0.01"
      ],
      "text/markdown": [
       "0.01"
      ],
      "text/plain": [
       "[1] 0.01"
      ]
     },
     "metadata": {},
     "output_type": "display_data"
    }
   ],
   "source": [
    "# Mean Absolute Percent Error\n",
    "round(mape(smlltest$close, smllrlm), digits = 2)"
   ]
  },
  {
   "cell_type": "code",
   "execution_count": 122,
   "metadata": {},
   "outputs": [
    {
     "data": {
      "text/html": [
       "<dl class=dl-horizontal>\n",
       "\t<dt>RMSE</dt>\n",
       "\t\t<dd>0.1</dd>\n",
       "\t<dt>Rsquared</dt>\n",
       "\t\t<dd>0.99</dd>\n",
       "\t<dt>MAE</dt>\n",
       "\t\t<dd>0.01</dd>\n",
       "</dl>\n"
      ],
      "text/latex": [
       "\\begin{description*}\n",
       "\\item[RMSE] 0.1\n",
       "\\item[Rsquared] 0.99\n",
       "\\item[MAE] 0.01\n",
       "\\end{description*}\n"
      ],
      "text/markdown": [
       "RMSE\n",
       ":   0.1Rsquared\n",
       ":   0.99MAE\n",
       ":   0.01\n",
       "\n"
      ],
      "text/plain": [
       "    RMSE Rsquared      MAE \n",
       "    0.10     0.99     0.01 "
      ]
     },
     "metadata": {},
     "output_type": "display_data"
    }
   ],
   "source": [
    "# Resumo das métricas de avaliação\n",
    "round(postResample(pred = smllrlm, obs = smlltest$close), digits = 2)"
   ]
  },
  {
   "cell_type": "markdown",
   "metadata": {},
   "source": [
    "**Seleção de modelo mais simples, mas com representatividade semelhante**"
   ]
  },
  {
   "cell_type": "code",
   "execution_count": 123,
   "metadata": {
    "scrolled": false
   },
   "outputs": [
    {
     "name": "stdout",
     "output_type": "stream",
     "text": [
      "Start:  AIC=-20527.17\n",
      "close ~ avg10 + avg20 + std10 + std20 + rsi14 + rsi5 + macd1226 + \n",
      "    signal9 + histogram9 + macd0720 + signal5 + histogram5 + \n",
      "    bbands\n",
      "\n",
      "\n",
      "Step:  AIC=-20527.17\n",
      "close ~ avg10 + avg20 + std10 + std20 + rsi14 + rsi5 + macd1226 + \n",
      "    signal9 + histogram9 + macd0720 + signal5 + histogram5\n",
      "\n",
      "             Df Sum of Sq    RSS    AIC\n",
      "- std20       1    0.0009 16.560 -20529\n",
      "- std10       1    0.0045 16.564 -20528\n",
      "- histogram5  1    0.0065 16.566 -20528\n",
      "- rsi5        1    0.0066 16.566 -20528\n",
      "- rsi14       1    0.0069 16.566 -20528\n",
      "<none>                    16.559 -20527\n",
      "- histogram9  1    0.1021 16.661 -20506\n",
      "- macd1226    1    0.2926 16.852 -20463\n",
      "- signal5     1    0.3590 16.918 -20448\n",
      "- signal9     1    0.5000 17.059 -20417\n",
      "- macd0720    1    0.5748 17.134 -20400\n",
      "- avg20       1    4.7449 21.304 -19576\n",
      "- avg10       1    5.4642 22.023 -19450\n",
      "\n",
      "Step:  AIC=-20528.97\n",
      "close ~ avg10 + avg20 + std10 + rsi14 + rsi5 + macd1226 + signal9 + \n",
      "    histogram9 + macd0720 + signal5 + histogram5\n",
      "\n",
      "             Df Sum of Sq    RSS    AIC\n",
      "- rsi14       1    0.0061 16.566 -20530\n",
      "- histogram5  1    0.0064 16.566 -20530\n",
      "- rsi5        1    0.0073 16.567 -20529\n",
      "<none>                    16.560 -20529\n",
      "+ std20       1    0.0009 16.559 -20527\n",
      "+ bbands      1    0.0009 16.559 -20527\n",
      "- std10       1    0.0173 16.577 -20527\n",
      "- histogram9  1    0.1033 16.663 -20507\n",
      "- macd1226    1    0.2926 16.853 -20465\n",
      "- signal5     1    0.3585 16.919 -20450\n",
      "- signal9     1    0.5284 17.088 -20412\n",
      "- macd0720    1    0.5739 17.134 -20402\n",
      "- avg20       1    4.7477 21.308 -19577\n",
      "- avg10       1    5.4695 22.029 -19451\n",
      "\n",
      "Step:  AIC=-20529.57\n",
      "close ~ avg10 + avg20 + std10 + rsi5 + macd1226 + signal9 + histogram9 + \n",
      "    macd0720 + signal5 + histogram5\n",
      "\n",
      "             Df Sum of Sq    RSS    AIC\n",
      "- histogram5  1    0.0060 16.572 -20530\n",
      "<none>                    16.566 -20530\n",
      "+ rsi14       1    0.0061 16.560 -20529\n",
      "- std10       1    0.0137 16.580 -20528\n",
      "- rsi5        1    0.0165 16.583 -20528\n",
      "+ std20       1    0.0000 16.566 -20528\n",
      "+ bbands      1    0.0000 16.566 -20528\n",
      "- histogram9  1    0.1071 16.673 -20507\n",
      "- macd1226    1    0.3242 16.890 -20458\n",
      "- signal5     1    0.3536 16.920 -20452\n",
      "- signal9     1    0.5450 17.111 -20409\n",
      "- macd0720    1    0.5731 17.139 -20403\n",
      "- avg20       1    4.7459 21.312 -19578\n",
      "- avg10       1    5.5045 22.071 -19446\n",
      "\n",
      "Step:  AIC=-20530.2\n",
      "close ~ avg10 + avg20 + std10 + rsi5 + macd1226 + signal9 + histogram9 + \n",
      "    macd0720 + signal5\n",
      "\n",
      "             Df Sum of Sq    RSS    AIC\n",
      "<none>                    16.572 -20530\n",
      "+ histogram5  1    0.0060 16.566 -20530\n",
      "+ rsi14       1    0.0057 16.566 -20530\n",
      "- rsi5        1    0.0141 16.586 -20529\n",
      "- std10       1    0.0156 16.588 -20529\n",
      "+ std20       1    0.0000 16.572 -20528\n",
      "+ bbands      1    0.0000 16.572 -20528\n",
      "- histogram9  1    0.1012 16.673 -20509\n",
      "- macd1226    1    0.3183 16.890 -20460\n",
      "- signal9     1    0.5443 17.116 -20410\n",
      "- signal5     1    1.8310 18.403 -20136\n",
      "- macd0720    1    3.6599 20.232 -19777\n",
      "- avg20       1    4.7563 21.328 -19577\n",
      "- avg10       1    5.4992 22.071 -19448\n"
     ]
    },
    {
     "data": {
      "text/plain": [
       "\n",
       "Call:\n",
       "lm(formula = close ~ avg10 + avg20 + std10 + rsi5 + macd1226 + \n",
       "    signal9 + histogram9 + macd0720 + signal5, data = smllz)\n",
       "\n",
       "Coefficients:\n",
       "(Intercept)        avg10        avg20        std10         rsi5     macd1226  \n",
       "    0.86701      0.51741      0.48165     -0.07091      0.05430     -0.94896  \n",
       "    signal9   histogram9     macd0720      signal5  \n",
       "    0.87566      0.64194      4.91200     -3.81076  \n"
      ]
     },
     "metadata": {},
     "output_type": "display_data"
    }
   ],
   "source": [
    "# Método Stepwise\n",
    "step(smlllm.fit, direction = \"both\")"
   ]
  },
  {
   "cell_type": "code",
   "execution_count": 124,
   "metadata": {
    "scrolled": false
   },
   "outputs": [
    {
     "name": "stdout",
     "output_type": "stream",
     "text": [
      "Start:  AIC=-20527.17\n",
      "close ~ avg10 + avg20 + std10 + std20 + rsi14 + rsi5 + macd1226 + \n",
      "    signal9 + histogram9 + macd0720 + signal5 + histogram5 + \n",
      "    bbands\n",
      "\n",
      "\n",
      "Step:  AIC=-20527.17\n",
      "close ~ avg10 + avg20 + std10 + std20 + rsi14 + rsi5 + macd1226 + \n",
      "    signal9 + histogram9 + macd0720 + signal5 + histogram5\n",
      "\n",
      "             Df Sum of Sq    RSS    AIC\n",
      "- std20       1    0.0009 16.560 -20529\n",
      "- std10       1    0.0045 16.564 -20528\n",
      "- histogram5  1    0.0065 16.566 -20528\n",
      "- rsi5        1    0.0066 16.566 -20528\n",
      "- rsi14       1    0.0069 16.566 -20528\n",
      "<none>                    16.559 -20527\n",
      "- histogram9  1    0.1021 16.661 -20506\n",
      "- macd1226    1    0.2926 16.852 -20463\n",
      "- signal5     1    0.3590 16.918 -20448\n",
      "- signal9     1    0.5000 17.059 -20417\n",
      "- macd0720    1    0.5748 17.134 -20400\n",
      "- avg20       1    4.7449 21.304 -19576\n",
      "- avg10       1    5.4642 22.023 -19450\n",
      "\n",
      "Step:  AIC=-20528.97\n",
      "close ~ avg10 + avg20 + std10 + rsi14 + rsi5 + macd1226 + signal9 + \n",
      "    histogram9 + macd0720 + signal5 + histogram5\n",
      "\n",
      "             Df Sum of Sq    RSS    AIC\n",
      "- rsi14       1    0.0061 16.566 -20530\n",
      "- histogram5  1    0.0064 16.566 -20530\n",
      "- rsi5        1    0.0073 16.567 -20529\n",
      "<none>                    16.560 -20529\n",
      "- std10       1    0.0173 16.577 -20527\n",
      "- histogram9  1    0.1033 16.663 -20507\n",
      "- macd1226    1    0.2926 16.853 -20465\n",
      "- signal5     1    0.3585 16.919 -20450\n",
      "- signal9     1    0.5284 17.088 -20412\n",
      "- macd0720    1    0.5739 17.134 -20402\n",
      "- avg20       1    4.7477 21.308 -19577\n",
      "- avg10       1    5.4695 22.029 -19451\n",
      "\n",
      "Step:  AIC=-20529.57\n",
      "close ~ avg10 + avg20 + std10 + rsi5 + macd1226 + signal9 + histogram9 + \n",
      "    macd0720 + signal5 + histogram5\n",
      "\n",
      "             Df Sum of Sq    RSS    AIC\n",
      "- histogram5  1    0.0060 16.572 -20530\n",
      "<none>                    16.566 -20530\n",
      "- std10       1    0.0137 16.580 -20528\n",
      "- rsi5        1    0.0165 16.583 -20528\n",
      "- histogram9  1    0.1071 16.673 -20507\n",
      "- macd1226    1    0.3242 16.890 -20458\n",
      "- signal5     1    0.3536 16.920 -20452\n",
      "- signal9     1    0.5450 17.111 -20409\n",
      "- macd0720    1    0.5731 17.139 -20403\n",
      "- avg20       1    4.7459 21.312 -19578\n",
      "- avg10       1    5.5045 22.071 -19446\n",
      "\n",
      "Step:  AIC=-20530.2\n",
      "close ~ avg10 + avg20 + std10 + rsi5 + macd1226 + signal9 + histogram9 + \n",
      "    macd0720 + signal5\n",
      "\n",
      "             Df Sum of Sq    RSS    AIC\n",
      "<none>                    16.572 -20530\n",
      "- rsi5        1    0.0141 16.586 -20529\n",
      "- std10       1    0.0156 16.588 -20529\n",
      "- histogram9  1    0.1012 16.673 -20509\n",
      "- macd1226    1    0.3183 16.890 -20460\n",
      "- signal9     1    0.5443 17.116 -20410\n",
      "- signal5     1    1.8310 18.403 -20136\n",
      "- macd0720    1    3.6599 20.232 -19777\n",
      "- avg20       1    4.7563 21.328 -19577\n",
      "- avg10       1    5.4992 22.071 -19448\n"
     ]
    },
    {
     "data": {
      "text/plain": [
       "\n",
       "Call:\n",
       "lm(formula = close ~ avg10 + avg20 + std10 + rsi5 + macd1226 + \n",
       "    signal9 + histogram9 + macd0720 + signal5, data = smllz)\n",
       "\n",
       "Coefficients:\n",
       "(Intercept)        avg10        avg20        std10         rsi5     macd1226  \n",
       "    0.86701      0.51741      0.48165     -0.07091      0.05430     -0.94896  \n",
       "    signal9   histogram9     macd0720      signal5  \n",
       "    0.87566      0.64194      4.91200     -3.81076  \n"
      ]
     },
     "metadata": {},
     "output_type": "display_data"
    }
   ],
   "source": [
    "# Método backward\n",
    "step(smlllm.fit, direction = \"backward\")"
   ]
  },
  {
   "cell_type": "code",
   "execution_count": 125,
   "metadata": {},
   "outputs": [
    {
     "name": "stdout",
     "output_type": "stream",
     "text": [
      "Start:  AIC=-20527.17\n",
      "close ~ avg10 + avg20 + std10 + std20 + rsi14 + rsi5 + macd1226 + \n",
      "    signal9 + histogram9 + macd0720 + signal5 + histogram5 + \n",
      "    bbands\n",
      "\n"
     ]
    },
    {
     "data": {
      "text/plain": [
       "\n",
       "Call:\n",
       "lm(formula = close ~ avg10 + avg20 + std10 + std20 + rsi14 + \n",
       "    rsi5 + macd1226 + signal9 + histogram9 + macd0720 + signal5 + \n",
       "    histogram5 + bbands, data = smllz)\n",
       "\n",
       "Coefficients:\n",
       "(Intercept)        avg10        avg20        std10        std20        rsi14  \n",
       "    0.58500      0.51672      0.48266     -0.05810     -0.01709      0.06854  \n",
       "       rsi5     macd1226      signal9   histogram9     macd0720      signal5  \n",
       "    0.04123     -0.94720      0.89550      0.67809      5.44402     -4.39082  \n",
       " histogram5       bbands  \n",
       "   -0.58802           NA  \n"
      ]
     },
     "metadata": {},
     "output_type": "display_data"
    }
   ],
   "source": [
    "# Método Forward\n",
    "step(smlllm.fit, direction = \"forward\")"
   ]
  }
 ],
 "metadata": {
  "kernelspec": {
   "display_name": "R",
   "language": "R",
   "name": "ir"
  },
  "language_info": {
   "codemirror_mode": "r",
   "file_extension": ".r",
   "mimetype": "text/x-r-source",
   "name": "R",
   "pygments_lexer": "r",
   "version": "3.6.1"
  }
 },
 "nbformat": 4,
 "nbformat_minor": 4
}