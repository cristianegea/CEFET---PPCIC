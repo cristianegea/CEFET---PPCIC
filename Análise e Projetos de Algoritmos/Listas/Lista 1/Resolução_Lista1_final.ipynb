{
 "cells": [
  {
   "cell_type": "markdown",
   "metadata": {},
   "source": [
    "## Centro Federal de Educação Tecnológica Celso Suckow da Fonseca  (CEFET-TJ)\n",
    "\n",
    "## Programa de Pós Graduação em Ciência da Computação (PPCIC)\n",
    "\n",
    "## Disciplina: Análise e Projetos de Algoritmos\n",
    "\n",
    "## Professor: Diego Nunes Brandão\n",
    "\n",
    "## Aluna: Cristiane Gea\n",
    "\n",
    "## Resolução da 1ª Lista de Exercícios"
   ]
  },
  {
   "cell_type": "markdown",
   "metadata": {},
   "source": [
    "**Dificuldades gerais identificadas**:\n",
    "\n",
    "* Realizar as provas e demonstrações matemáticas.\n",
    "\n",
    "* Entender os conceitos relacionados a Estruturas de Dados.\n",
    "\n",
    "* Implementar a programação sem utilização de bibliotecas prontas.\n",
    "\n",
    "* Conseguir interpretar corretamente o objetivo de cada enunciado."
   ]
  },
  {
   "cell_type": "markdown",
   "metadata": {},
   "source": [
    "### **Parte 1 - Análise de Complexidade**"
   ]
  },
  {
   "cell_type": "markdown",
   "metadata": {},
   "source": [
    "**Contextualização**: Notação $O$ \n",
    "\n",
    "Sejam $f$ e  $g$ funções reais positivas de variável inteira $n$. Diz-se que $f$ é $O(g)$, escrevendo-se $f = O(g)$, quando existir uma constante $c > 0$ e um valor inteiro $n_0$, com $n \\geq n_0$, tal que:\n",
    "    \n",
    "$$\n",
    "f(n) \\leq c.g(n)\n",
    "$$\n",
    "    \n",
    "onde a função $g$ atua como um limite superior para valores assintóticos da função $f$.\n",
    "\n",
    "**Contextualização**: Notação $\\Theta$\n",
    "\n",
    "Sejam $f$ e  $h$ funções reais positivas. Diz-se que $f$ é $\\Theta(h)$, escrevendo $f = \\Theta(h)$, quando ambas as condições $f = O(h)$ e $h = O(f)$ forem verificadas. A notação $\\Theta$ exprime o fato de que as funções possuem a mesma ordem de grandeza assintótica.\n",
    "\n",
    "**Observação**: Enquanto que a notação $O$ é utilizada para exprimir complexidades, a notação $\\Theta$ é utilizada para exprimir limites superiores justos."
   ]
  },
  {
   "cell_type": "markdown",
   "metadata": {},
   "source": [
    "#### Questão 1\n",
    "\n",
    "Explique o significado das seguintes expressões:"
   ]
  },
  {
   "cell_type": "markdown",
   "metadata": {},
   "source": [
    "(a) $f(n)$ é $O(1)$\n",
    "\n",
    "**Resposta**:\n",
    "\n",
    "Um polinômio de grau $d$ é de ordem $O(n^d)$. Como uma constante pode ser considerada como um polinômio de grau 0, então uma constante é $O(n^0)$, ou seja, $O(1)$. Em outras palavras, a função possui complexidade constante.\n",
    "\n",
    "Além disso, a função $f(n)$ está delimitado por cima por uma constante. Mais precisamente, há números positivos $c$ e $m$, tal que $f(n) \\leq c$ para todo $n \\leq m$."
   ]
  },
  {
   "cell_type": "markdown",
   "metadata": {},
   "source": [
    "(b) $f(n)$ é $\\Theta(1)$\n",
    "\n",
    "**Resposta**:\n",
    "\n",
    "$f$ é assintoticamente constante se $f$ é assintoticamente equivalente a uma função constante, $f(n) \\in \\Theta(1)$ (que tem o mesmo significado de $f(n) = \\Theta(1)$).\n",
    "    \n",
    "$f(n) = \\Theta(1) = \\Theta(n^0)$ designa um tempo de computação/complexidade constante. Em outras palavras, corresponde a uma situação (pouco usual) em que as instruções do programa são executadas um número fixo de vezes, independentemente do valor do input $n$.\n",
    "\n",
    "Além disso, a função $f(n)$ está delimitada por cima e por baixo por uma constante. Para estabelecer isso formalmente é possível dizer que $f(n)$ é $O(1)$ e $f(n)$ é $\\Omega(1)$. Uma definição precisa do último termo é que há números positivos $c$ e $m$, tal que $f(n) \\geq c$ para todo $n \\geq m$. Estes termos são utilizados para o tempo de execução de algoritmos, portanto, um limite inferior constante é uma declaração vazia. "
   ]
  },
  {
   "cell_type": "markdown",
   "metadata": {},
   "source": [
    "(c) $f(n)$ é $n^{O(1)}$\n",
    "\n",
    "**Resposta**:\n",
    "\n",
    "A função $f(n)$ é delimitada por cima por uma função polinomial de algum fixo, mas não especificado, ou mais precisamente há inteiros positivos $c$ e $m$, tal que $f(n) \\leq n^c$ para todo $n \\geq m$."
   ]
  },
  {
   "cell_type": "markdown",
   "metadata": {},
   "source": [
    "#### Questão 2\n",
    "\n",
    "Assumindo que $f_1(n)$ é $O(g_1(n))$ e $f_2(n)$ é $O(g_2(n))$, prove as seguintes declarações: "
   ]
  },
  {
   "cell_type": "markdown",
   "metadata": {},
   "source": [
    "(a) $f_1(n) + f_2(n)$ é $O(\\max (g_1(n), g_2(n)))$\n",
    "\n",
    "**Resposta**\n",
    "\n",
    "A definição convencional da notação $O$ para $f_1(n)$ e $f_2(n)$ são, respectivamente:\n",
    "\n",
    "* $f_1(n) \\leq c_1.g_1(n)$ para todo $n \\geq n_1$, onde $c_1$ e $n_1$ existem e são números positivos.\n",
    "\n",
    "* $f_2(n) \\leq c_2.g_2(n)$ para todo $n \\geq n_2$, onde $c_2$ e $n_2$ existem e são números positivos.\n",
    "\n",
    "A partir das declarações acima, é possível escrever:\n",
    "\n",
    "* $f_1(n) \\leq c_1.\\max (g_1(n), g_2(n))$ para todo $n \\geq \\max(n_1, n_2)$\n",
    "\n",
    "* $f_2(n) \\leq c_2.\\max (g_1(n), g_2(n))$ para todo $n \\geq \\max(n_1, n_2)$\n",
    "\n",
    "Adicionando os termos, para todo $n \\geq \\max(n_1, n_2)$:\n",
    "\n",
    "$$\n",
    "f_1(n) + f_2(n) \\leq c_1.g_1(n) + c_2.g_2(n) \\\\\n",
    "f_1(n) + f_2(n) \\leq c_1.\\max (g_1(n), g_2(n)) + c_2.\\max (g_1(n), g_2(n)) \\\\\n",
    "f_1(n) + f_2(n) \\leq (c_1 + c_2).\\max (g_1(n), g_2(n))\n",
    "$$\n",
    "\n",
    "Fazendo $c_3 = c_1 + c_2$ e $n_3 = \\max(n_1, n_2)$, tem-se que para todo $n \\geq n_3$:\n",
    "\n",
    "$$\n",
    "f_1(n) + f_2(n) \\leq c_3.\\max (g_1(n), g_2(n))\n",
    "$$\n",
    "\n",
    "Logo, por definição, $f_1(n) + f_2(n) = O(\\max (g_1(n), g_2(n)))$."
   ]
  },
  {
   "cell_type": "markdown",
   "metadata": {},
   "source": [
    "(b) $f_1(n) * f_2(n)$ é $O(g_1(n) * g_2(n))$ (regra do produto)}\n",
    "\n",
    "**Resposta**\n",
    "\n",
    "A definição convencional da notação $O$ para $f_1(n)$ e $f_2(n)$ são, respectivamente:\n",
    "\n",
    "* $f_1(n) \\leq c_1.g_1(n)$ para todo $n \\geq n_1$, onde $c_1$ e $n_1$ existem e são números positivos.\n",
    "\n",
    "* $f_2(n) \\leq c_2.g_2(n)$ para todo $n \\geq n_2$, onde $c_2$ e $n_2$ existem e são números positivos.\n",
    "\n",
    "A partir das declarações acima, é possível escrever:\n",
    "\n",
    "* $f_1(n) \\leq c_1.(g_1(n) * g_2(n))$ para todo $n \\geq (n_1 * n_2)$\n",
    "\n",
    "* $f_2(n) \\leq c_2.(g_1(n) * g_2(n))$ para todo $n \\geq (n_1 * n_2)$\n",
    "\n",
    "Fazendo o produto entre os termos, para todo $n \\geq (n_1 * n_2)$:\n",
    "\n",
    "$$\n",
    "f_1(n) * f_2(n) \\leq c_1.(g_1(n) * g_2(n)) *  c_2.(g_1(n) * g_2(n))\\\\\n",
    "f_1(n) * f_2(n) \\leq (c_1 * c_2).(g_1(n) * g_2(n))\n",
    "$$\n",
    "\n",
    "Fazendo $c_3 = c_1 * c_2$ e $n_3 = n_1 * n_2$, tem-se que para todo $n \\geq n_3$:\n",
    "\n",
    "$$\n",
    "f_1(n) * f_2(n) \\leq c_3.(g_1(n) * g_2(n))\n",
    "$$\n",
    "\n",
    "Logo, por definição, $f_1(n) * f_2(n) = g_1(n) * g_2(n)$."
   ]
  },
  {
   "cell_type": "markdown",
   "metadata": {},
   "source": [
    "(c) $c$ é $O(1)$\n",
    "\n",
    "**Resposta**\n",
    "\n",
    "Pela regra da complexidade polinomial, é possível afirmar que se $P(n)$ é um polinômio de grau $k$, então $P(n) = O(n^k)$.\n",
    "\n",
    "Considerando que $P(n) = f(n)$ e partindo da definição convencional da notação $O$, $f$ é $O(g)$ quando existir uma constante $d > 0$ e um valor inteiro $n_0$, com $n \\geq n_0$, tal que:\n",
    "\n",
    "$$\n",
    "P(n) \\leq d.n^k\n",
    "$$\n",
    "\n",
    "Para $k = 0$, é possível escrever que:\n",
    "\n",
    "$$\n",
    "P(n) \\leq d.n^0 \\\\\n",
    "P(n) \\leq d\n",
    "$$\n",
    "\n",
    "Logo, por definição:\n",
    "\n",
    "$$\n",
    "P(n) = O(d)\n",
    "$$\n",
    "\n",
    "Pela regra da constante é possível escrever a expressão anterior como:\n",
    "\n",
    "$$\n",
    "P(n) = O(d.1) = d.O(1) = O(1)\n",
    "$$\n",
    "\n",
    "Como $P(n) = c$ (conforme enunciado), é possível escrever a expressão anterior como\n",
    "\n",
    "$$\n",
    "c = O(1)\n",
    "$$"
   ]
  },
  {
   "cell_type": "markdown",
   "metadata": {},
   "source": [
    "(d) $2^{2n + a}$ é $O(2^n)$\n",
    "\n",
    "**Resposta**\n",
    "\n",
    "A definição convencional da notação $O$ diz que, sejam $f$ e $g$ funções reais positivas de variáveis inteira $n$. Diz-se que $f$ é $O(g)$ quando existir uma constante $c > 0$ e um valor inteiro $n_0$, com $n \\geq n_0$, tal que:\n",
    "    \n",
    "$$\n",
    "f(n) \\leq c.g(n)\n",
    "$$\n",
    "\n",
    "Sabe-se que $2^{2n + a} = 2^{2n}*2^a$ e que, eventualmente, uma constante múltiplo de $2^n$ é sempre maior que $2^{2n + a}$. Assim, multiplicando $2^n$ por $2^a$, o resultado obtido será maior ou igual a $2^{2n + a}$.\n",
    "\n",
    "Considerando $c = 2$ e $n_0 = a$, tem-se que $2^{2n + a} \\leq 2^{2n}*2^a$. Portanto, $2^{2n + a} = O(2^n)$."
   ]
  },
  {
   "cell_type": "markdown",
   "metadata": {},
   "source": [
    "#### Questão 3\n",
    "\n",
    "Usando as mesmas hipóteses que o exercício anterior refute as seguintes declarações:"
   ]
  },
  {
   "cell_type": "markdown",
   "metadata": {},
   "source": [
    "(a) $f_1(n) - f_2(n)$ é $O(g_1(n) - g_2(n))$\n",
    "\n",
    "**Resposta**\n",
    "\n",
    "A definição convencional da notação $O$ para $f_1(n)$ e $f_2(n)$ são, respectivamente:\n",
    "\n",
    "* $f_1(n) \\leq c_1.g_1(n)$ para todo $n \\geq n_1$, onde $c_1$ e $n_1$ existem e são números positivos.\n",
    "\n",
    "* $f_2(n) \\leq c_2.g_2(n)$ para todo $n \\geq n_2$, onde $c_2$ e $n_2$ existem e são números positivos.\n",
    "\n",
    "A partir das declarações acima, é possível escrever:\n",
    "\n",
    "* $f_1(n) \\leq c_1.(g_1(n) - g_2(n))$ para todo $n \\geq (n_1 - n_2)$\n",
    "\n",
    "* $f_2(n) \\leq c_2.(g_1(n) - g_2(n))$ para todo $n \\geq (n_1 - n_2)$\n",
    "\n",
    "Fazendo $f_1(n) - f_2(n)$, temos para todo $n \\geq (n_1 - n_2)$:\n",
    "\n",
    "$$\n",
    "f_1(n) - f_2(n) \\leq c_1.(g_1(n) - g_2(n)) -  c_2.(g_1(n) - g_2(n))\\\\\n",
    "f_1(n) - f_2(n) \\leq (c_1 - c_2).(g_1(n) - g_2(n))\n",
    "$$\n",
    "\n",
    "Fazendo $c_3 = c_1 - c_2$ e $n_3 = n_1 - n_2$, tem-se que para todo $n \\geq n_3$:\n",
    "\n",
    "$$\n",
    "f_1(n) - f_2(n) \\leq c_3.(g_1(n) - g_2(n))\n",
    "$$\n",
    "\n",
    "Diante disso, é preciso considerar três possibilidades:\n",
    "\n",
    "* $f_1(n) > f_2(n)$\n",
    "\n",
    "$$\n",
    "f_1(n) > f_2(n) \\Rightarrow f_1(n) - f_2(n) > 0\\\\\n",
    "f_1(n) - f_2(n) > 0 \\Rightarrow f_1(n) - f_2(n) \\leq c_3.(g_1(n) - g_2(n))\\\\\n",
    "f_1(n) - f_2(n) \\leq c_3.(g_1(n) - g_2(n)) \\Rightarrow f_1(n) - f_2(n) \\textrm{ é } O(g_1(n) - g_2(n))\n",
    "$$\n",
    "\n",
    "* $f_1(n) < f_2(n)$\n",
    "\n",
    "$$\n",
    "f_1(n) < f_2(n) \\Rightarrow f_1(n) - f_2(n) < 0\\\\\n",
    "f_1(n) - f_2(n) < 0 \\Rightarrow f_1(n) - f_2(n) \\geq c_3.(g_1(n) - g_2(n))\\\\\n",
    "f_1(n) - f_2(n) \\geq c_3.(g_1(n) - g_2(n)) \\Rightarrow f_1(n) - f_2(n) \\textrm{ não é } O(g_1(n) - g_2(n))\n",
    "$$\n",
    "\n",
    "* $f_1(n) = f_2(n)$\n",
    "\n",
    "$$\n",
    "f_1(n) = f_2(n) \\Rightarrow f_1(n) - f_2(n) = 0\\\\\n",
    "f_1(n) - f_2(n) = 0 \\Rightarrow 0 = c_3.(g_1(n) - g_2(n))\\\\\n",
    "0 = c_3.(g_1(n) - g_2(n)) \\Rightarrow f_1(n) - f_2(n) \\textrm{ não é } O(g_1(n) - g_2(n))\n",
    "$$\n",
    "\n",
    "Considerando, como exemplo, que $f_1(n) = 2n^3 - 5n^2 + 7n$ e $f_2(n) = n^2 + 3n$. Por definição, é possível mostrar que:\n",
    "\n",
    "* Se $f_1(n)$ é $O(g_1(n))$, então $f_1(n) \\leq c_1.g_1(n)$. Logo, se $2n^3 - 5n^2 + 7n$ é $O(n^3)$, então $2n^3 - 5n^2 + 7n \\leq c_1n^3$.\n",
    "\n",
    "* Se $f_2(n)$ é $O(g_2(n))$, então $f_2(n) \\leq c_2.g_2(n)$. Logo, se $n^2 + 3n$ é $O(n^2)$, então $n^2 + 3n \\leq c_2n^2$.\n",
    "\n",
    "Fazendo $f_1(n) - f_2(n)$, temos $2n^3 - 6n^2 + 4n$. Diante disso, $f_1(n) - f_2(n)$ é $O(n^3)$, diferente de $O(g_1(n) - g_2(n)) = O(n^3-n^2)$."
   ]
  },
  {
   "cell_type": "markdown",
   "metadata": {},
   "source": [
    "(b) $f_1(n)/f_2(n)$ é $O(g_1(n)/g_2(n))$\n",
    "\n",
    "**Resposta**\n",
    "\n",
    "A definição convencional da notação $O$ para $f_1(n)$ e $f_2(n)$ são, respectivamente:\n",
    "\n",
    "* $f_1(n) \\leq c_1.g_1(n)$ para todo $n \\geq n_1$, onde $c_1$ e $n_1$ existem e são números positivos.\n",
    "\n",
    "* $f_2(n) \\leq c_2.g_2(n)$ para todo $n \\geq n_2$, onde $c_2$ e $n_2$ existem e são números positivos.\n",
    "\n",
    "A partir das declarações acima, é possível escrever:\n",
    "\n",
    "* $f_1(n) \\leq c_1. (g_1(n)/g_2(n))$ para todo $n \\geq (n_1/n_2)$\n",
    "\n",
    "* $f_2(n) \\leq c_2.(g_1(n)/g_2(n))$ para todo $n \\geq (n_1/n_2)$\n",
    "\n",
    "Fazendo o qucient entre os termos, para todo $n \\geq (n_1/n_2)$:\n",
    "\n",
    "$$\n",
    "\\frac{f_1(n)}{f_2(n)} \\leq \\frac{c_1.(g_1(n)/g_2(n))}{c_2.(g_1(n)/g_2(n))}\\\\\n",
    "\\frac{f_1(n)}{f_2(n)} \\leq \\frac{c_1}{c_2}.\\frac{(g_1(n)/g_2(n))}{(g_1(n)/g_2(n))}\n",
    "$$\n",
    "\n",
    "Fazendo $c_3 = (c_1/c_2)$ e $n_3 = (n_1/n_2)$, tem-se que para todo $n \\geq n_3$:\n",
    "\n",
    "$$\n",
    "\\frac{f_1(n)}{f_2(n)} \\leq c_3.\\frac{(g_1(n)/g_2(n))}{(g_1(n)/g_2(n))}\n",
    "$$\n",
    "\n",
    "$$\n",
    "\\textrm{Se } \\frac{(g_1(n)/g_2(n))}{(g_1(n)/g_2(n))} = 1 \\textrm{ , então } \\frac{f_1(n)}{f_2(n)} \\leq c_3\\\\\n",
    "\\frac{f_1(n)}{f_2(n)} \\leq c_3 \\Rightarrow \\frac{f_1(n)}{f_2(n)} \\textrm{ não é } O \\left (\\frac{g_1(n)}{g_2(n)}\\right )\n",
    "$$\n",
    "\n",
    "Considerando, como exemplo, que $f_1(n) = n^3 + 2n + 1$ e $f_2(n) = n^2 + 1$. Por definição, é possível mostrar que:\n",
    "\n",
    "* Se $f_1(n)$ é $O(g_1(n))$, então $f_1(n) \\leq c_1.g_1(n)$. Logo, se $n^3 + 2n + 1$ é $O(n^2)$, então $n^2 + 2n + 1 \\leq c_1n^3$.\n",
    "\n",
    "* Se $f_2(n)$ é $O(g_2(n))$, então $f_2(n) \\leq c_2.g_2(n)$. Logo, se $n^2 + 1$ é $O(n^2)$, então $n^2 + 1 \\leq c_2n^2$.\n",
    "\n",
    "Fazendo $f_1(n)/f_2(n)$ e considerando as propriedades assintóticas, temos\n",
    "\n",
    "$$\n",
    "\\lim_{n\\rightarrow \\infty } \\frac{n^3 + 2n + 1}{n^2 + 1} = \\frac{\\lim_{n\\rightarrow \\infty}(n^3 + 2n + 1)}{\\lim_{n\\rightarrow \\infty}(n^2 + 1)} = \\frac{\\lim_{n\\rightarrow \\infty} n^3 (1 + 1/n^2 + 1/n^3)}{\\lim_{n\\rightarrow \\infty} n^2 (1 + 1/n^2)} = \\frac{\\lim_{n\\rightarrow \\infty} n^3 (1 + 0 + 0)}{\\lim_{n\\rightarrow \\infty} n^2 (1 + 0)} = \\frac{\\lim_{n\\rightarrow \\infty} n^3}{\\lim_{n\\rightarrow \\infty} n^2} = \\lim_{n\\rightarrow \\infty} n = \\infty\n",
    "$$\n",
    "\n",
    "Logo, $f_1(n)/f_2(n)$ é diferente de $O(g_1(n)/g_2(n)) = c_1n^3/c_2n^2 = (c_1/c_2)(n^{3-2}) = (c_1/c_2)n$."
   ]
  },
  {
   "cell_type": "markdown",
   "metadata": {},
   "source": [
    "#### Questão 4\n",
    "\n",
    "Escreva o algoritmo de busca binária (na forma recursiva e não recursiva) e faça a análise de tempo de execução do pior ca de cada algoritimo.\n",
    "\n",
    "**Contextualização**\n",
    "\n",
    "Diferentemente da busca sequencial, a busca binária começa examinando o item do meio. Segundo Celes et al. (2004), a ideia do algoritmo de busca binária é testar o elemento de busca com o valor do elemento que está armazenado no meio do vetor. Se o elemento de busca for igual ao elemento do meio, então a busca será encerrada pois o elemento foi localizado. Caso contrário, o elemento de busca é menor, ou maior, que o elemento do meio. Se o elemento de busca for menor que o elemento do meio, então estará na 1ª parte da lista; se for menor que o elemento do meio, estará na 2ª parte da lista.\n",
    "\n",
    "Se o elemento de busca estiver em uma das partes da lista, o procedimento será repetido, considerando somente a parte restante. Por fim, o procedimento é continuamente repetido, subdividindo a parte de interesse, até encontrar o elemento ou chegar a uma parte da lista com tamanho zero. Diante disso, o tempo de pesquisa por um elemento em uma lista ordenada é reduzida, em comparação com a busca sequencial. Assim, a busca binária começa com um palpite de onde o elemento procurado pode estar. Inicialmente, o palpite é sempre escolher o elemento do meio da lista. \n",
    "\n",
    "O pior caso ocorre quando o elemento procurado não está localizado no vetor.\n",
    "\n",
    "Por fim, na busca binária inicialmente todo o vetor é considerado para localizar o valor procurado. Contudo, a cada repetição, a parte considerada na busca é dividida à metade.\n",
    "\n",
    "De acordo com Celes et al. (2016), o tamanho do vetor ao fim de cada repetição do laço do algoritmo:\n",
    "\n",
    "Repetição | Tamanho do vetor\n",
    "----------|----------\n",
    "  0       | $n$\n",
    "  1       | $n/2$\n",
    "  2       | $n/4$\n",
    "  3       | $n/8$\n",
    "$\\dots$   | $\\dots$  \n",
    "$\\log n$  | 1\n",
    "\n",
    "Logo, no pior caso $k$ repetições será igual a $\\log n$.\n",
    "\n",
    "**Resposta**\n",
    "\n",
    "Dificuldades encontradas: (i) compreender as diferenças entre a busca binária recursiva e a busca binária iterativa e implementá-las na forma de código (achava que só havia um tipo de busca binária); (ii) realizar a análise de tempo de execução do pior caso no formato de como foi apresentado em aula (considerando o custo e o número de passos de cada etapa dos códigos).\n",
    "\n",
    "Para avaliar o tempo de execução das funções desenvolvidas, foi utilizada uma lista na qual será realizada a busca binária."
   ]
  },
  {
   "cell_type": "code",
   "execution_count": 1,
   "metadata": {},
   "outputs": [],
   "source": [
    "# Definição do objeto onde ocorrerá a busca\n",
    "a = list(range(10000000))"
   ]
  },
  {
   "cell_type": "markdown",
   "metadata": {},
   "source": [
    "*Busca Binária Recurssiva*\n",
    "\n",
    "Na versão recursiva, a entrada do algoritmo será uma lista de números inteiros, o valor procurado e o comprimento da lista. À cada iteração, o algoritmo exclui uma metade da lista e enalisa a outra metade. Como ponto de partida é realizado um palpite de que o valor procurado está no meio da lista. A saída do algoritmo será o valor booleano `True` (se o valor está na lista) ou `False` (se o valor não está na lista). \n",
    "\n",
    "Principais características do código:\n",
    "\n",
    "* Assume que a lista está ordenada.\n",
    "\n",
    "* Assume como palpite inicial o elemento contido na posição central da lista (elemento do meio ou mediana).\n",
    "\n",
    "* Caso o elemento procurado não esteja na posição central, verifica se o elemento procurado é maior ou menor que o elemento central.\n",
    "\n",
    "* Repete o processo até que o elemento procurado seja localizado na lista ou que seja verificado que ele não está contido na lista."
   ]
  },
  {
   "cell_type": "code",
   "execution_count": 2,
   "metadata": {},
   "outputs": [],
   "source": [
    "def bbRecursiva(lista, valor):\n",
    "    # 1. Caso base: a lista está vazia\n",
    "    if len(lista) == 0:\n",
    "        return False\n",
    "    else:\n",
    "        # Palpite inicial: elemento do meio \n",
    "        mediana = len(lista)//2\n",
    "        # 2. O palpite estava certo: o elemento está no meio da lista\n",
    "        if lista[mediana] == valor:\n",
    "            return True\n",
    "        else:\n",
    "            # 3. O palpite estava errado: os limites são atualizados \n",
    "            if valor < lista[mediana]:\n",
    "                return bbRecursiva(lista[:mediana], valor)\n",
    "            # item > lista[mediana]  \n",
    "            else: \n",
    "                return bbRecursiva(lista[mediana+1:], valor)"
   ]
  },
  {
   "cell_type": "markdown",
   "metadata": {},
   "source": [
    "Para simular o pior caso, o valor a ser procurado não estará dentro da lista."
   ]
  },
  {
   "cell_type": "code",
   "execution_count": 3,
   "metadata": {},
   "outputs": [
    {
     "name": "stdout",
     "output_type": "stream",
     "text": [
      "Wall time: 203 ms\n"
     ]
    },
    {
     "data": {
      "text/plain": [
       "False"
      ]
     },
     "execution_count": 3,
     "metadata": {},
     "output_type": "execute_result"
    }
   ],
   "source": [
    "%%time\n",
    "bbRecursiva(a, 10000001)"
   ]
  },
  {
   "cell_type": "markdown",
   "metadata": {},
   "source": [
    "O algoritmo de busca binária recursiva levou 203 ms para localizar o nº 100001 dentro da lista."
   ]
  },
  {
   "cell_type": "markdown",
   "metadata": {},
   "source": [
    "Pseudocódigo para análise da complexidade de tempo de execução do pior caso:\n",
    "\n",
    "```\n",
    "def Busca_Binária_Recursiva (A, x):\n",
    "    Se n = 0:                                            custo: C1 // nº de passos: 1\n",
    "        retorna Falso                                    custo: C2 = 0\n",
    "    Senão:                                               custo: C3 // nº de passos: 1\n",
    "        mediana := n/2                                   custo: C4 // nº de passos: 1\n",
    "        Se mediana = x                                   custo: C5 // nº de passos: 1\n",
    "            Retorna Verdadeiro                           custo: C6 = 0\n",
    "        Senão:                                           custo: C7 // nº de passos: 1\n",
    "            Se x < mediana:                              custo: C8 // nº de passos: 1\n",
    "                Devolve Busca_Binária_Recursiva (A, x)   custo: C9 // nº de passos: n/2\n",
    "            Senão                                        custo: C10 // nº de passos: 1\n",
    "                Devolve Busca_Binária_Recursiva (A, x)   custo: C11 // nº de passos: n/2\n",
    "```\n",
    "\n",
    "Cálculo do tempo de execução do algoritmo:\n",
    "\n",
    "$$\n",
    "T(n) = C_1 + C_3 + C_4 + C_5 + C_7 + C_8 + C_9 \\times (n/2) + C_{10} + C_{11} \\times (n/2) \\\\\n",
    "T(n) = (C_9 \\times (n/2) + C_{11} \\times (n/2)) + C_1 + C_3 + C_4 + C_5 + C_7 + C_8 + C_{10} \\\\\n",
    "T(n) = A(n/2) + B\n",
    "$$\n",
    "\n",
    "Considerando que o algoritmo encontre o valor procurado na primeira repetição, o tempo de execução corresponderia à $T(n) = A(n/2) + B$. Contudo, no pior caso o algoritmo não localizará o valor procurado. Neste caso, o algoritmo repetirá o processo de busca até que o tamanho do sub-vetor restante seja igual a 1 e o nº de repetições será igual a $\\log n$. Portanto, considerando o pior caso, o tempo de execução do algoritmo corresponderá a $T(n) = A(\\log n) + B$"
   ]
  },
  {
   "cell_type": "markdown",
   "metadata": {},
   "source": [
    "O questionamento que surge é se é possível melhorar o algoritmo de busca binária. Embora não seja possível reduzir a complexidade assintótica do algoritmo, é possível tentar melhorá-lo de alguma forma. Uma possível melhoria do algoritmo é a implementação da sua versão iterativa. "
   ]
  },
  {
   "cell_type": "markdown",
   "metadata": {},
   "source": [
    "*Busca Binária Não Recursiva (Iterativa)*\n",
    "\n",
    "Diferentemente da busca binária recursiva, na busca binária iterativa o algoritmo percorre a lista a cada iteração. Caso o palpite não esteja correto, os limites `first` e `last` são ajustados da parte da lista que está sendo analisada. A saída do algoritmo será o valor booleano `True` (se o valor está na lista) ou `False` (se o valor não está na lista). \n",
    "\n",
    "Obs.: enquanto que na versão recursiva, o espaço de busca do algoritmo é reduzido a cada chamada recursiva, na  versão iterativa, essa redução é realzada no espaço de busca a cada iteração do laço `while`.\n",
    "\n",
    "Principais características do código:\n",
    "\n",
    "* Considera que a lista está ordenada.\n",
    "\n",
    "* Realiza a busca dentro de uma estrutura de repetição (representada por `while`), que é o diferencial em relação à busca recursiva.\n",
    "\n",
    "* Assume como palpite inicial o elemento contido na posição central da lista (elemento do meio ou mediana).\n",
    "\n",
    "* Caso o elemento procurado não esteja na posição central, verifica se o elemento procurado é maior ou menor que o elemento central.\n",
    "\n",
    "* Repete o processo até que o elemento procurado seja localizado na lista ou que seja verificado que ele não está contido na lista."
   ]
  },
  {
   "cell_type": "code",
   "execution_count": 4,
   "metadata": {},
   "outputs": [],
   "source": [
    "def bbIterativa(lista, valor):\n",
    "    # Definição do intervalo de busca // Verificação dos extremos da lista\n",
    "    # A verificação dos extremos da lista é realizada no laço while (utilizado para percorrer a lista)\n",
    "    inicio = 0\n",
    "    fim = len(lista)-1\n",
    "    resultado = False\n",
    "\n",
    "    # Ajuste do espaço de busca\n",
    "    while inicio <= fim and not resultado:\n",
    "        # 1. Palpite inicial: elemento do meio \n",
    "        mediana = (inicio + fim)//2\n",
    "        # 2. O palpite estava certo: o elemento está no meio da lista\n",
    "        if lista[mediana] == valor:\n",
    "            resultado = True\n",
    "        # 3. O palpite não estava certo: ajuste dos limites first e last da parte da lista que está sendo analisada\n",
    "        else:\n",
    "            # Se o elemento procurado < elemento do meio, então o elemento procurado está na 1ª metade da sequência\n",
    "            if valor < lista[mediana]:\n",
    "                fim = mediana - 1\n",
    "                # Se o elemento procurado > elemento do meio, então o elemento procurado está na 2ª metade da sequência \n",
    "            else:\n",
    "                inicio = mediana + 1\n",
    "    return resultado"
   ]
  },
  {
   "cell_type": "markdown",
   "metadata": {},
   "source": [
    "Semelhante ao caso anterior, para simular o pior caso o valor a ser procurado não estará dentro da lista."
   ]
  },
  {
   "cell_type": "code",
   "execution_count": 5,
   "metadata": {},
   "outputs": [
    {
     "name": "stdout",
     "output_type": "stream",
     "text": [
      "Wall time: 0 ns\n"
     ]
    },
    {
     "data": {
      "text/plain": [
       "False"
      ]
     },
     "execution_count": 5,
     "metadata": {},
     "output_type": "execute_result"
    }
   ],
   "source": [
    "%%time\n",
    "bbIterativa(a, 10000001)"
   ]
  },
  {
   "cell_type": "markdown",
   "metadata": {},
   "source": [
    "Em relação ao caso anterior, o algoritmo de busca binária iterativa levou um tempo muito inferior para realizar a busca pelo elemento procurado."
   ]
  },
  {
   "cell_type": "markdown",
   "metadata": {},
   "source": [
    "Pseudocódigo para análise da complexidade de tempo de execução do pior caso:\n",
    "\n",
    "```\n",
    "def Busca_Binária_Iterativa (A, x):               \n",
    "    inicio := 0\n",
    "    fim := n - 1\n",
    "    enquanto inicio <= fim:                        custo: C1     // nº de passos: n\n",
    "        mediana := [(inicio + fim)/2]              custo: C2 = 0 // nº de passos: 1\n",
    "        se mediana == x:                           custo: C3 = 0 // nº de passos: 1\n",
    "            retorna mediana                        custo: C4 = 0\n",
    "        senão:                                     custo: C5 = 0 // nº de passos: 1\n",
    "            se x < A[mediana]:                     custo: C6 = 0 // nº de passos: 1\n",
    "                fim = mediana -1                   custo: C7     // nº de passos: n/2\n",
    "            senão:                                 custo: C8 = 0 // nº de passos: 1\n",
    "                inicio = mediana + 1               custo: C9     // nº de passos: n/2\n",
    "    retorna resultado                              custo: C10 = 0\n",
    "```\n",
    "\n",
    "Cálculo do tempo de execução do algoritmo:\n",
    "\n",
    "$$\n",
    "T(n) = C_1 \\times n + C_7 \\times (n/2) + C_9 \\times (n/2) \\\\\n",
    "T(n) = (2C_1 + C_7 + C_9) \\times  (n/2) \\\\\n",
    "T(n) = A(n/2)\n",
    "$$\n",
    "\n",
    "Considerando que o algoritmo encontre o valor procurado na primeira repetição, o tempo de execução corresponderia à $T(n) = A(n/2)$. Contudo, no pior caso o algoritmo não localizará o valor procurado. Neste caso, o algoritmo repetirá o processo de busca até que o tamanho do sub-vetor restante seja igual a 1 e o nº de repetições será igual a $\\log n$. Portanto, considerando o pior caso, o tempo de execução do algoritmo corresponderá a $T(n) = A(\\log n)$.\n",
    "\n",
    "Diante disso, é possível que o tempo de execução do algoritmo de busca binária recursiva é superior ao tempo de execução do algoritmo de busca binária iterativa."
   ]
  },
  {
   "cell_type": "markdown",
   "metadata": {},
   "source": [
    "Diferentemente do algoritmo de busca recursiva, o algoritmo de busca iterativa levou muito menos tempo para procurar o valor 100001 dentro da lista. Esse resultado é esperado, pois a função recursiva consome mais memória em relação à verão iterativa."
   ]
  },
  {
   "cell_type": "markdown",
   "metadata": {},
   "source": [
    "### **Parte 2 - Revisão de Programação Básica**"
   ]
  },
  {
   "cell_type": "markdown",
   "metadata": {},
   "source": [
    "#### Questão 5\n",
    "\n",
    "Faça um programa que leia um texto do usuário e conte o número de vogais que aparecem. O texto fornecido deve estar em um arquivo.\n",
    "\n",
    "**Resposta**\n",
    "\n",
    "A etapa inicial correspondeu à etapa de preparação, visto que contemplou a leitura do arquivo .txt e a separação dos caracteres. Por fim, foi realizada uma comparação entre os caracteres extraídos do texto com as vogais contidas em uma lista informada separadamente.\n",
    "\n",
    "Limitação: não houve o tratamento para reconhecimento de vogais com acento (tanto na leitura do arquivo txt, como na função desenvolvida para contagem do nº de vogais).\n",
    "\n",
    "Características principais do código:\n",
    "\n",
    "* Leitura do texto contido no arquivo txt.\n",
    "\n",
    "* Transformação do texto em uma lista de caracteres.\n",
    "\n",
    "* Contagem do nº de vogais contidas no arquivo txt, com base em uma lista de vogais (considerando vogais minúsculas e maiúsculas)."
   ]
  },
  {
   "cell_type": "code",
   "execution_count": 6,
   "metadata": {},
   "outputs": [
    {
     "data": {
      "text/plain": [
       "<_io.TextIOWrapper name='text_user.txt' mode='r' encoding='cp1252'>"
      ]
     },
     "execution_count": 6,
     "metadata": {},
     "output_type": "execute_result"
    }
   ],
   "source": [
    "# Leitura do arquivo no formato txt\n",
    "texto = open(r\"text_user.txt\",\"r\")\n",
    "texto"
   ]
  },
  {
   "cell_type": "markdown",
   "metadata": {},
   "source": [
    "Após a leitura do arquivo .txt, é realizada a separação de cada caracter em uma lista para posterior análise de cada caracter."
   ]
  },
  {
   "cell_type": "code",
   "execution_count": 7,
   "metadata": {},
   "outputs": [
    {
     "data": {
      "text/plain": [
       "[['O',\n",
       "  's',\n",
       "  ' ',\n",
       "  'o',\n",
       "  'u',\n",
       "  't',\n",
       "  'l',\n",
       "  'i',\n",
       "  'e',\n",
       "  'r',\n",
       "  's',\n",
       "  ' ',\n",
       "  's',\n",
       "  'Ã',\n",
       "  '£',\n",
       "  'o',\n",
       "  ' ',\n",
       "  'o',\n",
       "  'b',\n",
       "  's',\n",
       "  'e',\n",
       "  'r',\n",
       "  'v',\n",
       "  'a',\n",
       "  'Ã',\n",
       "  '§',\n",
       "  'Ã',\n",
       "  'µ',\n",
       "  'e',\n",
       "  's',\n",
       "  ' ',\n",
       "  'q',\n",
       "  'u',\n",
       "  'e',\n",
       "  ' ',\n",
       "  'n',\n",
       "  'Ã',\n",
       "  '£',\n",
       "  'o',\n",
       "  ' ',\n",
       "  's',\n",
       "  'e',\n",
       "  'g',\n",
       "  'u',\n",
       "  'e',\n",
       "  'm',\n",
       "  ' ',\n",
       "  'u',\n",
       "  'm',\n",
       "  ' ',\n",
       "  'c',\n",
       "  'o',\n",
       "  'm',\n",
       "  'p',\n",
       "  'o',\n",
       "  'r',\n",
       "  't',\n",
       "  'a',\n",
       "  'm',\n",
       "  'e',\n",
       "  'n',\n",
       "  't',\n",
       "  'o',\n",
       "  ' ',\n",
       "  'p',\n",
       "  'a',\n",
       "  'd',\n",
       "  'r',\n",
       "  'Ã',\n",
       "  '£',\n",
       "  'o',\n",
       "  ' ',\n",
       "  'e',\n",
       "  'm',\n",
       "  ' ',\n",
       "  'u',\n",
       "  'm',\n",
       "  'a',\n",
       "  ' ',\n",
       "  's',\n",
       "  'Ã',\n",
       "  '©',\n",
       "  'r',\n",
       "  'i',\n",
       "  'e',\n",
       "  ' ',\n",
       "  't',\n",
       "  'e',\n",
       "  'm',\n",
       "  'p',\n",
       "  'o',\n",
       "  'r',\n",
       "  'a',\n",
       "  'l',\n",
       "  '.',\n",
       "  ' ']]"
      ]
     },
     "execution_count": 7,
     "metadata": {},
     "output_type": "execute_result"
    }
   ],
   "source": [
    "# Criação de lista com caracteres do texto\n",
    "caractere = [list(x) for x in texto]\n",
    "\n",
    "# Exibição da lista de caracteres\n",
    "caractere"
   ]
  },
  {
   "cell_type": "markdown",
   "metadata": {},
   "source": [
    "Elaboração de uma função para a verificação dos caracteres e identificação de quais são vogais (essa verificação é realizada por meio da comparação dos caracteres extraídos do arquivo com a lista de vogais)."
   ]
  },
  {
   "cell_type": "code",
   "execution_count": 8,
   "metadata": {},
   "outputs": [],
   "source": [
    "# Função para contar o nº de vogais no texto\n",
    "def contagem_vogais(texto):\n",
    "    numero_vogais = 0\n",
    "    vogais = ['a', 'e', 'i', 'o', 'u', 'A', 'E', 'I', 'O', 'U']\n",
    "    for x in texto:\n",
    "        if x in vogais:\n",
    "            numero_vogais = numero_vogais + 1\n",
    "    return(numero_vogais)"
   ]
  },
  {
   "cell_type": "code",
   "execution_count": 9,
   "metadata": {},
   "outputs": [
    {
     "data": {
      "text/plain": [
       "32"
      ]
     },
     "execution_count": 9,
     "metadata": {},
     "output_type": "execute_result"
    }
   ],
   "source": [
    "# Contagem do nº de vogais no texto\n",
    "contagem_vogais(str(caractere))"
   ]
  },
  {
   "cell_type": "markdown",
   "metadata": {},
   "source": [
    "#### Questão 6\n",
    "\n",
    "Escrever uma função (e um programa que execute tal função) que determine se uma matriz quadrada de dimensão $n(n<100)$ é uma matriz de permutação. Uma matriz quadrada é chamada de matriz de permutação se seus elementos são apenas $0$'s e $1$'s e se em cada linha e coluna da matriz existe um único valor 1.\n",
    "\n",
    "Exemplo: A matriz $\\begin{pmatrix}\n",
    "1 & 0 & 0\\\\ \n",
    "0 & 0 & 1\\\\ \n",
    "0 & 1 & 0\n",
    "\\end{pmatrix}$ é uma matriz de permutação.\n",
    "\n",
    "**Resposta**\n",
    "\n",
    "Conforme descrito no enunciado, uma matriz de permutação é uma matriz que possui como elementos somente os números 0 e 1. Portanto, obrigatoriamente a soma dos elementos de cada linha tem que ser igual a 1 e a soma dos elementos de cada coluna também tem que ser igual a 1.\n",
    "\n",
    "A partir do conceito de matriz de permutação foi desenvolvida uma função que verifica se a soma dos itens de cada linha é igual a 1 e a soma dos itens de cada coluna é igual a 1. A função retornará um valor booleano, com `True` caso a matriz analisada seja de permutação e `False`, caso contrário.\n",
    "\n",
    "Dificuldade encontrada: compreender como implementar em código os requisitos necessários para que uma matriz seja de permutação.\n",
    "\n",
    "Principais caracaterísticas do código:\n",
    "\n",
    "* Cálculo da soma dos elementos de cada linha e de cada coluna da matriz.\n",
    "\n",
    "* Verificação do valor das somas realizadas."
   ]
  },
  {
   "cell_type": "code",
   "execution_count": 10,
   "metadata": {},
   "outputs": [],
   "source": [
    "# Definição da função para determinar se uma matriz é de permutação\n",
    "def permutation_check(order):\n",
    "    # Verifica se a soma dos elementos da linha = 1\n",
    "    if all(sum(rows) == 1 for rows in order):\n",
    "        # Verifica se a soma dos elementos da coluna = 1\n",
    "        return all(sum(columns) == 1 for columns in zip(*order))\n",
    "    return False"
   ]
  },
  {
   "cell_type": "markdown",
   "metadata": {},
   "source": [
    "*Teste 1: Verificação de uma matriz de números aleatórios*"
   ]
  },
  {
   "cell_type": "code",
   "execution_count": 11,
   "metadata": {},
   "outputs": [],
   "source": [
    "# Geração de matriz de números aleatórios\n",
    "import random\n",
    "from random import randint\n",
    "import numpy as np\n",
    "\n",
    "min_val = 0\n",
    "max_val = 9\n",
    "num_rows = 3\n",
    "num_cols = num_rows\n",
    "random_matrix = np.random.randint(min_val,max_val,(num_rows,num_cols))"
   ]
  },
  {
   "cell_type": "code",
   "execution_count": 12,
   "metadata": {},
   "outputs": [
    {
     "data": {
      "text/plain": [
       "array([[8, 1, 2],\n",
       "       [7, 5, 6],\n",
       "       [8, 7, 7]])"
      ]
     },
     "execution_count": 12,
     "metadata": {},
     "output_type": "execute_result"
    }
   ],
   "source": [
    "# Matriz de números aleatórios\n",
    "random_matrix"
   ]
  },
  {
   "cell_type": "code",
   "execution_count": 13,
   "metadata": {},
   "outputs": [
    {
     "data": {
      "text/plain": [
       "False"
      ]
     },
     "execution_count": 13,
     "metadata": {},
     "output_type": "execute_result"
    }
   ],
   "source": [
    "# Verifica se é matriz de números aleatórios é de permutação\n",
    "permutation_check(random_matrix)"
   ]
  },
  {
   "cell_type": "markdown",
   "metadata": {},
   "source": [
    "*Teste 2: Verificação de uma matriz identidade*"
   ]
  },
  {
   "cell_type": "code",
   "execution_count": 14,
   "metadata": {},
   "outputs": [],
   "source": [
    "# Matriz Identidade (que possui todas as características de uma matriz de permutação)\n",
    "identity_matrix = [\n",
    "                  [1, 0, 0],\n",
    "                  [0, 1, 0],\n",
    "                  [0, 0, 1],\n",
    "                  ]"
   ]
  },
  {
   "cell_type": "code",
   "execution_count": 15,
   "metadata": {},
   "outputs": [
    {
     "data": {
      "text/plain": [
       "True"
      ]
     },
     "execution_count": 15,
     "metadata": {},
     "output_type": "execute_result"
    }
   ],
   "source": [
    "# Verifica se é matriz de números aleatórios é de permutação\n",
    "permutation_check(identity_matrix)"
   ]
  },
  {
   "cell_type": "markdown",
   "metadata": {},
   "source": [
    "#### Questão 7\n",
    "\n",
    "Dado o polinômio $p(x) = a_0 + a_1x + \\dots + a_nx^n$, isto é, os valores de $n$ e de $a_0, a_1, \\dots, a_n$, determine os coeficientes reais da primeira derivada de $p(x), utilize os conceitos aprendidos de alocação dinâmica e de funções.\n",
    "\n",
    "**Contextualização**:\n",
    "\n",
    "A primeira derivada do polinômio $p(x) = a_0 + a_1x + \\dots + a_nx^n$ é $p'(x) = a_1 + 2a_2x + \\dots + na_nx^{n-1}$.\n",
    "\n",
    "Se $p(x) = p_1(x) + p_2(x) + \\dots + p_n(x)$, então $p'(x) = p'_1(x) + p'_2(x) + \\dots + p'_n(x)$\n",
    "\n",
    "**Resposta**:\n",
    "\n",
    "Como exemplo, será utilizada a função $p(x) = 2x^3 + 4x^2 + 3x + 1$, cuja primeira derivada é representada por $p ' (x) = 6x^2 + 8x + 3$.\n",
    "\n",
    "Dificuldade encontrada: saber como transformar o conceito matemático de derivada de uma função polinomial em código e como implementar este código.\n",
    "\n",
    "Limitação: Para esta questão fiz 2 testes. Para o primeiro teste, utilizei uma função que calculasse a primeira derivada de uma função polinomial, com a intenção de extrair seus coeficientes. Contudo, não consegui fazer a extração dos coeficientes desta derivada. Para o segundo teste, fiquei diretamente no cálculo dos coeficientes da derivada a partir da lista de coeficientes da função polinomial. Neste segundo teste, acredito ter tido êxito para o cálculo somente dos coeficientes da primeira derivada. "
   ]
  },
  {
   "cell_type": "markdown",
   "metadata": {},
   "source": [
    "*Primeira tentativa*\n",
    "\n",
    "Na primeira tentativa, foram desenvolvidas 3 funções: uma para a leitura do polinômio na forma de string, uma para preparar o polinômio para o cálculo da primeira derivada e uma para o cálculo da primeira derivada.\n",
    "\n",
    "Apesar de retornar a primeira derivada do polinômio (como string), esta solução não é otimizada (além de retornar uma string em vez de um array com os coeficientes da primeira derivada). Uma outra limitação é que, para o cálculo correto da primeira derivada, obrigatoriamente o polinômio tem que estar na forma $p(x) = a_nx^n + \\dots + a_1x + a_0$. Caso o polinônio esteja na forma $p(x) = a_0 + a_1x + \\dots + a_nx^n$, a primeira derivada não será calculada corretamente.\n",
    "\n",
    "Principais características do código:\n",
    "\n",
    "* Leitura da equação na forma de string.\n",
    "\n",
    "* Decomposição da equação, de acordo com a potência de cada termo.\n",
    "\n",
    "* Cálculo da derivada, considerando as seguintes regras de derivação:\n",
    "\n",
    "    (i) Se $f(x) = a$ ($a$ é constante), então $f'(x) = 0$;\n",
    "    \n",
    "    (ii) Se $f(x) = ax$ ($a$ é constante), então $f'(x) = a$;\n",
    "    \n",
    "    (iii) (Regra da potência) Se $f(x) = x^a$ ($a$ é constante), então $f'(x) = a·x^{a-1}$;\n",
    "    \n",
    "    (iv) (Regra da soma de funções) $[f (x) + g (x)]' = f'(x) + g'(x)$."
   ]
  },
  {
   "cell_type": "code",
   "execution_count": 16,
   "metadata": {},
   "outputs": [],
   "source": [
    "##### Primeiro Teste #####\n",
    "\"\"\"\n",
    "    Um polinômio em uma única variável pode ser representada como um array contendo os coeficientes.\n",
    "    Por exemplo, p(x) = 2x^3 + 4x^2 + 3x + 1 pode ser expresso como [2, 4, 3, 1]\n",
    "    Passos:\n",
    "        (i) Análise do polinômio\n",
    "        (ii) Obtenção dos componentes básicos da equação (coeficientes, potência de x)\n",
    "        (iii) Obtenção da fórmula da derivada\n",
    "        (iv) Retorno à equação da forma como a entrada foi dada\n",
    "\"\"\"\n",
    "\n",
    "import re\n",
    "\n",
    "# Função para a leitura do polinômio\n",
    "def read_equation(equation):\n",
    "    terms = equation.split('+')\n",
    "    equation = [re.split('x\\^?', t) for t in terms]\n",
    "    equation_list = []\n",
    "    for x in equation:\n",
    "        try:\n",
    "            coefficient = int(x[0])\n",
    "        except ValueError:\n",
    "            coefficient = 1\n",
    "        try:\n",
    "            exponential = int(x[1])\n",
    "        except ValueError:\n",
    "            exponential = 1\n",
    "        except IndexError:\n",
    "            exponential = 0\n",
    "        equation_list.append((coefficient, exponential))\n",
    "    return equation_list\n",
    "\n",
    "# Função para mapear o polinômio para o cálculo da primeira derivada\n",
    "def write_equation(equation_list):\n",
    "    def str_exponential(index):\n",
    "        if index == 0:\n",
    "            return ''\n",
    "        elif index == 1:\n",
    "            return 'x'\n",
    "        else:\n",
    "            return 'x^%d' % (index,)\n",
    "        \n",
    "    def str_coeff(coeff):\n",
    "        return '' if coeff == 1 else str(coeff)\n",
    "    str_terms = [(str_coeff(coeff) + str_exponential(index)) for coeff, index in equation_list]\n",
    "    return \"+\".join(str_terms)\n",
    "\n",
    "# Função para calcular a primeira derivada \n",
    "def derivative(equation):\n",
    "    equation_list = read_equation(equation)\n",
    "    derivative_list = [(index*coeff, index-1) for coeff, index in equation_list[:-1]]\n",
    "    return write_equation(derivative_list)"
   ]
  },
  {
   "cell_type": "code",
   "execution_count": 17,
   "metadata": {},
   "outputs": [
    {
     "data": {
      "text/plain": [
       "'6x^2+8x+3'"
      ]
     },
     "execution_count": 17,
     "metadata": {},
     "output_type": "execute_result"
    }
   ],
   "source": [
    "# Polinômio escolhido\n",
    "equation = \"2x^3 + 4x^2 + 3x + 1\"\n",
    "\n",
    "# Cálculo da 1ª derivada do polinômio escolhido\n",
    "derivative(equation)"
   ]
  },
  {
   "cell_type": "markdown",
   "metadata": {},
   "source": [
    "*Segunda Tentativa*\n",
    "\n",
    "Na segunda tentativa foi desenvolvida somente uma função, cujo imput é um array com os coeficientes do polinômio $p(x)$ e output é um array contendo os coeficientes da primeira derivada de $p(x)$.\n",
    "\n",
    "Uma outra limitação é que, para o cálculo correto da primeira derivada, obrigatoriamente o array contendo os coeficientes do polinômio $p(x) = a_0 + a_1x + \\dots + a_nx^n$ tem que seguir uma ordem específica, ou seja, o array tem que ser $[a_0, a_1, \\dots, a_n]$. Caso contrário, os coeficientes da primeira derivada não são calculados corretamente.\n",
    "\n",
    "Principais características do código:\n",
    "\n",
    "* Leitura dos coeficientes dos termos da função polinomial, na forma de array.\n",
    "\n",
    "* Cálculo da derivada, considerando as seguintes regras de derivação:\n",
    "\n",
    "    (i) Se $f(x) = a$ ($a$ é constante), então $f'(x) = 0$;\n",
    "    \n",
    "    (ii) Se $f(x) = ax$ ($a$ é constante), então $f'(x) = a$;\n",
    "    \n",
    "    (iii) (Regra da potência) Se $f(x) = x^a$ ($a$ é constante), então $f'(x) = a·x^{a-1}$;\n",
    "    \n",
    "    (iv) (Regra da soma de funções) $[f (x) + g (x)]' = f'(x) + g'(x)$."
   ]
  },
  {
   "cell_type": "code",
   "execution_count": 18,
   "metadata": {},
   "outputs": [],
   "source": [
    "##### Teste 2 #####\n",
    "# Função para calcular a primeira derivada\n",
    "def derivative_equation(coefficients):\n",
    "    # Os coeficientes da primeira derivada serão adicionados na lista abaixo\n",
    "    derivative_coefficients = []\n",
    "    # Coeficientes da derivada\n",
    "    for i in range(0,len(coefficients)):\n",
    "        derivative_coefficients.append(coefficients[i]*i)\n",
    "    # Retorna os coeficientes da derivada\n",
    "    return derivative_coefficients"
   ]
  },
  {
   "cell_type": "code",
   "execution_count": 19,
   "metadata": {},
   "outputs": [
    {
     "data": {
      "text/plain": [
       "[0, 3, 8, 6]"
      ]
     },
     "execution_count": 19,
     "metadata": {},
     "output_type": "execute_result"
    }
   ],
   "source": [
    "# Polinômio escolhido: p(x) = 2x^3 + 4x^2 + 3x + 1 = 1 + 3x + 4x^2 + 2x^3\n",
    "# Coeficientes deste polinômio: [1, 3, 4, 2]\n",
    "derivative_equation([1, 3, 4, 2])"
   ]
  },
  {
   "cell_type": "markdown",
   "metadata": {},
   "source": [
    "### **Parte 3 - Programação com Estruturas de Dados**"
   ]
  },
  {
   "cell_type": "markdown",
   "metadata": {},
   "source": [
    "**Questão 8**\n",
    "\n",
    "Conjuntos podem ser representados pela lista de seus elementos. Supondo esta representação, escreva funções para as operações usais de conjuntos.\n",
    "\n",
    "Neste caso, vocês criarão novos nós para compor a lista C.\n",
    "\n",
    "(a) União ($C = A \\cup B$) \n",
    "\n",
    "(b) Interseção ($C = A \\cap B$)\n",
    "\n",
    "(c) Diferença ($C = A - B$)\n",
    "\n",
    "(d) Pertinência ($C = A \\in  B$)"
   ]
  },
  {
   "cell_type": "markdown",
   "metadata": {},
   "source": [
    "**Contextualização**:\n",
    "\n",
    "Segundo Necaise (2011), uma estrutura encadeada é uma coleção de objetos (nós), com cada um contendo dados e pelo menos uma refência, ou link, para outro nó. Uma lista encadeada é uma estrutura encadeada em que os nós estão conectados em sequência para formar uma lista.\n",
    "\n",
    "Uma lista encadeamento simples é uma lista encadeada onde cada nó contém um único campo de ligação e permite uma completa travessia do primeiro até o último nó. Além disso, o campo de ligação entre os nós é unidirecional (ou seja, os nós são encadeados em uma única direção).\n",
    "\n",
    "\n",
    "**Reposta**:\n",
    "\n",
    "Para o desenvolvimento desta questão foram definidas 2 estruturas (representadas pelas classes), uma para representar o nó da lista (classe `Node`) e a outra para representar a lista em si (classe `LinkedList`). Além disso, foram definidas funções (dentro da classe `LinkedList`) para o desenvolvimento dos itens da questão.\n",
    "\n",
    "Limitações: a função para calcular a operação $C = A - B$ não exibe o resultado. Além disso, não consegui definir uma função que imprimisse a lista com o formato `node1 -> node2 -> ... -> NULL`. Por fim, a operação de união não desconsidera os elementos em duplicidade (para isso, é preciso utilizar a função `unique`).\n",
    "\n",
    "Dificuldades encontradas: compreender o conceito de listas encadeadas, bem como sua construção e sua dinâmica; e (ii) implementar código para a criação de uma lista encadeada; e (iii) implementar código que realize operações entre duas listas encadeadas.\n",
    "\n",
    "Princiáis características do código:\n",
    "\n",
    "* Implementação de uma classe com funções que cria estruturas de nós.\n",
    "\n",
    "* Implementação de uma classe com funções que cria uma lista encadeada vazia e com funções que permitem a manipulação de seus elementos.\n",
    "\n",
    "* Implementação de funções voltada para manipulação de elementos de uma única lista encadeada e de funções que envolvem operações envolvendo 2 listas encadeadas.\n",
    "\n",
    "* Implementação de funções acessórias para suporte das funções diretamente relacionadas aos objetivos do enunciado da questão."
   ]
  },
  {
   "cell_type": "code",
   "execution_count": 20,
   "metadata": {},
   "outputs": [],
   "source": [
    "# Definição da classe Node (estrutura para representar o nó da lista)\n",
    "class Node:\n",
    "    # Função de criação (construtor)\n",
    "    def __init__(self, data, next=None):\n",
    "        self.data = data\n",
    "        self.next = next\n",
    "        \n",
    "    \"\"\"\n",
    "        Um nó é representado por uma estrutura que contém 2 campos: a informação armazenada e o ponteiro para o\n",
    "        próximo elemento da lista. O último nó da lista encadeada armazena um ponteiro inválido, sinalizando que não\n",
    "        existe um próximo nó.\n",
    "    \"\"\""
   ]
  },
  {
   "cell_type": "code",
   "execution_count": 21,
   "metadata": {},
   "outputs": [],
   "source": [
    "# Definição da classe LinkedList\n",
    "class LinkedList:\n",
    "    # Função de criação (construtor)\n",
    "    # A função que cria uma lista vazia deve ter como valor de retorno uma lista sem nenhum elemento\n",
    "    def __init__(self):\n",
    "        self.head = None   # inicialmente não aponta para ninguém\n",
    "        self.next = None   # inicialmente não aponta para ninguém\n",
    "        \n",
    "    \"\"\"\n",
    "        A função init aloca dinamicamente o espaço para armazenar o novo nó da lista, guarda a informação no novo nó e \n",
    "        faz este nó apontar para o nó que era o primeiro da lista. O primeiro nó da lista é, então, atualizado.\n",
    "    \"\"\"\n",
    " \n",
    "    # Identifica a referência anterior do nó (acesso ao nó anterior)\n",
    "    def previous_node(self, data):\n",
    "        current = self.head\n",
    "        while (current and current.next != data):\n",
    "            current = current.next\n",
    "        return current\n",
    "    \n",
    "    # Copia os valores associados aos elementos armazenados em uma lista\n",
    "    def duplicate(self):\n",
    "        copy = LinkedList()\n",
    "        current = self.head\n",
    "        while current:\n",
    "            node = Node(current.data)\n",
    "            copy.insert(node)\n",
    "            current = current.next\n",
    "        return copy\n",
    "    \n",
    "    \"\"\"\n",
    "        Para duplicar uma lista, o algoritmo primeiro cria uma nova lista (copy), varre a lista copiando cada elemento e,\n",
    "        posteriormente, insere os elementos copiados na nova lista (copy).\n",
    "    \"\"\"\n",
    "    \n",
    "    # Insere novos elementos a uma lista (insere elementos no final da lista)\n",
    "    def insert(self, data):\n",
    "        if self.head is None:\n",
    "            self.head = data\n",
    "        else:\n",
    "            current = self.head\n",
    "            while current.next is not None:\n",
    "                current = current.next\n",
    "            current.next = data\n",
    "            \n",
    "    \"\"\"\n",
    "        Para inserir novos elementos à lista, o algoritmo primeiro verifica se a lista está vazia. Caso esteja vazia,\n",
    "        o algoritmo coloca o novo elemento no primeiro nó (head). Caso contrário, o algoritmo atravessa a lista até o\n",
    "        último nó, insere o novo elemento no último nó e cria um link entre os 2 últimos nós.\n",
    "    \"\"\"\n",
    " \n",
    "    # Remove os valores associados aos elementos armazenados em uma lista\n",
    "    def remove(self, data):\n",
    "        prev_node = self.previous_node(data)\n",
    "        if prev_node is None:\n",
    "            self.head = self.head.next\n",
    "        else:\n",
    "            prev_node.next = data.next\n",
    "    \n",
    "    \"\"\"\n",
    "        Para remover um nó da lista é preciso religar o nó antecessor com o nó sucessor, de modo a evitar que elementos\n",
    "        fiquem inacessíveis pela quebra do encadeamento sequencial.\n",
    "    \"\"\"\n",
    " \n",
    "    # Imprime os valores associados aos elementos armazenados em uma lista\n",
    "    def display(self):\n",
    "        current = self.head\n",
    "        while current:\n",
    "            print(current.data, end = ' ')\n",
    "            current = current.next\n",
    "            \n",
    "    \"\"\"\n",
    "        Para imprimir os elementos de uma lista, o algoritmo atravessa uma lista exibindo cada elemento desta lista.\n",
    "    \"\"\"\n",
    "\n",
    "    # Inverte a posição dos elementos de uma lista (utilizado na questão 10)\n",
    "    def reverse(self):\n",
    "        prev = None\n",
    "        current = self.head\n",
    "        while (current is not None):\n",
    "            next = current.next\n",
    "            current.next = prev\n",
    "            prev = current\n",
    "            current = next\n",
    "        self.head = prev\n",
    "\n",
    "    \"\"\"\n",
    "        Para inverter a posição dos elementos de uma lista, o algoritmo varre a lista trocando de lugar o elemento\n",
    "        com seu elemento antecessor (em outras palavras, troca o nó com o nó anterior).\n",
    "    \"\"\"\n",
    "\n",
    "    # Analisa se determinados elementos pertencem a uma lista\n",
    "    def pertinence(self, llist):\n",
    "        if self.search(llist):\n",
    "            return True \n",
    "        return False\n",
    "    \n",
    "    \"\"\"\n",
    "        Para verificar se uma lista pertence à outra o algoritmo utiliza a função search (abaixo). Assim, atravessa a 2ª\n",
    "        lista e verifica se todos os elementos da primeira lista estão contidos na 2ª lista.\n",
    "    \"\"\"\n",
    "\n",
    "    # Verifica se determinado elemento está contido em uma lista\n",
    "    def search(self, llist):\n",
    "        current = self.head\n",
    "        while  current and current.data != llist:\n",
    "            current = current.next\n",
    "        return current\n",
    "    \n",
    "    \"\"\"\n",
    "        Para realizar busca de um elemento em uma lista, o algoritmo primeiro atravessa esta lista procurando\n",
    "        se há correspondência do elemento procurado com algum elemento da lista.\n",
    "    \"\"\"\n",
    "\n",
    "    # Remove elementos em duplicidade em uma lista\n",
    "    def unique(llist):\n",
    "        current1 = llist.head\n",
    "        while current1:\n",
    "            current2 = current1.next\n",
    "            data = current1.data\n",
    "            while current2:\n",
    "                temp = current2\n",
    "                current2 = current2.next\n",
    "                if temp.data == data:\n",
    "                    llist.remove(temp)\n",
    "            current1 = current1.next\n",
    "            \n",
    "    \"\"\"\n",
    "        Para remover elementos em duplicidade, o algoritmo percorre a lista e verifica se há alguma correspondência.\n",
    "        Caso haja correspondência, então remove os elementos em duplicidade da lista original.\n",
    "    \"\"\"            \n",
    "\n",
    "    # Realiza a união dos elementos de duas listas\n",
    "    def union(self, llist):\n",
    "        # Verifica se a primeira lista está vazia (caso esteja vazia, retorna com a cópia da segunda lista)\n",
    "        if self.head is None:\n",
    "            join = llist.duplicate()\n",
    "            return join\n",
    "        # Verifica se a segunda lista está vazia (caso esteja vazia, retorna com a cópia da segunda lista)\n",
    "        if llist.head is None:\n",
    "            join = self.duplicate()\n",
    "            return join\n",
    "        #Caso as 2 listas não esteja vazia, retorna com a cópia de ambas as listas em uma única lista\n",
    "        join = self.duplicate()\n",
    "        tail = join.head\n",
    "        while tail.next is not None:\n",
    "            tail = tail.next\n",
    "        llistClone = llist.duplicate()\n",
    "        tail.next = llistClone.head\n",
    "        return join\n",
    "    \n",
    "    \"\"\"\n",
    "        Para realizar a união de 2 listas, o algoritmo primeiro verifica se as listas estão vazias. Caso uma delas\n",
    "        esteja vazia, o mesmo retorna com a cópia da outra lista. No caso de ambas as listas não estiverem vazia,\n",
    "        o algoritmo cria lista nova (join), atravessa a 1ª lista e adiciona seus elementos à nova lista (join),\n",
    "        posteriormente atravessa a 2ª lista e adiciona seus elementos à nova lista (join).\n",
    "    \"\"\"\n",
    "    \n",
    "    # Realiza a interseção entre elementos de duas listas\n",
    "    def intersection(self, llist):\n",
    "        if (self.head is None or llist.head is None):\n",
    "            return LinkedList()\n",
    "        equal = LinkedList()\n",
    "        current1 = self.head\n",
    "        while current1:\n",
    "            current2 = llist.head\n",
    "            data = current1.data\n",
    "            while current2:\n",
    "                if current2.data == data:\n",
    "                    node = Node(data)\n",
    "                    equal.insert(node)\n",
    "                    break\n",
    "                current2 = current2.next\n",
    "            current1 = current1.next\n",
    "        return equal \n",
    "\n",
    "    \"\"\"\n",
    "        Para realizar a interseção de 2 listas, o algoritmo primeiro verifica se ambas as listas estão vazias.\n",
    "        Caso uma delas esteja vazia, retorna com uma lista vazia. No caso de ambas as listas não estiverem vazia,\n",
    "        o algoritmo cria lista nova (equal), atravessa a 1ª lista e olha todos os elementos da 2ª lista. Se o elemento\n",
    "        da 1ª lista também estiver contido na 2ª lista, adiciona o elemento à nova lista (equal).\n",
    "    \"\"\"\n",
    "    \n",
    "    # Realiza a operação de diferença entre 2 listas\n",
    "    def difference(self, llist):\n",
    "        current1 = self.head\n",
    "        current2 = llist.head\n",
    "        diff = LinkedList()\n",
    "        diff = self.duplicate()\n",
    "        while current1:\n",
    "            current1 = current1.next\n",
    "            while current2:\n",
    "                diff.remove(current2.data)\n",
    "                current2 = current2.next\n",
    "        return diff\n",
    "\n",
    "    \"\"\"\n",
    "        Para realizar a diferenla entre 2 listas, o algoritmo primeiro cria lista nova (diff), atravessa a 1ª lista\n",
    "        e copia os seus elementos para a nova lista. Posteriormente, atravessa a 2ª lista e olha todos os seus elementos.\n",
    "        Se o elemento da 1ª lista também estiver contido na 2ª lista, então remove estes elementos da nova lista (diff).\n",
    "    \"\"\""
   ]
  },
  {
   "cell_type": "code",
   "execution_count": 22,
   "metadata": {},
   "outputs": [
    {
     "name": "stdout",
     "output_type": "stream",
     "text": [
      "1 2 3 4 5 6 7 "
     ]
    }
   ],
   "source": [
    "# Criação de instância da lista encadeada\n",
    "list1 = LinkedList()\n",
    "\n",
    "# Armazenamento dos dados na lista encadeada\n",
    "list1.insert(Node(int(1)))\n",
    "list1.insert(Node(int(2)))\n",
    "list1.insert(Node(int(3)))\n",
    "list1.insert(Node(int(4)))\n",
    "list1.insert(Node(int(5)))\n",
    "list1.insert(Node(int(6)))\n",
    "list1.insert(Node(int(7)))\n",
    "\n",
    "# Impressão dos elementos contidos na lista encadeada (para conferência)\n",
    "list1.display()"
   ]
  },
  {
   "cell_type": "code",
   "execution_count": 23,
   "metadata": {},
   "outputs": [
    {
     "name": "stdout",
     "output_type": "stream",
     "text": [
      "2 4 6 8 10 12 14 "
     ]
    }
   ],
   "source": [
    "# Criação de instância da lista encadeada\n",
    "list2 = LinkedList()\n",
    "\n",
    "# Armazenamento dos dados na lista encadeada\n",
    "list2.insert(Node(int(2)))\n",
    "list2.insert(Node(int(4)))\n",
    "list2.insert(Node(int(6)))\n",
    "list2.insert(Node(int(8)))\n",
    "list2.insert(Node(int(10)))\n",
    "list2.insert(Node(int(12)))\n",
    "list2.insert(Node(int(14)))\n",
    "\n",
    "# Impressão dos elementos contidos na lista encadeada (para conferência)\n",
    "list2.display()"
   ]
  },
  {
   "cell_type": "markdown",
   "metadata": {},
   "source": [
    "União entre 2 listas encadeadas ($C = A \\cup B$)"
   ]
  },
  {
   "cell_type": "code",
   "execution_count": 24,
   "metadata": {},
   "outputs": [
    {
     "name": "stdout",
     "output_type": "stream",
     "text": [
      "1 2 3 4 5 6 7 2 4 6 8 10 12 14 "
     ]
    }
   ],
   "source": [
    "list_union = LinkedList()\n",
    "list_union = list1.union(list2)\n",
    "list_union.display()"
   ]
  },
  {
   "cell_type": "markdown",
   "metadata": {},
   "source": [
    "Interseção entre 2 listas encadeadas ($C = A \\cap B$)"
   ]
  },
  {
   "cell_type": "code",
   "execution_count": 25,
   "metadata": {},
   "outputs": [
    {
     "name": "stdout",
     "output_type": "stream",
     "text": [
      "2 4 6 "
     ]
    }
   ],
   "source": [
    "list_intersection = LinkedList()\n",
    "list_intersection = list1.intersection(list2)\n",
    "list_intersection.display()"
   ]
  },
  {
   "cell_type": "markdown",
   "metadata": {},
   "source": [
    "Diferença entre 2 listas encadeadas ($C = A - B$)\n",
    "\n",
    "(nesta etapa, o código executa sem exibição de mensagem de erro, mas não exibe o resultado)"
   ]
  },
  {
   "cell_type": "code",
   "execution_count": 26,
   "metadata": {},
   "outputs": [],
   "source": [
    "list_difference = LinkedList()\n",
    "list_difference = list1.difference(list2)\n",
    "list_difference.display()"
   ]
  },
  {
   "cell_type": "markdown",
   "metadata": {},
   "source": [
    "Relação de pertinência entre duas listas encadeadas ($C = A \\in  B$)"
   ]
  },
  {
   "cell_type": "code",
   "execution_count": 27,
   "metadata": {},
   "outputs": [
    {
     "data": {
      "text/plain": [
       "False"
      ]
     },
     "execution_count": 27,
     "metadata": {},
     "output_type": "execute_result"
    }
   ],
   "source": [
    "list1.pertinence(list2)"
   ]
  },
  {
   "cell_type": "markdown",
   "metadata": {},
   "source": [
    "**Questão 9**\n",
    "\n",
    "Considere listas implementadas por encadeamento duplo, então pede-se para implementar funções que:\n",
    "\n",
    "(a) Localize/Pesquise/Encontre (search) elementos\n",
    "\n",
    "(b) Concatenar/Intercalar (Merge) duas listas\n",
    "\n",
    "(c) Dividir uma lista em várias ($k$)\n",
    "\n",
    "(d) Copiar uma lista\n",
    "\n",
    "(e) Ordernar (sort) uma lista por ordem crescente/decrescente"
   ]
  },
  {
   "cell_type": "markdown",
   "metadata": {},
   "source": [
    "**Contextualização**\n",
    "\n",
    "Segundo Celes et al. (2016), nas listas duplamente encadeadas cada elemento tem um ponteiro para o próximo elemento e um ponteiro para o elemento anterior. Assim, dado um elemento, é possível acessar ambos os elemento adjacentes (antecessor e sucessor). Portanto, em uma lista duplamente encadeada, cada nó possui uma informação e 2 referências (uma para o nó antecessor e um para o nó sucessor).\n",
    "\n",
    "**Resposta**\n",
    "\n",
    "Para o desenvolvimento desta questão foram definidas 2 estruturas (representadas pelas classes), uma para representar o nó da lista (classe `Node`) e a outra para representar a lista em si (classe `DoubleLinkedList`). Além disso, foram definidas funções (dentro da classe `DoubleLinkedList`) para o desenvolvimento dos itens da questão.\n",
    "\n",
    "Limitações: a função para dividir uma lista em várias só consegue dividir a lista em 2 partes iguais (obrigando a lista ter somente número par de elementos). Além disso, não consegui definir uma função que imprimisse a lista com o formato `node1 <=> node2 <=> ... <=> NULL`.\n",
    "\n",
    "Dificuldades encontradas: compreender o conceito de listas duplamente encadeadas, bem como sua construção e sua dinâmica; e (ii) implementar código para a criação de uma lista duplamente encadeada (mais complexa que a de uma lista encadeada); (iii) implementar código que concatenasse duas listas duplamente encadeadas; e (iv) implementar código que dividisse uma lista duplamente encadeada em diversas sublistas.\n",
    "\n",
    "Princiáis características do código:\n",
    "\n",
    "* Implementação de uma classe com funções que cria estruturas de nós.\n",
    "\n",
    "* Implementação de uma classe com funções que cria uma lista duplamente encadeada vazia e com funções que permitem a manipulação de seus elementos.\n",
    "\n",
    "* Implementação de funções voltada para manipulação de elementos de uma única lista duplamente encadeada e de funções que envolvem a concatenação dos elementos contidos em 2 listas duplamente encadeadas.\n",
    "\n",
    "* Implementação de funções acessórias para suporte das funções diretamente relacionadas aos objetivos do enunciado da questão."
   ]
  },
  {
   "cell_type": "code",
   "execution_count": 28,
   "metadata": {},
   "outputs": [],
   "source": [
    "# Definição da classe Node\n",
    "class Node:  \n",
    "    # Construtor\n",
    "    def __init__(self,data):    \n",
    "        self.data = data    \n",
    "        self.previous = None    # inicialmente não aponta para ninguém\n",
    "        self.next = None        # inicialmente não aponta para ninguém\n",
    "        \n",
    "    \"\"\"\n",
    "        Em uma lista duplamente encadeada, cada nó contém não somente o componente dado e um link para o próximo nó,\n",
    "        mas também um link para o nó anterior\n",
    "    \"\"\""
   ]
  },
  {
   "cell_type": "code",
   "execution_count": 29,
   "metadata": {},
   "outputs": [],
   "source": [
    "# Criação de classe SearchList\n",
    "class DoubleLinkedList:    \n",
    "    # Construtor\n",
    "    def __init__(self):    \n",
    "        self.head = None    # início da lista\n",
    "        self.tail = None    # fim da lista\n",
    "            \n",
    "    # Adiciona elemento à lista    \n",
    "    def add_node(self, data):    \n",
    "        # Cria um novo nó    \n",
    "        newNode = Node(data)\n",
    "        # Se a lista estiver vazia    \n",
    "        if(self.head == None):    \n",
    "            # Tanto head quanto tail apontarão para o novo nó (newNode)    \n",
    "            self.head = self.tail = newNode    \n",
    "            # Nó antecessor ao head apontará para None    \n",
    "            self.head.previous = None    \n",
    "            # Nó sucessor de tail apontará para None    \n",
    "            self.tail.next = None   \n",
    "        else:   # Se a lista não estiver vazia \n",
    "            # O novo nó (newNode) será adicionado depois de tail    \n",
    "            self.tail.next = newNode    \n",
    "            # O nó antecesso (newNode) apontará para tail   \n",
    "            newNode.previous = self.tail    \n",
    "            # O novo nó (newNode) se tornará o novo tail    \n",
    "            self.tail = newNode    \n",
    "            # Como é o último nó, o próximo apontará para None    \n",
    "            self.tail.next = None    \n",
    "    \n",
    "    \"\"\"\n",
    "        Para inserir um novo nó em uma lista duplamente encadeada é preciso conectar o nó novo ao nó antecessor e ao nó\n",
    "        sucessor. O algoritmo primeiro verifica se a lista está vazia. Caso esteja vazia, insere o elemento no primeiro\n",
    "        nó. Caso contrário, o novo elemento será adicionado depois do último nó, tornando o novo último nó da lista e\n",
    "        apontando para NULL.\n",
    "    \"\"\"\n",
    "    \n",
    "    # Busca por um determinado elemento da lista    \n",
    "    def search(self, value):    \n",
    "        i = 1;   \n",
    "        flag = False    \n",
    "        # Nó atual apontará para head    \n",
    "        current = self.head    \n",
    "        # Verifica se a lista está vazia    \n",
    "        if(self.head == None):    \n",
    "            print(\"Lista está vazia\")    \n",
    "            return   \n",
    "        # Enquanto a lista não estiver vazia\n",
    "        while(current != None):    \n",
    "            # Compara o valor procurado com cada nó na lista    \n",
    "            if(current.data == value):    \n",
    "                flag = True    \n",
    "                break    \n",
    "            current = current.next    \n",
    "            i = i + 1   \n",
    "        if(flag):    \n",
    "            print(\"O nó está presenta na lista na posição: \" + str(i))    \n",
    "        else:    \n",
    "            print(\"O nó não está presente na lista\")\n",
    "            \n",
    "    \"\"\"\n",
    "        Para verificar se determinado elemento está contido na lista, o algoritmo atravessa a lista comparando o\n",
    "        elemento procurado com os elementos da lista.\n",
    "    \"\"\"\n",
    "    \n",
    "    # Imprime elementos da lista\n",
    "    def display(self):\n",
    "        # Define novo nó current que apontará para head\n",
    "        current = self.head;\n",
    "        if(self.head == None):\n",
    "            print(\"Lista está vazia\")\n",
    "            return\n",
    "        while(current != None):\n",
    "            # Exibe cada nó incrementando o ponteiro\n",
    "            print(current.data)\n",
    "            current = current.next\n",
    "        print()\n",
    "        \n",
    "    \"\"\"\n",
    "        Para imprimir os elementos de uma lista, o algoritmo primeiro verifica se a lista está vazia.\n",
    "        Caso esteja vazia, retorna com mensagem indicando que está vazia. Caso contrário, atravessa a lista\n",
    "        exibindo cada elemento desta lista.\n",
    "    \"\"\"\n",
    "    \n",
    "    # Concatena elementos de duas listas\n",
    "    def merge(self, value):\n",
    "        if self.tail and value.head:\n",
    "            self.tail.next = value.head\n",
    "            value.head.previous = self.tail\n",
    "            return self\n",
    "        \n",
    "    \"\"\"\n",
    "        Para concatenar os elementos das listas, o algoritmo localiza o último nó da primeira lista e, posteriormente,\n",
    "        insere os elementos da segunda lista após o último nó da primeira lista.\n",
    "    \"\"\"\n",
    "    \n",
    "    # Calcula o nº de elementos da lista\n",
    "    def lenght(self):\n",
    "        temp = self.head   # Inicializa temp\n",
    "        count = 0          # Inicializa count\n",
    "        # Loop enquanto o fim da lista não é alcançado\n",
    "        while (temp):\n",
    "            count += 1\n",
    "            temp = temp.next\n",
    "        return count\n",
    "\n",
    "    \"\"\"\n",
    "        Para calcular o tamanho da lista, o algoritmo atravessa a lista contando quantos elementos ela possui\n",
    "    \"\"\"\n",
    "\n",
    "    # Divide a lista (neste caso, divide somente em 2 partes iguais)\n",
    "    def split(self, a, b):\n",
    "        first = self.head\n",
    "        second = first.next\n",
    "        while (first is not None and second is not None and first.next is not None):\n",
    "            self.MoveNode(a, first)\n",
    "            self.MoveNode(b, second)\n",
    "            first = first.next.next\n",
    "            if first is None:\n",
    "                break\n",
    "            second = first.next\n",
    "            \n",
    "    \"\"\"\n",
    "        Para dividir uma lista em duas listas, o algoritmo verifica se a lista está vazia. Caso não esteja vazia, o\n",
    "        algoritmo realiza a separação dos elementos, de modo que a metade dos elementos fique na primeira sublista e\n",
    "        a outra metade dos elementos fique na outra sublista. Para isso, o algoritmo utiliza a função MoveNode para\n",
    "        mover os elementos da lista original para uma das sublistas.\n",
    "    \"\"\"\n",
    "    \n",
    "    # Move elementos de posição dentro da lista\n",
    "    def MoveNode(self, dest, node):\n",
    "        newNode = Node(node.data)\n",
    "        if dest.head is None:\n",
    "            dest.head = newNode\n",
    "        else:\n",
    "            newNode.next = dest.head\n",
    "            dest.head = newNode\n",
    "\n",
    "    \"\"\"\n",
    "        Para mudar a posição dos elementos de uma lista, o algoritmo primeiro cria um novo nó e, posteriormente,\n",
    "        verifica se a posição de destino está vazia. Caso esteja vazia, muda o nó de lugar. Caso contrário, coloca\n",
    "        o nó na posição posterior.\n",
    "    \"\"\"\n",
    "\n",
    "    # Cria uma lista nova e copia os elementos da lista original\n",
    "    def clone(self):\n",
    "        temp = self.head\n",
    "        cloneList = DoubleLinkedList()\n",
    "        while temp:\n",
    "            cloneList.add_node(temp.data)\n",
    "            temp = temp.next\n",
    "        return cloneList\n",
    "\n",
    "    \"\"\"\n",
    "        Para duplicar uma lista, o algoritmo primeiro cria uma nova lista (cloneList), varre a lista copiando cada elemento e,\n",
    "        posteriormente, insere os elementos copiados na nova lista (cloneList).\n",
    "    \"\"\"\n",
    "    \n",
    "    # Ordena os elementos da lista em ordem crescente\n",
    "    def sort(self):\n",
    "        if (self.head == None):\n",
    "            return\n",
    "        else:\n",
    "            current = self.head\n",
    "            while (current.next != None):\n",
    "                index = current.next\n",
    "                while (index != None):\n",
    "                    if (current.data > index.data):\n",
    "                        temp = current.data\n",
    "                        current.data = index.data\n",
    "                        index.data = temp\n",
    "                    index = index.next\n",
    "                current = current.next\n",
    "    \n",
    "    # Ordena os elementos da lista em ordem decrescente\n",
    "    def inverse(self):\n",
    "        if (self.head == None):\n",
    "            return\n",
    "        else:\n",
    "            current = self.head\n",
    "            while (current.next != None):\n",
    "                index = current.next\n",
    "                while (index != None):\n",
    "                    if (current.data < index.data):\n",
    "                        temp = current.data\n",
    "                        current.data = index.data\n",
    "                        index.data = temp\n",
    "                    index = index.next\n",
    "                current = current.next\n",
    "                \n",
    "    \"\"\"\n",
    "        As funções de ordenação (sort e inverse) possuem funcionamento semelhante. Para ordenar os elementos de uma lista,\n",
    "        o algoritmo primeiro verifica se a lista está vazia. Caso não esteja, compara os elementos e os reposiciona conforme\n",
    "        seus respectivos valores\n",
    "    \"\"\""
   ]
  },
  {
   "cell_type": "code",
   "execution_count": 30,
   "metadata": {},
   "outputs": [
    {
     "name": "stdout",
     "output_type": "stream",
     "text": [
      "1\n",
      "5\n",
      "4\n",
      "2\n",
      "3\n",
      "10\n",
      "\n"
     ]
    }
   ],
   "source": [
    "# Criação de instância da lista encadeada\n",
    "listA = DoubleLinkedList()   \n",
    "\n",
    "# Armazenamento dos dados na lista encadeada    \n",
    "listA.add_node(1)    \n",
    "listA.add_node(5)   \n",
    "listA.add_node(4)   \n",
    "listA.add_node(2)    \n",
    "listA.add_node(3)\n",
    "listA.add_node(10)\n",
    "\n",
    "# Impressão dos dados da lista encadeada\n",
    "listA.display()"
   ]
  },
  {
   "cell_type": "code",
   "execution_count": 31,
   "metadata": {},
   "outputs": [
    {
     "name": "stdout",
     "output_type": "stream",
     "text": [
      "2\n",
      "4\n",
      "5\n",
      "8\n",
      "9\n",
      "20\n",
      "\n"
     ]
    }
   ],
   "source": [
    "# Criação de instância da lista encadeada\n",
    "listB = DoubleLinkedList()   \n",
    "\n",
    "# Armazenamento dos dados na lista encadeada\n",
    "listB.add_node(2)    \n",
    "listB.add_node(4)   \n",
    "listB.add_node(5)   \n",
    "listB.add_node(8)    \n",
    "listB.add_node(9)\n",
    "listB.add_node(20)\n",
    "\n",
    "# Impressão dos dados da lista encadeada\n",
    "listB.display()"
   ]
  },
  {
   "cell_type": "markdown",
   "metadata": {},
   "source": [
    "Localização de elementos na lista"
   ]
  },
  {
   "cell_type": "code",
   "execution_count": 32,
   "metadata": {},
   "outputs": [
    {
     "name": "stdout",
     "output_type": "stream",
     "text": [
      "O nó está presenta na lista na posição: 3\n"
     ]
    }
   ],
   "source": [
    "# Busca pelo nó 4    \n",
    "listA.search(4)    "
   ]
  },
  {
   "cell_type": "code",
   "execution_count": 33,
   "metadata": {},
   "outputs": [
    {
     "name": "stdout",
     "output_type": "stream",
     "text": [
      "O nó não está presente na lista\n"
     ]
    }
   ],
   "source": [
    "# Busca pelo elemento 9    \n",
    "listA.search(9)"
   ]
  },
  {
   "cell_type": "markdown",
   "metadata": {},
   "source": [
    "Merge entre 2 listas"
   ]
  },
  {
   "cell_type": "code",
   "execution_count": 34,
   "metadata": {},
   "outputs": [
    {
     "name": "stdout",
     "output_type": "stream",
     "text": [
      "1\n",
      "5\n",
      "4\n",
      "2\n",
      "3\n",
      "10\n",
      "2\n",
      "4\n",
      "5\n",
      "8\n",
      "9\n",
      "20\n",
      "\n"
     ]
    }
   ],
   "source": [
    "listMerge = DoubleLinkedList()\n",
    "listMerge = listA.merge(listB)\n",
    "listMerge.display()"
   ]
  },
  {
   "cell_type": "markdown",
   "metadata": {},
   "source": [
    "Dividir da lista em várias ($k$) (nesta questão consegui somente dividir a lista encadeada em 2 sublistas iguais)"
   ]
  },
  {
   "cell_type": "code",
   "execution_count": 35,
   "metadata": {},
   "outputs": [],
   "source": [
    "sublist1 = DoubleLinkedList()\n",
    "sublist2 = DoubleLinkedList()\n",
    "listB.split(sublist1, sublist2)"
   ]
  },
  {
   "cell_type": "code",
   "execution_count": 36,
   "metadata": {},
   "outputs": [
    {
     "name": "stdout",
     "output_type": "stream",
     "text": [
      "9\n",
      "5\n",
      "2\n",
      "\n"
     ]
    }
   ],
   "source": [
    "sublist1.display()"
   ]
  },
  {
   "cell_type": "code",
   "execution_count": 37,
   "metadata": {},
   "outputs": [
    {
     "name": "stdout",
     "output_type": "stream",
     "text": [
      "20\n",
      "8\n",
      "4\n",
      "\n"
     ]
    }
   ],
   "source": [
    "sublist2.display()"
   ]
  },
  {
   "cell_type": "markdown",
   "metadata": {},
   "source": [
    "Cópia (clone) da lista"
   ]
  },
  {
   "cell_type": "code",
   "execution_count": 38,
   "metadata": {},
   "outputs": [
    {
     "name": "stdout",
     "output_type": "stream",
     "text": [
      "2\n",
      "4\n",
      "5\n",
      "8\n",
      "9\n",
      "20\n",
      "\n"
     ]
    }
   ],
   "source": [
    "listClone = DoubleLinkedList()\n",
    "listClone = listB.clone()\n",
    "listClone.display()"
   ]
  },
  {
   "cell_type": "markdown",
   "metadata": {},
   "source": [
    "Ordenação dos elementos da lista"
   ]
  },
  {
   "cell_type": "code",
   "execution_count": 39,
   "metadata": {},
   "outputs": [
    {
     "name": "stdout",
     "output_type": "stream",
     "text": [
      "100\n",
      "0\n",
      "20\n",
      "500\n",
      "15\n",
      "9\n",
      "\n"
     ]
    }
   ],
   "source": [
    "# Criação de instância da lista encadeada\n",
    "listC = DoubleLinkedList()   \n",
    "\n",
    "# Armazenamento dos dados na lista encadeada    \n",
    "listC.add_node(100)    \n",
    "listC.add_node(0)   \n",
    "listC.add_node(20)   \n",
    "listC.add_node(500)    \n",
    "listC.add_node(15)\n",
    "listC.add_node(9)\n",
    "\n",
    "# Impressão dos elementos da lista encadeada\n",
    "listC.display()"
   ]
  },
  {
   "cell_type": "code",
   "execution_count": 40,
   "metadata": {},
   "outputs": [
    {
     "name": "stdout",
     "output_type": "stream",
     "text": [
      "0\n",
      "9\n",
      "15\n",
      "20\n",
      "100\n",
      "500\n",
      "\n"
     ]
    }
   ],
   "source": [
    "# Elementos da lista em ordem crescente\n",
    "listC.sort()  \n",
    "listC.display()"
   ]
  },
  {
   "cell_type": "code",
   "execution_count": 41,
   "metadata": {},
   "outputs": [
    {
     "name": "stdout",
     "output_type": "stream",
     "text": [
      "500\n",
      "100\n",
      "20\n",
      "15\n",
      "9\n",
      "0\n",
      "\n"
     ]
    }
   ],
   "source": [
    "# Elementos da lista em ordem decrescente\n",
    "listC.inverse()  \n",
    "listC.display()"
   ]
  },
  {
   "cell_type": "markdown",
   "metadata": {},
   "source": [
    "**Questão 10**\n",
    "\n",
    "Escreva uma função para uma lista simplesmente encadeada, que inverta a direção das ligações\n",
    "\n",
    "**Resposta**\n",
    "\n",
    "Na minha compreensão, uma função que inverta a direção das ligações é uma função que inverterá uma lista encadeada. Para este fim, foram utilizadas as classes `Node` e `LinkedList`, além da função `reverse` (dentro da classe `LinkedList`).\n",
    "\n",
    "Visto que a função utilizada está contida na classe `LinkedList` (implementada na questão 8), as limitações, dificuldades encontradas e principais características do código estão listadas no desenvolvimento da questão 8."
   ]
  },
  {
   "cell_type": "code",
   "execution_count": 42,
   "metadata": {},
   "outputs": [
    {
     "name": "stdout",
     "output_type": "stream",
     "text": [
      "42 33 151 400 5 9 1 "
     ]
    }
   ],
   "source": [
    "# Criação de instância da lista encadeada\n",
    "listReverse = LinkedList()\n",
    "\n",
    "# Armazenamento dos dados na lista encadeada\n",
    "listReverse.insert(Node(int(42)))\n",
    "listReverse.insert(Node(int(33)))\n",
    "listReverse.insert(Node(int(151)))\n",
    "listReverse.insert(Node(int(400)))\n",
    "listReverse.insert(Node(int(5)))\n",
    "listReverse.insert(Node(int(9)))\n",
    "listReverse.insert(Node(int(1)))\n",
    "\n",
    "# Impressão dos elementos da lista encadeada\n",
    "listReverse.display()"
   ]
  },
  {
   "cell_type": "code",
   "execution_count": 43,
   "metadata": {},
   "outputs": [
    {
     "name": "stdout",
     "output_type": "stream",
     "text": [
      "1 9 5 400 151 33 42 "
     ]
    }
   ],
   "source": [
    "# Inversão da posição dos elementos da lista\n",
    "listReverse.reverse()\n",
    "\n",
    "# Impressão dos elementos da lista encadeada invertida\n",
    "listReverse.display()"
   ]
  },
  {
   "cell_type": "markdown",
   "metadata": {},
   "source": [
    "**Questão 11**\n",
    "\n",
    "Considere que um estacionamento da Av. Maracanã é composto por uma única alameda que guarda até dez carros. Existe apenas uma entrada/saída no estacionamento, e esta extremidade da alameda dá acesso justamente à Av. Maracanã. Se chegar um cliente para retirar um carro que não seja o mais próximo da saída, todos os carros bloqueando seu caminho sairão do estacionamento. O carro do cliente será manobrado para fora do estacionamento, e os outros carros voltarão a ocupar a mesma sequência inicial. Escreva um programa que processe um grupo de linhas de entrada. Cada linha de entrada contém um ‘E’, de entrada, ou um ‘S’ de saída, e o número da placa do carro. Presume-se que os carros cheguem e partam na mesma ordem que entraram no estacionamento. O programa deve imprimir uma mensagem sempre que um carro chegar ou sair. Quando um carro chegar, a mensagem deve especificar se existe ou não vaga para o carro no estacionamento. Se não houver vaga, o carro partirá sem entrar no estacionamento. Quando um carro sair do estacionamento, a mensagem deverá incluir o número de vezes em que o carro foi manobrado para fora do estacionamento para permitir que os outros carros saíssem.\n",
    "\n",
    "**Contextualização**:\n",
    "\n",
    "De acordo com Celes et al. (2016), a ideia fundamental da pilha é que todo o acesso aos seus elementos é realizado pelo seu topo. Como cada novo elemento é inserido no topo, os elementos de uma pilha, portanto, são retirados na ordem inversa à ordem em que foram introduzidos (regra LIFO). Diante disso, há duas operações básica que devem ser implementadas em uma estrutura de pilha: a operação de empilhar um novo elemento, inserindo-o no topo (`push`), e a operação de desempilhar um elemento, removendo-o do topo (`pop`).\n",
    "\n",
    "**Resposta**\n",
    "\n",
    "Devido às limitações existentes com relação ao estacionamento (existência de apenas uma entrada/saída no estacionamento), foi criada uma pilha para os registros dos carros dentro do estacionamento. Considerando a estrutura de pilha (LIFO), só há acesso ao último carro que entrou no estacionamento. Dadas às associações, o estacionamento corresponde ao espaço da memória e os dados correspondem aos carros, representados pelas suas respectivas placas. Além disso, foram implementadas duas classes, uma para a pilha (onde são inseridos e removidos os elementos) e para a inserção dos carros, indentificados pelas, respectivas, cores e placas.\n",
    "\n",
    "Limitação: não consegui incluir o número de vezes em que o carro foi manobrado para fora do estacionamento para permitir que os outros carros saíssem.\n",
    "\n",
    "Dificuldades encontradas: (i) compreender que a estrutura de dados pedida no enunciado é de pilha, compreender o conceito de pilha e implementá-la em código; e (ii) integrar as duas classes implementadas (uma para a pilha e a outra para manipulação dos elementos da pilha).\n",
    "\n",
    "Principais características do código:\n",
    "\n",
    "* Implementação de uma classe com funções que cria uma pilha vazia e com funções que permitem a manipulação de seus elementos.\n",
    "\n",
    "* Implementação de uma classe para inserção dos elementos da pilha como registros de carros."
   ]
  },
  {
   "cell_type": "code",
   "execution_count": 44,
   "metadata": {},
   "outputs": [],
   "source": [
    "# Implementação da classe Pilha\n",
    "class Garage:\n",
    "    # Inicia com uma pilha vazia\n",
    "    def __init__(self):\n",
    "        self.itens = []\n",
    "        self.capacity = 10          # capacidade máxima da pilha (estacionamento)\n",
    "  \n",
    "    # Verifica se pilha está vazia // verifica se o estacionamento está vazio\n",
    "    def is_empty(self):\n",
    "        if self.itens == []:\n",
    "            print(\"Estacionamento está vazio\")\n",
    "        else:\n",
    "            print(\"Estacionamento não está vazio\")\n",
    "    \n",
    "    # Verifica se a pilha está cheia // verifica se há vagas disponíveis no estacionamento\n",
    "    def isfull(self):\n",
    "        if len(self.itens) == self.capacity:\n",
    "            print(\"Estacionamento Lotado\")\n",
    "        else:\n",
    "            print(\"Estacionamento tem vaga\")\n",
    "    \n",
    "    # Adiciona elemento no topo da pilha (topo é o final da lista) // chegada de um novo carro ao estacionamento\n",
    "    def push(self, item):\n",
    "        self.itens.append(item)\n",
    "        print('PUSH %s' %item)\n",
    "  \n",
    "    # Remove elemento do topo (final da lista) // saída de um carro já estacionado \n",
    "    def pop(self, item):\n",
    "        print('POP %s' %item)\n",
    "        return self.itens.pop()\n",
    "  \n",
    "    # Obtém o elemento do topo (mas não remove)\n",
    "    def peek(self):\n",
    "        # Em Python, índice -1 retorna último elemento (topo)\n",
    "        return self.itens[-1]\n",
    "  \n",
    "    # Retorna o número de elementos da pilha // verifica quantos carros estão dentro do estacionamento\n",
    "    def size(self):\n",
    "        return len(self.itens)\n",
    "  \n",
    "    # Imprime o conteúdo da pilha \n",
    "    def print_stack(self):\n",
    "        print(self.itens)"
   ]
  },
  {
   "cell_type": "code",
   "execution_count": 45,
   "metadata": {},
   "outputs": [],
   "source": [
    "# Implementação da classe para movimentaçaõ dos carros (os carros são identificados pela respectiva placa e cor)\n",
    "class Car:\n",
    "    def __init__(self, plate, color):\n",
    "        self.plate = plate\n",
    "        self.color = color\n",
    "        self.move = 1\n",
    "    \n",
    "    def __str__(self):\n",
    "        return \"Car [Plate = \" + self.plate + \", Color = \" + self.color + \"]\""
   ]
  },
  {
   "cell_type": "code",
   "execution_count": 46,
   "metadata": {},
   "outputs": [
    {
     "name": "stdout",
     "output_type": "stream",
     "text": [
      "Estacionamento está vazio\n"
     ]
    }
   ],
   "source": [
    "# Verifica se o estacionamento está vazio\n",
    "if __name__ == '__main__':\n",
    "    G = Garage()\n",
    "    G.is_empty()"
   ]
  },
  {
   "cell_type": "code",
   "execution_count": 47,
   "metadata": {},
   "outputs": [
    {
     "name": "stdout",
     "output_type": "stream",
     "text": [
      "Estacionamento tem vaga\n"
     ]
    }
   ],
   "source": [
    "# Verifica se há vagas no estacionamento\n",
    "if __name__ == '__main__':\n",
    "    G.isfull()"
   ]
  },
  {
   "cell_type": "code",
   "execution_count": 48,
   "metadata": {},
   "outputs": [
    {
     "name": "stdout",
     "output_type": "stream",
     "text": [
      "PUSH Car [Plate = ABC-1234, Color = White]\n",
      "PUSH Car [Plate = DEF-5678, Color = Black]\n",
      "PUSH Car [Plate = GHI-9101, Color = Silver]\n"
     ]
    }
   ],
   "source": [
    "# Entrada de novos carros\n",
    "if __name__ == \"__main__\":\n",
    "    C = Car(\"ABC-1234\", \"White\")\n",
    "    G.push(C)\n",
    "    \n",
    "    C = Car(\"DEF-5678\", \"Black\")\n",
    "    G.push(C)\n",
    "    \n",
    "    C = Car(\"GHI-9101\", \"Silver\")\n",
    "    G.push(C)"
   ]
  },
  {
   "cell_type": "code",
   "execution_count": 49,
   "metadata": {},
   "outputs": [
    {
     "name": "stdout",
     "output_type": "stream",
     "text": [
      "Estacionamento tem vaga\n"
     ]
    }
   ],
   "source": [
    "# Verifica se ainda há vagas\n",
    "if __name__ == '__main__':\n",
    "    G.isfull()"
   ]
  },
  {
   "cell_type": "code",
   "execution_count": 50,
   "metadata": {},
   "outputs": [
    {
     "name": "stdout",
     "output_type": "stream",
     "text": [
      "Estacionamento não está vazio\n"
     ]
    }
   ],
   "source": [
    "# Verifica se o estacionamento está vazio\n",
    "if __name__ == '__main__':\n",
    "    G.is_empty()"
   ]
  },
  {
   "cell_type": "code",
   "execution_count": 51,
   "metadata": {},
   "outputs": [
    {
     "name": "stdout",
     "output_type": "stream",
     "text": [
      "PUSH Car [Plate = AAA-1111, Color = Red]\n",
      "PUSH Car [Plate = ZZZ-0000, Color = Purple]\n",
      "PUSH Car [Plate = KKK-9999, Color = Yellow]\n",
      "PUSH Car [Plate = CAC-0101, Color = Pink]\n",
      "PUSH Car [Plate = DDD-0001, Color = Green]\n",
      "PUSH Car [Plate = XXX-8959, Color = Gold]\n",
      "PUSH Car [Plate = LAT-5587, Color = Blue]\n"
     ]
    }
   ],
   "source": [
    "# Entrada de novos carros\n",
    "if __name__ == \"__main__\":\n",
    "    C = Car(\"AAA-1111\", \"Red\")\n",
    "    G.push(C)\n",
    "    \n",
    "    C = Car(\"ZZZ-0000\", \"Purple\")\n",
    "    G.push(C)\n",
    "    \n",
    "    C = Car(\"KKK-9999\", \"Yellow\")\n",
    "    G.push(C)\n",
    "    \n",
    "    C = Car(\"CAC-0101\", \"Pink\")\n",
    "    G.push(C)\n",
    "    \n",
    "    C = Car(\"DDD-0001\", \"Green\")\n",
    "    G.push(C)\n",
    "    \n",
    "    C = Car(\"XXX-8959\", \"Gold\")\n",
    "    G.push(C)\n",
    "    \n",
    "    C = Car(\"LAT-5587\", \"Blue\")\n",
    "    G.push(C)"
   ]
  },
  {
   "cell_type": "code",
   "execution_count": 52,
   "metadata": {},
   "outputs": [
    {
     "name": "stdout",
     "output_type": "stream",
     "text": [
      "Estacionamento Lotado\n"
     ]
    }
   ],
   "source": [
    "# Verifica se ainda há vagas disponíveis\n",
    "if __name__ == '__main__':\n",
    "    G.isfull()"
   ]
  },
  {
   "cell_type": "code",
   "execution_count": 53,
   "metadata": {},
   "outputs": [
    {
     "name": "stdout",
     "output_type": "stream",
     "text": [
      "POP Car [Plate = LAT-5587, Color = Blue]\n"
     ]
    }
   ],
   "source": [
    "# Saída de um carro \n",
    "if __name__ == '__main__':\n",
    "    G.pop(C)"
   ]
  },
  {
   "cell_type": "code",
   "execution_count": 54,
   "metadata": {},
   "outputs": [
    {
     "name": "stdout",
     "output_type": "stream",
     "text": [
      "Estacionamento tem vaga\n"
     ]
    }
   ],
   "source": [
    "# Verifica se ainda há vagas disponíveis\n",
    "if __name__ == '__main__':\n",
    "    G.isfull()"
   ]
  },
  {
   "cell_type": "markdown",
   "metadata": {},
   "source": [
    "**Questão 12**\n",
    "\n",
    "Para um dado número inteiro $n>1$, o menor inteiro $d<1$ que divide $n$ é chamado de fator primo. É possível determinar a fatoração prima de $n$ achando-se o fator primo $d$ e substituindo $n$ pelo quociente $n/d$, repetindo esta operação até que $n$ seja igual a 1. Utilizando estrutura de pilha para auxiliá-lo na manipulação de dados, implemente em um programa que compute a fatoração prima de um número imprimindo os seus fatores em ordem decrescente. Por exemplo, para $n=3960$, deverá ser impresso $11*5*3*3*2*2*2$. Justifique a escolha do TAD utilizado.\n",
    "\n",
    "**Contextualização**:\n",
    "\n",
    "Segundo Necaise (2011), uma pilha é um tipo de container com acesso restrito que armazena uma coleção linear, onde os dados são tais que o último item inserido é o primeiro a ser removido. Assim, novos itens são adicionados ou itens existentes são removidos pelo topo (final da pilha).\n",
    "\n",
    "Segundo Celes et al. (2016), a ideia central do tipo abstrato de dados (TAD) é encapsular de quem usa determinado tipo a forma concreta com que o tipo foi implementado. Assim, a forma com que o tipo foiefetivamente implementado passa a ser um detalhe de implementação, que não deve afetar o uso do tipo nos mais diversos contextos. Com isso, a implementação é desacoplada do uso, facilitando a manutenção e aumentando o potencial de reutilização do tipo criado. Neste sentido, Nacaise (2011) exemplifica algumas operações encapsuladas em um TAD:\n",
    "\n",
    "* `Stack()`: cria uma pilha vazia.\n",
    "\n",
    "* `isEmpty()`: retorna um valor booleano indicando se a pilha está vazia.\n",
    "\n",
    "* `length()`: retorna o número de itens em uma pilha.\n",
    "\n",
    "* `pop()`: remove o último elemento da pilha (caso a pilha não esteja vazia.\n",
    "\n",
    "* `peek()`: retorna a referência do item que está no topo de uma pilha não vazia, sem removê-la.\n",
    "\n",
    "* `push(i)`: insere o item `i` no topo da pilha.\n",
    "\n",
    "**Resposta**\n",
    "\n",
    "Para a resolução desta questão foram realizadas duas implementações, uma para a classe `Stack` (implementação de uma estrutura de pilha) e a uma para a função `factorization` (decomposição de determinado número inteiro em fatores primos). Conforme visto abaixo, na classe `Stack` consta as funções necessárias para inicialização e manipulação dos elementos de uma pilha. \n",
    "\n",
    "Dentro da lista de operações encapsuladas por um TAD, foram utilizadas `Stack()`, para criação de uma pilha vazia, e `push()`, para inserir os fatores primos derivados da decomposição de determinado número inteiro.\n",
    "\n",
    "Limitação: o output final não ficou no formato solicitado pelo enunciado.\n",
    "\n",
    "Dificuldade encontrada: fatorar um número inteiro considerando a estrutura de uma pilha.\n",
    "\n",
    "Principais características do código:\n",
    "\n",
    "* Implementação de uma classe com funções que cria uma pilha vazia e com funções que permitem a manipulação de seus elementos.\n",
    "\n",
    "* Implementação de função para a decomposição de um inteiro em seus fatores primos.\n",
    "\n",
    "* Integração da função de decomposição com a classe de pilha por meio das operações encapsuladas `Stack()` e `push()`."
   ]
  },
  {
   "cell_type": "code",
   "execution_count": 55,
   "metadata": {},
   "outputs": [],
   "source": [
    "# Implementação da classe Pilha\n",
    "class Stack:\n",
    "    # Inicia com uma pilha vazia\n",
    "    def __init__(self):\n",
    "        self.itens = []\n",
    "  \n",
    "    # Verifica se pilha está vazia\n",
    "    def is_empty(self):\n",
    "        return self.itens == []\n",
    "  \n",
    "    # Adiciona elemento no topo (topo é o final da lista)\n",
    "    def push(self, item):\n",
    "        self.itens.append(item)\n",
    "        print('PUSH %s' %item)\n",
    "  \n",
    "    # Remove elemento do topo (final da lista)\n",
    "    def pop(self):\n",
    "        print('POP')\n",
    "        return self.itens.pop()\n",
    "  \n",
    "    # Obtém o elemento do topo (mas não remove)\n",
    "    def peek(self):\n",
    "        # Em Python, índice -1 retorna último elemento (topo)\n",
    "        return self.itens[-1]\n",
    "  \n",
    "    # Retorna o número de elementos da pilha\n",
    "    def size(self):\n",
    "        return len(self.itens)\n",
    "  \n",
    "    # Imprime pilha na tela\n",
    "    def print_stack(self):\n",
    "        print(self.itens)"
   ]
  },
  {
   "cell_type": "code",
   "execution_count": 56,
   "metadata": {},
   "outputs": [],
   "source": [
    "# Função para fatoração por números primos\n",
    "def factorization(n):\n",
    "    prime_factors = Stack()\n",
    "    d = 2\n",
    "    while d * d <= n:\n",
    "        while n % d == 0:\n",
    "            n //= d\n",
    "            prime_factors.push(d)\n",
    "        d += 1\n",
    "    if n > 1:  # para evitar 1 como um fator\n",
    "        assert d <= n\n",
    "        prime_factors.push(n)\n",
    "    return prime_factors    "
   ]
  },
  {
   "cell_type": "code",
   "execution_count": 57,
   "metadata": {},
   "outputs": [
    {
     "name": "stdout",
     "output_type": "stream",
     "text": [
      "PUSH 2\n",
      "PUSH 2\n",
      "PUSH 2\n",
      "PUSH 3\n",
      "PUSH 3\n",
      "PUSH 5\n",
      "PUSH 11\n"
     ]
    },
    {
     "data": {
      "text/plain": [
       "<__main__.Stack at 0x20b60e445e0>"
      ]
     },
     "execution_count": 57,
     "metadata": {},
     "output_type": "execute_result"
    }
   ],
   "source": [
    "# Fatoração por números primos\n",
    "n = 3960\n",
    "factorization(n)"
   ]
  },
  {
   "cell_type": "markdown",
   "metadata": {},
   "source": [
    "**Questão 13**:\n",
    "\n",
    "Implemente uma estrutura de fila onde cada item da fila consista em um número variável de inteiros.\n",
    "\n",
    "**Contextualização**:\n",
    "\n",
    "Segundo Celes et al. (2016), a ideia fundamental da fila é a possibilidade de inserir um novo elemento no final da fila e a retirada do elemento no início (FIFO). Além disso, as filas devem ser restritivas no sentido de que um elemento não pode passar na frente de seu antecessor.\n",
    "\n",
    "**Resposta**\n",
    "\n",
    "Para a resolução desta questão foi realizada a implementação da classe `Queue`, que contém funções necessárias para a criação de uma fila vazia e manipulação dos seus respectivos elementos. Posteriormente, após instanciar a classe `Queue`, para a criação de uma fila vazia, foram inseridos novos elementos a esta fila (via função `enqueue`). Contudo, em vez de serem inseridos números inteiros, foram inseridas listas contendo quantidades variadas de números inteiros.\n",
    "\n",
    "Dificuldades encontradas: (i) interpretar o tipo de fila que o enunciado está pedindo; e (ii) compreender o conceito de fila e implementá-la em código\n",
    "\n",
    "Principais características do código:\n",
    "\n",
    "* Implementação de uma classe com funções que cria uma fila vazia e com funções que permitem a manipulação de seus elementos.\n",
    "\n",
    "* Possibilidade de inserir listas com tamanhos variados de inteiros."
   ]
  },
  {
   "cell_type": "code",
   "execution_count": 58,
   "metadata": {},
   "outputs": [],
   "source": [
    "# Implementação da classe Fila\n",
    "class Queue:\n",
    "    # Inicia com uma fila vazia\n",
    "    def __init__(self):\n",
    "        self.itens = []\n",
    "\n",
    "    # Verifica se fila está vazia\n",
    "    def is_empty(self):\n",
    "        return self.itens == []\n",
    "  \n",
    "    # Adiciona elemento no início da fila\n",
    "    def enqueue(self, item):\n",
    "        self.itens.insert(0, item)\n",
    "        print('ENQUEUE %s' %item)\n",
    "\n",
    "    # Remove elemento do final da fila\n",
    "    def dequeue(self):\n",
    "        print('DEQUEUE')\n",
    "        return self.itens.pop()\n",
    "\n",
    "    # Retorna o número de elementos da fila\n",
    "    def size(self):\n",
    "        return len(self.itens)\n",
    "  \n",
    "    # Imprime a fila na tela\n",
    "    def print_queue(self):\n",
    "        print(self.itens)"
   ]
  },
  {
   "cell_type": "code",
   "execution_count": 59,
   "metadata": {},
   "outputs": [
    {
     "name": "stdout",
     "output_type": "stream",
     "text": [
      "ENQUEUE [1]\n",
      "ENQUEUE [2, 3]\n",
      "ENQUEUE [4, 5, 6]\n",
      "ENQUEUE [7, 8, 9, 10]\n",
      "ENQUEUE [11, 12, 13, 14, 15]\n"
     ]
    }
   ],
   "source": [
    "if __name__ == '__main__':\n",
    "    # Instancia a criação de nova fila\n",
    "    Q = Queue()\n",
    "    \n",
    "    # Adiciona novos elementos à fila\n",
    "    Q.enqueue([1])\n",
    "    Q.enqueue([2,3])\n",
    "    Q.enqueue([4,5,6])\n",
    "    Q.enqueue([7,8,9,10])\n",
    "    Q.enqueue([11,12,13,14,15])"
   ]
  },
  {
   "cell_type": "code",
   "execution_count": 60,
   "metadata": {},
   "outputs": [
    {
     "name": "stdout",
     "output_type": "stream",
     "text": [
      "[[11, 12, 13, 14, 15], [7, 8, 9, 10], [4, 5, 6], [2, 3], [1]]\n"
     ]
    }
   ],
   "source": [
    "# Imprime os elementos da fila\n",
    "if __name__ == '__main__':\n",
    "    Q.print_queue()"
   ]
  },
  {
   "cell_type": "markdown",
   "metadata": {},
   "source": [
    "**Questão 14**:\n",
    "\n",
    "Existem partes de sistemas operacionais que cuidam da ordem em que os programas devem ser executados. Por exemplo, em um sistema de computação de tempo-compartilhado (\"*time-shared*\") existe a necessidade manter um conjunto de processos em uma fila, esperando para serem executados.\n",
    "\n",
    "Escreva um programa que seja capaz de ler uma série de solicitações para:\n",
    "\n",
    "(a) Incluir novos processos na fila de processo.\n",
    "\n",
    "(b) Retirar da fila o processo com o maior tempo de espera.\n",
    "\n",
    "(c) Imprimir o conteúdo da liusta de processo em determinado momento.\n",
    "\n",
    "**Contextualização**:\n",
    "\n",
    "Segundo o [Wikipedia](https://pt.wikipedia.org/wiki/Tempo_compartilhado), um sistema operacional de tempo compartilhado foi desenvolvido para permitir a interatividade a custos pequenso, permitindo que muitos usuários compartilhem o computador simultaneamente.\n",
    "\n",
    "**Resposta**\n",
    "\n",
    "Para o desenvolvimento desta questão, inicialmente foi implementada a classe `Queue`, que contém funções para inicialização de uma fila vazia e manipulação dos elementos da fila.\n",
    "\n",
    "Principais características do código:\n",
    "\n",
    "* Implementação de uma classe com funções que cria uma fila vazia e com funções que permitem a manipulação de seus elementos.\n",
    "\n",
    "* Implementação de funções que inclui e remove elementos na fila, além de imprimir estes elementos."
   ]
  },
  {
   "cell_type": "code",
   "execution_count": 63,
   "metadata": {},
   "outputs": [],
   "source": [
    "# Implementação da classe Fila\n",
    "class TimeShared:\n",
    "    # Inicia com uma fila vazia\n",
    "    def __init__(self):\n",
    "        self.itens = []\n",
    "\n",
    "    # Verifica se fila está vazia\n",
    "    def is_empty(self):\n",
    "        return self.itens == []\n",
    "  \n",
    "    # Adiciona elemento no início da fila\n",
    "    def insert_process (self, item):\n",
    "        self.itens.insert(0, item)\n",
    "        print('INSERT %s' %item)\n",
    "\n",
    "    # Remove elemento do final da fila\n",
    "    def remove_process(self):\n",
    "        print('REMOVE')\n",
    "        return self.itens.pop()\n",
    "\n",
    "    # Retorna o número de elementos da fila\n",
    "    def size(self):\n",
    "        return len(self.itens)\n",
    "  \n",
    "    # Imprime a fila na tela\n",
    "    def display(self):\n",
    "        print(self.itens)"
   ]
  },
  {
   "cell_type": "markdown",
   "metadata": {},
   "source": [
    "Inclusão de novos processos na fila de processo (o processo 1 foi o primeiro a ser incluído e o processo 10 foi o último processo a ser incluído)."
   ]
  },
  {
   "cell_type": "code",
   "execution_count": 64,
   "metadata": {},
   "outputs": [
    {
     "name": "stdout",
     "output_type": "stream",
     "text": [
      "INSERT Processo 1\n",
      "INSERT Processo 2\n",
      "INSERT Processo 3\n",
      "INSERT Processo 4\n",
      "INSERT Processo 5\n",
      "INSERT Processo 6\n",
      "INSERT Processo 7\n",
      "INSERT Processo 8\n",
      "INSERT Processo 9\n",
      "INSERT Processo 10\n"
     ]
    }
   ],
   "source": [
    "if __name__ == '__main__':\n",
    "    # Cria a fila de processos\n",
    "    Q = TimeShared()\n",
    "    \n",
    "    # Adiciona novos elementos\n",
    "    Q.insert_process('Processo 1')\n",
    "    Q.insert_process('Processo 2')\n",
    "    Q.insert_process('Processo 3')\n",
    "    Q.insert_process('Processo 4')\n",
    "    Q.insert_process('Processo 5')\n",
    "    Q.insert_process('Processo 6')\n",
    "    Q.insert_process('Processo 7')\n",
    "    Q.insert_process('Processo 8')\n",
    "    Q.insert_process('Processo 9')\n",
    "    Q.insert_process('Processo 10')"
   ]
  },
  {
   "cell_type": "markdown",
   "metadata": {},
   "source": [
    "Remoção do processo com maior tempo de espera (pelo conceito de fila, o processo com maior tempo de espera é o primeiro processo incluído na fila, sendo, portanto, o processo 1).\n",
    "\n",
    "Na fila, o primeiro elemento a entrar é o último elemento a sair e, portanto, quanto mais próximo da base mais tempo ficará armazenado na estrutura. Diante disso, o elemento que está a mais tempo na fila é aquele que está ocupando a primeira posição (o 1º elemento que foi inserido)."
   ]
  },
  {
   "cell_type": "code",
   "execution_count": 65,
   "metadata": {},
   "outputs": [
    {
     "name": "stdout",
     "output_type": "stream",
     "text": [
      "REMOVE\n"
     ]
    },
    {
     "data": {
      "text/plain": [
       "'Processo 1'"
      ]
     },
     "execution_count": 65,
     "metadata": {},
     "output_type": "execute_result"
    }
   ],
   "source": [
    "# Remoção do primeiro elemento da fila (elemento que está a mais tempo na fila)\n",
    "Q.remove_process()"
   ]
  },
  {
   "cell_type": "markdown",
   "metadata": {},
   "source": [
    "Impressão do conteúdo da lista de processo em determinado momento (como exemplo, será impresso o conteúdo da lista após a remoção do processo com maior tempo de espera)."
   ]
  },
  {
   "cell_type": "code",
   "execution_count": 66,
   "metadata": {},
   "outputs": [
    {
     "name": "stdout",
     "output_type": "stream",
     "text": [
      "['Processo 10', 'Processo 9', 'Processo 8', 'Processo 7', 'Processo 6', 'Processo 5', 'Processo 4', 'Processo 3', 'Processo 2']\n"
     ]
    }
   ],
   "source": [
    "# Impressão dos elementos da fila\n",
    "Q.display()"
   ]
  },
  {
   "cell_type": "markdown",
   "metadata": {},
   "source": [
    "**Questão 15**\n",
    "\n",
    "Um deque é um conjunto de itens a partir do qual podem ser eliminados e inseridos itens em ambas as extremidades. Chame as duas estremidades de um deque esq. e dir. Como um deque pode ser representado como um vetor em C/C++? Escreva quatro funções em C/C++, RemDir, RemEsq, InsDir, InsEsq, para remover e inserir elementos nas extremidades esquerda e direita de um deque. Certifique-se de que as funções funcionem corretamente para o deque vazio e detectam o estouro e o underflow (tentativa de remoção quando a fila está vazia). Quais as desvantagens dessa implementação com relação à implementação por encadeamento/alocação dinâmica?\n",
    "\n",
    "**Contextualização**:\n",
    "\n",
    "Segundo Goodrich et al (2013), um Deque (ou *Double-Ended Queue*) é uma estrutura de dados tipo fila que suporta a inserção e a remoção de elementos tanto no início como no fim da fila. Assim, esta estrutura possui dois inícios e dois finais.\n",
    "\n",
    "**Resposta**:\n",
    "\n",
    "Visto que um Deque permite a inserção e remoção de elementos em amabas as extremidades (início//direita e fim//esquerda), para esta questão foi implementada uma classe `Deque`, que contém funções para inicialização de uma fila vazia e manipulação dos respectivos elementos. Portanto, as operações no Deque são:\n",
    "\n",
    "* `InsDir()`: adiciona itens no início do Deque, ou seja, insere elementos na extremidade direita.\n",
    "\n",
    "* `InsEsq()`: adiciona itens no fim do Deque, ou seja, insere elementos na extremidade esquerda.\n",
    "\n",
    "* `RemDir()`: remove itens no início do Deque, ou seja, remove elementos na extremidade direita\n",
    "\n",
    "* `RemEsq()`: remove itens no fim do Deque, ou seja, remove os elementos na extreminada esquerda\n",
    "\n",
    "Com relação à implementação da classe, a inicialização de uma fila vazia foi realizada em um objeto tipo array. Contudo, no Python um vetor e uma lista são estruturas muito similares. Além disso, os objetos listas/vetores no Python podem ser utilizados de forma dinâmica, que pode ser aumentada ou diminuída em tempo de execução a partir da inserção ou remoção de elementos. Segundo Necaise (2011), a diferença entre vetor e lista no Python é o número de operações e a possibilidade de alteração nos respectivos tamanhos (o tamanho do vetor não pode ser alterado depois de ser criado).\n",
    "\n",
    "Por outro lado, na linguagem C essa característica não é transparente, mas precisa ser implementada pelo programador. Assim, na criação de uma variável composta como um vetor, a alocação de memória é feito em tempo de compilação, de modo que a estrutura tenha o tamanho fixo durante toda a execução do programa (não é possível aumentar ou diminuir o tamanho do vetor posteriormente). Para permitir esta flexibilidade é preciso utilizar mecanismos para alocação dinâmica de memória.\n",
    "\n",
    "Segundo Celes et. al (2016), na linguagem C, quando um vetor é declarado é preciso informar a dimensão do vetor (nº máximo de elementos que poderá ser armazenado no espaço de memória reservado para o vetor). Além disso, é preciso informar o tipo dos valores que serão armazenados no vetor, pois em um vetor somente é possível armazenar valores de um mesmo tipo. Contudo, este pré-dimensionamento do vetor é um fator limitante. Por outro lado, a alocação dinâmica possibilita é um meio de requisitar espaços de memória em tempo de execução.\n",
    "\n",
    "Limitação: a estrutura de vetor no Python não possui o mesmo comportamento que no C.\n",
    "\n",
    "Dificuldades encontradas: (i) identificar a estrutura de fila solicitada no enunciado; (ii) compreender o conceito de Double-Ended Queue e implementá-lo em código; e (iii) compreender as desvantagens desta implementação a partir do conceito de vetor no C.\n",
    "\n",
    "Principais características do código:\n",
    "\n",
    "* Implementação de uma classe com funções que cria uma fila vazia e com funções que permitem a manipulação de seus elementos.\n",
    "\n",
    "* Maior felxibilidade com relação à estrutura tradicional de fila, visto que permite a remoção e inserção de elementos por ambas as extremidades. "
   ]
  },
  {
   "cell_type": "code",
   "execution_count": 67,
   "metadata": {},
   "outputs": [],
   "source": [
    "# Implementação da classe Deque (Double-Ended queue)\n",
    "class Deque:\n",
    "    # Inicia com uma fila vazia\n",
    "    def __init__(self):\n",
    "        self.itens = []\n",
    "\n",
    "    # Verifica se fila está vazia\n",
    "    def is_empty(self):\n",
    "        return self.itens == []\n",
    "  \n",
    "    # Adiciona elemento na direita da fila\n",
    "    def InsDir(self, item):\n",
    "        self.itens.append(item)\n",
    "        print('InsDir %s' %item)\n",
    "\n",
    "    # Adiciona elemento na esquerda da fila\n",
    "    def InsEsq(self, item):\n",
    "        self.itens.insert(0, item)\n",
    "        print('InsEsq %s' %item)\n",
    "\n",
    "    # Remove elemento na direita da fila\n",
    "    def RemDir(self):\n",
    "        print('RemDir')\n",
    "        return self.itens.pop()\n",
    "\n",
    "    # Remove elemento na esquerda da fila\n",
    "    def RemEsq(self):\n",
    "        print('RemEsq')\n",
    "        return self.itens.pop(0)\n",
    "  \n",
    "    # Retorna o número de elementos da fila\n",
    "    def size(self):\n",
    "        return len(self.itens)\n",
    "  \n",
    "    # Imprime fila na tela\n",
    "    def print_deque(self):\n",
    "        print(self.itens)"
   ]
  },
  {
   "cell_type": "code",
   "execution_count": 68,
   "metadata": {},
   "outputs": [
    {
     "name": "stdout",
     "output_type": "stream",
     "text": [
      "[]\n"
     ]
    }
   ],
   "source": [
    "if __name__ == '__main__':\n",
    "    # Cria fila\n",
    "    D = Deque()\n",
    "    \n",
    "    # Imprime fila\n",
    "    D.print_deque()"
   ]
  },
  {
   "cell_type": "code",
   "execution_count": 69,
   "metadata": {},
   "outputs": [
    {
     "name": "stdout",
     "output_type": "stream",
     "text": [
      "InsDir 1\n",
      "InsDir 3\n",
      "InsDir 5\n",
      "InsDir 7\n",
      "InsDir 9\n",
      "InsEsq 2\n",
      "InsEsq 4\n",
      "InsEsq 6\n",
      "InsEsq 8\n",
      "InsEsq 10\n",
      "[10, 8, 6, 4, 2, 1, 3, 5, 7, 9]\n"
     ]
    }
   ],
   "source": [
    "if __name__ == '__main__':\n",
    "    # Adiciona elementos à direita (início da fila)\n",
    "    D.InsDir(1)\n",
    "    D.InsDir(3)\n",
    "    D.InsDir(5)\n",
    "    D.InsDir(7)\n",
    "    D.InsDir(9)\n",
    "    \n",
    "    # Adiciona elementos à esquerda (fim da fila)\n",
    "    D.InsEsq(2)\n",
    "    D.InsEsq(4)\n",
    "    D.InsEsq(6)\n",
    "    D.InsEsq(8)\n",
    "    D.InsEsq(10)\n",
    "    \n",
    "    # Imprime fila\n",
    "    D.print_deque()"
   ]
  },
  {
   "cell_type": "code",
   "execution_count": 70,
   "metadata": {},
   "outputs": [
    {
     "name": "stdout",
     "output_type": "stream",
     "text": [
      "RemDir\n",
      "RemEsq\n",
      "[8, 6, 4, 2, 1, 3, 5, 7]\n",
      "False\n"
     ]
    }
   ],
   "source": [
    "if __name__ == '__main__':\n",
    "    # Remove primeiro elemento à direita\n",
    "    D.RemDir()\n",
    "    \n",
    "    # Remove primeiro elemento à esquerda\n",
    "    D.RemEsq()\n",
    "    \n",
    "    # Imprime a fila\n",
    "    D.print_deque()\n",
    "    \n",
    "    # Verifica se a fila está vazia\n",
    "    print(D.is_empty())"
   ]
  },
  {
   "cell_type": "markdown",
   "metadata": {},
   "source": [
    "### Referências\n",
    "\n",
    "* Celes, W., Cerqueira, R., Rangel, J.L. (2016). Introdução a Estrutura de Dados com técnicas de programação em C. LTC - 2ª edição.\n",
    "\n",
    "* Drozdek, A. (2013). Data Structures and Algorithms in C++. Cengage Learning - 4ª edição.\n",
    "\n",
    "* Goodrich, M.T., Tamassia, R. & Goldwasser, M.H. (2013). Data Structures and Algorithms in Python. Wiley.\n",
    "\n",
    "* Levada, A.L.M. (2021). Algoritmos e Estrutruas de Dados em Python: Complexidade e programação orientada a objetos\". Universidade Federal de São Carlos - Departamento de Computação.\n",
    "\n",
    "* Necaise, R.D. (2011). Data Structures and Algorithms Using Python. John Wiley & Sons.\n",
    "\n",
    "* Wikipedia. Tempo Compartilhado. Link: https://pt.wikipedia.org/wiki/Tempo_compartilhado Acesso em 31/07/2021."
   ]
  }
 ],
 "metadata": {
  "interpreter": {
   "hash": "08401d0c45677436e5bc5ee65ec920b25bcc69968e1879505079a6c970af8614"
  },
  "kernelspec": {
   "display_name": "Python 3",
   "language": "python",
   "name": "python3"
  },
  "language_info": {
   "codemirror_mode": {
    "name": "ipython",
    "version": 3
   },
   "file_extension": ".py",
   "mimetype": "text/x-python",
   "name": "python",
   "nbconvert_exporter": "python",
   "pygments_lexer": "ipython3",
   "version": "3.8.8"
  }
 },
 "nbformat": 4,
 "nbformat_minor": 2
}
