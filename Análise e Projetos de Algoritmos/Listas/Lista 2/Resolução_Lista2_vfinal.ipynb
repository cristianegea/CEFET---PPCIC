{
 "cells": [
  {
   "cell_type": "markdown",
   "metadata": {},
   "source": [
    "## Centro Federal de Educação Tecnológica Celso Suckow da Fonseca  (CEFET-TJ)\n",
    "\n",
    "## Programa de Pós Graduação em Ciência da Computação (PPCIC)\n",
    "\n",
    "## Disciplina: Análise e Projetos de Algoritmos\n",
    "\n",
    "## Professor: Diego Nunes Brandão\n",
    "\n",
    "## Aluna: Cristiane Gea\n",
    "\n",
    "## Resolução da 2ª Lista de Exercícios"
   ]
  },
  {
   "cell_type": "markdown",
   "metadata": {},
   "source": [
    "**Questão 1**\n",
    "\n",
    "Quantos antecedentes tem um nó no nível $n$ em uma árvore binária? Prove!\n",
    "\n",
    "**Contextualização**\n",
    "\n",
    "Árvore binária:\n",
    "\n",
    "* Cada nó pode ter zero, 1 ou 2 filhos. Portanto, cada nó tem, no máximo, 2 filhos.\n",
    "\n",
    "* A árvore é representada pelo seu nó raiz, de maneira recursiva.\n",
    "\n",
    "* A árvore pode ser definida como (i) uma árvore vazia ou (ii) um nó raiz contendo 2 subárvores (identificadas como subárvore da direita e subárvore da esquerda).\n",
    "\n",
    "Regra para determinação do nível de um nó numa árvore binária:\n",
    "\n",
    "* A raiz da árvore tem nível 0;\n",
    "\n",
    "* O nível de qualquer outro nó na árvore é um nível a mais que o nível de seu pai.\n",
    "\n",
    "Profundidade (altura) de uma árvore binária: nível máximo de qualquer folha na árvore, correspondendo ao tamanho do percurso mais distante da raiz até qualquer folha. \n",
    "\n",
    "**Resposta**\n",
    "\n",
    "Para o desenvolvimento da questão utilizaremos como exemplo representativo a árvore binária cheia (ou árvore binária completa), visto que é uma árvore cujos nós folhas estão no mesmo nível e não pode haver acréscimo de nenhuma nova folha sem implicar no aumento da altura da árvore. Diante do fato de a árvore binária cheia ser uma árvore binária com o número máximo de nós para determinada profundidade, qualquer outra estrutura de árvore binária (que não seja cheia) possuirá um número menor de nós.\n",
    "\n",
    "Obs.: uma árvore binária cheia de profundidade $d$ é a árvore estritamente binária em que todas as folhas estão no nível $d$.\n",
    "\n",
    "Segundo Celes et al. (2016), uma árvore cheia, no nível $n$, possuirá $n^2$ nós. Além disso, o número de nós de determinado nível de uma árvore cheia é uma unidade a mais do que a soma de todos os nós dos níveis anteriores. Em outras palavras, o número de nós antecessores a um nó no nível $n$ em uma árvore binária cheia corresponderá a:\n",
    "\n",
    "$$\n",
    "N = \\sum^n_i 2^i = 2^{n+1}-1\n",
    "$$\n",
    "\n",
    "Se uma árvore binária contiver $k$ nós no nível $n$, então ela conterá no máximo $2k$ nós no nível $n+1$. Como uma árvore binária pode conter no máximo um nó no nível zero (raiz), ela poderá conter no máximo $2^l$ nós no nível $l$. Uma árvore binária completa de profundidade $n$ é a árvore binária de profundidade $n$ que contém exatamente $2^l$ nós em cada nível $l$ entre $0$ e $n$. O número total de nós em uma árvore binária cheia que possua profundidade igual a $n$ é igual à soma dos números de nós em cada nível entre $0$ e $n$. Portanto, \n",
    "\n",
    "$$\n",
    "N = 2^0 + 2^1 + \\dots + 2^n = \\sum^n_{i = 0} 2^i = 2^{n+1}-1\n",
    "$$\n",
    "\n",
    "Assim, como todas as folhas nesta árvore estão no nível $n$, a árvore contém $2^n$ folhas e, portanto, $2^n - 1$ nós sem folhas.\n",
    "\n",
    "Por conseguinte, diante do exposto é possível inferir que para o caso geral, uma árvore binária terá no máximo $2^n - 1$ nós sem folhas."
   ]
  },
  {
   "cell_type": "markdown",
   "metadata": {},
   "source": [
    "**Questão 2**\n",
    "\n",
    "Escreva um programa que implementa funções para:\n",
    "\n",
    "(a) Contar o número de nós em uma árvore binária;\n",
    "\n",
    "(b) Contar o número de folhas;\n",
    "\n",
    "(c) Contar o número de filhos à direita;\n",
    "\n",
    "(d) Contar a altura da árvore.\n",
    "\n",
    "**Contextualização**\n",
    "\n",
    "Segundo Tenenbaum et al. (2004), uma árvore binária é um conjunto finito de elementos que está vazio ou é particionado em 3 subconjuntos disjuntos:\n",
    "\n",
    "* raiz (contém um único elemento);\n",
    "\n",
    "* subárvore à esquerda da árovre original;\n",
    "\n",
    "* subárvore à direita da árvore original.\n",
    "\n",
    "Além disso, cada elemento de uma árvore binária é chamado de nó da árvore.\n",
    "\n",
    "Complementando a definição, em uma árvore binária (Celes et al., 2016; Necaise, 2011)):\n",
    "\n",
    "* cada nó tem, no máximo, 2 filhos;\n",
    "\n",
    "* cada nó tem zero, 1 ou 2 filhos;\n",
    "\n",
    "* a árvore é representada pelo seu nó raiz, de maneira recursiva;\n",
    "\n",
    "* a árvore pode ser definica como (i) uma árvore vazia ou (ii) um nó raiz tendo 2 subárvores identificadas como subárvore esquerda e subárvore direita.\n",
    "\n",
    "* a altura de uma árvore corresponde ao comprimento do camionho da raiz até a folha mais distante.\n",
    "\n",
    "* as arestas representam a relação entre os nós que são encadeados com setas ou arestas direcionais para formar uma estrutura hierárquica.\n",
    "\n",
    "**Resposta**\n",
    "\n",
    "A árvore utilizada para a resolução dos tópicos abaqixo possui a seguinte representação:\n",
    "\n",
    "![binarytree](btimg.png)"
   ]
  },
  {
   "cell_type": "code",
   "execution_count": 1,
   "metadata": {},
   "outputs": [],
   "source": [
    "# Criação de uma classe para instanciar a árvore binária\n",
    "class BinaryTree(object):\n",
    "    # Construtor\n",
    "    def __init__(self, value):\n",
    "        self.value = value     # início da árvore // nó raiz\n",
    "        self.left = None       # subárvore esquerda\n",
    "        self.right = None      # subárvore direita\n",
    "        self.count = 1\n",
    "\n",
    "    # Função para contar o número de nós \n",
    "    def __str__(self):\n",
    "        return 'Valor: {0}, quantidade: {1}'.format(self.value, self.count)"
   ]
  },
  {
   "cell_type": "code",
   "execution_count": 2,
   "metadata": {},
   "outputs": [],
   "source": [
    "# Definição dos valores dos nós da árvore binária\n",
    "root = BinaryTree(2)\n",
    "root.left = BinaryTree(7)\n",
    "root.right = BinaryTree(5)\n",
    "root.left.right = BinaryTree(6)\n",
    "root.left.right.left = BinaryTree(1)\n",
    "root.left.right.right = BinaryTree(11)\n",
    "root.left.right.left.right = BinaryTree(50)\n",
    "root.right.right = BinaryTree(9)\n",
    "root.right.right.left = BinaryTree(4)\n",
    "root.right.right.right = BinaryTree(14)"
   ]
  },
  {
   "cell_type": "markdown",
   "metadata": {},
   "source": [
    "Contagem do número de nós de uma árvore"
   ]
  },
  {
   "cell_type": "code",
   "execution_count": 3,
   "metadata": {},
   "outputs": [
    {
     "name": "stdout",
     "output_type": "stream",
     "text": [
      "Número total de nós: 10\n"
     ]
    }
   ],
   "source": [
    "def countAllNodes(root):\n",
    "    if root is None:\n",
    "        return 0\n",
    "    return 1 + countAllNodes(root.left) + countAllNodes(root.right)\n",
    "\n",
    "print(\"Número total de nós:\" , countAllNodes(root))"
   ]
  },
  {
   "cell_type": "markdown",
   "metadata": {},
   "source": [
    "Contagem do número de folhas de uma árvore"
   ]
  },
  {
   "cell_type": "code",
   "execution_count": 4,
   "metadata": {},
   "outputs": [
    {
     "name": "stdout",
     "output_type": "stream",
     "text": [
      "Número de folhas: 4\n"
     ]
    }
   ],
   "source": [
    "def countLeaf(node):\n",
    "    if node is None:\n",
    "        return 0\n",
    "    if(node.left is None and node.right is None):\n",
    "        return 1\n",
    "    else:\n",
    "        return countLeaf(node.left) + countLeaf(node.right)\n",
    "\n",
    "print(\"Número de folhas:\", countLeaf(root))"
   ]
  },
  {
   "cell_type": "markdown",
   "metadata": {},
   "source": [
    "Contagem do número de filhos à direita"
   ]
  },
  {
   "cell_type": "code",
   "execution_count": 5,
   "metadata": {},
   "outputs": [
    {
     "name": "stdout",
     "output_type": "stream",
     "text": [
      "Números de filhos à direita: 3\n"
     ]
    }
   ],
   "source": [
    "# Considerando somente os filhos que estão à direita\n",
    "def countRightChildren(root):\n",
    "    if root == None:\n",
    "        return 0\n",
    "    res = 0\n",
    "    if(root.left == None and root.right != None):\n",
    "        res += 1\n",
    "    res += (countRightChildren(root.left) + \\\n",
    "            countRightChildren(root.right))\n",
    "    return res\n",
    "\n",
    "print(\"Números de filhos à direita:\", countRightChildren(root))"
   ]
  },
  {
   "cell_type": "code",
   "execution_count": 6,
   "metadata": {},
   "outputs": [
    {
     "name": "stdout",
     "output_type": "stream",
     "text": [
      "Número total de filhos da subárvore à direita da árvore original: 4\n"
     ]
    }
   ],
   "source": [
    "# Considerando os filhos contidos na subárvore à direita da árvore original\n",
    "def countSubTreeRightNodes(root):\n",
    "    if root is None:\n",
    "        return 0\n",
    "    res = 0\n",
    "    if(root.left == None and root.right != None):\n",
    "        res += 1\n",
    "    res += countAllNodes(root.right)\n",
    "    return res\n",
    "\n",
    "print(\"Número total de filhos da subárvore à direita da árvore original:\" , countSubTreeRightNodes(root))"
   ]
  },
  {
   "cell_type": "markdown",
   "metadata": {},
   "source": [
    "Contagem da altura da árvore"
   ]
  },
  {
   "cell_type": "code",
   "execution_count": 7,
   "metadata": {},
   "outputs": [
    {
     "name": "stdout",
     "output_type": "stream",
     "text": [
      "Altura da árvore: 5\n"
     ]
    }
   ],
   "source": [
    "def countHeight(node):\n",
    "    if node is None:\n",
    "        return 0\n",
    "    else:\n",
    "        leftDepth = countHeight(node.left)   # cálculo da altura da subárvore esquerda\n",
    "        rightDepth = countHeight(node.right)  # cálculo da altura da subárvore direita\n",
    "        if (leftDepth > rightDepth):\n",
    "            return leftDepth + 1\n",
    "        else:\n",
    "            return rightDepth + 1\n",
    "\n",
    "print(\"Altura da árvore:\", countHeight(root))"
   ]
  },
  {
   "cell_type": "markdown",
   "metadata": {},
   "source": [
    "**Questão 3**\n",
    "\n",
    "Escreva um programa de referência cruzada que construa uma árvore binária de pesquisa, com todas as palavras incluídas a partir de um arquivo de texto, e registre os números das linhas nas quais essas palavras foram usadas. Esses números de linhas devem ser armazenados em listas associadas aos nós da árvore. Depois de o arquivo de entrada ter sido processado, imprima em ordem alfabética todas as palavras do arquivo texto, junto com a lista de números de linhas correspondente nas quais as palavras ocorrem.\n",
    "\n",
    "**Contextualização**:\n",
    "\n",
    "Segundo Celes et al. (2016), as árvores binárias de busca possuem a seguinte propriedade fundamental: o valor associado à raiz é sempre maior que o valor associado a qualquer nó da subárvore esquerda e é sempre menor que o valor associado a qualquer nó da subárvore direita. Em outras palavras, se $x$ é um nó em uma árvore binária de busca e se $y$ é um nó da subávore esquerda de $x$, então $y.chave \\leq x.chave$. Caso contrário, se $y$ é um nó na subárvore direita de $x$, então $y.chave \\geq x.chave$.\n",
    "\n",
    "Neste sentido, a propriedade de árvore binária de busca permite imprimir todas as chaves em uma única árvore binária de busca em sequência ordenada por meio de um algoritmo recursivo, chamado percurso de árvore in-ordem (Cormen et al, 2012). O percurso de árvore in-ordem (`inorder` // left-root-right) imprime a chave raiz de uma subárvore entre a impressão dos valores em sua subárvore esquerda e a impressão dos valores em sua subárvore direita. Por outro lado, um percurso de árvore pré-ordem (`preorder`// root-left-right) imprime a raiz antes dos valores das subárvores e um percurso de árvore pós-ordem (`postorder` // left-right-root) imprime a raiz depois dos valores em suas subárvores.\n",
    "\n",
    "**Resolução**:\n",
    "\n",
    "Obs.: Apesar de ter imprimido em ordem alfabética todas as palavras do arquivo texto, não consegui imprimi-lo junto com a lista de números de linhas correspondente nas quais as palavras ocorrem."
   ]
  },
  {
   "cell_type": "code",
   "execution_count": 8,
   "metadata": {},
   "outputs": [],
   "source": [
    "# Função para leitura do arquivo de texto e criação da lista contendo todas as letras contidas neste arquivo\n",
    "def textWords(filename):\n",
    "    openfile = open(filename, \"r\")\n",
    "    templist = []\n",
    "    letterslist = []\n",
    "    for lines in openfile:\n",
    "        for i in lines:\n",
    "            ii = i.lower()\n",
    "            letterslist.append(ii)\n",
    "    for p in letterslist:\n",
    "        if p not in ['a','b','c','d','e','f','g','h','i','j','k','l','m','n','o','p','q','r',\n",
    "                     's','t','u','v','w','x','y','z',\"'\",\"-\",' '] and p.isdigit() == False:\n",
    "            letterslist.remove(p)      \n",
    "    wordslist = list(\"\".join(letterslist).split())\n",
    "    return wordslist"
   ]
  },
  {
   "cell_type": "code",
   "execution_count": 9,
   "metadata": {},
   "outputs": [
    {
     "name": "stdout",
     "output_type": "stream",
     "text": [
      "['time-variation', 'in', 'disagreement', 'about', 'future', 'inflation', 'is', 'a', 'stylized', 'fact', 'in', 'survey', 'data', 'but', 'little', 'is', 'known', 'on', 'how', 'disagreement', 'interacts', 'with', 'the', 'efficacy', 'of', 'monetary', 'policy']\n"
     ]
    }
   ],
   "source": [
    "my_list = textWords(\"text_user.txt\")\n",
    "print(my_list)"
   ]
  },
  {
   "cell_type": "markdown",
   "metadata": {},
   "source": [
    "Para esta questão, será utilizada a mesma classe de criação de árvore binária desenvolvida na questão anterior."
   ]
  },
  {
   "cell_type": "code",
   "execution_count": 10,
   "metadata": {},
   "outputs": [],
   "source": [
    "# Função para inserir nós na árvore\n",
    "def insertNode(root, value):\n",
    "    if not root:\n",
    "        return BinaryTree(value)\n",
    "    elif root.value == value:\n",
    "        root.count += 1\n",
    "    elif value < root.value:\n",
    "        root.left = insertNode(root.left, value)\n",
    "    else:\n",
    "        root.right = insertNode(root.right, value)\n",
    "    return root\n",
    "\n",
    "# Função para a árvore binária a partir das palavras extraídas do arquivo de texto\n",
    "def createBinarySearchTree(sequency):\n",
    "    root = None\n",
    "    for word in sequency:\n",
    "        root = insertNode(root, word)\n",
    "    return root\n",
    "\n",
    "# Função para procurar elementos na árvore binária de busca\n",
    "def searchNode(root, word, depth=1):\n",
    "    if not root:\n",
    "        return 0, 0\n",
    "    elif root.value == word:\n",
    "        return depth, root.count\n",
    "    elif word < root.value:\n",
    "        return searchNode(root.left, word, depth + 1)\n",
    "    else:\n",
    "        return searchNode(root.right, word, depth + 1)\n",
    "\n",
    "# Função para imprimir a árvore binária de busca\n",
    "def displayBinarySearchTree(root):\n",
    "    if root:\n",
    "        displayBinarySearchTree(root.left)\n",
    "        print(root)\n",
    "        displayBinarySearchTree(root.right)\n",
    "\n",
    "# Função para o percurso pós-ordem (left-rigt-root)\n",
    "#def postOrder(root):\n",
    "#    if(root.left!=None):\n",
    "#        postorder(root.left)\n",
    "#    if(root.right!=None):\n",
    "#        postorder(root.right)\n",
    "#    print (root.value)\n",
    "\n",
    "# Função para o percurso in-ordem (left-root-rigt)\n",
    "def inOrder(root):\n",
    "    if(root.left!=None):\n",
    "        inOrder(root.left)\n",
    "    print (root.value)\n",
    "    if(root.right!=None):\n",
    "        inOrder(root.right)"
   ]
  },
  {
   "cell_type": "code",
   "execution_count": 11,
   "metadata": {},
   "outputs": [
    {
     "name": "stdout",
     "output_type": "stream",
     "text": [
      "Valor: a, quantidade: 1\n",
      "Valor: about, quantidade: 1\n",
      "Valor: but, quantidade: 1\n",
      "Valor: data, quantidade: 1\n",
      "Valor: disagreement, quantidade: 2\n",
      "Valor: efficacy, quantidade: 1\n",
      "Valor: fact, quantidade: 1\n",
      "Valor: future, quantidade: 1\n",
      "Valor: how, quantidade: 1\n",
      "Valor: in, quantidade: 2\n",
      "Valor: inflation, quantidade: 1\n",
      "Valor: interacts, quantidade: 1\n",
      "Valor: is, quantidade: 2\n",
      "Valor: known, quantidade: 1\n",
      "Valor: little, quantidade: 1\n",
      "Valor: monetary, quantidade: 1\n",
      "Valor: of, quantidade: 1\n",
      "Valor: on, quantidade: 1\n",
      "Valor: policy, quantidade: 1\n",
      "Valor: stylized, quantidade: 1\n",
      "Valor: survey, quantidade: 1\n",
      "Valor: the, quantidade: 1\n",
      "Valor: time-variation, quantidade: 1\n",
      "Valor: with, quantidade: 1\n"
     ]
    }
   ],
   "source": [
    "# Leitura do arquivo de texto e criação de uma lista com as letras contidas no arquivo\n",
    "src = my_list\n",
    "\n",
    "# Criação da árvore de busca binária com as letras contidas no arquivo de texto\n",
    "bst = createBinarySearchTree(src)\n",
    "\n",
    "# Impressão da árvore binária de busca\n",
    "displayBinarySearchTree(bst)"
   ]
  },
  {
   "cell_type": "code",
   "execution_count": 12,
   "metadata": {},
   "outputs": [
    {
     "name": "stdout",
     "output_type": "stream",
     "text": [
      "Valor: a, quantidade: 1\n",
      "Valor: about, quantidade: 1\n",
      "Valor: but, quantidade: 1\n",
      "Valor: data, quantidade: 1\n",
      "Valor: disagreement, quantidade: 2\n",
      "Valor: efficacy, quantidade: 1\n",
      "Valor: fact, quantidade: 1\n",
      "Valor: future, quantidade: 1\n",
      "Valor: how, quantidade: 1\n",
      "Valor: in, quantidade: 2\n",
      "Valor: inflation, quantidade: 1\n",
      "Valor: interacts, quantidade: 1\n",
      "Valor: is, quantidade: 2\n",
      "Valor: known, quantidade: 1\n",
      "Valor: little, quantidade: 1\n",
      "Valor: monetary, quantidade: 1\n",
      "Valor: of, quantidade: 1\n",
      "Valor: on, quantidade: 1\n",
      "Valor: policy, quantidade: 1\n",
      "Valor: stylized, quantidade: 1\n",
      "Valor: survey, quantidade: 1\n",
      "Valor: the, quantidade: 1\n"
     ]
    }
   ],
   "source": [
    "# Impressão da subárvore esquerda da árvore original\n",
    "displayBinarySearchTree(bst.left)"
   ]
  },
  {
   "cell_type": "code",
   "execution_count": 13,
   "metadata": {},
   "outputs": [
    {
     "name": "stdout",
     "output_type": "stream",
     "text": [
      "Valor: with, quantidade: 1\n"
     ]
    }
   ],
   "source": [
    "# Impressão da subárvore direita da árvore original\n",
    "displayBinarySearchTree(bst.right)"
   ]
  },
  {
   "cell_type": "code",
   "execution_count": 14,
   "metadata": {},
   "outputs": [
    {
     "name": "stdout",
     "output_type": "stream",
     "text": [
      "a\n",
      "about\n",
      "but\n",
      "data\n",
      "disagreement\n",
      "efficacy\n",
      "fact\n",
      "future\n",
      "how\n",
      "in\n",
      "inflation\n",
      "interacts\n",
      "is\n",
      "known\n",
      "little\n",
      "monetary\n",
      "of\n",
      "on\n",
      "policy\n",
      "stylized\n",
      "survey\n",
      "the\n",
      "time-variation\n",
      "with\n"
     ]
    }
   ],
   "source": [
    "# Percurso de árvore in-orderm\n",
    "inOrder(bst)"
   ]
  },
  {
   "cell_type": "markdown",
   "metadata": {},
   "source": [
    "**Questão 4**\n",
    "\n",
    "Existe um resultado matemático conhecido como “paradoxo do aniversário”. Ele afirma que, se existe mais de 23 pessoas em uma determinada sala, existe mais de 50% de chance de que duas pessoas façam aniversário no mesmo dia. Explique por que este paradoxo é um exemplo do maior problema existente na técnica de hash.\n",
    "\n",
    "**Contextualização**\n",
    "\n",
    "De acordo com Drozdeck (2013), hashing pode ser compreendido como uma abordagem diferente de pesquisa, com base no cálculo da posição da chave na tabela de acordo com o valor da chave. Neste sentido, o valor da chave funciona como indicação da posição do elemento dentro da tabela. Diante disso, a função de hash ($h$) é utilizada para transformar uma chave em particular ($K$) em um índice na tabela utilizado para armazenar os itens do mesmo tipo que $K$. \n",
    "\n",
    "Uma função de hash é dita ser perfeita se consegue transformar diferentes chaves em diferentes números, situação na qual não há colisões. Contudo, apesar de a criação de uma função de hash perfeita requerer que a tabela contenha pelo menos o mesmo número de posições que o número de elementos, o número de elementos nem sempre é conhecido antes do tempo. Além disso, mesmo se a tabela acomodar todas as variáveis no programa, não há garantia de que a função de hash retorne chaves únicas aos valores das variáveis, incorrendo, portanto, em colisões. \n",
    "\n",
    "O número de funções de hash pode ser utilizado para atribuir posições aos $n$ itens em uma tabela de $m$ posições (para $n \\leq m$). Assim, o número perfeito de funções de hash é o mesmo que o número de diferentes posicionamentos desses itens na tabela. Contudo, na maioria dos casos, uma ou mais chaves podem ser associadas à mesma posição.\n",
    "\n",
    "Os registros armazenados em uma tabela são diretamente endereçados a partir de uma transformação aritmética sobre a chave de pesquisa.\n",
    "\n",
    "Um método de pesquisa com o uso da transformação de chave com o uso da transformação de chave é constituído de duas etapas principais:\n",
    "\n",
    "* Computar o valor da função de transformação, a qual transforma a chave de pesquisa em um endereço da tabela.\n",
    "\n",
    "* Considerando que duas ou mais chaves podem ser transformadas em um mesmo endereço de tabela, é preciso utilizar um método que lide com as colisões (que surgem quando duas ou mais chaves de busca são mapeadas para um mesmo índice da tabela de dispersão).\n",
    "\n",
    "Contudo, qualquer que seja a função de transformação, algumas colisões irão ocorrer (e tais colisões têm de ser resolvidas). Mesmo que se obtenha uma função de transformação que distribua os registros de forma uniforme entre as entrdas da tabela, há uma alta probabilidade de haver colisões.\n",
    "\n",
    "**Paradoxo do aniversário**\n",
    "\n",
    "Hipóteses:\n",
    "\n",
    "* As pessoas são indexadas com os inteiros $1,2, \\dots, k$, onde $k$ é o número de pessoas na sala.\n",
    "\n",
    "* São ignoradas as questões dos anos bissextos.\n",
    "\n",
    "* Todos os anos possuem $n=365$ dias.\n",
    "\n",
    "* Para $i=1,2, \\dots, k$, $b_i$ corresponde ao dia do ano no qual cai o aniversávario da pessoa $i$, onde $1 \\leq b_i \\leq$.\n",
    "\n",
    "* Os aniversários são uniformemente distribuídos pelos $n$ dias do ano, de modo que $\\Pr{b_i = r} = 1/n$ para $1,2, \\dots, k$ e $r = 1,2, \\dots, n$.\n",
    "\n",
    "A probabilidade de que 2 pessoas ($i$, $j$) tenham datas de aniversário coincidentes depende do fato de a seleção aleatória de aniversários ser independente. Assim, supondo que os aniversários são independentes, a probabilidade de o aniversário de $i$ e o aniversário de $j$ caírem, ambos, no dia $r$ é $\\Pr \\left \\{b_i = r \\text{ e } b_j = r\\right \\} = \\Pr \\left \\{b_i = r\\right \\} \\Pr \\left \\{b_j = r\\right \\} = 1/n^2$. Por outro lado, a probabilidade de ambos caírem no mesmo dia é $ \\Pr \\left \\{b_i = b_j\\right \\} = \\sum^n_{r=1} \\Pr \\left \\{b_i = r \\text{ e } b_j = r\\right \\} = 1/n$.\n",
    "\n",
    "Obs.: a coincidência das datas de aniversário depende da suposição de que os dias de aniversário são independentes.\n",
    "\n",
    "\n",
    "**Resposta**\n",
    "\n",
    "Se for utilizada uma função de transformação uniforme que enderece 23 chaves randômicas em uma tabela de tamanho 365, a probabilidade de que haja colisões é maior do que 50%. Diante disso, para hashing, a tabela possui 365 posições, com adição de 23 chaves e chance de mais de 50% de haver colisão.\n",
    "\n",
    "A probabilidade $p$ de se inserir $N$ itens consecutivos sem colisão em uma tabela de tamanho $M$ é:\n",
    "\n",
    "$$\n",
    "p = \\left(\\frac{M-1}{M}\\right) \\times \\left(\\frac{M-2}{M}\\right) \\times \\dots \\times \\left(\\frac{M-N+1}{M}\\right) = \\prod^N_{i=1} \\frac{M - i + 1}{M} = \\frac{M!}{(M-N)! M^N}\n",
    "$$\n",
    "\n",
    "Como existe um número fixo de dias e a probabilidade de se nascer em um determinado dia é aleatória e igualmente provável para cada dia, a chance da primeira pessoa nascer no mesmo dia que a segunda pessoa é $1/365$. Contudo, se houver uma terceira pessoa, há probabilidade de $1/365$ dela nascer no mesmo dia que a primeira pessoa, que tem a probabilidade de $1/365$ de nascer no mesmo dia que a segunda pessoa. Contudo, à medida que o número de pessoas vai aumentando, a probabilidade também vai aumentando.\n",
    "\n",
    "As funções de hash recebem como entrada um dado de tamanho arbitrário e produzem como saída um dado de tamanho fixo. Assim, se um número muito grande de entradas distintas forem utilizadas, a probabilidade de colisão de hashes se torna cada vez maior. Em outras palavras, é possível produzir colisões simplesmente gerando um número suficientemente alto de entradas distintas. Contudo, pelo paradoxo do aniversário, esse número é muito menor do que o total de saídas distintas."
   ]
  },
  {
   "cell_type": "markdown",
   "metadata": {},
   "source": [
    "**Questão 5**\n",
    "\n",
    "Observando cada um dos caracteres que formam a palavra C O M P U T A Ç Ã O. Crie uma tabela de dispersão (*hash table*) que armazene cada um destes caracteres, utilizando a seguinte função: `h(char) = (ordem de char no alfabeto)%5`.\n",
    "\n",
    "Desenhe o esquema de como ficaram a *hash table* e as listas encadeadas.\n",
    "\n",
    "**Contextualização**\n",
    "\n",
    "Segundo Cormen et al. (2012), a tabela de dispersão (hashing) generaliza a noção mais simples de um arranjo comum. O endereçamento direto de um arranjo comum faz uso eficiente da habilidade de examinar uma função arbitrária em um arranjo no tempo $O(1)$.\n",
    "\n",
    "Quando o número de chaves realmente armazenados é pequeno em relação ao número total de chaves possíveis, as tabelas de dispersão se tornam uma alternativa eficaz para endereçar diretamente um arranjo, já que normalmente uma tabela de dispersão utiliza um arranjo de tamanho proporcional ao número de chaves realmente armazenadas. Em vez de usar uma chave doretamente como um índice de arranjo, o índice de arranjo é calculado a partir da chave (a posição da chave $k$ é calculada por meio da função hash).\n",
    "\n",
    "Método de divisão: para a criação da função hash, é realizado um mapeamento de uma chave $k$ para uma de $m$ posições, tomando o resto da divisão de $k$ por $m$ $\\Rightarrow h(k) = k \\text{ mod } m = k \\% m$\n",
    "\n",
    "**Resposta**\n",
    "\n",
    "Função de dispersão: h(key) = key % M => `h(char) = (ordem de char no alfabeto)%5`\n",
    "\n",
    "Número de elementos da tabela de dispersão: M = 5\n",
    "\n",
    "Obs.: apesar de ter feito o desenho esquemático de como ficaria a tabela de dispersão e as listas encadeadas, no código não consegui fazer a implementação da tabela de dispersão com as listas encadeadas (mas, somente a implementação da tabela de dispersão com listas aninhadas)."
   ]
  },
  {
   "cell_type": "code",
   "execution_count": 15,
   "metadata": {},
   "outputs": [
    {
     "data": {
      "text/plain": [
       "10"
      ]
     },
     "execution_count": 15,
     "metadata": {},
     "output_type": "execute_result"
    }
   ],
   "source": [
    "my_list = ['C', 'O', 'M', 'P', 'U', 'T', 'A', 'C', 'A', 'O']\n",
    "len(my_list)"
   ]
  },
  {
   "cell_type": "code",
   "execution_count": 16,
   "metadata": {},
   "outputs": [],
   "source": [
    "alphabet = ['A', 'B', 'C', 'D', 'E', 'F', 'G', 'H', 'I', 'J', 'K', 'L', 'M', 'N', 'O', 'P', 'Q',\n",
    "            'R', 'S', 'T', 'U', 'V', 'W', 'X', 'Z', 'Y']"
   ]
  },
  {
   "cell_type": "code",
   "execution_count": 17,
   "metadata": {},
   "outputs": [
    {
     "data": {
      "text/plain": [
       "2"
      ]
     },
     "execution_count": 17,
     "metadata": {},
     "output_type": "execute_result"
    }
   ],
   "source": [
    "alphabet.index('C')%5"
   ]
  },
  {
   "cell_type": "code",
   "execution_count": 18,
   "metadata": {},
   "outputs": [
    {
     "data": {
      "text/plain": [
       "4"
      ]
     },
     "execution_count": 18,
     "metadata": {},
     "output_type": "execute_result"
    }
   ],
   "source": [
    "alphabet.index('O')%5"
   ]
  },
  {
   "cell_type": "code",
   "execution_count": 19,
   "metadata": {},
   "outputs": [
    {
     "data": {
      "text/plain": [
       "2"
      ]
     },
     "execution_count": 19,
     "metadata": {},
     "output_type": "execute_result"
    }
   ],
   "source": [
    "alphabet.index('M')%5\n",
    "\n",
    "# Colisão com C"
   ]
  },
  {
   "cell_type": "code",
   "execution_count": 20,
   "metadata": {},
   "outputs": [
    {
     "data": {
      "text/plain": [
       "0"
      ]
     },
     "execution_count": 20,
     "metadata": {},
     "output_type": "execute_result"
    }
   ],
   "source": [
    "alphabet.index('P')%5"
   ]
  },
  {
   "cell_type": "code",
   "execution_count": 21,
   "metadata": {},
   "outputs": [
    {
     "data": {
      "text/plain": [
       "0"
      ]
     },
     "execution_count": 21,
     "metadata": {},
     "output_type": "execute_result"
    }
   ],
   "source": [
    "alphabet.index('U')%5\n",
    "\n",
    "# Colisão com P"
   ]
  },
  {
   "cell_type": "code",
   "execution_count": 22,
   "metadata": {},
   "outputs": [
    {
     "data": {
      "text/plain": [
       "4"
      ]
     },
     "execution_count": 22,
     "metadata": {},
     "output_type": "execute_result"
    }
   ],
   "source": [
    "alphabet.index('T')%5\n",
    "\n",
    "# Colisão com O"
   ]
  },
  {
   "cell_type": "code",
   "execution_count": 23,
   "metadata": {},
   "outputs": [
    {
     "data": {
      "text/plain": [
       "0"
      ]
     },
     "execution_count": 23,
     "metadata": {},
     "output_type": "execute_result"
    }
   ],
   "source": [
    "alphabet.index('A')%5\n",
    "\n",
    "# Colisão com P e com U"
   ]
  },
  {
   "cell_type": "code",
   "execution_count": 24,
   "metadata": {},
   "outputs": [
    {
     "data": {
      "text/plain": [
       "2"
      ]
     },
     "execution_count": 24,
     "metadata": {},
     "output_type": "execute_result"
    }
   ],
   "source": [
    "alphabet.index('C')%5\n",
    "\n",
    "# Colisão com o 1º C"
   ]
  },
  {
   "cell_type": "code",
   "execution_count": 25,
   "metadata": {},
   "outputs": [
    {
     "data": {
      "text/plain": [
       "0"
      ]
     },
     "execution_count": 25,
     "metadata": {},
     "output_type": "execute_result"
    }
   ],
   "source": [
    "alphabet.index('A')%5\n",
    "\n",
    "# Colisão com P, com U e com o 1º A"
   ]
  },
  {
   "cell_type": "code",
   "execution_count": 26,
   "metadata": {},
   "outputs": [
    {
     "data": {
      "text/plain": [
       "4"
      ]
     },
     "execution_count": 26,
     "metadata": {},
     "output_type": "execute_result"
    }
   ],
   "source": [
    "alphabet.index('O')%5\n",
    "\n",
    "# Colisão com 1º O e com T"
   ]
  },
  {
   "cell_type": "code",
   "execution_count": 27,
   "metadata": {},
   "outputs": [],
   "source": [
    "# Função para imprimir a tabela de dispersão\n",
    "def printHash(hashTable):\n",
    "    for i in range(len(hashTable)):\n",
    "        print(i, end = \" \")\n",
    "        for j in hashTable[i]:\n",
    "            print(\"-->\", end = \" \")\n",
    "            print(j, end = \" \")\n",
    "        print()\n",
    "\n",
    "# Função hashing para retornar a chave para cada valor\n",
    "def Hashing(keyvalue):\n",
    "    return keyvalue % len(HashTable)\n",
    "\n",
    "# Insert Function to add values to the hash table\n",
    "def insertHash(Hashtable, keyvalue, value):\n",
    "    hash_key = Hashing(keyvalue)\n",
    "    Hashtable[hash_key].append(value)"
   ]
  },
  {
   "cell_type": "code",
   "execution_count": 28,
   "metadata": {},
   "outputs": [],
   "source": [
    "m = 13\n",
    "\n",
    "# Criação de uma tabela de dispersão como uma lista aninhada\n",
    "HashTable = [[] for _ in range(m)]"
   ]
  },
  {
   "cell_type": "code",
   "execution_count": 29,
   "metadata": {},
   "outputs": [
    {
     "name": "stdout",
     "output_type": "stream",
     "text": [
      "0 --> A --> A \n",
      "1 --> O --> O \n",
      "2 --> C --> P --> C \n",
      "3 \n",
      "4 \n",
      "5 \n",
      "6 --> T \n",
      "7 --> U \n",
      "8 \n",
      "9 \n",
      "10 \n",
      "11 \n",
      "12 --> M \n"
     ]
    }
   ],
   "source": [
    "for i in list(my_list):\n",
    "    insertHash(HashTable, alphabet.index(i), i)\n",
    "\n",
    "printHash(HashTable)"
   ]
  },
  {
   "cell_type": "markdown",
   "metadata": {},
   "source": [
    "Cada posição da tabela está associada com uma lista encadeada, ou cadeia de estruturas. Neste método, a tabela pode nunca estourar, pois as listas encadeadas são prolongadas somente com a chegada de novas chaves, conforme ilustrado na imagem abaixo.\n",
    "\n",
    "![Esquema Hash](img.png)\n",
    "\n",
    "Segundo Drozdek (2013), este método requer espaço adicional para a manutenção dos ponteiros. A tabela armazena somente ponteiros e cada nó requer um campo de ponteiro. Neste sentido, para $n$ chaves, $n + \\mathrm{(tamanho\\_da\\_tabela)}$ ponteiros são necessários."
   ]
  },
  {
   "cell_type": "markdown",
   "metadata": {},
   "source": [
    "**Questão 6**\n",
    "\n",
    "Crie um arquivo `hash` com registros para 25 nomes de cidades do estado de Minas Gerais cujos nomes começem com as seguintes letras do alfabeto: `a`, `b`, `c` e `s`. As chaves de cada registro é o nome a cidade, não sendo necessários outros campos. Coloque inicialmente os nomes das cidades em ordem alfabética.\n",
    "\n",
    "(a) Examine a lista ordenada. Que padrões você observa que podem afetar a sua escolha de uma função hash?\n",
    "\n",
    "(b) Implemente uma função `hash()` que utiliza alguma combinação dos códigos ASCII das letras do nome, mas de forma que você possa alterar o número de caracteres que são utilizados na combinação. Execute o `hash()` várias vezes, cada vez utilizando um número diferente de caracteres e produzindo as seguintes estatísticas para cada execução:\n",
    "\n",
    "* O número de colisões\n",
    "\n",
    "* O número de endereços com $0,1,2,3, \\dots ,10$, ou mais de 10 cidades associadas.\n",
    "\n",
    "Discuta os resultados de seu experimento em termos de efeitos da escolha de diferentes quantidades de caracteres e como eles se relacionam com o resultado que você poderia esperar de uma distribuição aleatória. (Implemente e teste um ou mais dos métodos de hash descritos no texto, ou use um método inventado por você).\n",
    "\n",
    "**Resposta**\n",
    "\n",
    "25 nomes de municípios de Minas Gerais\n",
    "\n",
    "* Começando com a letra `a`: Aimorés, Alfenas, Andradas, Araguari, Araxá, Arcos\n",
    "\n",
    "* Começando com a letra `b`: Barbacena, Belo Horizonte, Betim, Boa Esperança, Bom Despacho, Brumadinho\n",
    "\n",
    "* Começando com a letra `c`: Caeté, Caratinga, Conselheiro Lafaiete, Contagem, Coronel Fabriciano, Curvelo\n",
    "\n",
    "* Começando com a letra `s`: Sabará, Santos Dumont, São Francisco, São João del Rei, São Lourenço, São Sebastião do Paraíso, Sete Lagoas\n",
    "\n",
    "Olhando para os nomes das cidades, é possível identificar alguns padrões que podem induzir à ocorrência de colisões:\n",
    "\n",
    "* Repetição da primeira letra de cada nome de cidade.\n",
    "\n",
    "* Repetição das duas primeiras letras dos nomes `Ar`aguari, `Ar`axá, `Ar`cos, `Be`lo Horizonte, `Be`tim, `Bo`a Esperança, `Ca`eté, `Car`atinga, `Co`nselheiro Lafeiete, `Co`ntagem, `Sa`bará, `Sa`ntos Dumont, `São` Francisco, `São` João del Rei, `São` Lourenço, `São` Sebastião do Paraíso.\n",
    "\n",
    "* Repetição das três primeiras letras dos nomes `Ara`guari, `Ara`xá.\n",
    "\n",
    "Para fazer a segunda parte da questão foram utilizados dois métodos para combinar os valores dos códigos ASCII:\n",
    "\n",
    "(i) Formada a partir da soma dos códigos ASCII de todas as letras da palavra;\n",
    "\n",
    "(ii) Formada a partir da soma dos códigos ASCII das letras que estejam na posição ímpar.\n",
    "\n",
    "Posteriormente, foram realizadas simulações de alteração e remoção de caracteres a fim de examinar a possível ocorrência de colisões e o número de cidades associadas a cada endereço.\n",
    "\n",
    "Além disso, vale a pena destacar que as funções utilizadas para a criação, adição e impressão da hash são as mesmas utilizadas para o desenvolvimento da questão 6.\n",
    "\n",
    "A tabela abaixo mostra o comparativo entre os 2 métodos utilizados para realizar combinações de código ASCII. Conforme exposto na tabela, é possível observar que ambas as combinações analisada apresentam desempenho semelhante. Além disso, é possível evidenciar que os casos onde houve a remoção de caracteres especiais apresentam maior número de colisões, em detrimento dos demais casos analisado. Esse resultado é esperado uma vez que a concatenação dos caracteres especiais com espaçamentos funcionam como características específicas de cada nome e a retirada dos mesmos dificulta a transformação de diferentes chaves em diferentes números. Além disso, em uma análise comparativa a combinação 1 gerou menos colisões durante as simulaçõs, em comparação com a combinação 2 (com exceção das simulações 7 e 12).\n",
    "\n",
    "*Combinação 1 (soma dos códigos ASCII de todas as letras da palavra)*\n",
    "\n",
    "Simulações | Número de colisões | Endereço com nenhuma cidade associada | Endereço com 1 cidade associada | Endereço com 2 cidades associadas | Endereço com 3 cidades associadas | Endereço com 4 cidades associadas | Endereço com 5 cidades associadas\n",
    ":---------: | :------: | :-------: | :-------: | :-------: | :-------: | :-------: | :-------: \n",
    "(1) nomes das cidades em seu formato original | 4 | 11 | 14 | 1 | 3 | 0 | 0\n",
    "(2) todos os nomes das cidades em minúsculo | 5 | 10 | 14 | 4 | 1 | 0 | 0 \n",
    "(3) todos os nomes das cidades em maiúsculo | 4 | 10 | 15 | 3 | 1 | 0 | 0\n",
    "(4) nomes das cidades sem acento e sem caracteres especiais (ex.: \"ç\") | 6 | 13 | 10 | 5 | 0 | 0 | 1\n",
    "(5) nomes das cidades em minúsculo, sem acento e sem caracteres especiais (ex.: \"ç\") | 6 | 11 | 12 | 5 | 1 | 0 | 0\n",
    "(6) nomes das cidades em maiúsculo, sem acento e sem caracteres especiais (ex.: \"ç\") | 5 | 10 | 14 | 4 | 1 | 0 | 0\n",
    "(7) nomes das cidades sem espaçamento | 8 | 13 | 8 | 7 | 1 | 0 | 0\n",
    "(8) nomes das cidades em minúsculo e sem espaçamento | 6 | 13 | 10 | 3 | 3 | 0 | 0\n",
    "(9) nomes das cidades em maiúsculo e sem espaçamento | 5 | 11 | 13 | 4 | 1 | 0 | 0\n",
    "(10) nomes das cidades sem espaçamento e sem caracteres especiais (acentos e \"ç\") | 6 | 11 | 12 | 5 | 1 | 0 | 0\n",
    "(11) nomes das cidades em minúsculo sem espaçamento e sem caracteres especiais (acentos e \"ç\") | 6 | 14 | 9 | 4 | 1 | 0 | 1\n",
    "(12) nomes das cidades em maiúsculo sem espaçamento e sem caracteres especiais (acentos e \"ç\") | 6 | 11 | 12 | 5 | 1 | 0 | 0\n",
    "\n",
    "*Combinação 2 (soma dos códigos ASCII das letras que estão nas posições ímpares da palavra)*\n",
    "\n",
    "Simulações | Número de colisões | Endereço com nenhuma cidade associada | Endereço com 1 cidade associada | Endereço com 2 cidades associadas | Endereço com 3 cidades associadas | Endereço com 4 cidades associadas | Endereço com 5 cidades associadas\n",
    ":---------: | :------: | :-------: | :-------: | :-------: | :-------: | :-------: | :-------: \n",
    "(1) nomes das cidades em seu formato original | 6 | 11 | 12 | 5 | 1 | 0 | 0\n",
    "(2) todos os nomes das cidades em minúsculo | 8 | 13 | 8 | 7 | 1 | 0 | 0\n",
    "(3) todos os nomes das cidades em maiúsculo | 5 | 12 | 12 | 3 | 1 | 1 | 0\n",
    "(4) nomes das cidades sem acento e sem caracteres especiais (ex.: \"ç\") | 7 | 13 | 9 | 5 | 2 | 0 | 0\n",
    "(5) nomes das cidades em minúsculo, sem acento e sem caracteres especiais (ex.: \"ç\") | 7 | 11 | 11 | 7 | 0 | 0 | 0\n",
    "(6) nomes das cidades em maiúsculo, sem acento e sem caracteres especiais (ex.: \"ç\") | 6 | 11 | 12 | 5 | 1 | 0 | 0\n",
    "(7) nomes das cidades sem espaçamento | 8 | 13 | 8 | 7 | 1 | 0 | 0\n",
    "(8) nomes das cidades em minúsculo e sem espaçamento | 7 | 13 | 9 | 5 | 2 | 0 | 0\n",
    "(9) nomes das cidades em maiúsculo e sem espaçamento | 8 | 13 | 8 | 7 | 1 | 0 | 0\n",
    "(10) nomes das cidades sem espaçamento e sem caracteres especiais (acentos e \"ç\") | 8 | 14 | 7 | 6 | 2 | 0 | 0\n",
    "(11) nomes das cidades em minúsculo sem espaçamento e sem caracteres especiais (acentos e \"ç\") | 7 | 13 | 9 | 5 | 2 | 0 | 0\n",
    "(12) nomes das cidades em maiúsculo sem espaçamento e sem caracteres especiais (acentos e \"ç\") | 6 | 13 | 10 | 4 | 1 | 1 | 0"
   ]
  },
  {
   "cell_type": "code",
   "execution_count": 30,
   "metadata": {},
   "outputs": [],
   "source": [
    "# Combinação 1: Considerando a posição dos elementos somente com base na soma dos valores ASCII de cada letra\n",
    "def ascii_number(key):\n",
    "    x = 0\n",
    "    for i in list(key):\n",
    "        ascii_code = ord(i)\n",
    "        x += ascii_code\n",
    "    return x"
   ]
  },
  {
   "cell_type": "code",
   "execution_count": 31,
   "metadata": {},
   "outputs": [],
   "source": [
    "# Combinação 2: Considerando a posição dos elementos somente com base na soma dos valores ASCII de cada letra que está\n",
    "#em posição ímpar\n",
    "from math import sqrt\n",
    "\n",
    "# Função para verificar se o valor é primo\n",
    "def isPrime(n):\n",
    "    if(n == 0 or n == 1):\n",
    "        return False\n",
    "    for i in range(2, int(sqrt(n)) + 1) :\n",
    "        if (n % i == 0):\n",
    "            return False\n",
    "    return True\n",
    "\n",
    "# Função para somar os valores do código ASCII dos elementos que ocupam posições ímpares\n",
    "def ascii_prime(key, n):\n",
    "    x = 0\n",
    "    for i in range(n):\n",
    "        if (isPrime(i + 1)):\n",
    "            x += ord(key[i])\n",
    "    return x"
   ]
  },
  {
   "cell_type": "code",
   "execution_count": 32,
   "metadata": {},
   "outputs": [],
   "source": [
    "m = 29"
   ]
  },
  {
   "cell_type": "markdown",
   "metadata": {},
   "source": [
    "**Simulação 1**: nomes das cidades em seu formato original"
   ]
  },
  {
   "cell_type": "code",
   "execution_count": 33,
   "metadata": {},
   "outputs": [],
   "source": [
    "city1 = ['Aimorés', 'Alfenas', 'Andradas', 'Araguari', 'Araxá', 'Arcos',\n",
    "         'Barbacena', 'Belo Horizonte', 'Betim', 'Boa Esperança', 'Bom Despacho', 'Brumadinho',\n",
    "         'Caeté', 'Caratinga', 'Conselheiro Lafaiete', 'Contagem', 'Coronel Fabriciano',\n",
    "         'Curvelo', 'Sabará', 'Santos Dumont', 'São Francisco', 'São João del Rei',\n",
    "         'São Lourenço', 'São Sebastião do Paraíso', 'Sete Lagoas']"
   ]
  },
  {
   "cell_type": "markdown",
   "metadata": {},
   "source": [
    "Combinação 1"
   ]
  },
  {
   "cell_type": "code",
   "execution_count": 34,
   "metadata": {},
   "outputs": [],
   "source": [
    "# Criaçaõ da tabela de hash com uma lista aninhada\n",
    "HashTable = [[] for _ in range(m)]"
   ]
  },
  {
   "cell_type": "code",
   "execution_count": 35,
   "metadata": {},
   "outputs": [
    {
     "name": "stdout",
     "output_type": "stream",
     "text": [
      "0 --> Araguari \n",
      "1 \n",
      "2 --> Alfenas --> Conselheiro Lafaiete --> Contagem \n",
      "3 --> São Lourenço \n",
      "4 --> Betim \n",
      "5 --> Caeté \n",
      "6 \n",
      "7 --> Caratinga \n",
      "8 \n",
      "9 --> Barbacena \n",
      "10 --> São Francisco \n",
      "11 --> Aimorés --> Arcos --> Curvelo \n",
      "12 --> Araxá \n",
      "13 --> São João del Rei \n",
      "14 \n",
      "15 --> Andradas \n",
      "16 \n",
      "17 --> Belo Horizonte --> Sete Lagoas \n",
      "18 --> Boa Esperança --> Brumadinho --> Sabará \n",
      "19 --> Santos Dumont \n",
      "20 --> Coronel Fabriciano \n",
      "21 \n",
      "22 --> São Sebastião do Paraíso \n",
      "23 --> Bom Despacho \n",
      "24 \n",
      "25 \n",
      "26 \n",
      "27 \n",
      "28 \n"
     ]
    }
   ],
   "source": [
    "for i in list(city1):\n",
    "    insertHash(HashTable, ascii_number(i), i)\n",
    "\n",
    "printHash(HashTable)"
   ]
  },
  {
   "cell_type": "markdown",
   "metadata": {},
   "source": [
    "Combinação 2"
   ]
  },
  {
   "cell_type": "code",
   "execution_count": 36,
   "metadata": {},
   "outputs": [],
   "source": [
    "# Criação da tabela de dispersão como lista aninhada\n",
    "HashTable = [[] for _ in range(m)]"
   ]
  },
  {
   "cell_type": "code",
   "execution_count": 37,
   "metadata": {},
   "outputs": [
    {
     "name": "stdout",
     "output_type": "stream",
     "text": [
      "0 --> Alfenas \n",
      "1 --> Araxá \n",
      "2 --> Caratinga --> Coronel Fabriciano \n",
      "3 --> Barbacena \n",
      "4 \n",
      "5 \n",
      "6 --> São Francisco \n",
      "7 --> Araguari --> Betim \n",
      "8 --> Aimorés --> Curvelo --> São Lourenço \n",
      "9 --> Arcos \n",
      "10 \n",
      "11 \n",
      "12 \n",
      "13 --> Contagem \n",
      "14 --> Bom Despacho \n",
      "15 \n",
      "16 --> Boa Esperança \n",
      "17 \n",
      "18 --> São João del Rei \n",
      "19 --> Sabará \n",
      "20 \n",
      "21 \n",
      "22 --> Conselheiro Lafaiete --> São Sebastião do Paraíso \n",
      "23 \n",
      "24 \n",
      "25 --> Caeté \n",
      "26 --> Santos Dumont --> Sete Lagoas \n",
      "27 --> Andradas --> Brumadinho \n",
      "28 --> Belo Horizonte \n"
     ]
    }
   ],
   "source": [
    "for i in list(city1):\n",
    "    insertHash(HashTable, ascii_prime(i, len(i)), i)\n",
    "\n",
    "printHash(HashTable)"
   ]
  },
  {
   "cell_type": "markdown",
   "metadata": {},
   "source": [
    "**Simulação 2**: todos os nomes das cidades em minúsculo"
   ]
  },
  {
   "cell_type": "code",
   "execution_count": 38,
   "metadata": {},
   "outputs": [],
   "source": [
    "city2 = ['aimorés', 'alfenas', 'andradas', 'araguari', 'araxá', 'arcos',\n",
    "         'barbacena', 'belo horizonte', 'betim', 'boa esperança', 'bom despacho',\n",
    "         'brumadinho', 'caeté', 'caratinga', 'conselheiro lafaiete', 'contagem',\n",
    "         'coronel fabriciano', 'curvelo', 'sabará', 'santos dumont',\n",
    "         'são francisco', 'são joão del rei', 'são lourenço', 'são sebastião do paraíso',\n",
    "         'sete lagoas']"
   ]
  },
  {
   "cell_type": "markdown",
   "metadata": {},
   "source": [
    "Combinação 1"
   ]
  },
  {
   "cell_type": "code",
   "execution_count": 39,
   "metadata": {},
   "outputs": [],
   "source": [
    "# Criaçaõ da tabela de hash com uma lista aninhada\n",
    "HashTable = [[] for _ in range(m)]"
   ]
  },
  {
   "cell_type": "code",
   "execution_count": 40,
   "metadata": {},
   "outputs": [
    {
     "name": "stdout",
     "output_type": "stream",
     "text": [
      "0 --> bom despacho \n",
      "1 \n",
      "2 --> são sebastião do paraíso \n",
      "3 --> araguari \n",
      "4 \n",
      "5 --> alfenas --> contagem \n",
      "6 \n",
      "7 --> betim \n",
      "8 --> caeté --> conselheiro lafaiete \n",
      "9 --> são lourenço \n",
      "10 --> caratinga \n",
      "11 \n",
      "12 --> barbacena \n",
      "13 \n",
      "14 --> aimorés --> arcos --> curvelo \n",
      "15 --> araxá \n",
      "16 --> são francisco \n",
      "17 \n",
      "18 --> andradas \n",
      "19 \n",
      "20 \n",
      "21 --> brumadinho --> sabará \n",
      "22 --> são joão del rei \n",
      "23 --> belo horizonte --> sete lagoas \n",
      "24 --> boa esperança \n",
      "25 --> santos dumont \n",
      "26 --> coronel fabriciano \n",
      "27 \n",
      "28 \n"
     ]
    }
   ],
   "source": [
    "for i in list(city2):\n",
    "    insertHash(HashTable, ascii_number(i), i)\n",
    "\n",
    "printHash(HashTable)"
   ]
  },
  {
   "cell_type": "markdown",
   "metadata": {},
   "source": [
    "Combinação 2"
   ]
  },
  {
   "cell_type": "code",
   "execution_count": 41,
   "metadata": {},
   "outputs": [],
   "source": [
    "# Criaçaõ da tabela de hash com uma lista aninhada\n",
    "HashTable = [[] for _ in range(m)]"
   ]
  },
  {
   "cell_type": "code",
   "execution_count": 42,
   "metadata": {},
   "outputs": [
    {
     "name": "stdout",
     "output_type": "stream",
     "text": [
      "0 --> alfenas \n",
      "1 --> araxá \n",
      "2 --> caratinga --> coronel fabriciano \n",
      "3 --> barbacena \n",
      "4 \n",
      "5 \n",
      "6 \n",
      "7 --> araguari --> betim \n",
      "8 --> aimorés --> curvelo \n",
      "9 --> arcos --> são francisco \n",
      "10 \n",
      "11 --> são lourenço \n",
      "12 \n",
      "13 --> contagem \n",
      "14 \n",
      "15 \n",
      "16 \n",
      "17 --> bom despacho \n",
      "18 \n",
      "19 --> boa esperança --> sabará \n",
      "20 \n",
      "21 --> são joão del rei \n",
      "22 \n",
      "23 \n",
      "24 \n",
      "25 --> caeté --> conselheiro lafaiete --> são sebastião do paraíso \n",
      "26 --> santos dumont --> sete lagoas \n",
      "27 --> andradas --> brumadinho \n",
      "28 --> belo horizonte \n"
     ]
    }
   ],
   "source": [
    "for i in list(city2):\n",
    "    insertHash(HashTable, ascii_prime(i, len(i)), i)\n",
    "\n",
    "printHash(HashTable)"
   ]
  },
  {
   "cell_type": "markdown",
   "metadata": {},
   "source": [
    "**Simulação 3**: todos os nomes das cidades em maiúsculo"
   ]
  },
  {
   "cell_type": "code",
   "execution_count": 43,
   "metadata": {},
   "outputs": [],
   "source": [
    "city3 = ['AIMORÉS', 'ALFENAS', 'ANDRADAS', 'ARAGUARI', 'ARAXÁ', 'ARCOS',\n",
    "        'BARBACENA', 'BELO HORIZONTE', 'BETIM', 'BOA ESPERANÇA', 'BOM DESPACHO', 'BRUMADINHO',\n",
    "         'CAETÉ', 'CARATINGA', 'CONSELHEIRO LAFAIETE', 'CONTAGEM', 'CORONEL FABRICIANO',\n",
    "         'CURVELO',  'SABARÁ', 'SANTOS DUMONT', 'SÃO FRANCISCO', 'SÃO JOÃO DEL REI',\n",
    "         'SÃO LOURENÇO', 'SÃO SEBASTIÃO DO PARAÍSO', 'SETE LAGOAS']"
   ]
  },
  {
   "cell_type": "markdown",
   "metadata": {},
   "source": [
    "Combinação 1"
   ]
  },
  {
   "cell_type": "code",
   "execution_count": 44,
   "metadata": {},
   "outputs": [],
   "source": [
    "# Criaçaõ da tabela de hash com uma lista aninhada\n",
    "HashTable = [[] for _ in range(m)]"
   ]
  },
  {
   "cell_type": "code",
   "execution_count": 45,
   "metadata": {},
   "outputs": [
    {
     "name": "stdout",
     "output_type": "stream",
     "text": [
      "0 --> ARAXÁ \n",
      "1 \n",
      "2 \n",
      "3 --> SABARÁ \n",
      "4 --> CORONEL FABRICIANO \n",
      "5 --> SÃO LOURENÇO \n",
      "6 \n",
      "7 \n",
      "8 --> ARAGUARI \n",
      "9 --> CONSELHEIRO LAFAIETE --> SÃO FRANCISCO \n",
      "10 --> CONTAGEM \n",
      "11 \n",
      "12 --> CARATINGA --> SÃO JOÃO DEL REI \n",
      "13 --> ALFENAS --> BELO HORIZONTE \n",
      "14 --> BARBACENA \n",
      "15 \n",
      "16 \n",
      "17 --> BOA ESPERANÇA \n",
      "18 --> SANTOS DUMONT \n",
      "19 \n",
      "20 --> BRUMADINHO \n",
      "21 --> BETIM \n",
      "22 --> AIMORÉS --> CAETÉ --> CURVELO --> SETE LAGOAS \n",
      "23 --> ANDRADAS \n",
      "24 \n",
      "25 --> BOM DESPACHO \n",
      "26 --> SÃO SEBASTIÃO DO PARAÍSO \n",
      "27 \n",
      "28 --> ARCOS \n"
     ]
    }
   ],
   "source": [
    "for i in list(city3):\n",
    "    insertHash(HashTable, ascii_number(i), i)\n",
    "\n",
    "printHash(HashTable)"
   ]
  },
  {
   "cell_type": "markdown",
   "metadata": {},
   "source": [
    "Combinação 2"
   ]
  },
  {
   "cell_type": "code",
   "execution_count": 46,
   "metadata": {},
   "outputs": [],
   "source": [
    "# Criaçaõ da tabela de hash com uma lista aninhada.\n",
    "HashTable = [[] for _ in range(m)]"
   ]
  },
  {
   "cell_type": "code",
   "execution_count": 47,
   "metadata": {},
   "outputs": [
    {
     "name": "stdout",
     "output_type": "stream",
     "text": [
      "0 --> ARCOS \n",
      "1 --> BOA ESPERANÇA --> CONSELHEIRO LAFAIETE --> CONTAGEM --> SÃO SEBASTIÃO DO PARAÍSO \n",
      "2 --> BOM DESPACHO \n",
      "3 \n",
      "4 \n",
      "5 \n",
      "6 --> SÃO JOÃO DEL REI \n",
      "7 \n",
      "8 \n",
      "9 \n",
      "10 --> CORONEL FABRICIANO --> SABARÁ \n",
      "11 --> SANTOS DUMONT \n",
      "12 \n",
      "13 --> BELO HORIZONTE \n",
      "14 --> SETE LAGOAS \n",
      "15 --> ANDRADAS --> BRUMADINHO \n",
      "16 --> CAETÉ \n",
      "17 --> ALFENAS \n",
      "18 \n",
      "19 --> CARATINGA \n",
      "20 --> BARBACENA --> SÃO FRANCISCO \n",
      "21 --> ARAXÁ \n",
      "22 \n",
      "23 \n",
      "24 --> ARAGUARI \n",
      "25 --> AIMORÉS --> CURVELO --> SÃO LOURENÇO \n",
      "26 \n",
      "27 --> BETIM \n",
      "28 \n"
     ]
    }
   ],
   "source": [
    "for i in list(city3):\n",
    "    insertHash(HashTable, ascii_prime(i, len(i)), i)\n",
    "\n",
    "printHash(HashTable)"
   ]
  },
  {
   "cell_type": "markdown",
   "metadata": {},
   "source": [
    "**Simulação 4**: nomes das cidades sem acento e sem caracteres especiais (ex.: \"ç\")"
   ]
  },
  {
   "cell_type": "code",
   "execution_count": 48,
   "metadata": {},
   "outputs": [],
   "source": [
    "city4 = ['Aimores', 'Alfenas', 'Andradas', 'Araguari', 'Araxa', 'Arcos',\n",
    "         'Barbacena', 'Belo Horizonte', 'Betim', 'Boa Esperanca', 'Bom Despacho', 'Brumadinho',\n",
    "         'Caete', 'Caratinga', 'Conselheiro Lafaiete', 'Contagem', 'Coronel Fabriciano', 'Curvelo',\n",
    "         'Sabara', 'Santos Dumont', 'Sao Francisco', 'Sao Joao del Rei', 'Sao Lourenco',\n",
    "         'Sao Sebastiao do Paraiso', 'Sete Lagoas']"
   ]
  },
  {
   "cell_type": "markdown",
   "metadata": {},
   "source": [
    "Combinação 1"
   ]
  },
  {
   "cell_type": "code",
   "execution_count": 49,
   "metadata": {},
   "outputs": [],
   "source": [
    "# Criaçaõ da tabela de hash com uma lista aninhada\n",
    "HashTable = [[] for _ in range(m)]"
   ]
  },
  {
   "cell_type": "code",
   "execution_count": 50,
   "metadata": {},
   "outputs": [
    {
     "name": "stdout",
     "output_type": "stream",
     "text": [
      "0 --> Araguari --> Araxa \n",
      "1 \n",
      "2 --> Alfenas --> Boa Esperanca --> Conselheiro Lafaiete --> Contagem --> Sao Lourenco \n",
      "3 \n",
      "4 --> Betim \n",
      "5 \n",
      "6 --> Sabara \n",
      "7 --> Caratinga --> Sao Sebastiao do Paraiso \n",
      "8 \n",
      "9 --> Barbacena \n",
      "10 \n",
      "11 --> Arcos --> Curvelo \n",
      "12 \n",
      "13 \n",
      "14 --> Sao Joao del Rei \n",
      "15 --> Andradas \n",
      "16 \n",
      "17 --> Belo Horizonte --> Sete Lagoas \n",
      "18 --> Brumadinho --> Caete \n",
      "19 --> Santos Dumont \n",
      "20 --> Coronel Fabriciano \n",
      "21 \n",
      "22 \n",
      "23 --> Bom Despacho \n",
      "24 --> Aimores \n",
      "25 --> Sao Francisco \n",
      "26 \n",
      "27 \n",
      "28 \n"
     ]
    }
   ],
   "source": [
    "for i in list(city4):\n",
    "    insertHash(HashTable, ascii_number(i), i)\n",
    "\n",
    "printHash(HashTable)"
   ]
  },
  {
   "cell_type": "markdown",
   "metadata": {},
   "source": [
    "Combinação 2"
   ]
  },
  {
   "cell_type": "code",
   "execution_count": 51,
   "metadata": {},
   "outputs": [],
   "source": [
    "# Criaçaõ da tabela de hash com uma lista aninhada\n",
    "HashTable = [[] for _ in range(m)]"
   ]
  },
  {
   "cell_type": "code",
   "execution_count": 52,
   "metadata": {},
   "outputs": [
    {
     "name": "stdout",
     "output_type": "stream",
     "text": [
      "0 --> Alfenas \n",
      "1 \n",
      "2 --> Caratinga --> Coronel Fabriciano \n",
      "3 --> Barbacena \n",
      "4 \n",
      "5 \n",
      "6 \n",
      "7 --> Araguari --> Betim --> Sao Lourenco \n",
      "8 --> Aimores --> Curvelo --> Sao Sebastiao do Paraiso \n",
      "9 --> Arcos --> Caete \n",
      "10 \n",
      "11 \n",
      "12 \n",
      "13 --> Contagem \n",
      "14 --> Bom Despacho \n",
      "15 \n",
      "16 --> Boa Esperanca \n",
      "17 \n",
      "18 --> Araxa \n",
      "19 --> Sabara --> Sao Joao del Rei \n",
      "20 \n",
      "21 --> Sao Francisco \n",
      "22 --> Conselheiro Lafaiete \n",
      "23 \n",
      "24 \n",
      "25 \n",
      "26 --> Santos Dumont --> Sete Lagoas \n",
      "27 --> Andradas --> Brumadinho \n",
      "28 --> Belo Horizonte \n"
     ]
    }
   ],
   "source": [
    "for i in list(city4):\n",
    "    insertHash(HashTable, ascii_prime(i, len(i)), i)\n",
    "\n",
    "printHash(HashTable)"
   ]
  },
  {
   "cell_type": "markdown",
   "metadata": {},
   "source": [
    "**Simulação 5**: nomes das cidades em minúsculo, sem acento e sem caracteres especiais (ex.: \"ç\")"
   ]
  },
  {
   "cell_type": "code",
   "execution_count": 53,
   "metadata": {},
   "outputs": [],
   "source": [
    "city5 = ['aimores', 'alfenas', 'andradas', 'araguari', 'araxa', 'arcos',\n",
    "         'barbacena', 'belo Horizonte', 'betim', 'boa esperanca', 'bom despacho', 'brumadinho',\n",
    "         'caete', 'caratinga', 'conselheiro lafaiete', 'contagem', 'coronel fabriciano', 'curvelo',\n",
    "         'sabara', 'santos dumont', 'sao francisco', 'sao joao del rei', 'sao lourenco',\n",
    "         'sao sebastiao do paraiso', 'sete lagoas']"
   ]
  },
  {
   "cell_type": "markdown",
   "metadata": {},
   "source": [
    "Combinação 1"
   ]
  },
  {
   "cell_type": "code",
   "execution_count": 54,
   "metadata": {},
   "outputs": [],
   "source": [
    "# Criaçaõ da tabela de hash com uma lista aninhada\n",
    "HashTable = [[] for _ in range(m)]"
   ]
  },
  {
   "cell_type": "code",
   "execution_count": 55,
   "metadata": {},
   "outputs": [
    {
     "name": "stdout",
     "output_type": "stream",
     "text": [
      "0 --> bom despacho \n",
      "1 \n",
      "2 --> sao francisco \n",
      "3 --> araguari --> araxa \n",
      "4 \n",
      "5 --> alfenas --> contagem \n",
      "6 \n",
      "7 --> betim \n",
      "8 --> boa esperanca --> conselheiro lafaiete --> sao lourenco \n",
      "9 --> sabara \n",
      "10 --> caratinga \n",
      "11 \n",
      "12 --> barbacena \n",
      "13 \n",
      "14 --> arcos --> curvelo \n",
      "15 \n",
      "16 --> sao sebastiao do paraiso \n",
      "17 \n",
      "18 --> andradas \n",
      "19 \n",
      "20 --> belo Horizonte \n",
      "21 --> brumadinho --> caete \n",
      "22 \n",
      "23 --> sao joao del rei --> sete lagoas \n",
      "24 \n",
      "25 --> santos dumont \n",
      "26 --> coronel fabriciano \n",
      "27 --> aimores \n",
      "28 \n"
     ]
    }
   ],
   "source": [
    "for i in list(city5):\n",
    "    insertHash(HashTable, ascii_number(i), i)\n",
    "\n",
    "printHash(HashTable)"
   ]
  },
  {
   "cell_type": "markdown",
   "metadata": {},
   "source": [
    "Combinação 2"
   ]
  },
  {
   "cell_type": "code",
   "execution_count": 56,
   "metadata": {},
   "outputs": [],
   "source": [
    "# Criaçaõ da tabela de hash com uma lista aninhada\n",
    "HashTable = [[] for _ in range(m)]"
   ]
  },
  {
   "cell_type": "code",
   "execution_count": 57,
   "metadata": {},
   "outputs": [
    {
     "name": "stdout",
     "output_type": "stream",
     "text": [
      "0 --> alfenas \n",
      "1 \n",
      "2 --> caratinga --> coronel fabriciano \n",
      "3 --> barbacena \n",
      "4 \n",
      "5 \n",
      "6 \n",
      "7 --> araguari --> betim \n",
      "8 --> aimores --> curvelo \n",
      "9 --> arcos --> caete \n",
      "10 --> sao lourenco \n",
      "11 --> sao sebastiao do paraiso \n",
      "12 \n",
      "13 --> contagem \n",
      "14 \n",
      "15 \n",
      "16 \n",
      "17 --> bom despacho \n",
      "18 --> araxa \n",
      "19 --> boa esperanca --> sabara \n",
      "20 \n",
      "21 \n",
      "22 --> sao joao del rei \n",
      "23 \n",
      "24 --> sao francisco \n",
      "25 --> conselheiro lafaiete \n",
      "26 --> santos dumont --> sete lagoas \n",
      "27 --> andradas --> brumadinho \n",
      "28 --> belo Horizonte \n"
     ]
    }
   ],
   "source": [
    "for i in list(city5):\n",
    "    insertHash(HashTable, ascii_prime(i, len(i)), i)\n",
    "\n",
    "printHash(HashTable)"
   ]
  },
  {
   "cell_type": "markdown",
   "metadata": {},
   "source": [
    "**Simulação 6**: nomes das cidades em maiúsculo, sem acento e sem caracteres especiais (ex.: \"ç\")"
   ]
  },
  {
   "cell_type": "code",
   "execution_count": 58,
   "metadata": {},
   "outputs": [],
   "source": [
    "city6 = ['AIMORES', 'ALFENAS', 'ANDRADAS', 'ARAGUARI', 'ARAXA', 'ARCOS',\n",
    "        'BARBACENA', 'BELO HORIZONTE', 'BETIM', 'BOA ESPERANCA', 'BOM DESPACHO', 'BRUMADINHO',\n",
    "        'CAETE', 'CARATINGA', 'CONSELHEIRO LAFAIETE', 'CONTAGEM', 'CORONEL FABRICIANO', 'CURVELO', \n",
    "        'SABARA', 'SANTOS DUMONT', 'SAO FRANCISCO', 'SAO JOAO DEL REI', 'SAO LOURENCO',\n",
    "         'SAO SEBASTIAO DO PARAISO', 'SETE LAGOAS']"
   ]
  },
  {
   "cell_type": "markdown",
   "metadata": {},
   "source": [
    "Combinação 1"
   ]
  },
  {
   "cell_type": "code",
   "execution_count": 59,
   "metadata": {},
   "outputs": [],
   "source": [
    "# Criaçaõ da tabela de hash com uma lista aninhada\n",
    "HashTable = [[] for _ in range(m)]"
   ]
  },
  {
   "cell_type": "code",
   "execution_count": 60,
   "metadata": {},
   "outputs": [
    {
     "name": "stdout",
     "output_type": "stream",
     "text": [
      "0 \n",
      "1 --> BOA ESPERANCA \n",
      "2 \n",
      "3 \n",
      "4 --> CORONEL FABRICIANO --> SAO LOURENCO \n",
      "5 \n",
      "6 --> AIMORES --> CAETE \n",
      "7 \n",
      "8 --> ARAGUARI \n",
      "9 --> CONSELHEIRO LAFAIETE \n",
      "10 --> CONTAGEM \n",
      "11 --> SAO SEBASTIAO DO PARAISO \n",
      "12 --> CARATINGA \n",
      "13 --> ALFENAS --> BELO HORIZONTE --> SAO JOAO DEL REI \n",
      "14 --> BARBACENA \n",
      "15 \n",
      "16 \n",
      "17 --> ARAXA \n",
      "18 --> SANTOS DUMONT \n",
      "19 \n",
      "20 --> BRUMADINHO --> SABARA \n",
      "21 --> BETIM \n",
      "22 --> CURVELO --> SETE LAGOAS \n",
      "23 --> ANDRADAS \n",
      "24 --> SAO FRANCISCO \n",
      "25 --> BOM DESPACHO \n",
      "26 \n",
      "27 \n",
      "28 --> ARCOS \n"
     ]
    }
   ],
   "source": [
    "for i in list(city6):\n",
    "    insertHash(HashTable, ascii_number(i), i)\n",
    "\n",
    "printHash(HashTable)"
   ]
  },
  {
   "cell_type": "markdown",
   "metadata": {},
   "source": [
    "Combinação 2"
   ]
  },
  {
   "cell_type": "code",
   "execution_count": 61,
   "metadata": {},
   "outputs": [],
   "source": [
    "# Criaçaõ da tabela de hash com uma lista aninhada\n",
    "HashTable = [[] for _ in range(m)]"
   ]
  },
  {
   "cell_type": "code",
   "execution_count": 62,
   "metadata": {},
   "outputs": [
    {
     "name": "stdout",
     "output_type": "stream",
     "text": [
      "0 --> ARCOS --> CAETE \n",
      "1 --> BOA ESPERANCA --> CONSELHEIRO LAFAIETE --> CONTAGEM \n",
      "2 --> BOM DESPACHO \n",
      "3 \n",
      "4 \n",
      "5 \n",
      "6 --> SAO FRANCISCO \n",
      "7 --> SAO JOAO DEL REI \n",
      "8 \n",
      "9 --> ARAXA \n",
      "10 --> CORONEL FABRICIANO --> SABARA \n",
      "11 --> SANTOS DUMONT \n",
      "12 \n",
      "13 --> BELO HORIZONTE \n",
      "14 --> SETE LAGOAS \n",
      "15 --> ANDRADAS --> BRUMADINHO \n",
      "16 --> SAO SEBASTIAO DO PARAISO \n",
      "17 --> ALFENAS \n",
      "18 \n",
      "19 --> CARATINGA \n",
      "20 --> BARBACENA \n",
      "21 \n",
      "22 \n",
      "23 \n",
      "24 --> ARAGUARI --> SAO LOURENCO \n",
      "25 --> AIMORES --> CURVELO \n",
      "26 \n",
      "27 --> BETIM \n",
      "28 \n"
     ]
    }
   ],
   "source": [
    "for i in list(city6):\n",
    "    insertHash(HashTable, ascii_prime(i, len(i)), i)\n",
    "\n",
    "printHash(HashTable)"
   ]
  },
  {
   "cell_type": "markdown",
   "metadata": {},
   "source": [
    "**Simulação 7**: nomes das cidades sem espaçamento"
   ]
  },
  {
   "cell_type": "code",
   "execution_count": 63,
   "metadata": {},
   "outputs": [],
   "source": [
    "city7 = ['Aimorés', 'Alfenas', 'Andradas', 'Araguari', 'Araxá', 'Arcos',\n",
    "         'Barbacena', 'BeloHorizonte', 'Betim', 'BoaEsperança', 'BomDespacho', 'Brumadinho',\n",
    "         'Caeté', 'Caratinga', 'ConselheiroLafaiete', 'Contagem', 'CoronelFabriciano', 'Curvelo', \n",
    "         'Sabará', 'SantosDumont', 'SãoFrancisco', 'SãoJoãodelRei', 'SãoLourenço',\n",
    "         'SãoSebastiãodoParaíso', 'SeteLagoas']"
   ]
  },
  {
   "cell_type": "markdown",
   "metadata": {},
   "source": [
    "Combinação 1"
   ]
  },
  {
   "cell_type": "code",
   "execution_count": 64,
   "metadata": {},
   "outputs": [],
   "source": [
    "# Criaçaõ da tabela de hash com uma lista aninhada\n",
    "HashTable = [[] for _ in range(m)]"
   ]
  },
  {
   "cell_type": "code",
   "execution_count": 65,
   "metadata": {},
   "outputs": [
    {
     "name": "stdout",
     "output_type": "stream",
     "text": [
      "0 --> Araguari --> SãoLourenço \n",
      "1 \n",
      "2 --> Alfenas --> Contagem \n",
      "3 \n",
      "4 --> Betim --> SãoJoãodelRei \n",
      "5 --> Caeté \n",
      "6 \n",
      "7 --> Caratinga --> SãoFrancisco \n",
      "8 \n",
      "9 --> Barbacena \n",
      "10 \n",
      "11 --> Aimorés --> Arcos --> Curvelo \n",
      "12 --> Araxá \n",
      "13 --> SãoSebastiãodoParaíso \n",
      "14 --> BeloHorizonte --> SeteLagoas \n",
      "15 --> Andradas --> BoaEsperança \n",
      "16 --> SantosDumont \n",
      "17 --> CoronelFabriciano \n",
      "18 --> Brumadinho --> Sabará \n",
      "19 \n",
      "20 --> BomDespacho \n",
      "21 \n",
      "22 \n",
      "23 \n",
      "24 \n",
      "25 \n",
      "26 \n",
      "27 \n",
      "28 --> ConselheiroLafaiete \n"
     ]
    }
   ],
   "source": [
    "for i in list(city7):\n",
    "    insertHash(HashTable, ascii_number(i), i)\n",
    "\n",
    "printHash(HashTable)"
   ]
  },
  {
   "cell_type": "markdown",
   "metadata": {},
   "source": [
    "Combinação 2"
   ]
  },
  {
   "cell_type": "code",
   "execution_count": 66,
   "metadata": {},
   "outputs": [],
   "source": [
    "# Criaçaõ da tabela de hash com uma lista aninhada\n",
    "HashTable = [[] for _ in range(m)]"
   ]
  },
  {
   "cell_type": "code",
   "execution_count": 67,
   "metadata": {},
   "outputs": [
    {
     "name": "stdout",
     "output_type": "stream",
     "text": [
      "0 --> Alfenas \n",
      "1 --> Araxá \n",
      "2 --> Caratinga \n",
      "3 --> Barbacena --> SantosDumont \n",
      "4 \n",
      "5 \n",
      "6 \n",
      "7 --> Araguari --> Betim --> SãoLourenço \n",
      "8 --> Aimorés --> Curvelo \n",
      "9 --> Arcos \n",
      "10 \n",
      "11 \n",
      "12 \n",
      "13 --> Contagem --> CoronelFabriciano \n",
      "14 \n",
      "15 \n",
      "16 \n",
      "17 --> BoaEsperança \n",
      "18 \n",
      "19 --> Sabará --> SeteLagoas \n",
      "20 \n",
      "21 \n",
      "22 --> BomDespacho --> SãoJoãodelRei \n",
      "23 --> SãoFrancisco \n",
      "24 --> ConselheiroLafaiete \n",
      "25 --> Caeté --> SãoSebastiãodoParaíso \n",
      "26 --> BeloHorizonte \n",
      "27 --> Andradas --> Brumadinho \n",
      "28 \n"
     ]
    }
   ],
   "source": [
    "for i in list(city7):\n",
    "    insertHash(HashTable, ascii_prime(i, len(i)), i)\n",
    "\n",
    "printHash(HashTable)"
   ]
  },
  {
   "cell_type": "markdown",
   "metadata": {},
   "source": [
    "**Simulação 8**: nomes das cidades em minúsculo e sem espaçamento"
   ]
  },
  {
   "cell_type": "code",
   "execution_count": 68,
   "metadata": {},
   "outputs": [],
   "source": [
    "city8 = ['aimorés', 'alfenas', 'andradas', 'araguari', 'araxá', 'arcos',\n",
    "         'barbacena', 'belohorizonte', 'betim', 'boaesperança', 'bomdespacho', 'brumadinho',\n",
    "         'caeté', 'caratinga', 'conselheirolafaiete', 'contagem', 'coronelfabriciano', 'curvelo',\n",
    "         'sabará', 'santosdumont', 'sãofrancisco', 'sãojoãodelrei', 'sãolourenço',\n",
    "         'sãosebastiãodoparaíso', 'setelagoas']"
   ]
  },
  {
   "cell_type": "markdown",
   "metadata": {},
   "source": [
    "Combinação 1"
   ]
  },
  {
   "cell_type": "code",
   "execution_count": 69,
   "metadata": {},
   "outputs": [],
   "source": [
    "# Criaçaõ da tabela de hash com uma lista aninhada\n",
    "HashTable = [[] for _ in range(m)]"
   ]
  },
  {
   "cell_type": "code",
   "execution_count": 70,
   "metadata": {},
   "outputs": [
    {
     "name": "stdout",
     "output_type": "stream",
     "text": [
      "0 \n",
      "1 \n",
      "2 \n",
      "3 --> araguari \n",
      "4 \n",
      "5 --> alfenas --> conselheirolafaiete --> contagem \n",
      "6 --> sãolourenço \n",
      "7 --> betim \n",
      "8 --> caeté \n",
      "9 \n",
      "10 --> caratinga \n",
      "11 \n",
      "12 --> barbacena \n",
      "13 --> sãofrancisco --> sãojoãodelrei \n",
      "14 --> aimorés --> arcos --> curvelo \n",
      "15 --> araxá \n",
      "16 \n",
      "17 \n",
      "18 --> andradas \n",
      "19 \n",
      "20 --> belohorizonte --> setelagoas \n",
      "21 --> boaesperança --> brumadinho --> sabará \n",
      "22 --> santosdumont --> sãosebastiãodoparaíso \n",
      "23 --> coronelfabriciano \n",
      "24 \n",
      "25 \n",
      "26 --> bomdespacho \n",
      "27 \n",
      "28 \n"
     ]
    }
   ],
   "source": [
    "for i in list(city8):\n",
    "    insertHash(HashTable, ascii_number(i), i)\n",
    "\n",
    "printHash(HashTable)"
   ]
  },
  {
   "cell_type": "markdown",
   "metadata": {},
   "source": [
    "Combinação 2"
   ]
  },
  {
   "cell_type": "code",
   "execution_count": 71,
   "metadata": {},
   "outputs": [],
   "source": [
    "# Criaçaõ da tabela de hash com uma lista aninhada\n",
    "HashTable = [[] for _ in range(m)]"
   ]
  },
  {
   "cell_type": "code",
   "execution_count": 72,
   "metadata": {},
   "outputs": [
    {
     "name": "stdout",
     "output_type": "stream",
     "text": [
      "0 --> alfenas --> belohorizonte \n",
      "1 --> araxá \n",
      "2 --> caratinga \n",
      "3 --> barbacena \n",
      "4 \n",
      "5 \n",
      "6 --> santosdumont \n",
      "7 --> araguari --> betim --> sãolourenço \n",
      "8 --> aimorés --> curvelo \n",
      "9 --> arcos \n",
      "10 \n",
      "11 \n",
      "12 \n",
      "13 --> contagem --> coronelfabriciano \n",
      "14 \n",
      "15 \n",
      "16 \n",
      "17 --> boaesperança \n",
      "18 \n",
      "19 --> sabará \n",
      "20 \n",
      "21 \n",
      "22 --> bomdespacho --> setelagoas \n",
      "23 --> sãofrancisco \n",
      "24 --> conselheirolafaiete \n",
      "25 --> caeté --> sãojoãodelrei --> sãosebastiãodoparaíso \n",
      "26 \n",
      "27 --> andradas --> brumadinho \n",
      "28 \n"
     ]
    }
   ],
   "source": [
    "for i in list(city8):\n",
    "    insertHash(HashTable, ascii_prime(i, len(i)), i)\n",
    "\n",
    "printHash(HashTable)"
   ]
  },
  {
   "cell_type": "markdown",
   "metadata": {},
   "source": [
    "**Simulação 9**: nomes das cidades em maiúsculo e sem espaçamento"
   ]
  },
  {
   "cell_type": "code",
   "execution_count": 73,
   "metadata": {},
   "outputs": [],
   "source": [
    "city9 = ['AIMORÉS', 'ALFENAS', 'ANDRADAS', 'ARAGUARI', 'ARAXÁ', 'ARCOS',\n",
    "         'BARBACENA', 'BELOHORIZONTE', 'BETIM', 'BOAESPERANÇA', 'BOMDESPACHO', 'BRUMADINHO',\n",
    "         'CAETÉ', 'CARATINGA', 'CONSELHEIROLAFAIETE', 'CONTAGEM', 'CORONELFABRICIANO', 'CURVELO', \n",
    "         'SABARÁ', 'SANTOSDUMONT', 'SÃOFRANCISCO', 'SÃOJOÃODELREI', 'SÃOLOURENÇO',\n",
    "         'SÃOSEBASTIÃODOPARAÍSO', 'SETELAGOAS']"
   ]
  },
  {
   "cell_type": "markdown",
   "metadata": {},
   "source": [
    "Combinação 1"
   ]
  },
  {
   "cell_type": "code",
   "execution_count": 74,
   "metadata": {},
   "outputs": [],
   "source": [
    "# Criaçaõ da tabela de hash com uma lista aninhada\n",
    "HashTable = [[] for _ in range(m)]"
   ]
  },
  {
   "cell_type": "code",
   "execution_count": 75,
   "metadata": {},
   "outputs": [
    {
     "name": "stdout",
     "output_type": "stream",
     "text": [
      "0 --> ARAXÁ \n",
      "1 --> CORONELFABRICIANO \n",
      "2 --> SÃOLOURENÇO \n",
      "3 --> SABARÁ --> SÃOJOÃODELREI \n",
      "4 \n",
      "5 \n",
      "6 --> CONSELHEIROLAFAIETE --> SÃOFRANCISCO \n",
      "7 \n",
      "8 --> ARAGUARI \n",
      "9 \n",
      "10 --> BELOHORIZONTE --> CONTAGEM \n",
      "11 \n",
      "12 --> CARATINGA \n",
      "13 --> ALFENAS \n",
      "14 --> BARBACENA --> BOAESPERANÇA \n",
      "15 --> SANTOSDUMONT \n",
      "16 \n",
      "17 --> SÃOSEBASTIÃODOPARAÍSO \n",
      "18 \n",
      "19 --> SETELAGOAS \n",
      "20 --> BRUMADINHO \n",
      "21 --> BETIM \n",
      "22 --> AIMORÉS --> BOMDESPACHO --> CAETÉ --> CURVELO \n",
      "23 --> ANDRADAS \n",
      "24 \n",
      "25 \n",
      "26 \n",
      "27 \n",
      "28 --> ARCOS \n"
     ]
    }
   ],
   "source": [
    "for i in list(city9):\n",
    "    insertHash(HashTable, ascii_number(i), i)\n",
    "\n",
    "printHash(HashTable)"
   ]
  },
  {
   "cell_type": "markdown",
   "metadata": {},
   "source": [
    "Combinação 2"
   ]
  },
  {
   "cell_type": "code",
   "execution_count": 76,
   "metadata": {},
   "outputs": [],
   "source": [
    "# Criaçaõ da tabela de hash com uma lista aninhada\n",
    "HashTable = [[] for _ in range(m)]"
   ]
  },
  {
   "cell_type": "code",
   "execution_count": 77,
   "metadata": {},
   "outputs": [
    {
     "name": "stdout",
     "output_type": "stream",
     "text": [
      "0 --> ARCOS --> CONSELHEIROLAFAIETE \n",
      "1 --> CONTAGEM --> SÃOSEBASTIÃODOPARAÍSO \n",
      "2 --> BOAESPERANÇA \n",
      "3 \n",
      "4 \n",
      "5 \n",
      "6 \n",
      "7 --> BOMDESPACHO --> SÃOJOÃODELREI \n",
      "8 --> SÃOFRANCISCO \n",
      "9 \n",
      "10 --> SABARÁ --> SETELAGOAS \n",
      "11 --> BELOHORIZONTE \n",
      "12 \n",
      "13 \n",
      "14 \n",
      "15 --> ANDRADAS --> BRUMADINHO \n",
      "16 --> CAETÉ \n",
      "17 --> ALFENAS \n",
      "18 \n",
      "19 --> CARATINGA \n",
      "20 --> BARBACENA --> SANTOSDUMONT \n",
      "21 --> ARAXÁ --> CORONELFABRICIANO --> SÃOLOURENÇO \n",
      "22 \n",
      "23 \n",
      "24 --> ARAGUARI \n",
      "25 --> AIMORÉS --> CURVELO \n",
      "26 \n",
      "27 --> BETIM \n",
      "28 \n"
     ]
    }
   ],
   "source": [
    "for i in list(city9):\n",
    "    insertHash(HashTable, ascii_prime(i, len(i)), i)\n",
    "\n",
    "printHash(HashTable)"
   ]
  },
  {
   "cell_type": "markdown",
   "metadata": {},
   "source": [
    "**Simulação 10**: nomes das cidades sem espaçamento e sem caracteres especiais (acentos e \"ç\")"
   ]
  },
  {
   "cell_type": "code",
   "execution_count": 78,
   "metadata": {},
   "outputs": [],
   "source": [
    "city10 = ['Aimores', 'Alfenas', 'Andradas', 'Araguari', 'Araxa', 'Arcos',\n",
    "          'Barbacena', 'BeloHorizonte', 'Betim', 'BoaEsperanca', 'BomDespacho', 'Brumadinho',\n",
    "          'Caete', 'Caratinga', 'ConselheiroLafaiete', 'Contagem', 'CoronelFabriciano', 'Curvelo',\n",
    "          'Sabara', 'SantosDumont', 'SaoFrancisco', 'SaoJoaodelRei', 'SaoLourenco',\n",
    "          'SaoSebastiaodoParaiso', 'SeteLagoas']"
   ]
  },
  {
   "cell_type": "markdown",
   "metadata": {},
   "source": [
    "Combinação 1"
   ]
  },
  {
   "cell_type": "code",
   "execution_count": 79,
   "metadata": {},
   "outputs": [],
   "source": [
    "# Criaçaõ da tabela de hash com uma lista aninhada\n",
    "HashTable = [[] for _ in range(m)]"
   ]
  },
  {
   "cell_type": "code",
   "execution_count": 80,
   "metadata": {},
   "outputs": [
    {
     "name": "stdout",
     "output_type": "stream",
     "text": [
      "0 --> Araguari --> Araxa \n",
      "1 \n",
      "2 --> Alfenas --> Contagem \n",
      "3 \n",
      "4 --> Betim \n",
      "5 --> SaoJoaodelRei \n",
      "6 --> Sabara \n",
      "7 --> Caratinga \n",
      "8 \n",
      "9 --> Barbacena \n",
      "10 \n",
      "11 --> Arcos --> Curvelo \n",
      "12 \n",
      "13 \n",
      "14 --> BeloHorizonte --> SeteLagoas \n",
      "15 --> Andradas \n",
      "16 --> SantosDumont \n",
      "17 --> CoronelFabriciano \n",
      "18 --> Brumadinho --> Caete \n",
      "19 \n",
      "20 --> BomDespacho \n",
      "21 \n",
      "22 --> SaoFrancisco \n",
      "23 \n",
      "24 --> Aimores \n",
      "25 \n",
      "26 \n",
      "27 --> SaoSebastiaodoParaiso \n",
      "28 --> BoaEsperanca --> ConselheiroLafaiete --> SaoLourenco \n"
     ]
    }
   ],
   "source": [
    "for i in list(city10):\n",
    "    insertHash(HashTable, ascii_number(i), i)\n",
    "\n",
    "printHash(HashTable)"
   ]
  },
  {
   "cell_type": "markdown",
   "metadata": {},
   "source": [
    "Combinação 2"
   ]
  },
  {
   "cell_type": "code",
   "execution_count": 81,
   "metadata": {},
   "outputs": [],
   "source": [
    "# Criaçaõ da tabela de hash com uma lista aninhada\n",
    "HashTable = [[] for _ in range(m)]"
   ]
  },
  {
   "cell_type": "code",
   "execution_count": 82,
   "metadata": {},
   "outputs": [
    {
     "name": "stdout",
     "output_type": "stream",
     "text": [
      "0 --> Alfenas \n",
      "1 --> BoaEsperanca \n",
      "2 --> Caratinga \n",
      "3 --> Barbacena --> SantosDumont \n",
      "4 \n",
      "5 \n",
      "6 \n",
      "7 --> Araguari --> Betim \n",
      "8 --> Aimores --> Curvelo --> SaoJoaodelRei \n",
      "9 --> Arcos --> Caete --> SaoFrancisco \n",
      "10 --> SaoSebastiaodoParaiso \n",
      "11 \n",
      "12 \n",
      "13 --> Contagem --> CoronelFabriciano \n",
      "14 \n",
      "15 \n",
      "16 \n",
      "17 \n",
      "18 --> Araxa \n",
      "19 --> Sabara --> SeteLagoas \n",
      "20 \n",
      "21 \n",
      "22 --> BomDespacho --> SaoLourenco \n",
      "23 \n",
      "24 --> ConselheiroLafaiete \n",
      "25 \n",
      "26 --> BeloHorizonte \n",
      "27 --> Andradas --> Brumadinho \n",
      "28 \n"
     ]
    }
   ],
   "source": [
    "for i in list(city10):\n",
    "    insertHash(HashTable, ascii_prime(i, len(i)), i)\n",
    "\n",
    "printHash(HashTable)"
   ]
  },
  {
   "cell_type": "markdown",
   "metadata": {},
   "source": [
    "**Simulação 11**: nomes das cidades em minúsculo sem espaçamento e sem caracteres especiais (acentos e \"ç\")"
   ]
  },
  {
   "cell_type": "code",
   "execution_count": 83,
   "metadata": {},
   "outputs": [],
   "source": [
    "city11 = ['aimores', 'alfenas', 'andradas', 'araguari', 'araxa', 'arcos',\n",
    "          'barbacena', 'belohorizonte', 'betim', 'boaesperanca', 'bomdespacho', 'brumadinho',\n",
    "          'caete', 'caratinga', 'conselheirolafaiete', 'contagem', 'coronelfabriciano', 'curvelo',\n",
    "          'sabara', 'santosdumont', 'saofrancisco', 'saojoaodelrei', 'saolourenco',\n",
    "          'saosebastiaodoparaiso', 'setelagoas']"
   ]
  },
  {
   "cell_type": "markdown",
   "metadata": {},
   "source": [
    "Combinação 1"
   ]
  },
  {
   "cell_type": "code",
   "execution_count": 84,
   "metadata": {},
   "outputs": [],
   "source": [
    "# Criaçaõ da tabela de hash com uma lista aninhada\n",
    "HashTable = [[] for _ in range(m)]"
   ]
  },
  {
   "cell_type": "code",
   "execution_count": 85,
   "metadata": {},
   "outputs": [
    {
     "name": "stdout",
     "output_type": "stream",
     "text": [
      "0 \n",
      "1 \n",
      "2 \n",
      "3 --> araguari --> araxa \n",
      "4 \n",
      "5 --> alfenas --> boaesperanca --> conselheirolafaiete --> contagem --> saolourenco \n",
      "6 \n",
      "7 --> betim --> saosebastiaodoparaiso \n",
      "8 \n",
      "9 --> sabara \n",
      "10 --> caratinga \n",
      "11 \n",
      "12 --> barbacena \n",
      "13 \n",
      "14 --> arcos --> curvelo --> saojoaodelrei \n",
      "15 \n",
      "16 \n",
      "17 \n",
      "18 --> andradas \n",
      "19 \n",
      "20 --> belohorizonte --> setelagoas \n",
      "21 --> brumadinho --> caete \n",
      "22 --> santosdumont \n",
      "23 --> coronelfabriciano \n",
      "24 \n",
      "25 \n",
      "26 --> bomdespacho \n",
      "27 --> aimores \n",
      "28 --> saofrancisco \n"
     ]
    }
   ],
   "source": [
    "for i in list(city11):\n",
    "    insertHash(HashTable, ascii_number(i), i)\n",
    "\n",
    "printHash(HashTable)"
   ]
  },
  {
   "cell_type": "markdown",
   "metadata": {},
   "source": [
    "Combinação 2"
   ]
  },
  {
   "cell_type": "code",
   "execution_count": 86,
   "metadata": {},
   "outputs": [],
   "source": [
    "# Criaçaõ da tabela de hash com uma lista aninhada\n",
    "HashTable = [[] for _ in range(m)]"
   ]
  },
  {
   "cell_type": "code",
   "execution_count": 87,
   "metadata": {
    "scrolled": false
   },
   "outputs": [
    {
     "name": "stdout",
     "output_type": "stream",
     "text": [
      "0 --> alfenas --> belohorizonte \n",
      "1 --> boaesperanca \n",
      "2 --> caratinga \n",
      "3 --> barbacena \n",
      "4 \n",
      "5 \n",
      "6 --> santosdumont \n",
      "7 --> araguari --> betim \n",
      "8 --> aimores --> curvelo \n",
      "9 --> arcos --> caete --> saofrancisco \n",
      "10 --> saosebastiaodoparaiso \n",
      "11 --> saojoaodelrei \n",
      "12 \n",
      "13 --> contagem --> coronelfabriciano \n",
      "14 \n",
      "15 \n",
      "16 \n",
      "17 \n",
      "18 --> araxa \n",
      "19 --> sabara \n",
      "20 \n",
      "21 \n",
      "22 --> bomdespacho --> saolourenco --> setelagoas \n",
      "23 \n",
      "24 --> conselheirolafaiete \n",
      "25 \n",
      "26 \n",
      "27 --> andradas --> brumadinho \n",
      "28 \n"
     ]
    }
   ],
   "source": [
    "for i in list(city11):\n",
    "    insertHash(HashTable, ascii_prime(i, len(i)), i)\n",
    "\n",
    "printHash(HashTable)"
   ]
  },
  {
   "cell_type": "markdown",
   "metadata": {},
   "source": [
    "**Simulação 12**: nomes das cidades em maiúsculo sem espaçamento e sem caracteres especiais (acentos e \"ç\")"
   ]
  },
  {
   "cell_type": "code",
   "execution_count": 88,
   "metadata": {},
   "outputs": [],
   "source": [
    "city12 = ['AIMORES', 'ALFENAS', 'ANDRADAS', 'ARAGUARI', 'ARAXA', 'ARCOS',\n",
    "          'BARBACENA', 'BELOHORIZONTE', 'BETIM', 'BOAESPERANCA', 'BOMDESPACHO', 'BRUMADINHO',\n",
    "          'CAETE', 'CARATINGA', 'CONSELHEIROLAFAIETE', 'CONTAGEM', 'CORONELFABRICIANO', 'CURVELO',\n",
    "          'SABARA', 'SANTOSDUMONT', 'SAOFRANCISCO', 'SAOJOAODELREI', 'SAOLOURENCO',\n",
    "          'SAOSEBASTIAODOPARAISO', 'SETELAGOAS']"
   ]
  },
  {
   "cell_type": "markdown",
   "metadata": {},
   "source": [
    "Combinação 1"
   ]
  },
  {
   "cell_type": "code",
   "execution_count": 89,
   "metadata": {},
   "outputs": [],
   "source": [
    "# Criaçaõ da tabela de hash com uma lista aninhada\n",
    "HashTable = [[] for _ in range(m)]"
   ]
  },
  {
   "cell_type": "code",
   "execution_count": 90,
   "metadata": {},
   "outputs": [
    {
     "name": "stdout",
     "output_type": "stream",
     "text": [
      "0 \n",
      "1 --> CORONELFABRICIANO --> SAOLOURENCO \n",
      "2 --> SAOSEBASTIAODOPARAISO \n",
      "3 \n",
      "4 --> SAOJOAODELREI \n",
      "5 \n",
      "6 --> AIMORES --> CAETE --> CONSELHEIROLAFAIETE \n",
      "7 \n",
      "8 --> ARAGUARI \n",
      "9 \n",
      "10 --> BELOHORIZONTE --> CONTAGEM \n",
      "11 \n",
      "12 --> CARATINGA \n",
      "13 --> ALFENAS \n",
      "14 --> BARBACENA \n",
      "15 --> SANTOSDUMONT \n",
      "16 \n",
      "17 --> ARAXA \n",
      "18 \n",
      "19 --> SETELAGOAS \n",
      "20 --> BRUMADINHO --> SABARA \n",
      "21 --> BETIM --> SAOFRANCISCO \n",
      "22 --> BOMDESPACHO --> CURVELO \n",
      "23 --> ANDRADAS \n",
      "24 \n",
      "25 \n",
      "26 \n",
      "27 --> BOAESPERANCA \n",
      "28 --> ARCOS \n"
     ]
    }
   ],
   "source": [
    "for i in list(city12):\n",
    "    insertHash(HashTable, ascii_number(i), i)\n",
    "\n",
    "printHash(HashTable)"
   ]
  },
  {
   "cell_type": "markdown",
   "metadata": {},
   "source": [
    "Combinação 2"
   ]
  },
  {
   "cell_type": "code",
   "execution_count": 91,
   "metadata": {},
   "outputs": [],
   "source": [
    "# Criaçaõ da tabela de hash com uma lista aninhada\n",
    "HashTable = [[] for _ in range(m)]"
   ]
  },
  {
   "cell_type": "code",
   "execution_count": 92,
   "metadata": {},
   "outputs": [
    {
     "name": "stdout",
     "output_type": "stream",
     "text": [
      "0 --> ARCOS --> CAETE --> CONSELHEIROLAFAIETE \n",
      "1 --> CONTAGEM \n",
      "2 \n",
      "3 \n",
      "4 \n",
      "5 \n",
      "6 \n",
      "7 --> BOMDESPACHO --> SAOLOURENCO \n",
      "8 \n",
      "9 --> ARAXA \n",
      "10 --> SABARA --> SETELAGOAS \n",
      "11 --> BELOHORIZONTE \n",
      "12 \n",
      "13 \n",
      "14 \n",
      "15 --> ANDRADAS --> BOAESPERANCA --> BRUMADINHO --> SAOSEBASTIAODOPARAISO \n",
      "16 \n",
      "17 --> ALFENAS \n",
      "18 \n",
      "19 --> CARATINGA \n",
      "20 --> BARBACENA --> SANTOSDUMONT \n",
      "21 --> CORONELFABRICIANO \n",
      "22 --> SAOJOAODELREI \n",
      "23 --> SAOFRANCISCO \n",
      "24 --> ARAGUARI \n",
      "25 --> AIMORES --> CURVELO \n",
      "26 \n",
      "27 --> BETIM \n",
      "28 \n"
     ]
    }
   ],
   "source": [
    "for i in list(city12):\n",
    "    insertHash(HashTable, ascii_prime(i, len(i)), i)\n",
    "\n",
    "printHash(HashTable)"
   ]
  },
  {
   "cell_type": "markdown",
   "metadata": {},
   "source": [
    "**Questão 7 (Questão de Pesquisa)**\n",
    "\n",
    "A estrutura `heap`é um tipo particular de árvore binária, onde (i) o valor em um nó não é menor do que os valores armazenados em seus filhos, (ii) a árvore é perfeitamente balanceada e as folhas do último nível estão todas nas posições mais à esquerda. Qual é o número de comparações e de trocas, no melhor caso, para se criar um heap usando (a) o método de Williams (Algorithm 232: Heapsort) e (b) o método de Floyd (Algorithm 245: Treesort 3)?\n",
    "\n",
    "**Contextualização**:\n",
    "\n",
    "Segundo Drozdeck (2013), o heap é um tipo particular de árvore binária que apresenta as seguintes propriedades (que definem um head de máximo):\n",
    "\n",
    "* O valor de cada nó é maior ou igual aos valores armazenados em cada um de seus filhos;\n",
    "\n",
    "* A árvore é perfeitamente balanceada e as folhas no último nível estão, todas, localizadas nas posições mais a esquerda.\n",
    "\n",
    "Obs.: no caso do heap de mínimo, o valor de cada nó será menor ou igual aos valores armazenados em cada um de seus filhos.\n",
    "\n",
    "A partir das informações supracitadas, é possível fazer uma comparação entre heap de máximo e heap de mínimo. Neste sentido, enquanto que no heap de máximo a raiz contém o maior elemento, no heap de mínimo a raíz contém o menor elemento. Por fim, o número de níveis de uma árvore que possui propriedade de heap é $O(\\log_2 n)$. Diante disso, as operações básicas são executadas em tempo que é, no máximo, proporcional à altura da árvore, demorando um tempo $O(\\log_2 n)$ para serem executadas (Cormen et al., 2012).\n",
    "\n",
    "Contudo, os elementos contidos em um heap não estão perfeitamente ordenados. Neste sentido, é conhecido somente que o maior elemento está na raiz e que, para cada nó, todos os seus descendentes são menores ou iguais ao referido nó (pai). \n",
    "\n",
    "**Resposta**:\n",
    "\n",
    "*Heapsort (método de Williams)* \n",
    "\n",
    "Segundo Tenembaum et al. (2004), o heapsprt é uma classificação in loco que exige somente $O(n \\log_2 n)$ operações independentemente da ordem de entrada. Visto que o próprio heap pode ser implementado dentro do vetor de entrada (utilizando uma implementação sequencial de árvore binária quase completa), o único espaço extra necessátio é para as variáveis do programa.\n",
    "\n",
    "Para a análise do heapsort, a árvore binária completa com $n$ nós (onde $n$ é um a menos que uma potência de 2) tem $\\log_2 (n+1)$ níveis. Por conseguinte, se cada elemento no vetor fosse uma folha, exigindo que fosse filtrado pela árvore interia dirante a criação e o ajuste do heap, a classificação ainda seria $O( n \\log_2 n)$.\n",
    "\n",
    "De acordo com Drozdeck (2013), heaps podem ser implementados como arrays e, nesse sentido, cada heap é um array (contudo, nem todo array é um heao). Diante disso, no heapsort é necessário converter um array em um heap, organizando o dado no array de modo que a organização resultante represente um heap. Uma forma de fazer é utilizando o método proposto por Williams (método de cima para baixo), onde inicia-se com um heap vazio e, posteriormente, os elementos são incluidos sequencialmente elementos em um heap em expansão. Assim, o heap é expandido empilhando novos elementos ao heap.\n",
    "\n",
    "Antes de analisar o melhor caso, é importante discutir acerca do pior caso, que ocorre quando um novo elemento adicionado tem de ser movido para a raiz da árvore, $\\left \\lfloor \\log_2 k \\right \\rfloor$ mudanças são realizadas em um heap de $k$ nós. Assim, se $n$ elementos são empilhados (considerando o pior caso),\n",
    "\n",
    "$$\n",
    "\\sum_{k=1}^n \\left \\lfloor \\log_2 k \\right \\rfloor \\leq \\sum_{k=1}^n \\log_2 k = \\log_2 1 + \\dots \\log_2 n = \\log_2 (n!) = O(n \\log_2 n)\n",
    "$$\n",
    "\n",
    "mudanças são realizads durante a execução do algoritmo e o mesmo número de comparações. Diante disso, é possível inferir que no melhor caso há zero mudanças, visto que espera-se que a adição do novo elemento não implique em movê-lo para a raiz da árvore (permancenedo no nível mais baixo do heap e, portanto, como folha). Por outro lado, o número de comparações é o mesmo do pior caso, ou seja, $O(n \\log_2 n)$, conforme mencionado anteriormente e em linha com o trabalho de Bollobás et al. (1996).\n",
    "\n",
    "*Treesort (método de Floyd)*\n",
    "\n",
    "Posteriormente, Floyd desenvolveu um algoritmo no qual o heap é construído de de baixo para cima. Assim, pequenos heaps são formados e repetidamente são concatenados aos heaps maiores (Drozdeck, 2013). Diante disso, o processo inicia-se a partir do último nó da folha (`data[(n/2) - 1]`), com $n$ sendo o tamanho do array. Se `data[(n/2) - 1]` é menor que seu nó filho, então é realizada a troca entre estes dois nós (nó pai e nó filho). Depois de realizar a troca, uma nova árvore (subárvore) é criada. Esse procedimento se repete até que nenhuma troca entre nós pai e filho seja necessária. Além disso, antes do elemento ser considerado, suas subárvores já foram convertidas em heaps.\n",
    "\n",
    "Assume-se que uma árvore binária completa é criada ($n=2^k-1$, para algum $k$). Para criar o heap, a função para fazer a troca entre os nós pai e filho é chamada $(n + 1)/2$, um para cada nó não folha. Contudo, antes de analisar o melhor caso, é importante discutir acerca do pior caso. No pior caso, esta função move o dado do próximo para o último nível, consistindo de $(n+1)/4$ nós, para baixo em um nível para o nível da folha, realizando $(n+1)/4$ trocas. Portanto, todos os nós deste nível fazem $(n+1)/4$ movimentos. Dados do segundo ao último nível, que tem $(n+1)/8$ nós, são movidos dois níveis abaixo para alcançar o nível das folhas. Portanto, os nós deste nível realizam $2.(n+1)/8$ movimentos e, assim por diante, até a raiz.\n",
    "\n",
    "A raiz da árvore, à medida que a árvore se torna um heap, é movida, no pior caso, $\\log_2(n+1)-1 = \\log_2(n+1)/2$ níveis abaixo da árvore para terminar em uma das folhas. Como há apenas uma raiz, isso contribui com $\\log_2 (n+1)/2$ movimentos. O número total de movimentos pode ser dado pela soma:\n",
    "\n",
    "$$\n",
    "\\sum_{i=2}^{\\log_2(n+1)} \\frac{n+1}{2^i}(i-1) = (n+1) \\sum_{i=2}^{\\log_2(n+1)} \\frac{i-1}{2^i}\n",
    "$$\n",
    "\n",
    "que é $O(n)$.\n",
    "\n",
    "Diante disso, é possível inferir que no melhor caso haja zero mudanças, visto que espera-se que a raiz da árvore não precisa ser movidaníveis abaixo da árvore para terminar em uma das folhas, ou seja, a árvore já se encontra balanceada. Por outro lado, o número de comparações é o mesmo observado para o melhor caso do algoritmo Heapsort, ou seja, $O(n \\log_2 n)$.\n",
    "\n",
    "Para um array que não é uma árvore binária completa, a complexidade é ainda mais limitada por $O(n)$. O pior caso para comparações é 2 vezes este valor, que também é $O(n)$, visto que para cada nó envolvido na troca entre nós pai e filho, os filhos são comparados aos outros para escolher o maior. Por outro lado, olhando para o melhor caso é possível inferir que o número de trocas continua zero, visto que é esperado que a árvore já esteja balanceada, e o número de comparações passa a ser $O(n)$."
   ]
  },
  {
   "cell_type": "markdown",
   "metadata": {},
   "source": [
    "**Referências**\n",
    "\n",
    "* Bollobás, B., Fenner, T.I., & Frieze, A.M. (1996). *On the Best Case of Heapsort.* Journal od Algorithms 20, pp. 205-217.\n",
    "\n",
    "* Celes, W., Cerqueira, R., & Rangel, J.L. (2016). *Introdução a Estrutura de Dados com técnicas de programação em C.* LTC - 2ª edição.\n",
    "\n",
    "* Cormen, T.H, Leiserson, C.E, Rivest, R.L, & Stein, C. (2012). *Algoritmos: Teoria e Prática*. Elsevier - 11ª tiragem.\n",
    "\n",
    "* Drozdek, A. (2013). *Data Structures and Algorithms in C++.* Cengage Learning - 4ª edição.\n",
    "\n",
    "* Tenenbaum, A.M, Langsam, Y., & Augenstein, M.J. (2004). *Estruturas de dados usando C.* Pearson Makron Books."
   ]
  }
 ],
 "metadata": {
  "interpreter": {
   "hash": "b3ba2566441a7c06988d0923437866b63cedc61552a5af99d1f4fb67d367b25f"
  },
  "kernelspec": {
   "display_name": "Python 3",
   "language": "python",
   "name": "python3"
  },
  "language_info": {
   "codemirror_mode": {
    "name": "ipython",
    "version": 3
   },
   "file_extension": ".py",
   "mimetype": "text/x-python",
   "name": "python",
   "nbconvert_exporter": "python",
   "pygments_lexer": "ipython3",
   "version": "3.8.8"
  }
 },
 "nbformat": 4,
 "nbformat_minor": 2
}
