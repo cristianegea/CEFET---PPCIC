{
 "cells": [
  {
   "cell_type": "markdown",
   "id": "58dfd55d",
   "metadata": {},
   "source": [
    "# Linked List com Python\n",
    "\n",
    "Fonte: https://medium.com/real-algorithms/linked-list-c-python-776ee340a357\n",
    "\n",
    "**Linked List**: estrutura de dados, conjunto de nós (node) ligados um ao outro, formando uma sequência.\n",
    "\n",
    "Head: topo da cabeça (refer-se ao primeiro nó)"
   ]
  },
  {
   "cell_type": "markdown",
   "id": "b211c8bd",
   "metadata": {},
   "source": [
    "## Implementação da classe Node\n",
    "\n",
    "Um objeto `node` necessita armazenar dois tipos de informação: um valor e a referência do próximo node."
   ]
  },
  {
   "cell_type": "code",
   "execution_count": 1,
   "id": "7389e3dc",
   "metadata": {},
   "outputs": [],
   "source": [
    "class Node:\n",
    "    def __init__(self, initial_data):\n",
    "        self.data = initial_data\n",
    "        self.next = None\n",
    "    \n",
    "    def get_data(self):\n",
    "        return self.data\n",
    "    \n",
    "    def set_data(self, new_data):\n",
    "        self.data = new_data\n",
    "        \n",
    "    def get_next(self):\n",
    "        return self.next\n",
    "    \n",
    "    def set_next(self, new_next):\n",
    "        self.next = new_next"
   ]
  },
  {
   "cell_type": "markdown",
   "id": "6d0cd335",
   "metadata": {},
   "source": [
    "O método `init` é utilizado para instanciar o objeto Node. Ao criar um objeto Node é realizada a inicialização e a atribuição de um valor ao objeto. Além desse valor, o objeto possui a referência do próximo objeto (`next`), mas é inicializado como `None`."
   ]
  },
  {
   "cell_type": "code",
   "execution_count": 2,
   "id": "6cbba0a6",
   "metadata": {},
   "outputs": [],
   "source": [
    "# Instanciando um objeto\n",
    "node1 = Node(10)\n",
    "node2 = Node(20)"
   ]
  },
  {
   "cell_type": "code",
   "execution_count": 3,
   "id": "273c121b",
   "metadata": {},
   "outputs": [
    {
     "name": "stdout",
     "output_type": "stream",
     "text": [
      "10\n"
     ]
    }
   ],
   "source": [
    "print(node1.get_data())"
   ]
  },
  {
   "cell_type": "code",
   "execution_count": 4,
   "id": "a72078d1",
   "metadata": {},
   "outputs": [
    {
     "name": "stdout",
     "output_type": "stream",
     "text": [
      "None\n"
     ]
    }
   ],
   "source": [
    "print(node1.get_next())"
   ]
  },
  {
   "cell_type": "code",
   "execution_count": 5,
   "id": "1bf2f143",
   "metadata": {},
   "outputs": [],
   "source": [
    "node1.set_data(30)\n",
    "node1.set_next(node2)"
   ]
  },
  {
   "cell_type": "markdown",
   "id": "9a6284fd",
   "metadata": {},
   "source": [
    "## Implementação da Linked List\n",
    "\n",
    "**Linked List**: estrutura de dados construída através de agrupamento de nós (nodes).\n",
    "\n",
    "Ao criar uma `linked list`, o objeto possui um atributo `head`, que inicialmente terá um valor `None`(quando estiver vazia) ou apontará para o próximo `node` (caso não esteja vazia)."
   ]
  },
  {
   "cell_type": "code",
   "execution_count": 6,
   "id": "b10c63c0",
   "metadata": {},
   "outputs": [],
   "source": [
    "# Instanciando um objeto linked list\n",
    "\n",
    "class LinkedList:\n",
    "    # Método init para instanciar um objeto linked list\n",
    "    def __init__(self):\n",
    "        self.head = None\n",
    "\n",
    "    # Método para adicionar um node com valor específico \n",
    "    def add(self, data):\n",
    "        node = Node(data)\n",
    "        node.set_next(self.head)\n",
    "        self.head = node\n",
    "    \n",
    "    # Método para retornar a quantidade de nodes que há na linked list\n",
    "    def size(self):\n",
    "        count = 0\n",
    "        current = self.head\n",
    "        \n",
    "        while current != None:\n",
    "            count += 1\n",
    "            current = current.get_next\n",
    "    \n",
    "        return count\n",
    "\n",
    "    # Método para procurar o item especificado e retornar um valor booleano\n",
    "    def search(self, data):\n",
    "        current = self.head\n",
    "        found = False\n",
    "        \n",
    "        while current != None and not found:\n",
    "            if current.get_data() == data:\n",
    "                found = True\n",
    "            else:\n",
    "                current = current.get_next()\n",
    "        return found\n",
    "    \n",
    "    # Método para remover o item especificado da linked list\n",
    "    def remove(self, data):\n",
    "        current = self.head\n",
    "        previous = None\n",
    "        found = False\n",
    "        \n",
    "        while not found:\n",
    "            if current.get_data() == item:\n",
    "                found = True\n",
    "            else:\n",
    "                previous = current\n",
    "                current = current.get_next()\n",
    "                \n",
    "        if previous == None:\n",
    "            self.head = current.get_next()\n",
    "        else:\n",
    "            previous.set_next(current.get_next())"
   ]
  },
  {
   "cell_type": "code",
   "execution_count": 7,
   "id": "1e9977c3",
   "metadata": {},
   "outputs": [],
   "source": [
    "# Criação de um objeto\n",
    "linked_list = LinkedList()"
   ]
  },
  {
   "cell_type": "code",
   "execution_count": 8,
   "id": "372fa175",
   "metadata": {},
   "outputs": [],
   "source": [
    "# Verificando de a linked list está vazia\n",
    "def is_empty(self):\n",
    "    return self.head == None"
   ]
  },
  {
   "cell_type": "code",
   "execution_count": 9,
   "id": "9b6bfefa",
   "metadata": {},
   "outputs": [],
   "source": [
    "# Inserção dos elementos\n",
    "LinkedList.add(linked_list, 77)\n",
    "LinkedList.add(linked_list,17)\n",
    "LinkedList.add(linked_list,93)\n",
    "LinkedList.add(linked_list,26)\n",
    "LinkedList.add(linked_list,54)"
   ]
  },
  {
   "cell_type": "code",
   "execution_count": 10,
   "id": "d3dcf8f2",
   "metadata": {},
   "outputs": [
    {
     "name": "stdout",
     "output_type": "stream",
     "text": [
      "54\n",
      "26\n",
      "93\n",
      "17\n",
      "77\n"
     ]
    }
   ],
   "source": [
    "node = linked_list.head\n",
    "while node:\n",
    "    print(node.data)\n",
    "    node = node.next"
   ]
  },
  {
   "cell_type": "code",
   "execution_count": 11,
   "id": "b566398e",
   "metadata": {},
   "outputs": [
    {
     "name": "stdout",
     "output_type": "stream",
     "text": [
      "[0, 1, 2, 3, 4, 5, 6, 7, 8, 9, 10, 12]\n"
     ]
    }
   ],
   "source": [
    "def uniao(listaA, listaB):\n",
    "    uniao = []\n",
    "    for i in listaA:\n",
    "        for j in listaB:\n",
    "                uniao.append(j)\n",
    "        else:\n",
    "            uniao.append(i)\n",
    "    return list(set(uniao))\n",
    "\n",
    "A = [1,2,3,4,5,6,7,8,9,10]\n",
    "B = [0,2,4,6,8,10,12]    \n",
    "C = uniao(A, B)\n",
    "print(C)"
   ]
  },
  {
   "cell_type": "code",
   "execution_count": 12,
   "id": "45e2cc2f",
   "metadata": {},
   "outputs": [],
   "source": [
    "linked_list = LinkedList()\n",
    "\n",
    "LinkedList.add(linked_list, 0)\n",
    "LinkedList.add(linked_list, 1)\n",
    "LinkedList.add(linked_list, 2)\n",
    "LinkedList.add(linked_list, 3)\n",
    "LinkedList.add(linked_list, 4)\n",
    "LinkedList.add(linked_list, 5)\n",
    "LinkedList.add(linked_list, 6)\n",
    "LinkedList.add(linked_list, 7)\n",
    "LinkedList.add(linked_list, 8)\n",
    "LinkedList.add(linked_list, 9)\n",
    "LinkedList.add(linked_list, 10)\n",
    "LinkedList.add(linked_list, 11)"
   ]
  },
  {
   "cell_type": "code",
   "execution_count": 13,
   "id": "d058b71e",
   "metadata": {},
   "outputs": [
    {
     "name": "stdout",
     "output_type": "stream",
     "text": [
      "11\n",
      "10\n",
      "9\n",
      "8\n",
      "7\n",
      "6\n",
      "5\n",
      "4\n",
      "3\n",
      "2\n",
      "1\n",
      "0\n"
     ]
    }
   ],
   "source": [
    "node = linked_list.head\n",
    "while node:\n",
    "    print(node.data)\n",
    "    node = node.next"
   ]
  }
 ],
 "metadata": {
  "kernelspec": {
   "display_name": "Python 3",
   "language": "python",
   "name": "python3"
  },
  "language_info": {
   "codemirror_mode": {
    "name": "ipython",
    "version": 3
   },
   "file_extension": ".py",
   "mimetype": "text/x-python",
   "name": "python",
   "nbconvert_exporter": "python",
   "pygments_lexer": "ipython3",
   "version": "3.8.8"
  }
 },
 "nbformat": 4,
 "nbformat_minor": 5
}
