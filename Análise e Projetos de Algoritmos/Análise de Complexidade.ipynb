{
 "metadata": {
  "language_info": {
   "codemirror_mode": {
    "name": "ipython",
    "version": 3
   },
   "file_extension": ".py",
   "mimetype": "text/x-python",
   "name": "python",
   "nbconvert_exporter": "python",
   "pygments_lexer": "ipython3",
   "version": "3.8.8"
  },
  "orig_nbformat": 4,
  "kernelspec": {
   "name": "python3",
   "display_name": "Python 3.8.8 64-bit ('base': conda)"
  },
  "interpreter": {
   "hash": "08401d0c45677436e5bc5ee65ec920b25bcc69968e1879505079a6c970af8614"
  }
 },
 "nbformat": 4,
 "nbformat_minor": 2,
 "cells": [
  {
   "source": [
    "# **Análise de Complexidade**\n",
    "\n",
    "fonte: https://algoritmosempython.com.br/cursos/algoritmos-python/analise-complexidade/intro-analise-complexidade/"
   ],
   "cell_type": "markdown",
   "metadata": {}
  },
  {
   "source": [
    "**Algoritmo**: sequência de passos para se completar uma tarefa, descritos de forma precisa o bastante para que um computador seja capaz de executá-los.\n",
    "\n",
    "**Objetivos de um algoritmo**:\n",
    "\n",
    "* Corretude: produzir uma solução correta para o problema.\n",
    "\n",
    "* Eficiência: utilizar os recursos computacionais de forma eficiente.\n",
    "\n",
    "Objetivo da análise de algoritmos: predizer o comportamento de um dado algoritmo.\n",
    "\n",
    "Análise de complexidade (ou análise de complexidade assintótica de algoritmos):\n",
    "\n",
    "* Ferramenta utilizada para medir a eficiência de algoritmos.\n",
    "\n",
    "* Visa predizer o tempo de execução do algoritmo ou seu consumo de memória, sem ter que implementá-lo e executá-lo em um computador específico.\n",
    "\n",
    "* Ferramenta poderosa quando há dois algoritmos e há a necessidade de decidir qual dos 2 é aquele que executa mais rápido. A análse de complexidade assintótica de um algoritmo permite decidir, de grosso modo, quão rápido ele é.\n",
    "\n"
   ],
   "cell_type": "markdown",
   "metadata": {}
  },
  {
   "source": [
    "**Comparação de 2 algoritmos que calculam a soma $s$ dos $n$ primeiros números inteiros**\n",
    "\n",
    "$$\n",
    "s = 1 + 2 + 3 + \\dots + (n-1) + n\n",
    "$$"
   ],
   "cell_type": "markdown",
   "metadata": {}
  },
  {
   "cell_type": "code",
   "execution_count": 1,
   "metadata": {},
   "outputs": [
    {
     "output_type": "stream",
     "name": "stdout",
     "text": [
      "A soma dos 10 primeiros números inteiros é 55\n"
     ]
    }
   ],
   "source": [
    "# 1º algoritmo\n",
    "def algoritmo_a(n):\n",
    "    s = 0\n",
    "    for i in range(1, n + 1):\n",
    "        for j in range(i, n + 1):\n",
    "            s = s + 1\n",
    "    return s\n",
    "\n",
    "resultado_a = algoritmo_a(10)\n",
    "print(\"A soma dos 10 primeiros números inteiros é\", resultado_a)"
   ]
  },
  {
   "cell_type": "code",
   "execution_count": 2,
   "metadata": {},
   "outputs": [
    {
     "output_type": "stream",
     "name": "stdout",
     "text": [
      "A soma dos 10 primeiros números inteiros é 55\n"
     ]
    }
   ],
   "source": [
    "# 2º algoritmo\n",
    "def algoritmo_b(n):\n",
    "    s = 0\n",
    "    for i in range(1, n + 1):\n",
    "        s = s + i    \n",
    "    return s\n",
    "\n",
    "resultado_b = algoritmo_b(10)\n",
    "print(\"A soma dos 10 primeiros números inteiros é\", resultado_b)"
   ]
  },
  {
   "source": [
    "Para avaliar qual é o algoritmo mais rápido é preciso analisar o custo computacional de cada um.\n",
    "\n",
    "Operações primitivas: possuem custo computacional desprezível.\n",
    "\n",
    "* Operações matemáticas: possuem custo computacional constante  (é possível considerá-las como tendo custo computacional igual a 1).\n",
    "\n",
    "* Funções que lidam com entrada/entrada de dados: possuem custo computacional constante.\n",
    "\n",
    "Obs.: uma operção primitiva é um comando ou sentença que realiza uma tarefa simples (adição, multiplicação, comparação, etc.) em variáveis simples (números ou caracteres, por exemplo).\n",
    "\n",
    "Uma linha de código que soma todos os elementos de um arranjo não é uma operação primitiva, não verdade possui uma complexidade linear no tamanho do arranjo, ou seja, complexidade = O(n).\n",
    "\n",
    "Com isso, é possível analisar `algoritmo_a` e `algoritmo_b`:\n",
    "\n",
    "* `algoritmo_a`: executa $~n^2$ operações, considerando que executa cerca de $n$ operações para cada valor de $i$ e cerca de $n$ operações para cada valor de $j$.\n",
    "\n",
    "* `algoritmo_b`: executa cerca de $n$ operações (uma operação para cada elemento $i$ no intervalo $[1,n]$ gerado pela função `range()`), ou seja, executa $~n$ operações.\n",
    "\n",
    "Obs.: na análise de complexidade de um algoritmo não são considerados as constantes ou termos menores no cálculo do número de operações. Isso é possível porque, ao analisar a complexidade assintótica de um algoritmo, a preocupação reside no tempo de execução do algoritmo para entradas muito grandes (quando o tamanho da entrada tende ao infinito). Quando isso acontece, o termo de maior ordem na função de complexidade do algoritmo domina, enquanto que os valores dos termos de menor ordem e das constantes serão insignificantes se comparados ao valor do termo de maior ordem.\n",
    "\n",
    "Ex.: se um algoritmo executa $2n^2 + 50n$, então, ignorando as constantes e os termos de menor ordem, ele executa $~n^2$ operações.\n",
    "\n",
    "Ex.: se um algoritmo realiza $100n$ operações, então ele executa $~n$ operações.\n",
    "\n",
    "Assim, retornando à comparação entre `algoritmo_a`e `algoritmo_b`, o `algoritmo_b` é mais rápido e mais eficiente."
   ],
   "cell_type": "markdown",
   "metadata": {}
  },
  {
   "source": [
    "É possível escrever um algoritmo ainda mais eficiente e mesma complexidade (`algoritmo_c`)."
   ],
   "cell_type": "markdown",
   "metadata": {}
  },
  {
   "cell_type": "code",
   "execution_count": 3,
   "metadata": {},
   "outputs": [
    {
     "output_type": "stream",
     "name": "stdout",
     "text": [
      "A soma dos 10 primeiros números inteiros é 55\n"
     ]
    }
   ],
   "source": [
    "def algoritmo_c(n):\n",
    "    return n * (n - 1) // 2\n",
    "\n",
    "resultado_c = algoritmo_c(11)\n",
    "print(\"A soma dos 10 primeiros números inteiros é\", resultado_c)\n",
    "\n",
    "# esta fórmula começa a contar os números a partir de zero (totalizando 11 números)"
   ]
  },
  {
   "source": [
    "Em resumo, na análise de complexidade assintótica recomenda-se descartar fatores constantes e termos de menor ordem."
   ],
   "cell_type": "markdown",
   "metadata": {}
  },
  {
   "source": [
    "**Tipos de Análise de Complexidade**\n",
    "\n",
    "* **Melhor Caso**: o algoritmo retorna a resposta certa realizando a menor quantidade de trabalho possível. Ex.: se o elemento procurando em uma estrutura de dados é o primeiro que foi localizado, então a pesquisa caiu no melhor caso.\n",
    "\n",
    "* **Caso Médio**: informa o desempenho do algoritmo na média, ou seja, informa o desempenho do algoritmo para uma entrada típica do algoritmo. Em muitas situações, a complexidade no caso médio é a mesma do pior caso, logo os esforços serão concentrados nas análises de pior caso.\n",
    "\n",
    "* **Pior Caso**: informa o desempenho do algoritmo na pior entrada possível, ou seja, na entrada que faz com que o algoritmo demore a maior quantidade de tempo para retornar a resposta correta. Fornece uma visão pessimista sobre o desempenho do algoritmo. Neste caso, a função de complexidade informa que o algoritmo terá um desempenho pelo menos tão bom quanto o indicado pela sua função de complexidade."
   ],
   "cell_type": "markdown",
   "metadata": {}
  },
  {
   "source": [
    "# **Notação Big *O***\n",
    "\n",
    "**Notaçaõ big-oh (notação *O*)**:\n",
    "\n",
    "* Principal ferramenta utilizada para analisar a complexidade assintótica.\n",
    "\n",
    "* Fornece um limite superior para o tempo de execução do algoritmo.\n",
    "\n",
    "Retornando ao exemplo anterior, o `algoritmo_a` possui complexidade $O(n^2)$ e o `algoritmo_b` possui complexidade $O(n)$.\n",
    "\n",
    "Algoritmo $O(n)$: há uma constante positiva $c$ pela qual é possível multiplicar $n$ e esta nova função, $g(n) = c \\times n$ é um limite superior para o tempo de execução do algoritmo em questão.\n",
    "\n",
    "<img src=\"img/img01.png\">\n",
    "\n",
    "**Definição**: Dizer que $f(n) = O(g(n))$ significa que existe constante positiva $c$ tal que $f(n) \\leq c \\times g(n)$, para algum $n$ maior que $n_0$. O ponto $n_0$ é o ponto no gráfico acima em que a curva da função $f(n)$ intercepta a curva da função $g(n)$.\n",
    "\n",
    "No exemplo anterior, é possível dizer que o `algoritmo_a` é $O(n)$ porque, dado que ele executa cerca de $n$ operações, é possível escolher uma constante positiva $c=2$, de modo que $g(n) = c \\times n$ sempre será maior que $f(n) = n$. Raciocínio semelhante pode ser aplicado ao `algoritmo_b`, para concluir que ele possui complexidade $O(n^2)$.\n",
    "\n",
    "Pelo gráfico acima é possível observar que a função $g(n)$ cresce mais rapidamente que $f(n)$, pois a curva de $g(n)$ está acima de $f(n)$, a partir de um dado valor de $n$. Nesse caso, $g(n)$ domina assintoticamente $f(n)$ (em outras palavras, $g(n)$ é assintoticamente superior a $f(n)$). Matematicamente,\n",
    "\n",
    "$$\n",
    "\\lim_{n \\rightarrow \\infty} \\frac{g(n)}{f(n)} = \\infty\n",
    "$$\n",
    "\n",
    "Em termos de comparação, se uma função $f(n)$ é $O(g(n))$, então $f(n) \\leq g(n)$.\n",
    "\n",
    "Operações matemáticas entre 2 funções de complexidade:\n",
    "\n",
    "* Soma: $O(f(n)) + O(g(n)) = O(\\max(f(n),g(n)))$\n",
    "\n",
    "* Multiplicação: $O(f(n)) * O(g(n)) = O(f(n)*g(n))$\n",
    "\n",
    "Obs.: apesar da função $O$ ser utilizada para localizar o limite superior do tempo de execução de um algoritmo, há situações em que é necessário dizer qual é o limite inferior do tempo de execução de um algoritmo. Para este caso, utiliza-se a função $\\Omega$.\n",
    "\n",
    "**Definição**: Dizer que $f(n) = \\Omega(g(n))$ significa que há uma constante positiva $c$ tal que $g(n) \\leq c \\times f(n)$.\n",
    "\n",
    "Se uma função $f(n)$ satisfaz tanto $f(n) = O(g(n))$ quanto $f(n) = \\Omega (g(n))$, então $f(n) = \\Theta(g(n))$. Neste caso, a função $\\Theta$ fornece um limite inferior e superior (um limite mais firme e preciso) para o tempo de execução de um algoritmo. As funções $O$, $\\Theta$ e $\\Omega$ correspondem, respectivamente, $\\leq$, $=$, $\\geq$."
   ],
   "cell_type": "markdown",
   "metadata": {}
  },
  {
   "source": [
    "# **Regras para Análise de Complexidade**\n",
    "\n",
    "De modo geral, é possível pensar na complexidade de um algoritmo como o somatório das complexidades de todos os fragmentos de código que o compõem.\n",
    "\n",
    "* Sentenças simples: possuem complexidade constante, ou seja, $O(1)$\n",
    "\n",
    "* Laços simples: possuem complexidade linear no tamanho da entrada, ou seja, $O(n)$, em que $n$ é o tamanho da entrada.\n",
    "\n",
    "* Laços aninhados: possuem complexidade quadrática no tamanho da entrada, ou seja, $O(n^2)$, em que $n$ é o tamanho da entrada."
   ],
   "cell_type": "markdown",
   "metadata": {}
  },
  {
   "cell_type": "code",
   "execution_count": 4,
   "metadata": {},
   "outputs": [],
   "source": [
    "# Exemplo de complexidade constante (sentença simples)\n",
    "s = 'Brasil'\n",
    "i = 42\n",
    "i += 1"
   ]
  },
  {
   "cell_type": "code",
   "execution_count": null,
   "metadata": {},
   "outputs": [],
   "source": [
    "# Exemplo de complexidade linear (laço simples)\n",
    "for i in range(n):\n",
    "    # Sentenças simples"
   ]
  },
  {
   "cell_type": "code",
   "execution_count": null,
   "metadata": {},
   "outputs": [],
   "source": [
    "# Exemplo de laços aninhados\n",
    "for i in range(n):\n",
    "    for j in range(n):\n",
    "        # Sentenças simples"
   ]
  },
  {
   "cell_type": "code",
   "execution_count": null,
   "metadata": {},
   "outputs": [],
   "source": [
    "# Exemplo de complexidade O(n^2)\n",
    "def f(n, condicao):\n",
    "    a = \"Ordem e Progresso\"\n",
    "    if condicao:\n",
    "        for i in range(n):\n",
    "            # Sentenças simples\n",
    "    else:\n",
    "        for i in range(n):\n",
    "            for j in range(n):\n",
    "                # Sentenças simples\n",
    "\n",
    "\"\"\"\n",
    "    Pensando no pior caso (quando o else é executado), a complexidade é O(n^2).\n",
    "    São desconsiderados os trechos com complexidade constante (atribução de variável e condicionais) e termos\n",
    "    de menor ordem (laço simples)\n",
    "\"\"\""
   ]
  },
  {
   "cell_type": "code",
   "execution_count": null,
   "metadata": {},
   "outputs": [],
   "source": [
    "# Exemplo de termos aninhados - complexidade O(n^2)\n",
    "a = 0\n",
    "for i in range(n):\n",
    "    for j in range(i + 1, n):\n",
    "        a = a + i + j\n",
    "print(a)"
   ]
  },
  {
   "cell_type": "code",
   "execution_count": null,
   "metadata": {},
   "outputs": [],
   "source": [
    "# Exemplo de termos aninhados - complexidade O(n^3)\n",
    "a = 0\n",
    "for i in range(n):\n",
    "    for j in range(n):\n",
    "        for k in range(n):\n",
    "            a = a + i + j + k\n",
    "print(a)\n",
    "\n",
    "\"\"\"\n",
    "    Nem todo laço aninhado possui complexidade polinomial\n",
    "\"\"\""
   ]
  }
 ]
}